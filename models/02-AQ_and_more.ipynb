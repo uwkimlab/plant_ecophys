{
 "cells": [
  {
   "cell_type": "markdown",
   "metadata": {},
   "source": [
    "# Leaf photosynthetic and stomatal responses to light, temperature, humidity, and soil moisture in C3 plants"
   ]
  },
  {
   "cell_type": "code",
   "execution_count": 1,
   "metadata": {
    "jupyter": {
     "source_hidden": true
    },
    "tags": []
   },
   "outputs": [
    {
     "data": {
      "application/vnd.webio.node+json": {
       "children": [],
       "instanceArgs": {
        "namespace": "html",
        "tag": "div"
       },
       "nodeType": "DOM",
       "props": {},
       "type": "node"
      },
      "text/html": [
       "<div style=\"padding: 1em; background-color: #f8d6da; border: 1px solid #f5c6cb; font-weight: bold;\">\n",
       "<p>The WebIO Jupyter extension was not detected. See the\n",
       "<a href=\"https://juliagizmos.github.io/WebIO.jl/latest/providers/ijulia/\" target=\"_blank\">\n",
       "    WebIO Jupyter integration documentation\n",
       "</a>\n",
       "for more information.\n",
       "</div>\n"
      ],
      "text/plain": [
       "WebIO._IJuliaInit()"
      ]
     },
     "metadata": {
      "@webio": {
       "kernelId": "8436a56f-e476-4e97-9154-247f9c1a8fbe"
      }
     },
     "output_type": "display_data"
    }
   ],
   "source": [
    "using Cropbox"
   ]
  },
  {
   "cell_type": "code",
   "execution_count": 2,
   "metadata": {
    "jupyter": {
     "source_hidden": true
    },
    "tags": []
   },
   "outputs": [],
   "source": [
    "using LeafGasExchange"
   ]
  },
  {
   "cell_type": "code",
   "execution_count": 3,
   "metadata": {
    "jupyter": {
     "source_hidden": true
    },
    "tags": []
   },
   "outputs": [
    {
     "data": {
      "application/vnd.webio.node+json": {
       "children": [],
       "instanceArgs": {
        "namespace": "html",
        "tag": "div"
       },
       "nodeType": "DOM",
       "props": {},
       "type": "node"
      },
      "text/html": [
       "<div style=\"padding: 1em; background-color: #f8d6da; border: 1px solid #f5c6cb; font-weight: bold;\">\n",
       "<p>The WebIO Jupyter extension was not detected. See the\n",
       "<a href=\"https://juliagizmos.github.io/WebIO.jl/latest/providers/ijulia/\" target=\"_blank\">\n",
       "    WebIO Jupyter integration documentation\n",
       "</a>\n",
       "for more information.\n",
       "</div>\n"
      ],
      "text/plain": [
       "WebIO._IJuliaInit()"
      ]
     },
     "metadata": {
      "@webio": {
       "kernelId": "8436a56f-e476-4e97-9154-247f9c1a8fbe"
      }
     },
     "output_type": "display_data"
    }
   ],
   "source": [
    "Cropbox.Interact.WebIO.setup(:ijulia)"
   ]
  },
  {
   "cell_type": "markdown",
   "metadata": {},
   "source": [
    "## Model Preparation"
   ]
  },
  {
   "cell_type": "markdown",
   "metadata": {},
   "source": [
    "### Setting up configurations"
   ]
  },
  {
   "cell_type": "code",
   "execution_count": 4,
   "metadata": {
    "jupyter": {
     "source_hidden": true
    },
    "tags": []
   },
   "outputs": [
    {
     "data": {
      "text/html": [
       "<p style=\"font-family: monospace\">Config for 1 system:</p>\n",
       "<table style=\"font-family: monospace\">\n",
       "<tr style=\"background-color: transparent\">\n",
       "<td colspan=\"3\" style=\"text-align: left; padding: 2px; padding-left: 20px; color: rebeccapurple\">Weather</th>\n",
       "</tr>\n",
       "<tr style=\"background-color: transparent\"><td style=\"text-align: left; padding: 2px; padding-left: 40px; color: royalblue\">PFD</td><td style=\"text-align: center; padding: 2px 10px 2px 10px; color: gray\">=</td><td style=\"text-align: left; padding: 2px;\">nothing</td></tr>\n",
       "<tr style=\"background-color: transparent\"><td style=\"text-align: left; padding: 2px; padding-left: 40px; color: royalblue\">CO2</td><td style=\"text-align: center; padding: 2px 10px 2px 10px; color: gray\">=</td><td style=\"text-align: left; padding: 2px;\">nothing</td></tr>\n",
       "<tr style=\"background-color: transparent\"><td style=\"text-align: left; padding: 2px; padding-left: 40px; color: royalblue\">RH</td><td style=\"text-align: center; padding: 2px 10px 2px 10px; color: gray\">=</td><td style=\"text-align: left; padding: 2px;\">nothing</td></tr>\n",
       "<tr style=\"background-color: transparent\"><td style=\"text-align: left; padding: 2px; padding-left: 40px; color: royalblue\">T_air</td><td style=\"text-align: center; padding: 2px 10px 2px 10px; color: gray\">=</td><td style=\"text-align: left; padding: 2px;\">nothing</td></tr>\n",
       "<tr style=\"background-color: transparent\"><td style=\"text-align: left; padding: 2px; padding-left: 40px; color: royalblue\">wind</td><td style=\"text-align: center; padding: 2px 10px 2px 10px; color: gray\">=</td><td style=\"text-align: left; padding: 2px;\">nothing</td></tr>\n",
       "<tr style=\"background-color: transparent\"><td style=\"text-align: left; padding: 2px; padding-left: 40px; color: royalblue\">P_air</td><td style=\"text-align: center; padding: 2px 10px 2px 10px; color: gray\">=</td><td style=\"text-align: left; padding: 2px;\">100 kPa</td></tr>\n",
       "</table>\n"
      ],
      "text/plain": [
       "Config for 1 system:\n",
       "  \u001b[95mWeather\u001b[39m\n",
       "    \u001b[94mPFD  \u001b[39m\u001b[90m = \u001b[39mnothing\n",
       "    \u001b[94mCO2  \u001b[39m\u001b[90m = \u001b[39mnothing\n",
       "    \u001b[94mRH   \u001b[39m\u001b[90m = \u001b[39mnothing\n",
       "    \u001b[94mT_air\u001b[39m\u001b[90m = \u001b[39mnothing\n",
       "    \u001b[94mwind \u001b[39m\u001b[90m = \u001b[39mnothing\n",
       "    \u001b[94mP_air\u001b[39m\u001b[90m = \u001b[39m100 kPa"
      ]
     },
     "execution_count": 4,
     "metadata": {},
     "output_type": "execute_result"
    }
   ],
   "source": [
    "parameters(LeafGasExchange.Weather)"
   ]
  },
  {
   "cell_type": "code",
   "execution_count": 5,
   "metadata": {
    "jupyter": {
     "source_hidden": true
    },
    "tags": []
   },
   "outputs": [
    {
     "data": {
      "text/html": [
       "<p style=\"font-family: monospace\">Config for 1 system:</p>\n",
       "<table style=\"font-family: monospace\">\n",
       "<tr style=\"background-color: transparent\">\n",
       "<td colspan=\"3\" style=\"text-align: left; padding: 2px; padding-left: 20px; color: rebeccapurple\">Weather</th>\n",
       "</tr>\n",
       "<tr style=\"background-color: transparent\"><td style=\"text-align: left; padding: 2px; padding-left: 40px; color: royalblue\">PFD</td><td style=\"text-align: center; padding: 2px 10px 2px 10px; color: gray\">=</td><td style=\"text-align: left; padding: 2px;\">1500</td></tr>\n",
       "<tr style=\"background-color: transparent\"><td style=\"text-align: left; padding: 2px; padding-left: 40px; color: royalblue\">CO2</td><td style=\"text-align: center; padding: 2px 10px 2px 10px; color: gray\">=</td><td style=\"text-align: left; padding: 2px;\">425</td></tr>\n",
       "<tr style=\"background-color: transparent\"><td style=\"text-align: left; padding: 2px; padding-left: 40px; color: royalblue\">RH</td><td style=\"text-align: center; padding: 2px 10px 2px 10px; color: gray\">=</td><td style=\"text-align: left; padding: 2px;\">60</td></tr>\n",
       "<tr style=\"background-color: transparent\"><td style=\"text-align: left; padding: 2px; padding-left: 40px; color: royalblue\">T_air</td><td style=\"text-align: center; padding: 2px 10px 2px 10px; color: gray\">=</td><td style=\"text-align: left; padding: 2px;\">25</td></tr>\n",
       "<tr style=\"background-color: transparent\"><td style=\"text-align: left; padding: 2px; padding-left: 40px; color: royalblue\">wind</td><td style=\"text-align: center; padding: 2px 10px 2px 10px; color: gray\">=</td><td style=\"text-align: left; padding: 2px;\">2.0</td></tr>\n",
       "</table>\n"
      ],
      "text/plain": [
       "Config for 1 system:\n",
       "  \u001b[95mWeather\u001b[39m\n",
       "    \u001b[94mPFD  \u001b[39m\u001b[90m = \u001b[39m1500\n",
       "    \u001b[94mCO2  \u001b[39m\u001b[90m = \u001b[39m425\n",
       "    \u001b[94mRH   \u001b[39m\u001b[90m = \u001b[39m60\n",
       "    \u001b[94mT_air\u001b[39m\u001b[90m = \u001b[39m25\n",
       "    \u001b[94mwind \u001b[39m\u001b[90m = \u001b[39m2.0"
      ]
     },
     "execution_count": 5,
     "metadata": {},
     "output_type": "execute_result"
    }
   ],
   "source": [
    "ge_weather = @config :Weather => (\n",
    "    PFD = 1500,\n",
    "    CO2 = 425,\n",
    "    RH = 60,\n",
    "    T_air = 25,\n",
    "    wind = 2.0,\n",
    ")"
   ]
  },
  {
   "cell_type": "code",
   "execution_count": 6,
   "metadata": {
    "jupyter": {
     "source_hidden": true
    },
    "tags": []
   },
   "outputs": [
    {
     "data": {
      "text/html": [
       "<p style=\"font-family: monospace\">Config for 2 systems:</p>\n",
       "<table style=\"font-family: monospace\">\n",
       "<tr style=\"background-color: transparent\">\n",
       "<td colspan=\"3\" style=\"text-align: left; padding: 2px; padding-left: 20px; color: rebeccapurple\">StomataTuzet</th>\n",
       "</tr>\n",
       "<tr style=\"background-color: transparent\"><td style=\"text-align: left; padding: 2px; padding-left: 40px; color: royalblue\">WP_leaf</td><td style=\"text-align: center; padding: 2px 10px 2px 10px; color: gray\">=</td><td style=\"text-align: left; padding: 2px;\">-0.5</td></tr>\n",
       "</table>\n",
       "\n",
       "<table style=\"font-family: monospace\">\n",
       "<tr style=\"background-color: transparent\">\n",
       "<td colspan=\"3\" style=\"text-align: left; padding: 2px; padding-left: 20px; color: rebeccapurple\">StomataBallBerry</th>\n",
       "</tr>\n",
       "<tr style=\"background-color: transparent\"><td style=\"text-align: left; padding: 2px; padding-left: 40px; color: royalblue\">g0</td><td style=\"text-align: center; padding: 2px 10px 2px 10px; color: gray\">=</td><td style=\"text-align: left; padding: 2px;\">0.01</td></tr>\n",
       "<tr style=\"background-color: transparent\"><td style=\"text-align: left; padding: 2px; padding-left: 40px; color: royalblue\">g1</td><td style=\"text-align: center; padding: 2px 10px 2px 10px; color: gray\">=</td><td style=\"text-align: left; padding: 2px;\">10.0</td></tr>\n",
       "</table>\n"
      ],
      "text/plain": [
       "Config for 2 systems:\n",
       "  \u001b[95mStomataTuzet\u001b[39m\n",
       "    \u001b[94mWP_leaf\u001b[39m\u001b[90m = \u001b[39m-0.5\n",
       "  \u001b[95mStomataBallBerry\u001b[39m\n",
       "    \u001b[94mg0\u001b[39m\u001b[90m = \u001b[39m0.01\n",
       "    \u001b[94mg1\u001b[39m\u001b[90m = \u001b[39m10.0"
      ]
     },
     "execution_count": 6,
     "metadata": {},
     "output_type": "execute_result"
    }
   ],
   "source": [
    "ge_C3stomata = @config (\n",
    "    :StomataTuzet => :WP_leaf => -0.5,\n",
    "    :StomataBallBerry => (g0 = 0.01, g1 = 10.0,)\n",
    "    )"
   ]
  },
  {
   "cell_type": "code",
   "execution_count": 7,
   "metadata": {
    "jupyter": {
     "source_hidden": true
    },
    "tags": []
   },
   "outputs": [
    {
     "data": {
      "text/plain": [
       "Weather => (:CO2 => [1000, 400, 250])"
      ]
     },
     "execution_count": 7,
     "metadata": {},
     "output_type": "execute_result"
    }
   ],
   "source": [
    "using LeafGasExchange: Weather\n",
    "CO2_group = Weather => :CO2   => [1000, 400, 250]"
   ]
  },
  {
   "cell_type": "code",
   "execution_count": 8,
   "metadata": {
    "jupyter": {
     "source_hidden": true
    },
    "tags": []
   },
   "outputs": [
    {
     "data": {
      "text/html": [
       "<p style=\"font-family: monospace\">Config for 3 systems:</p>\n",
       "<table style=\"font-family: monospace\">\n",
       "<tr style=\"background-color: transparent\">\n",
       "<td colspan=\"3\" style=\"text-align: left; padding: 2px; padding-left: 20px; color: rebeccapurple\">Weather</th>\n",
       "</tr>\n",
       "<tr style=\"background-color: transparent\"><td style=\"text-align: left; padding: 2px; padding-left: 40px; color: royalblue\">PFD</td><td style=\"text-align: center; padding: 2px 10px 2px 10px; color: gray\">=</td><td style=\"text-align: left; padding: 2px;\">1500</td></tr>\n",
       "<tr style=\"background-color: transparent\"><td style=\"text-align: left; padding: 2px; padding-left: 40px; color: royalblue\">CO2</td><td style=\"text-align: center; padding: 2px 10px 2px 10px; color: gray\">=</td><td style=\"text-align: left; padding: 2px;\">425</td></tr>\n",
       "<tr style=\"background-color: transparent\"><td style=\"text-align: left; padding: 2px; padding-left: 40px; color: royalblue\">RH</td><td style=\"text-align: center; padding: 2px 10px 2px 10px; color: gray\">=</td><td style=\"text-align: left; padding: 2px;\">60</td></tr>\n",
       "<tr style=\"background-color: transparent\"><td style=\"text-align: left; padding: 2px; padding-left: 40px; color: royalblue\">T_air</td><td style=\"text-align: center; padding: 2px 10px 2px 10px; color: gray\">=</td><td style=\"text-align: left; padding: 2px;\">25</td></tr>\n",
       "<tr style=\"background-color: transparent\"><td style=\"text-align: left; padding: 2px; padding-left: 40px; color: royalblue\">wind</td><td style=\"text-align: center; padding: 2px 10px 2px 10px; color: gray\">=</td><td style=\"text-align: left; padding: 2px;\">2.0</td></tr>\n",
       "</table>\n",
       "\n",
       "<table style=\"font-family: monospace\">\n",
       "<tr style=\"background-color: transparent\">\n",
       "<td colspan=\"3\" style=\"text-align: left; padding: 2px; padding-left: 20px; color: rebeccapurple\">StomataTuzet</th>\n",
       "</tr>\n",
       "<tr style=\"background-color: transparent\"><td style=\"text-align: left; padding: 2px; padding-left: 40px; color: royalblue\">WP_leaf</td><td style=\"text-align: center; padding: 2px 10px 2px 10px; color: gray\">=</td><td style=\"text-align: left; padding: 2px;\">-0.5</td></tr>\n",
       "</table>\n",
       "\n",
       "<table style=\"font-family: monospace\">\n",
       "<tr style=\"background-color: transparent\">\n",
       "<td colspan=\"3\" style=\"text-align: left; padding: 2px; padding-left: 20px; color: rebeccapurple\">StomataBallBerry</th>\n",
       "</tr>\n",
       "<tr style=\"background-color: transparent\"><td style=\"text-align: left; padding: 2px; padding-left: 40px; color: royalblue\">g0</td><td style=\"text-align: center; padding: 2px 10px 2px 10px; color: gray\">=</td><td style=\"text-align: left; padding: 2px;\">0.01</td></tr>\n",
       "<tr style=\"background-color: transparent\"><td style=\"text-align: left; padding: 2px; padding-left: 40px; color: royalblue\">g1</td><td style=\"text-align: center; padding: 2px 10px 2px 10px; color: gray\">=</td><td style=\"text-align: left; padding: 2px;\">10.0</td></tr>\n",
       "</table>\n"
      ],
      "text/plain": [
       "Config for 3 systems:\n",
       "  \u001b[95mWeather\u001b[39m\n",
       "    \u001b[94mPFD  \u001b[39m\u001b[90m = \u001b[39m1500\n",
       "    \u001b[94mCO2  \u001b[39m\u001b[90m = \u001b[39m425\n",
       "    \u001b[94mRH   \u001b[39m\u001b[90m = \u001b[39m60\n",
       "    \u001b[94mT_air\u001b[39m\u001b[90m = \u001b[39m25\n",
       "    \u001b[94mwind \u001b[39m\u001b[90m = \u001b[39m2.0\n",
       "  \u001b[95mStomataTuzet\u001b[39m\n",
       "    \u001b[94mWP_leaf\u001b[39m\u001b[90m = \u001b[39m-0.5\n",
       "  \u001b[95mStomataBallBerry\u001b[39m\n",
       "    \u001b[94mg0\u001b[39m\u001b[90m = \u001b[39m0.01\n",
       "    \u001b[94mg1\u001b[39m\u001b[90m = \u001b[39m10.0"
      ]
     },
     "execution_count": 8,
     "metadata": {},
     "output_type": "execute_result"
    }
   ],
   "source": [
    "ge_C3base = @config(\n",
    "    ge_weather,\n",
    "    ge_C3stomata,\n",
    ")"
   ]
  },
  {
   "cell_type": "markdown",
   "metadata": {},
   "source": [
    "## Photosynthetic light response (A-Q) curves"
   ]
  },
  {
   "cell_type": "code",
   "execution_count": 9,
   "metadata": {
    "jupyter": {
     "source_hidden": true
    },
    "tags": []
   },
   "outputs": [
    {
     "data": {
      "application/vnd.webio.node+json": {
       "children": [
        {
         "children": [
          "StomataTuzet"
         ],
         "instanceArgs": {
          "namespace": "html",
          "tag": "div"
         },
         "nodeType": "DOM",
         "props": {
          "style": {
           "color": "rebeccapurple",
           "font-family": "monospace"
          }
         },
         "type": "node"
        },
        {
         "children": [
          {
           "children": [
            {
             "children": [
              {
               "children": [
                {
                 "children": [
                  "WP_leaf"
                 ],
                 "instanceArgs": {
                  "namespace": "html",
                  "tag": "label"
                 },
                 "nodeType": "DOM",
                 "props": {
                  "className": "interact ",
                  "style": {
                   "color": "royalblue",
                   "padding": "5px 10px 0px 10px",
                   "white-space": "nowrap"
                  }
                 },
                 "type": "node"
                }
               ],
               "instanceArgs": {
                "namespace": "html",
                "tag": "div"
               },
               "nodeType": "DOM",
               "props": {
                "className": "interact-flex-row-left"
               },
               "type": "node"
              },
              {
               "children": [
                {
                 "children": [],
                 "instanceArgs": {
                  "namespace": "html",
                  "tag": "input"
                 },
                 "nodeType": "DOM",
                 "props": {
                  "attributes": {
                   "data-bind": "numericValue: index, valueUpdate: 'input', event: {change: function (){this.changes(this.changes()+1)}}",
                   "orient": "horizontal",
                   "type": "range"
                  },
                  "className": "slider slider is-fullwidth",
                  "max": 31,
                  "min": 1,
                  "step": 1,
                  "style": {}
                 },
                 "type": "node"
                }
               ],
               "instanceArgs": {
                "namespace": "html",
                "tag": "div"
               },
               "nodeType": "DOM",
               "props": {
                "className": "interact-flex-row-center"
               },
               "type": "node"
              },
              {
               "children": [
                {
                 "children": [],
                 "instanceArgs": {
                  "namespace": "html",
                  "tag": "p"
                 },
                 "nodeType": "DOM",
                 "props": {
                  "attributes": {
                   "data-bind": "text: formatted_val"
                  }
                 },
                 "type": "node"
                }
               ],
               "instanceArgs": {
                "namespace": "html",
                "tag": "div"
               },
               "nodeType": "DOM",
               "props": {
                "className": "interact-flex-row-right"
               },
               "type": "node"
              }
             ],
             "instanceArgs": {
              "namespace": "html",
              "tag": "div"
             },
             "nodeType": "DOM",
             "props": {
              "className": "interact-flex-row interact-widget",
              "style": {
               "font-family": "monospace",
               "width": "80%"
              }
             },
             "type": "node"
            }
           ],
           "instanceArgs": {
            "handlers": {
             "changes": [
              "(function (val){return (val!=this.model[\"changes\"]()) ? (this.valueFromJulia[\"changes\"]=true, this.model[\"changes\"](val)) : undefined})"
             ],
             "index": [
              "(function (val){return (val!=this.model[\"index\"]()) ? (this.valueFromJulia[\"index\"]=true, this.model[\"index\"](val)) : undefined})"
             ]
            },
            "id": "9231633856790024502",
            "imports": {
             "data": [
              {
               "name": "knockout",
               "type": "js",
               "url": "/assetserver/c0689c4f2514def856941022372b529b3413f129-knockout.js"
              },
              {
               "name": "knockout_punches",
               "type": "js",
               "url": "/assetserver/69274bc4b68b761587a57ff3f5e787f3dd4781dc-knockout_punches.js"
              },
              {
               "name": null,
               "type": "js",
               "url": "/assetserver/096b68745a0180096d3bd812a95825d387626124-all.js"
              },
              {
               "name": null,
               "type": "css",
               "url": "/assetserver/d8822751ac3a06d244eead91a737222f90bb9e0b-style.css"
              },
              {
               "name": null,
               "type": "css",
               "url": "/assetserver/792d9982ee796e4da6422248c42eb77a0d83e61e-bulma_confined.min.css"
              }
             ],
             "type": "async_block"
            },
            "mount_callbacks": [
             "function () {\n    var handler = (function (ko, koPunches) {\n    ko.punches.enableAll();\n    ko.bindingHandlers.numericValue = {\n        init: function(element, valueAccessor, allBindings, data, context) {\n            var stringified = ko.observable(ko.unwrap(valueAccessor()));\n            stringified.subscribe(function(value) {\n                var val = parseFloat(value);\n                if (!isNaN(val)) {\n                    valueAccessor()(val);\n                }\n            });\n            valueAccessor().subscribe(function(value) {\n                var str = JSON.stringify(value);\n                if ((str == \"0\") && ([\"-0\", \"-0.\"].indexOf(stringified()) >= 0))\n                     return;\n                 if ([\"null\", \"\"].indexOf(str) >= 0)\n                     return;\n                stringified(str);\n            });\n            ko.applyBindingsToNode(\n                element,\n                {\n                    value: stringified,\n                    valueUpdate: allBindings.get('valueUpdate'),\n                },\n                context,\n            );\n        }\n    };\n    var json_data = {\"formatted_vals\":[\"-3.0\",\"-2.9\",\"-2.8\",\"-2.7\",\"-2.6\",\"-2.5\",\"-2.4\",\"-2.3\",\"-2.2\",\"-2.1\",\"-2.0\",\"-1.9\",\"-1.8\",\"-1.7\",\"-1.6\",\"-1.5\",\"-1.4\",\"-1.3\",\"-1.2\",\"-1.1\",\"-1.0\",\"-0.9\",\"-0.8\",\"-0.7\",\"-0.6\",\"-0.5\",\"-0.4\",\"-0.3\",\"-0.2\",\"-0.1\",\"0.0\"],\"changes\":WebIO.getval({\"name\":\"changes\",\"scope\":\"9231633856790024502\",\"id\":\"2616168607354390432\",\"type\":\"observable\"}),\"index\":WebIO.getval({\"name\":\"index\",\"scope\":\"9231633856790024502\",\"id\":\"3544504322782784420\",\"type\":\"observable\"})};\n    var self = this;\n    function AppViewModel() {\n        for (var key in json_data) {\n            var el = json_data[key];\n            this[key] = Array.isArray(el) ? ko.observableArray(el) : ko.observable(el);\n        }\n        \n        [this[\"formatted_val\"]=ko.computed(    function(){\n        return this.formatted_vals()[parseInt(this.index())-(1)];\n    }\n,this)]\n        [this[\"changes\"].subscribe((function (val){!(this.valueFromJulia[\"changes\"]) ? (WebIO.setval({\"name\":\"changes\",\"scope\":\"9231633856790024502\",\"id\":\"2616168607354390432\",\"type\":\"observable\"},val)) : undefined; return this.valueFromJulia[\"changes\"]=false}),self),this[\"index\"].subscribe((function (val){!(this.valueFromJulia[\"index\"]) ? (WebIO.setval({\"name\":\"index\",\"scope\":\"9231633856790024502\",\"id\":\"3544504322782784420\",\"type\":\"observable\"},val)) : undefined; return this.valueFromJulia[\"index\"]=false}),self)]\n        \n    }\n    self.model = new AppViewModel();\n    self.valueFromJulia = {};\n    for (var key in json_data) {\n        self.valueFromJulia[key] = false;\n    }\n    ko.applyBindings(self.model, self.dom);\n}\n);\n    (WebIO.importBlock({\"data\":[{\"name\":\"knockout\",\"type\":\"js\",\"url\":\"/assetserver/c0689c4f2514def856941022372b529b3413f129-knockout.js\"},{\"name\":\"knockout_punches\",\"type\":\"js\",\"url\":\"/assetserver/69274bc4b68b761587a57ff3f5e787f3dd4781dc-knockout_punches.js\"}],\"type\":\"async_block\"})).then((imports) => handler.apply(this, imports));\n}\n"
            ],
            "observables": {
             "changes": {
              "id": "2616168607354390432",
              "sync": true,
              "value": 0
             },
             "index": {
              "id": "3544504322782784420",
              "sync": true,
              "value": 26
             }
            },
            "systemjs_options": null
           },
           "nodeType": "Scope",
           "props": {},
           "type": "node"
          }
         ],
         "instanceArgs": {
          "namespace": "html",
          "tag": "div"
         },
         "nodeType": "DOM",
         "props": {
          "className": "field interact-widget"
         },
         "type": "node"
        },
        {
         "children": [
          "Weather"
         ],
         "instanceArgs": {
          "namespace": "html",
          "tag": "div"
         },
         "nodeType": "DOM",
         "props": {
          "style": {
           "color": "rebeccapurple",
           "font-family": "monospace"
          }
         },
         "type": "node"
        },
        {
         "children": [
          {
           "children": [
            {
             "children": [
              {
               "children": [
                {
                 "children": [
                  "RH (%)"
                 ],
                 "instanceArgs": {
                  "namespace": "html",
                  "tag": "label"
                 },
                 "nodeType": "DOM",
                 "props": {
                  "className": "interact ",
                  "style": {
                   "color": "royalblue",
                   "padding": "5px 10px 0px 10px",
                   "white-space": "nowrap"
                  }
                 },
                 "type": "node"
                }
               ],
               "instanceArgs": {
                "namespace": "html",
                "tag": "div"
               },
               "nodeType": "DOM",
               "props": {
                "className": "interact-flex-row-left"
               },
               "type": "node"
              },
              {
               "children": [
                {
                 "children": [],
                 "instanceArgs": {
                  "namespace": "html",
                  "tag": "input"
                 },
                 "nodeType": "DOM",
                 "props": {
                  "attributes": {
                   "data-bind": "numericValue: index, valueUpdate: 'input', event: {change: function (){this.changes(this.changes()+1)}}",
                   "orient": "horizontal",
                   "type": "range"
                  },
                  "className": "slider slider is-fullwidth",
                  "max": 21,
                  "min": 1,
                  "step": 1,
                  "style": {}
                 },
                 "type": "node"
                }
               ],
               "instanceArgs": {
                "namespace": "html",
                "tag": "div"
               },
               "nodeType": "DOM",
               "props": {
                "className": "interact-flex-row-center"
               },
               "type": "node"
              },
              {
               "children": [
                {
                 "children": [],
                 "instanceArgs": {
                  "namespace": "html",
                  "tag": "p"
                 },
                 "nodeType": "DOM",
                 "props": {
                  "attributes": {
                   "data-bind": "text: formatted_val"
                  }
                 },
                 "type": "node"
                }
               ],
               "instanceArgs": {
                "namespace": "html",
                "tag": "div"
               },
               "nodeType": "DOM",
               "props": {
                "className": "interact-flex-row-right"
               },
               "type": "node"
              }
             ],
             "instanceArgs": {
              "namespace": "html",
              "tag": "div"
             },
             "nodeType": "DOM",
             "props": {
              "className": "interact-flex-row interact-widget",
              "style": {
               "font-family": "monospace",
               "width": "80%"
              }
             },
             "type": "node"
            }
           ],
           "instanceArgs": {
            "handlers": {
             "changes": [
              "(function (val){return (val!=this.model[\"changes\"]()) ? (this.valueFromJulia[\"changes\"]=true, this.model[\"changes\"](val)) : undefined})"
             ],
             "index": [
              "(function (val){return (val!=this.model[\"index\"]()) ? (this.valueFromJulia[\"index\"]=true, this.model[\"index\"](val)) : undefined})"
             ]
            },
            "id": "3634689085492476956",
            "imports": {
             "data": [
              {
               "name": "knockout",
               "type": "js",
               "url": "/assetserver/c0689c4f2514def856941022372b529b3413f129-knockout.js"
              },
              {
               "name": "knockout_punches",
               "type": "js",
               "url": "/assetserver/69274bc4b68b761587a57ff3f5e787f3dd4781dc-knockout_punches.js"
              },
              {
               "name": null,
               "type": "js",
               "url": "/assetserver/096b68745a0180096d3bd812a95825d387626124-all.js"
              },
              {
               "name": null,
               "type": "css",
               "url": "/assetserver/d8822751ac3a06d244eead91a737222f90bb9e0b-style.css"
              },
              {
               "name": null,
               "type": "css",
               "url": "/assetserver/792d9982ee796e4da6422248c42eb77a0d83e61e-bulma_confined.min.css"
              }
             ],
             "type": "async_block"
            },
            "mount_callbacks": [
             "function () {\n    var handler = (function (ko, koPunches) {\n    ko.punches.enableAll();\n    ko.bindingHandlers.numericValue = {\n        init: function(element, valueAccessor, allBindings, data, context) {\n            var stringified = ko.observable(ko.unwrap(valueAccessor()));\n            stringified.subscribe(function(value) {\n                var val = parseFloat(value);\n                if (!isNaN(val)) {\n                    valueAccessor()(val);\n                }\n            });\n            valueAccessor().subscribe(function(value) {\n                var str = JSON.stringify(value);\n                if ((str == \"0\") && ([\"-0\", \"-0.\"].indexOf(stringified()) >= 0))\n                     return;\n                 if ([\"null\", \"\"].indexOf(str) >= 0)\n                     return;\n                stringified(str);\n            });\n            ko.applyBindingsToNode(\n                element,\n                {\n                    value: stringified,\n                    valueUpdate: allBindings.get('valueUpdate'),\n                },\n                context,\n            );\n        }\n    };\n    var json_data = {\"formatted_vals\":[\"0\",\"5\",\"10\",\"15\",\"20\",\"25\",\"30\",\"35\",\"40\",\"45\",\"50\",\"55\",\"60\",\"65\",\"70\",\"75\",\"80\",\"85\",\"90\",\"95\",\"100\"],\"changes\":WebIO.getval({\"name\":\"changes\",\"scope\":\"3634689085492476956\",\"id\":\"7992717401089257831\",\"type\":\"observable\"}),\"index\":WebIO.getval({\"name\":\"index\",\"scope\":\"3634689085492476956\",\"id\":\"4165104326073148628\",\"type\":\"observable\"})};\n    var self = this;\n    function AppViewModel() {\n        for (var key in json_data) {\n            var el = json_data[key];\n            this[key] = Array.isArray(el) ? ko.observableArray(el) : ko.observable(el);\n        }\n        \n        [this[\"formatted_val\"]=ko.computed(    function(){\n        return this.formatted_vals()[parseInt(this.index())-(1)];\n    }\n,this)]\n        [this[\"changes\"].subscribe((function (val){!(this.valueFromJulia[\"changes\"]) ? (WebIO.setval({\"name\":\"changes\",\"scope\":\"3634689085492476956\",\"id\":\"7992717401089257831\",\"type\":\"observable\"},val)) : undefined; return this.valueFromJulia[\"changes\"]=false}),self),this[\"index\"].subscribe((function (val){!(this.valueFromJulia[\"index\"]) ? (WebIO.setval({\"name\":\"index\",\"scope\":\"3634689085492476956\",\"id\":\"4165104326073148628\",\"type\":\"observable\"},val)) : undefined; return this.valueFromJulia[\"index\"]=false}),self)]\n        \n    }\n    self.model = new AppViewModel();\n    self.valueFromJulia = {};\n    for (var key in json_data) {\n        self.valueFromJulia[key] = false;\n    }\n    ko.applyBindings(self.model, self.dom);\n}\n);\n    (WebIO.importBlock({\"data\":[{\"name\":\"knockout\",\"type\":\"js\",\"url\":\"/assetserver/c0689c4f2514def856941022372b529b3413f129-knockout.js\"},{\"name\":\"knockout_punches\",\"type\":\"js\",\"url\":\"/assetserver/69274bc4b68b761587a57ff3f5e787f3dd4781dc-knockout_punches.js\"}],\"type\":\"async_block\"})).then((imports) => handler.apply(this, imports));\n}\n"
            ],
            "observables": {
             "changes": {
              "id": "7992717401089257831",
              "sync": true,
              "value": 0
             },
             "index": {
              "id": "4165104326073148628",
              "sync": true,
              "value": 13
             }
            },
            "systemjs_options": null
           },
           "nodeType": "Scope",
           "props": {},
           "type": "node"
          }
         ],
         "instanceArgs": {
          "namespace": "html",
          "tag": "div"
         },
         "nodeType": "DOM",
         "props": {
          "className": "field interact-widget"
         },
         "type": "node"
        },
        {
         "children": [
          {
           "children": [
            {
             "children": [
              {
               "children": [
                {
                 "children": [
                  "T_air (°C)"
                 ],
                 "instanceArgs": {
                  "namespace": "html",
                  "tag": "label"
                 },
                 "nodeType": "DOM",
                 "props": {
                  "className": "interact ",
                  "style": {
                   "color": "royalblue",
                   "padding": "5px 10px 0px 10px",
                   "white-space": "nowrap"
                  }
                 },
                 "type": "node"
                }
               ],
               "instanceArgs": {
                "namespace": "html",
                "tag": "div"
               },
               "nodeType": "DOM",
               "props": {
                "className": "interact-flex-row-left"
               },
               "type": "node"
              },
              {
               "children": [
                {
                 "children": [],
                 "instanceArgs": {
                  "namespace": "html",
                  "tag": "input"
                 },
                 "nodeType": "DOM",
                 "props": {
                  "attributes": {
                   "data-bind": "numericValue: index, valueUpdate: 'input', event: {change: function (){this.changes(this.changes()+1)}}",
                   "orient": "horizontal",
                   "type": "range"
                  },
                  "className": "slider slider is-fullwidth",
                  "max": 51,
                  "min": 1,
                  "step": 1,
                  "style": {}
                 },
                 "type": "node"
                }
               ],
               "instanceArgs": {
                "namespace": "html",
                "tag": "div"
               },
               "nodeType": "DOM",
               "props": {
                "className": "interact-flex-row-center"
               },
               "type": "node"
              },
              {
               "children": [
                {
                 "children": [],
                 "instanceArgs": {
                  "namespace": "html",
                  "tag": "p"
                 },
                 "nodeType": "DOM",
                 "props": {
                  "attributes": {
                   "data-bind": "text: formatted_val"
                  }
                 },
                 "type": "node"
                }
               ],
               "instanceArgs": {
                "namespace": "html",
                "tag": "div"
               },
               "nodeType": "DOM",
               "props": {
                "className": "interact-flex-row-right"
               },
               "type": "node"
              }
             ],
             "instanceArgs": {
              "namespace": "html",
              "tag": "div"
             },
             "nodeType": "DOM",
             "props": {
              "className": "interact-flex-row interact-widget",
              "style": {
               "font-family": "monospace",
               "width": "80%"
              }
             },
             "type": "node"
            }
           ],
           "instanceArgs": {
            "handlers": {
             "changes": [
              "(function (val){return (val!=this.model[\"changes\"]()) ? (this.valueFromJulia[\"changes\"]=true, this.model[\"changes\"](val)) : undefined})"
             ],
             "index": [
              "(function (val){return (val!=this.model[\"index\"]()) ? (this.valueFromJulia[\"index\"]=true, this.model[\"index\"](val)) : undefined})"
             ]
            },
            "id": "6750783212660687102",
            "imports": {
             "data": [
              {
               "name": "knockout",
               "type": "js",
               "url": "/assetserver/c0689c4f2514def856941022372b529b3413f129-knockout.js"
              },
              {
               "name": "knockout_punches",
               "type": "js",
               "url": "/assetserver/69274bc4b68b761587a57ff3f5e787f3dd4781dc-knockout_punches.js"
              },
              {
               "name": null,
               "type": "js",
               "url": "/assetserver/096b68745a0180096d3bd812a95825d387626124-all.js"
              },
              {
               "name": null,
               "type": "css",
               "url": "/assetserver/d8822751ac3a06d244eead91a737222f90bb9e0b-style.css"
              },
              {
               "name": null,
               "type": "css",
               "url": "/assetserver/792d9982ee796e4da6422248c42eb77a0d83e61e-bulma_confined.min.css"
              }
             ],
             "type": "async_block"
            },
            "mount_callbacks": [
             "function () {\n    var handler = (function (ko, koPunches) {\n    ko.punches.enableAll();\n    ko.bindingHandlers.numericValue = {\n        init: function(element, valueAccessor, allBindings, data, context) {\n            var stringified = ko.observable(ko.unwrap(valueAccessor()));\n            stringified.subscribe(function(value) {\n                var val = parseFloat(value);\n                if (!isNaN(val)) {\n                    valueAccessor()(val);\n                }\n            });\n            valueAccessor().subscribe(function(value) {\n                var str = JSON.stringify(value);\n                if ((str == \"0\") && ([\"-0\", \"-0.\"].indexOf(stringified()) >= 0))\n                     return;\n                 if ([\"null\", \"\"].indexOf(str) >= 0)\n                     return;\n                stringified(str);\n            });\n            ko.applyBindingsToNode(\n                element,\n                {\n                    value: stringified,\n                    valueUpdate: allBindings.get('valueUpdate'),\n                },\n                context,\n            );\n        }\n    };\n    var json_data = {\"formatted_vals\":[\"0\",\"1\",\"2\",\"3\",\"4\",\"5\",\"6\",\"7\",\"8\",\"9\",\"10\",\"11\",\"12\",\"13\",\"14\",\"15\",\"16\",\"17\",\"18\",\"19\",\"20\",\"21\",\"22\",\"23\",\"24\",\"25\",\"26\",\"27\",\"28\",\"29\",\"30\",\"31\",\"32\",\"33\",\"34\",\"35\",\"36\",\"37\",\"38\",\"39\",\"40\",\"41\",\"42\",\"43\",\"44\",\"45\",\"46\",\"47\",\"48\",\"49\",\"50\"],\"changes\":WebIO.getval({\"name\":\"changes\",\"scope\":\"6750783212660687102\",\"id\":\"7852175081536351498\",\"type\":\"observable\"}),\"index\":WebIO.getval({\"name\":\"index\",\"scope\":\"6750783212660687102\",\"id\":\"1644922193804304513\",\"type\":\"observable\"})};\n    var self = this;\n    function AppViewModel() {\n        for (var key in json_data) {\n            var el = json_data[key];\n            this[key] = Array.isArray(el) ? ko.observableArray(el) : ko.observable(el);\n        }\n        \n        [this[\"formatted_val\"]=ko.computed(    function(){\n        return this.formatted_vals()[parseInt(this.index())-(1)];\n    }\n,this)]\n        [this[\"changes\"].subscribe((function (val){!(this.valueFromJulia[\"changes\"]) ? (WebIO.setval({\"name\":\"changes\",\"scope\":\"6750783212660687102\",\"id\":\"7852175081536351498\",\"type\":\"observable\"},val)) : undefined; return this.valueFromJulia[\"changes\"]=false}),self),this[\"index\"].subscribe((function (val){!(this.valueFromJulia[\"index\"]) ? (WebIO.setval({\"name\":\"index\",\"scope\":\"6750783212660687102\",\"id\":\"1644922193804304513\",\"type\":\"observable\"},val)) : undefined; return this.valueFromJulia[\"index\"]=false}),self)]\n        \n    }\n    self.model = new AppViewModel();\n    self.valueFromJulia = {};\n    for (var key in json_data) {\n        self.valueFromJulia[key] = false;\n    }\n    ko.applyBindings(self.model, self.dom);\n}\n);\n    (WebIO.importBlock({\"data\":[{\"name\":\"knockout\",\"type\":\"js\",\"url\":\"/assetserver/c0689c4f2514def856941022372b529b3413f129-knockout.js\"},{\"name\":\"knockout_punches\",\"type\":\"js\",\"url\":\"/assetserver/69274bc4b68b761587a57ff3f5e787f3dd4781dc-knockout_punches.js\"}],\"type\":\"async_block\"})).then((imports) => handler.apply(this, imports));\n}\n"
            ],
            "observables": {
             "changes": {
              "id": "7852175081536351498",
              "sync": true,
              "value": 0
             },
             "index": {
              "id": "1644922193804304513",
              "sync": true,
              "value": 26
             }
            },
            "systemjs_options": null
           },
           "nodeType": "Scope",
           "props": {},
           "type": "node"
          }
         ],
         "instanceArgs": {
          "namespace": "html",
          "tag": "div"
         },
         "nodeType": "DOM",
         "props": {
          "className": "field interact-widget"
         },
         "type": "node"
        },
        {
         "children": [
          "Nitrogen"
         ],
         "instanceArgs": {
          "namespace": "html",
          "tag": "div"
         },
         "nodeType": "DOM",
         "props": {
          "style": {
           "color": "rebeccapurple",
           "font-family": "monospace"
          }
         },
         "type": "node"
        },
        {
         "children": [
          {
           "children": [
            {
             "children": [
              {
               "children": [
                {
                 "children": [
                  "N"
                 ],
                 "instanceArgs": {
                  "namespace": "html",
                  "tag": "label"
                 },
                 "nodeType": "DOM",
                 "props": {
                  "className": "interact ",
                  "style": {
                   "color": "royalblue",
                   "padding": "5px 10px 0px 10px",
                   "white-space": "nowrap"
                  }
                 },
                 "type": "node"
                }
               ],
               "instanceArgs": {
                "namespace": "html",
                "tag": "div"
               },
               "nodeType": "DOM",
               "props": {
                "className": "interact-flex-row-left"
               },
               "type": "node"
              },
              {
               "children": [
                {
                 "children": [],
                 "instanceArgs": {
                  "namespace": "html",
                  "tag": "input"
                 },
                 "nodeType": "DOM",
                 "props": {
                  "attributes": {
                   "data-bind": "numericValue: index, valueUpdate: 'input', event: {change: function (){this.changes(this.changes()+1)}}",
                   "orient": "horizontal",
                   "type": "range"
                  },
                  "className": "slider slider is-fullwidth",
                  "max": 41,
                  "min": 1,
                  "step": 1,
                  "style": {}
                 },
                 "type": "node"
                }
               ],
               "instanceArgs": {
                "namespace": "html",
                "tag": "div"
               },
               "nodeType": "DOM",
               "props": {
                "className": "interact-flex-row-center"
               },
               "type": "node"
              },
              {
               "children": [
                {
                 "children": [],
                 "instanceArgs": {
                  "namespace": "html",
                  "tag": "p"
                 },
                 "nodeType": "DOM",
                 "props": {
                  "attributes": {
                   "data-bind": "text: formatted_val"
                  }
                 },
                 "type": "node"
                }
               ],
               "instanceArgs": {
                "namespace": "html",
                "tag": "div"
               },
               "nodeType": "DOM",
               "props": {
                "className": "interact-flex-row-right"
               },
               "type": "node"
              }
             ],
             "instanceArgs": {
              "namespace": "html",
              "tag": "div"
             },
             "nodeType": "DOM",
             "props": {
              "className": "interact-flex-row interact-widget",
              "style": {
               "font-family": "monospace",
               "width": "80%"
              }
             },
             "type": "node"
            }
           ],
           "instanceArgs": {
            "handlers": {
             "changes": [
              "(function (val){return (val!=this.model[\"changes\"]()) ? (this.valueFromJulia[\"changes\"]=true, this.model[\"changes\"](val)) : undefined})"
             ],
             "index": [
              "(function (val){return (val!=this.model[\"index\"]()) ? (this.valueFromJulia[\"index\"]=true, this.model[\"index\"](val)) : undefined})"
             ]
            },
            "id": "10340849261403227923",
            "imports": {
             "data": [
              {
               "name": "knockout",
               "type": "js",
               "url": "/assetserver/c0689c4f2514def856941022372b529b3413f129-knockout.js"
              },
              {
               "name": "knockout_punches",
               "type": "js",
               "url": "/assetserver/69274bc4b68b761587a57ff3f5e787f3dd4781dc-knockout_punches.js"
              },
              {
               "name": null,
               "type": "js",
               "url": "/assetserver/096b68745a0180096d3bd812a95825d387626124-all.js"
              },
              {
               "name": null,
               "type": "css",
               "url": "/assetserver/d8822751ac3a06d244eead91a737222f90bb9e0b-style.css"
              },
              {
               "name": null,
               "type": "css",
               "url": "/assetserver/792d9982ee796e4da6422248c42eb77a0d83e61e-bulma_confined.min.css"
              }
             ],
             "type": "async_block"
            },
            "mount_callbacks": [
             "function () {\n    var handler = (function (ko, koPunches) {\n    ko.punches.enableAll();\n    ko.bindingHandlers.numericValue = {\n        init: function(element, valueAccessor, allBindings, data, context) {\n            var stringified = ko.observable(ko.unwrap(valueAccessor()));\n            stringified.subscribe(function(value) {\n                var val = parseFloat(value);\n                if (!isNaN(val)) {\n                    valueAccessor()(val);\n                }\n            });\n            valueAccessor().subscribe(function(value) {\n                var str = JSON.stringify(value);\n                if ((str == \"0\") && ([\"-0\", \"-0.\"].indexOf(stringified()) >= 0))\n                     return;\n                 if ([\"null\", \"\"].indexOf(str) >= 0)\n                     return;\n                stringified(str);\n            });\n            ko.applyBindingsToNode(\n                element,\n                {\n                    value: stringified,\n                    valueUpdate: allBindings.get('valueUpdate'),\n                },\n                context,\n            );\n        }\n    };\n    var json_data = {\"formatted_vals\":[\"0.0\",\"0.1\",\"0.2\",\"0.3\",\"0.4\",\"0.5\",\"0.6\",\"0.7\",\"0.8\",\"0.9\",\"1.0\",\"1.1\",\"1.2\",\"1.3\",\"1.4\",\"1.5\",\"1.6\",\"1.7\",\"1.8\",\"1.9\",\"2.0\",\"2.1\",\"2.2\",\"2.3\",\"2.4\",\"2.5\",\"2.6\",\"2.7\",\"2.8\",\"2.9\",\"3.0\",\"3.1\",\"3.2\",\"3.3\",\"3.4\",\"3.5\",\"3.6\",\"3.7\",\"3.8\",\"3.9\",\"4.0\"],\"changes\":WebIO.getval({\"name\":\"changes\",\"scope\":\"10340849261403227923\",\"id\":\"13042377344403532976\",\"type\":\"observable\"}),\"index\":WebIO.getval({\"name\":\"index\",\"scope\":\"10340849261403227923\",\"id\":\"4458163550355190968\",\"type\":\"observable\"})};\n    var self = this;\n    function AppViewModel() {\n        for (var key in json_data) {\n            var el = json_data[key];\n            this[key] = Array.isArray(el) ? ko.observableArray(el) : ko.observable(el);\n        }\n        \n        [this[\"formatted_val\"]=ko.computed(    function(){\n        return this.formatted_vals()[parseInt(this.index())-(1)];\n    }\n,this)]\n        [this[\"changes\"].subscribe((function (val){!(this.valueFromJulia[\"changes\"]) ? (WebIO.setval({\"name\":\"changes\",\"scope\":\"10340849261403227923\",\"id\":\"13042377344403532976\",\"type\":\"observable\"},val)) : undefined; return this.valueFromJulia[\"changes\"]=false}),self),this[\"index\"].subscribe((function (val){!(this.valueFromJulia[\"index\"]) ? (WebIO.setval({\"name\":\"index\",\"scope\":\"10340849261403227923\",\"id\":\"4458163550355190968\",\"type\":\"observable\"},val)) : undefined; return this.valueFromJulia[\"index\"]=false}),self)]\n        \n    }\n    self.model = new AppViewModel();\n    self.valueFromJulia = {};\n    for (var key in json_data) {\n        self.valueFromJulia[key] = false;\n    }\n    ko.applyBindings(self.model, self.dom);\n}\n);\n    (WebIO.importBlock({\"data\":[{\"name\":\"knockout\",\"type\":\"js\",\"url\":\"/assetserver/c0689c4f2514def856941022372b529b3413f129-knockout.js\"},{\"name\":\"knockout_punches\",\"type\":\"js\",\"url\":\"/assetserver/69274bc4b68b761587a57ff3f5e787f3dd4781dc-knockout_punches.js\"}],\"type\":\"async_block\"})).then((imports) => handler.apply(this, imports));\n}\n"
            ],
            "observables": {
             "changes": {
              "id": "13042377344403532976",
              "sync": true,
              "value": 0
             },
             "index": {
              "id": "4458163550355190968",
              "sync": true,
              "value": 21
             }
            },
            "systemjs_options": null
           },
           "nodeType": "Scope",
           "props": {},
           "type": "node"
          }
         ],
         "instanceArgs": {
          "namespace": "html",
          "tag": "div"
         },
         "nodeType": "DOM",
         "props": {
          "className": "field interact-widget"
         },
         "type": "node"
        },
        {
         "children": [
          {
           "children": [],
           "instanceArgs": {
            "namespace": "html",
            "tag": "div"
           },
           "nodeType": "DOM",
           "props": {
            "className": "webio-observable",
            "setInnerHtml": "<?xml version=\"1.0\" encoding=\"UTF-8\"?>\n<svg xmlns=\"http://www.w3.org/2000/svg\"\n     xmlns:xlink=\"http://www.w3.org/1999/xlink\"\n     xmlns:gadfly=\"http://www.gadflyjl.org/ns\"\n     version=\"1.2\"\n     width=\"141.42mm\" height=\"100mm\" viewBox=\"0 0 141.42 100\"\n     stroke=\"none\"\n     fill=\"#000000\"\n     stroke-width=\"0.3\"\n     font-size=\"3.88\"\n>\n<defs>\n  <marker id=\"arrow\" markerWidth=\"15\" markerHeight=\"7\" refX=\"5\" refY=\"3.5\" orient=\"auto\" markerUnits=\"strokeWidth\">\n    <path d=\"M0,0 L15,3.5 L0,7 z\" stroke=\"context-stroke\" fill=\"context-stroke\"/>\n  </marker>\n</defs>\n<g stroke=\"#000000\" stroke-opacity=\"0.000\" fill=\"#FFFFFF\" id=\"img-8a99b6d2-1\">\n  <g transform=\"translate(70.71,50)\">\n    <path d=\"M-70.71,-50 L70.71,-50 70.71,50 -70.71,50  z\" class=\"primitive\"/>\n  </g>\n</g>\n<g class=\"plotroot xscalable yscalable\" id=\"img-8a99b6d2-2\">\n  <g font-size=\"3.53\" font-family=\"'PT Sans','Helvetica Neue','Helvetica',sans-serif\" fill=\"#564A55\" stroke=\"#000000\" stroke-opacity=\"0.000\" id=\"img-8a99b6d2-3\">\n    <g transform=\"translate(63.14,93.72)\">\n      <g class=\"primitive\">\n        <text text-anchor=\"middle\" dy=\"0.6em\">PFD (μmol m⁻² s⁻¹)</text>\n      </g>\n    </g>\n  </g>\n  <g class=\"guide xlabels\" font-size=\"2.82\" font-family=\"'PT Sans Caption','Helvetica Neue','Helvetica',sans-serif\" fill=\"#6C606B\" id=\"img-8a99b6d2-4\">\n    <g transform=\"translate(19.63,87.04)\">\n      <g class=\"primitive\">\n        <text text-anchor=\"middle\" dy=\"0.6em\">0</text>\n      </g>\n    </g>\n    <g transform=\"translate(41.38,87.04)\">\n      <g class=\"primitive\">\n        <text text-anchor=\"middle\" dy=\"0.6em\">500</text>\n      </g>\n    </g>\n    <g transform=\"translate(63.14,87.04)\">\n      <g class=\"primitive\">\n        <text text-anchor=\"middle\" dy=\"0.6em\">1000</text>\n      </g>\n    </g>\n    <g transform=\"translate(84.89,87.04)\">\n      <g class=\"primitive\">\n        <text text-anchor=\"middle\" dy=\"0.6em\">1500</text>\n      </g>\n    </g>\n    <g transform=\"translate(106.64,87.04)\">\n      <g class=\"primitive\">\n        <text text-anchor=\"middle\" dy=\"0.6em\">2000</text>\n      </g>\n    </g>\n  </g>\n  <g class=\"guide colorkey\" id=\"img-8a99b6d2-5\">\n    <g fill=\"#4C404B\" font-size=\"2.82\" font-family=\"'PT Sans','Helvetica Neue','Helvetica',sans-serif\" id=\"img-8a99b6d2-6\">\n      <g transform=\"translate(113.27,44.12)\" id=\"img-8a99b6d2-7\">\n        <g class=\"primitive\">\n          <text dy=\"0.35em\">1000 μmol mol⁻¹</text>\n        </g>\n      </g>\n      <g transform=\"translate(113.27,47.75)\" id=\"img-8a99b6d2-8\">\n        <g class=\"primitive\">\n          <text dy=\"0.35em\">400 μmol mol⁻¹</text>\n        </g>\n      </g>\n      <g transform=\"translate(113.27,51.38)\" id=\"img-8a99b6d2-9\">\n        <g class=\"primitive\">\n          <text dy=\"0.35em\">250 μmol mol⁻¹</text>\n        </g>\n      </g>\n    </g>\n    <g stroke-width=\"0.3\" id=\"img-8a99b6d2-10\">\n      <g stroke=\"#FFFFFF\" stroke-opacity=\"0.000\" fill-opacity=\"1\" fill=\"#FF6DAE\" id=\"img-8a99b6d2-11\">\n        <g transform=\"translate(110.45,51.38)\" id=\"img-8a99b6d2-12\">\n          <circle cx=\"0\" cy=\"0\" r=\"0.7\" class=\"primitive\"/>\n        </g>\n      </g>\n      <g stroke=\"#FFFFFF\" stroke-opacity=\"0.000\" fill-opacity=\"1\" fill=\"#D4CA3A\" id=\"img-8a99b6d2-13\">\n        <g transform=\"translate(110.45,47.75)\" id=\"img-8a99b6d2-14\">\n          <circle cx=\"0\" cy=\"0\" r=\"0.7\" class=\"primitive\"/>\n        </g>\n      </g>\n      <g stroke=\"#FFFFFF\" stroke-opacity=\"0.000\" fill-opacity=\"1\" fill=\"#00BFFF\" id=\"img-8a99b6d2-15\">\n        <g transform=\"translate(110.45,44.12)\" id=\"img-8a99b6d2-16\">\n          <circle cx=\"0\" cy=\"0\" r=\"0.7\" class=\"primitive\"/>\n        </g>\n      </g>\n    </g>\n    <g fill=\"#362A35\" font-size=\"3.18\" font-family=\"'PT Sans','Helvetica Neue','Helvetica',sans-serif\" stroke=\"#000000\" stroke-opacity=\"0.000\" id=\"img-8a99b6d2-17\">\n      <g transform=\"translate(109.64,40.81)\" id=\"img-8a99b6d2-18\">\n        <g class=\"primitive\">\n          <text dy=\"-0em\">CO2 (μmol mol⁻¹)</text>\n        </g>\n      </g>\n    </g>\n  </g>\n  <g clip-path=\"url(#img-8a99b6d2-19)\">\n    <g id=\"img-8a99b6d2-20\">\n      <g pointer-events=\"visible\" stroke-width=\"0.3\" fill=\"#000000\" fill-opacity=\"0.000\" stroke=\"#000000\" stroke-opacity=\"0.000\" class=\"guide background\" id=\"img-8a99b6d2-21\">\n        <g transform=\"translate(63.14,45.52)\" id=\"img-8a99b6d2-22\">\n          <path d=\"M-45.51,-40.52 L45.51,-40.52 45.51,40.52 -45.51,40.52  z\" class=\"primitive\"/>\n        </g>\n      </g>\n      <g class=\"guide ygridlines xfixed\" stroke-dasharray=\"0.5,0.5\" stroke-width=\"0.2\" stroke=\"#D0D0E0\" id=\"img-8a99b6d2-23\">\n        <g transform=\"translate(63.14,84.04)\" id=\"img-8a99b6d2-24\">\n          <path fill=\"none\" d=\"M-45.51,0 L45.51,0 \" class=\"primitive\"/>\n        </g>\n        <g transform=\"translate(63.14,64.78)\" id=\"img-8a99b6d2-25\">\n          <path fill=\"none\" d=\"M-45.51,0 L45.51,0 \" class=\"primitive\"/>\n        </g>\n        <g transform=\"translate(63.14,45.52)\" id=\"img-8a99b6d2-26\">\n          <path fill=\"none\" d=\"M-45.51,0 L45.51,0 \" class=\"primitive\"/>\n        </g>\n        <g transform=\"translate(63.14,26.26)\" id=\"img-8a99b6d2-27\">\n          <path fill=\"none\" d=\"M-45.51,0 L45.51,0 \" class=\"primitive\"/>\n        </g>\n        <g transform=\"translate(63.14,7)\" id=\"img-8a99b6d2-28\">\n          <path fill=\"none\" d=\"M-45.51,0 L45.51,0 \" class=\"primitive\"/>\n        </g>\n      </g>\n      <g class=\"guide xgridlines yfixed\" stroke-dasharray=\"0.5,0.5\" stroke-width=\"0.2\" stroke=\"#D0D0E0\" id=\"img-8a99b6d2-29\">\n        <g transform=\"translate(19.63,45.52)\" id=\"img-8a99b6d2-30\">\n          <path fill=\"none\" d=\"M0,-40.52 L0,40.52 \" class=\"primitive\"/>\n        </g>\n        <g transform=\"translate(41.38,45.52)\" id=\"img-8a99b6d2-31\">\n          <path fill=\"none\" d=\"M0,-40.52 L0,40.52 \" class=\"primitive\"/>\n        </g>\n        <g transform=\"translate(63.14,45.52)\" id=\"img-8a99b6d2-32\">\n          <path fill=\"none\" d=\"M0,-40.52 L0,40.52 \" class=\"primitive\"/>\n        </g>\n        <g transform=\"translate(84.89,45.52)\" id=\"img-8a99b6d2-33\">\n          <path fill=\"none\" d=\"M0,-40.52 L0,40.52 \" class=\"primitive\"/>\n        </g>\n        <g transform=\"translate(106.64,45.52)\" id=\"img-8a99b6d2-34\">\n          <path fill=\"none\" d=\"M0,-40.52 L0,40.52 \" class=\"primitive\"/>\n        </g>\n      </g>\n      <g class=\"plotpanel\" id=\"img-8a99b6d2-35\">\n        <metadata>\n          <boundingbox value=\"17.629999999999995mm 5.0mm 91.01135623730951mm 81.04333333333334mm\"/>\n          <unitbox value=\"-45.971010830938454 41.038376671137456 2091.942021661877 -42.07675334227491\"/>\n        </metadata>\n        <g stroke-width=\"0.3\" fill=\"#000000\" fill-opacity=\"0.000\" class=\"geometry\" id=\"img-8a99b6d2-36\">\n          <g class=\"color_LCHab{Float32}(70.0f0,60.0f0,240.0f0)\" stroke-dasharray=\"none\" stroke=\"#00BFFF\" id=\"img-8a99b6d2-37\">\n            <g transform=\"translate(63.14,36.48)\" id=\"img-8a99b6d2-38\">\n              <path fill=\"none\" d=\"M-43.51,49.63 L-39.16,35.83 -34.8,24.5 -30.45,15.67 -26.1,9.05 -21.75,4.18 -17.4,0.55 -13.05,-2.19 -8.7,-4.33 -4.35,-6.04 -0,-7.43 4.35,-8.6 8.7,-9.6 13.05,-10.46 17.4,-11.22 21.75,-11.9 26.1,-12.5 30.45,-13.06 34.8,-13.57 39.16,-14.04 43.51,-14.48 \" class=\"primitive\"/>\n            </g>\n          </g>\n        </g>\n        <g stroke-width=\"0.3\" fill=\"#000000\" fill-opacity=\"0.000\" class=\"geometry\" id=\"img-8a99b6d2-39\">\n          <g class=\"color_LCHab{Float32}(80.0f0,70.000015f0,100.43479f0)\" stroke-dasharray=\"none\" stroke=\"#D4CA3A\" id=\"img-8a99b6d2-40\">\n            <g transform=\"translate(63.14,47.62)\" id=\"img-8a99b6d2-41\">\n              <path fill=\"none\" d=\"M-43.51,38.49 L-39.16,27.55 -34.8,18.58 -30.45,11.61 -26.1,6.45 -21.75,2.7 -17.4,-0.04 -13.05,-2.09 -8.7,-3.65 -4.35,-4.89 -0,-5.88 4.35,-6.69 8.7,-7.38 13.05,-7.95 17.4,-8.45 21.75,-8.89 26.1,-9.27 30.45,-9.62 34.8,-9.92 39.16,-10.2 43.51,-10.45 \" class=\"primitive\"/>\n            </g>\n          </g>\n        </g>\n        <g stroke-width=\"0.3\" fill=\"#000000\" fill-opacity=\"0.000\" class=\"geometry\" id=\"img-8a99b6d2-42\">\n          <g class=\"color_LCHab{Float32}(65.89944f0,62.21457f0,353.99814f0)\" stroke-dasharray=\"none\" stroke=\"#FF6DAE\" id=\"img-8a99b6d2-43\">\n            <g transform=\"translate(63.14,58.37)\" id=\"img-8a99b6d2-44\">\n              <path fill=\"none\" d=\"M-43.51,27.74 L-39.16,18.98 -34.8,11.78 -30.45,6.17 -26.1,2.04 -21.75,-0.94 -17.4,-3.1 -13.05,-4.69 -8.7,-4.82 -4.35,-4.76 -0,-4.7 4.35,-4.65 8.7,-4.59 13.05,-4.53 17.4,-4.47 21.75,-4.41 26.1,-4.34 30.45,-4.28 34.8,-4.21 39.16,-4.15 43.51,-4.08 \" class=\"primitive\"/>\n            </g>\n          </g>\n        </g>\n      </g>\n    </g>\n  </g>\n  <g class=\"guide ylabels\" font-size=\"2.82\" font-family=\"'PT Sans Caption','Helvetica Neue','Helvetica',sans-serif\" fill=\"#6C606B\" id=\"img-8a99b6d2-45\">\n    <g transform=\"translate(16.63,84.04)\" id=\"img-8a99b6d2-46\">\n      <g class=\"primitive\">\n        <text text-anchor=\"end\" dy=\"0.35em\">0</text>\n      </g>\n    </g>\n    <g transform=\"translate(16.63,64.78)\" id=\"img-8a99b6d2-47\">\n      <g class=\"primitive\">\n        <text text-anchor=\"end\" dy=\"0.35em\">10</text>\n      </g>\n    </g>\n    <g transform=\"translate(16.63,45.52)\" id=\"img-8a99b6d2-48\">\n      <g class=\"primitive\">\n        <text text-anchor=\"end\" dy=\"0.35em\">20</text>\n      </g>\n    </g>\n    <g transform=\"translate(16.63,26.26)\" id=\"img-8a99b6d2-49\">\n      <g class=\"primitive\">\n        <text text-anchor=\"end\" dy=\"0.35em\">30</text>\n      </g>\n    </g>\n    <g transform=\"translate(16.63,7)\" id=\"img-8a99b6d2-50\">\n      <g class=\"primitive\">\n        <text text-anchor=\"end\" dy=\"0.35em\">40</text>\n      </g>\n    </g>\n  </g>\n  <g font-size=\"3.53\" font-family=\"'PT Sans','Helvetica Neue','Helvetica',sans-serif\" fill=\"#564A55\" stroke=\"#000000\" stroke-opacity=\"0.000\" id=\"img-8a99b6d2-51\">\n    <g transform=\"translate(8.64,43.52)\" id=\"img-8a99b6d2-52\">\n      <g class=\"primitive\">\n        <text text-anchor=\"middle\" dy=\"0.35em\" transform=\"rotate(-90,0, 2)\">A_net (μmol m⁻² s⁻¹)</text>\n      </g>\n    </g>\n  </g>\n</g>\n<defs>\n  <clipPath id=\"img-8a99b6d2-19\">\n    <path d=\"M17.63,5 L108.64,5 108.64,86.04 17.63,86.04 \" />\n  </clipPath>\n</defs>\n</svg>\n"
           },
           "type": "node"
          }
         ],
         "instanceArgs": {
          "handlers": {
           "obs-output": [
            "function (value, scope) {\n    scope.setInnerHTML(value);\n}\n"
           ]
          },
          "id": "8736904414266438369",
          "imports": {
           "data": [],
           "type": "async_block"
          },
          "mount_callbacks": [],
          "observables": {
           "obs-output": {
            "id": "12859720165020801219",
            "sync": false,
            "value": "<?xml version=\"1.0\" encoding=\"UTF-8\"?>\n<svg xmlns=\"http://www.w3.org/2000/svg\"\n     xmlns:xlink=\"http://www.w3.org/1999/xlink\"\n     xmlns:gadfly=\"http://www.gadflyjl.org/ns\"\n     version=\"1.2\"\n     width=\"141.42mm\" height=\"100mm\" viewBox=\"0 0 141.42 100\"\n     stroke=\"none\"\n     fill=\"#000000\"\n     stroke-width=\"0.3\"\n     font-size=\"3.88\"\n>\n<defs>\n  <marker id=\"arrow\" markerWidth=\"15\" markerHeight=\"7\" refX=\"5\" refY=\"3.5\" orient=\"auto\" markerUnits=\"strokeWidth\">\n    <path d=\"M0,0 L15,3.5 L0,7 z\" stroke=\"context-stroke\" fill=\"context-stroke\"/>\n  </marker>\n</defs>\n<g stroke=\"#000000\" stroke-opacity=\"0.000\" fill=\"#FFFFFF\" id=\"img-8a99b6d2-1\">\n  <g transform=\"translate(70.71,50)\">\n    <path d=\"M-70.71,-50 L70.71,-50 70.71,50 -70.71,50  z\" class=\"primitive\"/>\n  </g>\n</g>\n<g class=\"plotroot xscalable yscalable\" id=\"img-8a99b6d2-2\">\n  <g font-size=\"3.53\" font-family=\"'PT Sans','Helvetica Neue','Helvetica',sans-serif\" fill=\"#564A55\" stroke=\"#000000\" stroke-opacity=\"0.000\" id=\"img-8a99b6d2-3\">\n    <g transform=\"translate(63.14,93.72)\">\n      <g class=\"primitive\">\n        <text text-anchor=\"middle\" dy=\"0.6em\">PFD (μmol m⁻² s⁻¹)</text>\n      </g>\n    </g>\n  </g>\n  <g class=\"guide xlabels\" font-size=\"2.82\" font-family=\"'PT Sans Caption','Helvetica Neue','Helvetica',sans-serif\" fill=\"#6C606B\" id=\"img-8a99b6d2-4\">\n    <g transform=\"translate(19.63,87.04)\">\n      <g class=\"primitive\">\n        <text text-anchor=\"middle\" dy=\"0.6em\">0</text>\n      </g>\n    </g>\n    <g transform=\"translate(41.38,87.04)\">\n      <g class=\"primitive\">\n        <text text-anchor=\"middle\" dy=\"0.6em\">500</text>\n      </g>\n    </g>\n    <g transform=\"translate(63.14,87.04)\">\n      <g class=\"primitive\">\n        <text text-anchor=\"middle\" dy=\"0.6em\">1000</text>\n      </g>\n    </g>\n    <g transform=\"translate(84.89,87.04)\">\n      <g class=\"primitive\">\n        <text text-anchor=\"middle\" dy=\"0.6em\">1500</text>\n      </g>\n    </g>\n    <g transform=\"translate(106.64,87.04)\">\n      <g class=\"primitive\">\n        <text text-anchor=\"middle\" dy=\"0.6em\">2000</text>\n      </g>\n    </g>\n  </g>\n  <g class=\"guide colorkey\" id=\"img-8a99b6d2-5\">\n    <g fill=\"#4C404B\" font-size=\"2.82\" font-family=\"'PT Sans','Helvetica Neue','Helvetica',sans-serif\" id=\"img-8a99b6d2-6\">\n      <g transform=\"translate(113.27,44.12)\" id=\"img-8a99b6d2-7\">\n        <g class=\"primitive\">\n          <text dy=\"0.35em\">1000 μmol mol⁻¹</text>\n        </g>\n      </g>\n      <g transform=\"translate(113.27,47.75)\" id=\"img-8a99b6d2-8\">\n        <g class=\"primitive\">\n          <text dy=\"0.35em\">400 μmol mol⁻¹</text>\n        </g>\n      </g>\n      <g transform=\"translate(113.27,51.38)\" id=\"img-8a99b6d2-9\">\n        <g class=\"primitive\">\n          <text dy=\"0.35em\">250 μmol mol⁻¹</text>\n        </g>\n      </g>\n    </g>\n    <g stroke-width=\"0.3\" id=\"img-8a99b6d2-10\">\n      <g stroke=\"#FFFFFF\" stroke-opacity=\"0.000\" fill-opacity=\"1\" fill=\"#FF6DAE\" id=\"img-8a99b6d2-11\">\n        <g transform=\"translate(110.45,51.38)\" id=\"img-8a99b6d2-12\">\n          <circle cx=\"0\" cy=\"0\" r=\"0.7\" class=\"primitive\"/>\n        </g>\n      </g>\n      <g stroke=\"#FFFFFF\" stroke-opacity=\"0.000\" fill-opacity=\"1\" fill=\"#D4CA3A\" id=\"img-8a99b6d2-13\">\n        <g transform=\"translate(110.45,47.75)\" id=\"img-8a99b6d2-14\">\n          <circle cx=\"0\" cy=\"0\" r=\"0.7\" class=\"primitive\"/>\n        </g>\n      </g>\n      <g stroke=\"#FFFFFF\" stroke-opacity=\"0.000\" fill-opacity=\"1\" fill=\"#00BFFF\" id=\"img-8a99b6d2-15\">\n        <g transform=\"translate(110.45,44.12)\" id=\"img-8a99b6d2-16\">\n          <circle cx=\"0\" cy=\"0\" r=\"0.7\" class=\"primitive\"/>\n        </g>\n      </g>\n    </g>\n    <g fill=\"#362A35\" font-size=\"3.18\" font-family=\"'PT Sans','Helvetica Neue','Helvetica',sans-serif\" stroke=\"#000000\" stroke-opacity=\"0.000\" id=\"img-8a99b6d2-17\">\n      <g transform=\"translate(109.64,40.81)\" id=\"img-8a99b6d2-18\">\n        <g class=\"primitive\">\n          <text dy=\"-0em\">CO2 (μmol mol⁻¹)</text>\n        </g>\n      </g>\n    </g>\n  </g>\n  <g clip-path=\"url(#img-8a99b6d2-19)\">\n    <g id=\"img-8a99b6d2-20\">\n      <g pointer-events=\"visible\" stroke-width=\"0.3\" fill=\"#000000\" fill-opacity=\"0.000\" stroke=\"#000000\" stroke-opacity=\"0.000\" class=\"guide background\" id=\"img-8a99b6d2-21\">\n        <g transform=\"translate(63.14,45.52)\" id=\"img-8a99b6d2-22\">\n          <path d=\"M-45.51,-40.52 L45.51,-40.52 45.51,40.52 -45.51,40.52  z\" class=\"primitive\"/>\n        </g>\n      </g>\n      <g class=\"guide ygridlines xfixed\" stroke-dasharray=\"0.5,0.5\" stroke-width=\"0.2\" stroke=\"#D0D0E0\" id=\"img-8a99b6d2-23\">\n        <g transform=\"translate(63.14,84.04)\" id=\"img-8a99b6d2-24\">\n          <path fill=\"none\" d=\"M-45.51,0 L45.51,0 \" class=\"primitive\"/>\n        </g>\n        <g transform=\"translate(63.14,64.78)\" id=\"img-8a99b6d2-25\">\n          <path fill=\"none\" d=\"M-45.51,0 L45.51,0 \" class=\"primitive\"/>\n        </g>\n        <g transform=\"translate(63.14,45.52)\" id=\"img-8a99b6d2-26\">\n          <path fill=\"none\" d=\"M-45.51,0 L45.51,0 \" class=\"primitive\"/>\n        </g>\n        <g transform=\"translate(63.14,26.26)\" id=\"img-8a99b6d2-27\">\n          <path fill=\"none\" d=\"M-45.51,0 L45.51,0 \" class=\"primitive\"/>\n        </g>\n        <g transform=\"translate(63.14,7)\" id=\"img-8a99b6d2-28\">\n          <path fill=\"none\" d=\"M-45.51,0 L45.51,0 \" class=\"primitive\"/>\n        </g>\n      </g>\n      <g class=\"guide xgridlines yfixed\" stroke-dasharray=\"0.5,0.5\" stroke-width=\"0.2\" stroke=\"#D0D0E0\" id=\"img-8a99b6d2-29\">\n        <g transform=\"translate(19.63,45.52)\" id=\"img-8a99b6d2-30\">\n          <path fill=\"none\" d=\"M0,-40.52 L0,40.52 \" class=\"primitive\"/>\n        </g>\n        <g transform=\"translate(41.38,45.52)\" id=\"img-8a99b6d2-31\">\n          <path fill=\"none\" d=\"M0,-40.52 L0,40.52 \" class=\"primitive\"/>\n        </g>\n        <g transform=\"translate(63.14,45.52)\" id=\"img-8a99b6d2-32\">\n          <path fill=\"none\" d=\"M0,-40.52 L0,40.52 \" class=\"primitive\"/>\n        </g>\n        <g transform=\"translate(84.89,45.52)\" id=\"img-8a99b6d2-33\">\n          <path fill=\"none\" d=\"M0,-40.52 L0,40.52 \" class=\"primitive\"/>\n        </g>\n        <g transform=\"translate(106.64,45.52)\" id=\"img-8a99b6d2-34\">\n          <path fill=\"none\" d=\"M0,-40.52 L0,40.52 \" class=\"primitive\"/>\n        </g>\n      </g>\n      <g class=\"plotpanel\" id=\"img-8a99b6d2-35\">\n        <metadata>\n          <boundingbox value=\"17.629999999999995mm 5.0mm 91.01135623730951mm 81.04333333333334mm\"/>\n          <unitbox value=\"-45.971010830938454 41.038376671137456 2091.942021661877 -42.07675334227491\"/>\n        </metadata>\n        <g stroke-width=\"0.3\" fill=\"#000000\" fill-opacity=\"0.000\" class=\"geometry\" id=\"img-8a99b6d2-36\">\n          <g class=\"color_LCHab{Float32}(70.0f0,60.0f0,240.0f0)\" stroke-dasharray=\"none\" stroke=\"#00BFFF\" id=\"img-8a99b6d2-37\">\n            <g transform=\"translate(63.14,36.48)\" id=\"img-8a99b6d2-38\">\n              <path fill=\"none\" d=\"M-43.51,49.63 L-39.16,35.83 -34.8,24.5 -30.45,15.67 -26.1,9.05 -21.75,4.18 -17.4,0.55 -13.05,-2.19 -8.7,-4.33 -4.35,-6.04 -0,-7.43 4.35,-8.6 8.7,-9.6 13.05,-10.46 17.4,-11.22 21.75,-11.9 26.1,-12.5 30.45,-13.06 34.8,-13.57 39.16,-14.04 43.51,-14.48 \" class=\"primitive\"/>\n            </g>\n          </g>\n        </g>\n        <g stroke-width=\"0.3\" fill=\"#000000\" fill-opacity=\"0.000\" class=\"geometry\" id=\"img-8a99b6d2-39\">\n          <g class=\"color_LCHab{Float32}(80.0f0,70.000015f0,100.43479f0)\" stroke-dasharray=\"none\" stroke=\"#D4CA3A\" id=\"img-8a99b6d2-40\">\n            <g transform=\"translate(63.14,47.62)\" id=\"img-8a99b6d2-41\">\n              <path fill=\"none\" d=\"M-43.51,38.49 L-39.16,27.55 -34.8,18.58 -30.45,11.61 -26.1,6.45 -21.75,2.7 -17.4,-0.04 -13.05,-2.09 -8.7,-3.65 -4.35,-4.89 -0,-5.88 4.35,-6.69 8.7,-7.38 13.05,-7.95 17.4,-8.45 21.75,-8.89 26.1,-9.27 30.45,-9.62 34.8,-9.92 39.16,-10.2 43.51,-10.45 \" class=\"primitive\"/>\n            </g>\n          </g>\n        </g>\n        <g stroke-width=\"0.3\" fill=\"#000000\" fill-opacity=\"0.000\" class=\"geometry\" id=\"img-8a99b6d2-42\">\n          <g class=\"color_LCHab{Float32}(65.89944f0,62.21457f0,353.99814f0)\" stroke-dasharray=\"none\" stroke=\"#FF6DAE\" id=\"img-8a99b6d2-43\">\n            <g transform=\"translate(63.14,58.37)\" id=\"img-8a99b6d2-44\">\n              <path fill=\"none\" d=\"M-43.51,27.74 L-39.16,18.98 -34.8,11.78 -30.45,6.17 -26.1,2.04 -21.75,-0.94 -17.4,-3.1 -13.05,-4.69 -8.7,-4.82 -4.35,-4.76 -0,-4.7 4.35,-4.65 8.7,-4.59 13.05,-4.53 17.4,-4.47 21.75,-4.41 26.1,-4.34 30.45,-4.28 34.8,-4.21 39.16,-4.15 43.51,-4.08 \" class=\"primitive\"/>\n            </g>\n          </g>\n        </g>\n      </g>\n    </g>\n  </g>\n  <g class=\"guide ylabels\" font-size=\"2.82\" font-family=\"'PT Sans Caption','Helvetica Neue','Helvetica',sans-serif\" fill=\"#6C606B\" id=\"img-8a99b6d2-45\">\n    <g transform=\"translate(16.63,84.04)\" id=\"img-8a99b6d2-46\">\n      <g class=\"primitive\">\n        <text text-anchor=\"end\" dy=\"0.35em\">0</text>\n      </g>\n    </g>\n    <g transform=\"translate(16.63,64.78)\" id=\"img-8a99b6d2-47\">\n      <g class=\"primitive\">\n        <text text-anchor=\"end\" dy=\"0.35em\">10</text>\n      </g>\n    </g>\n    <g transform=\"translate(16.63,45.52)\" id=\"img-8a99b6d2-48\">\n      <g class=\"primitive\">\n        <text text-anchor=\"end\" dy=\"0.35em\">20</text>\n      </g>\n    </g>\n    <g transform=\"translate(16.63,26.26)\" id=\"img-8a99b6d2-49\">\n      <g class=\"primitive\">\n        <text text-anchor=\"end\" dy=\"0.35em\">30</text>\n      </g>\n    </g>\n    <g transform=\"translate(16.63,7)\" id=\"img-8a99b6d2-50\">\n      <g class=\"primitive\">\n        <text text-anchor=\"end\" dy=\"0.35em\">40</text>\n      </g>\n    </g>\n  </g>\n  <g font-size=\"3.53\" font-family=\"'PT Sans','Helvetica Neue','Helvetica',sans-serif\" fill=\"#564A55\" stroke=\"#000000\" stroke-opacity=\"0.000\" id=\"img-8a99b6d2-51\">\n    <g transform=\"translate(8.64,43.52)\" id=\"img-8a99b6d2-52\">\n      <g class=\"primitive\">\n        <text text-anchor=\"middle\" dy=\"0.35em\" transform=\"rotate(-90,0, 2)\">A_net (μmol m⁻² s⁻¹)</text>\n      </g>\n    </g>\n  </g>\n</g>\n<defs>\n  <clipPath id=\"img-8a99b6d2-19\">\n    <path d=\"M17.63,5 L108.64,5 108.64,86.04 17.63,86.04 \" />\n  </clipPath>\n</defs>\n</svg>\n"
           }
          },
          "systemjs_options": null
         },
         "nodeType": "Scope",
         "props": {},
         "type": "node"
        }
       ],
       "instanceArgs": {
        "namespace": "html",
        "tag": "div"
       },
       "nodeType": "DOM",
       "props": {
        "style": {
         "display": "flex",
         "flex-direction": "column"
        }
       },
       "type": "node"
      },
      "text/html": [
       "<div\n",
       "    class=\"webio-mountpoint\"\n",
       "    data-webio-mountpoint=\"4371776822444618838\"\n",
       ">\n",
       "    <script>\n",
       "    (function(){\n",
       "    // Some integrations (namely, IJulia/Jupyter) use an alternate render pathway than\n",
       "    // just putting the html on the page. If WebIO isn't defined, then it's pretty likely\n",
       "    // that we're in one of those situations and the integration just isn't installed\n",
       "    // correctly.\n",
       "    if (typeof window.WebIO === \"undefined\") {\n",
       "        document\n",
       "            .querySelector('[data-webio-mountpoint=\"4371776822444618838\"]')\n",
       "            .innerHTML = (\n",
       "                '<div style=\"padding: 1em; background-color: #f8d6da; border: 1px solid #f5c6cb; font-weight: bold;\">' +\n",
       "                '<p><strong>WebIO not detected.</strong></p>' +\n",
       "                '<p>Please read ' +\n",
       "                '<a href=\"https://juliagizmos.github.io/WebIO.jl/latest/troubleshooting/not-detected/\" target=\"_blank\">the troubleshooting guide</a> ' +\n",
       "                'for more information on how to resolve this issue.</p>' +\n",
       "                '<p><a href=\"https://juliagizmos.github.io/WebIO.jl/latest/troubleshooting/not-detected/\" target=\"_blank\">https://juliagizmos.github.io/WebIO.jl/latest/troubleshooting/not-detected/</a></p>' +\n",
       "                '</div>'\n",
       "            );\n",
       "        return;\n",
       "    }\n",
       "    WebIO.mount(\n",
       "        document.querySelector('[data-webio-mountpoint=\"4371776822444618838\"]'),\n",
       "        {\"props\":{\"style\":{\"display\":\"flex\",\"flex-direction\":\"column\"}},\"nodeType\":\"DOM\",\"type\":\"node\",\"instanceArgs\":{\"namespace\":\"html\",\"tag\":\"div\"},\"children\":[{\"props\":{\"style\":{\"color\":\"rebeccapurple\",\"font-family\":\"monospace\"}},\"nodeType\":\"DOM\",\"type\":\"node\",\"instanceArgs\":{\"namespace\":\"html\",\"tag\":\"div\"},\"children\":[\"StomataTuzet\"]},{\"props\":{\"className\":\"field interact-widget\"},\"nodeType\":\"DOM\",\"type\":\"node\",\"instanceArgs\":{\"namespace\":\"html\",\"tag\":\"div\"},\"children\":[{\"props\":{},\"nodeType\":\"Scope\",\"type\":\"node\",\"instanceArgs\":{\"imports\":{\"data\":[{\"name\":\"knockout\",\"type\":\"js\",\"url\":\"\\/assetserver\\/c0689c4f2514def856941022372b529b3413f129-knockout.js\"},{\"name\":\"knockout_punches\",\"type\":\"js\",\"url\":\"\\/assetserver\\/69274bc4b68b761587a57ff3f5e787f3dd4781dc-knockout_punches.js\"},{\"name\":null,\"type\":\"js\",\"url\":\"\\/assetserver\\/096b68745a0180096d3bd812a95825d387626124-all.js\"},{\"name\":null,\"type\":\"css\",\"url\":\"\\/assetserver\\/d8822751ac3a06d244eead91a737222f90bb9e0b-style.css\"},{\"name\":null,\"type\":\"css\",\"url\":\"\\/assetserver\\/792d9982ee796e4da6422248c42eb77a0d83e61e-bulma_confined.min.css\"}],\"type\":\"async_block\"},\"id\":\"9231633856790024502\",\"handlers\":{\"changes\":[\"(function (val){return (val!=this.model[\\\"changes\\\"]()) ? (this.valueFromJulia[\\\"changes\\\"]=true, this.model[\\\"changes\\\"](val)) : undefined})\"],\"index\":[\"(function (val){return (val!=this.model[\\\"index\\\"]()) ? (this.valueFromJulia[\\\"index\\\"]=true, this.model[\\\"index\\\"](val)) : undefined})\"]},\"systemjs_options\":null,\"mount_callbacks\":[\"function () {\\n    var handler = (function (ko, koPunches) {\\n    ko.punches.enableAll();\\n    ko.bindingHandlers.numericValue = {\\n        init: function(element, valueAccessor, allBindings, data, context) {\\n            var stringified = ko.observable(ko.unwrap(valueAccessor()));\\n            stringified.subscribe(function(value) {\\n                var val = parseFloat(value);\\n                if (!isNaN(val)) {\\n                    valueAccessor()(val);\\n                }\\n            });\\n            valueAccessor().subscribe(function(value) {\\n                var str = JSON.stringify(value);\\n                if ((str == \\\"0\\\") && ([\\\"-0\\\", \\\"-0.\\\"].indexOf(stringified()) >= 0))\\n                     return;\\n                 if ([\\\"null\\\", \\\"\\\"].indexOf(str) >= 0)\\n                     return;\\n                stringified(str);\\n            });\\n            ko.applyBindingsToNode(\\n                element,\\n                {\\n                    value: stringified,\\n                    valueUpdate: allBindings.get('valueUpdate'),\\n                },\\n                context,\\n            );\\n        }\\n    };\\n    var json_data = {\\\"formatted_vals\\\":[\\\"-3.0\\\",\\\"-2.9\\\",\\\"-2.8\\\",\\\"-2.7\\\",\\\"-2.6\\\",\\\"-2.5\\\",\\\"-2.4\\\",\\\"-2.3\\\",\\\"-2.2\\\",\\\"-2.1\\\",\\\"-2.0\\\",\\\"-1.9\\\",\\\"-1.8\\\",\\\"-1.7\\\",\\\"-1.6\\\",\\\"-1.5\\\",\\\"-1.4\\\",\\\"-1.3\\\",\\\"-1.2\\\",\\\"-1.1\\\",\\\"-1.0\\\",\\\"-0.9\\\",\\\"-0.8\\\",\\\"-0.7\\\",\\\"-0.6\\\",\\\"-0.5\\\",\\\"-0.4\\\",\\\"-0.3\\\",\\\"-0.2\\\",\\\"-0.1\\\",\\\"0.0\\\"],\\\"changes\\\":WebIO.getval({\\\"name\\\":\\\"changes\\\",\\\"scope\\\":\\\"9231633856790024502\\\",\\\"id\\\":\\\"2616168607354390432\\\",\\\"type\\\":\\\"observable\\\"}),\\\"index\\\":WebIO.getval({\\\"name\\\":\\\"index\\\",\\\"scope\\\":\\\"9231633856790024502\\\",\\\"id\\\":\\\"3544504322782784420\\\",\\\"type\\\":\\\"observable\\\"})};\\n    var self = this;\\n    function AppViewModel() {\\n        for (var key in json_data) {\\n            var el = json_data[key];\\n            this[key] = Array.isArray(el) ? ko.observableArray(el) : ko.observable(el);\\n        }\\n        \\n        [this[\\\"formatted_val\\\"]=ko.computed(    function(){\\n        return this.formatted_vals()[parseInt(this.index())-(1)];\\n    }\\n,this)]\\n        [this[\\\"changes\\\"].subscribe((function (val){!(this.valueFromJulia[\\\"changes\\\"]) ? (WebIO.setval({\\\"name\\\":\\\"changes\\\",\\\"scope\\\":\\\"9231633856790024502\\\",\\\"id\\\":\\\"2616168607354390432\\\",\\\"type\\\":\\\"observable\\\"},val)) : undefined; return this.valueFromJulia[\\\"changes\\\"]=false}),self),this[\\\"index\\\"].subscribe((function (val){!(this.valueFromJulia[\\\"index\\\"]) ? (WebIO.setval({\\\"name\\\":\\\"index\\\",\\\"scope\\\":\\\"9231633856790024502\\\",\\\"id\\\":\\\"3544504322782784420\\\",\\\"type\\\":\\\"observable\\\"},val)) : undefined; return this.valueFromJulia[\\\"index\\\"]=false}),self)]\\n        \\n    }\\n    self.model = new AppViewModel();\\n    self.valueFromJulia = {};\\n    for (var key in json_data) {\\n        self.valueFromJulia[key] = false;\\n    }\\n    ko.applyBindings(self.model, self.dom);\\n}\\n);\\n    (WebIO.importBlock({\\\"data\\\":[{\\\"name\\\":\\\"knockout\\\",\\\"type\\\":\\\"js\\\",\\\"url\\\":\\\"\\/assetserver\\/c0689c4f2514def856941022372b529b3413f129-knockout.js\\\"},{\\\"name\\\":\\\"knockout_punches\\\",\\\"type\\\":\\\"js\\\",\\\"url\\\":\\\"\\/assetserver\\/69274bc4b68b761587a57ff3f5e787f3dd4781dc-knockout_punches.js\\\"}],\\\"type\\\":\\\"async_block\\\"})).then((imports) => handler.apply(this, imports));\\n}\\n\"],\"observables\":{\"changes\":{\"sync\":true,\"id\":\"2616168607354390432\",\"value\":0},\"index\":{\"sync\":true,\"id\":\"3544504322782784420\",\"value\":26}}},\"children\":[{\"props\":{\"className\":\"interact-flex-row interact-widget\",\"style\":{\"font-family\":\"monospace\",\"width\":\"80%\"}},\"nodeType\":\"DOM\",\"type\":\"node\",\"instanceArgs\":{\"namespace\":\"html\",\"tag\":\"div\"},\"children\":[{\"props\":{\"className\":\"interact-flex-row-left\"},\"nodeType\":\"DOM\",\"type\":\"node\",\"instanceArgs\":{\"namespace\":\"html\",\"tag\":\"div\"},\"children\":[{\"props\":{\"className\":\"interact \",\"style\":{\"padding\":\"5px 10px 0px 10px\",\"white-space\":\"nowrap\",\"color\":\"royalblue\"}},\"nodeType\":\"DOM\",\"type\":\"node\",\"instanceArgs\":{\"namespace\":\"html\",\"tag\":\"label\"},\"children\":[\"WP_leaf\"]}]},{\"props\":{\"className\":\"interact-flex-row-center\"},\"nodeType\":\"DOM\",\"type\":\"node\",\"instanceArgs\":{\"namespace\":\"html\",\"tag\":\"div\"},\"children\":[{\"props\":{\"max\":31,\"min\":1,\"attributes\":{\"type\":\"range\",\"data-bind\":\"numericValue: index, valueUpdate: 'input', event: {change: function (){this.changes(this.changes()+1)}}\",\"orient\":\"horizontal\"},\"step\":1,\"className\":\"slider slider is-fullwidth\",\"style\":{}},\"nodeType\":\"DOM\",\"type\":\"node\",\"instanceArgs\":{\"namespace\":\"html\",\"tag\":\"input\"},\"children\":[]}]},{\"props\":{\"className\":\"interact-flex-row-right\"},\"nodeType\":\"DOM\",\"type\":\"node\",\"instanceArgs\":{\"namespace\":\"html\",\"tag\":\"div\"},\"children\":[{\"props\":{\"attributes\":{\"data-bind\":\"text: formatted_val\"}},\"nodeType\":\"DOM\",\"type\":\"node\",\"instanceArgs\":{\"namespace\":\"html\",\"tag\":\"p\"},\"children\":[]}]}]}]}]},{\"props\":{\"style\":{\"color\":\"rebeccapurple\",\"font-family\":\"monospace\"}},\"nodeType\":\"DOM\",\"type\":\"node\",\"instanceArgs\":{\"namespace\":\"html\",\"tag\":\"div\"},\"children\":[\"Weather\"]},{\"props\":{\"className\":\"field interact-widget\"},\"nodeType\":\"DOM\",\"type\":\"node\",\"instanceArgs\":{\"namespace\":\"html\",\"tag\":\"div\"},\"children\":[{\"props\":{},\"nodeType\":\"Scope\",\"type\":\"node\",\"instanceArgs\":{\"imports\":{\"data\":[{\"name\":\"knockout\",\"type\":\"js\",\"url\":\"\\/assetserver\\/c0689c4f2514def856941022372b529b3413f129-knockout.js\"},{\"name\":\"knockout_punches\",\"type\":\"js\",\"url\":\"\\/assetserver\\/69274bc4b68b761587a57ff3f5e787f3dd4781dc-knockout_punches.js\"},{\"name\":null,\"type\":\"js\",\"url\":\"\\/assetserver\\/096b68745a0180096d3bd812a95825d387626124-all.js\"},{\"name\":null,\"type\":\"css\",\"url\":\"\\/assetserver\\/d8822751ac3a06d244eead91a737222f90bb9e0b-style.css\"},{\"name\":null,\"type\":\"css\",\"url\":\"\\/assetserver\\/792d9982ee796e4da6422248c42eb77a0d83e61e-bulma_confined.min.css\"}],\"type\":\"async_block\"},\"id\":\"3634689085492476956\",\"handlers\":{\"changes\":[\"(function (val){return (val!=this.model[\\\"changes\\\"]()) ? (this.valueFromJulia[\\\"changes\\\"]=true, this.model[\\\"changes\\\"](val)) : undefined})\"],\"index\":[\"(function (val){return (val!=this.model[\\\"index\\\"]()) ? (this.valueFromJulia[\\\"index\\\"]=true, this.model[\\\"index\\\"](val)) : undefined})\"]},\"systemjs_options\":null,\"mount_callbacks\":[\"function () {\\n    var handler = (function (ko, koPunches) {\\n    ko.punches.enableAll();\\n    ko.bindingHandlers.numericValue = {\\n        init: function(element, valueAccessor, allBindings, data, context) {\\n            var stringified = ko.observable(ko.unwrap(valueAccessor()));\\n            stringified.subscribe(function(value) {\\n                var val = parseFloat(value);\\n                if (!isNaN(val)) {\\n                    valueAccessor()(val);\\n                }\\n            });\\n            valueAccessor().subscribe(function(value) {\\n                var str = JSON.stringify(value);\\n                if ((str == \\\"0\\\") && ([\\\"-0\\\", \\\"-0.\\\"].indexOf(stringified()) >= 0))\\n                     return;\\n                 if ([\\\"null\\\", \\\"\\\"].indexOf(str) >= 0)\\n                     return;\\n                stringified(str);\\n            });\\n            ko.applyBindingsToNode(\\n                element,\\n                {\\n                    value: stringified,\\n                    valueUpdate: allBindings.get('valueUpdate'),\\n                },\\n                context,\\n            );\\n        }\\n    };\\n    var json_data = {\\\"formatted_vals\\\":[\\\"0\\\",\\\"5\\\",\\\"10\\\",\\\"15\\\",\\\"20\\\",\\\"25\\\",\\\"30\\\",\\\"35\\\",\\\"40\\\",\\\"45\\\",\\\"50\\\",\\\"55\\\",\\\"60\\\",\\\"65\\\",\\\"70\\\",\\\"75\\\",\\\"80\\\",\\\"85\\\",\\\"90\\\",\\\"95\\\",\\\"100\\\"],\\\"changes\\\":WebIO.getval({\\\"name\\\":\\\"changes\\\",\\\"scope\\\":\\\"3634689085492476956\\\",\\\"id\\\":\\\"7992717401089257831\\\",\\\"type\\\":\\\"observable\\\"}),\\\"index\\\":WebIO.getval({\\\"name\\\":\\\"index\\\",\\\"scope\\\":\\\"3634689085492476956\\\",\\\"id\\\":\\\"4165104326073148628\\\",\\\"type\\\":\\\"observable\\\"})};\\n    var self = this;\\n    function AppViewModel() {\\n        for (var key in json_data) {\\n            var el = json_data[key];\\n            this[key] = Array.isArray(el) ? ko.observableArray(el) : ko.observable(el);\\n        }\\n        \\n        [this[\\\"formatted_val\\\"]=ko.computed(    function(){\\n        return this.formatted_vals()[parseInt(this.index())-(1)];\\n    }\\n,this)]\\n        [this[\\\"changes\\\"].subscribe((function (val){!(this.valueFromJulia[\\\"changes\\\"]) ? (WebIO.setval({\\\"name\\\":\\\"changes\\\",\\\"scope\\\":\\\"3634689085492476956\\\",\\\"id\\\":\\\"7992717401089257831\\\",\\\"type\\\":\\\"observable\\\"},val)) : undefined; return this.valueFromJulia[\\\"changes\\\"]=false}),self),this[\\\"index\\\"].subscribe((function (val){!(this.valueFromJulia[\\\"index\\\"]) ? (WebIO.setval({\\\"name\\\":\\\"index\\\",\\\"scope\\\":\\\"3634689085492476956\\\",\\\"id\\\":\\\"4165104326073148628\\\",\\\"type\\\":\\\"observable\\\"},val)) : undefined; return this.valueFromJulia[\\\"index\\\"]=false}),self)]\\n        \\n    }\\n    self.model = new AppViewModel();\\n    self.valueFromJulia = {};\\n    for (var key in json_data) {\\n        self.valueFromJulia[key] = false;\\n    }\\n    ko.applyBindings(self.model, self.dom);\\n}\\n);\\n    (WebIO.importBlock({\\\"data\\\":[{\\\"name\\\":\\\"knockout\\\",\\\"type\\\":\\\"js\\\",\\\"url\\\":\\\"\\/assetserver\\/c0689c4f2514def856941022372b529b3413f129-knockout.js\\\"},{\\\"name\\\":\\\"knockout_punches\\\",\\\"type\\\":\\\"js\\\",\\\"url\\\":\\\"\\/assetserver\\/69274bc4b68b761587a57ff3f5e787f3dd4781dc-knockout_punches.js\\\"}],\\\"type\\\":\\\"async_block\\\"})).then((imports) => handler.apply(this, imports));\\n}\\n\"],\"observables\":{\"changes\":{\"sync\":true,\"id\":\"7992717401089257831\",\"value\":0},\"index\":{\"sync\":true,\"id\":\"4165104326073148628\",\"value\":13}}},\"children\":[{\"props\":{\"className\":\"interact-flex-row interact-widget\",\"style\":{\"font-family\":\"monospace\",\"width\":\"80%\"}},\"nodeType\":\"DOM\",\"type\":\"node\",\"instanceArgs\":{\"namespace\":\"html\",\"tag\":\"div\"},\"children\":[{\"props\":{\"className\":\"interact-flex-row-left\"},\"nodeType\":\"DOM\",\"type\":\"node\",\"instanceArgs\":{\"namespace\":\"html\",\"tag\":\"div\"},\"children\":[{\"props\":{\"className\":\"interact \",\"style\":{\"padding\":\"5px 10px 0px 10px\",\"white-space\":\"nowrap\",\"color\":\"royalblue\"}},\"nodeType\":\"DOM\",\"type\":\"node\",\"instanceArgs\":{\"namespace\":\"html\",\"tag\":\"label\"},\"children\":[\"RH (%)\"]}]},{\"props\":{\"className\":\"interact-flex-row-center\"},\"nodeType\":\"DOM\",\"type\":\"node\",\"instanceArgs\":{\"namespace\":\"html\",\"tag\":\"div\"},\"children\":[{\"props\":{\"max\":21,\"min\":1,\"attributes\":{\"type\":\"range\",\"data-bind\":\"numericValue: index, valueUpdate: 'input', event: {change: function (){this.changes(this.changes()+1)}}\",\"orient\":\"horizontal\"},\"step\":1,\"className\":\"slider slider is-fullwidth\",\"style\":{}},\"nodeType\":\"DOM\",\"type\":\"node\",\"instanceArgs\":{\"namespace\":\"html\",\"tag\":\"input\"},\"children\":[]}]},{\"props\":{\"className\":\"interact-flex-row-right\"},\"nodeType\":\"DOM\",\"type\":\"node\",\"instanceArgs\":{\"namespace\":\"html\",\"tag\":\"div\"},\"children\":[{\"props\":{\"attributes\":{\"data-bind\":\"text: formatted_val\"}},\"nodeType\":\"DOM\",\"type\":\"node\",\"instanceArgs\":{\"namespace\":\"html\",\"tag\":\"p\"},\"children\":[]}]}]}]}]},{\"props\":{\"className\":\"field interact-widget\"},\"nodeType\":\"DOM\",\"type\":\"node\",\"instanceArgs\":{\"namespace\":\"html\",\"tag\":\"div\"},\"children\":[{\"props\":{},\"nodeType\":\"Scope\",\"type\":\"node\",\"instanceArgs\":{\"imports\":{\"data\":[{\"name\":\"knockout\",\"type\":\"js\",\"url\":\"\\/assetserver\\/c0689c4f2514def856941022372b529b3413f129-knockout.js\"},{\"name\":\"knockout_punches\",\"type\":\"js\",\"url\":\"\\/assetserver\\/69274bc4b68b761587a57ff3f5e787f3dd4781dc-knockout_punches.js\"},{\"name\":null,\"type\":\"js\",\"url\":\"\\/assetserver\\/096b68745a0180096d3bd812a95825d387626124-all.js\"},{\"name\":null,\"type\":\"css\",\"url\":\"\\/assetserver\\/d8822751ac3a06d244eead91a737222f90bb9e0b-style.css\"},{\"name\":null,\"type\":\"css\",\"url\":\"\\/assetserver\\/792d9982ee796e4da6422248c42eb77a0d83e61e-bulma_confined.min.css\"}],\"type\":\"async_block\"},\"id\":\"6750783212660687102\",\"handlers\":{\"changes\":[\"(function (val){return (val!=this.model[\\\"changes\\\"]()) ? (this.valueFromJulia[\\\"changes\\\"]=true, this.model[\\\"changes\\\"](val)) : undefined})\"],\"index\":[\"(function (val){return (val!=this.model[\\\"index\\\"]()) ? (this.valueFromJulia[\\\"index\\\"]=true, this.model[\\\"index\\\"](val)) : undefined})\"]},\"systemjs_options\":null,\"mount_callbacks\":[\"function () {\\n    var handler = (function (ko, koPunches) {\\n    ko.punches.enableAll();\\n    ko.bindingHandlers.numericValue = {\\n        init: function(element, valueAccessor, allBindings, data, context) {\\n            var stringified = ko.observable(ko.unwrap(valueAccessor()));\\n            stringified.subscribe(function(value) {\\n                var val = parseFloat(value);\\n                if (!isNaN(val)) {\\n                    valueAccessor()(val);\\n                }\\n            });\\n            valueAccessor().subscribe(function(value) {\\n                var str = JSON.stringify(value);\\n                if ((str == \\\"0\\\") && ([\\\"-0\\\", \\\"-0.\\\"].indexOf(stringified()) >= 0))\\n                     return;\\n                 if ([\\\"null\\\", \\\"\\\"].indexOf(str) >= 0)\\n                     return;\\n                stringified(str);\\n            });\\n            ko.applyBindingsToNode(\\n                element,\\n                {\\n                    value: stringified,\\n                    valueUpdate: allBindings.get('valueUpdate'),\\n                },\\n                context,\\n            );\\n        }\\n    };\\n    var json_data = {\\\"formatted_vals\\\":[\\\"0\\\",\\\"1\\\",\\\"2\\\",\\\"3\\\",\\\"4\\\",\\\"5\\\",\\\"6\\\",\\\"7\\\",\\\"8\\\",\\\"9\\\",\\\"10\\\",\\\"11\\\",\\\"12\\\",\\\"13\\\",\\\"14\\\",\\\"15\\\",\\\"16\\\",\\\"17\\\",\\\"18\\\",\\\"19\\\",\\\"20\\\",\\\"21\\\",\\\"22\\\",\\\"23\\\",\\\"24\\\",\\\"25\\\",\\\"26\\\",\\\"27\\\",\\\"28\\\",\\\"29\\\",\\\"30\\\",\\\"31\\\",\\\"32\\\",\\\"33\\\",\\\"34\\\",\\\"35\\\",\\\"36\\\",\\\"37\\\",\\\"38\\\",\\\"39\\\",\\\"40\\\",\\\"41\\\",\\\"42\\\",\\\"43\\\",\\\"44\\\",\\\"45\\\",\\\"46\\\",\\\"47\\\",\\\"48\\\",\\\"49\\\",\\\"50\\\"],\\\"changes\\\":WebIO.getval({\\\"name\\\":\\\"changes\\\",\\\"scope\\\":\\\"6750783212660687102\\\",\\\"id\\\":\\\"7852175081536351498\\\",\\\"type\\\":\\\"observable\\\"}),\\\"index\\\":WebIO.getval({\\\"name\\\":\\\"index\\\",\\\"scope\\\":\\\"6750783212660687102\\\",\\\"id\\\":\\\"1644922193804304513\\\",\\\"type\\\":\\\"observable\\\"})};\\n    var self = this;\\n    function AppViewModel() {\\n        for (var key in json_data) {\\n            var el = json_data[key];\\n            this[key] = Array.isArray(el) ? ko.observableArray(el) : ko.observable(el);\\n        }\\n        \\n        [this[\\\"formatted_val\\\"]=ko.computed(    function(){\\n        return this.formatted_vals()[parseInt(this.index())-(1)];\\n    }\\n,this)]\\n        [this[\\\"changes\\\"].subscribe((function (val){!(this.valueFromJulia[\\\"changes\\\"]) ? (WebIO.setval({\\\"name\\\":\\\"changes\\\",\\\"scope\\\":\\\"6750783212660687102\\\",\\\"id\\\":\\\"7852175081536351498\\\",\\\"type\\\":\\\"observable\\\"},val)) : undefined; return this.valueFromJulia[\\\"changes\\\"]=false}),self),this[\\\"index\\\"].subscribe((function (val){!(this.valueFromJulia[\\\"index\\\"]) ? (WebIO.setval({\\\"name\\\":\\\"index\\\",\\\"scope\\\":\\\"6750783212660687102\\\",\\\"id\\\":\\\"1644922193804304513\\\",\\\"type\\\":\\\"observable\\\"},val)) : undefined; return this.valueFromJulia[\\\"index\\\"]=false}),self)]\\n        \\n    }\\n    self.model = new AppViewModel();\\n    self.valueFromJulia = {};\\n    for (var key in json_data) {\\n        self.valueFromJulia[key] = false;\\n    }\\n    ko.applyBindings(self.model, self.dom);\\n}\\n);\\n    (WebIO.importBlock({\\\"data\\\":[{\\\"name\\\":\\\"knockout\\\",\\\"type\\\":\\\"js\\\",\\\"url\\\":\\\"\\/assetserver\\/c0689c4f2514def856941022372b529b3413f129-knockout.js\\\"},{\\\"name\\\":\\\"knockout_punches\\\",\\\"type\\\":\\\"js\\\",\\\"url\\\":\\\"\\/assetserver\\/69274bc4b68b761587a57ff3f5e787f3dd4781dc-knockout_punches.js\\\"}],\\\"type\\\":\\\"async_block\\\"})).then((imports) => handler.apply(this, imports));\\n}\\n\"],\"observables\":{\"changes\":{\"sync\":true,\"id\":\"7852175081536351498\",\"value\":0},\"index\":{\"sync\":true,\"id\":\"1644922193804304513\",\"value\":26}}},\"children\":[{\"props\":{\"className\":\"interact-flex-row interact-widget\",\"style\":{\"font-family\":\"monospace\",\"width\":\"80%\"}},\"nodeType\":\"DOM\",\"type\":\"node\",\"instanceArgs\":{\"namespace\":\"html\",\"tag\":\"div\"},\"children\":[{\"props\":{\"className\":\"interact-flex-row-left\"},\"nodeType\":\"DOM\",\"type\":\"node\",\"instanceArgs\":{\"namespace\":\"html\",\"tag\":\"div\"},\"children\":[{\"props\":{\"className\":\"interact \",\"style\":{\"padding\":\"5px 10px 0px 10px\",\"white-space\":\"nowrap\",\"color\":\"royalblue\"}},\"nodeType\":\"DOM\",\"type\":\"node\",\"instanceArgs\":{\"namespace\":\"html\",\"tag\":\"label\"},\"children\":[\"T_air (°C)\"]}]},{\"props\":{\"className\":\"interact-flex-row-center\"},\"nodeType\":\"DOM\",\"type\":\"node\",\"instanceArgs\":{\"namespace\":\"html\",\"tag\":\"div\"},\"children\":[{\"props\":{\"max\":51,\"min\":1,\"attributes\":{\"type\":\"range\",\"data-bind\":\"numericValue: index, valueUpdate: 'input', event: {change: function (){this.changes(this.changes()+1)}}\",\"orient\":\"horizontal\"},\"step\":1,\"className\":\"slider slider is-fullwidth\",\"style\":{}},\"nodeType\":\"DOM\",\"type\":\"node\",\"instanceArgs\":{\"namespace\":\"html\",\"tag\":\"input\"},\"children\":[]}]},{\"props\":{\"className\":\"interact-flex-row-right\"},\"nodeType\":\"DOM\",\"type\":\"node\",\"instanceArgs\":{\"namespace\":\"html\",\"tag\":\"div\"},\"children\":[{\"props\":{\"attributes\":{\"data-bind\":\"text: formatted_val\"}},\"nodeType\":\"DOM\",\"type\":\"node\",\"instanceArgs\":{\"namespace\":\"html\",\"tag\":\"p\"},\"children\":[]}]}]}]}]},{\"props\":{\"style\":{\"color\":\"rebeccapurple\",\"font-family\":\"monospace\"}},\"nodeType\":\"DOM\",\"type\":\"node\",\"instanceArgs\":{\"namespace\":\"html\",\"tag\":\"div\"},\"children\":[\"Nitrogen\"]},{\"props\":{\"className\":\"field interact-widget\"},\"nodeType\":\"DOM\",\"type\":\"node\",\"instanceArgs\":{\"namespace\":\"html\",\"tag\":\"div\"},\"children\":[{\"props\":{},\"nodeType\":\"Scope\",\"type\":\"node\",\"instanceArgs\":{\"imports\":{\"data\":[{\"name\":\"knockout\",\"type\":\"js\",\"url\":\"\\/assetserver\\/c0689c4f2514def856941022372b529b3413f129-knockout.js\"},{\"name\":\"knockout_punches\",\"type\":\"js\",\"url\":\"\\/assetserver\\/69274bc4b68b761587a57ff3f5e787f3dd4781dc-knockout_punches.js\"},{\"name\":null,\"type\":\"js\",\"url\":\"\\/assetserver\\/096b68745a0180096d3bd812a95825d387626124-all.js\"},{\"name\":null,\"type\":\"css\",\"url\":\"\\/assetserver\\/d8822751ac3a06d244eead91a737222f90bb9e0b-style.css\"},{\"name\":null,\"type\":\"css\",\"url\":\"\\/assetserver\\/792d9982ee796e4da6422248c42eb77a0d83e61e-bulma_confined.min.css\"}],\"type\":\"async_block\"},\"id\":\"10340849261403227923\",\"handlers\":{\"changes\":[\"(function (val){return (val!=this.model[\\\"changes\\\"]()) ? (this.valueFromJulia[\\\"changes\\\"]=true, this.model[\\\"changes\\\"](val)) : undefined})\"],\"index\":[\"(function (val){return (val!=this.model[\\\"index\\\"]()) ? (this.valueFromJulia[\\\"index\\\"]=true, this.model[\\\"index\\\"](val)) : undefined})\"]},\"systemjs_options\":null,\"mount_callbacks\":[\"function () {\\n    var handler = (function (ko, koPunches) {\\n    ko.punches.enableAll();\\n    ko.bindingHandlers.numericValue = {\\n        init: function(element, valueAccessor, allBindings, data, context) {\\n            var stringified = ko.observable(ko.unwrap(valueAccessor()));\\n            stringified.subscribe(function(value) {\\n                var val = parseFloat(value);\\n                if (!isNaN(val)) {\\n                    valueAccessor()(val);\\n                }\\n            });\\n            valueAccessor().subscribe(function(value) {\\n                var str = JSON.stringify(value);\\n                if ((str == \\\"0\\\") && ([\\\"-0\\\", \\\"-0.\\\"].indexOf(stringified()) >= 0))\\n                     return;\\n                 if ([\\\"null\\\", \\\"\\\"].indexOf(str) >= 0)\\n                     return;\\n                stringified(str);\\n            });\\n            ko.applyBindingsToNode(\\n                element,\\n                {\\n                    value: stringified,\\n                    valueUpdate: allBindings.get('valueUpdate'),\\n                },\\n                context,\\n            );\\n        }\\n    };\\n    var json_data = {\\\"formatted_vals\\\":[\\\"0.0\\\",\\\"0.1\\\",\\\"0.2\\\",\\\"0.3\\\",\\\"0.4\\\",\\\"0.5\\\",\\\"0.6\\\",\\\"0.7\\\",\\\"0.8\\\",\\\"0.9\\\",\\\"1.0\\\",\\\"1.1\\\",\\\"1.2\\\",\\\"1.3\\\",\\\"1.4\\\",\\\"1.5\\\",\\\"1.6\\\",\\\"1.7\\\",\\\"1.8\\\",\\\"1.9\\\",\\\"2.0\\\",\\\"2.1\\\",\\\"2.2\\\",\\\"2.3\\\",\\\"2.4\\\",\\\"2.5\\\",\\\"2.6\\\",\\\"2.7\\\",\\\"2.8\\\",\\\"2.9\\\",\\\"3.0\\\",\\\"3.1\\\",\\\"3.2\\\",\\\"3.3\\\",\\\"3.4\\\",\\\"3.5\\\",\\\"3.6\\\",\\\"3.7\\\",\\\"3.8\\\",\\\"3.9\\\",\\\"4.0\\\"],\\\"changes\\\":WebIO.getval({\\\"name\\\":\\\"changes\\\",\\\"scope\\\":\\\"10340849261403227923\\\",\\\"id\\\":\\\"13042377344403532976\\\",\\\"type\\\":\\\"observable\\\"}),\\\"index\\\":WebIO.getval({\\\"name\\\":\\\"index\\\",\\\"scope\\\":\\\"10340849261403227923\\\",\\\"id\\\":\\\"4458163550355190968\\\",\\\"type\\\":\\\"observable\\\"})};\\n    var self = this;\\n    function AppViewModel() {\\n        for (var key in json_data) {\\n            var el = json_data[key];\\n            this[key] = Array.isArray(el) ? ko.observableArray(el) : ko.observable(el);\\n        }\\n        \\n        [this[\\\"formatted_val\\\"]=ko.computed(    function(){\\n        return this.formatted_vals()[parseInt(this.index())-(1)];\\n    }\\n,this)]\\n        [this[\\\"changes\\\"].subscribe((function (val){!(this.valueFromJulia[\\\"changes\\\"]) ? (WebIO.setval({\\\"name\\\":\\\"changes\\\",\\\"scope\\\":\\\"10340849261403227923\\\",\\\"id\\\":\\\"13042377344403532976\\\",\\\"type\\\":\\\"observable\\\"},val)) : undefined; return this.valueFromJulia[\\\"changes\\\"]=false}),self),this[\\\"index\\\"].subscribe((function (val){!(this.valueFromJulia[\\\"index\\\"]) ? (WebIO.setval({\\\"name\\\":\\\"index\\\",\\\"scope\\\":\\\"10340849261403227923\\\",\\\"id\\\":\\\"4458163550355190968\\\",\\\"type\\\":\\\"observable\\\"},val)) : undefined; return this.valueFromJulia[\\\"index\\\"]=false}),self)]\\n        \\n    }\\n    self.model = new AppViewModel();\\n    self.valueFromJulia = {};\\n    for (var key in json_data) {\\n        self.valueFromJulia[key] = false;\\n    }\\n    ko.applyBindings(self.model, self.dom);\\n}\\n);\\n    (WebIO.importBlock({\\\"data\\\":[{\\\"name\\\":\\\"knockout\\\",\\\"type\\\":\\\"js\\\",\\\"url\\\":\\\"\\/assetserver\\/c0689c4f2514def856941022372b529b3413f129-knockout.js\\\"},{\\\"name\\\":\\\"knockout_punches\\\",\\\"type\\\":\\\"js\\\",\\\"url\\\":\\\"\\/assetserver\\/69274bc4b68b761587a57ff3f5e787f3dd4781dc-knockout_punches.js\\\"}],\\\"type\\\":\\\"async_block\\\"})).then((imports) => handler.apply(this, imports));\\n}\\n\"],\"observables\":{\"changes\":{\"sync\":true,\"id\":\"13042377344403532976\",\"value\":0},\"index\":{\"sync\":true,\"id\":\"4458163550355190968\",\"value\":21}}},\"children\":[{\"props\":{\"className\":\"interact-flex-row interact-widget\",\"style\":{\"font-family\":\"monospace\",\"width\":\"80%\"}},\"nodeType\":\"DOM\",\"type\":\"node\",\"instanceArgs\":{\"namespace\":\"html\",\"tag\":\"div\"},\"children\":[{\"props\":{\"className\":\"interact-flex-row-left\"},\"nodeType\":\"DOM\",\"type\":\"node\",\"instanceArgs\":{\"namespace\":\"html\",\"tag\":\"div\"},\"children\":[{\"props\":{\"className\":\"interact \",\"style\":{\"padding\":\"5px 10px 0px 10px\",\"white-space\":\"nowrap\",\"color\":\"royalblue\"}},\"nodeType\":\"DOM\",\"type\":\"node\",\"instanceArgs\":{\"namespace\":\"html\",\"tag\":\"label\"},\"children\":[\"N\"]}]},{\"props\":{\"className\":\"interact-flex-row-center\"},\"nodeType\":\"DOM\",\"type\":\"node\",\"instanceArgs\":{\"namespace\":\"html\",\"tag\":\"div\"},\"children\":[{\"props\":{\"max\":41,\"min\":1,\"attributes\":{\"type\":\"range\",\"data-bind\":\"numericValue: index, valueUpdate: 'input', event: {change: function (){this.changes(this.changes()+1)}}\",\"orient\":\"horizontal\"},\"step\":1,\"className\":\"slider slider is-fullwidth\",\"style\":{}},\"nodeType\":\"DOM\",\"type\":\"node\",\"instanceArgs\":{\"namespace\":\"html\",\"tag\":\"input\"},\"children\":[]}]},{\"props\":{\"className\":\"interact-flex-row-right\"},\"nodeType\":\"DOM\",\"type\":\"node\",\"instanceArgs\":{\"namespace\":\"html\",\"tag\":\"div\"},\"children\":[{\"props\":{\"attributes\":{\"data-bind\":\"text: formatted_val\"}},\"nodeType\":\"DOM\",\"type\":\"node\",\"instanceArgs\":{\"namespace\":\"html\",\"tag\":\"p\"},\"children\":[]}]}]}]}]},{\"props\":{},\"nodeType\":\"Scope\",\"type\":\"node\",\"instanceArgs\":{\"imports\":{\"data\":[],\"type\":\"async_block\"},\"id\":\"178453115425180934\",\"handlers\":{\"obs-output\":[\"function (value, scope) {\\n    scope.setInnerHTML(value);\\n}\\n\"]},\"systemjs_options\":null,\"mount_callbacks\":[],\"observables\":{\"obs-output\":{\"sync\":false,\"id\":\"1509738816401247604\",\"value\":\"<?xml version=\\\"1.0\\\" encoding=\\\"UTF-8\\\"?>\\n<svg xmlns=\\\"http:\\/\\/www.w3.org\\/2000\\/svg\\\"\\n     xmlns:xlink=\\\"http:\\/\\/www.w3.org\\/1999\\/xlink\\\"\\n     xmlns:gadfly=\\\"http:\\/\\/www.gadflyjl.org\\/ns\\\"\\n     version=\\\"1.2\\\"\\n     width=\\\"141.42mm\\\" height=\\\"100mm\\\" viewBox=\\\"0 0 141.42 100\\\"\\n     stroke=\\\"none\\\"\\n     fill=\\\"#000000\\\"\\n     stroke-width=\\\"0.3\\\"\\n     font-size=\\\"3.88\\\"\\n>\\n<defs>\\n  <marker id=\\\"arrow\\\" markerWidth=\\\"15\\\" markerHeight=\\\"7\\\" refX=\\\"5\\\" refY=\\\"3.5\\\" orient=\\\"auto\\\" markerUnits=\\\"strokeWidth\\\">\\n    <path d=\\\"M0,0 L15,3.5 L0,7 z\\\" stroke=\\\"context-stroke\\\" fill=\\\"context-stroke\\\"\\/>\\n  <\\/marker>\\n<\\/defs>\\n<g stroke=\\\"#000000\\\" stroke-opacity=\\\"0.000\\\" fill=\\\"#FFFFFF\\\" id=\\\"img-86a11064-1\\\">\\n  <g transform=\\\"translate(70.71,50)\\\">\\n    <path d=\\\"M-70.71,-50 L70.71,-50 70.71,50 -70.71,50  z\\\" class=\\\"primitive\\\"\\/>\\n  <\\/g>\\n<\\/g>\\n<g class=\\\"plotroot xscalable yscalable\\\" id=\\\"img-86a11064-2\\\">\\n  <g font-size=\\\"3.53\\\" font-family=\\\"'PT Sans','Helvetica Neue','Helvetica',sans-serif\\\" fill=\\\"#564A55\\\" stroke=\\\"#000000\\\" stroke-opacity=\\\"0.000\\\" id=\\\"img-86a11064-3\\\">\\n    <g transform=\\\"translate(63.14,93.72)\\\">\\n      <g class=\\\"primitive\\\">\\n        <text text-anchor=\\\"middle\\\" dy=\\\"0.6em\\\">PFD (μmol m⁻² s⁻¹)<\\/text>\\n      <\\/g>\\n    <\\/g>\\n  <\\/g>\\n  <g class=\\\"guide xlabels\\\" font-size=\\\"2.82\\\" font-family=\\\"'PT Sans Caption','Helvetica Neue','Helvetica',sans-serif\\\" fill=\\\"#6C606B\\\" id=\\\"img-86a11064-4\\\">\\n    <g transform=\\\"translate(19.63,87.04)\\\">\\n      <g class=\\\"primitive\\\">\\n        <text text-anchor=\\\"middle\\\" dy=\\\"0.6em\\\">0<\\/text>\\n      <\\/g>\\n    <\\/g>\\n    <g transform=\\\"translate(41.38,87.04)\\\">\\n      <g class=\\\"primitive\\\">\\n        <text text-anchor=\\\"middle\\\" dy=\\\"0.6em\\\">500<\\/text>\\n      <\\/g>\\n    <\\/g>\\n    <g transform=\\\"translate(63.14,87.04)\\\">\\n      <g class=\\\"primitive\\\">\\n        <text text-anchor=\\\"middle\\\" dy=\\\"0.6em\\\">1000<\\/text>\\n      <\\/g>\\n    <\\/g>\\n    <g transform=\\\"translate(84.89,87.04)\\\">\\n      <g class=\\\"primitive\\\">\\n        <text text-anchor=\\\"middle\\\" dy=\\\"0.6em\\\">1500<\\/text>\\n      <\\/g>\\n    <\\/g>\\n    <g transform=\\\"translate(106.64,87.04)\\\">\\n      <g class=\\\"primitive\\\">\\n        <text text-anchor=\\\"middle\\\" dy=\\\"0.6em\\\">2000<\\/text>\\n      <\\/g>\\n    <\\/g>\\n  <\\/g>\\n  <g class=\\\"guide colorkey\\\" id=\\\"img-86a11064-5\\\">\\n    <g fill=\\\"#4C404B\\\" font-size=\\\"2.82\\\" font-family=\\\"'PT Sans','Helvetica Neue','Helvetica',sans-serif\\\" id=\\\"img-86a11064-6\\\">\\n      <g transform=\\\"translate(113.27,44.12)\\\" id=\\\"img-86a11064-7\\\">\\n        <g class=\\\"primitive\\\">\\n          <text dy=\\\"0.35em\\\">1000 μmol mol⁻¹<\\/text>\\n        <\\/g>\\n      <\\/g>\\n      <g transform=\\\"translate(113.27,47.75)\\\" id=\\\"img-86a11064-8\\\">\\n        <g class=\\\"primitive\\\">\\n          <text dy=\\\"0.35em\\\">400 μmol mol⁻¹<\\/text>\\n        <\\/g>\\n      <\\/g>\\n      <g transform=\\\"translate(113.27,51.38)\\\" id=\\\"img-86a11064-9\\\">\\n        <g class=\\\"primitive\\\">\\n          <text dy=\\\"0.35em\\\">250 μmol mol⁻¹<\\/text>\\n        <\\/g>\\n      <\\/g>\\n    <\\/g>\\n    <g stroke-width=\\\"0.3\\\" id=\\\"img-86a11064-10\\\">\\n      <g stroke=\\\"#FFFFFF\\\" stroke-opacity=\\\"0.000\\\" fill-opacity=\\\"1\\\" fill=\\\"#FF6DAE\\\" id=\\\"img-86a11064-11\\\">\\n        <g transform=\\\"translate(110.45,51.38)\\\" id=\\\"img-86a11064-12\\\">\\n          <circle cx=\\\"0\\\" cy=\\\"0\\\" r=\\\"0.7\\\" class=\\\"primitive\\\"\\/>\\n        <\\/g>\\n      <\\/g>\\n      <g stroke=\\\"#FFFFFF\\\" stroke-opacity=\\\"0.000\\\" fill-opacity=\\\"1\\\" fill=\\\"#D4CA3A\\\" id=\\\"img-86a11064-13\\\">\\n        <g transform=\\\"translate(110.45,47.75)\\\" id=\\\"img-86a11064-14\\\">\\n          <circle cx=\\\"0\\\" cy=\\\"0\\\" r=\\\"0.7\\\" class=\\\"primitive\\\"\\/>\\n        <\\/g>\\n      <\\/g>\\n      <g stroke=\\\"#FFFFFF\\\" stroke-opacity=\\\"0.000\\\" fill-opacity=\\\"1\\\" fill=\\\"#00BFFF\\\" id=\\\"img-86a11064-15\\\">\\n        <g transform=\\\"translate(110.45,44.12)\\\" id=\\\"img-86a11064-16\\\">\\n          <circle cx=\\\"0\\\" cy=\\\"0\\\" r=\\\"0.7\\\" class=\\\"primitive\\\"\\/>\\n        <\\/g>\\n      <\\/g>\\n    <\\/g>\\n    <g fill=\\\"#362A35\\\" font-size=\\\"3.18\\\" font-family=\\\"'PT Sans','Helvetica Neue','Helvetica',sans-serif\\\" stroke=\\\"#000000\\\" stroke-opacity=\\\"0.000\\\" id=\\\"img-86a11064-17\\\">\\n      <g transform=\\\"translate(109.64,40.81)\\\" id=\\\"img-86a11064-18\\\">\\n        <g class=\\\"primitive\\\">\\n          <text dy=\\\"-0em\\\">CO2 (μmol mol⁻¹)<\\/text>\\n        <\\/g>\\n      <\\/g>\\n    <\\/g>\\n  <\\/g>\\n  <g clip-path=\\\"url(#img-86a11064-19)\\\">\\n    <g id=\\\"img-86a11064-20\\\">\\n      <g pointer-events=\\\"visible\\\" stroke-width=\\\"0.3\\\" fill=\\\"#000000\\\" fill-opacity=\\\"0.000\\\" stroke=\\\"#000000\\\" stroke-opacity=\\\"0.000\\\" class=\\\"guide background\\\" id=\\\"img-86a11064-21\\\">\\n        <g transform=\\\"translate(63.14,45.52)\\\" id=\\\"img-86a11064-22\\\">\\n          <path d=\\\"M-45.51,-40.52 L45.51,-40.52 45.51,40.52 -45.51,40.52  z\\\" class=\\\"primitive\\\"\\/>\\n        <\\/g>\\n      <\\/g>\\n      <g class=\\\"guide ygridlines xfixed\\\" stroke-dasharray=\\\"0.5,0.5\\\" stroke-width=\\\"0.2\\\" stroke=\\\"#D0D0E0\\\" id=\\\"img-86a11064-23\\\">\\n        <g transform=\\\"translate(63.14,84.04)\\\" id=\\\"img-86a11064-24\\\">\\n          <path fill=\\\"none\\\" d=\\\"M-45.51,0 L45.51,0 \\\" class=\\\"primitive\\\"\\/>\\n        <\\/g>\\n        <g transform=\\\"translate(63.14,64.78)\\\" id=\\\"img-86a11064-25\\\">\\n          <path fill=\\\"none\\\" d=\\\"M-45.51,0 L45.51,0 \\\" class=\\\"primitive\\\"\\/>\\n        <\\/g>\\n        <g transform=\\\"translate(63.14,45.52)\\\" id=\\\"img-86a11064-26\\\">\\n          <path fill=\\\"none\\\" d=\\\"M-45.51,0 L45.51,0 \\\" class=\\\"primitive\\\"\\/>\\n        <\\/g>\\n        <g transform=\\\"translate(63.14,26.26)\\\" id=\\\"img-86a11064-27\\\">\\n          <path fill=\\\"none\\\" d=\\\"M-45.51,0 L45.51,0 \\\" class=\\\"primitive\\\"\\/>\\n        <\\/g>\\n        <g transform=\\\"translate(63.14,7)\\\" id=\\\"img-86a11064-28\\\">\\n          <path fill=\\\"none\\\" d=\\\"M-45.51,0 L45.51,0 \\\" class=\\\"primitive\\\"\\/>\\n        <\\/g>\\n      <\\/g>\\n      <g class=\\\"guide xgridlines yfixed\\\" stroke-dasharray=\\\"0.5,0.5\\\" stroke-width=\\\"0.2\\\" stroke=\\\"#D0D0E0\\\" id=\\\"img-86a11064-29\\\">\\n        <g transform=\\\"translate(19.63,45.52)\\\" id=\\\"img-86a11064-30\\\">\\n          <path fill=\\\"none\\\" d=\\\"M0,-40.52 L0,40.52 \\\" class=\\\"primitive\\\"\\/>\\n        <\\/g>\\n        <g transform=\\\"translate(41.38,45.52)\\\" id=\\\"img-86a11064-31\\\">\\n          <path fill=\\\"none\\\" d=\\\"M0,-40.52 L0,40.52 \\\" class=\\\"primitive\\\"\\/>\\n        <\\/g>\\n        <g transform=\\\"translate(63.14,45.52)\\\" id=\\\"img-86a11064-32\\\">\\n          <path fill=\\\"none\\\" d=\\\"M0,-40.52 L0,40.52 \\\" class=\\\"primitive\\\"\\/>\\n        <\\/g>\\n        <g transform=\\\"translate(84.89,45.52)\\\" id=\\\"img-86a11064-33\\\">\\n          <path fill=\\\"none\\\" d=\\\"M0,-40.52 L0,40.52 \\\" class=\\\"primitive\\\"\\/>\\n        <\\/g>\\n        <g transform=\\\"translate(106.64,45.52)\\\" id=\\\"img-86a11064-34\\\">\\n          <path fill=\\\"none\\\" d=\\\"M0,-40.52 L0,40.52 \\\" class=\\\"primitive\\\"\\/>\\n        <\\/g>\\n      <\\/g>\\n      <g class=\\\"plotpanel\\\" id=\\\"img-86a11064-35\\\">\\n        <metadata>\\n          <boundingbox value=\\\"17.629999999999995mm 5.0mm 91.01135623730951mm 81.04333333333334mm\\\"\\/>\\n          <unitbox value=\\\"-45.971010830938454 41.038376671137456 2091.942021661877 -42.07675334227491\\\"\\/>\\n        <\\/metadata>\\n        <g stroke-width=\\\"0.3\\\" fill=\\\"#000000\\\" fill-opacity=\\\"0.000\\\" class=\\\"geometry\\\" id=\\\"img-86a11064-36\\\">\\n          <g class=\\\"color_LCHab{Float32}(70.0f0,60.0f0,240.0f0)\\\" stroke-dasharray=\\\"none\\\" stroke=\\\"#00BFFF\\\" id=\\\"img-86a11064-37\\\">\\n            <g transform=\\\"translate(63.14,36.48)\\\" id=\\\"img-86a11064-38\\\">\\n              <path fill=\\\"none\\\" d=\\\"M-43.51,49.63 L-39.16,35.83 -34.8,24.5 -30.45,15.67 -26.1,9.05 -21.75,4.18 -17.4,0.55 -13.05,-2.19 -8.7,-4.33 -4.35,-6.04 -0,-7.43 4.35,-8.6 8.7,-9.6 13.05,-10.46 17.4,-11.22 21.75,-11.9 26.1,-12.5 30.45,-13.06 34.8,-13.57 39.16,-14.04 43.51,-14.48 \\\" class=\\\"primitive\\\"\\/>\\n            <\\/g>\\n          <\\/g>\\n        <\\/g>\\n        <g stroke-width=\\\"0.3\\\" fill=\\\"#000000\\\" fill-opacity=\\\"0.000\\\" class=\\\"geometry\\\" id=\\\"img-86a11064-39\\\">\\n          <g class=\\\"color_LCHab{Float32}(80.0f0,70.000015f0,100.43479f0)\\\" stroke-dasharray=\\\"none\\\" stroke=\\\"#D4CA3A\\\" id=\\\"img-86a11064-40\\\">\\n            <g transform=\\\"translate(63.14,47.62)\\\" id=\\\"img-86a11064-41\\\">\\n              <path fill=\\\"none\\\" d=\\\"M-43.51,38.49 L-39.16,27.55 -34.8,18.58 -30.45,11.61 -26.1,6.45 -21.75,2.7 -17.4,-0.04 -13.05,-2.09 -8.7,-3.65 -4.35,-4.89 -0,-5.88 4.35,-6.69 8.7,-7.38 13.05,-7.95 17.4,-8.45 21.75,-8.89 26.1,-9.27 30.45,-9.62 34.8,-9.92 39.16,-10.2 43.51,-10.45 \\\" class=\\\"primitive\\\"\\/>\\n            <\\/g>\\n          <\\/g>\\n        <\\/g>\\n        <g stroke-width=\\\"0.3\\\" fill=\\\"#000000\\\" fill-opacity=\\\"0.000\\\" class=\\\"geometry\\\" id=\\\"img-86a11064-42\\\">\\n          <g class=\\\"color_LCHab{Float32}(65.89944f0,62.21457f0,353.99814f0)\\\" stroke-dasharray=\\\"none\\\" stroke=\\\"#FF6DAE\\\" id=\\\"img-86a11064-43\\\">\\n            <g transform=\\\"translate(63.14,58.37)\\\" id=\\\"img-86a11064-44\\\">\\n              <path fill=\\\"none\\\" d=\\\"M-43.51,27.74 L-39.16,18.98 -34.8,11.78 -30.45,6.17 -26.1,2.04 -21.75,-0.94 -17.4,-3.1 -13.05,-4.69 -8.7,-4.82 -4.35,-4.76 -0,-4.7 4.35,-4.65 8.7,-4.59 13.05,-4.53 17.4,-4.47 21.75,-4.41 26.1,-4.34 30.45,-4.28 34.8,-4.21 39.16,-4.15 43.51,-4.08 \\\" class=\\\"primitive\\\"\\/>\\n            <\\/g>\\n          <\\/g>\\n        <\\/g>\\n      <\\/g>\\n    <\\/g>\\n  <\\/g>\\n  <g class=\\\"guide ylabels\\\" font-size=\\\"2.82\\\" font-family=\\\"'PT Sans Caption','Helvetica Neue','Helvetica',sans-serif\\\" fill=\\\"#6C606B\\\" id=\\\"img-86a11064-45\\\">\\n    <g transform=\\\"translate(16.63,84.04)\\\" id=\\\"img-86a11064-46\\\">\\n      <g class=\\\"primitive\\\">\\n        <text text-anchor=\\\"end\\\" dy=\\\"0.35em\\\">0<\\/text>\\n      <\\/g>\\n    <\\/g>\\n    <g transform=\\\"translate(16.63,64.78)\\\" id=\\\"img-86a11064-47\\\">\\n      <g class=\\\"primitive\\\">\\n        <text text-anchor=\\\"end\\\" dy=\\\"0.35em\\\">10<\\/text>\\n      <\\/g>\\n    <\\/g>\\n    <g transform=\\\"translate(16.63,45.52)\\\" id=\\\"img-86a11064-48\\\">\\n      <g class=\\\"primitive\\\">\\n        <text text-anchor=\\\"end\\\" dy=\\\"0.35em\\\">20<\\/text>\\n      <\\/g>\\n    <\\/g>\\n    <g transform=\\\"translate(16.63,26.26)\\\" id=\\\"img-86a11064-49\\\">\\n      <g class=\\\"primitive\\\">\\n        <text text-anchor=\\\"end\\\" dy=\\\"0.35em\\\">30<\\/text>\\n      <\\/g>\\n    <\\/g>\\n    <g transform=\\\"translate(16.63,7)\\\" id=\\\"img-86a11064-50\\\">\\n      <g class=\\\"primitive\\\">\\n        <text text-anchor=\\\"end\\\" dy=\\\"0.35em\\\">40<\\/text>\\n      <\\/g>\\n    <\\/g>\\n  <\\/g>\\n  <g font-size=\\\"3.53\\\" font-family=\\\"'PT Sans','Helvetica Neue','Helvetica',sans-serif\\\" fill=\\\"#564A55\\\" stroke=\\\"#000000\\\" stroke-opacity=\\\"0.000\\\" id=\\\"img-86a11064-51\\\">\\n    <g transform=\\\"translate(8.64,43.52)\\\" id=\\\"img-86a11064-52\\\">\\n      <g class=\\\"primitive\\\">\\n        <text text-anchor=\\\"middle\\\" dy=\\\"0.35em\\\" transform=\\\"rotate(-90,0, 2)\\\">A_net (μmol m⁻² s⁻¹)<\\/text>\\n      <\\/g>\\n    <\\/g>\\n  <\\/g>\\n<\\/g>\\n<defs>\\n  <clipPath id=\\\"img-86a11064-19\\\">\\n    <path d=\\\"M17.63,5 L108.64,5 108.64,86.04 17.63,86.04 \\\" \\/>\\n  <\\/clipPath>\\n<\\/defs>\\n<\\/svg>\\n\"}}},\"children\":[{\"props\":{\"className\":\"webio-observable\",\"setInnerHtml\":\"<?xml version=\\\"1.0\\\" encoding=\\\"UTF-8\\\"?>\\n<svg xmlns=\\\"http:\\/\\/www.w3.org\\/2000\\/svg\\\"\\n     xmlns:xlink=\\\"http:\\/\\/www.w3.org\\/1999\\/xlink\\\"\\n     xmlns:gadfly=\\\"http:\\/\\/www.gadflyjl.org\\/ns\\\"\\n     version=\\\"1.2\\\"\\n     width=\\\"141.42mm\\\" height=\\\"100mm\\\" viewBox=\\\"0 0 141.42 100\\\"\\n     stroke=\\\"none\\\"\\n     fill=\\\"#000000\\\"\\n     stroke-width=\\\"0.3\\\"\\n     font-size=\\\"3.88\\\"\\n>\\n<defs>\\n  <marker id=\\\"arrow\\\" markerWidth=\\\"15\\\" markerHeight=\\\"7\\\" refX=\\\"5\\\" refY=\\\"3.5\\\" orient=\\\"auto\\\" markerUnits=\\\"strokeWidth\\\">\\n    <path d=\\\"M0,0 L15,3.5 L0,7 z\\\" stroke=\\\"context-stroke\\\" fill=\\\"context-stroke\\\"\\/>\\n  <\\/marker>\\n<\\/defs>\\n<g stroke=\\\"#000000\\\" stroke-opacity=\\\"0.000\\\" fill=\\\"#FFFFFF\\\" id=\\\"img-86a11064-1\\\">\\n  <g transform=\\\"translate(70.71,50)\\\">\\n    <path d=\\\"M-70.71,-50 L70.71,-50 70.71,50 -70.71,50  z\\\" class=\\\"primitive\\\"\\/>\\n  <\\/g>\\n<\\/g>\\n<g class=\\\"plotroot xscalable yscalable\\\" id=\\\"img-86a11064-2\\\">\\n  <g font-size=\\\"3.53\\\" font-family=\\\"'PT Sans','Helvetica Neue','Helvetica',sans-serif\\\" fill=\\\"#564A55\\\" stroke=\\\"#000000\\\" stroke-opacity=\\\"0.000\\\" id=\\\"img-86a11064-3\\\">\\n    <g transform=\\\"translate(63.14,93.72)\\\">\\n      <g class=\\\"primitive\\\">\\n        <text text-anchor=\\\"middle\\\" dy=\\\"0.6em\\\">PFD (μmol m⁻² s⁻¹)<\\/text>\\n      <\\/g>\\n    <\\/g>\\n  <\\/g>\\n  <g class=\\\"guide xlabels\\\" font-size=\\\"2.82\\\" font-family=\\\"'PT Sans Caption','Helvetica Neue','Helvetica',sans-serif\\\" fill=\\\"#6C606B\\\" id=\\\"img-86a11064-4\\\">\\n    <g transform=\\\"translate(19.63,87.04)\\\">\\n      <g class=\\\"primitive\\\">\\n        <text text-anchor=\\\"middle\\\" dy=\\\"0.6em\\\">0<\\/text>\\n      <\\/g>\\n    <\\/g>\\n    <g transform=\\\"translate(41.38,87.04)\\\">\\n      <g class=\\\"primitive\\\">\\n        <text text-anchor=\\\"middle\\\" dy=\\\"0.6em\\\">500<\\/text>\\n      <\\/g>\\n    <\\/g>\\n    <g transform=\\\"translate(63.14,87.04)\\\">\\n      <g class=\\\"primitive\\\">\\n        <text text-anchor=\\\"middle\\\" dy=\\\"0.6em\\\">1000<\\/text>\\n      <\\/g>\\n    <\\/g>\\n    <g transform=\\\"translate(84.89,87.04)\\\">\\n      <g class=\\\"primitive\\\">\\n        <text text-anchor=\\\"middle\\\" dy=\\\"0.6em\\\">1500<\\/text>\\n      <\\/g>\\n    <\\/g>\\n    <g transform=\\\"translate(106.64,87.04)\\\">\\n      <g class=\\\"primitive\\\">\\n        <text text-anchor=\\\"middle\\\" dy=\\\"0.6em\\\">2000<\\/text>\\n      <\\/g>\\n    <\\/g>\\n  <\\/g>\\n  <g class=\\\"guide colorkey\\\" id=\\\"img-86a11064-5\\\">\\n    <g fill=\\\"#4C404B\\\" font-size=\\\"2.82\\\" font-family=\\\"'PT Sans','Helvetica Neue','Helvetica',sans-serif\\\" id=\\\"img-86a11064-6\\\">\\n      <g transform=\\\"translate(113.27,44.12)\\\" id=\\\"img-86a11064-7\\\">\\n        <g class=\\\"primitive\\\">\\n          <text dy=\\\"0.35em\\\">1000 μmol mol⁻¹<\\/text>\\n        <\\/g>\\n      <\\/g>\\n      <g transform=\\\"translate(113.27,47.75)\\\" id=\\\"img-86a11064-8\\\">\\n        <g class=\\\"primitive\\\">\\n          <text dy=\\\"0.35em\\\">400 μmol mol⁻¹<\\/text>\\n        <\\/g>\\n      <\\/g>\\n      <g transform=\\\"translate(113.27,51.38)\\\" id=\\\"img-86a11064-9\\\">\\n        <g class=\\\"primitive\\\">\\n          <text dy=\\\"0.35em\\\">250 μmol mol⁻¹<\\/text>\\n        <\\/g>\\n      <\\/g>\\n    <\\/g>\\n    <g stroke-width=\\\"0.3\\\" id=\\\"img-86a11064-10\\\">\\n      <g stroke=\\\"#FFFFFF\\\" stroke-opacity=\\\"0.000\\\" fill-opacity=\\\"1\\\" fill=\\\"#FF6DAE\\\" id=\\\"img-86a11064-11\\\">\\n        <g transform=\\\"translate(110.45,51.38)\\\" id=\\\"img-86a11064-12\\\">\\n          <circle cx=\\\"0\\\" cy=\\\"0\\\" r=\\\"0.7\\\" class=\\\"primitive\\\"\\/>\\n        <\\/g>\\n      <\\/g>\\n      <g stroke=\\\"#FFFFFF\\\" stroke-opacity=\\\"0.000\\\" fill-opacity=\\\"1\\\" fill=\\\"#D4CA3A\\\" id=\\\"img-86a11064-13\\\">\\n        <g transform=\\\"translate(110.45,47.75)\\\" id=\\\"img-86a11064-14\\\">\\n          <circle cx=\\\"0\\\" cy=\\\"0\\\" r=\\\"0.7\\\" class=\\\"primitive\\\"\\/>\\n        <\\/g>\\n      <\\/g>\\n      <g stroke=\\\"#FFFFFF\\\" stroke-opacity=\\\"0.000\\\" fill-opacity=\\\"1\\\" fill=\\\"#00BFFF\\\" id=\\\"img-86a11064-15\\\">\\n        <g transform=\\\"translate(110.45,44.12)\\\" id=\\\"img-86a11064-16\\\">\\n          <circle cx=\\\"0\\\" cy=\\\"0\\\" r=\\\"0.7\\\" class=\\\"primitive\\\"\\/>\\n        <\\/g>\\n      <\\/g>\\n    <\\/g>\\n    <g fill=\\\"#362A35\\\" font-size=\\\"3.18\\\" font-family=\\\"'PT Sans','Helvetica Neue','Helvetica',sans-serif\\\" stroke=\\\"#000000\\\" stroke-opacity=\\\"0.000\\\" id=\\\"img-86a11064-17\\\">\\n      <g transform=\\\"translate(109.64,40.81)\\\" id=\\\"img-86a11064-18\\\">\\n        <g class=\\\"primitive\\\">\\n          <text dy=\\\"-0em\\\">CO2 (μmol mol⁻¹)<\\/text>\\n        <\\/g>\\n      <\\/g>\\n    <\\/g>\\n  <\\/g>\\n  <g clip-path=\\\"url(#img-86a11064-19)\\\">\\n    <g id=\\\"img-86a11064-20\\\">\\n      <g pointer-events=\\\"visible\\\" stroke-width=\\\"0.3\\\" fill=\\\"#000000\\\" fill-opacity=\\\"0.000\\\" stroke=\\\"#000000\\\" stroke-opacity=\\\"0.000\\\" class=\\\"guide background\\\" id=\\\"img-86a11064-21\\\">\\n        <g transform=\\\"translate(63.14,45.52)\\\" id=\\\"img-86a11064-22\\\">\\n          <path d=\\\"M-45.51,-40.52 L45.51,-40.52 45.51,40.52 -45.51,40.52  z\\\" class=\\\"primitive\\\"\\/>\\n        <\\/g>\\n      <\\/g>\\n      <g class=\\\"guide ygridlines xfixed\\\" stroke-dasharray=\\\"0.5,0.5\\\" stroke-width=\\\"0.2\\\" stroke=\\\"#D0D0E0\\\" id=\\\"img-86a11064-23\\\">\\n        <g transform=\\\"translate(63.14,84.04)\\\" id=\\\"img-86a11064-24\\\">\\n          <path fill=\\\"none\\\" d=\\\"M-45.51,0 L45.51,0 \\\" class=\\\"primitive\\\"\\/>\\n        <\\/g>\\n        <g transform=\\\"translate(63.14,64.78)\\\" id=\\\"img-86a11064-25\\\">\\n          <path fill=\\\"none\\\" d=\\\"M-45.51,0 L45.51,0 \\\" class=\\\"primitive\\\"\\/>\\n        <\\/g>\\n        <g transform=\\\"translate(63.14,45.52)\\\" id=\\\"img-86a11064-26\\\">\\n          <path fill=\\\"none\\\" d=\\\"M-45.51,0 L45.51,0 \\\" class=\\\"primitive\\\"\\/>\\n        <\\/g>\\n        <g transform=\\\"translate(63.14,26.26)\\\" id=\\\"img-86a11064-27\\\">\\n          <path fill=\\\"none\\\" d=\\\"M-45.51,0 L45.51,0 \\\" class=\\\"primitive\\\"\\/>\\n        <\\/g>\\n        <g transform=\\\"translate(63.14,7)\\\" id=\\\"img-86a11064-28\\\">\\n          <path fill=\\\"none\\\" d=\\\"M-45.51,0 L45.51,0 \\\" class=\\\"primitive\\\"\\/>\\n        <\\/g>\\n      <\\/g>\\n      <g class=\\\"guide xgridlines yfixed\\\" stroke-dasharray=\\\"0.5,0.5\\\" stroke-width=\\\"0.2\\\" stroke=\\\"#D0D0E0\\\" id=\\\"img-86a11064-29\\\">\\n        <g transform=\\\"translate(19.63,45.52)\\\" id=\\\"img-86a11064-30\\\">\\n          <path fill=\\\"none\\\" d=\\\"M0,-40.52 L0,40.52 \\\" class=\\\"primitive\\\"\\/>\\n        <\\/g>\\n        <g transform=\\\"translate(41.38,45.52)\\\" id=\\\"img-86a11064-31\\\">\\n          <path fill=\\\"none\\\" d=\\\"M0,-40.52 L0,40.52 \\\" class=\\\"primitive\\\"\\/>\\n        <\\/g>\\n        <g transform=\\\"translate(63.14,45.52)\\\" id=\\\"img-86a11064-32\\\">\\n          <path fill=\\\"none\\\" d=\\\"M0,-40.52 L0,40.52 \\\" class=\\\"primitive\\\"\\/>\\n        <\\/g>\\n        <g transform=\\\"translate(84.89,45.52)\\\" id=\\\"img-86a11064-33\\\">\\n          <path fill=\\\"none\\\" d=\\\"M0,-40.52 L0,40.52 \\\" class=\\\"primitive\\\"\\/>\\n        <\\/g>\\n        <g transform=\\\"translate(106.64,45.52)\\\" id=\\\"img-86a11064-34\\\">\\n          <path fill=\\\"none\\\" d=\\\"M0,-40.52 L0,40.52 \\\" class=\\\"primitive\\\"\\/>\\n        <\\/g>\\n      <\\/g>\\n      <g class=\\\"plotpanel\\\" id=\\\"img-86a11064-35\\\">\\n        <metadata>\\n          <boundingbox value=\\\"17.629999999999995mm 5.0mm 91.01135623730951mm 81.04333333333334mm\\\"\\/>\\n          <unitbox value=\\\"-45.971010830938454 41.038376671137456 2091.942021661877 -42.07675334227491\\\"\\/>\\n        <\\/metadata>\\n        <g stroke-width=\\\"0.3\\\" fill=\\\"#000000\\\" fill-opacity=\\\"0.000\\\" class=\\\"geometry\\\" id=\\\"img-86a11064-36\\\">\\n          <g class=\\\"color_LCHab{Float32}(70.0f0,60.0f0,240.0f0)\\\" stroke-dasharray=\\\"none\\\" stroke=\\\"#00BFFF\\\" id=\\\"img-86a11064-37\\\">\\n            <g transform=\\\"translate(63.14,36.48)\\\" id=\\\"img-86a11064-38\\\">\\n              <path fill=\\\"none\\\" d=\\\"M-43.51,49.63 L-39.16,35.83 -34.8,24.5 -30.45,15.67 -26.1,9.05 -21.75,4.18 -17.4,0.55 -13.05,-2.19 -8.7,-4.33 -4.35,-6.04 -0,-7.43 4.35,-8.6 8.7,-9.6 13.05,-10.46 17.4,-11.22 21.75,-11.9 26.1,-12.5 30.45,-13.06 34.8,-13.57 39.16,-14.04 43.51,-14.48 \\\" class=\\\"primitive\\\"\\/>\\n            <\\/g>\\n          <\\/g>\\n        <\\/g>\\n        <g stroke-width=\\\"0.3\\\" fill=\\\"#000000\\\" fill-opacity=\\\"0.000\\\" class=\\\"geometry\\\" id=\\\"img-86a11064-39\\\">\\n          <g class=\\\"color_LCHab{Float32}(80.0f0,70.000015f0,100.43479f0)\\\" stroke-dasharray=\\\"none\\\" stroke=\\\"#D4CA3A\\\" id=\\\"img-86a11064-40\\\">\\n            <g transform=\\\"translate(63.14,47.62)\\\" id=\\\"img-86a11064-41\\\">\\n              <path fill=\\\"none\\\" d=\\\"M-43.51,38.49 L-39.16,27.55 -34.8,18.58 -30.45,11.61 -26.1,6.45 -21.75,2.7 -17.4,-0.04 -13.05,-2.09 -8.7,-3.65 -4.35,-4.89 -0,-5.88 4.35,-6.69 8.7,-7.38 13.05,-7.95 17.4,-8.45 21.75,-8.89 26.1,-9.27 30.45,-9.62 34.8,-9.92 39.16,-10.2 43.51,-10.45 \\\" class=\\\"primitive\\\"\\/>\\n            <\\/g>\\n          <\\/g>\\n        <\\/g>\\n        <g stroke-width=\\\"0.3\\\" fill=\\\"#000000\\\" fill-opacity=\\\"0.000\\\" class=\\\"geometry\\\" id=\\\"img-86a11064-42\\\">\\n          <g class=\\\"color_LCHab{Float32}(65.89944f0,62.21457f0,353.99814f0)\\\" stroke-dasharray=\\\"none\\\" stroke=\\\"#FF6DAE\\\" id=\\\"img-86a11064-43\\\">\\n            <g transform=\\\"translate(63.14,58.37)\\\" id=\\\"img-86a11064-44\\\">\\n              <path fill=\\\"none\\\" d=\\\"M-43.51,27.74 L-39.16,18.98 -34.8,11.78 -30.45,6.17 -26.1,2.04 -21.75,-0.94 -17.4,-3.1 -13.05,-4.69 -8.7,-4.82 -4.35,-4.76 -0,-4.7 4.35,-4.65 8.7,-4.59 13.05,-4.53 17.4,-4.47 21.75,-4.41 26.1,-4.34 30.45,-4.28 34.8,-4.21 39.16,-4.15 43.51,-4.08 \\\" class=\\\"primitive\\\"\\/>\\n            <\\/g>\\n          <\\/g>\\n        <\\/g>\\n      <\\/g>\\n    <\\/g>\\n  <\\/g>\\n  <g class=\\\"guide ylabels\\\" font-size=\\\"2.82\\\" font-family=\\\"'PT Sans Caption','Helvetica Neue','Helvetica',sans-serif\\\" fill=\\\"#6C606B\\\" id=\\\"img-86a11064-45\\\">\\n    <g transform=\\\"translate(16.63,84.04)\\\" id=\\\"img-86a11064-46\\\">\\n      <g class=\\\"primitive\\\">\\n        <text text-anchor=\\\"end\\\" dy=\\\"0.35em\\\">0<\\/text>\\n      <\\/g>\\n    <\\/g>\\n    <g transform=\\\"translate(16.63,64.78)\\\" id=\\\"img-86a11064-47\\\">\\n      <g class=\\\"primitive\\\">\\n        <text text-anchor=\\\"end\\\" dy=\\\"0.35em\\\">10<\\/text>\\n      <\\/g>\\n    <\\/g>\\n    <g transform=\\\"translate(16.63,45.52)\\\" id=\\\"img-86a11064-48\\\">\\n      <g class=\\\"primitive\\\">\\n        <text text-anchor=\\\"end\\\" dy=\\\"0.35em\\\">20<\\/text>\\n      <\\/g>\\n    <\\/g>\\n    <g transform=\\\"translate(16.63,26.26)\\\" id=\\\"img-86a11064-49\\\">\\n      <g class=\\\"primitive\\\">\\n        <text text-anchor=\\\"end\\\" dy=\\\"0.35em\\\">30<\\/text>\\n      <\\/g>\\n    <\\/g>\\n    <g transform=\\\"translate(16.63,7)\\\" id=\\\"img-86a11064-50\\\">\\n      <g class=\\\"primitive\\\">\\n        <text text-anchor=\\\"end\\\" dy=\\\"0.35em\\\">40<\\/text>\\n      <\\/g>\\n    <\\/g>\\n  <\\/g>\\n  <g font-size=\\\"3.53\\\" font-family=\\\"'PT Sans','Helvetica Neue','Helvetica',sans-serif\\\" fill=\\\"#564A55\\\" stroke=\\\"#000000\\\" stroke-opacity=\\\"0.000\\\" id=\\\"img-86a11064-51\\\">\\n    <g transform=\\\"translate(8.64,43.52)\\\" id=\\\"img-86a11064-52\\\">\\n      <g class=\\\"primitive\\\">\\n        <text text-anchor=\\\"middle\\\" dy=\\\"0.35em\\\" transform=\\\"rotate(-90,0, 2)\\\">A_net (μmol m⁻² s⁻¹)<\\/text>\\n      <\\/g>\\n    <\\/g>\\n  <\\/g>\\n<\\/g>\\n<defs>\\n  <clipPath id=\\\"img-86a11064-19\\\">\\n    <path d=\\\"M17.63,5 L108.64,5 108.64,86.04 17.63,86.04 \\\" \\/>\\n  <\\/clipPath>\\n<\\/defs>\\n<\\/svg>\\n\"},\"nodeType\":\"DOM\",\"type\":\"node\",\"instanceArgs\":{\"namespace\":\"html\",\"tag\":\"div\"},\"children\":[]}]}]},\n",
       "        window,\n",
       "    );\n",
       "    })()\n",
       "    </script>\n",
       "</div>\n"
      ],
      "text/plain": [
       "WebIO.Node{WebIO.DOM}(WebIO.DOM(:html, :div), Any[WebIO.Node{WebIO.DOM}(WebIO.DOM(:html, :div), Any[\"StomataTuzet\"], Dict{Symbol, Any}(:style => Dict{String, Any}(\"color\" => :rebeccapurple, \"font-family\" => \"monospace\"))), WebIO.Node{WebIO.DOM}(WebIO.DOM(:html, :div), Any[WebIO.Scope(WebIO.Node{WebIO.DOM}(WebIO.DOM(:html, :div), Any[WebIO.Node{WebIO.DOM}(WebIO.DOM(:html, :div), Any[WebIO.Node{WebIO.DOM}(WebIO.DOM(:html, :label), Any[\"WP_leaf\"], Dict{Symbol, Any}(:className => \"interact \", :style => Dict{Any, Any}(:padding => \"5px 10px 0px 10px\", \"white-space\" => :nowrap, \"color\" => :royalblue)))], Dict{Symbol, Any}(:className => \"interact-flex-row-left\")), WebIO.Node{WebIO.DOM}(WebIO.DOM(:html, :div), Any[WebIO.Node{WebIO.DOM}(WebIO.DOM(:html, :input), Any[], Dict{Symbol, Any}(:max => 31, :min => 1, :attributes => Dict{Any, Any}(:type => \"range\", Symbol(\"data-bind\") => \"numericValue: index, valueUpdate: 'input', event: {change: function (){this.changes(this.changes()+1)}}\", \"orient\" => \"horizontal\"), :step => 1, :className => \"slider slider is-fullwidth\", :style => Dict{Any, Any}()))], Dict{Symbol, Any}(:className => \"interact-flex-row-center\")), WebIO.Node{WebIO.DOM}(WebIO.DOM(:html, :div), Any[WebIO.Node{WebIO.DOM}(WebIO.DOM(:html, :p), Any[], Dict{Symbol, Any}(:attributes => Dict(\"data-bind\" => \"text: formatted_val\")))], Dict{Symbol, Any}(:className => \"interact-flex-row-right\"))], Dict{Symbol, Any}(:className => \"interact-flex-row interact-widget\", :style => Dict(\"font-family\" => \"monospace\", \"width\" => \"80%\"))), Dict{String, Tuple{Observables.AbstractObservable, Union{Nothing, Bool}}}(\"changes\" => (Observable(0), nothing), \"index\" => (Observable{Any}(26), nothing)), Set{String}(), nothing, WebIO.Asset[WebIO.Asset(\"js\", \"knockout\", \"/Users/soohkim/.julia/packages/Knockout/HReiN/src/../assets/knockout.js\"), WebIO.Asset(\"js\", \"knockout_punches\", \"/Users/soohkim/.julia/packages/Knockout/HReiN/src/../assets/knockout_punches.js\"), WebIO.Asset(\"js\", nothing, \"/Users/soohkim/.julia/packages/InteractBase/Qhvxg/src/../assets/all.js\"), WebIO.Asset(\"css\", nothing, \"/Users/soohkim/.julia/packages/InteractBase/Qhvxg/src/../assets/style.css\"), WebIO.Asset(\"css\", nothing, \"/Users/soohkim/.julia/packages/Interact/PENUy/src/../assets/bulma_confined.min.css\")], Dict{Any, Any}(\"changes\" => Any[WebIO.JSString(\"(function (val){return (val!=this.model[\\\"changes\\\"]()) ? (this.valueFromJulia[\\\"changes\\\"]=true, this.model[\\\"changes\\\"](val)) : undefined})\")], \"index\" => Any[WebIO.JSString(\"(function (val){return (val!=this.model[\\\"index\\\"]()) ? (this.valueFromJulia[\\\"index\\\"]=true, this.model[\\\"index\\\"](val)) : undefined})\")]), WebIO.ConnectionPool(Channel{Any}(32), Set{WebIO.AbstractConnection}(), Condition(Base.InvasiveLinkedList{Task}(Task (runnable) @0x000000015e946770, Task (runnable) @0x000000015e946770), Base.AlwaysLockedST(1))), WebIO.JSString[WebIO.JSString(\"function () {\\n    var handler = (function (ko, koPunches) {\\n    ko.punches.enableAll();\\n    ko.bindingHandlers.numericValue = {\\n        init: function(element, valueAccessor, allBindings, data, context) {\\n            var stringified = ko.observable(ko.unwrap(valueAccessor()));\\n            stringified.subscribe(function(value) {\\n                var val = parseFloat(value);\\n                if (!isNaN(val)) {\\n                    valueAccessor()(val);\\n                }\\n            });\\n            valueAccessor().subscribe(function(value) {\\n                var str = JSON.stringify(value);\\n                if ((str == \\\"0\\\") && ([\\\"-0\\\", \\\"-0.\\\"].indexOf(stringified()) >= 0))\\n                     return;\\n                 if ([\\\"null\\\", \\\"\\\"].indexOf(str) >= 0)\\n                     return;\\n                stringified(str);\\n            });\\n            ko.applyBindingsToNode(\\n                element,\\n                {\\n                    value: stringified,\\n                    valueUpdate: allBindings.get('valueUpdate'),\\n                },\\n                context,\\n            );\\n        }\\n    };\\n    var json_data = {\\\"formatted_vals\\\":[\\\"-3.0\\\",\\\"-2.9\\\",\\\"-2.8\\\",\\\"-2.7\\\",\\\"-2.6\\\",\\\"-2.5\\\",\\\"-2.4\\\",\\\"-2.3\\\",\\\"-2.2\\\",\\\"-2.1\\\",\\\"-2.0\\\",\\\"-1.9\\\",\\\"-1.8\\\",\\\"-1.7\\\",\\\"-1.6\\\",\\\"-1.5\\\",\\\"-1.4\\\",\\\"-1.3\\\",\\\"-1.2\\\",\\\"-1.1\\\",\\\"-1.0\\\",\\\"-0.9\\\",\\\"-0.8\\\",\\\"-0.7\\\",\\\"-0.6\\\",\\\"-0.5\\\",\\\"-0.4\\\",\\\"-0.3\\\",\\\"-0.2\\\",\\\"-0.1\\\",\\\"0.0\\\"],\\\"changes\\\":WebIO.getval({\\\"name\\\":\\\"changes\\\",\\\"scope\\\":\\\"9231633856790024502\\\",\\\"id\\\":\\\"2616168607354390432\\\",\\\"type\\\":\\\"observable\\\"}),\\\"index\\\":WebIO.getval({\\\"name\\\":\\\"index\\\",\\\"scope\\\":\\\"9231633856790024502\\\",\\\"id\\\":\\\"3544504322782784420\\\",\\\"type\\\":\\\"observable\\\"})};\\n    var self = this;\\n    function AppViewModel() {\\n        for (var key in json_data) {\\n            var el = json_data[key];\\n            this[key] = Array.isArray(el) ? ko.observableArray(el) : ko.observable(el);\\n        }\\n        \\n        [this[\\\"formatted_val\\\"]=ko.computed(    function(){\\n        return this.formatted_vals()[parseInt(this.index())-(1)];\\n    }\\n,this)]\\n        [this[\\\"changes\\\"].subscribe((function (val){!(this.valueFromJulia[\\\"changes\\\"]) ? (WebIO.setval({\\\"name\\\":\\\"changes\\\",\\\"scope\\\":\\\"9231633856790024502\\\",\\\"id\\\":\\\"2616168607354390432\\\",\\\"type\\\":\\\"observable\\\"},val)) : undefined; return this.valueFromJulia[\\\"changes\\\"]=false}),self),this[\\\"index\\\"].subscribe((function (val){!(this.valueFromJulia[\\\"index\\\"]) ? (WebIO.setval({\\\"name\\\":\\\"index\\\",\\\"scope\\\":\\\"9231633856790024502\\\",\\\"id\\\":\\\"3544504322782784420\\\",\\\"type\\\":\\\"observable\\\"},val)) : undefined; return this.valueFromJulia[\\\"index\\\"]=false}),self)]\\n        \\n    }\\n    self.model = new AppViewModel();\\n    self.valueFromJulia = {};\\n    for (var key in json_data) {\\n        self.valueFromJulia[key] = false;\\n    }\\n    ko.applyBindings(self.model, self.dom);\\n}\\n);\\n    (WebIO.importBlock({\\\"data\\\":[{\\\"name\\\":\\\"knockout\\\",\\\"type\\\":\\\"js\\\",\\\"url\\\":\\\"/assetserver/c0689c4f2514def856941022372b529b3413f129-knockout.js\\\"},{\\\"name\\\":\\\"knockout_punches\\\",\\\"type\\\":\\\"js\\\",\\\"url\\\":\\\"/assetserver/69274bc4b68b761587a57ff3f5e787f3dd4781dc-knockout_punches.js\\\"}],\\\"type\\\":\\\"async_block\\\"})).then((imports) => handler.apply(this, imports));\\n}\\n\")])], Dict{Symbol, Any}(:className => \"field interact-widget\")), WebIO.Node{WebIO.DOM}(WebIO.DOM(:html, :div), Any[\"Weather\"], Dict{Symbol, Any}(:style => Dict{String, Any}(\"color\" => :rebeccapurple, \"font-family\" => \"monospace\"))), WebIO.Node{WebIO.DOM}(WebIO.DOM(:html, :div), Any[WebIO.Scope(WebIO.Node{WebIO.DOM}(WebIO.DOM(:html, :div), Any[WebIO.Node{WebIO.DOM}(WebIO.DOM(:html, :div), Any[WebIO.Node{WebIO.DOM}(WebIO.DOM(:html, :label), Any[\"RH (%)\"], Dict{Symbol, Any}(:className => \"interact \", :style => Dict{Any, Any}(:padding => \"5px 10px 0px 10px\", \"white-space\" => :nowrap, \"color\" => :royalblue)))], Dict{Symbol, Any}(:className => \"interact-flex-row-left\")), WebIO.Node{WebIO.DOM}(WebIO.DOM(:html, :div), Any[WebIO.Node{WebIO.DOM}(WebIO.DOM(:html, :input), Any[], Dict{Symbol, Any}(:max => 21, :min => 1, :attributes => Dict{Any, Any}(:type => \"range\", Symbol(\"data-bind\") => \"numericValue: index, valueUpdate: 'input', event: {change: function (){this.changes(this.changes()+1)}}\", \"orient\" => \"horizontal\"), :step => 1, :className => \"slider slider is-fullwidth\", :style => Dict{Any, Any}()))], Dict{Symbol, Any}(:className => \"interact-flex-row-center\")), WebIO.Node{WebIO.DOM}(WebIO.DOM(:html, :div), Any[WebIO.Node{WebIO.DOM}(WebIO.DOM(:html, :p), Any[], Dict{Symbol, Any}(:attributes => Dict(\"data-bind\" => \"text: formatted_val\")))], Dict{Symbol, Any}(:className => \"interact-flex-row-right\"))], Dict{Symbol, Any}(:className => \"interact-flex-row interact-widget\", :style => Dict(\"font-family\" => \"monospace\", \"width\" => \"80%\"))), Dict{String, Tuple{Observables.AbstractObservable, Union{Nothing, Bool}}}(\"changes\" => (Observable(0), nothing), \"index\" => (Observable{Any}(13), nothing)), Set{String}(), nothing, WebIO.Asset[WebIO.Asset(\"js\", \"knockout\", \"/Users/soohkim/.julia/packages/Knockout/HReiN/src/../assets/knockout.js\"), WebIO.Asset(\"js\", \"knockout_punches\", \"/Users/soohkim/.julia/packages/Knockout/HReiN/src/../assets/knockout_punches.js\"), WebIO.Asset(\"js\", nothing, \"/Users/soohkim/.julia/packages/InteractBase/Qhvxg/src/../assets/all.js\"), WebIO.Asset(\"css\", nothing, \"/Users/soohkim/.julia/packages/InteractBase/Qhvxg/src/../assets/style.css\"), WebIO.Asset(\"css\", nothing, \"/Users/soohkim/.julia/packages/Interact/PENUy/src/../assets/bulma_confined.min.css\")], Dict{Any, Any}(\"changes\" => Any[WebIO.JSString(\"(function (val){return (val!=this.model[\\\"changes\\\"]()) ? (this.valueFromJulia[\\\"changes\\\"]=true, this.model[\\\"changes\\\"](val)) : undefined})\")], \"index\" => Any[WebIO.JSString(\"(function (val){return (val!=this.model[\\\"index\\\"]()) ? (this.valueFromJulia[\\\"index\\\"]=true, this.model[\\\"index\\\"](val)) : undefined})\")]), WebIO.ConnectionPool(Channel{Any}(32), Set{WebIO.AbstractConnection}(), Condition(Base.InvasiveLinkedList{Task}(Task (runnable) @0x000000015e0fcd30, Task (runnable) @0x000000015e0fcd30), Base.AlwaysLockedST(1))), WebIO.JSString[WebIO.JSString(\"function () {\\n    var handler = (function (ko, koPunches) {\\n    ko.punches.enableAll();\\n    ko.bindingHandlers.numericValue = {\\n        init: function(element, valueAccessor, allBindings, data, context) {\\n            var stringified = ko.observable(ko.unwrap(valueAccessor()));\\n            stringified.subscribe(function(value) {\\n                var val = parseFloat(value);\\n                if (!isNaN(val)) {\\n                    valueAccessor()(val);\\n                }\\n            });\\n            valueAccessor().subscribe(function(value) {\\n                var str = JSON.stringify(value);\\n                if ((str == \\\"0\\\") && ([\\\"-0\\\", \\\"-0.\\\"].indexOf(stringified()) >= 0))\\n                     return;\\n                 if ([\\\"null\\\", \\\"\\\"].indexOf(str) >= 0)\\n                     return;\\n                stringified(str);\\n            });\\n            ko.applyBindingsToNode(\\n                element,\\n                {\\n                    value: stringified,\\n                    valueUpdate: allBindings.get('valueUpdate'),\\n                },\\n                context,\\n            );\\n        }\\n    };\\n    var json_data = {\\\"formatted_vals\\\":[\\\"0\\\",\\\"5\\\",\\\"10\\\",\\\"15\\\",\\\"20\\\",\\\"25\\\",\\\"30\\\",\\\"35\\\",\\\"40\\\",\\\"45\\\",\\\"50\\\",\\\"55\\\",\\\"60\\\",\\\"65\\\",\\\"70\\\",\\\"75\\\",\\\"80\\\",\\\"85\\\",\\\"90\\\",\\\"95\\\",\\\"100\\\"],\\\"changes\\\":WebIO.getval({\\\"name\\\":\\\"changes\\\",\\\"scope\\\":\\\"3634689085492476956\\\",\\\"id\\\":\\\"7992717401089257831\\\",\\\"type\\\":\\\"observable\\\"}),\\\"index\\\":WebIO.getval({\\\"name\\\":\\\"index\\\",\\\"scope\\\":\\\"3634689085492476956\\\",\\\"id\\\":\\\"4165104326073148628\\\",\\\"type\\\":\\\"observable\\\"})};\\n    var self = this;\\n    function AppViewModel() {\\n        for (var key in json_data) {\\n            var el = json_data[key];\\n            this[key] = Array.isArray(el) ? ko.observableArray(el) : ko.observable(el);\\n        }\\n        \\n        [this[\\\"formatted_val\\\"]=ko.computed(    function(){\\n        return this.formatted_vals()[parseInt(this.index())-(1)];\\n    }\\n,this)]\\n        [this[\\\"changes\\\"].subscribe((function (val){!(this.valueFromJulia[\\\"changes\\\"]) ? (WebIO.setval({\\\"name\\\":\\\"changes\\\",\\\"scope\\\":\\\"3634689085492476956\\\",\\\"id\\\":\\\"7992717401089257831\\\",\\\"type\\\":\\\"observable\\\"},val)) : undefined; return this.valueFromJulia[\\\"changes\\\"]=false}),self),this[\\\"index\\\"].subscribe((function (val){!(this.valueFromJulia[\\\"index\\\"]) ? (WebIO.setval({\\\"name\\\":\\\"index\\\",\\\"scope\\\":\\\"3634689085492476956\\\",\\\"id\\\":\\\"4165104326073148628\\\",\\\"type\\\":\\\"observable\\\"},val)) : undefined; return this.valueFromJulia[\\\"index\\\"]=false}),self)]\\n        \\n    }\\n    self.model = new AppViewModel();\\n    self.valueFromJulia = {};\\n    for (var key in json_data) {\\n        self.valueFromJulia[key] = false;\\n    }\\n    ko.applyBindings(self.model, self.dom);\\n}\\n);\\n    (WebIO.importBlock({\\\"data\\\":[{\\\"name\\\":\\\"knockout\\\",\\\"type\\\":\\\"js\\\",\\\"url\\\":\\\"/assetserver/c0689c4f2514def856941022372b529b3413f129-knockout.js\\\"},{\\\"name\\\":\\\"knockout_punches\\\",\\\"type\\\":\\\"js\\\",\\\"url\\\":\\\"/assetserver/69274bc4b68b761587a57ff3f5e787f3dd4781dc-knockout_punches.js\\\"}],\\\"type\\\":\\\"async_block\\\"})).then((imports) => handler.apply(this, imports));\\n}\\n\")])], Dict{Symbol, Any}(:className => \"field interact-widget\")), WebIO.Node{WebIO.DOM}(WebIO.DOM(:html, :div), Any[WebIO.Scope(WebIO.Node{WebIO.DOM}(WebIO.DOM(:html, :div), Any[WebIO.Node{WebIO.DOM}(WebIO.DOM(:html, :div), Any[WebIO.Node{WebIO.DOM}(WebIO.DOM(:html, :label), Any[\"T_air (°C)\"], Dict{Symbol, Any}(:className => \"interact \", :style => Dict{Any, Any}(:padding => \"5px 10px 0px 10px\", \"white-space\" => :nowrap, \"color\" => :royalblue)))], Dict{Symbol, Any}(:className => \"interact-flex-row-left\")), WebIO.Node{WebIO.DOM}(WebIO.DOM(:html, :div), Any[WebIO.Node{WebIO.DOM}(WebIO.DOM(:html, :input), Any[], Dict{Symbol, Any}(:max => 51, :min => 1, :attributes => Dict{Any, Any}(:type => \"range\", Symbol(\"data-bind\") => \"numericValue: index, valueUpdate: 'input', event: {change: function (){this.changes(this.changes()+1)}}\", \"orient\" => \"horizontal\"), :step => 1, :className => \"slider slider is-fullwidth\", :style => Dict{Any, Any}()))], Dict{Symbol, Any}(:className => \"interact-flex-row-center\")), WebIO.Node{WebIO.DOM}(WebIO.DOM(:html, :div), Any[WebIO.Node{WebIO.DOM}(WebIO.DOM(:html, :p), Any[], Dict{Symbol, Any}(:attributes => Dict(\"data-bind\" => \"text: formatted_val\")))], Dict{Symbol, Any}(:className => \"interact-flex-row-right\"))], Dict{Symbol, Any}(:className => \"interact-flex-row interact-widget\", :style => Dict(\"font-family\" => \"monospace\", \"width\" => \"80%\"))), Dict{String, Tuple{Observables.AbstractObservable, Union{Nothing, Bool}}}(\"changes\" => (Observable(0), nothing), \"index\" => (Observable{Any}(26), nothing)), Set{String}(), nothing, WebIO.Asset[WebIO.Asset(\"js\", \"knockout\", \"/Users/soohkim/.julia/packages/Knockout/HReiN/src/../assets/knockout.js\"), WebIO.Asset(\"js\", \"knockout_punches\", \"/Users/soohkim/.julia/packages/Knockout/HReiN/src/../assets/knockout_punches.js\"), WebIO.Asset(\"js\", nothing, \"/Users/soohkim/.julia/packages/InteractBase/Qhvxg/src/../assets/all.js\"), WebIO.Asset(\"css\", nothing, \"/Users/soohkim/.julia/packages/InteractBase/Qhvxg/src/../assets/style.css\"), WebIO.Asset(\"css\", nothing, \"/Users/soohkim/.julia/packages/Interact/PENUy/src/../assets/bulma_confined.min.css\")], Dict{Any, Any}(\"changes\" => Any[WebIO.JSString(\"(function (val){return (val!=this.model[\\\"changes\\\"]()) ? (this.valueFromJulia[\\\"changes\\\"]=true, this.model[\\\"changes\\\"](val)) : undefined})\")], \"index\" => Any[WebIO.JSString(\"(function (val){return (val!=this.model[\\\"index\\\"]()) ? (this.valueFromJulia[\\\"index\\\"]=true, this.model[\\\"index\\\"](val)) : undefined})\")]), WebIO.ConnectionPool(Channel{Any}(32), Set{WebIO.AbstractConnection}(), Condition(Base.InvasiveLinkedList{Task}(Task (runnable) @0x000000015ebae0e0, Task (runnable) @0x000000015ebae0e0), Base.AlwaysLockedST(1))), WebIO.JSString[WebIO.JSString(\"function () {\\n    var handler = (function (ko, koPunches) {\\n    ko.punches.enableAll();\\n    ko.bindingHandlers.numericValue = {\\n        init: function(element, valueAccessor, allBindings, data, context) {\\n            var stringified = ko.observable(ko.unwrap(valueAccessor()));\\n            stringified.subscribe(function(value) {\\n                var val = parseFloat(value);\\n                if (!isNaN(val)) {\\n                    valueAccessor()(val);\\n                }\\n            });\\n            valueAccessor().subscribe(function(value) {\\n                var str = JSON.stringify(value);\\n                if ((str == \\\"0\\\") && ([\\\"-0\\\", \\\"-0.\\\"].indexOf(stringified()) >= 0))\\n                     return;\\n                 if ([\\\"null\\\", \\\"\\\"].indexOf(str) >= 0)\\n                     return;\\n                stringified(str);\\n            });\\n            ko.applyBindingsToNode(\\n                element,\\n                {\\n                    value: stringified,\\n                    valueUpdate: allBindings.get('valueUpdate'),\\n                },\\n                context,\\n            );\\n        }\\n    };\\n    var json_data = {\\\"formatted_vals\\\":[\\\"0\\\",\\\"1\\\",\\\"2\\\",\\\"3\\\",\\\"4\\\",\\\"5\\\",\\\"6\\\",\\\"7\\\",\\\"8\\\",\\\"9\\\",\\\"10\\\",\\\"11\\\",\\\"12\\\",\\\"13\\\",\\\"14\\\",\\\"15\\\",\\\"16\\\",\\\"17\\\",\\\"18\\\",\\\"19\\\",\\\"20\\\",\\\"21\\\",\\\"22\\\",\\\"23\\\",\\\"24\\\",\\\"25\\\",\\\"26\\\",\\\"27\\\",\\\"28\\\",\\\"29\\\",\\\"30\\\",\\\"31\\\",\\\"32\\\",\\\"33\\\",\\\"34\\\",\\\"35\\\",\\\"36\\\",\\\"37\\\",\\\"38\\\",\\\"39\\\",\\\"40\\\",\\\"41\\\",\\\"42\\\",\\\"43\\\",\\\"44\\\",\\\"45\\\",\\\"46\\\",\\\"47\\\",\\\"48\\\",\\\"49\\\",\\\"50\\\"],\\\"changes\\\":WebIO.getval({\\\"name\\\":\\\"changes\\\",\\\"scope\\\":\\\"6750783212660687102\\\",\\\"id\\\":\\\"7852175081536351498\\\",\\\"type\\\":\\\"observable\\\"}),\\\"index\\\":WebIO.getval({\\\"name\\\":\\\"index\\\",\\\"scope\\\":\\\"6750783212660687102\\\",\\\"id\\\":\\\"1644922193804304513\\\",\\\"type\\\":\\\"observable\\\"})};\\n    var self = this;\\n    function AppViewModel() {\\n        for (var key in json_data) {\\n            var el = json_data[key];\\n            this[key] = Array.isArray(el) ? ko.observableArray(el) : ko.observable(el);\\n        }\\n        \\n        [this[\\\"formatted_val\\\"]=ko.computed(    function(){\\n        return this.formatted_vals()[parseInt(this.index())-(1)];\\n    }\\n,this)]\\n        [this[\\\"changes\\\"].subscribe((function (val){!(this.valueFromJulia[\\\"changes\\\"]) ? (WebIO.setval({\\\"name\\\":\\\"changes\\\",\\\"scope\\\":\\\"6750783212660687102\\\",\\\"id\\\":\\\"7852175081536351498\\\",\\\"type\\\":\\\"observable\\\"},val)) : undefined; return this.valueFromJulia[\\\"changes\\\"]=false}),self),this[\\\"index\\\"].subscribe((function (val){!(this.valueFromJulia[\\\"index\\\"]) ? (WebIO.setval({\\\"name\\\":\\\"index\\\",\\\"scope\\\":\\\"6750783212660687102\\\",\\\"id\\\":\\\"1644922193804304513\\\",\\\"type\\\":\\\"observable\\\"},val)) : undefined; return this.valueFromJulia[\\\"index\\\"]=false}),self)]\\n        \\n    }\\n    self.model = new AppViewModel();\\n    self.valueFromJulia = {};\\n    for (var key in json_data) {\\n        self.valueFromJulia[key] = false;\\n    }\\n    ko.applyBindings(self.model, self.dom);\\n}\\n);\\n    (WebIO.importBlock({\\\"data\\\":[{\\\"name\\\":\\\"knockout\\\",\\\"type\\\":\\\"js\\\",\\\"url\\\":\\\"/assetserver/c0689c4f2514def856941022372b529b3413f129-knockout.js\\\"},{\\\"name\\\":\\\"knockout_punches\\\",\\\"type\\\":\\\"js\\\",\\\"url\\\":\\\"/assetserver/69274bc4b68b761587a57ff3f5e787f3dd4781dc-knockout_punches.js\\\"}],\\\"type\\\":\\\"async_block\\\"})).then((imports) => handler.apply(this, imports));\\n}\\n\")])], Dict{Symbol, Any}(:className => \"field interact-widget\")), WebIO.Node{WebIO.DOM}(WebIO.DOM(:html, :div), Any[\"Nitrogen\"], Dict{Symbol, Any}(:style => Dict{String, Any}(\"color\" => :rebeccapurple, \"font-family\" => \"monospace\"))), WebIO.Node{WebIO.DOM}(WebIO.DOM(:html, :div), Any[WebIO.Scope(WebIO.Node{WebIO.DOM}(WebIO.DOM(:html, :div), Any[WebIO.Node{WebIO.DOM}(WebIO.DOM(:html, :div), Any[WebIO.Node{WebIO.DOM}(WebIO.DOM(:html, :label), Any[\"N\"], Dict{Symbol, Any}(:className => \"interact \", :style => Dict{Any, Any}(:padding => \"5px 10px 0px 10px\", \"white-space\" => :nowrap, \"color\" => :royalblue)))], Dict{Symbol, Any}(:className => \"interact-flex-row-left\")), WebIO.Node{WebIO.DOM}(WebIO.DOM(:html, :div), Any[WebIO.Node{WebIO.DOM}(WebIO.DOM(:html, :input), Any[], Dict{Symbol, Any}(:max => 41, :min => 1, :attributes => Dict{Any, Any}(:type => \"range\", Symbol(\"data-bind\") => \"numericValue: index, valueUpdate: 'input', event: {change: function (){this.changes(this.changes()+1)}}\", \"orient\" => \"horizontal\"), :step => 1, :className => \"slider slider is-fullwidth\", :style => Dict{Any, Any}()))], Dict{Symbol, Any}(:className => \"interact-flex-row-center\")), WebIO.Node{WebIO.DOM}(WebIO.DOM(:html, :div), Any[WebIO.Node{WebIO.DOM}(WebIO.DOM(:html, :p), Any[], Dict{Symbol, Any}(:attributes => Dict(\"data-bind\" => \"text: formatted_val\")))], Dict{Symbol, Any}(:className => \"interact-flex-row-right\"))], Dict{Symbol, Any}(:className => \"interact-flex-row interact-widget\", :style => Dict(\"font-family\" => \"monospace\", \"width\" => \"80%\"))), Dict{String, Tuple{Observables.AbstractObservable, Union{Nothing, Bool}}}(\"changes\" => (Observable(0), nothing), \"index\" => (Observable{Any}(21), nothing)), Set{String}(), nothing, WebIO.Asset[WebIO.Asset(\"js\", \"knockout\", \"/Users/soohkim/.julia/packages/Knockout/HReiN/src/../assets/knockout.js\"), WebIO.Asset(\"js\", \"knockout_punches\", \"/Users/soohkim/.julia/packages/Knockout/HReiN/src/../assets/knockout_punches.js\"), WebIO.Asset(\"js\", nothing, \"/Users/soohkim/.julia/packages/InteractBase/Qhvxg/src/../assets/all.js\"), WebIO.Asset(\"css\", nothing, \"/Users/soohkim/.julia/packages/InteractBase/Qhvxg/src/../assets/style.css\"), WebIO.Asset(\"css\", nothing, \"/Users/soohkim/.julia/packages/Interact/PENUy/src/../assets/bulma_confined.min.css\")], Dict{Any, Any}(\"changes\" => Any[WebIO.JSString(\"(function (val){return (val!=this.model[\\\"changes\\\"]()) ? (this.valueFromJulia[\\\"changes\\\"]=true, this.model[\\\"changes\\\"](val)) : undefined})\")], \"index\" => Any[WebIO.JSString(\"(function (val){return (val!=this.model[\\\"index\\\"]()) ? (this.valueFromJulia[\\\"index\\\"]=true, this.model[\\\"index\\\"](val)) : undefined})\")]), WebIO.ConnectionPool(Channel{Any}(32), Set{WebIO.AbstractConnection}(), Condition(Base.InvasiveLinkedList{Task}(Task (runnable) @0x000000015ee23dc0, Task (runnable) @0x000000015ee23dc0), Base.AlwaysLockedST(1))), WebIO.JSString[WebIO.JSString(\"function () {\\n    var handler = (function (ko, koPunches) {\\n    ko.punches.enableAll();\\n    ko.bindingHandlers.numericValue = {\\n        init: function(element, valueAccessor, allBindings, data, context) {\\n            var stringified = ko.observable(ko.unwrap(valueAccessor()));\\n            stringified.subscribe(function(value) {\\n                var val = parseFloat(value);\\n                if (!isNaN(val)) {\\n                    valueAccessor()(val);\\n                }\\n            });\\n            valueAccessor().subscribe(function(value) {\\n                var str = JSON.stringify(value);\\n                if ((str == \\\"0\\\") && ([\\\"-0\\\", \\\"-0.\\\"].indexOf(stringified()) >= 0))\\n                     return;\\n                 if ([\\\"null\\\", \\\"\\\"].indexOf(str) >= 0)\\n                     return;\\n                stringified(str);\\n            });\\n            ko.applyBindingsToNode(\\n                element,\\n                {\\n                    value: stringified,\\n                    valueUpdate: allBindings.get('valueUpdate'),\\n                },\\n                context,\\n            );\\n        }\\n    };\\n    var json_data = {\\\"formatted_vals\\\":[\\\"0.0\\\",\\\"0.1\\\",\\\"0.2\\\",\\\"0.3\\\",\\\"0.4\\\",\\\"0.5\\\",\\\"0.6\\\",\\\"0.7\\\",\\\"0.8\\\",\\\"0.9\\\",\\\"1.0\\\",\\\"1.1\\\",\\\"1.2\\\",\\\"1.3\\\",\\\"1.4\\\",\\\"1.5\\\",\\\"1.6\\\",\\\"1.7\\\",\\\"1.8\\\",\\\"1.9\\\",\\\"2.0\\\",\\\"2.1\\\",\\\"2.2\\\",\\\"2.3\\\",\\\"2.4\\\",\\\"2.5\\\",\\\"2.6\\\",\\\"2.7\\\",\\\"2.8\\\",\\\"2.9\\\",\\\"3.0\\\",\\\"3.1\\\",\\\"3.2\\\",\\\"3.3\\\",\\\"3.4\\\",\\\"3.5\\\",\\\"3.6\\\",\\\"3.7\\\",\\\"3.8\\\",\\\"3.9\\\",\\\"4.0\\\"],\\\"changes\\\":WebIO.getval({\\\"name\\\":\\\"changes\\\",\\\"scope\\\":\\\"10340849261403227923\\\",\\\"id\\\":\\\"13042377344403532976\\\",\\\"type\\\":\\\"observable\\\"}),\\\"index\\\":WebIO.getval({\\\"name\\\":\\\"index\\\",\\\"scope\\\":\\\"10340849261403227923\\\",\\\"id\\\":\\\"4458163550355190968\\\",\\\"type\\\":\\\"observable\\\"})};\\n    var self = this;\\n    function AppViewModel() {\\n        for (var key in json_data) {\\n            var el = json_data[key];\\n            this[key] = Array.isArray(el) ? ko.observableArray(el) : ko.observable(el);\\n        }\\n        \\n        [this[\\\"formatted_val\\\"]=ko.computed(    function(){\\n        return this.formatted_vals()[parseInt(this.index())-(1)];\\n    }\\n,this)]\\n        [this[\\\"changes\\\"].subscribe((function (val){!(this.valueFromJulia[\\\"changes\\\"]) ? (WebIO.setval({\\\"name\\\":\\\"changes\\\",\\\"scope\\\":\\\"10340849261403227923\\\",\\\"id\\\":\\\"13042377344403532976\\\",\\\"type\\\":\\\"observable\\\"},val)) : undefined; return this.valueFromJulia[\\\"changes\\\"]=false}),self),this[\\\"index\\\"].subscribe((function (val){!(this.valueFromJulia[\\\"index\\\"]) ? (WebIO.setval({\\\"name\\\":\\\"index\\\",\\\"scope\\\":\\\"10340849261403227923\\\",\\\"id\\\":\\\"4458163550355190968\\\",\\\"type\\\":\\\"observable\\\"},val)) : undefined; return this.valueFromJulia[\\\"index\\\"]=false}),self)]\\n        \\n    }\\n    self.model = new AppViewModel();\\n    self.valueFromJulia = {};\\n    for (var key in json_data) {\\n        self.valueFromJulia[key] = false;\\n    }\\n    ko.applyBindings(self.model, self.dom);\\n}\\n);\\n    (WebIO.importBlock({\\\"data\\\":[{\\\"name\\\":\\\"knockout\\\",\\\"type\\\":\\\"js\\\",\\\"url\\\":\\\"/assetserver/c0689c4f2514def856941022372b529b3413f129-knockout.js\\\"},{\\\"name\\\":\\\"knockout_punches\\\",\\\"type\\\":\\\"js\\\",\\\"url\\\":\\\"/assetserver/69274bc4b68b761587a57ff3f5e787f3dd4781dc-knockout_punches.js\\\"}],\\\"type\\\":\\\"async_block\\\"})).then((imports) => handler.apply(this, imports));\\n}\\n\")])], Dict{Symbol, Any}(:className => \"field interact-widget\")), Observable(Gadfly.Plot(Gadfly.Layer[Gadfly.Layer(nothing, Dict{Symbol, Any}(:y => [-1.0743283293952992, 6.094042446284431, 11.971988396960308, 16.56094477325246, 19.99532201255243, 22.526420512841696, 24.40642015885612, 25.83224568692236, 26.941933034635735, 27.8282170928571  …  29.15991429985052, 29.676867486310826, 30.12499644820367, 30.51916484450244, 30.870435158832905, 31.186945236808356, 31.474865337219015, 31.73931151149727, 31.984023701719245, 32.21189222632998], :x => [0.0, 100.0, 200.0, 300.0, 400.0, 500.0, 600.0, 700.0, 800.0, 900.0  …  1100.0, 1200.0, 1300.0, 1400.0, 1500.0, 1600.0, 1700.0, 1800.0, 1900.0, 2000.0]), Gadfly.StatisticElement[], Gadfly.Geom.LineGeometry(Gadfly.Stat.Identity(), false, 2, Symbol(\"\")), Gadfly.Theme(LCHab{Float32}(70.0f0,60.0f0,240.0f0), 0.7mm, 0.45mm, 1.8mm, Gadfly.Scale.default_discrete_sizes, Gadfly.Scale.default_continuous_sizes, Gadfly.Scale.default_discrete_colors, Function[Compose.circle, Gadfly.Shape.square, Gadfly.Shape.diamond, Gadfly.Shape.cross, Gadfly.Shape.xcross, Gadfly.Shape.utriangle, Gadfly.Shape.dtriangle, Gadfly.Shape.star1, Gadfly.Shape.star2, Gadfly.Shape.hexagon, Gadfly.Shape.octagon, Gadfly.Shape.hline, Gadfly.Shape.vline, Gadfly.Shape.ltriangle, Gadfly.Shape.rtriangle], 0.3mm, [:solid, :dash, :dot, :dashdot, :dashdotdot, :ldash, :ldashdash, :ldashdot, :ldashdashdot], [1.0, 0.9, 0.8, 0.7, 0.6, 0.5, 0.4, 0.3, 0.2, 0.1, 0.0], nothing, nothing, 0.3mm, 0.0, RGB{N0f8}(1.0,1.0,1.0), Measures.AbsoluteLength[5.0mm, 5.0mm, 5.0mm, 0.0mm], RGB{N0f8}(0.816,0.816,0.878), Measures.AbsoluteLength[0.5mm, 0.5mm], RGB{N0f8}(0.627,0.627,0.627), 0.2mm, 0, \"'PT Sans Caption','Helvetica Neue','Helvetica',sans-serif\", 2.822222222222222mm, RGB{N0f8}(0.424,0.376,0.42), \"'PT Sans','Helvetica Neue','Helvetica',sans-serif\", 3.5277777777777777mm, RGB{N0f8}(0.337,0.29,0.333), \"'PT Sans Caption','Helvetica Neue','Helvetica',sans-serif\", 2.822222222222222mm, RGB{N0f8}(0.298,0.251,0.294), \"'PT Sans','Helvetica Neue','Helvetica',sans-serif\", 3.175mm, RGB{N0f8}(0.212,0.165,0.208), \"'PT Sans','Helvetica Neue','Helvetica',sans-serif\", 2.822222222222222mm, RGB{N0f8}(0.298,0.251,0.294), 40, -0.05mm, 1.0mm, 3.0mm, Gadfly.default_stroke_color, 0.3mm, Cropbox.var\"#603#612\"(), Gadfly.default_continuous_highlight_color, Gadfly.default_lowlight_color, Gadfly.default_middle_color, 0.6mm, :left, :square, nothing, nothing, nothing, :right, nothing, 2.0mm, 1000, 10.0, 0.5, 0.2, 1.0mm, 4, Gadfly.Scale.DiscreteColorScale(Gadfly.Scale.default_discrete_colors, nothing, nothing, true), Gadfly.Scale.ContinuousColorScale(Gadfly.Scale.var\"#73#77\"{Int64, Int64, Int64, Int64, Float64, Int64}(100, 40, 260, 10, 1.5, 70), Gadfly.Scale.ContinuousScaleTransform(identity, identity, Gadfly.Scale.identity_formatter), nothing, nothing)), 1), Gadfly.Layer(nothing, Dict{Symbol, Any}(:y => [-1.0743283293952992, 4.60733800961261, 9.263485298326538, 12.883801626662253, 15.56216512280014, 17.507496584308125, 18.930680666337285, 19.993607566291843, 20.808079939942512, 21.448165336064836  …  22.38611778016953, 22.739895824933857, 23.040749015017056, 23.300117098383893, 23.526343157110635, 23.725818664486358, 23.903417885735543, 24.062883127971833, 24.20696380989257, 24.33821452248311], :x => [0.0, 100.0, 200.0, 300.0, 400.0, 500.0, 600.0, 700.0, 800.0, 900.0  …  1100.0, 1200.0, 1300.0, 1400.0, 1500.0, 1600.0, 1700.0, 1800.0, 1900.0, 2000.0]), Gadfly.StatisticElement[], Gadfly.Geom.LineGeometry(Gadfly.Stat.Identity(), false, 2, Symbol(\"\")), Gadfly.Theme(LCHab{Float32}(80.0f0,70.000015f0,100.43479f0), 0.7mm, 0.45mm, 1.8mm, Gadfly.Scale.default_discrete_sizes, Gadfly.Scale.default_continuous_sizes, Gadfly.Scale.default_discrete_colors, Function[Compose.circle, Gadfly.Shape.square, Gadfly.Shape.diamond, Gadfly.Shape.cross, Gadfly.Shape.xcross, Gadfly.Shape.utriangle, Gadfly.Shape.dtriangle, Gadfly.Shape.star1, Gadfly.Shape.star2, Gadfly.Shape.hexagon, Gadfly.Shape.octagon, Gadfly.Shape.hline, Gadfly.Shape.vline, Gadfly.Shape.ltriangle, Gadfly.Shape.rtriangle], 0.3mm, [:solid, :dash, :dot, :dashdot, :dashdotdot, :ldash, :ldashdash, :ldashdot, :ldashdashdot], [1.0, 0.9, 0.8, 0.7, 0.6, 0.5, 0.4, 0.3, 0.2, 0.1, 0.0], nothing, nothing, 0.3mm, 0.0, RGB{N0f8}(1.0,1.0,1.0), Measures.AbsoluteLength[5.0mm, 5.0mm, 5.0mm, 0.0mm], RGB{N0f8}(0.816,0.816,0.878), Measures.AbsoluteLength[0.5mm, 0.5mm], RGB{N0f8}(0.627,0.627,0.627), 0.2mm, 0, \"'PT Sans Caption','Helvetica Neue','Helvetica',sans-serif\", 2.822222222222222mm, RGB{N0f8}(0.424,0.376,0.42), \"'PT Sans','Helvetica Neue','Helvetica',sans-serif\", 3.5277777777777777mm, RGB{N0f8}(0.337,0.29,0.333), \"'PT Sans Caption','Helvetica Neue','Helvetica',sans-serif\", 2.822222222222222mm, RGB{N0f8}(0.298,0.251,0.294), \"'PT Sans','Helvetica Neue','Helvetica',sans-serif\", 3.175mm, RGB{N0f8}(0.212,0.165,0.208), \"'PT Sans','Helvetica Neue','Helvetica',sans-serif\", 2.822222222222222mm, RGB{N0f8}(0.298,0.251,0.294), 40, -0.05mm, 1.0mm, 3.0mm, Gadfly.default_stroke_color, 0.3mm, Cropbox.var\"#603#612\"(), Gadfly.default_continuous_highlight_color, Gadfly.default_lowlight_color, Gadfly.default_middle_color, 0.6mm, :left, :square, nothing, nothing, nothing, :right, nothing, 2.0mm, 1000, 10.0, 0.5, 0.2, 1.0mm, 4, Gadfly.Scale.DiscreteColorScale(Gadfly.Scale.default_discrete_colors, nothing, nothing, true), Gadfly.Scale.ContinuousColorScale(Gadfly.Scale.var\"#73#77\"{Int64, Int64, Int64, Int64, Float64, Int64}(100, 40, 260, 10, 1.5, 70), Gadfly.Scale.ContinuousScaleTransform(identity, identity, Gadfly.Scale.identity_formatter), nothing, nothing)), 2), Gadfly.Layer(nothing, Dict{Symbol, Any}(:y => [-1.0743283293952992, 3.4711752585961895, 7.212433747875911, 10.125387902993763, 12.26963805814873, 13.814702348649181, 14.934469168634566, 15.76234551929576, 15.827602275201508, 15.79873985913541  …  15.739960393241992, 15.70969057197532, 15.678817364484754, 15.6473430375463, 15.615291929236275, 15.58264513583726, 15.549427851614169, 15.515597217934431, 15.481201711716285, 15.446196965908292], :x => [0.0, 100.0, 200.0, 300.0, 400.0, 500.0, 600.0, 700.0, 800.0, 900.0  …  1100.0, 1200.0, 1300.0, 1400.0, 1500.0, 1600.0, 1700.0, 1800.0, 1900.0, 2000.0]), Gadfly.StatisticElement[], Gadfly.Geom.LineGeometry(Gadfly.Stat.Identity(), false, 2, Symbol(\"\")), Gadfly.Theme(LCHab{Float32}(65.89944f0,62.21457f0,353.99814f0), 0.7mm, 0.45mm, 1.8mm, Gadfly.Scale.default_discrete_sizes, Gadfly.Scale.default_continuous_sizes, Gadfly.Scale.default_discrete_colors, Function[Compose.circle, Gadfly.Shape.square, Gadfly.Shape.diamond, Gadfly.Shape.cross, Gadfly.Shape.xcross, Gadfly.Shape.utriangle, Gadfly.Shape.dtriangle, Gadfly.Shape.star1, Gadfly.Shape.star2, Gadfly.Shape.hexagon, Gadfly.Shape.octagon, Gadfly.Shape.hline, Gadfly.Shape.vline, Gadfly.Shape.ltriangle, Gadfly.Shape.rtriangle], 0.3mm, [:solid, :dash, :dot, :dashdot, :dashdotdot, :ldash, :ldashdash, :ldashdot, :ldashdashdot], [1.0, 0.9, 0.8, 0.7, 0.6, 0.5, 0.4, 0.3, 0.2, 0.1, 0.0], nothing, nothing, 0.3mm, 0.0, RGB{N0f8}(1.0,1.0,1.0), Measures.AbsoluteLength[5.0mm, 5.0mm, 5.0mm, 0.0mm], RGB{N0f8}(0.816,0.816,0.878), Measures.AbsoluteLength[0.5mm, 0.5mm], RGB{N0f8}(0.627,0.627,0.627), 0.2mm, 0, \"'PT Sans Caption','Helvetica Neue','Helvetica',sans-serif\", 2.822222222222222mm, RGB{N0f8}(0.424,0.376,0.42), \"'PT Sans','Helvetica Neue','Helvetica',sans-serif\", 3.5277777777777777mm, RGB{N0f8}(0.337,0.29,0.333), \"'PT Sans Caption','Helvetica Neue','Helvetica',sans-serif\", 2.822222222222222mm, RGB{N0f8}(0.298,0.251,0.294), \"'PT Sans','Helvetica Neue','Helvetica',sans-serif\", 3.175mm, RGB{N0f8}(0.212,0.165,0.208), \"'PT Sans','Helvetica Neue','Helvetica',sans-serif\", 2.822222222222222mm, RGB{N0f8}(0.298,0.251,0.294), 40, -0.05mm, 1.0mm, 3.0mm, Gadfly.default_stroke_color, 0.3mm, Cropbox.var\"#603#612\"(), Gadfly.default_continuous_highlight_color, Gadfly.default_lowlight_color, Gadfly.default_middle_color, 0.6mm, :left, :square, nothing, nothing, nothing, :right, nothing, 2.0mm, 1000, 10.0, 0.5, 0.2, 1.0mm, 4, Gadfly.Scale.DiscreteColorScale(Gadfly.Scale.default_discrete_colors, nothing, nothing, true), Gadfly.Scale.ContinuousColorScale(Gadfly.Scale.var\"#73#77\"{Int64, Int64, Int64, Int64, Float64, Int64}(100, 40, 260, 10, 1.5, 70), Gadfly.Scale.ContinuousScaleTransform(identity, identity, Gadfly.Scale.identity_formatter), nothing, nothing)), 3)], nothing, Data(\n",
       "  titles=Dict{Symbol, AbstractString}()\n",
       ")\n",
       ", Gadfly.ScaleElement[], Gadfly.StatisticElement[], Gadfly.Coord.Cartesian([:x, :xmin, :xmax, :xintercept], [:y, :ymin, :ymax, :yintercept, :middle, :lower_hinge, :upper_hinge, :lower_fence, :upper_fence, :outliers], 0, 2000, 0, 40, false, false, false, nothing, false), Gadfly.GuideElement[Gadfly.Guide.Title(\"\"), Gadfly.Guide.XLabel(\"PFD (μmol m⁻² s⁻¹)\", :auto), Gadfly.Guide.YLabel(\"A_net (μmol m⁻² s⁻¹)\", :auto), Gadfly.Guide.ManualDiscreteKey(\"CO2 (μmol mol⁻¹)\", [\"1000 μmol mol⁻¹\", \"400 μmol mol⁻¹\", \"250 μmol mol⁻¹\"], Any[], ColorTypes.Colorant[LCHab{Float32}(70.0f0,60.0f0,240.0f0), LCHab{Float32}(80.0f0,70.000015f0,100.43479f0), LCHab{Float32}(65.89944f0,62.21457f0,353.99814f0)], Function[], Measures.Measure[], true)], Gadfly.Theme(LCHab{Float32}(70.0f0,60.0f0,240.0f0), 0.7mm, 0.45mm, 1.8mm, Gadfly.Scale.default_discrete_sizes, Gadfly.Scale.default_continuous_sizes, Gadfly.Scale.default_discrete_colors, Function[Compose.circle, Gadfly.Shape.square, Gadfly.Shape.diamond, Gadfly.Shape.cross, Gadfly.Shape.xcross, Gadfly.Shape.utriangle, Gadfly.Shape.dtriangle, Gadfly.Shape.star1, Gadfly.Shape.star2, Gadfly.Shape.hexagon, Gadfly.Shape.octagon, Gadfly.Shape.hline, Gadfly.Shape.vline, Gadfly.Shape.ltriangle, Gadfly.Shape.rtriangle], 0.3mm, [:solid, :dash, :dot, :dashdot, :dashdotdot, :ldash, :ldashdash, :ldashdot, :ldashdashdot], [1.0, 0.9, 0.8, 0.7, 0.6, 0.5, 0.4, 0.3, 0.2, 0.1, 0.0], nothing, nothing, 0.3mm, 0.0, RGB{N0f8}(1.0,1.0,1.0), Measures.AbsoluteLength[5.0mm, 5.0mm, 5.0mm, 0.0mm], RGB{N0f8}(0.816,0.816,0.878), Measures.AbsoluteLength[0.5mm, 0.5mm], RGB{N0f8}(0.627,0.627,0.627), 0.2mm, 0, \"'PT Sans Caption','Helvetica Neue','Helvetica',sans-serif\", 2.822222222222222mm, RGB{N0f8}(0.424,0.376,0.42), \"'PT Sans','Helvetica Neue','Helvetica',sans-serif\", 3.5277777777777777mm, RGB{N0f8}(0.337,0.29,0.333), \"'PT Sans Caption','Helvetica Neue','Helvetica',sans-serif\", 2.822222222222222mm, RGB{N0f8}(0.298,0.251,0.294), \"'PT Sans','Helvetica Neue','Helvetica',sans-serif\", 3.175mm, RGB{N0f8}(0.212,0.165,0.208), \"'PT Sans','Helvetica Neue','Helvetica',sans-serif\", 2.822222222222222mm, RGB{N0f8}(0.298,0.251,0.294), 40, -0.05mm, 1.0mm, 3.0mm, Gadfly.default_stroke_color, 0.3mm, Cropbox.var\"#603#612\"(), Gadfly.default_continuous_highlight_color, Gadfly.default_lowlight_color, Gadfly.default_middle_color, 0.6mm, :left, :square, nothing, nothing, nothing, :right, nothing, 2.0mm, 1000, 10.0, 0.5, 0.2, 1.0mm, 4, Gadfly.Scale.DiscreteColorScale(Gadfly.Scale.default_discrete_colors, nothing, nothing, true), Gadfly.Scale.ContinuousColorScale(Gadfly.Scale.var\"#73#77\"{Int64, Int64, Int64, Int64, Float64, Int64}(100, 40, 260, 10, 1.5, 70), Gadfly.Scale.ContinuousScaleTransform(identity, identity, Gadfly.Scale.identity_formatter), nothing, nothing)), Dict{Symbol, Any}()))], Dict{Symbol, Any}(:style => Dict(\"display\" => \"flex\", \"flex-direction\" => \"column\")))"
      ]
     },
     "execution_count": 9,
     "metadata": {
      "@webio": {
       "kernelId": "8436a56f-e476-4e97-9154-247f9c1a8fbe"
      }
     },
     "output_type": "execute_result"
    }
   ],
   "source": [
    "manipulate(ModelC3BB, :PFD, :A_net;\n",
    "    config = ge_C3base,\n",
    "    parameters = (\n",
    "    :StomataTuzet => :WP_leaf => -3:0.1:0,\n",
    "    :Weather      => :RH     => 0:5:100,\n",
    "    :Weather      => :T_air   => 0:1:50,\n",
    "    :Nitrogen     => :N     => 0:0.1:4,        \n",
    "        ),\n",
    "    xstep = :Weather      => :PFD     => 0:100:2000,\n",
    "    group = CO2_group,        \n",
    "    xlim = (0,2000),\n",
    "    ylim = (0,40),\n",
    "    kind = :line,\n",
    ")"
   ]
  },
  {
   "cell_type": "markdown",
   "metadata": {},
   "source": [
    "## Photosynthetic temperature response (A-T) curves"
   ]
  },
  {
   "cell_type": "code",
   "execution_count": 10,
   "metadata": {
    "jupyter": {
     "source_hidden": true
    },
    "tags": []
   },
   "outputs": [
    {
     "data": {
      "application/vnd.webio.node+json": {
       "children": [
        {
         "children": [
          "StomataTuzet"
         ],
         "instanceArgs": {
          "namespace": "html",
          "tag": "div"
         },
         "nodeType": "DOM",
         "props": {
          "style": {
           "color": "rebeccapurple",
           "font-family": "monospace"
          }
         },
         "type": "node"
        },
        {
         "children": [
          {
           "children": [
            {
             "children": [
              {
               "children": [
                {
                 "children": [
                  "WP_leaf"
                 ],
                 "instanceArgs": {
                  "namespace": "html",
                  "tag": "label"
                 },
                 "nodeType": "DOM",
                 "props": {
                  "className": "interact ",
                  "style": {
                   "color": "royalblue",
                   "padding": "5px 10px 0px 10px",
                   "white-space": "nowrap"
                  }
                 },
                 "type": "node"
                }
               ],
               "instanceArgs": {
                "namespace": "html",
                "tag": "div"
               },
               "nodeType": "DOM",
               "props": {
                "className": "interact-flex-row-left"
               },
               "type": "node"
              },
              {
               "children": [
                {
                 "children": [],
                 "instanceArgs": {
                  "namespace": "html",
                  "tag": "input"
                 },
                 "nodeType": "DOM",
                 "props": {
                  "attributes": {
                   "data-bind": "numericValue: index, valueUpdate: 'input', event: {change: function (){this.changes(this.changes()+1)}}",
                   "orient": "horizontal",
                   "type": "range"
                  },
                  "className": "slider slider is-fullwidth",
                  "max": 31,
                  "min": 1,
                  "step": 1,
                  "style": {}
                 },
                 "type": "node"
                }
               ],
               "instanceArgs": {
                "namespace": "html",
                "tag": "div"
               },
               "nodeType": "DOM",
               "props": {
                "className": "interact-flex-row-center"
               },
               "type": "node"
              },
              {
               "children": [
                {
                 "children": [],
                 "instanceArgs": {
                  "namespace": "html",
                  "tag": "p"
                 },
                 "nodeType": "DOM",
                 "props": {
                  "attributes": {
                   "data-bind": "text: formatted_val"
                  }
                 },
                 "type": "node"
                }
               ],
               "instanceArgs": {
                "namespace": "html",
                "tag": "div"
               },
               "nodeType": "DOM",
               "props": {
                "className": "interact-flex-row-right"
               },
               "type": "node"
              }
             ],
             "instanceArgs": {
              "namespace": "html",
              "tag": "div"
             },
             "nodeType": "DOM",
             "props": {
              "className": "interact-flex-row interact-widget",
              "style": {
               "font-family": "monospace",
               "width": "80%"
              }
             },
             "type": "node"
            }
           ],
           "instanceArgs": {
            "handlers": {
             "changes": [
              "(function (val){return (val!=this.model[\"changes\"]()) ? (this.valueFromJulia[\"changes\"]=true, this.model[\"changes\"](val)) : undefined})"
             ],
             "index": [
              "(function (val){return (val!=this.model[\"index\"]()) ? (this.valueFromJulia[\"index\"]=true, this.model[\"index\"](val)) : undefined})"
             ]
            },
            "id": "932405206824253559",
            "imports": {
             "data": [
              {
               "name": "knockout",
               "type": "js",
               "url": "/assetserver/c0689c4f2514def856941022372b529b3413f129-knockout.js"
              },
              {
               "name": "knockout_punches",
               "type": "js",
               "url": "/assetserver/69274bc4b68b761587a57ff3f5e787f3dd4781dc-knockout_punches.js"
              },
              {
               "name": null,
               "type": "js",
               "url": "/assetserver/096b68745a0180096d3bd812a95825d387626124-all.js"
              },
              {
               "name": null,
               "type": "css",
               "url": "/assetserver/d8822751ac3a06d244eead91a737222f90bb9e0b-style.css"
              },
              {
               "name": null,
               "type": "css",
               "url": "/assetserver/792d9982ee796e4da6422248c42eb77a0d83e61e-bulma_confined.min.css"
              }
             ],
             "type": "async_block"
            },
            "mount_callbacks": [
             "function () {\n    var handler = (function (ko, koPunches) {\n    ko.punches.enableAll();\n    ko.bindingHandlers.numericValue = {\n        init: function(element, valueAccessor, allBindings, data, context) {\n            var stringified = ko.observable(ko.unwrap(valueAccessor()));\n            stringified.subscribe(function(value) {\n                var val = parseFloat(value);\n                if (!isNaN(val)) {\n                    valueAccessor()(val);\n                }\n            });\n            valueAccessor().subscribe(function(value) {\n                var str = JSON.stringify(value);\n                if ((str == \"0\") && ([\"-0\", \"-0.\"].indexOf(stringified()) >= 0))\n                     return;\n                 if ([\"null\", \"\"].indexOf(str) >= 0)\n                     return;\n                stringified(str);\n            });\n            ko.applyBindingsToNode(\n                element,\n                {\n                    value: stringified,\n                    valueUpdate: allBindings.get('valueUpdate'),\n                },\n                context,\n            );\n        }\n    };\n    var json_data = {\"formatted_vals\":[\"-3.0\",\"-2.9\",\"-2.8\",\"-2.7\",\"-2.6\",\"-2.5\",\"-2.4\",\"-2.3\",\"-2.2\",\"-2.1\",\"-2.0\",\"-1.9\",\"-1.8\",\"-1.7\",\"-1.6\",\"-1.5\",\"-1.4\",\"-1.3\",\"-1.2\",\"-1.1\",\"-1.0\",\"-0.9\",\"-0.8\",\"-0.7\",\"-0.6\",\"-0.5\",\"-0.4\",\"-0.3\",\"-0.2\",\"-0.1\",\"0.0\"],\"changes\":WebIO.getval({\"name\":\"changes\",\"scope\":\"932405206824253559\",\"id\":\"16100994358733706820\",\"type\":\"observable\"}),\"index\":WebIO.getval({\"name\":\"index\",\"scope\":\"932405206824253559\",\"id\":\"5670284708498472935\",\"type\":\"observable\"})};\n    var self = this;\n    function AppViewModel() {\n        for (var key in json_data) {\n            var el = json_data[key];\n            this[key] = Array.isArray(el) ? ko.observableArray(el) : ko.observable(el);\n        }\n        \n        [this[\"formatted_val\"]=ko.computed(    function(){\n        return this.formatted_vals()[parseInt(this.index())-(1)];\n    }\n,this)]\n        [this[\"changes\"].subscribe((function (val){!(this.valueFromJulia[\"changes\"]) ? (WebIO.setval({\"name\":\"changes\",\"scope\":\"932405206824253559\",\"id\":\"16100994358733706820\",\"type\":\"observable\"},val)) : undefined; return this.valueFromJulia[\"changes\"]=false}),self),this[\"index\"].subscribe((function (val){!(this.valueFromJulia[\"index\"]) ? (WebIO.setval({\"name\":\"index\",\"scope\":\"932405206824253559\",\"id\":\"5670284708498472935\",\"type\":\"observable\"},val)) : undefined; return this.valueFromJulia[\"index\"]=false}),self)]\n        \n    }\n    self.model = new AppViewModel();\n    self.valueFromJulia = {};\n    for (var key in json_data) {\n        self.valueFromJulia[key] = false;\n    }\n    ko.applyBindings(self.model, self.dom);\n}\n);\n    (WebIO.importBlock({\"data\":[{\"name\":\"knockout\",\"type\":\"js\",\"url\":\"/assetserver/c0689c4f2514def856941022372b529b3413f129-knockout.js\"},{\"name\":\"knockout_punches\",\"type\":\"js\",\"url\":\"/assetserver/69274bc4b68b761587a57ff3f5e787f3dd4781dc-knockout_punches.js\"}],\"type\":\"async_block\"})).then((imports) => handler.apply(this, imports));\n}\n"
            ],
            "observables": {
             "changes": {
              "id": "16100994358733706820",
              "sync": true,
              "value": 0
             },
             "index": {
              "id": "5670284708498472935",
              "sync": true,
              "value": 26
             }
            },
            "systemjs_options": null
           },
           "nodeType": "Scope",
           "props": {},
           "type": "node"
          }
         ],
         "instanceArgs": {
          "namespace": "html",
          "tag": "div"
         },
         "nodeType": "DOM",
         "props": {
          "className": "field interact-widget"
         },
         "type": "node"
        },
        {
         "children": [
          "Weather"
         ],
         "instanceArgs": {
          "namespace": "html",
          "tag": "div"
         },
         "nodeType": "DOM",
         "props": {
          "style": {
           "color": "rebeccapurple",
           "font-family": "monospace"
          }
         },
         "type": "node"
        },
        {
         "children": [
          {
           "children": [
            {
             "children": [
              {
               "children": [
                {
                 "children": [
                  "RH (%)"
                 ],
                 "instanceArgs": {
                  "namespace": "html",
                  "tag": "label"
                 },
                 "nodeType": "DOM",
                 "props": {
                  "className": "interact ",
                  "style": {
                   "color": "royalblue",
                   "padding": "5px 10px 0px 10px",
                   "white-space": "nowrap"
                  }
                 },
                 "type": "node"
                }
               ],
               "instanceArgs": {
                "namespace": "html",
                "tag": "div"
               },
               "nodeType": "DOM",
               "props": {
                "className": "interact-flex-row-left"
               },
               "type": "node"
              },
              {
               "children": [
                {
                 "children": [],
                 "instanceArgs": {
                  "namespace": "html",
                  "tag": "input"
                 },
                 "nodeType": "DOM",
                 "props": {
                  "attributes": {
                   "data-bind": "numericValue: index, valueUpdate: 'input', event: {change: function (){this.changes(this.changes()+1)}}",
                   "orient": "horizontal",
                   "type": "range"
                  },
                  "className": "slider slider is-fullwidth",
                  "max": 21,
                  "min": 1,
                  "step": 1,
                  "style": {}
                 },
                 "type": "node"
                }
               ],
               "instanceArgs": {
                "namespace": "html",
                "tag": "div"
               },
               "nodeType": "DOM",
               "props": {
                "className": "interact-flex-row-center"
               },
               "type": "node"
              },
              {
               "children": [
                {
                 "children": [],
                 "instanceArgs": {
                  "namespace": "html",
                  "tag": "p"
                 },
                 "nodeType": "DOM",
                 "props": {
                  "attributes": {
                   "data-bind": "text: formatted_val"
                  }
                 },
                 "type": "node"
                }
               ],
               "instanceArgs": {
                "namespace": "html",
                "tag": "div"
               },
               "nodeType": "DOM",
               "props": {
                "className": "interact-flex-row-right"
               },
               "type": "node"
              }
             ],
             "instanceArgs": {
              "namespace": "html",
              "tag": "div"
             },
             "nodeType": "DOM",
             "props": {
              "className": "interact-flex-row interact-widget",
              "style": {
               "font-family": "monospace",
               "width": "80%"
              }
             },
             "type": "node"
            }
           ],
           "instanceArgs": {
            "handlers": {
             "changes": [
              "(function (val){return (val!=this.model[\"changes\"]()) ? (this.valueFromJulia[\"changes\"]=true, this.model[\"changes\"](val)) : undefined})"
             ],
             "index": [
              "(function (val){return (val!=this.model[\"index\"]()) ? (this.valueFromJulia[\"index\"]=true, this.model[\"index\"](val)) : undefined})"
             ]
            },
            "id": "10173143132199150255",
            "imports": {
             "data": [
              {
               "name": "knockout",
               "type": "js",
               "url": "/assetserver/c0689c4f2514def856941022372b529b3413f129-knockout.js"
              },
              {
               "name": "knockout_punches",
               "type": "js",
               "url": "/assetserver/69274bc4b68b761587a57ff3f5e787f3dd4781dc-knockout_punches.js"
              },
              {
               "name": null,
               "type": "js",
               "url": "/assetserver/096b68745a0180096d3bd812a95825d387626124-all.js"
              },
              {
               "name": null,
               "type": "css",
               "url": "/assetserver/d8822751ac3a06d244eead91a737222f90bb9e0b-style.css"
              },
              {
               "name": null,
               "type": "css",
               "url": "/assetserver/792d9982ee796e4da6422248c42eb77a0d83e61e-bulma_confined.min.css"
              }
             ],
             "type": "async_block"
            },
            "mount_callbacks": [
             "function () {\n    var handler = (function (ko, koPunches) {\n    ko.punches.enableAll();\n    ko.bindingHandlers.numericValue = {\n        init: function(element, valueAccessor, allBindings, data, context) {\n            var stringified = ko.observable(ko.unwrap(valueAccessor()));\n            stringified.subscribe(function(value) {\n                var val = parseFloat(value);\n                if (!isNaN(val)) {\n                    valueAccessor()(val);\n                }\n            });\n            valueAccessor().subscribe(function(value) {\n                var str = JSON.stringify(value);\n                if ((str == \"0\") && ([\"-0\", \"-0.\"].indexOf(stringified()) >= 0))\n                     return;\n                 if ([\"null\", \"\"].indexOf(str) >= 0)\n                     return;\n                stringified(str);\n            });\n            ko.applyBindingsToNode(\n                element,\n                {\n                    value: stringified,\n                    valueUpdate: allBindings.get('valueUpdate'),\n                },\n                context,\n            );\n        }\n    };\n    var json_data = {\"formatted_vals\":[\"0\",\"5\",\"10\",\"15\",\"20\",\"25\",\"30\",\"35\",\"40\",\"45\",\"50\",\"55\",\"60\",\"65\",\"70\",\"75\",\"80\",\"85\",\"90\",\"95\",\"100\"],\"changes\":WebIO.getval({\"name\":\"changes\",\"scope\":\"10173143132199150255\",\"id\":\"14787241745065160819\",\"type\":\"observable\"}),\"index\":WebIO.getval({\"name\":\"index\",\"scope\":\"10173143132199150255\",\"id\":\"9145096512392779592\",\"type\":\"observable\"})};\n    var self = this;\n    function AppViewModel() {\n        for (var key in json_data) {\n            var el = json_data[key];\n            this[key] = Array.isArray(el) ? ko.observableArray(el) : ko.observable(el);\n        }\n        \n        [this[\"formatted_val\"]=ko.computed(    function(){\n        return this.formatted_vals()[parseInt(this.index())-(1)];\n    }\n,this)]\n        [this[\"changes\"].subscribe((function (val){!(this.valueFromJulia[\"changes\"]) ? (WebIO.setval({\"name\":\"changes\",\"scope\":\"10173143132199150255\",\"id\":\"14787241745065160819\",\"type\":\"observable\"},val)) : undefined; return this.valueFromJulia[\"changes\"]=false}),self),this[\"index\"].subscribe((function (val){!(this.valueFromJulia[\"index\"]) ? (WebIO.setval({\"name\":\"index\",\"scope\":\"10173143132199150255\",\"id\":\"9145096512392779592\",\"type\":\"observable\"},val)) : undefined; return this.valueFromJulia[\"index\"]=false}),self)]\n        \n    }\n    self.model = new AppViewModel();\n    self.valueFromJulia = {};\n    for (var key in json_data) {\n        self.valueFromJulia[key] = false;\n    }\n    ko.applyBindings(self.model, self.dom);\n}\n);\n    (WebIO.importBlock({\"data\":[{\"name\":\"knockout\",\"type\":\"js\",\"url\":\"/assetserver/c0689c4f2514def856941022372b529b3413f129-knockout.js\"},{\"name\":\"knockout_punches\",\"type\":\"js\",\"url\":\"/assetserver/69274bc4b68b761587a57ff3f5e787f3dd4781dc-knockout_punches.js\"}],\"type\":\"async_block\"})).then((imports) => handler.apply(this, imports));\n}\n"
            ],
            "observables": {
             "changes": {
              "id": "14787241745065160819",
              "sync": true,
              "value": 0
             },
             "index": {
              "id": "9145096512392779592",
              "sync": true,
              "value": 13
             }
            },
            "systemjs_options": null
           },
           "nodeType": "Scope",
           "props": {},
           "type": "node"
          }
         ],
         "instanceArgs": {
          "namespace": "html",
          "tag": "div"
         },
         "nodeType": "DOM",
         "props": {
          "className": "field interact-widget"
         },
         "type": "node"
        },
        {
         "children": [
          {
           "children": [
            {
             "children": [
              {
               "children": [
                {
                 "children": [
                  "PFD (μmol m⁻² s⁻¹)"
                 ],
                 "instanceArgs": {
                  "namespace": "html",
                  "tag": "label"
                 },
                 "nodeType": "DOM",
                 "props": {
                  "className": "interact ",
                  "style": {
                   "color": "royalblue",
                   "padding": "5px 10px 0px 10px",
                   "white-space": "nowrap"
                  }
                 },
                 "type": "node"
                }
               ],
               "instanceArgs": {
                "namespace": "html",
                "tag": "div"
               },
               "nodeType": "DOM",
               "props": {
                "className": "interact-flex-row-left"
               },
               "type": "node"
              },
              {
               "children": [
                {
                 "children": [],
                 "instanceArgs": {
                  "namespace": "html",
                  "tag": "input"
                 },
                 "nodeType": "DOM",
                 "props": {
                  "attributes": {
                   "data-bind": "numericValue: index, valueUpdate: 'input', event: {change: function (){this.changes(this.changes()+1)}}",
                   "orient": "horizontal",
                   "type": "range"
                  },
                  "className": "slider slider is-fullwidth",
                  "max": 41,
                  "min": 1,
                  "step": 1,
                  "style": {}
                 },
                 "type": "node"
                }
               ],
               "instanceArgs": {
                "namespace": "html",
                "tag": "div"
               },
               "nodeType": "DOM",
               "props": {
                "className": "interact-flex-row-center"
               },
               "type": "node"
              },
              {
               "children": [
                {
                 "children": [],
                 "instanceArgs": {
                  "namespace": "html",
                  "tag": "p"
                 },
                 "nodeType": "DOM",
                 "props": {
                  "attributes": {
                   "data-bind": "text: formatted_val"
                  }
                 },
                 "type": "node"
                }
               ],
               "instanceArgs": {
                "namespace": "html",
                "tag": "div"
               },
               "nodeType": "DOM",
               "props": {
                "className": "interact-flex-row-right"
               },
               "type": "node"
              }
             ],
             "instanceArgs": {
              "namespace": "html",
              "tag": "div"
             },
             "nodeType": "DOM",
             "props": {
              "className": "interact-flex-row interact-widget",
              "style": {
               "font-family": "monospace",
               "width": "80%"
              }
             },
             "type": "node"
            }
           ],
           "instanceArgs": {
            "handlers": {
             "changes": [
              "(function (val){return (val!=this.model[\"changes\"]()) ? (this.valueFromJulia[\"changes\"]=true, this.model[\"changes\"](val)) : undefined})"
             ],
             "index": [
              "(function (val){return (val!=this.model[\"index\"]()) ? (this.valueFromJulia[\"index\"]=true, this.model[\"index\"](val)) : undefined})"
             ]
            },
            "id": "13744572168931367025",
            "imports": {
             "data": [
              {
               "name": "knockout",
               "type": "js",
               "url": "/assetserver/c0689c4f2514def856941022372b529b3413f129-knockout.js"
              },
              {
               "name": "knockout_punches",
               "type": "js",
               "url": "/assetserver/69274bc4b68b761587a57ff3f5e787f3dd4781dc-knockout_punches.js"
              },
              {
               "name": null,
               "type": "js",
               "url": "/assetserver/096b68745a0180096d3bd812a95825d387626124-all.js"
              },
              {
               "name": null,
               "type": "css",
               "url": "/assetserver/d8822751ac3a06d244eead91a737222f90bb9e0b-style.css"
              },
              {
               "name": null,
               "type": "css",
               "url": "/assetserver/792d9982ee796e4da6422248c42eb77a0d83e61e-bulma_confined.min.css"
              }
             ],
             "type": "async_block"
            },
            "mount_callbacks": [
             "function () {\n    var handler = (function (ko, koPunches) {\n    ko.punches.enableAll();\n    ko.bindingHandlers.numericValue = {\n        init: function(element, valueAccessor, allBindings, data, context) {\n            var stringified = ko.observable(ko.unwrap(valueAccessor()));\n            stringified.subscribe(function(value) {\n                var val = parseFloat(value);\n                if (!isNaN(val)) {\n                    valueAccessor()(val);\n                }\n            });\n            valueAccessor().subscribe(function(value) {\n                var str = JSON.stringify(value);\n                if ((str == \"0\") && ([\"-0\", \"-0.\"].indexOf(stringified()) >= 0))\n                     return;\n                 if ([\"null\", \"\"].indexOf(str) >= 0)\n                     return;\n                stringified(str);\n            });\n            ko.applyBindingsToNode(\n                element,\n                {\n                    value: stringified,\n                    valueUpdate: allBindings.get('valueUpdate'),\n                },\n                context,\n            );\n        }\n    };\n    var json_data = {\"formatted_vals\":[\"0\",\"50\",\"100\",\"150\",\"200\",\"250\",\"300\",\"350\",\"400\",\"450\",\"500\",\"550\",\"600\",\"650\",\"700\",\"750\",\"800\",\"850\",\"900\",\"950\",\"1000\",\"1050\",\"1100\",\"1150\",\"1200\",\"1250\",\"1300\",\"1350\",\"1400\",\"1450\",\"1500\",\"1550\",\"1600\",\"1650\",\"1700\",\"1750\",\"1800\",\"1850\",\"1900\",\"1950\",\"2000\"],\"changes\":WebIO.getval({\"name\":\"changes\",\"scope\":\"13744572168931367025\",\"id\":\"2261288158791225250\",\"type\":\"observable\"}),\"index\":WebIO.getval({\"name\":\"index\",\"scope\":\"13744572168931367025\",\"id\":\"5596770985167576560\",\"type\":\"observable\"})};\n    var self = this;\n    function AppViewModel() {\n        for (var key in json_data) {\n            var el = json_data[key];\n            this[key] = Array.isArray(el) ? ko.observableArray(el) : ko.observable(el);\n        }\n        \n        [this[\"formatted_val\"]=ko.computed(    function(){\n        return this.formatted_vals()[parseInt(this.index())-(1)];\n    }\n,this)]\n        [this[\"changes\"].subscribe((function (val){!(this.valueFromJulia[\"changes\"]) ? (WebIO.setval({\"name\":\"changes\",\"scope\":\"13744572168931367025\",\"id\":\"2261288158791225250\",\"type\":\"observable\"},val)) : undefined; return this.valueFromJulia[\"changes\"]=false}),self),this[\"index\"].subscribe((function (val){!(this.valueFromJulia[\"index\"]) ? (WebIO.setval({\"name\":\"index\",\"scope\":\"13744572168931367025\",\"id\":\"5596770985167576560\",\"type\":\"observable\"},val)) : undefined; return this.valueFromJulia[\"index\"]=false}),self)]\n        \n    }\n    self.model = new AppViewModel();\n    self.valueFromJulia = {};\n    for (var key in json_data) {\n        self.valueFromJulia[key] = false;\n    }\n    ko.applyBindings(self.model, self.dom);\n}\n);\n    (WebIO.importBlock({\"data\":[{\"name\":\"knockout\",\"type\":\"js\",\"url\":\"/assetserver/c0689c4f2514def856941022372b529b3413f129-knockout.js\"},{\"name\":\"knockout_punches\",\"type\":\"js\",\"url\":\"/assetserver/69274bc4b68b761587a57ff3f5e787f3dd4781dc-knockout_punches.js\"}],\"type\":\"async_block\"})).then((imports) => handler.apply(this, imports));\n}\n"
            ],
            "observables": {
             "changes": {
              "id": "2261288158791225250",
              "sync": true,
              "value": 0
             },
             "index": {
              "id": "5596770985167576560",
              "sync": true,
              "value": 31
             }
            },
            "systemjs_options": null
           },
           "nodeType": "Scope",
           "props": {},
           "type": "node"
          }
         ],
         "instanceArgs": {
          "namespace": "html",
          "tag": "div"
         },
         "nodeType": "DOM",
         "props": {
          "className": "field interact-widget"
         },
         "type": "node"
        },
        {
         "children": [
          "Nitrogen"
         ],
         "instanceArgs": {
          "namespace": "html",
          "tag": "div"
         },
         "nodeType": "DOM",
         "props": {
          "style": {
           "color": "rebeccapurple",
           "font-family": "monospace"
          }
         },
         "type": "node"
        },
        {
         "children": [
          {
           "children": [
            {
             "children": [
              {
               "children": [
                {
                 "children": [
                  "N"
                 ],
                 "instanceArgs": {
                  "namespace": "html",
                  "tag": "label"
                 },
                 "nodeType": "DOM",
                 "props": {
                  "className": "interact ",
                  "style": {
                   "color": "royalblue",
                   "padding": "5px 10px 0px 10px",
                   "white-space": "nowrap"
                  }
                 },
                 "type": "node"
                }
               ],
               "instanceArgs": {
                "namespace": "html",
                "tag": "div"
               },
               "nodeType": "DOM",
               "props": {
                "className": "interact-flex-row-left"
               },
               "type": "node"
              },
              {
               "children": [
                {
                 "children": [],
                 "instanceArgs": {
                  "namespace": "html",
                  "tag": "input"
                 },
                 "nodeType": "DOM",
                 "props": {
                  "attributes": {
                   "data-bind": "numericValue: index, valueUpdate: 'input', event: {change: function (){this.changes(this.changes()+1)}}",
                   "orient": "horizontal",
                   "type": "range"
                  },
                  "className": "slider slider is-fullwidth",
                  "max": 41,
                  "min": 1,
                  "step": 1,
                  "style": {}
                 },
                 "type": "node"
                }
               ],
               "instanceArgs": {
                "namespace": "html",
                "tag": "div"
               },
               "nodeType": "DOM",
               "props": {
                "className": "interact-flex-row-center"
               },
               "type": "node"
              },
              {
               "children": [
                {
                 "children": [],
                 "instanceArgs": {
                  "namespace": "html",
                  "tag": "p"
                 },
                 "nodeType": "DOM",
                 "props": {
                  "attributes": {
                   "data-bind": "text: formatted_val"
                  }
                 },
                 "type": "node"
                }
               ],
               "instanceArgs": {
                "namespace": "html",
                "tag": "div"
               },
               "nodeType": "DOM",
               "props": {
                "className": "interact-flex-row-right"
               },
               "type": "node"
              }
             ],
             "instanceArgs": {
              "namespace": "html",
              "tag": "div"
             },
             "nodeType": "DOM",
             "props": {
              "className": "interact-flex-row interact-widget",
              "style": {
               "font-family": "monospace",
               "width": "80%"
              }
             },
             "type": "node"
            }
           ],
           "instanceArgs": {
            "handlers": {
             "changes": [
              "(function (val){return (val!=this.model[\"changes\"]()) ? (this.valueFromJulia[\"changes\"]=true, this.model[\"changes\"](val)) : undefined})"
             ],
             "index": [
              "(function (val){return (val!=this.model[\"index\"]()) ? (this.valueFromJulia[\"index\"]=true, this.model[\"index\"](val)) : undefined})"
             ]
            },
            "id": "6149954681843629259",
            "imports": {
             "data": [
              {
               "name": "knockout",
               "type": "js",
               "url": "/assetserver/c0689c4f2514def856941022372b529b3413f129-knockout.js"
              },
              {
               "name": "knockout_punches",
               "type": "js",
               "url": "/assetserver/69274bc4b68b761587a57ff3f5e787f3dd4781dc-knockout_punches.js"
              },
              {
               "name": null,
               "type": "js",
               "url": "/assetserver/096b68745a0180096d3bd812a95825d387626124-all.js"
              },
              {
               "name": null,
               "type": "css",
               "url": "/assetserver/d8822751ac3a06d244eead91a737222f90bb9e0b-style.css"
              },
              {
               "name": null,
               "type": "css",
               "url": "/assetserver/792d9982ee796e4da6422248c42eb77a0d83e61e-bulma_confined.min.css"
              }
             ],
             "type": "async_block"
            },
            "mount_callbacks": [
             "function () {\n    var handler = (function (ko, koPunches) {\n    ko.punches.enableAll();\n    ko.bindingHandlers.numericValue = {\n        init: function(element, valueAccessor, allBindings, data, context) {\n            var stringified = ko.observable(ko.unwrap(valueAccessor()));\n            stringified.subscribe(function(value) {\n                var val = parseFloat(value);\n                if (!isNaN(val)) {\n                    valueAccessor()(val);\n                }\n            });\n            valueAccessor().subscribe(function(value) {\n                var str = JSON.stringify(value);\n                if ((str == \"0\") && ([\"-0\", \"-0.\"].indexOf(stringified()) >= 0))\n                     return;\n                 if ([\"null\", \"\"].indexOf(str) >= 0)\n                     return;\n                stringified(str);\n            });\n            ko.applyBindingsToNode(\n                element,\n                {\n                    value: stringified,\n                    valueUpdate: allBindings.get('valueUpdate'),\n                },\n                context,\n            );\n        }\n    };\n    var json_data = {\"formatted_vals\":[\"0.0\",\"0.1\",\"0.2\",\"0.3\",\"0.4\",\"0.5\",\"0.6\",\"0.7\",\"0.8\",\"0.9\",\"1.0\",\"1.1\",\"1.2\",\"1.3\",\"1.4\",\"1.5\",\"1.6\",\"1.7\",\"1.8\",\"1.9\",\"2.0\",\"2.1\",\"2.2\",\"2.3\",\"2.4\",\"2.5\",\"2.6\",\"2.7\",\"2.8\",\"2.9\",\"3.0\",\"3.1\",\"3.2\",\"3.3\",\"3.4\",\"3.5\",\"3.6\",\"3.7\",\"3.8\",\"3.9\",\"4.0\"],\"changes\":WebIO.getval({\"name\":\"changes\",\"scope\":\"6149954681843629259\",\"id\":\"17561849814902470220\",\"type\":\"observable\"}),\"index\":WebIO.getval({\"name\":\"index\",\"scope\":\"6149954681843629259\",\"id\":\"3488407113793547914\",\"type\":\"observable\"})};\n    var self = this;\n    function AppViewModel() {\n        for (var key in json_data) {\n            var el = json_data[key];\n            this[key] = Array.isArray(el) ? ko.observableArray(el) : ko.observable(el);\n        }\n        \n        [this[\"formatted_val\"]=ko.computed(    function(){\n        return this.formatted_vals()[parseInt(this.index())-(1)];\n    }\n,this)]\n        [this[\"changes\"].subscribe((function (val){!(this.valueFromJulia[\"changes\"]) ? (WebIO.setval({\"name\":\"changes\",\"scope\":\"6149954681843629259\",\"id\":\"17561849814902470220\",\"type\":\"observable\"},val)) : undefined; return this.valueFromJulia[\"changes\"]=false}),self),this[\"index\"].subscribe((function (val){!(this.valueFromJulia[\"index\"]) ? (WebIO.setval({\"name\":\"index\",\"scope\":\"6149954681843629259\",\"id\":\"3488407113793547914\",\"type\":\"observable\"},val)) : undefined; return this.valueFromJulia[\"index\"]=false}),self)]\n        \n    }\n    self.model = new AppViewModel();\n    self.valueFromJulia = {};\n    for (var key in json_data) {\n        self.valueFromJulia[key] = false;\n    }\n    ko.applyBindings(self.model, self.dom);\n}\n);\n    (WebIO.importBlock({\"data\":[{\"name\":\"knockout\",\"type\":\"js\",\"url\":\"/assetserver/c0689c4f2514def856941022372b529b3413f129-knockout.js\"},{\"name\":\"knockout_punches\",\"type\":\"js\",\"url\":\"/assetserver/69274bc4b68b761587a57ff3f5e787f3dd4781dc-knockout_punches.js\"}],\"type\":\"async_block\"})).then((imports) => handler.apply(this, imports));\n}\n"
            ],
            "observables": {
             "changes": {
              "id": "17561849814902470220",
              "sync": true,
              "value": 0
             },
             "index": {
              "id": "3488407113793547914",
              "sync": true,
              "value": 21
             }
            },
            "systemjs_options": null
           },
           "nodeType": "Scope",
           "props": {},
           "type": "node"
          }
         ],
         "instanceArgs": {
          "namespace": "html",
          "tag": "div"
         },
         "nodeType": "DOM",
         "props": {
          "className": "field interact-widget"
         },
         "type": "node"
        },
        {
         "children": [
          {
           "children": [],
           "instanceArgs": {
            "namespace": "html",
            "tag": "div"
           },
           "nodeType": "DOM",
           "props": {
            "className": "webio-observable",
            "setInnerHtml": "<?xml version=\"1.0\" encoding=\"UTF-8\"?>\n<svg xmlns=\"http://www.w3.org/2000/svg\"\n     xmlns:xlink=\"http://www.w3.org/1999/xlink\"\n     xmlns:gadfly=\"http://www.gadflyjl.org/ns\"\n     version=\"1.2\"\n     width=\"141.42mm\" height=\"100mm\" viewBox=\"0 0 141.42 100\"\n     stroke=\"none\"\n     fill=\"#000000\"\n     stroke-width=\"0.3\"\n     font-size=\"3.88\"\n>\n<defs>\n  <marker id=\"arrow\" markerWidth=\"15\" markerHeight=\"7\" refX=\"5\" refY=\"3.5\" orient=\"auto\" markerUnits=\"strokeWidth\">\n    <path d=\"M0,0 L15,3.5 L0,7 z\" stroke=\"context-stroke\" fill=\"context-stroke\"/>\n  </marker>\n</defs>\n<g stroke=\"#000000\" stroke-opacity=\"0.000\" fill=\"#FFFFFF\" id=\"img-60aedfbd-1\">\n  <g transform=\"translate(70.71,50)\">\n    <path d=\"M-70.71,-50 L70.71,-50 70.71,50 -70.71,50  z\" class=\"primitive\"/>\n  </g>\n</g>\n<g class=\"plotroot xscalable yscalable\" id=\"img-60aedfbd-2\">\n  <g font-size=\"3.53\" font-family=\"'PT Sans','Helvetica Neue','Helvetica',sans-serif\" fill=\"#564A55\" stroke=\"#000000\" stroke-opacity=\"0.000\" id=\"img-60aedfbd-3\">\n    <g transform=\"translate(63.14,93.72)\">\n      <g class=\"primitive\">\n        <text text-anchor=\"middle\" dy=\"0.6em\">T (°C)</text>\n      </g>\n    </g>\n  </g>\n  <g class=\"guide xlabels\" font-size=\"2.82\" font-family=\"'PT Sans Caption','Helvetica Neue','Helvetica',sans-serif\" fill=\"#6C606B\" id=\"img-60aedfbd-4\">\n    <g transform=\"translate(19.63,87.04)\">\n      <g class=\"primitive\">\n        <text text-anchor=\"middle\" dy=\"0.6em\">0</text>\n      </g>\n    </g>\n    <g transform=\"translate(37.03,87.04)\">\n      <g class=\"primitive\">\n        <text text-anchor=\"middle\" dy=\"0.6em\">10</text>\n      </g>\n    </g>\n    <g transform=\"translate(54.43,87.04)\">\n      <g class=\"primitive\">\n        <text text-anchor=\"middle\" dy=\"0.6em\">20</text>\n      </g>\n    </g>\n    <g transform=\"translate(71.84,87.04)\">\n      <g class=\"primitive\">\n        <text text-anchor=\"middle\" dy=\"0.6em\">30</text>\n      </g>\n    </g>\n    <g transform=\"translate(89.24,87.04)\">\n      <g class=\"primitive\">\n        <text text-anchor=\"middle\" dy=\"0.6em\">40</text>\n      </g>\n    </g>\n    <g transform=\"translate(106.64,87.04)\">\n      <g class=\"primitive\">\n        <text text-anchor=\"middle\" dy=\"0.6em\">50</text>\n      </g>\n    </g>\n  </g>\n  <g class=\"guide colorkey\" id=\"img-60aedfbd-5\">\n    <g fill=\"#4C404B\" font-size=\"2.82\" font-family=\"'PT Sans','Helvetica Neue','Helvetica',sans-serif\" id=\"img-60aedfbd-6\">\n      <g transform=\"translate(113.27,44.12)\" id=\"img-60aedfbd-7\">\n        <g class=\"primitive\">\n          <text dy=\"0.35em\">1000 μmol mol⁻¹</text>\n        </g>\n      </g>\n      <g transform=\"translate(113.27,47.75)\" id=\"img-60aedfbd-8\">\n        <g class=\"primitive\">\n          <text dy=\"0.35em\">400 μmol mol⁻¹</text>\n        </g>\n      </g>\n      <g transform=\"translate(113.27,51.38)\" id=\"img-60aedfbd-9\">\n        <g class=\"primitive\">\n          <text dy=\"0.35em\">250 μmol mol⁻¹</text>\n        </g>\n      </g>\n    </g>\n    <g stroke-width=\"0.3\" id=\"img-60aedfbd-10\">\n      <g stroke=\"#FFFFFF\" stroke-opacity=\"0.000\" fill-opacity=\"1\" fill=\"#FF6DAE\" id=\"img-60aedfbd-11\">\n        <g transform=\"translate(110.45,51.38)\" id=\"img-60aedfbd-12\">\n          <circle cx=\"0\" cy=\"0\" r=\"0.7\" class=\"primitive\"/>\n        </g>\n      </g>\n      <g stroke=\"#FFFFFF\" stroke-opacity=\"0.000\" fill-opacity=\"1\" fill=\"#D4CA3A\" id=\"img-60aedfbd-13\">\n        <g transform=\"translate(110.45,47.75)\" id=\"img-60aedfbd-14\">\n          <circle cx=\"0\" cy=\"0\" r=\"0.7\" class=\"primitive\"/>\n        </g>\n      </g>\n      <g stroke=\"#FFFFFF\" stroke-opacity=\"0.000\" fill-opacity=\"1\" fill=\"#00BFFF\" id=\"img-60aedfbd-15\">\n        <g transform=\"translate(110.45,44.12)\" id=\"img-60aedfbd-16\">\n          <circle cx=\"0\" cy=\"0\" r=\"0.7\" class=\"primitive\"/>\n        </g>\n      </g>\n    </g>\n    <g fill=\"#362A35\" font-size=\"3.18\" font-family=\"'PT Sans','Helvetica Neue','Helvetica',sans-serif\" stroke=\"#000000\" stroke-opacity=\"0.000\" id=\"img-60aedfbd-17\">\n      <g transform=\"translate(109.64,40.81)\" id=\"img-60aedfbd-18\">\n        <g class=\"primitive\">\n          <text dy=\"-0em\">CO2 (μmol mol⁻¹)</text>\n        </g>\n      </g>\n    </g>\n  </g>\n  <g clip-path=\"url(#img-60aedfbd-19)\">\n    <g id=\"img-60aedfbd-20\">\n      <g pointer-events=\"visible\" stroke-width=\"0.3\" fill=\"#000000\" fill-opacity=\"0.000\" stroke=\"#000000\" stroke-opacity=\"0.000\" class=\"guide background\" id=\"img-60aedfbd-21\">\n        <g transform=\"translate(63.14,45.52)\" id=\"img-60aedfbd-22\">\n          <path d=\"M-45.51,-40.52 L45.51,-40.52 45.51,40.52 -45.51,40.52  z\" class=\"primitive\"/>\n        </g>\n      </g>\n      <g class=\"guide ygridlines xfixed\" stroke-dasharray=\"0.5,0.5\" stroke-width=\"0.2\" stroke=\"#D0D0E0\" id=\"img-60aedfbd-23\">\n        <g transform=\"translate(63.14,84.04)\" id=\"img-60aedfbd-24\">\n          <path fill=\"none\" d=\"M-45.51,0 L45.51,0 \" class=\"primitive\"/>\n        </g>\n        <g transform=\"translate(63.14,68.63)\" id=\"img-60aedfbd-25\">\n          <path fill=\"none\" d=\"M-45.51,0 L45.51,0 \" class=\"primitive\"/>\n        </g>\n        <g transform=\"translate(63.14,53.23)\" id=\"img-60aedfbd-26\">\n          <path fill=\"none\" d=\"M-45.51,0 L45.51,0 \" class=\"primitive\"/>\n        </g>\n        <g transform=\"translate(63.14,37.82)\" id=\"img-60aedfbd-27\">\n          <path fill=\"none\" d=\"M-45.51,0 L45.51,0 \" class=\"primitive\"/>\n        </g>\n        <g transform=\"translate(63.14,22.41)\" id=\"img-60aedfbd-28\">\n          <path fill=\"none\" d=\"M-45.51,0 L45.51,0 \" class=\"primitive\"/>\n        </g>\n        <g transform=\"translate(63.14,7)\" id=\"img-60aedfbd-29\">\n          <path fill=\"none\" d=\"M-45.51,0 L45.51,0 \" class=\"primitive\"/>\n        </g>\n      </g>\n      <g class=\"guide xgridlines yfixed\" stroke-dasharray=\"0.5,0.5\" stroke-width=\"0.2\" stroke=\"#D0D0E0\" id=\"img-60aedfbd-30\">\n        <g transform=\"translate(19.63,45.52)\" id=\"img-60aedfbd-31\">\n          <path fill=\"none\" d=\"M0,-40.52 L0,40.52 \" class=\"primitive\"/>\n        </g>\n        <g transform=\"translate(37.03,45.52)\" id=\"img-60aedfbd-32\">\n          <path fill=\"none\" d=\"M0,-40.52 L0,40.52 \" class=\"primitive\"/>\n        </g>\n        <g transform=\"translate(54.43,45.52)\" id=\"img-60aedfbd-33\">\n          <path fill=\"none\" d=\"M0,-40.52 L0,40.52 \" class=\"primitive\"/>\n        </g>\n        <g transform=\"translate(71.84,45.52)\" id=\"img-60aedfbd-34\">\n          <path fill=\"none\" d=\"M0,-40.52 L0,40.52 \" class=\"primitive\"/>\n        </g>\n        <g transform=\"translate(89.24,45.52)\" id=\"img-60aedfbd-35\">\n          <path fill=\"none\" d=\"M0,-40.52 L0,40.52 \" class=\"primitive\"/>\n        </g>\n        <g transform=\"translate(106.64,45.52)\" id=\"img-60aedfbd-36\">\n          <path fill=\"none\" d=\"M0,-40.52 L0,40.52 \" class=\"primitive\"/>\n        </g>\n      </g>\n      <g class=\"plotpanel\" id=\"img-60aedfbd-37\">\n        <metadata>\n          <boundingbox value=\"17.629999999999995mm 5.0mm 91.01135623730951mm 81.04333333333334mm\"/>\n          <unitbox value=\"-1.1492752707734613 51.29797083892182 52.298550541546916 -52.59594167784364\"/>\n        </metadata>\n        <g stroke-width=\"0.3\" fill=\"#000000\" fill-opacity=\"0.000\" class=\"geometry\" id=\"img-60aedfbd-38\">\n          <g class=\"color_LCHab{Float32}(70.0f0,60.0f0,240.0f0)\" stroke-dasharray=\"none\" stroke=\"#00BFFF\" id=\"img-60aedfbd-39\">\n            <g transform=\"translate(63.96,42.79)\" id=\"img-60aedfbd-40\">\n              <path fill=\"none\" d=\"M-40.6,26.47 L-38.89,25.34 -37.18,24.14 -35.47,22.87 -33.77,21.52 -32.08,20.08 -30.4,18.55 -28.72,16.94 -27.05,15.23 -25.39,13.42 -23.74,11.51 -22.1,9.5 -20.47,7.38 -18.86,5.15 -17.25,2.94 -15.61,2.04 -13.98,1.14 -12.36,0.26 -10.74,-0.62 -9.13,-1.48 -7.52,-2.33 -5.92,-3.17 -4.33,-3.99 -2.75,-4.78 -1.17,-5.56 0.4,-6.31 1.97,-7.03 3.53,-7.73 5.09,-8.39 6.64,-9.01 8.18,-9.59 9.72,-10.13 11.26,-10.62 12.79,-11.05 14.33,-11.42 15.86,-11.72 17.39,-11.94 18.92,-12.07 20.45,-12.11 21.98,-12.02 23.52,-11.81 25.07,-11.45 26.63,-10.92 28.2,-10.19 29.79,-9.24 31.39,-8.03 33.03,-6.51 34.7,-4.65 36.42,-2.4 38.19,0.3 40.03,3.51 \" class=\"primitive\"/>\n            </g>\n          </g>\n        </g>\n        <g stroke-width=\"0.3\" fill=\"#000000\" fill-opacity=\"0.000\" class=\"geometry\" id=\"img-60aedfbd-41\">\n          <g class=\"color_LCHab{Float32}(80.0f0,70.000015f0,100.43479f0)\" stroke-dasharray=\"none\" stroke=\"#D4CA3A\" id=\"img-60aedfbd-42\">\n            <g transform=\"translate(62.82,54.96)\" id=\"img-60aedfbd-43\">\n              <path fill=\"none\" d=\"M-39.75,14.48 L-38.07,13.39 -36.41,12.24 -34.76,11.02 -33.11,9.73 -31.48,8.37 -29.87,6.94 -28.26,5.43 -26.67,3.84 -25.1,2.18 -23.54,0.43 -21.99,-1.4 -20.41,-2.23 -18.81,-2.76 -17.23,-3.28 -15.65,-3.77 -14.08,-4.25 -12.51,-4.69 -10.95,-5.11 -9.39,-5.51 -7.84,-5.87 -6.29,-6.2 -4.75,-6.49 -3.21,-6.75 -1.68,-6.98 -0.15,-7.16 1.38,-7.31 2.91,-7.41 4.44,-7.47 5.97,-7.47 7.49,-7.43 9.02,-7.34 10.55,-7.18 12.08,-6.97 13.66,-6.26 15.25,-5.48 16.85,-4.63 18.46,-3.71 20.08,-2.73 21.71,-1.69 23.36,-0.59 25.02,0.57 26.69,1.78 28.39,3.05 30.1,4.38 31.84,5.76 33.61,7.2 35.4,8.69 37.24,10.24 39.12,11.86 41.32,14.55 \" class=\"primitive\"/>\n            </g>\n          </g>\n        </g>\n        <g stroke-width=\"0.3\" fill=\"#000000\" fill-opacity=\"0.000\" class=\"geometry\" id=\"img-60aedfbd-44\">\n          <g class=\"color_LCHab{Float32}(65.89944f0,62.21457f0,353.99814f0)\" stroke-dasharray=\"none\" stroke=\"#FF6DAE\" id=\"img-60aedfbd-45\">\n            <g transform=\"translate(63.57,66.08)\" id=\"img-60aedfbd-46\">\n              <path fill=\"none\" d=\"M-40.77,3.51 L-39.13,2.46 -37.5,1.35 -35.89,0.18 -34.29,-1.06 -32.7,-2.36 -31.09,-3.04 -29.49,-3.67 -27.89,-4.26 -26.29,-4.81 -24.71,-5.31 -23.12,-5.77 -21.54,-6.17 -19.97,-6.52 -18.39,-6.82 -16.82,-7.06 -15.25,-7.24 -13.68,-7.36 -12.12,-7.41 -10.55,-7.41 -8.98,-7.34 -7.41,-7.22 -5.83,-7.03 -4.25,-6.78 -2.67,-6.47 -1.08,-6.1 0.51,-5.67 2.11,-5.19 3.72,-4.65 5.34,-4.05 6.96,-3.4 8.6,-2.7 10.26,-1.95 11.92,-1.14 13.61,-0.29 15.31,0.62 17.04,1.57 18.79,2.58 20.57,3.63 22.39,4.74 24.25,5.9 26.16,7.12 28.13,8.4 30.18,9.74 32.33,11.15 34.6,12.61 36.99,14.07 39.45,15.4 41.83,16.41 44.04,17.07 46.3,17.7 \" class=\"primitive\"/>\n            </g>\n          </g>\n        </g>\n      </g>\n    </g>\n  </g>\n  <g class=\"guide ylabels\" font-size=\"2.82\" font-family=\"'PT Sans Caption','Helvetica Neue','Helvetica',sans-serif\" fill=\"#6C606B\" id=\"img-60aedfbd-47\">\n    <g transform=\"translate(16.63,84.04)\" id=\"img-60aedfbd-48\">\n      <g class=\"primitive\">\n        <text text-anchor=\"end\" dy=\"0.35em\">0</text>\n      </g>\n    </g>\n    <g transform=\"translate(16.63,68.63)\" id=\"img-60aedfbd-49\">\n      <g class=\"primitive\">\n        <text text-anchor=\"end\" dy=\"0.35em\">10</text>\n      </g>\n    </g>\n    <g transform=\"translate(16.63,53.23)\" id=\"img-60aedfbd-50\">\n      <g class=\"primitive\">\n        <text text-anchor=\"end\" dy=\"0.35em\">20</text>\n      </g>\n    </g>\n    <g transform=\"translate(16.63,37.82)\" id=\"img-60aedfbd-51\">\n      <g class=\"primitive\">\n        <text text-anchor=\"end\" dy=\"0.35em\">30</text>\n      </g>\n    </g>\n    <g transform=\"translate(16.63,22.41)\" id=\"img-60aedfbd-52\">\n      <g class=\"primitive\">\n        <text text-anchor=\"end\" dy=\"0.35em\">40</text>\n      </g>\n    </g>\n    <g transform=\"translate(16.63,7)\" id=\"img-60aedfbd-53\">\n      <g class=\"primitive\">\n        <text text-anchor=\"end\" dy=\"0.35em\">50</text>\n      </g>\n    </g>\n  </g>\n  <g font-size=\"3.53\" font-family=\"'PT Sans','Helvetica Neue','Helvetica',sans-serif\" fill=\"#564A55\" stroke=\"#000000\" stroke-opacity=\"0.000\" id=\"img-60aedfbd-54\">\n    <g transform=\"translate(8.64,43.52)\" id=\"img-60aedfbd-55\">\n      <g class=\"primitive\">\n        <text text-anchor=\"middle\" dy=\"0.35em\" transform=\"rotate(-90,0, 2)\">A_net (μmol m⁻² s⁻¹)</text>\n      </g>\n    </g>\n  </g>\n</g>\n<defs>\n  <clipPath id=\"img-60aedfbd-19\">\n    <path d=\"M17.63,5 L108.64,5 108.64,86.04 17.63,86.04 \" />\n  </clipPath>\n</defs>\n</svg>\n"
           },
           "type": "node"
          }
         ],
         "instanceArgs": {
          "handlers": {
           "obs-output": [
            "function (value, scope) {\n    scope.setInnerHTML(value);\n}\n"
           ]
          },
          "id": "11429876122369447158",
          "imports": {
           "data": [],
           "type": "async_block"
          },
          "mount_callbacks": [],
          "observables": {
           "obs-output": {
            "id": "18212937374800152187",
            "sync": false,
            "value": "<?xml version=\"1.0\" encoding=\"UTF-8\"?>\n<svg xmlns=\"http://www.w3.org/2000/svg\"\n     xmlns:xlink=\"http://www.w3.org/1999/xlink\"\n     xmlns:gadfly=\"http://www.gadflyjl.org/ns\"\n     version=\"1.2\"\n     width=\"141.42mm\" height=\"100mm\" viewBox=\"0 0 141.42 100\"\n     stroke=\"none\"\n     fill=\"#000000\"\n     stroke-width=\"0.3\"\n     font-size=\"3.88\"\n>\n<defs>\n  <marker id=\"arrow\" markerWidth=\"15\" markerHeight=\"7\" refX=\"5\" refY=\"3.5\" orient=\"auto\" markerUnits=\"strokeWidth\">\n    <path d=\"M0,0 L15,3.5 L0,7 z\" stroke=\"context-stroke\" fill=\"context-stroke\"/>\n  </marker>\n</defs>\n<g stroke=\"#000000\" stroke-opacity=\"0.000\" fill=\"#FFFFFF\" id=\"img-60aedfbd-1\">\n  <g transform=\"translate(70.71,50)\">\n    <path d=\"M-70.71,-50 L70.71,-50 70.71,50 -70.71,50  z\" class=\"primitive\"/>\n  </g>\n</g>\n<g class=\"plotroot xscalable yscalable\" id=\"img-60aedfbd-2\">\n  <g font-size=\"3.53\" font-family=\"'PT Sans','Helvetica Neue','Helvetica',sans-serif\" fill=\"#564A55\" stroke=\"#000000\" stroke-opacity=\"0.000\" id=\"img-60aedfbd-3\">\n    <g transform=\"translate(63.14,93.72)\">\n      <g class=\"primitive\">\n        <text text-anchor=\"middle\" dy=\"0.6em\">T (°C)</text>\n      </g>\n    </g>\n  </g>\n  <g class=\"guide xlabels\" font-size=\"2.82\" font-family=\"'PT Sans Caption','Helvetica Neue','Helvetica',sans-serif\" fill=\"#6C606B\" id=\"img-60aedfbd-4\">\n    <g transform=\"translate(19.63,87.04)\">\n      <g class=\"primitive\">\n        <text text-anchor=\"middle\" dy=\"0.6em\">0</text>\n      </g>\n    </g>\n    <g transform=\"translate(37.03,87.04)\">\n      <g class=\"primitive\">\n        <text text-anchor=\"middle\" dy=\"0.6em\">10</text>\n      </g>\n    </g>\n    <g transform=\"translate(54.43,87.04)\">\n      <g class=\"primitive\">\n        <text text-anchor=\"middle\" dy=\"0.6em\">20</text>\n      </g>\n    </g>\n    <g transform=\"translate(71.84,87.04)\">\n      <g class=\"primitive\">\n        <text text-anchor=\"middle\" dy=\"0.6em\">30</text>\n      </g>\n    </g>\n    <g transform=\"translate(89.24,87.04)\">\n      <g class=\"primitive\">\n        <text text-anchor=\"middle\" dy=\"0.6em\">40</text>\n      </g>\n    </g>\n    <g transform=\"translate(106.64,87.04)\">\n      <g class=\"primitive\">\n        <text text-anchor=\"middle\" dy=\"0.6em\">50</text>\n      </g>\n    </g>\n  </g>\n  <g class=\"guide colorkey\" id=\"img-60aedfbd-5\">\n    <g fill=\"#4C404B\" font-size=\"2.82\" font-family=\"'PT Sans','Helvetica Neue','Helvetica',sans-serif\" id=\"img-60aedfbd-6\">\n      <g transform=\"translate(113.27,44.12)\" id=\"img-60aedfbd-7\">\n        <g class=\"primitive\">\n          <text dy=\"0.35em\">1000 μmol mol⁻¹</text>\n        </g>\n      </g>\n      <g transform=\"translate(113.27,47.75)\" id=\"img-60aedfbd-8\">\n        <g class=\"primitive\">\n          <text dy=\"0.35em\">400 μmol mol⁻¹</text>\n        </g>\n      </g>\n      <g transform=\"translate(113.27,51.38)\" id=\"img-60aedfbd-9\">\n        <g class=\"primitive\">\n          <text dy=\"0.35em\">250 μmol mol⁻¹</text>\n        </g>\n      </g>\n    </g>\n    <g stroke-width=\"0.3\" id=\"img-60aedfbd-10\">\n      <g stroke=\"#FFFFFF\" stroke-opacity=\"0.000\" fill-opacity=\"1\" fill=\"#FF6DAE\" id=\"img-60aedfbd-11\">\n        <g transform=\"translate(110.45,51.38)\" id=\"img-60aedfbd-12\">\n          <circle cx=\"0\" cy=\"0\" r=\"0.7\" class=\"primitive\"/>\n        </g>\n      </g>\n      <g stroke=\"#FFFFFF\" stroke-opacity=\"0.000\" fill-opacity=\"1\" fill=\"#D4CA3A\" id=\"img-60aedfbd-13\">\n        <g transform=\"translate(110.45,47.75)\" id=\"img-60aedfbd-14\">\n          <circle cx=\"0\" cy=\"0\" r=\"0.7\" class=\"primitive\"/>\n        </g>\n      </g>\n      <g stroke=\"#FFFFFF\" stroke-opacity=\"0.000\" fill-opacity=\"1\" fill=\"#00BFFF\" id=\"img-60aedfbd-15\">\n        <g transform=\"translate(110.45,44.12)\" id=\"img-60aedfbd-16\">\n          <circle cx=\"0\" cy=\"0\" r=\"0.7\" class=\"primitive\"/>\n        </g>\n      </g>\n    </g>\n    <g fill=\"#362A35\" font-size=\"3.18\" font-family=\"'PT Sans','Helvetica Neue','Helvetica',sans-serif\" stroke=\"#000000\" stroke-opacity=\"0.000\" id=\"img-60aedfbd-17\">\n      <g transform=\"translate(109.64,40.81)\" id=\"img-60aedfbd-18\">\n        <g class=\"primitive\">\n          <text dy=\"-0em\">CO2 (μmol mol⁻¹)</text>\n        </g>\n      </g>\n    </g>\n  </g>\n  <g clip-path=\"url(#img-60aedfbd-19)\">\n    <g id=\"img-60aedfbd-20\">\n      <g pointer-events=\"visible\" stroke-width=\"0.3\" fill=\"#000000\" fill-opacity=\"0.000\" stroke=\"#000000\" stroke-opacity=\"0.000\" class=\"guide background\" id=\"img-60aedfbd-21\">\n        <g transform=\"translate(63.14,45.52)\" id=\"img-60aedfbd-22\">\n          <path d=\"M-45.51,-40.52 L45.51,-40.52 45.51,40.52 -45.51,40.52  z\" class=\"primitive\"/>\n        </g>\n      </g>\n      <g class=\"guide ygridlines xfixed\" stroke-dasharray=\"0.5,0.5\" stroke-width=\"0.2\" stroke=\"#D0D0E0\" id=\"img-60aedfbd-23\">\n        <g transform=\"translate(63.14,84.04)\" id=\"img-60aedfbd-24\">\n          <path fill=\"none\" d=\"M-45.51,0 L45.51,0 \" class=\"primitive\"/>\n        </g>\n        <g transform=\"translate(63.14,68.63)\" id=\"img-60aedfbd-25\">\n          <path fill=\"none\" d=\"M-45.51,0 L45.51,0 \" class=\"primitive\"/>\n        </g>\n        <g transform=\"translate(63.14,53.23)\" id=\"img-60aedfbd-26\">\n          <path fill=\"none\" d=\"M-45.51,0 L45.51,0 \" class=\"primitive\"/>\n        </g>\n        <g transform=\"translate(63.14,37.82)\" id=\"img-60aedfbd-27\">\n          <path fill=\"none\" d=\"M-45.51,0 L45.51,0 \" class=\"primitive\"/>\n        </g>\n        <g transform=\"translate(63.14,22.41)\" id=\"img-60aedfbd-28\">\n          <path fill=\"none\" d=\"M-45.51,0 L45.51,0 \" class=\"primitive\"/>\n        </g>\n        <g transform=\"translate(63.14,7)\" id=\"img-60aedfbd-29\">\n          <path fill=\"none\" d=\"M-45.51,0 L45.51,0 \" class=\"primitive\"/>\n        </g>\n      </g>\n      <g class=\"guide xgridlines yfixed\" stroke-dasharray=\"0.5,0.5\" stroke-width=\"0.2\" stroke=\"#D0D0E0\" id=\"img-60aedfbd-30\">\n        <g transform=\"translate(19.63,45.52)\" id=\"img-60aedfbd-31\">\n          <path fill=\"none\" d=\"M0,-40.52 L0,40.52 \" class=\"primitive\"/>\n        </g>\n        <g transform=\"translate(37.03,45.52)\" id=\"img-60aedfbd-32\">\n          <path fill=\"none\" d=\"M0,-40.52 L0,40.52 \" class=\"primitive\"/>\n        </g>\n        <g transform=\"translate(54.43,45.52)\" id=\"img-60aedfbd-33\">\n          <path fill=\"none\" d=\"M0,-40.52 L0,40.52 \" class=\"primitive\"/>\n        </g>\n        <g transform=\"translate(71.84,45.52)\" id=\"img-60aedfbd-34\">\n          <path fill=\"none\" d=\"M0,-40.52 L0,40.52 \" class=\"primitive\"/>\n        </g>\n        <g transform=\"translate(89.24,45.52)\" id=\"img-60aedfbd-35\">\n          <path fill=\"none\" d=\"M0,-40.52 L0,40.52 \" class=\"primitive\"/>\n        </g>\n        <g transform=\"translate(106.64,45.52)\" id=\"img-60aedfbd-36\">\n          <path fill=\"none\" d=\"M0,-40.52 L0,40.52 \" class=\"primitive\"/>\n        </g>\n      </g>\n      <g class=\"plotpanel\" id=\"img-60aedfbd-37\">\n        <metadata>\n          <boundingbox value=\"17.629999999999995mm 5.0mm 91.01135623730951mm 81.04333333333334mm\"/>\n          <unitbox value=\"-1.1492752707734613 51.29797083892182 52.298550541546916 -52.59594167784364\"/>\n        </metadata>\n        <g stroke-width=\"0.3\" fill=\"#000000\" fill-opacity=\"0.000\" class=\"geometry\" id=\"img-60aedfbd-38\">\n          <g class=\"color_LCHab{Float32}(70.0f0,60.0f0,240.0f0)\" stroke-dasharray=\"none\" stroke=\"#00BFFF\" id=\"img-60aedfbd-39\">\n            <g transform=\"translate(63.96,42.79)\" id=\"img-60aedfbd-40\">\n              <path fill=\"none\" d=\"M-40.6,26.47 L-38.89,25.34 -37.18,24.14 -35.47,22.87 -33.77,21.52 -32.08,20.08 -30.4,18.55 -28.72,16.94 -27.05,15.23 -25.39,13.42 -23.74,11.51 -22.1,9.5 -20.47,7.38 -18.86,5.15 -17.25,2.94 -15.61,2.04 -13.98,1.14 -12.36,0.26 -10.74,-0.62 -9.13,-1.48 -7.52,-2.33 -5.92,-3.17 -4.33,-3.99 -2.75,-4.78 -1.17,-5.56 0.4,-6.31 1.97,-7.03 3.53,-7.73 5.09,-8.39 6.64,-9.01 8.18,-9.59 9.72,-10.13 11.26,-10.62 12.79,-11.05 14.33,-11.42 15.86,-11.72 17.39,-11.94 18.92,-12.07 20.45,-12.11 21.98,-12.02 23.52,-11.81 25.07,-11.45 26.63,-10.92 28.2,-10.19 29.79,-9.24 31.39,-8.03 33.03,-6.51 34.7,-4.65 36.42,-2.4 38.19,0.3 40.03,3.51 \" class=\"primitive\"/>\n            </g>\n          </g>\n        </g>\n        <g stroke-width=\"0.3\" fill=\"#000000\" fill-opacity=\"0.000\" class=\"geometry\" id=\"img-60aedfbd-41\">\n          <g class=\"color_LCHab{Float32}(80.0f0,70.000015f0,100.43479f0)\" stroke-dasharray=\"none\" stroke=\"#D4CA3A\" id=\"img-60aedfbd-42\">\n            <g transform=\"translate(62.82,54.96)\" id=\"img-60aedfbd-43\">\n              <path fill=\"none\" d=\"M-39.75,14.48 L-38.07,13.39 -36.41,12.24 -34.76,11.02 -33.11,9.73 -31.48,8.37 -29.87,6.94 -28.26,5.43 -26.67,3.84 -25.1,2.18 -23.54,0.43 -21.99,-1.4 -20.41,-2.23 -18.81,-2.76 -17.23,-3.28 -15.65,-3.77 -14.08,-4.25 -12.51,-4.69 -10.95,-5.11 -9.39,-5.51 -7.84,-5.87 -6.29,-6.2 -4.75,-6.49 -3.21,-6.75 -1.68,-6.98 -0.15,-7.16 1.38,-7.31 2.91,-7.41 4.44,-7.47 5.97,-7.47 7.49,-7.43 9.02,-7.34 10.55,-7.18 12.08,-6.97 13.66,-6.26 15.25,-5.48 16.85,-4.63 18.46,-3.71 20.08,-2.73 21.71,-1.69 23.36,-0.59 25.02,0.57 26.69,1.78 28.39,3.05 30.1,4.38 31.84,5.76 33.61,7.2 35.4,8.69 37.24,10.24 39.12,11.86 41.32,14.55 \" class=\"primitive\"/>\n            </g>\n          </g>\n        </g>\n        <g stroke-width=\"0.3\" fill=\"#000000\" fill-opacity=\"0.000\" class=\"geometry\" id=\"img-60aedfbd-44\">\n          <g class=\"color_LCHab{Float32}(65.89944f0,62.21457f0,353.99814f0)\" stroke-dasharray=\"none\" stroke=\"#FF6DAE\" id=\"img-60aedfbd-45\">\n            <g transform=\"translate(63.57,66.08)\" id=\"img-60aedfbd-46\">\n              <path fill=\"none\" d=\"M-40.77,3.51 L-39.13,2.46 -37.5,1.35 -35.89,0.18 -34.29,-1.06 -32.7,-2.36 -31.09,-3.04 -29.49,-3.67 -27.89,-4.26 -26.29,-4.81 -24.71,-5.31 -23.12,-5.77 -21.54,-6.17 -19.97,-6.52 -18.39,-6.82 -16.82,-7.06 -15.25,-7.24 -13.68,-7.36 -12.12,-7.41 -10.55,-7.41 -8.98,-7.34 -7.41,-7.22 -5.83,-7.03 -4.25,-6.78 -2.67,-6.47 -1.08,-6.1 0.51,-5.67 2.11,-5.19 3.72,-4.65 5.34,-4.05 6.96,-3.4 8.6,-2.7 10.26,-1.95 11.92,-1.14 13.61,-0.29 15.31,0.62 17.04,1.57 18.79,2.58 20.57,3.63 22.39,4.74 24.25,5.9 26.16,7.12 28.13,8.4 30.18,9.74 32.33,11.15 34.6,12.61 36.99,14.07 39.45,15.4 41.83,16.41 44.04,17.07 46.3,17.7 \" class=\"primitive\"/>\n            </g>\n          </g>\n        </g>\n      </g>\n    </g>\n  </g>\n  <g class=\"guide ylabels\" font-size=\"2.82\" font-family=\"'PT Sans Caption','Helvetica Neue','Helvetica',sans-serif\" fill=\"#6C606B\" id=\"img-60aedfbd-47\">\n    <g transform=\"translate(16.63,84.04)\" id=\"img-60aedfbd-48\">\n      <g class=\"primitive\">\n        <text text-anchor=\"end\" dy=\"0.35em\">0</text>\n      </g>\n    </g>\n    <g transform=\"translate(16.63,68.63)\" id=\"img-60aedfbd-49\">\n      <g class=\"primitive\">\n        <text text-anchor=\"end\" dy=\"0.35em\">10</text>\n      </g>\n    </g>\n    <g transform=\"translate(16.63,53.23)\" id=\"img-60aedfbd-50\">\n      <g class=\"primitive\">\n        <text text-anchor=\"end\" dy=\"0.35em\">20</text>\n      </g>\n    </g>\n    <g transform=\"translate(16.63,37.82)\" id=\"img-60aedfbd-51\">\n      <g class=\"primitive\">\n        <text text-anchor=\"end\" dy=\"0.35em\">30</text>\n      </g>\n    </g>\n    <g transform=\"translate(16.63,22.41)\" id=\"img-60aedfbd-52\">\n      <g class=\"primitive\">\n        <text text-anchor=\"end\" dy=\"0.35em\">40</text>\n      </g>\n    </g>\n    <g transform=\"translate(16.63,7)\" id=\"img-60aedfbd-53\">\n      <g class=\"primitive\">\n        <text text-anchor=\"end\" dy=\"0.35em\">50</text>\n      </g>\n    </g>\n  </g>\n  <g font-size=\"3.53\" font-family=\"'PT Sans','Helvetica Neue','Helvetica',sans-serif\" fill=\"#564A55\" stroke=\"#000000\" stroke-opacity=\"0.000\" id=\"img-60aedfbd-54\">\n    <g transform=\"translate(8.64,43.52)\" id=\"img-60aedfbd-55\">\n      <g class=\"primitive\">\n        <text text-anchor=\"middle\" dy=\"0.35em\" transform=\"rotate(-90,0, 2)\">A_net (μmol m⁻² s⁻¹)</text>\n      </g>\n    </g>\n  </g>\n</g>\n<defs>\n  <clipPath id=\"img-60aedfbd-19\">\n    <path d=\"M17.63,5 L108.64,5 108.64,86.04 17.63,86.04 \" />\n  </clipPath>\n</defs>\n</svg>\n"
           }
          },
          "systemjs_options": null
         },
         "nodeType": "Scope",
         "props": {},
         "type": "node"
        }
       ],
       "instanceArgs": {
        "namespace": "html",
        "tag": "div"
       },
       "nodeType": "DOM",
       "props": {
        "style": {
         "display": "flex",
         "flex-direction": "column"
        }
       },
       "type": "node"
      },
      "text/html": [
       "<div\n",
       "    class=\"webio-mountpoint\"\n",
       "    data-webio-mountpoint=\"819891725704592965\"\n",
       ">\n",
       "    <script>\n",
       "    (function(){\n",
       "    // Some integrations (namely, IJulia/Jupyter) use an alternate render pathway than\n",
       "    // just putting the html on the page. If WebIO isn't defined, then it's pretty likely\n",
       "    // that we're in one of those situations and the integration just isn't installed\n",
       "    // correctly.\n",
       "    if (typeof window.WebIO === \"undefined\") {\n",
       "        document\n",
       "            .querySelector('[data-webio-mountpoint=\"819891725704592965\"]')\n",
       "            .innerHTML = (\n",
       "                '<div style=\"padding: 1em; background-color: #f8d6da; border: 1px solid #f5c6cb; font-weight: bold;\">' +\n",
       "                '<p><strong>WebIO not detected.</strong></p>' +\n",
       "                '<p>Please read ' +\n",
       "                '<a href=\"https://juliagizmos.github.io/WebIO.jl/latest/troubleshooting/not-detected/\" target=\"_blank\">the troubleshooting guide</a> ' +\n",
       "                'for more information on how to resolve this issue.</p>' +\n",
       "                '<p><a href=\"https://juliagizmos.github.io/WebIO.jl/latest/troubleshooting/not-detected/\" target=\"_blank\">https://juliagizmos.github.io/WebIO.jl/latest/troubleshooting/not-detected/</a></p>' +\n",
       "                '</div>'\n",
       "            );\n",
       "        return;\n",
       "    }\n",
       "    WebIO.mount(\n",
       "        document.querySelector('[data-webio-mountpoint=\"819891725704592965\"]'),\n",
       "        {\"props\":{\"style\":{\"display\":\"flex\",\"flex-direction\":\"column\"}},\"nodeType\":\"DOM\",\"type\":\"node\",\"instanceArgs\":{\"namespace\":\"html\",\"tag\":\"div\"},\"children\":[{\"props\":{\"style\":{\"color\":\"rebeccapurple\",\"font-family\":\"monospace\"}},\"nodeType\":\"DOM\",\"type\":\"node\",\"instanceArgs\":{\"namespace\":\"html\",\"tag\":\"div\"},\"children\":[\"StomataTuzet\"]},{\"props\":{\"className\":\"field interact-widget\"},\"nodeType\":\"DOM\",\"type\":\"node\",\"instanceArgs\":{\"namespace\":\"html\",\"tag\":\"div\"},\"children\":[{\"props\":{},\"nodeType\":\"Scope\",\"type\":\"node\",\"instanceArgs\":{\"imports\":{\"data\":[{\"name\":\"knockout\",\"type\":\"js\",\"url\":\"\\/assetserver\\/c0689c4f2514def856941022372b529b3413f129-knockout.js\"},{\"name\":\"knockout_punches\",\"type\":\"js\",\"url\":\"\\/assetserver\\/69274bc4b68b761587a57ff3f5e787f3dd4781dc-knockout_punches.js\"},{\"name\":null,\"type\":\"js\",\"url\":\"\\/assetserver\\/096b68745a0180096d3bd812a95825d387626124-all.js\"},{\"name\":null,\"type\":\"css\",\"url\":\"\\/assetserver\\/d8822751ac3a06d244eead91a737222f90bb9e0b-style.css\"},{\"name\":null,\"type\":\"css\",\"url\":\"\\/assetserver\\/792d9982ee796e4da6422248c42eb77a0d83e61e-bulma_confined.min.css\"}],\"type\":\"async_block\"},\"id\":\"932405206824253559\",\"handlers\":{\"changes\":[\"(function (val){return (val!=this.model[\\\"changes\\\"]()) ? (this.valueFromJulia[\\\"changes\\\"]=true, this.model[\\\"changes\\\"](val)) : undefined})\"],\"index\":[\"(function (val){return (val!=this.model[\\\"index\\\"]()) ? (this.valueFromJulia[\\\"index\\\"]=true, this.model[\\\"index\\\"](val)) : undefined})\"]},\"systemjs_options\":null,\"mount_callbacks\":[\"function () {\\n    var handler = (function (ko, koPunches) {\\n    ko.punches.enableAll();\\n    ko.bindingHandlers.numericValue = {\\n        init: function(element, valueAccessor, allBindings, data, context) {\\n            var stringified = ko.observable(ko.unwrap(valueAccessor()));\\n            stringified.subscribe(function(value) {\\n                var val = parseFloat(value);\\n                if (!isNaN(val)) {\\n                    valueAccessor()(val);\\n                }\\n            });\\n            valueAccessor().subscribe(function(value) {\\n                var str = JSON.stringify(value);\\n                if ((str == \\\"0\\\") && ([\\\"-0\\\", \\\"-0.\\\"].indexOf(stringified()) >= 0))\\n                     return;\\n                 if ([\\\"null\\\", \\\"\\\"].indexOf(str) >= 0)\\n                     return;\\n                stringified(str);\\n            });\\n            ko.applyBindingsToNode(\\n                element,\\n                {\\n                    value: stringified,\\n                    valueUpdate: allBindings.get('valueUpdate'),\\n                },\\n                context,\\n            );\\n        }\\n    };\\n    var json_data = {\\\"formatted_vals\\\":[\\\"-3.0\\\",\\\"-2.9\\\",\\\"-2.8\\\",\\\"-2.7\\\",\\\"-2.6\\\",\\\"-2.5\\\",\\\"-2.4\\\",\\\"-2.3\\\",\\\"-2.2\\\",\\\"-2.1\\\",\\\"-2.0\\\",\\\"-1.9\\\",\\\"-1.8\\\",\\\"-1.7\\\",\\\"-1.6\\\",\\\"-1.5\\\",\\\"-1.4\\\",\\\"-1.3\\\",\\\"-1.2\\\",\\\"-1.1\\\",\\\"-1.0\\\",\\\"-0.9\\\",\\\"-0.8\\\",\\\"-0.7\\\",\\\"-0.6\\\",\\\"-0.5\\\",\\\"-0.4\\\",\\\"-0.3\\\",\\\"-0.2\\\",\\\"-0.1\\\",\\\"0.0\\\"],\\\"changes\\\":WebIO.getval({\\\"name\\\":\\\"changes\\\",\\\"scope\\\":\\\"932405206824253559\\\",\\\"id\\\":\\\"16100994358733706820\\\",\\\"type\\\":\\\"observable\\\"}),\\\"index\\\":WebIO.getval({\\\"name\\\":\\\"index\\\",\\\"scope\\\":\\\"932405206824253559\\\",\\\"id\\\":\\\"5670284708498472935\\\",\\\"type\\\":\\\"observable\\\"})};\\n    var self = this;\\n    function AppViewModel() {\\n        for (var key in json_data) {\\n            var el = json_data[key];\\n            this[key] = Array.isArray(el) ? ko.observableArray(el) : ko.observable(el);\\n        }\\n        \\n        [this[\\\"formatted_val\\\"]=ko.computed(    function(){\\n        return this.formatted_vals()[parseInt(this.index())-(1)];\\n    }\\n,this)]\\n        [this[\\\"changes\\\"].subscribe((function (val){!(this.valueFromJulia[\\\"changes\\\"]) ? (WebIO.setval({\\\"name\\\":\\\"changes\\\",\\\"scope\\\":\\\"932405206824253559\\\",\\\"id\\\":\\\"16100994358733706820\\\",\\\"type\\\":\\\"observable\\\"},val)) : undefined; return this.valueFromJulia[\\\"changes\\\"]=false}),self),this[\\\"index\\\"].subscribe((function (val){!(this.valueFromJulia[\\\"index\\\"]) ? (WebIO.setval({\\\"name\\\":\\\"index\\\",\\\"scope\\\":\\\"932405206824253559\\\",\\\"id\\\":\\\"5670284708498472935\\\",\\\"type\\\":\\\"observable\\\"},val)) : undefined; return this.valueFromJulia[\\\"index\\\"]=false}),self)]\\n        \\n    }\\n    self.model = new AppViewModel();\\n    self.valueFromJulia = {};\\n    for (var key in json_data) {\\n        self.valueFromJulia[key] = false;\\n    }\\n    ko.applyBindings(self.model, self.dom);\\n}\\n);\\n    (WebIO.importBlock({\\\"data\\\":[{\\\"name\\\":\\\"knockout\\\",\\\"type\\\":\\\"js\\\",\\\"url\\\":\\\"\\/assetserver\\/c0689c4f2514def856941022372b529b3413f129-knockout.js\\\"},{\\\"name\\\":\\\"knockout_punches\\\",\\\"type\\\":\\\"js\\\",\\\"url\\\":\\\"\\/assetserver\\/69274bc4b68b761587a57ff3f5e787f3dd4781dc-knockout_punches.js\\\"}],\\\"type\\\":\\\"async_block\\\"})).then((imports) => handler.apply(this, imports));\\n}\\n\"],\"observables\":{\"changes\":{\"sync\":true,\"id\":\"16100994358733706820\",\"value\":0},\"index\":{\"sync\":true,\"id\":\"5670284708498472935\",\"value\":26}}},\"children\":[{\"props\":{\"className\":\"interact-flex-row interact-widget\",\"style\":{\"font-family\":\"monospace\",\"width\":\"80%\"}},\"nodeType\":\"DOM\",\"type\":\"node\",\"instanceArgs\":{\"namespace\":\"html\",\"tag\":\"div\"},\"children\":[{\"props\":{\"className\":\"interact-flex-row-left\"},\"nodeType\":\"DOM\",\"type\":\"node\",\"instanceArgs\":{\"namespace\":\"html\",\"tag\":\"div\"},\"children\":[{\"props\":{\"className\":\"interact \",\"style\":{\"padding\":\"5px 10px 0px 10px\",\"white-space\":\"nowrap\",\"color\":\"royalblue\"}},\"nodeType\":\"DOM\",\"type\":\"node\",\"instanceArgs\":{\"namespace\":\"html\",\"tag\":\"label\"},\"children\":[\"WP_leaf\"]}]},{\"props\":{\"className\":\"interact-flex-row-center\"},\"nodeType\":\"DOM\",\"type\":\"node\",\"instanceArgs\":{\"namespace\":\"html\",\"tag\":\"div\"},\"children\":[{\"props\":{\"max\":31,\"min\":1,\"attributes\":{\"type\":\"range\",\"data-bind\":\"numericValue: index, valueUpdate: 'input', event: {change: function (){this.changes(this.changes()+1)}}\",\"orient\":\"horizontal\"},\"step\":1,\"className\":\"slider slider is-fullwidth\",\"style\":{}},\"nodeType\":\"DOM\",\"type\":\"node\",\"instanceArgs\":{\"namespace\":\"html\",\"tag\":\"input\"},\"children\":[]}]},{\"props\":{\"className\":\"interact-flex-row-right\"},\"nodeType\":\"DOM\",\"type\":\"node\",\"instanceArgs\":{\"namespace\":\"html\",\"tag\":\"div\"},\"children\":[{\"props\":{\"attributes\":{\"data-bind\":\"text: formatted_val\"}},\"nodeType\":\"DOM\",\"type\":\"node\",\"instanceArgs\":{\"namespace\":\"html\",\"tag\":\"p\"},\"children\":[]}]}]}]}]},{\"props\":{\"style\":{\"color\":\"rebeccapurple\",\"font-family\":\"monospace\"}},\"nodeType\":\"DOM\",\"type\":\"node\",\"instanceArgs\":{\"namespace\":\"html\",\"tag\":\"div\"},\"children\":[\"Weather\"]},{\"props\":{\"className\":\"field interact-widget\"},\"nodeType\":\"DOM\",\"type\":\"node\",\"instanceArgs\":{\"namespace\":\"html\",\"tag\":\"div\"},\"children\":[{\"props\":{},\"nodeType\":\"Scope\",\"type\":\"node\",\"instanceArgs\":{\"imports\":{\"data\":[{\"name\":\"knockout\",\"type\":\"js\",\"url\":\"\\/assetserver\\/c0689c4f2514def856941022372b529b3413f129-knockout.js\"},{\"name\":\"knockout_punches\",\"type\":\"js\",\"url\":\"\\/assetserver\\/69274bc4b68b761587a57ff3f5e787f3dd4781dc-knockout_punches.js\"},{\"name\":null,\"type\":\"js\",\"url\":\"\\/assetserver\\/096b68745a0180096d3bd812a95825d387626124-all.js\"},{\"name\":null,\"type\":\"css\",\"url\":\"\\/assetserver\\/d8822751ac3a06d244eead91a737222f90bb9e0b-style.css\"},{\"name\":null,\"type\":\"css\",\"url\":\"\\/assetserver\\/792d9982ee796e4da6422248c42eb77a0d83e61e-bulma_confined.min.css\"}],\"type\":\"async_block\"},\"id\":\"10173143132199150255\",\"handlers\":{\"changes\":[\"(function (val){return (val!=this.model[\\\"changes\\\"]()) ? (this.valueFromJulia[\\\"changes\\\"]=true, this.model[\\\"changes\\\"](val)) : undefined})\"],\"index\":[\"(function (val){return (val!=this.model[\\\"index\\\"]()) ? (this.valueFromJulia[\\\"index\\\"]=true, this.model[\\\"index\\\"](val)) : undefined})\"]},\"systemjs_options\":null,\"mount_callbacks\":[\"function () {\\n    var handler = (function (ko, koPunches) {\\n    ko.punches.enableAll();\\n    ko.bindingHandlers.numericValue = {\\n        init: function(element, valueAccessor, allBindings, data, context) {\\n            var stringified = ko.observable(ko.unwrap(valueAccessor()));\\n            stringified.subscribe(function(value) {\\n                var val = parseFloat(value);\\n                if (!isNaN(val)) {\\n                    valueAccessor()(val);\\n                }\\n            });\\n            valueAccessor().subscribe(function(value) {\\n                var str = JSON.stringify(value);\\n                if ((str == \\\"0\\\") && ([\\\"-0\\\", \\\"-0.\\\"].indexOf(stringified()) >= 0))\\n                     return;\\n                 if ([\\\"null\\\", \\\"\\\"].indexOf(str) >= 0)\\n                     return;\\n                stringified(str);\\n            });\\n            ko.applyBindingsToNode(\\n                element,\\n                {\\n                    value: stringified,\\n                    valueUpdate: allBindings.get('valueUpdate'),\\n                },\\n                context,\\n            );\\n        }\\n    };\\n    var json_data = {\\\"formatted_vals\\\":[\\\"0\\\",\\\"5\\\",\\\"10\\\",\\\"15\\\",\\\"20\\\",\\\"25\\\",\\\"30\\\",\\\"35\\\",\\\"40\\\",\\\"45\\\",\\\"50\\\",\\\"55\\\",\\\"60\\\",\\\"65\\\",\\\"70\\\",\\\"75\\\",\\\"80\\\",\\\"85\\\",\\\"90\\\",\\\"95\\\",\\\"100\\\"],\\\"changes\\\":WebIO.getval({\\\"name\\\":\\\"changes\\\",\\\"scope\\\":\\\"10173143132199150255\\\",\\\"id\\\":\\\"14787241745065160819\\\",\\\"type\\\":\\\"observable\\\"}),\\\"index\\\":WebIO.getval({\\\"name\\\":\\\"index\\\",\\\"scope\\\":\\\"10173143132199150255\\\",\\\"id\\\":\\\"9145096512392779592\\\",\\\"type\\\":\\\"observable\\\"})};\\n    var self = this;\\n    function AppViewModel() {\\n        for (var key in json_data) {\\n            var el = json_data[key];\\n            this[key] = Array.isArray(el) ? ko.observableArray(el) : ko.observable(el);\\n        }\\n        \\n        [this[\\\"formatted_val\\\"]=ko.computed(    function(){\\n        return this.formatted_vals()[parseInt(this.index())-(1)];\\n    }\\n,this)]\\n        [this[\\\"changes\\\"].subscribe((function (val){!(this.valueFromJulia[\\\"changes\\\"]) ? (WebIO.setval({\\\"name\\\":\\\"changes\\\",\\\"scope\\\":\\\"10173143132199150255\\\",\\\"id\\\":\\\"14787241745065160819\\\",\\\"type\\\":\\\"observable\\\"},val)) : undefined; return this.valueFromJulia[\\\"changes\\\"]=false}),self),this[\\\"index\\\"].subscribe((function (val){!(this.valueFromJulia[\\\"index\\\"]) ? (WebIO.setval({\\\"name\\\":\\\"index\\\",\\\"scope\\\":\\\"10173143132199150255\\\",\\\"id\\\":\\\"9145096512392779592\\\",\\\"type\\\":\\\"observable\\\"},val)) : undefined; return this.valueFromJulia[\\\"index\\\"]=false}),self)]\\n        \\n    }\\n    self.model = new AppViewModel();\\n    self.valueFromJulia = {};\\n    for (var key in json_data) {\\n        self.valueFromJulia[key] = false;\\n    }\\n    ko.applyBindings(self.model, self.dom);\\n}\\n);\\n    (WebIO.importBlock({\\\"data\\\":[{\\\"name\\\":\\\"knockout\\\",\\\"type\\\":\\\"js\\\",\\\"url\\\":\\\"\\/assetserver\\/c0689c4f2514def856941022372b529b3413f129-knockout.js\\\"},{\\\"name\\\":\\\"knockout_punches\\\",\\\"type\\\":\\\"js\\\",\\\"url\\\":\\\"\\/assetserver\\/69274bc4b68b761587a57ff3f5e787f3dd4781dc-knockout_punches.js\\\"}],\\\"type\\\":\\\"async_block\\\"})).then((imports) => handler.apply(this, imports));\\n}\\n\"],\"observables\":{\"changes\":{\"sync\":true,\"id\":\"14787241745065160819\",\"value\":0},\"index\":{\"sync\":true,\"id\":\"9145096512392779592\",\"value\":13}}},\"children\":[{\"props\":{\"className\":\"interact-flex-row interact-widget\",\"style\":{\"font-family\":\"monospace\",\"width\":\"80%\"}},\"nodeType\":\"DOM\",\"type\":\"node\",\"instanceArgs\":{\"namespace\":\"html\",\"tag\":\"div\"},\"children\":[{\"props\":{\"className\":\"interact-flex-row-left\"},\"nodeType\":\"DOM\",\"type\":\"node\",\"instanceArgs\":{\"namespace\":\"html\",\"tag\":\"div\"},\"children\":[{\"props\":{\"className\":\"interact \",\"style\":{\"padding\":\"5px 10px 0px 10px\",\"white-space\":\"nowrap\",\"color\":\"royalblue\"}},\"nodeType\":\"DOM\",\"type\":\"node\",\"instanceArgs\":{\"namespace\":\"html\",\"tag\":\"label\"},\"children\":[\"RH (%)\"]}]},{\"props\":{\"className\":\"interact-flex-row-center\"},\"nodeType\":\"DOM\",\"type\":\"node\",\"instanceArgs\":{\"namespace\":\"html\",\"tag\":\"div\"},\"children\":[{\"props\":{\"max\":21,\"min\":1,\"attributes\":{\"type\":\"range\",\"data-bind\":\"numericValue: index, valueUpdate: 'input', event: {change: function (){this.changes(this.changes()+1)}}\",\"orient\":\"horizontal\"},\"step\":1,\"className\":\"slider slider is-fullwidth\",\"style\":{}},\"nodeType\":\"DOM\",\"type\":\"node\",\"instanceArgs\":{\"namespace\":\"html\",\"tag\":\"input\"},\"children\":[]}]},{\"props\":{\"className\":\"interact-flex-row-right\"},\"nodeType\":\"DOM\",\"type\":\"node\",\"instanceArgs\":{\"namespace\":\"html\",\"tag\":\"div\"},\"children\":[{\"props\":{\"attributes\":{\"data-bind\":\"text: formatted_val\"}},\"nodeType\":\"DOM\",\"type\":\"node\",\"instanceArgs\":{\"namespace\":\"html\",\"tag\":\"p\"},\"children\":[]}]}]}]}]},{\"props\":{\"className\":\"field interact-widget\"},\"nodeType\":\"DOM\",\"type\":\"node\",\"instanceArgs\":{\"namespace\":\"html\",\"tag\":\"div\"},\"children\":[{\"props\":{},\"nodeType\":\"Scope\",\"type\":\"node\",\"instanceArgs\":{\"imports\":{\"data\":[{\"name\":\"knockout\",\"type\":\"js\",\"url\":\"\\/assetserver\\/c0689c4f2514def856941022372b529b3413f129-knockout.js\"},{\"name\":\"knockout_punches\",\"type\":\"js\",\"url\":\"\\/assetserver\\/69274bc4b68b761587a57ff3f5e787f3dd4781dc-knockout_punches.js\"},{\"name\":null,\"type\":\"js\",\"url\":\"\\/assetserver\\/096b68745a0180096d3bd812a95825d387626124-all.js\"},{\"name\":null,\"type\":\"css\",\"url\":\"\\/assetserver\\/d8822751ac3a06d244eead91a737222f90bb9e0b-style.css\"},{\"name\":null,\"type\":\"css\",\"url\":\"\\/assetserver\\/792d9982ee796e4da6422248c42eb77a0d83e61e-bulma_confined.min.css\"}],\"type\":\"async_block\"},\"id\":\"13744572168931367025\",\"handlers\":{\"changes\":[\"(function (val){return (val!=this.model[\\\"changes\\\"]()) ? (this.valueFromJulia[\\\"changes\\\"]=true, this.model[\\\"changes\\\"](val)) : undefined})\"],\"index\":[\"(function (val){return (val!=this.model[\\\"index\\\"]()) ? (this.valueFromJulia[\\\"index\\\"]=true, this.model[\\\"index\\\"](val)) : undefined})\"]},\"systemjs_options\":null,\"mount_callbacks\":[\"function () {\\n    var handler = (function (ko, koPunches) {\\n    ko.punches.enableAll();\\n    ko.bindingHandlers.numericValue = {\\n        init: function(element, valueAccessor, allBindings, data, context) {\\n            var stringified = ko.observable(ko.unwrap(valueAccessor()));\\n            stringified.subscribe(function(value) {\\n                var val = parseFloat(value);\\n                if (!isNaN(val)) {\\n                    valueAccessor()(val);\\n                }\\n            });\\n            valueAccessor().subscribe(function(value) {\\n                var str = JSON.stringify(value);\\n                if ((str == \\\"0\\\") && ([\\\"-0\\\", \\\"-0.\\\"].indexOf(stringified()) >= 0))\\n                     return;\\n                 if ([\\\"null\\\", \\\"\\\"].indexOf(str) >= 0)\\n                     return;\\n                stringified(str);\\n            });\\n            ko.applyBindingsToNode(\\n                element,\\n                {\\n                    value: stringified,\\n                    valueUpdate: allBindings.get('valueUpdate'),\\n                },\\n                context,\\n            );\\n        }\\n    };\\n    var json_data = {\\\"formatted_vals\\\":[\\\"0\\\",\\\"50\\\",\\\"100\\\",\\\"150\\\",\\\"200\\\",\\\"250\\\",\\\"300\\\",\\\"350\\\",\\\"400\\\",\\\"450\\\",\\\"500\\\",\\\"550\\\",\\\"600\\\",\\\"650\\\",\\\"700\\\",\\\"750\\\",\\\"800\\\",\\\"850\\\",\\\"900\\\",\\\"950\\\",\\\"1000\\\",\\\"1050\\\",\\\"1100\\\",\\\"1150\\\",\\\"1200\\\",\\\"1250\\\",\\\"1300\\\",\\\"1350\\\",\\\"1400\\\",\\\"1450\\\",\\\"1500\\\",\\\"1550\\\",\\\"1600\\\",\\\"1650\\\",\\\"1700\\\",\\\"1750\\\",\\\"1800\\\",\\\"1850\\\",\\\"1900\\\",\\\"1950\\\",\\\"2000\\\"],\\\"changes\\\":WebIO.getval({\\\"name\\\":\\\"changes\\\",\\\"scope\\\":\\\"13744572168931367025\\\",\\\"id\\\":\\\"2261288158791225250\\\",\\\"type\\\":\\\"observable\\\"}),\\\"index\\\":WebIO.getval({\\\"name\\\":\\\"index\\\",\\\"scope\\\":\\\"13744572168931367025\\\",\\\"id\\\":\\\"5596770985167576560\\\",\\\"type\\\":\\\"observable\\\"})};\\n    var self = this;\\n    function AppViewModel() {\\n        for (var key in json_data) {\\n            var el = json_data[key];\\n            this[key] = Array.isArray(el) ? ko.observableArray(el) : ko.observable(el);\\n        }\\n        \\n        [this[\\\"formatted_val\\\"]=ko.computed(    function(){\\n        return this.formatted_vals()[parseInt(this.index())-(1)];\\n    }\\n,this)]\\n        [this[\\\"changes\\\"].subscribe((function (val){!(this.valueFromJulia[\\\"changes\\\"]) ? (WebIO.setval({\\\"name\\\":\\\"changes\\\",\\\"scope\\\":\\\"13744572168931367025\\\",\\\"id\\\":\\\"2261288158791225250\\\",\\\"type\\\":\\\"observable\\\"},val)) : undefined; return this.valueFromJulia[\\\"changes\\\"]=false}),self),this[\\\"index\\\"].subscribe((function (val){!(this.valueFromJulia[\\\"index\\\"]) ? (WebIO.setval({\\\"name\\\":\\\"index\\\",\\\"scope\\\":\\\"13744572168931367025\\\",\\\"id\\\":\\\"5596770985167576560\\\",\\\"type\\\":\\\"observable\\\"},val)) : undefined; return this.valueFromJulia[\\\"index\\\"]=false}),self)]\\n        \\n    }\\n    self.model = new AppViewModel();\\n    self.valueFromJulia = {};\\n    for (var key in json_data) {\\n        self.valueFromJulia[key] = false;\\n    }\\n    ko.applyBindings(self.model, self.dom);\\n}\\n);\\n    (WebIO.importBlock({\\\"data\\\":[{\\\"name\\\":\\\"knockout\\\",\\\"type\\\":\\\"js\\\",\\\"url\\\":\\\"\\/assetserver\\/c0689c4f2514def856941022372b529b3413f129-knockout.js\\\"},{\\\"name\\\":\\\"knockout_punches\\\",\\\"type\\\":\\\"js\\\",\\\"url\\\":\\\"\\/assetserver\\/69274bc4b68b761587a57ff3f5e787f3dd4781dc-knockout_punches.js\\\"}],\\\"type\\\":\\\"async_block\\\"})).then((imports) => handler.apply(this, imports));\\n}\\n\"],\"observables\":{\"changes\":{\"sync\":true,\"id\":\"2261288158791225250\",\"value\":0},\"index\":{\"sync\":true,\"id\":\"5596770985167576560\",\"value\":31}}},\"children\":[{\"props\":{\"className\":\"interact-flex-row interact-widget\",\"style\":{\"font-family\":\"monospace\",\"width\":\"80%\"}},\"nodeType\":\"DOM\",\"type\":\"node\",\"instanceArgs\":{\"namespace\":\"html\",\"tag\":\"div\"},\"children\":[{\"props\":{\"className\":\"interact-flex-row-left\"},\"nodeType\":\"DOM\",\"type\":\"node\",\"instanceArgs\":{\"namespace\":\"html\",\"tag\":\"div\"},\"children\":[{\"props\":{\"className\":\"interact \",\"style\":{\"padding\":\"5px 10px 0px 10px\",\"white-space\":\"nowrap\",\"color\":\"royalblue\"}},\"nodeType\":\"DOM\",\"type\":\"node\",\"instanceArgs\":{\"namespace\":\"html\",\"tag\":\"label\"},\"children\":[\"PFD (μmol m⁻² s⁻¹)\"]}]},{\"props\":{\"className\":\"interact-flex-row-center\"},\"nodeType\":\"DOM\",\"type\":\"node\",\"instanceArgs\":{\"namespace\":\"html\",\"tag\":\"div\"},\"children\":[{\"props\":{\"max\":41,\"min\":1,\"attributes\":{\"type\":\"range\",\"data-bind\":\"numericValue: index, valueUpdate: 'input', event: {change: function (){this.changes(this.changes()+1)}}\",\"orient\":\"horizontal\"},\"step\":1,\"className\":\"slider slider is-fullwidth\",\"style\":{}},\"nodeType\":\"DOM\",\"type\":\"node\",\"instanceArgs\":{\"namespace\":\"html\",\"tag\":\"input\"},\"children\":[]}]},{\"props\":{\"className\":\"interact-flex-row-right\"},\"nodeType\":\"DOM\",\"type\":\"node\",\"instanceArgs\":{\"namespace\":\"html\",\"tag\":\"div\"},\"children\":[{\"props\":{\"attributes\":{\"data-bind\":\"text: formatted_val\"}},\"nodeType\":\"DOM\",\"type\":\"node\",\"instanceArgs\":{\"namespace\":\"html\",\"tag\":\"p\"},\"children\":[]}]}]}]}]},{\"props\":{\"style\":{\"color\":\"rebeccapurple\",\"font-family\":\"monospace\"}},\"nodeType\":\"DOM\",\"type\":\"node\",\"instanceArgs\":{\"namespace\":\"html\",\"tag\":\"div\"},\"children\":[\"Nitrogen\"]},{\"props\":{\"className\":\"field interact-widget\"},\"nodeType\":\"DOM\",\"type\":\"node\",\"instanceArgs\":{\"namespace\":\"html\",\"tag\":\"div\"},\"children\":[{\"props\":{},\"nodeType\":\"Scope\",\"type\":\"node\",\"instanceArgs\":{\"imports\":{\"data\":[{\"name\":\"knockout\",\"type\":\"js\",\"url\":\"\\/assetserver\\/c0689c4f2514def856941022372b529b3413f129-knockout.js\"},{\"name\":\"knockout_punches\",\"type\":\"js\",\"url\":\"\\/assetserver\\/69274bc4b68b761587a57ff3f5e787f3dd4781dc-knockout_punches.js\"},{\"name\":null,\"type\":\"js\",\"url\":\"\\/assetserver\\/096b68745a0180096d3bd812a95825d387626124-all.js\"},{\"name\":null,\"type\":\"css\",\"url\":\"\\/assetserver\\/d8822751ac3a06d244eead91a737222f90bb9e0b-style.css\"},{\"name\":null,\"type\":\"css\",\"url\":\"\\/assetserver\\/792d9982ee796e4da6422248c42eb77a0d83e61e-bulma_confined.min.css\"}],\"type\":\"async_block\"},\"id\":\"6149954681843629259\",\"handlers\":{\"changes\":[\"(function (val){return (val!=this.model[\\\"changes\\\"]()) ? (this.valueFromJulia[\\\"changes\\\"]=true, this.model[\\\"changes\\\"](val)) : undefined})\"],\"index\":[\"(function (val){return (val!=this.model[\\\"index\\\"]()) ? (this.valueFromJulia[\\\"index\\\"]=true, this.model[\\\"index\\\"](val)) : undefined})\"]},\"systemjs_options\":null,\"mount_callbacks\":[\"function () {\\n    var handler = (function (ko, koPunches) {\\n    ko.punches.enableAll();\\n    ko.bindingHandlers.numericValue = {\\n        init: function(element, valueAccessor, allBindings, data, context) {\\n            var stringified = ko.observable(ko.unwrap(valueAccessor()));\\n            stringified.subscribe(function(value) {\\n                var val = parseFloat(value);\\n                if (!isNaN(val)) {\\n                    valueAccessor()(val);\\n                }\\n            });\\n            valueAccessor().subscribe(function(value) {\\n                var str = JSON.stringify(value);\\n                if ((str == \\\"0\\\") && ([\\\"-0\\\", \\\"-0.\\\"].indexOf(stringified()) >= 0))\\n                     return;\\n                 if ([\\\"null\\\", \\\"\\\"].indexOf(str) >= 0)\\n                     return;\\n                stringified(str);\\n            });\\n            ko.applyBindingsToNode(\\n                element,\\n                {\\n                    value: stringified,\\n                    valueUpdate: allBindings.get('valueUpdate'),\\n                },\\n                context,\\n            );\\n        }\\n    };\\n    var json_data = {\\\"formatted_vals\\\":[\\\"0.0\\\",\\\"0.1\\\",\\\"0.2\\\",\\\"0.3\\\",\\\"0.4\\\",\\\"0.5\\\",\\\"0.6\\\",\\\"0.7\\\",\\\"0.8\\\",\\\"0.9\\\",\\\"1.0\\\",\\\"1.1\\\",\\\"1.2\\\",\\\"1.3\\\",\\\"1.4\\\",\\\"1.5\\\",\\\"1.6\\\",\\\"1.7\\\",\\\"1.8\\\",\\\"1.9\\\",\\\"2.0\\\",\\\"2.1\\\",\\\"2.2\\\",\\\"2.3\\\",\\\"2.4\\\",\\\"2.5\\\",\\\"2.6\\\",\\\"2.7\\\",\\\"2.8\\\",\\\"2.9\\\",\\\"3.0\\\",\\\"3.1\\\",\\\"3.2\\\",\\\"3.3\\\",\\\"3.4\\\",\\\"3.5\\\",\\\"3.6\\\",\\\"3.7\\\",\\\"3.8\\\",\\\"3.9\\\",\\\"4.0\\\"],\\\"changes\\\":WebIO.getval({\\\"name\\\":\\\"changes\\\",\\\"scope\\\":\\\"6149954681843629259\\\",\\\"id\\\":\\\"17561849814902470220\\\",\\\"type\\\":\\\"observable\\\"}),\\\"index\\\":WebIO.getval({\\\"name\\\":\\\"index\\\",\\\"scope\\\":\\\"6149954681843629259\\\",\\\"id\\\":\\\"3488407113793547914\\\",\\\"type\\\":\\\"observable\\\"})};\\n    var self = this;\\n    function AppViewModel() {\\n        for (var key in json_data) {\\n            var el = json_data[key];\\n            this[key] = Array.isArray(el) ? ko.observableArray(el) : ko.observable(el);\\n        }\\n        \\n        [this[\\\"formatted_val\\\"]=ko.computed(    function(){\\n        return this.formatted_vals()[parseInt(this.index())-(1)];\\n    }\\n,this)]\\n        [this[\\\"changes\\\"].subscribe((function (val){!(this.valueFromJulia[\\\"changes\\\"]) ? (WebIO.setval({\\\"name\\\":\\\"changes\\\",\\\"scope\\\":\\\"6149954681843629259\\\",\\\"id\\\":\\\"17561849814902470220\\\",\\\"type\\\":\\\"observable\\\"},val)) : undefined; return this.valueFromJulia[\\\"changes\\\"]=false}),self),this[\\\"index\\\"].subscribe((function (val){!(this.valueFromJulia[\\\"index\\\"]) ? (WebIO.setval({\\\"name\\\":\\\"index\\\",\\\"scope\\\":\\\"6149954681843629259\\\",\\\"id\\\":\\\"3488407113793547914\\\",\\\"type\\\":\\\"observable\\\"},val)) : undefined; return this.valueFromJulia[\\\"index\\\"]=false}),self)]\\n        \\n    }\\n    self.model = new AppViewModel();\\n    self.valueFromJulia = {};\\n    for (var key in json_data) {\\n        self.valueFromJulia[key] = false;\\n    }\\n    ko.applyBindings(self.model, self.dom);\\n}\\n);\\n    (WebIO.importBlock({\\\"data\\\":[{\\\"name\\\":\\\"knockout\\\",\\\"type\\\":\\\"js\\\",\\\"url\\\":\\\"\\/assetserver\\/c0689c4f2514def856941022372b529b3413f129-knockout.js\\\"},{\\\"name\\\":\\\"knockout_punches\\\",\\\"type\\\":\\\"js\\\",\\\"url\\\":\\\"\\/assetserver\\/69274bc4b68b761587a57ff3f5e787f3dd4781dc-knockout_punches.js\\\"}],\\\"type\\\":\\\"async_block\\\"})).then((imports) => handler.apply(this, imports));\\n}\\n\"],\"observables\":{\"changes\":{\"sync\":true,\"id\":\"17561849814902470220\",\"value\":0},\"index\":{\"sync\":true,\"id\":\"3488407113793547914\",\"value\":21}}},\"children\":[{\"props\":{\"className\":\"interact-flex-row interact-widget\",\"style\":{\"font-family\":\"monospace\",\"width\":\"80%\"}},\"nodeType\":\"DOM\",\"type\":\"node\",\"instanceArgs\":{\"namespace\":\"html\",\"tag\":\"div\"},\"children\":[{\"props\":{\"className\":\"interact-flex-row-left\"},\"nodeType\":\"DOM\",\"type\":\"node\",\"instanceArgs\":{\"namespace\":\"html\",\"tag\":\"div\"},\"children\":[{\"props\":{\"className\":\"interact \",\"style\":{\"padding\":\"5px 10px 0px 10px\",\"white-space\":\"nowrap\",\"color\":\"royalblue\"}},\"nodeType\":\"DOM\",\"type\":\"node\",\"instanceArgs\":{\"namespace\":\"html\",\"tag\":\"label\"},\"children\":[\"N\"]}]},{\"props\":{\"className\":\"interact-flex-row-center\"},\"nodeType\":\"DOM\",\"type\":\"node\",\"instanceArgs\":{\"namespace\":\"html\",\"tag\":\"div\"},\"children\":[{\"props\":{\"max\":41,\"min\":1,\"attributes\":{\"type\":\"range\",\"data-bind\":\"numericValue: index, valueUpdate: 'input', event: {change: function (){this.changes(this.changes()+1)}}\",\"orient\":\"horizontal\"},\"step\":1,\"className\":\"slider slider is-fullwidth\",\"style\":{}},\"nodeType\":\"DOM\",\"type\":\"node\",\"instanceArgs\":{\"namespace\":\"html\",\"tag\":\"input\"},\"children\":[]}]},{\"props\":{\"className\":\"interact-flex-row-right\"},\"nodeType\":\"DOM\",\"type\":\"node\",\"instanceArgs\":{\"namespace\":\"html\",\"tag\":\"div\"},\"children\":[{\"props\":{\"attributes\":{\"data-bind\":\"text: formatted_val\"}},\"nodeType\":\"DOM\",\"type\":\"node\",\"instanceArgs\":{\"namespace\":\"html\",\"tag\":\"p\"},\"children\":[]}]}]}]}]},{\"props\":{},\"nodeType\":\"Scope\",\"type\":\"node\",\"instanceArgs\":{\"imports\":{\"data\":[],\"type\":\"async_block\"},\"id\":\"5016058820435502746\",\"handlers\":{\"obs-output\":[\"function (value, scope) {\\n    scope.setInnerHTML(value);\\n}\\n\"]},\"systemjs_options\":null,\"mount_callbacks\":[],\"observables\":{\"obs-output\":{\"sync\":false,\"id\":\"15085605476355744770\",\"value\":\"<?xml version=\\\"1.0\\\" encoding=\\\"UTF-8\\\"?>\\n<svg xmlns=\\\"http:\\/\\/www.w3.org\\/2000\\/svg\\\"\\n     xmlns:xlink=\\\"http:\\/\\/www.w3.org\\/1999\\/xlink\\\"\\n     xmlns:gadfly=\\\"http:\\/\\/www.gadflyjl.org\\/ns\\\"\\n     version=\\\"1.2\\\"\\n     width=\\\"141.42mm\\\" height=\\\"100mm\\\" viewBox=\\\"0 0 141.42 100\\\"\\n     stroke=\\\"none\\\"\\n     fill=\\\"#000000\\\"\\n     stroke-width=\\\"0.3\\\"\\n     font-size=\\\"3.88\\\"\\n>\\n<defs>\\n  <marker id=\\\"arrow\\\" markerWidth=\\\"15\\\" markerHeight=\\\"7\\\" refX=\\\"5\\\" refY=\\\"3.5\\\" orient=\\\"auto\\\" markerUnits=\\\"strokeWidth\\\">\\n    <path d=\\\"M0,0 L15,3.5 L0,7 z\\\" stroke=\\\"context-stroke\\\" fill=\\\"context-stroke\\\"\\/>\\n  <\\/marker>\\n<\\/defs>\\n<g stroke=\\\"#000000\\\" stroke-opacity=\\\"0.000\\\" fill=\\\"#FFFFFF\\\" id=\\\"img-88a07996-1\\\">\\n  <g transform=\\\"translate(70.71,50)\\\">\\n    <path d=\\\"M-70.71,-50 L70.71,-50 70.71,50 -70.71,50  z\\\" class=\\\"primitive\\\"\\/>\\n  <\\/g>\\n<\\/g>\\n<g class=\\\"plotroot xscalable yscalable\\\" id=\\\"img-88a07996-2\\\">\\n  <g font-size=\\\"3.53\\\" font-family=\\\"'PT Sans','Helvetica Neue','Helvetica',sans-serif\\\" fill=\\\"#564A55\\\" stroke=\\\"#000000\\\" stroke-opacity=\\\"0.000\\\" id=\\\"img-88a07996-3\\\">\\n    <g transform=\\\"translate(63.14,93.72)\\\">\\n      <g class=\\\"primitive\\\">\\n        <text text-anchor=\\\"middle\\\" dy=\\\"0.6em\\\">T (°C)<\\/text>\\n      <\\/g>\\n    <\\/g>\\n  <\\/g>\\n  <g class=\\\"guide xlabels\\\" font-size=\\\"2.82\\\" font-family=\\\"'PT Sans Caption','Helvetica Neue','Helvetica',sans-serif\\\" fill=\\\"#6C606B\\\" id=\\\"img-88a07996-4\\\">\\n    <g transform=\\\"translate(19.63,87.04)\\\">\\n      <g class=\\\"primitive\\\">\\n        <text text-anchor=\\\"middle\\\" dy=\\\"0.6em\\\">0<\\/text>\\n      <\\/g>\\n    <\\/g>\\n    <g transform=\\\"translate(37.03,87.04)\\\">\\n      <g class=\\\"primitive\\\">\\n        <text text-anchor=\\\"middle\\\" dy=\\\"0.6em\\\">10<\\/text>\\n      <\\/g>\\n    <\\/g>\\n    <g transform=\\\"translate(54.43,87.04)\\\">\\n      <g class=\\\"primitive\\\">\\n        <text text-anchor=\\\"middle\\\" dy=\\\"0.6em\\\">20<\\/text>\\n      <\\/g>\\n    <\\/g>\\n    <g transform=\\\"translate(71.84,87.04)\\\">\\n      <g class=\\\"primitive\\\">\\n        <text text-anchor=\\\"middle\\\" dy=\\\"0.6em\\\">30<\\/text>\\n      <\\/g>\\n    <\\/g>\\n    <g transform=\\\"translate(89.24,87.04)\\\">\\n      <g class=\\\"primitive\\\">\\n        <text text-anchor=\\\"middle\\\" dy=\\\"0.6em\\\">40<\\/text>\\n      <\\/g>\\n    <\\/g>\\n    <g transform=\\\"translate(106.64,87.04)\\\">\\n      <g class=\\\"primitive\\\">\\n        <text text-anchor=\\\"middle\\\" dy=\\\"0.6em\\\">50<\\/text>\\n      <\\/g>\\n    <\\/g>\\n  <\\/g>\\n  <g class=\\\"guide colorkey\\\" id=\\\"img-88a07996-5\\\">\\n    <g fill=\\\"#4C404B\\\" font-size=\\\"2.82\\\" font-family=\\\"'PT Sans','Helvetica Neue','Helvetica',sans-serif\\\" id=\\\"img-88a07996-6\\\">\\n      <g transform=\\\"translate(113.27,44.12)\\\" id=\\\"img-88a07996-7\\\">\\n        <g class=\\\"primitive\\\">\\n          <text dy=\\\"0.35em\\\">1000 μmol mol⁻¹<\\/text>\\n        <\\/g>\\n      <\\/g>\\n      <g transform=\\\"translate(113.27,47.75)\\\" id=\\\"img-88a07996-8\\\">\\n        <g class=\\\"primitive\\\">\\n          <text dy=\\\"0.35em\\\">400 μmol mol⁻¹<\\/text>\\n        <\\/g>\\n      <\\/g>\\n      <g transform=\\\"translate(113.27,51.38)\\\" id=\\\"img-88a07996-9\\\">\\n        <g class=\\\"primitive\\\">\\n          <text dy=\\\"0.35em\\\">250 μmol mol⁻¹<\\/text>\\n        <\\/g>\\n      <\\/g>\\n    <\\/g>\\n    <g stroke-width=\\\"0.3\\\" id=\\\"img-88a07996-10\\\">\\n      <g stroke=\\\"#FFFFFF\\\" stroke-opacity=\\\"0.000\\\" fill-opacity=\\\"1\\\" fill=\\\"#FF6DAE\\\" id=\\\"img-88a07996-11\\\">\\n        <g transform=\\\"translate(110.45,51.38)\\\" id=\\\"img-88a07996-12\\\">\\n          <circle cx=\\\"0\\\" cy=\\\"0\\\" r=\\\"0.7\\\" class=\\\"primitive\\\"\\/>\\n        <\\/g>\\n      <\\/g>\\n      <g stroke=\\\"#FFFFFF\\\" stroke-opacity=\\\"0.000\\\" fill-opacity=\\\"1\\\" fill=\\\"#D4CA3A\\\" id=\\\"img-88a07996-13\\\">\\n        <g transform=\\\"translate(110.45,47.75)\\\" id=\\\"img-88a07996-14\\\">\\n          <circle cx=\\\"0\\\" cy=\\\"0\\\" r=\\\"0.7\\\" class=\\\"primitive\\\"\\/>\\n        <\\/g>\\n      <\\/g>\\n      <g stroke=\\\"#FFFFFF\\\" stroke-opacity=\\\"0.000\\\" fill-opacity=\\\"1\\\" fill=\\\"#00BFFF\\\" id=\\\"img-88a07996-15\\\">\\n        <g transform=\\\"translate(110.45,44.12)\\\" id=\\\"img-88a07996-16\\\">\\n          <circle cx=\\\"0\\\" cy=\\\"0\\\" r=\\\"0.7\\\" class=\\\"primitive\\\"\\/>\\n        <\\/g>\\n      <\\/g>\\n    <\\/g>\\n    <g fill=\\\"#362A35\\\" font-size=\\\"3.18\\\" font-family=\\\"'PT Sans','Helvetica Neue','Helvetica',sans-serif\\\" stroke=\\\"#000000\\\" stroke-opacity=\\\"0.000\\\" id=\\\"img-88a07996-17\\\">\\n      <g transform=\\\"translate(109.64,40.81)\\\" id=\\\"img-88a07996-18\\\">\\n        <g class=\\\"primitive\\\">\\n          <text dy=\\\"-0em\\\">CO2 (μmol mol⁻¹)<\\/text>\\n        <\\/g>\\n      <\\/g>\\n    <\\/g>\\n  <\\/g>\\n  <g clip-path=\\\"url(#img-88a07996-19)\\\">\\n    <g id=\\\"img-88a07996-20\\\">\\n      <g pointer-events=\\\"visible\\\" stroke-width=\\\"0.3\\\" fill=\\\"#000000\\\" fill-opacity=\\\"0.000\\\" stroke=\\\"#000000\\\" stroke-opacity=\\\"0.000\\\" class=\\\"guide background\\\" id=\\\"img-88a07996-21\\\">\\n        <g transform=\\\"translate(63.14,45.52)\\\" id=\\\"img-88a07996-22\\\">\\n          <path d=\\\"M-45.51,-40.52 L45.51,-40.52 45.51,40.52 -45.51,40.52  z\\\" class=\\\"primitive\\\"\\/>\\n        <\\/g>\\n      <\\/g>\\n      <g class=\\\"guide ygridlines xfixed\\\" stroke-dasharray=\\\"0.5,0.5\\\" stroke-width=\\\"0.2\\\" stroke=\\\"#D0D0E0\\\" id=\\\"img-88a07996-23\\\">\\n        <g transform=\\\"translate(63.14,84.04)\\\" id=\\\"img-88a07996-24\\\">\\n          <path fill=\\\"none\\\" d=\\\"M-45.51,0 L45.51,0 \\\" class=\\\"primitive\\\"\\/>\\n        <\\/g>\\n        <g transform=\\\"translate(63.14,68.63)\\\" id=\\\"img-88a07996-25\\\">\\n          <path fill=\\\"none\\\" d=\\\"M-45.51,0 L45.51,0 \\\" class=\\\"primitive\\\"\\/>\\n        <\\/g>\\n        <g transform=\\\"translate(63.14,53.23)\\\" id=\\\"img-88a07996-26\\\">\\n          <path fill=\\\"none\\\" d=\\\"M-45.51,0 L45.51,0 \\\" class=\\\"primitive\\\"\\/>\\n        <\\/g>\\n        <g transform=\\\"translate(63.14,37.82)\\\" id=\\\"img-88a07996-27\\\">\\n          <path fill=\\\"none\\\" d=\\\"M-45.51,0 L45.51,0 \\\" class=\\\"primitive\\\"\\/>\\n        <\\/g>\\n        <g transform=\\\"translate(63.14,22.41)\\\" id=\\\"img-88a07996-28\\\">\\n          <path fill=\\\"none\\\" d=\\\"M-45.51,0 L45.51,0 \\\" class=\\\"primitive\\\"\\/>\\n        <\\/g>\\n        <g transform=\\\"translate(63.14,7)\\\" id=\\\"img-88a07996-29\\\">\\n          <path fill=\\\"none\\\" d=\\\"M-45.51,0 L45.51,0 \\\" class=\\\"primitive\\\"\\/>\\n        <\\/g>\\n      <\\/g>\\n      <g class=\\\"guide xgridlines yfixed\\\" stroke-dasharray=\\\"0.5,0.5\\\" stroke-width=\\\"0.2\\\" stroke=\\\"#D0D0E0\\\" id=\\\"img-88a07996-30\\\">\\n        <g transform=\\\"translate(19.63,45.52)\\\" id=\\\"img-88a07996-31\\\">\\n          <path fill=\\\"none\\\" d=\\\"M0,-40.52 L0,40.52 \\\" class=\\\"primitive\\\"\\/>\\n        <\\/g>\\n        <g transform=\\\"translate(37.03,45.52)\\\" id=\\\"img-88a07996-32\\\">\\n          <path fill=\\\"none\\\" d=\\\"M0,-40.52 L0,40.52 \\\" class=\\\"primitive\\\"\\/>\\n        <\\/g>\\n        <g transform=\\\"translate(54.43,45.52)\\\" id=\\\"img-88a07996-33\\\">\\n          <path fill=\\\"none\\\" d=\\\"M0,-40.52 L0,40.52 \\\" class=\\\"primitive\\\"\\/>\\n        <\\/g>\\n        <g transform=\\\"translate(71.84,45.52)\\\" id=\\\"img-88a07996-34\\\">\\n          <path fill=\\\"none\\\" d=\\\"M0,-40.52 L0,40.52 \\\" class=\\\"primitive\\\"\\/>\\n        <\\/g>\\n        <g transform=\\\"translate(89.24,45.52)\\\" id=\\\"img-88a07996-35\\\">\\n          <path fill=\\\"none\\\" d=\\\"M0,-40.52 L0,40.52 \\\" class=\\\"primitive\\\"\\/>\\n        <\\/g>\\n        <g transform=\\\"translate(106.64,45.52)\\\" id=\\\"img-88a07996-36\\\">\\n          <path fill=\\\"none\\\" d=\\\"M0,-40.52 L0,40.52 \\\" class=\\\"primitive\\\"\\/>\\n        <\\/g>\\n      <\\/g>\\n      <g class=\\\"plotpanel\\\" id=\\\"img-88a07996-37\\\">\\n        <metadata>\\n          <boundingbox value=\\\"17.629999999999995mm 5.0mm 91.01135623730951mm 81.04333333333334mm\\\"\\/>\\n          <unitbox value=\\\"-1.1492752707734613 51.29797083892182 52.298550541546916 -52.59594167784364\\\"\\/>\\n        <\\/metadata>\\n        <g stroke-width=\\\"0.3\\\" fill=\\\"#000000\\\" fill-opacity=\\\"0.000\\\" class=\\\"geometry\\\" id=\\\"img-88a07996-38\\\">\\n          <g class=\\\"color_LCHab{Float32}(70.0f0,60.0f0,240.0f0)\\\" stroke-dasharray=\\\"none\\\" stroke=\\\"#00BFFF\\\" id=\\\"img-88a07996-39\\\">\\n            <g transform=\\\"translate(63.96,42.79)\\\" id=\\\"img-88a07996-40\\\">\\n              <path fill=\\\"none\\\" d=\\\"M-40.6,26.47 L-38.89,25.34 -37.18,24.14 -35.47,22.87 -33.77,21.52 -32.08,20.08 -30.4,18.55 -28.72,16.94 -27.05,15.23 -25.39,13.42 -23.74,11.51 -22.1,9.5 -20.47,7.38 -18.86,5.15 -17.25,2.94 -15.61,2.04 -13.98,1.14 -12.36,0.26 -10.74,-0.62 -9.13,-1.48 -7.52,-2.33 -5.92,-3.17 -4.33,-3.99 -2.75,-4.78 -1.17,-5.56 0.4,-6.31 1.97,-7.03 3.53,-7.73 5.09,-8.39 6.64,-9.01 8.18,-9.59 9.72,-10.13 11.26,-10.62 12.79,-11.05 14.33,-11.42 15.86,-11.72 17.39,-11.94 18.92,-12.07 20.45,-12.11 21.98,-12.02 23.52,-11.81 25.07,-11.45 26.63,-10.92 28.2,-10.19 29.79,-9.24 31.39,-8.03 33.03,-6.51 34.7,-4.65 36.42,-2.4 38.19,0.3 40.03,3.51 \\\" class=\\\"primitive\\\"\\/>\\n            <\\/g>\\n          <\\/g>\\n        <\\/g>\\n        <g stroke-width=\\\"0.3\\\" fill=\\\"#000000\\\" fill-opacity=\\\"0.000\\\" class=\\\"geometry\\\" id=\\\"img-88a07996-41\\\">\\n          <g class=\\\"color_LCHab{Float32}(80.0f0,70.000015f0,100.43479f0)\\\" stroke-dasharray=\\\"none\\\" stroke=\\\"#D4CA3A\\\" id=\\\"img-88a07996-42\\\">\\n            <g transform=\\\"translate(62.82,54.96)\\\" id=\\\"img-88a07996-43\\\">\\n              <path fill=\\\"none\\\" d=\\\"M-39.75,14.48 L-38.07,13.39 -36.41,12.24 -34.76,11.02 -33.11,9.73 -31.48,8.37 -29.87,6.94 -28.26,5.43 -26.67,3.84 -25.1,2.18 -23.54,0.43 -21.99,-1.4 -20.41,-2.23 -18.81,-2.76 -17.23,-3.28 -15.65,-3.77 -14.08,-4.25 -12.51,-4.69 -10.95,-5.11 -9.39,-5.51 -7.84,-5.87 -6.29,-6.2 -4.75,-6.49 -3.21,-6.75 -1.68,-6.98 -0.15,-7.16 1.38,-7.31 2.91,-7.41 4.44,-7.47 5.97,-7.47 7.49,-7.43 9.02,-7.34 10.55,-7.18 12.08,-6.97 13.66,-6.26 15.25,-5.48 16.85,-4.63 18.46,-3.71 20.08,-2.73 21.71,-1.69 23.36,-0.59 25.02,0.57 26.69,1.78 28.39,3.05 30.1,4.38 31.84,5.76 33.61,7.2 35.4,8.69 37.24,10.24 39.12,11.86 41.32,14.55 \\\" class=\\\"primitive\\\"\\/>\\n            <\\/g>\\n          <\\/g>\\n        <\\/g>\\n        <g stroke-width=\\\"0.3\\\" fill=\\\"#000000\\\" fill-opacity=\\\"0.000\\\" class=\\\"geometry\\\" id=\\\"img-88a07996-44\\\">\\n          <g class=\\\"color_LCHab{Float32}(65.89944f0,62.21457f0,353.99814f0)\\\" stroke-dasharray=\\\"none\\\" stroke=\\\"#FF6DAE\\\" id=\\\"img-88a07996-45\\\">\\n            <g transform=\\\"translate(63.57,66.08)\\\" id=\\\"img-88a07996-46\\\">\\n              <path fill=\\\"none\\\" d=\\\"M-40.77,3.51 L-39.13,2.46 -37.5,1.35 -35.89,0.18 -34.29,-1.06 -32.7,-2.36 -31.09,-3.04 -29.49,-3.67 -27.89,-4.26 -26.29,-4.81 -24.71,-5.31 -23.12,-5.77 -21.54,-6.17 -19.97,-6.52 -18.39,-6.82 -16.82,-7.06 -15.25,-7.24 -13.68,-7.36 -12.12,-7.41 -10.55,-7.41 -8.98,-7.34 -7.41,-7.22 -5.83,-7.03 -4.25,-6.78 -2.67,-6.47 -1.08,-6.1 0.51,-5.67 2.11,-5.19 3.72,-4.65 5.34,-4.05 6.96,-3.4 8.6,-2.7 10.26,-1.95 11.92,-1.14 13.61,-0.29 15.31,0.62 17.04,1.57 18.79,2.58 20.57,3.63 22.39,4.74 24.25,5.9 26.16,7.12 28.13,8.4 30.18,9.74 32.33,11.15 34.6,12.61 36.99,14.07 39.45,15.4 41.83,16.41 44.04,17.07 46.3,17.7 \\\" class=\\\"primitive\\\"\\/>\\n            <\\/g>\\n          <\\/g>\\n        <\\/g>\\n      <\\/g>\\n    <\\/g>\\n  <\\/g>\\n  <g class=\\\"guide ylabels\\\" font-size=\\\"2.82\\\" font-family=\\\"'PT Sans Caption','Helvetica Neue','Helvetica',sans-serif\\\" fill=\\\"#6C606B\\\" id=\\\"img-88a07996-47\\\">\\n    <g transform=\\\"translate(16.63,84.04)\\\" id=\\\"img-88a07996-48\\\">\\n      <g class=\\\"primitive\\\">\\n        <text text-anchor=\\\"end\\\" dy=\\\"0.35em\\\">0<\\/text>\\n      <\\/g>\\n    <\\/g>\\n    <g transform=\\\"translate(16.63,68.63)\\\" id=\\\"img-88a07996-49\\\">\\n      <g class=\\\"primitive\\\">\\n        <text text-anchor=\\\"end\\\" dy=\\\"0.35em\\\">10<\\/text>\\n      <\\/g>\\n    <\\/g>\\n    <g transform=\\\"translate(16.63,53.23)\\\" id=\\\"img-88a07996-50\\\">\\n      <g class=\\\"primitive\\\">\\n        <text text-anchor=\\\"end\\\" dy=\\\"0.35em\\\">20<\\/text>\\n      <\\/g>\\n    <\\/g>\\n    <g transform=\\\"translate(16.63,37.82)\\\" id=\\\"img-88a07996-51\\\">\\n      <g class=\\\"primitive\\\">\\n        <text text-anchor=\\\"end\\\" dy=\\\"0.35em\\\">30<\\/text>\\n      <\\/g>\\n    <\\/g>\\n    <g transform=\\\"translate(16.63,22.41)\\\" id=\\\"img-88a07996-52\\\">\\n      <g class=\\\"primitive\\\">\\n        <text text-anchor=\\\"end\\\" dy=\\\"0.35em\\\">40<\\/text>\\n      <\\/g>\\n    <\\/g>\\n    <g transform=\\\"translate(16.63,7)\\\" id=\\\"img-88a07996-53\\\">\\n      <g class=\\\"primitive\\\">\\n        <text text-anchor=\\\"end\\\" dy=\\\"0.35em\\\">50<\\/text>\\n      <\\/g>\\n    <\\/g>\\n  <\\/g>\\n  <g font-size=\\\"3.53\\\" font-family=\\\"'PT Sans','Helvetica Neue','Helvetica',sans-serif\\\" fill=\\\"#564A55\\\" stroke=\\\"#000000\\\" stroke-opacity=\\\"0.000\\\" id=\\\"img-88a07996-54\\\">\\n    <g transform=\\\"translate(8.64,43.52)\\\" id=\\\"img-88a07996-55\\\">\\n      <g class=\\\"primitive\\\">\\n        <text text-anchor=\\\"middle\\\" dy=\\\"0.35em\\\" transform=\\\"rotate(-90,0, 2)\\\">A_net (μmol m⁻² s⁻¹)<\\/text>\\n      <\\/g>\\n    <\\/g>\\n  <\\/g>\\n<\\/g>\\n<defs>\\n  <clipPath id=\\\"img-88a07996-19\\\">\\n    <path d=\\\"M17.63,5 L108.64,5 108.64,86.04 17.63,86.04 \\\" \\/>\\n  <\\/clipPath>\\n<\\/defs>\\n<\\/svg>\\n\"}}},\"children\":[{\"props\":{\"className\":\"webio-observable\",\"setInnerHtml\":\"<?xml version=\\\"1.0\\\" encoding=\\\"UTF-8\\\"?>\\n<svg xmlns=\\\"http:\\/\\/www.w3.org\\/2000\\/svg\\\"\\n     xmlns:xlink=\\\"http:\\/\\/www.w3.org\\/1999\\/xlink\\\"\\n     xmlns:gadfly=\\\"http:\\/\\/www.gadflyjl.org\\/ns\\\"\\n     version=\\\"1.2\\\"\\n     width=\\\"141.42mm\\\" height=\\\"100mm\\\" viewBox=\\\"0 0 141.42 100\\\"\\n     stroke=\\\"none\\\"\\n     fill=\\\"#000000\\\"\\n     stroke-width=\\\"0.3\\\"\\n     font-size=\\\"3.88\\\"\\n>\\n<defs>\\n  <marker id=\\\"arrow\\\" markerWidth=\\\"15\\\" markerHeight=\\\"7\\\" refX=\\\"5\\\" refY=\\\"3.5\\\" orient=\\\"auto\\\" markerUnits=\\\"strokeWidth\\\">\\n    <path d=\\\"M0,0 L15,3.5 L0,7 z\\\" stroke=\\\"context-stroke\\\" fill=\\\"context-stroke\\\"\\/>\\n  <\\/marker>\\n<\\/defs>\\n<g stroke=\\\"#000000\\\" stroke-opacity=\\\"0.000\\\" fill=\\\"#FFFFFF\\\" id=\\\"img-88a07996-1\\\">\\n  <g transform=\\\"translate(70.71,50)\\\">\\n    <path d=\\\"M-70.71,-50 L70.71,-50 70.71,50 -70.71,50  z\\\" class=\\\"primitive\\\"\\/>\\n  <\\/g>\\n<\\/g>\\n<g class=\\\"plotroot xscalable yscalable\\\" id=\\\"img-88a07996-2\\\">\\n  <g font-size=\\\"3.53\\\" font-family=\\\"'PT Sans','Helvetica Neue','Helvetica',sans-serif\\\" fill=\\\"#564A55\\\" stroke=\\\"#000000\\\" stroke-opacity=\\\"0.000\\\" id=\\\"img-88a07996-3\\\">\\n    <g transform=\\\"translate(63.14,93.72)\\\">\\n      <g class=\\\"primitive\\\">\\n        <text text-anchor=\\\"middle\\\" dy=\\\"0.6em\\\">T (°C)<\\/text>\\n      <\\/g>\\n    <\\/g>\\n  <\\/g>\\n  <g class=\\\"guide xlabels\\\" font-size=\\\"2.82\\\" font-family=\\\"'PT Sans Caption','Helvetica Neue','Helvetica',sans-serif\\\" fill=\\\"#6C606B\\\" id=\\\"img-88a07996-4\\\">\\n    <g transform=\\\"translate(19.63,87.04)\\\">\\n      <g class=\\\"primitive\\\">\\n        <text text-anchor=\\\"middle\\\" dy=\\\"0.6em\\\">0<\\/text>\\n      <\\/g>\\n    <\\/g>\\n    <g transform=\\\"translate(37.03,87.04)\\\">\\n      <g class=\\\"primitive\\\">\\n        <text text-anchor=\\\"middle\\\" dy=\\\"0.6em\\\">10<\\/text>\\n      <\\/g>\\n    <\\/g>\\n    <g transform=\\\"translate(54.43,87.04)\\\">\\n      <g class=\\\"primitive\\\">\\n        <text text-anchor=\\\"middle\\\" dy=\\\"0.6em\\\">20<\\/text>\\n      <\\/g>\\n    <\\/g>\\n    <g transform=\\\"translate(71.84,87.04)\\\">\\n      <g class=\\\"primitive\\\">\\n        <text text-anchor=\\\"middle\\\" dy=\\\"0.6em\\\">30<\\/text>\\n      <\\/g>\\n    <\\/g>\\n    <g transform=\\\"translate(89.24,87.04)\\\">\\n      <g class=\\\"primitive\\\">\\n        <text text-anchor=\\\"middle\\\" dy=\\\"0.6em\\\">40<\\/text>\\n      <\\/g>\\n    <\\/g>\\n    <g transform=\\\"translate(106.64,87.04)\\\">\\n      <g class=\\\"primitive\\\">\\n        <text text-anchor=\\\"middle\\\" dy=\\\"0.6em\\\">50<\\/text>\\n      <\\/g>\\n    <\\/g>\\n  <\\/g>\\n  <g class=\\\"guide colorkey\\\" id=\\\"img-88a07996-5\\\">\\n    <g fill=\\\"#4C404B\\\" font-size=\\\"2.82\\\" font-family=\\\"'PT Sans','Helvetica Neue','Helvetica',sans-serif\\\" id=\\\"img-88a07996-6\\\">\\n      <g transform=\\\"translate(113.27,44.12)\\\" id=\\\"img-88a07996-7\\\">\\n        <g class=\\\"primitive\\\">\\n          <text dy=\\\"0.35em\\\">1000 μmol mol⁻¹<\\/text>\\n        <\\/g>\\n      <\\/g>\\n      <g transform=\\\"translate(113.27,47.75)\\\" id=\\\"img-88a07996-8\\\">\\n        <g class=\\\"primitive\\\">\\n          <text dy=\\\"0.35em\\\">400 μmol mol⁻¹<\\/text>\\n        <\\/g>\\n      <\\/g>\\n      <g transform=\\\"translate(113.27,51.38)\\\" id=\\\"img-88a07996-9\\\">\\n        <g class=\\\"primitive\\\">\\n          <text dy=\\\"0.35em\\\">250 μmol mol⁻¹<\\/text>\\n        <\\/g>\\n      <\\/g>\\n    <\\/g>\\n    <g stroke-width=\\\"0.3\\\" id=\\\"img-88a07996-10\\\">\\n      <g stroke=\\\"#FFFFFF\\\" stroke-opacity=\\\"0.000\\\" fill-opacity=\\\"1\\\" fill=\\\"#FF6DAE\\\" id=\\\"img-88a07996-11\\\">\\n        <g transform=\\\"translate(110.45,51.38)\\\" id=\\\"img-88a07996-12\\\">\\n          <circle cx=\\\"0\\\" cy=\\\"0\\\" r=\\\"0.7\\\" class=\\\"primitive\\\"\\/>\\n        <\\/g>\\n      <\\/g>\\n      <g stroke=\\\"#FFFFFF\\\" stroke-opacity=\\\"0.000\\\" fill-opacity=\\\"1\\\" fill=\\\"#D4CA3A\\\" id=\\\"img-88a07996-13\\\">\\n        <g transform=\\\"translate(110.45,47.75)\\\" id=\\\"img-88a07996-14\\\">\\n          <circle cx=\\\"0\\\" cy=\\\"0\\\" r=\\\"0.7\\\" class=\\\"primitive\\\"\\/>\\n        <\\/g>\\n      <\\/g>\\n      <g stroke=\\\"#FFFFFF\\\" stroke-opacity=\\\"0.000\\\" fill-opacity=\\\"1\\\" fill=\\\"#00BFFF\\\" id=\\\"img-88a07996-15\\\">\\n        <g transform=\\\"translate(110.45,44.12)\\\" id=\\\"img-88a07996-16\\\">\\n          <circle cx=\\\"0\\\" cy=\\\"0\\\" r=\\\"0.7\\\" class=\\\"primitive\\\"\\/>\\n        <\\/g>\\n      <\\/g>\\n    <\\/g>\\n    <g fill=\\\"#362A35\\\" font-size=\\\"3.18\\\" font-family=\\\"'PT Sans','Helvetica Neue','Helvetica',sans-serif\\\" stroke=\\\"#000000\\\" stroke-opacity=\\\"0.000\\\" id=\\\"img-88a07996-17\\\">\\n      <g transform=\\\"translate(109.64,40.81)\\\" id=\\\"img-88a07996-18\\\">\\n        <g class=\\\"primitive\\\">\\n          <text dy=\\\"-0em\\\">CO2 (μmol mol⁻¹)<\\/text>\\n        <\\/g>\\n      <\\/g>\\n    <\\/g>\\n  <\\/g>\\n  <g clip-path=\\\"url(#img-88a07996-19)\\\">\\n    <g id=\\\"img-88a07996-20\\\">\\n      <g pointer-events=\\\"visible\\\" stroke-width=\\\"0.3\\\" fill=\\\"#000000\\\" fill-opacity=\\\"0.000\\\" stroke=\\\"#000000\\\" stroke-opacity=\\\"0.000\\\" class=\\\"guide background\\\" id=\\\"img-88a07996-21\\\">\\n        <g transform=\\\"translate(63.14,45.52)\\\" id=\\\"img-88a07996-22\\\">\\n          <path d=\\\"M-45.51,-40.52 L45.51,-40.52 45.51,40.52 -45.51,40.52  z\\\" class=\\\"primitive\\\"\\/>\\n        <\\/g>\\n      <\\/g>\\n      <g class=\\\"guide ygridlines xfixed\\\" stroke-dasharray=\\\"0.5,0.5\\\" stroke-width=\\\"0.2\\\" stroke=\\\"#D0D0E0\\\" id=\\\"img-88a07996-23\\\">\\n        <g transform=\\\"translate(63.14,84.04)\\\" id=\\\"img-88a07996-24\\\">\\n          <path fill=\\\"none\\\" d=\\\"M-45.51,0 L45.51,0 \\\" class=\\\"primitive\\\"\\/>\\n        <\\/g>\\n        <g transform=\\\"translate(63.14,68.63)\\\" id=\\\"img-88a07996-25\\\">\\n          <path fill=\\\"none\\\" d=\\\"M-45.51,0 L45.51,0 \\\" class=\\\"primitive\\\"\\/>\\n        <\\/g>\\n        <g transform=\\\"translate(63.14,53.23)\\\" id=\\\"img-88a07996-26\\\">\\n          <path fill=\\\"none\\\" d=\\\"M-45.51,0 L45.51,0 \\\" class=\\\"primitive\\\"\\/>\\n        <\\/g>\\n        <g transform=\\\"translate(63.14,37.82)\\\" id=\\\"img-88a07996-27\\\">\\n          <path fill=\\\"none\\\" d=\\\"M-45.51,0 L45.51,0 \\\" class=\\\"primitive\\\"\\/>\\n        <\\/g>\\n        <g transform=\\\"translate(63.14,22.41)\\\" id=\\\"img-88a07996-28\\\">\\n          <path fill=\\\"none\\\" d=\\\"M-45.51,0 L45.51,0 \\\" class=\\\"primitive\\\"\\/>\\n        <\\/g>\\n        <g transform=\\\"translate(63.14,7)\\\" id=\\\"img-88a07996-29\\\">\\n          <path fill=\\\"none\\\" d=\\\"M-45.51,0 L45.51,0 \\\" class=\\\"primitive\\\"\\/>\\n        <\\/g>\\n      <\\/g>\\n      <g class=\\\"guide xgridlines yfixed\\\" stroke-dasharray=\\\"0.5,0.5\\\" stroke-width=\\\"0.2\\\" stroke=\\\"#D0D0E0\\\" id=\\\"img-88a07996-30\\\">\\n        <g transform=\\\"translate(19.63,45.52)\\\" id=\\\"img-88a07996-31\\\">\\n          <path fill=\\\"none\\\" d=\\\"M0,-40.52 L0,40.52 \\\" class=\\\"primitive\\\"\\/>\\n        <\\/g>\\n        <g transform=\\\"translate(37.03,45.52)\\\" id=\\\"img-88a07996-32\\\">\\n          <path fill=\\\"none\\\" d=\\\"M0,-40.52 L0,40.52 \\\" class=\\\"primitive\\\"\\/>\\n        <\\/g>\\n        <g transform=\\\"translate(54.43,45.52)\\\" id=\\\"img-88a07996-33\\\">\\n          <path fill=\\\"none\\\" d=\\\"M0,-40.52 L0,40.52 \\\" class=\\\"primitive\\\"\\/>\\n        <\\/g>\\n        <g transform=\\\"translate(71.84,45.52)\\\" id=\\\"img-88a07996-34\\\">\\n          <path fill=\\\"none\\\" d=\\\"M0,-40.52 L0,40.52 \\\" class=\\\"primitive\\\"\\/>\\n        <\\/g>\\n        <g transform=\\\"translate(89.24,45.52)\\\" id=\\\"img-88a07996-35\\\">\\n          <path fill=\\\"none\\\" d=\\\"M0,-40.52 L0,40.52 \\\" class=\\\"primitive\\\"\\/>\\n        <\\/g>\\n        <g transform=\\\"translate(106.64,45.52)\\\" id=\\\"img-88a07996-36\\\">\\n          <path fill=\\\"none\\\" d=\\\"M0,-40.52 L0,40.52 \\\" class=\\\"primitive\\\"\\/>\\n        <\\/g>\\n      <\\/g>\\n      <g class=\\\"plotpanel\\\" id=\\\"img-88a07996-37\\\">\\n        <metadata>\\n          <boundingbox value=\\\"17.629999999999995mm 5.0mm 91.01135623730951mm 81.04333333333334mm\\\"\\/>\\n          <unitbox value=\\\"-1.1492752707734613 51.29797083892182 52.298550541546916 -52.59594167784364\\\"\\/>\\n        <\\/metadata>\\n        <g stroke-width=\\\"0.3\\\" fill=\\\"#000000\\\" fill-opacity=\\\"0.000\\\" class=\\\"geometry\\\" id=\\\"img-88a07996-38\\\">\\n          <g class=\\\"color_LCHab{Float32}(70.0f0,60.0f0,240.0f0)\\\" stroke-dasharray=\\\"none\\\" stroke=\\\"#00BFFF\\\" id=\\\"img-88a07996-39\\\">\\n            <g transform=\\\"translate(63.96,42.79)\\\" id=\\\"img-88a07996-40\\\">\\n              <path fill=\\\"none\\\" d=\\\"M-40.6,26.47 L-38.89,25.34 -37.18,24.14 -35.47,22.87 -33.77,21.52 -32.08,20.08 -30.4,18.55 -28.72,16.94 -27.05,15.23 -25.39,13.42 -23.74,11.51 -22.1,9.5 -20.47,7.38 -18.86,5.15 -17.25,2.94 -15.61,2.04 -13.98,1.14 -12.36,0.26 -10.74,-0.62 -9.13,-1.48 -7.52,-2.33 -5.92,-3.17 -4.33,-3.99 -2.75,-4.78 -1.17,-5.56 0.4,-6.31 1.97,-7.03 3.53,-7.73 5.09,-8.39 6.64,-9.01 8.18,-9.59 9.72,-10.13 11.26,-10.62 12.79,-11.05 14.33,-11.42 15.86,-11.72 17.39,-11.94 18.92,-12.07 20.45,-12.11 21.98,-12.02 23.52,-11.81 25.07,-11.45 26.63,-10.92 28.2,-10.19 29.79,-9.24 31.39,-8.03 33.03,-6.51 34.7,-4.65 36.42,-2.4 38.19,0.3 40.03,3.51 \\\" class=\\\"primitive\\\"\\/>\\n            <\\/g>\\n          <\\/g>\\n        <\\/g>\\n        <g stroke-width=\\\"0.3\\\" fill=\\\"#000000\\\" fill-opacity=\\\"0.000\\\" class=\\\"geometry\\\" id=\\\"img-88a07996-41\\\">\\n          <g class=\\\"color_LCHab{Float32}(80.0f0,70.000015f0,100.43479f0)\\\" stroke-dasharray=\\\"none\\\" stroke=\\\"#D4CA3A\\\" id=\\\"img-88a07996-42\\\">\\n            <g transform=\\\"translate(62.82,54.96)\\\" id=\\\"img-88a07996-43\\\">\\n              <path fill=\\\"none\\\" d=\\\"M-39.75,14.48 L-38.07,13.39 -36.41,12.24 -34.76,11.02 -33.11,9.73 -31.48,8.37 -29.87,6.94 -28.26,5.43 -26.67,3.84 -25.1,2.18 -23.54,0.43 -21.99,-1.4 -20.41,-2.23 -18.81,-2.76 -17.23,-3.28 -15.65,-3.77 -14.08,-4.25 -12.51,-4.69 -10.95,-5.11 -9.39,-5.51 -7.84,-5.87 -6.29,-6.2 -4.75,-6.49 -3.21,-6.75 -1.68,-6.98 -0.15,-7.16 1.38,-7.31 2.91,-7.41 4.44,-7.47 5.97,-7.47 7.49,-7.43 9.02,-7.34 10.55,-7.18 12.08,-6.97 13.66,-6.26 15.25,-5.48 16.85,-4.63 18.46,-3.71 20.08,-2.73 21.71,-1.69 23.36,-0.59 25.02,0.57 26.69,1.78 28.39,3.05 30.1,4.38 31.84,5.76 33.61,7.2 35.4,8.69 37.24,10.24 39.12,11.86 41.32,14.55 \\\" class=\\\"primitive\\\"\\/>\\n            <\\/g>\\n          <\\/g>\\n        <\\/g>\\n        <g stroke-width=\\\"0.3\\\" fill=\\\"#000000\\\" fill-opacity=\\\"0.000\\\" class=\\\"geometry\\\" id=\\\"img-88a07996-44\\\">\\n          <g class=\\\"color_LCHab{Float32}(65.89944f0,62.21457f0,353.99814f0)\\\" stroke-dasharray=\\\"none\\\" stroke=\\\"#FF6DAE\\\" id=\\\"img-88a07996-45\\\">\\n            <g transform=\\\"translate(63.57,66.08)\\\" id=\\\"img-88a07996-46\\\">\\n              <path fill=\\\"none\\\" d=\\\"M-40.77,3.51 L-39.13,2.46 -37.5,1.35 -35.89,0.18 -34.29,-1.06 -32.7,-2.36 -31.09,-3.04 -29.49,-3.67 -27.89,-4.26 -26.29,-4.81 -24.71,-5.31 -23.12,-5.77 -21.54,-6.17 -19.97,-6.52 -18.39,-6.82 -16.82,-7.06 -15.25,-7.24 -13.68,-7.36 -12.12,-7.41 -10.55,-7.41 -8.98,-7.34 -7.41,-7.22 -5.83,-7.03 -4.25,-6.78 -2.67,-6.47 -1.08,-6.1 0.51,-5.67 2.11,-5.19 3.72,-4.65 5.34,-4.05 6.96,-3.4 8.6,-2.7 10.26,-1.95 11.92,-1.14 13.61,-0.29 15.31,0.62 17.04,1.57 18.79,2.58 20.57,3.63 22.39,4.74 24.25,5.9 26.16,7.12 28.13,8.4 30.18,9.74 32.33,11.15 34.6,12.61 36.99,14.07 39.45,15.4 41.83,16.41 44.04,17.07 46.3,17.7 \\\" class=\\\"primitive\\\"\\/>\\n            <\\/g>\\n          <\\/g>\\n        <\\/g>\\n      <\\/g>\\n    <\\/g>\\n  <\\/g>\\n  <g class=\\\"guide ylabels\\\" font-size=\\\"2.82\\\" font-family=\\\"'PT Sans Caption','Helvetica Neue','Helvetica',sans-serif\\\" fill=\\\"#6C606B\\\" id=\\\"img-88a07996-47\\\">\\n    <g transform=\\\"translate(16.63,84.04)\\\" id=\\\"img-88a07996-48\\\">\\n      <g class=\\\"primitive\\\">\\n        <text text-anchor=\\\"end\\\" dy=\\\"0.35em\\\">0<\\/text>\\n      <\\/g>\\n    <\\/g>\\n    <g transform=\\\"translate(16.63,68.63)\\\" id=\\\"img-88a07996-49\\\">\\n      <g class=\\\"primitive\\\">\\n        <text text-anchor=\\\"end\\\" dy=\\\"0.35em\\\">10<\\/text>\\n      <\\/g>\\n    <\\/g>\\n    <g transform=\\\"translate(16.63,53.23)\\\" id=\\\"img-88a07996-50\\\">\\n      <g class=\\\"primitive\\\">\\n        <text text-anchor=\\\"end\\\" dy=\\\"0.35em\\\">20<\\/text>\\n      <\\/g>\\n    <\\/g>\\n    <g transform=\\\"translate(16.63,37.82)\\\" id=\\\"img-88a07996-51\\\">\\n      <g class=\\\"primitive\\\">\\n        <text text-anchor=\\\"end\\\" dy=\\\"0.35em\\\">30<\\/text>\\n      <\\/g>\\n    <\\/g>\\n    <g transform=\\\"translate(16.63,22.41)\\\" id=\\\"img-88a07996-52\\\">\\n      <g class=\\\"primitive\\\">\\n        <text text-anchor=\\\"end\\\" dy=\\\"0.35em\\\">40<\\/text>\\n      <\\/g>\\n    <\\/g>\\n    <g transform=\\\"translate(16.63,7)\\\" id=\\\"img-88a07996-53\\\">\\n      <g class=\\\"primitive\\\">\\n        <text text-anchor=\\\"end\\\" dy=\\\"0.35em\\\">50<\\/text>\\n      <\\/g>\\n    <\\/g>\\n  <\\/g>\\n  <g font-size=\\\"3.53\\\" font-family=\\\"'PT Sans','Helvetica Neue','Helvetica',sans-serif\\\" fill=\\\"#564A55\\\" stroke=\\\"#000000\\\" stroke-opacity=\\\"0.000\\\" id=\\\"img-88a07996-54\\\">\\n    <g transform=\\\"translate(8.64,43.52)\\\" id=\\\"img-88a07996-55\\\">\\n      <g class=\\\"primitive\\\">\\n        <text text-anchor=\\\"middle\\\" dy=\\\"0.35em\\\" transform=\\\"rotate(-90,0, 2)\\\">A_net (μmol m⁻² s⁻¹)<\\/text>\\n      <\\/g>\\n    <\\/g>\\n  <\\/g>\\n<\\/g>\\n<defs>\\n  <clipPath id=\\\"img-88a07996-19\\\">\\n    <path d=\\\"M17.63,5 L108.64,5 108.64,86.04 17.63,86.04 \\\" \\/>\\n  <\\/clipPath>\\n<\\/defs>\\n<\\/svg>\\n\"},\"nodeType\":\"DOM\",\"type\":\"node\",\"instanceArgs\":{\"namespace\":\"html\",\"tag\":\"div\"},\"children\":[]}]}]},\n",
       "        window,\n",
       "    );\n",
       "    })()\n",
       "    </script>\n",
       "</div>\n"
      ],
      "text/plain": [
       "WebIO.Node{WebIO.DOM}(WebIO.DOM(:html, :div), Any[WebIO.Node{WebIO.DOM}(WebIO.DOM(:html, :div), Any[\"StomataTuzet\"], Dict{Symbol, Any}(:style => Dict{String, Any}(\"color\" => :rebeccapurple, \"font-family\" => \"monospace\"))), WebIO.Node{WebIO.DOM}(WebIO.DOM(:html, :div), Any[WebIO.Scope(WebIO.Node{WebIO.DOM}(WebIO.DOM(:html, :div), Any[WebIO.Node{WebIO.DOM}(WebIO.DOM(:html, :div), Any[WebIO.Node{WebIO.DOM}(WebIO.DOM(:html, :label), Any[\"WP_leaf\"], Dict{Symbol, Any}(:className => \"interact \", :style => Dict{Any, Any}(:padding => \"5px 10px 0px 10px\", \"white-space\" => :nowrap, \"color\" => :royalblue)))], Dict{Symbol, Any}(:className => \"interact-flex-row-left\")), WebIO.Node{WebIO.DOM}(WebIO.DOM(:html, :div), Any[WebIO.Node{WebIO.DOM}(WebIO.DOM(:html, :input), Any[], Dict{Symbol, Any}(:max => 31, :min => 1, :attributes => Dict{Any, Any}(:type => \"range\", Symbol(\"data-bind\") => \"numericValue: index, valueUpdate: 'input', event: {change: function (){this.changes(this.changes()+1)}}\", \"orient\" => \"horizontal\"), :step => 1, :className => \"slider slider is-fullwidth\", :style => Dict{Any, Any}()))], Dict{Symbol, Any}(:className => \"interact-flex-row-center\")), WebIO.Node{WebIO.DOM}(WebIO.DOM(:html, :div), Any[WebIO.Node{WebIO.DOM}(WebIO.DOM(:html, :p), Any[], Dict{Symbol, Any}(:attributes => Dict(\"data-bind\" => \"text: formatted_val\")))], Dict{Symbol, Any}(:className => \"interact-flex-row-right\"))], Dict{Symbol, Any}(:className => \"interact-flex-row interact-widget\", :style => Dict(\"font-family\" => \"monospace\", \"width\" => \"80%\"))), Dict{String, Tuple{Observables.AbstractObservable, Union{Nothing, Bool}}}(\"changes\" => (Observable(0), nothing), \"index\" => (Observable{Any}(26), nothing)), Set{String}(), nothing, WebIO.Asset[WebIO.Asset(\"js\", \"knockout\", \"/Users/soohkim/.julia/packages/Knockout/HReiN/src/../assets/knockout.js\"), WebIO.Asset(\"js\", \"knockout_punches\", \"/Users/soohkim/.julia/packages/Knockout/HReiN/src/../assets/knockout_punches.js\"), WebIO.Asset(\"js\", nothing, \"/Users/soohkim/.julia/packages/InteractBase/Qhvxg/src/../assets/all.js\"), WebIO.Asset(\"css\", nothing, \"/Users/soohkim/.julia/packages/InteractBase/Qhvxg/src/../assets/style.css\"), WebIO.Asset(\"css\", nothing, \"/Users/soohkim/.julia/packages/Interact/PENUy/src/../assets/bulma_confined.min.css\")], Dict{Any, Any}(\"changes\" => Any[WebIO.JSString(\"(function (val){return (val!=this.model[\\\"changes\\\"]()) ? (this.valueFromJulia[\\\"changes\\\"]=true, this.model[\\\"changes\\\"](val)) : undefined})\")], \"index\" => Any[WebIO.JSString(\"(function (val){return (val!=this.model[\\\"index\\\"]()) ? (this.valueFromJulia[\\\"index\\\"]=true, this.model[\\\"index\\\"](val)) : undefined})\")]), WebIO.ConnectionPool(Channel{Any}(32), Set{WebIO.AbstractConnection}(), Condition(Base.InvasiveLinkedList{Task}(Task (runnable) @0x000000016b018940, Task (runnable) @0x000000016b018940), Base.AlwaysLockedST(1))), WebIO.JSString[WebIO.JSString(\"function () {\\n    var handler = (function (ko, koPunches) {\\n    ko.punches.enableAll();\\n    ko.bindingHandlers.numericValue = {\\n        init: function(element, valueAccessor, allBindings, data, context) {\\n            var stringified = ko.observable(ko.unwrap(valueAccessor()));\\n            stringified.subscribe(function(value) {\\n                var val = parseFloat(value);\\n                if (!isNaN(val)) {\\n                    valueAccessor()(val);\\n                }\\n            });\\n            valueAccessor().subscribe(function(value) {\\n                var str = JSON.stringify(value);\\n                if ((str == \\\"0\\\") && ([\\\"-0\\\", \\\"-0.\\\"].indexOf(stringified()) >= 0))\\n                     return;\\n                 if ([\\\"null\\\", \\\"\\\"].indexOf(str) >= 0)\\n                     return;\\n                stringified(str);\\n            });\\n            ko.applyBindingsToNode(\\n                element,\\n                {\\n                    value: stringified,\\n                    valueUpdate: allBindings.get('valueUpdate'),\\n                },\\n                context,\\n            );\\n        }\\n    };\\n    var json_data = {\\\"formatted_vals\\\":[\\\"-3.0\\\",\\\"-2.9\\\",\\\"-2.8\\\",\\\"-2.7\\\",\\\"-2.6\\\",\\\"-2.5\\\",\\\"-2.4\\\",\\\"-2.3\\\",\\\"-2.2\\\",\\\"-2.1\\\",\\\"-2.0\\\",\\\"-1.9\\\",\\\"-1.8\\\",\\\"-1.7\\\",\\\"-1.6\\\",\\\"-1.5\\\",\\\"-1.4\\\",\\\"-1.3\\\",\\\"-1.2\\\",\\\"-1.1\\\",\\\"-1.0\\\",\\\"-0.9\\\",\\\"-0.8\\\",\\\"-0.7\\\",\\\"-0.6\\\",\\\"-0.5\\\",\\\"-0.4\\\",\\\"-0.3\\\",\\\"-0.2\\\",\\\"-0.1\\\",\\\"0.0\\\"],\\\"changes\\\":WebIO.getval({\\\"name\\\":\\\"changes\\\",\\\"scope\\\":\\\"932405206824253559\\\",\\\"id\\\":\\\"16100994358733706820\\\",\\\"type\\\":\\\"observable\\\"}),\\\"index\\\":WebIO.getval({\\\"name\\\":\\\"index\\\",\\\"scope\\\":\\\"932405206824253559\\\",\\\"id\\\":\\\"5670284708498472935\\\",\\\"type\\\":\\\"observable\\\"})};\\n    var self = this;\\n    function AppViewModel() {\\n        for (var key in json_data) {\\n            var el = json_data[key];\\n            this[key] = Array.isArray(el) ? ko.observableArray(el) : ko.observable(el);\\n        }\\n        \\n        [this[\\\"formatted_val\\\"]=ko.computed(    function(){\\n        return this.formatted_vals()[parseInt(this.index())-(1)];\\n    }\\n,this)]\\n        [this[\\\"changes\\\"].subscribe((function (val){!(this.valueFromJulia[\\\"changes\\\"]) ? (WebIO.setval({\\\"name\\\":\\\"changes\\\",\\\"scope\\\":\\\"932405206824253559\\\",\\\"id\\\":\\\"16100994358733706820\\\",\\\"type\\\":\\\"observable\\\"},val)) : undefined; return this.valueFromJulia[\\\"changes\\\"]=false}),self),this[\\\"index\\\"].subscribe((function (val){!(this.valueFromJulia[\\\"index\\\"]) ? (WebIO.setval({\\\"name\\\":\\\"index\\\",\\\"scope\\\":\\\"932405206824253559\\\",\\\"id\\\":\\\"5670284708498472935\\\",\\\"type\\\":\\\"observable\\\"},val)) : undefined; return this.valueFromJulia[\\\"index\\\"]=false}),self)]\\n        \\n    }\\n    self.model = new AppViewModel();\\n    self.valueFromJulia = {};\\n    for (var key in json_data) {\\n        self.valueFromJulia[key] = false;\\n    }\\n    ko.applyBindings(self.model, self.dom);\\n}\\n);\\n    (WebIO.importBlock({\\\"data\\\":[{\\\"name\\\":\\\"knockout\\\",\\\"type\\\":\\\"js\\\",\\\"url\\\":\\\"/assetserver/c0689c4f2514def856941022372b529b3413f129-knockout.js\\\"},{\\\"name\\\":\\\"knockout_punches\\\",\\\"type\\\":\\\"js\\\",\\\"url\\\":\\\"/assetserver/69274bc4b68b761587a57ff3f5e787f3dd4781dc-knockout_punches.js\\\"}],\\\"type\\\":\\\"async_block\\\"})).then((imports) => handler.apply(this, imports));\\n}\\n\")])], Dict{Symbol, Any}(:className => \"field interact-widget\")), WebIO.Node{WebIO.DOM}(WebIO.DOM(:html, :div), Any[\"Weather\"], Dict{Symbol, Any}(:style => Dict{String, Any}(\"color\" => :rebeccapurple, \"font-family\" => \"monospace\"))), WebIO.Node{WebIO.DOM}(WebIO.DOM(:html, :div), Any[WebIO.Scope(WebIO.Node{WebIO.DOM}(WebIO.DOM(:html, :div), Any[WebIO.Node{WebIO.DOM}(WebIO.DOM(:html, :div), Any[WebIO.Node{WebIO.DOM}(WebIO.DOM(:html, :label), Any[\"RH (%)\"], Dict{Symbol, Any}(:className => \"interact \", :style => Dict{Any, Any}(:padding => \"5px 10px 0px 10px\", \"white-space\" => :nowrap, \"color\" => :royalblue)))], Dict{Symbol, Any}(:className => \"interact-flex-row-left\")), WebIO.Node{WebIO.DOM}(WebIO.DOM(:html, :div), Any[WebIO.Node{WebIO.DOM}(WebIO.DOM(:html, :input), Any[], Dict{Symbol, Any}(:max => 21, :min => 1, :attributes => Dict{Any, Any}(:type => \"range\", Symbol(\"data-bind\") => \"numericValue: index, valueUpdate: 'input', event: {change: function (){this.changes(this.changes()+1)}}\", \"orient\" => \"horizontal\"), :step => 1, :className => \"slider slider is-fullwidth\", :style => Dict{Any, Any}()))], Dict{Symbol, Any}(:className => \"interact-flex-row-center\")), WebIO.Node{WebIO.DOM}(WebIO.DOM(:html, :div), Any[WebIO.Node{WebIO.DOM}(WebIO.DOM(:html, :p), Any[], Dict{Symbol, Any}(:attributes => Dict(\"data-bind\" => \"text: formatted_val\")))], Dict{Symbol, Any}(:className => \"interact-flex-row-right\"))], Dict{Symbol, Any}(:className => \"interact-flex-row interact-widget\", :style => Dict(\"font-family\" => \"monospace\", \"width\" => \"80%\"))), Dict{String, Tuple{Observables.AbstractObservable, Union{Nothing, Bool}}}(\"changes\" => (Observable(0), nothing), \"index\" => (Observable{Any}(13), nothing)), Set{String}(), nothing, WebIO.Asset[WebIO.Asset(\"js\", \"knockout\", \"/Users/soohkim/.julia/packages/Knockout/HReiN/src/../assets/knockout.js\"), WebIO.Asset(\"js\", \"knockout_punches\", \"/Users/soohkim/.julia/packages/Knockout/HReiN/src/../assets/knockout_punches.js\"), WebIO.Asset(\"js\", nothing, \"/Users/soohkim/.julia/packages/InteractBase/Qhvxg/src/../assets/all.js\"), WebIO.Asset(\"css\", nothing, \"/Users/soohkim/.julia/packages/InteractBase/Qhvxg/src/../assets/style.css\"), WebIO.Asset(\"css\", nothing, \"/Users/soohkim/.julia/packages/Interact/PENUy/src/../assets/bulma_confined.min.css\")], Dict{Any, Any}(\"changes\" => Any[WebIO.JSString(\"(function (val){return (val!=this.model[\\\"changes\\\"]()) ? (this.valueFromJulia[\\\"changes\\\"]=true, this.model[\\\"changes\\\"](val)) : undefined})\")], \"index\" => Any[WebIO.JSString(\"(function (val){return (val!=this.model[\\\"index\\\"]()) ? (this.valueFromJulia[\\\"index\\\"]=true, this.model[\\\"index\\\"](val)) : undefined})\")]), WebIO.ConnectionPool(Channel{Any}(32), Set{WebIO.AbstractConnection}(), Condition(Base.InvasiveLinkedList{Task}(Task (runnable) @0x000000016b018a90, Task (runnable) @0x000000016b018a90), Base.AlwaysLockedST(1))), WebIO.JSString[WebIO.JSString(\"function () {\\n    var handler = (function (ko, koPunches) {\\n    ko.punches.enableAll();\\n    ko.bindingHandlers.numericValue = {\\n        init: function(element, valueAccessor, allBindings, data, context) {\\n            var stringified = ko.observable(ko.unwrap(valueAccessor()));\\n            stringified.subscribe(function(value) {\\n                var val = parseFloat(value);\\n                if (!isNaN(val)) {\\n                    valueAccessor()(val);\\n                }\\n            });\\n            valueAccessor().subscribe(function(value) {\\n                var str = JSON.stringify(value);\\n                if ((str == \\\"0\\\") && ([\\\"-0\\\", \\\"-0.\\\"].indexOf(stringified()) >= 0))\\n                     return;\\n                 if ([\\\"null\\\", \\\"\\\"].indexOf(str) >= 0)\\n                     return;\\n                stringified(str);\\n            });\\n            ko.applyBindingsToNode(\\n                element,\\n                {\\n                    value: stringified,\\n                    valueUpdate: allBindings.get('valueUpdate'),\\n                },\\n                context,\\n            );\\n        }\\n    };\\n    var json_data = {\\\"formatted_vals\\\":[\\\"0\\\",\\\"5\\\",\\\"10\\\",\\\"15\\\",\\\"20\\\",\\\"25\\\",\\\"30\\\",\\\"35\\\",\\\"40\\\",\\\"45\\\",\\\"50\\\",\\\"55\\\",\\\"60\\\",\\\"65\\\",\\\"70\\\",\\\"75\\\",\\\"80\\\",\\\"85\\\",\\\"90\\\",\\\"95\\\",\\\"100\\\"],\\\"changes\\\":WebIO.getval({\\\"name\\\":\\\"changes\\\",\\\"scope\\\":\\\"10173143132199150255\\\",\\\"id\\\":\\\"14787241745065160819\\\",\\\"type\\\":\\\"observable\\\"}),\\\"index\\\":WebIO.getval({\\\"name\\\":\\\"index\\\",\\\"scope\\\":\\\"10173143132199150255\\\",\\\"id\\\":\\\"9145096512392779592\\\",\\\"type\\\":\\\"observable\\\"})};\\n    var self = this;\\n    function AppViewModel() {\\n        for (var key in json_data) {\\n            var el = json_data[key];\\n            this[key] = Array.isArray(el) ? ko.observableArray(el) : ko.observable(el);\\n        }\\n        \\n        [this[\\\"formatted_val\\\"]=ko.computed(    function(){\\n        return this.formatted_vals()[parseInt(this.index())-(1)];\\n    }\\n,this)]\\n        [this[\\\"changes\\\"].subscribe((function (val){!(this.valueFromJulia[\\\"changes\\\"]) ? (WebIO.setval({\\\"name\\\":\\\"changes\\\",\\\"scope\\\":\\\"10173143132199150255\\\",\\\"id\\\":\\\"14787241745065160819\\\",\\\"type\\\":\\\"observable\\\"},val)) : undefined; return this.valueFromJulia[\\\"changes\\\"]=false}),self),this[\\\"index\\\"].subscribe((function (val){!(this.valueFromJulia[\\\"index\\\"]) ? (WebIO.setval({\\\"name\\\":\\\"index\\\",\\\"scope\\\":\\\"10173143132199150255\\\",\\\"id\\\":\\\"9145096512392779592\\\",\\\"type\\\":\\\"observable\\\"},val)) : undefined; return this.valueFromJulia[\\\"index\\\"]=false}),self)]\\n        \\n    }\\n    self.model = new AppViewModel();\\n    self.valueFromJulia = {};\\n    for (var key in json_data) {\\n        self.valueFromJulia[key] = false;\\n    }\\n    ko.applyBindings(self.model, self.dom);\\n}\\n);\\n    (WebIO.importBlock({\\\"data\\\":[{\\\"name\\\":\\\"knockout\\\",\\\"type\\\":\\\"js\\\",\\\"url\\\":\\\"/assetserver/c0689c4f2514def856941022372b529b3413f129-knockout.js\\\"},{\\\"name\\\":\\\"knockout_punches\\\",\\\"type\\\":\\\"js\\\",\\\"url\\\":\\\"/assetserver/69274bc4b68b761587a57ff3f5e787f3dd4781dc-knockout_punches.js\\\"}],\\\"type\\\":\\\"async_block\\\"})).then((imports) => handler.apply(this, imports));\\n}\\n\")])], Dict{Symbol, Any}(:className => \"field interact-widget\")), WebIO.Node{WebIO.DOM}(WebIO.DOM(:html, :div), Any[WebIO.Scope(WebIO.Node{WebIO.DOM}(WebIO.DOM(:html, :div), Any[WebIO.Node{WebIO.DOM}(WebIO.DOM(:html, :div), Any[WebIO.Node{WebIO.DOM}(WebIO.DOM(:html, :label), Any[\"PFD (μmol m⁻² s⁻¹)\"], Dict{Symbol, Any}(:className => \"interact \", :style => Dict{Any, Any}(:padding => \"5px 10px 0px 10px\", \"white-space\" => :nowrap, \"color\" => :royalblue)))], Dict{Symbol, Any}(:className => \"interact-flex-row-left\")), WebIO.Node{WebIO.DOM}(WebIO.DOM(:html, :div), Any[WebIO.Node{WebIO.DOM}(WebIO.DOM(:html, :input), Any[], Dict{Symbol, Any}(:max => 41, :min => 1, :attributes => Dict{Any, Any}(:type => \"range\", Symbol(\"data-bind\") => \"numericValue: index, valueUpdate: 'input', event: {change: function (){this.changes(this.changes()+1)}}\", \"orient\" => \"horizontal\"), :step => 1, :className => \"slider slider is-fullwidth\", :style => Dict{Any, Any}()))], Dict{Symbol, Any}(:className => \"interact-flex-row-center\")), WebIO.Node{WebIO.DOM}(WebIO.DOM(:html, :div), Any[WebIO.Node{WebIO.DOM}(WebIO.DOM(:html, :p), Any[], Dict{Symbol, Any}(:attributes => Dict(\"data-bind\" => \"text: formatted_val\")))], Dict{Symbol, Any}(:className => \"interact-flex-row-right\"))], Dict{Symbol, Any}(:className => \"interact-flex-row interact-widget\", :style => Dict(\"font-family\" => \"monospace\", \"width\" => \"80%\"))), Dict{String, Tuple{Observables.AbstractObservable, Union{Nothing, Bool}}}(\"changes\" => (Observable(0), nothing), \"index\" => (Observable{Any}(31), nothing)), Set{String}(), nothing, WebIO.Asset[WebIO.Asset(\"js\", \"knockout\", \"/Users/soohkim/.julia/packages/Knockout/HReiN/src/../assets/knockout.js\"), WebIO.Asset(\"js\", \"knockout_punches\", \"/Users/soohkim/.julia/packages/Knockout/HReiN/src/../assets/knockout_punches.js\"), WebIO.Asset(\"js\", nothing, \"/Users/soohkim/.julia/packages/InteractBase/Qhvxg/src/../assets/all.js\"), WebIO.Asset(\"css\", nothing, \"/Users/soohkim/.julia/packages/InteractBase/Qhvxg/src/../assets/style.css\"), WebIO.Asset(\"css\", nothing, \"/Users/soohkim/.julia/packages/Interact/PENUy/src/../assets/bulma_confined.min.css\")], Dict{Any, Any}(\"changes\" => Any[WebIO.JSString(\"(function (val){return (val!=this.model[\\\"changes\\\"]()) ? (this.valueFromJulia[\\\"changes\\\"]=true, this.model[\\\"changes\\\"](val)) : undefined})\")], \"index\" => Any[WebIO.JSString(\"(function (val){return (val!=this.model[\\\"index\\\"]()) ? (this.valueFromJulia[\\\"index\\\"]=true, this.model[\\\"index\\\"](val)) : undefined})\")]), WebIO.ConnectionPool(Channel{Any}(32), Set{WebIO.AbstractConnection}(), Condition(Base.InvasiveLinkedList{Task}(Task (runnable) @0x000000016b01f880, Task (runnable) @0x000000016b01f880), Base.AlwaysLockedST(1))), WebIO.JSString[WebIO.JSString(\"function () {\\n    var handler = (function (ko, koPunches) {\\n    ko.punches.enableAll();\\n    ko.bindingHandlers.numericValue = {\\n        init: function(element, valueAccessor, allBindings, data, context) {\\n            var stringified = ko.observable(ko.unwrap(valueAccessor()));\\n            stringified.subscribe(function(value) {\\n                var val = parseFloat(value);\\n                if (!isNaN(val)) {\\n                    valueAccessor()(val);\\n                }\\n            });\\n            valueAccessor().subscribe(function(value) {\\n                var str = JSON.stringify(value);\\n                if ((str == \\\"0\\\") && ([\\\"-0\\\", \\\"-0.\\\"].indexOf(stringified()) >= 0))\\n                     return;\\n                 if ([\\\"null\\\", \\\"\\\"].indexOf(str) >= 0)\\n                     return;\\n                stringified(str);\\n            });\\n            ko.applyBindingsToNode(\\n                element,\\n                {\\n                    value: stringified,\\n                    valueUpdate: allBindings.get('valueUpdate'),\\n                },\\n                context,\\n            );\\n        }\\n    };\\n    var json_data = {\\\"formatted_vals\\\":[\\\"0\\\",\\\"50\\\",\\\"100\\\",\\\"150\\\",\\\"200\\\",\\\"250\\\",\\\"300\\\",\\\"350\\\",\\\"400\\\",\\\"450\\\",\\\"500\\\",\\\"550\\\",\\\"600\\\",\\\"650\\\",\\\"700\\\",\\\"750\\\",\\\"800\\\",\\\"850\\\",\\\"900\\\",\\\"950\\\",\\\"1000\\\",\\\"1050\\\",\\\"1100\\\",\\\"1150\\\",\\\"1200\\\",\\\"1250\\\",\\\"1300\\\",\\\"1350\\\",\\\"1400\\\",\\\"1450\\\",\\\"1500\\\",\\\"1550\\\",\\\"1600\\\",\\\"1650\\\",\\\"1700\\\",\\\"1750\\\",\\\"1800\\\",\\\"1850\\\",\\\"1900\\\",\\\"1950\\\",\\\"2000\\\"],\\\"changes\\\":WebIO.getval({\\\"name\\\":\\\"changes\\\",\\\"scope\\\":\\\"13744572168931367025\\\",\\\"id\\\":\\\"2261288158791225250\\\",\\\"type\\\":\\\"observable\\\"}),\\\"index\\\":WebIO.getval({\\\"name\\\":\\\"index\\\",\\\"scope\\\":\\\"13744572168931367025\\\",\\\"id\\\":\\\"5596770985167576560\\\",\\\"type\\\":\\\"observable\\\"})};\\n    var self = this;\\n    function AppViewModel() {\\n        for (var key in json_data) {\\n            var el = json_data[key];\\n            this[key] = Array.isArray(el) ? ko.observableArray(el) : ko.observable(el);\\n        }\\n        \\n        [this[\\\"formatted_val\\\"]=ko.computed(    function(){\\n        return this.formatted_vals()[parseInt(this.index())-(1)];\\n    }\\n,this)]\\n        [this[\\\"changes\\\"].subscribe((function (val){!(this.valueFromJulia[\\\"changes\\\"]) ? (WebIO.setval({\\\"name\\\":\\\"changes\\\",\\\"scope\\\":\\\"13744572168931367025\\\",\\\"id\\\":\\\"2261288158791225250\\\",\\\"type\\\":\\\"observable\\\"},val)) : undefined; return this.valueFromJulia[\\\"changes\\\"]=false}),self),this[\\\"index\\\"].subscribe((function (val){!(this.valueFromJulia[\\\"index\\\"]) ? (WebIO.setval({\\\"name\\\":\\\"index\\\",\\\"scope\\\":\\\"13744572168931367025\\\",\\\"id\\\":\\\"5596770985167576560\\\",\\\"type\\\":\\\"observable\\\"},val)) : undefined; return this.valueFromJulia[\\\"index\\\"]=false}),self)]\\n        \\n    }\\n    self.model = new AppViewModel();\\n    self.valueFromJulia = {};\\n    for (var key in json_data) {\\n        self.valueFromJulia[key] = false;\\n    }\\n    ko.applyBindings(self.model, self.dom);\\n}\\n);\\n    (WebIO.importBlock({\\\"data\\\":[{\\\"name\\\":\\\"knockout\\\",\\\"type\\\":\\\"js\\\",\\\"url\\\":\\\"/assetserver/c0689c4f2514def856941022372b529b3413f129-knockout.js\\\"},{\\\"name\\\":\\\"knockout_punches\\\",\\\"type\\\":\\\"js\\\",\\\"url\\\":\\\"/assetserver/69274bc4b68b761587a57ff3f5e787f3dd4781dc-knockout_punches.js\\\"}],\\\"type\\\":\\\"async_block\\\"})).then((imports) => handler.apply(this, imports));\\n}\\n\")])], Dict{Symbol, Any}(:className => \"field interact-widget\")), WebIO.Node{WebIO.DOM}(WebIO.DOM(:html, :div), Any[\"Nitrogen\"], Dict{Symbol, Any}(:style => Dict{String, Any}(\"color\" => :rebeccapurple, \"font-family\" => \"monospace\"))), WebIO.Node{WebIO.DOM}(WebIO.DOM(:html, :div), Any[WebIO.Scope(WebIO.Node{WebIO.DOM}(WebIO.DOM(:html, :div), Any[WebIO.Node{WebIO.DOM}(WebIO.DOM(:html, :div), Any[WebIO.Node{WebIO.DOM}(WebIO.DOM(:html, :label), Any[\"N\"], Dict{Symbol, Any}(:className => \"interact \", :style => Dict{Any, Any}(:padding => \"5px 10px 0px 10px\", \"white-space\" => :nowrap, \"color\" => :royalblue)))], Dict{Symbol, Any}(:className => \"interact-flex-row-left\")), WebIO.Node{WebIO.DOM}(WebIO.DOM(:html, :div), Any[WebIO.Node{WebIO.DOM}(WebIO.DOM(:html, :input), Any[], Dict{Symbol, Any}(:max => 41, :min => 1, :attributes => Dict{Any, Any}(:type => \"range\", Symbol(\"data-bind\") => \"numericValue: index, valueUpdate: 'input', event: {change: function (){this.changes(this.changes()+1)}}\", \"orient\" => \"horizontal\"), :step => 1, :className => \"slider slider is-fullwidth\", :style => Dict{Any, Any}()))], Dict{Symbol, Any}(:className => \"interact-flex-row-center\")), WebIO.Node{WebIO.DOM}(WebIO.DOM(:html, :div), Any[WebIO.Node{WebIO.DOM}(WebIO.DOM(:html, :p), Any[], Dict{Symbol, Any}(:attributes => Dict(\"data-bind\" => \"text: formatted_val\")))], Dict{Symbol, Any}(:className => \"interact-flex-row-right\"))], Dict{Symbol, Any}(:className => \"interact-flex-row interact-widget\", :style => Dict(\"font-family\" => \"monospace\", \"width\" => \"80%\"))), Dict{String, Tuple{Observables.AbstractObservable, Union{Nothing, Bool}}}(\"changes\" => (Observable(0), nothing), \"index\" => (Observable{Any}(21), nothing)), Set{String}(), nothing, WebIO.Asset[WebIO.Asset(\"js\", \"knockout\", \"/Users/soohkim/.julia/packages/Knockout/HReiN/src/../assets/knockout.js\"), WebIO.Asset(\"js\", \"knockout_punches\", \"/Users/soohkim/.julia/packages/Knockout/HReiN/src/../assets/knockout_punches.js\"), WebIO.Asset(\"js\", nothing, \"/Users/soohkim/.julia/packages/InteractBase/Qhvxg/src/../assets/all.js\"), WebIO.Asset(\"css\", nothing, \"/Users/soohkim/.julia/packages/InteractBase/Qhvxg/src/../assets/style.css\"), WebIO.Asset(\"css\", nothing, \"/Users/soohkim/.julia/packages/Interact/PENUy/src/../assets/bulma_confined.min.css\")], Dict{Any, Any}(\"changes\" => Any[WebIO.JSString(\"(function (val){return (val!=this.model[\\\"changes\\\"]()) ? (this.valueFromJulia[\\\"changes\\\"]=true, this.model[\\\"changes\\\"](val)) : undefined})\")], \"index\" => Any[WebIO.JSString(\"(function (val){return (val!=this.model[\\\"index\\\"]()) ? (this.valueFromJulia[\\\"index\\\"]=true, this.model[\\\"index\\\"](val)) : undefined})\")]), WebIO.ConnectionPool(Channel{Any}(32), Set{WebIO.AbstractConnection}(), Condition(Base.InvasiveLinkedList{Task}(Task (runnable) @0x000000016b021660, Task (runnable) @0x000000016b021660), Base.AlwaysLockedST(1))), WebIO.JSString[WebIO.JSString(\"function () {\\n    var handler = (function (ko, koPunches) {\\n    ko.punches.enableAll();\\n    ko.bindingHandlers.numericValue = {\\n        init: function(element, valueAccessor, allBindings, data, context) {\\n            var stringified = ko.observable(ko.unwrap(valueAccessor()));\\n            stringified.subscribe(function(value) {\\n                var val = parseFloat(value);\\n                if (!isNaN(val)) {\\n                    valueAccessor()(val);\\n                }\\n            });\\n            valueAccessor().subscribe(function(value) {\\n                var str = JSON.stringify(value);\\n                if ((str == \\\"0\\\") && ([\\\"-0\\\", \\\"-0.\\\"].indexOf(stringified()) >= 0))\\n                     return;\\n                 if ([\\\"null\\\", \\\"\\\"].indexOf(str) >= 0)\\n                     return;\\n                stringified(str);\\n            });\\n            ko.applyBindingsToNode(\\n                element,\\n                {\\n                    value: stringified,\\n                    valueUpdate: allBindings.get('valueUpdate'),\\n                },\\n                context,\\n            );\\n        }\\n    };\\n    var json_data = {\\\"formatted_vals\\\":[\\\"0.0\\\",\\\"0.1\\\",\\\"0.2\\\",\\\"0.3\\\",\\\"0.4\\\",\\\"0.5\\\",\\\"0.6\\\",\\\"0.7\\\",\\\"0.8\\\",\\\"0.9\\\",\\\"1.0\\\",\\\"1.1\\\",\\\"1.2\\\",\\\"1.3\\\",\\\"1.4\\\",\\\"1.5\\\",\\\"1.6\\\",\\\"1.7\\\",\\\"1.8\\\",\\\"1.9\\\",\\\"2.0\\\",\\\"2.1\\\",\\\"2.2\\\",\\\"2.3\\\",\\\"2.4\\\",\\\"2.5\\\",\\\"2.6\\\",\\\"2.7\\\",\\\"2.8\\\",\\\"2.9\\\",\\\"3.0\\\",\\\"3.1\\\",\\\"3.2\\\",\\\"3.3\\\",\\\"3.4\\\",\\\"3.5\\\",\\\"3.6\\\",\\\"3.7\\\",\\\"3.8\\\",\\\"3.9\\\",\\\"4.0\\\"],\\\"changes\\\":WebIO.getval({\\\"name\\\":\\\"changes\\\",\\\"scope\\\":\\\"6149954681843629259\\\",\\\"id\\\":\\\"17561849814902470220\\\",\\\"type\\\":\\\"observable\\\"}),\\\"index\\\":WebIO.getval({\\\"name\\\":\\\"index\\\",\\\"scope\\\":\\\"6149954681843629259\\\",\\\"id\\\":\\\"3488407113793547914\\\",\\\"type\\\":\\\"observable\\\"})};\\n    var self = this;\\n    function AppViewModel() {\\n        for (var key in json_data) {\\n            var el = json_data[key];\\n            this[key] = Array.isArray(el) ? ko.observableArray(el) : ko.observable(el);\\n        }\\n        \\n        [this[\\\"formatted_val\\\"]=ko.computed(    function(){\\n        return this.formatted_vals()[parseInt(this.index())-(1)];\\n    }\\n,this)]\\n        [this[\\\"changes\\\"].subscribe((function (val){!(this.valueFromJulia[\\\"changes\\\"]) ? (WebIO.setval({\\\"name\\\":\\\"changes\\\",\\\"scope\\\":\\\"6149954681843629259\\\",\\\"id\\\":\\\"17561849814902470220\\\",\\\"type\\\":\\\"observable\\\"},val)) : undefined; return this.valueFromJulia[\\\"changes\\\"]=false}),self),this[\\\"index\\\"].subscribe((function (val){!(this.valueFromJulia[\\\"index\\\"]) ? (WebIO.setval({\\\"name\\\":\\\"index\\\",\\\"scope\\\":\\\"6149954681843629259\\\",\\\"id\\\":\\\"3488407113793547914\\\",\\\"type\\\":\\\"observable\\\"},val)) : undefined; return this.valueFromJulia[\\\"index\\\"]=false}),self)]\\n        \\n    }\\n    self.model = new AppViewModel();\\n    self.valueFromJulia = {};\\n    for (var key in json_data) {\\n        self.valueFromJulia[key] = false;\\n    }\\n    ko.applyBindings(self.model, self.dom);\\n}\\n);\\n    (WebIO.importBlock({\\\"data\\\":[{\\\"name\\\":\\\"knockout\\\",\\\"type\\\":\\\"js\\\",\\\"url\\\":\\\"/assetserver/c0689c4f2514def856941022372b529b3413f129-knockout.js\\\"},{\\\"name\\\":\\\"knockout_punches\\\",\\\"type\\\":\\\"js\\\",\\\"url\\\":\\\"/assetserver/69274bc4b68b761587a57ff3f5e787f3dd4781dc-knockout_punches.js\\\"}],\\\"type\\\":\\\"async_block\\\"})).then((imports) => handler.apply(this, imports));\\n}\\n\")])], Dict{Symbol, Any}(:className => \"field interact-widget\")), Observable(Gadfly.Plot(Gadfly.Layer[Gadfly.Layer(nothing, Dict{Symbol, Any}(:y => [9.599097291640131, 10.328754859932145, 11.105907804579484, 11.932889409111018, 12.811939604331048, 13.74538044935739, 14.735469209856882, 15.784449482178596, 16.89453900876363, 18.067819871086314  …  34.20854994050184, 33.86394882341032, 33.39178369299672, 32.772787179446844, 31.98453186892205, 31.001761599710616, 29.795387004458174, 28.333238855007913, 26.580121571886714, 24.49970265871932], :x => [2.1417617797851562, 3.1264266967773438, 4.108421325683594, 5.087516784667969, 6.063331604003906, 7.035560607910156, 8.003822326660156, 8.967735290527344, 9.926918029785156, 10.880912780761719  …  39.87767791748047, 40.772621154785156, 41.67504119873047, 42.58715057373047, 43.51146697998047, 44.451576232910156, 45.411598205566406, 46.396949768066406, 47.414878845214844, 48.47454071044922]), Gadfly.StatisticElement[], Gadfly.Geom.LineGeometry(Gadfly.Stat.Identity(), false, 2, Symbol(\"\")), Gadfly.Theme(LCHab{Float32}(70.0f0,60.0f0,240.0f0), 0.7mm, 0.45mm, 1.8mm, Gadfly.Scale.default_discrete_sizes, Gadfly.Scale.default_continuous_sizes, Gadfly.Scale.default_discrete_colors, Function[Compose.circle, Gadfly.Shape.square, Gadfly.Shape.diamond, Gadfly.Shape.cross, Gadfly.Shape.xcross, Gadfly.Shape.utriangle, Gadfly.Shape.dtriangle, Gadfly.Shape.star1, Gadfly.Shape.star2, Gadfly.Shape.hexagon, Gadfly.Shape.octagon, Gadfly.Shape.hline, Gadfly.Shape.vline, Gadfly.Shape.ltriangle, Gadfly.Shape.rtriangle], 0.3mm, [:solid, :dash, :dot, :dashdot, :dashdotdot, :ldash, :ldashdash, :ldashdot, :ldashdashdot], [1.0, 0.9, 0.8, 0.7, 0.6, 0.5, 0.4, 0.3, 0.2, 0.1, 0.0], nothing, nothing, 0.3mm, 0.0, RGB{N0f8}(1.0,1.0,1.0), Measures.AbsoluteLength[5.0mm, 5.0mm, 5.0mm, 0.0mm], RGB{N0f8}(0.816,0.816,0.878), Measures.AbsoluteLength[0.5mm, 0.5mm], RGB{N0f8}(0.627,0.627,0.627), 0.2mm, 0, \"'PT Sans Caption','Helvetica Neue','Helvetica',sans-serif\", 2.822222222222222mm, RGB{N0f8}(0.424,0.376,0.42), \"'PT Sans','Helvetica Neue','Helvetica',sans-serif\", 3.5277777777777777mm, RGB{N0f8}(0.337,0.29,0.333), \"'PT Sans Caption','Helvetica Neue','Helvetica',sans-serif\", 2.822222222222222mm, RGB{N0f8}(0.298,0.251,0.294), \"'PT Sans','Helvetica Neue','Helvetica',sans-serif\", 3.175mm, RGB{N0f8}(0.212,0.165,0.208), \"'PT Sans','Helvetica Neue','Helvetica',sans-serif\", 2.822222222222222mm, RGB{N0f8}(0.298,0.251,0.294), 40, -0.05mm, 1.0mm, 3.0mm, Gadfly.default_stroke_color, 0.3mm, Cropbox.var\"#603#612\"(), Gadfly.default_continuous_highlight_color, Gadfly.default_lowlight_color, Gadfly.default_middle_color, 0.6mm, :left, :square, nothing, nothing, nothing, :right, nothing, 2.0mm, 1000, 10.0, 0.5, 0.2, 1.0mm, 4, Gadfly.Scale.DiscreteColorScale(Gadfly.Scale.default_discrete_colors, nothing, nothing, true), Gadfly.Scale.ContinuousColorScale(Gadfly.Scale.var\"#73#77\"{Int64, Int64, Int64, Int64, Float64, Int64}(100, 40, 260, 10, 1.5, 70), Gadfly.Scale.ContinuousScaleTransform(identity, identity, Gadfly.Scale.identity_formatter), nothing, nothing)), 1), Gadfly.Layer(nothing, Dict{Symbol, Any}(:y => [9.48222697772827, 10.186280286889428, 10.932863015186127, 11.723476275748963, 12.559495629443779, 13.44228391077314, 14.373119389605115, 15.353013909287421, 16.38317836725995, 17.464450768388442  …  18.50749201367857, 17.71929676275422, 16.894434179074054, 16.03416102551206, 15.137970431131563, 14.206527545466763, 13.237143264215714, 12.230118514354842, 11.181957205981533, 9.43240879765846], :x => [1.9778060913085938, 2.9392013549804688, 3.8952560424804688, 4.845512390136719, 5.789436340332031, 6.726570129394531, 7.656455993652344, 8.578483581542969, 9.492347717285156, 10.397514343261719  …  39.194236755371094, 40.15723419189453, 41.130836486816406, 42.11626434326172, 43.115196228027344, 44.129615783691406, 45.16234588623047, 46.216209411621094, 47.29570770263672, 48.56281280517578]), Gadfly.StatisticElement[], Gadfly.Geom.LineGeometry(Gadfly.Stat.Identity(), false, 2, Symbol(\"\")), Gadfly.Theme(LCHab{Float32}(80.0f0,70.000015f0,100.43479f0), 0.7mm, 0.45mm, 1.8mm, Gadfly.Scale.default_discrete_sizes, Gadfly.Scale.default_continuous_sizes, Gadfly.Scale.default_discrete_colors, Function[Compose.circle, Gadfly.Shape.square, Gadfly.Shape.diamond, Gadfly.Shape.cross, Gadfly.Shape.xcross, Gadfly.Shape.utriangle, Gadfly.Shape.dtriangle, Gadfly.Shape.star1, Gadfly.Shape.star2, Gadfly.Shape.hexagon, Gadfly.Shape.octagon, Gadfly.Shape.hline, Gadfly.Shape.vline, Gadfly.Shape.ltriangle, Gadfly.Shape.rtriangle], 0.3mm, [:solid, :dash, :dot, :dashdot, :dashdotdot, :ldash, :ldashdash, :ldashdot, :ldashdashdot], [1.0, 0.9, 0.8, 0.7, 0.6, 0.5, 0.4, 0.3, 0.2, 0.1, 0.0], nothing, nothing, 0.3mm, 0.0, RGB{N0f8}(1.0,1.0,1.0), Measures.AbsoluteLength[5.0mm, 5.0mm, 5.0mm, 0.0mm], RGB{N0f8}(0.816,0.816,0.878), Measures.AbsoluteLength[0.5mm, 0.5mm], RGB{N0f8}(0.627,0.627,0.627), 0.2mm, 0, \"'PT Sans Caption','Helvetica Neue','Helvetica',sans-serif\", 2.822222222222222mm, RGB{N0f8}(0.424,0.376,0.42), \"'PT Sans','Helvetica Neue','Helvetica',sans-serif\", 3.5277777777777777mm, RGB{N0f8}(0.337,0.29,0.333), \"'PT Sans Caption','Helvetica Neue','Helvetica',sans-serif\", 2.822222222222222mm, RGB{N0f8}(0.298,0.251,0.294), \"'PT Sans','Helvetica Neue','Helvetica',sans-serif\", 3.175mm, RGB{N0f8}(0.212,0.165,0.208), \"'PT Sans','Helvetica Neue','Helvetica',sans-serif\", 2.822222222222222mm, RGB{N0f8}(0.298,0.251,0.294), 40, -0.05mm, 1.0mm, 3.0mm, Gadfly.default_stroke_color, 0.3mm, Cropbox.var\"#603#612\"(), Gadfly.default_continuous_highlight_color, Gadfly.default_lowlight_color, Gadfly.default_middle_color, 0.6mm, :left, :square, nothing, nothing, nothing, :right, nothing, 2.0mm, 1000, 10.0, 0.5, 0.2, 1.0mm, 4, Gadfly.Scale.DiscreteColorScale(Gadfly.Scale.default_discrete_colors, nothing, nothing, true), Gadfly.Scale.ContinuousColorScale(Gadfly.Scale.var\"#73#77\"{Int64, Int64, Int64, Int64, Float64, Int64}(100, 40, 260, 10, 1.5, 70), Gadfly.Scale.ContinuousScaleTransform(identity, identity, Gadfly.Scale.identity_formatter), nothing, nothing)), 2), Gadfly.Layer(nothing, Dict{Symbol, Any}(:y => [9.375900201648296, 10.058180196172902, 10.779242650187248, 11.540155340560599, 12.341900145443828, 13.185286839726771, 13.627923563342758, 14.035843637318878, 14.419212782542717, 14.77572139044063  …  7.033862242619188, 6.204002440582388, 5.332969043622735, 4.420067573716489, 3.47367519433934, 2.525694382084799, 1.6630216132350633, 1.0071589025600867, 0.577682169208166, 0.1714645456039321], :x => [1.8270492553710938, 2.7688369750976562, 3.7034530639648438, 4.630439758300781, 5.549339294433594, 6.459617614746094, 7.385307312011719, 8.307945251464844, 9.227073669433594, 10.142921447753906  …  40.285316467285156, 41.418983459472656, 42.59735870361328, 43.83173370361328, 45.133705139160156, 46.506858825683594, 47.91907501220703, 49.28681182861328, 50.55780792236328, 51.858863830566406]), Gadfly.StatisticElement[], Gadfly.Geom.LineGeometry(Gadfly.Stat.Identity(), false, 2, Symbol(\"\")), Gadfly.Theme(LCHab{Float32}(65.89944f0,62.21457f0,353.99814f0), 0.7mm, 0.45mm, 1.8mm, Gadfly.Scale.default_discrete_sizes, Gadfly.Scale.default_continuous_sizes, Gadfly.Scale.default_discrete_colors, Function[Compose.circle, Gadfly.Shape.square, Gadfly.Shape.diamond, Gadfly.Shape.cross, Gadfly.Shape.xcross, Gadfly.Shape.utriangle, Gadfly.Shape.dtriangle, Gadfly.Shape.star1, Gadfly.Shape.star2, Gadfly.Shape.hexagon, Gadfly.Shape.octagon, Gadfly.Shape.hline, Gadfly.Shape.vline, Gadfly.Shape.ltriangle, Gadfly.Shape.rtriangle], 0.3mm, [:solid, :dash, :dot, :dashdot, :dashdotdot, :ldash, :ldashdash, :ldashdot, :ldashdashdot], [1.0, 0.9, 0.8, 0.7, 0.6, 0.5, 0.4, 0.3, 0.2, 0.1, 0.0], nothing, nothing, 0.3mm, 0.0, RGB{N0f8}(1.0,1.0,1.0), Measures.AbsoluteLength[5.0mm, 5.0mm, 5.0mm, 0.0mm], RGB{N0f8}(0.816,0.816,0.878), Measures.AbsoluteLength[0.5mm, 0.5mm], RGB{N0f8}(0.627,0.627,0.627), 0.2mm, 0, \"'PT Sans Caption','Helvetica Neue','Helvetica',sans-serif\", 2.822222222222222mm, RGB{N0f8}(0.424,0.376,0.42), \"'PT Sans','Helvetica Neue','Helvetica',sans-serif\", 3.5277777777777777mm, RGB{N0f8}(0.337,0.29,0.333), \"'PT Sans Caption','Helvetica Neue','Helvetica',sans-serif\", 2.822222222222222mm, RGB{N0f8}(0.298,0.251,0.294), \"'PT Sans','Helvetica Neue','Helvetica',sans-serif\", 3.175mm, RGB{N0f8}(0.212,0.165,0.208), \"'PT Sans','Helvetica Neue','Helvetica',sans-serif\", 2.822222222222222mm, RGB{N0f8}(0.298,0.251,0.294), 40, -0.05mm, 1.0mm, 3.0mm, Gadfly.default_stroke_color, 0.3mm, Cropbox.var\"#603#612\"(), Gadfly.default_continuous_highlight_color, Gadfly.default_lowlight_color, Gadfly.default_middle_color, 0.6mm, :left, :square, nothing, nothing, nothing, :right, nothing, 2.0mm, 1000, 10.0, 0.5, 0.2, 1.0mm, 4, Gadfly.Scale.DiscreteColorScale(Gadfly.Scale.default_discrete_colors, nothing, nothing, true), Gadfly.Scale.ContinuousColorScale(Gadfly.Scale.var\"#73#77\"{Int64, Int64, Int64, Int64, Float64, Int64}(100, 40, 260, 10, 1.5, 70), Gadfly.Scale.ContinuousScaleTransform(identity, identity, Gadfly.Scale.identity_formatter), nothing, nothing)), 3)], nothing, Data(\n",
       "  titles=Dict{Symbol, AbstractString}()\n",
       ")\n",
       ", Gadfly.ScaleElement[], Gadfly.StatisticElement[], Gadfly.Coord.Cartesian([:x, :xmin, :xmax, :xintercept], [:y, :ymin, :ymax, :yintercept, :middle, :lower_hinge, :upper_hinge, :lower_fence, :upper_fence, :outliers], 0, 50, 0, 50, false, false, false, nothing, false), Gadfly.GuideElement[Gadfly.Guide.Title(\"\"), Gadfly.Guide.XLabel(\"T (°C)\", :auto), Gadfly.Guide.YLabel(\"A_net (μmol m⁻² s⁻¹)\", :auto), Gadfly.Guide.ManualDiscreteKey(\"CO2 (μmol mol⁻¹)\", [\"1000 μmol mol⁻¹\", \"400 μmol mol⁻¹\", \"250 μmol mol⁻¹\"], Any[], ColorTypes.Colorant[LCHab{Float32}(70.0f0,60.0f0,240.0f0), LCHab{Float32}(80.0f0,70.000015f0,100.43479f0), LCHab{Float32}(65.89944f0,62.21457f0,353.99814f0)], Function[], Measures.Measure[], true)], Gadfly.Theme(LCHab{Float32}(70.0f0,60.0f0,240.0f0), 0.7mm, 0.45mm, 1.8mm, Gadfly.Scale.default_discrete_sizes, Gadfly.Scale.default_continuous_sizes, Gadfly.Scale.default_discrete_colors, Function[Compose.circle, Gadfly.Shape.square, Gadfly.Shape.diamond, Gadfly.Shape.cross, Gadfly.Shape.xcross, Gadfly.Shape.utriangle, Gadfly.Shape.dtriangle, Gadfly.Shape.star1, Gadfly.Shape.star2, Gadfly.Shape.hexagon, Gadfly.Shape.octagon, Gadfly.Shape.hline, Gadfly.Shape.vline, Gadfly.Shape.ltriangle, Gadfly.Shape.rtriangle], 0.3mm, [:solid, :dash, :dot, :dashdot, :dashdotdot, :ldash, :ldashdash, :ldashdot, :ldashdashdot], [1.0, 0.9, 0.8, 0.7, 0.6, 0.5, 0.4, 0.3, 0.2, 0.1, 0.0], nothing, nothing, 0.3mm, 0.0, RGB{N0f8}(1.0,1.0,1.0), Measures.AbsoluteLength[5.0mm, 5.0mm, 5.0mm, 0.0mm], RGB{N0f8}(0.816,0.816,0.878), Measures.AbsoluteLength[0.5mm, 0.5mm], RGB{N0f8}(0.627,0.627,0.627), 0.2mm, 0, \"'PT Sans Caption','Helvetica Neue','Helvetica',sans-serif\", 2.822222222222222mm, RGB{N0f8}(0.424,0.376,0.42), \"'PT Sans','Helvetica Neue','Helvetica',sans-serif\", 3.5277777777777777mm, RGB{N0f8}(0.337,0.29,0.333), \"'PT Sans Caption','Helvetica Neue','Helvetica',sans-serif\", 2.822222222222222mm, RGB{N0f8}(0.298,0.251,0.294), \"'PT Sans','Helvetica Neue','Helvetica',sans-serif\", 3.175mm, RGB{N0f8}(0.212,0.165,0.208), \"'PT Sans','Helvetica Neue','Helvetica',sans-serif\", 2.822222222222222mm, RGB{N0f8}(0.298,0.251,0.294), 40, -0.05mm, 1.0mm, 3.0mm, Gadfly.default_stroke_color, 0.3mm, Cropbox.var\"#603#612\"(), Gadfly.default_continuous_highlight_color, Gadfly.default_lowlight_color, Gadfly.default_middle_color, 0.6mm, :left, :square, nothing, nothing, nothing, :right, nothing, 2.0mm, 1000, 10.0, 0.5, 0.2, 1.0mm, 4, Gadfly.Scale.DiscreteColorScale(Gadfly.Scale.default_discrete_colors, nothing, nothing, true), Gadfly.Scale.ContinuousColorScale(Gadfly.Scale.var\"#73#77\"{Int64, Int64, Int64, Int64, Float64, Int64}(100, 40, 260, 10, 1.5, 70), Gadfly.Scale.ContinuousScaleTransform(identity, identity, Gadfly.Scale.identity_formatter), nothing, nothing)), Dict{Symbol, Any}()))], Dict{Symbol, Any}(:style => Dict(\"display\" => \"flex\", \"flex-direction\" => \"column\")))"
      ]
     },
     "execution_count": 10,
     "metadata": {
      "@webio": {
       "kernelId": "8436a56f-e476-4e97-9154-247f9c1a8fbe"
      }
     },
     "output_type": "execute_result"
    }
   ],
   "source": [
    "manipulate(ModelC3BB, :T, :A_net;\n",
    "        parameters = (\n",
    "    :StomataTuzet => :WP_leaf => -3:0.1:0,\n",
    "    :Weather      => :RH     => 0:5:100,\n",
    "    :Weather      => :PFD   => 0:50:2000,\n",
    "    :Nitrogen     => :N       => 0:0.1:4,        \n",
    "        ),\n",
    "    config = ge_C3base,\n",
    "    xstep = Weather => :T_air => 0:1:50,\n",
    "    group = CO2_group,\n",
    "    xlim = (0,50),\n",
    "    ylim = (0,50),\n",
    "    kind = :line,\n",
    ")"
   ]
  },
  {
   "cell_type": "markdown",
   "metadata": {},
   "source": [
    "## Stomatal conductance ($g_s$) response to PFD"
   ]
  },
  {
   "cell_type": "code",
   "execution_count": 11,
   "metadata": {
    "jupyter": {
     "source_hidden": true
    },
    "tags": []
   },
   "outputs": [
    {
     "data": {
      "application/vnd.webio.node+json": {
       "children": [
        {
         "children": [
          "StomataTuzet"
         ],
         "instanceArgs": {
          "namespace": "html",
          "tag": "div"
         },
         "nodeType": "DOM",
         "props": {
          "style": {
           "color": "rebeccapurple",
           "font-family": "monospace"
          }
         },
         "type": "node"
        },
        {
         "children": [
          {
           "children": [
            {
             "children": [
              {
               "children": [
                {
                 "children": [
                  "WP_leaf"
                 ],
                 "instanceArgs": {
                  "namespace": "html",
                  "tag": "label"
                 },
                 "nodeType": "DOM",
                 "props": {
                  "className": "interact ",
                  "style": {
                   "color": "royalblue",
                   "padding": "5px 10px 0px 10px",
                   "white-space": "nowrap"
                  }
                 },
                 "type": "node"
                }
               ],
               "instanceArgs": {
                "namespace": "html",
                "tag": "div"
               },
               "nodeType": "DOM",
               "props": {
                "className": "interact-flex-row-left"
               },
               "type": "node"
              },
              {
               "children": [
                {
                 "children": [],
                 "instanceArgs": {
                  "namespace": "html",
                  "tag": "input"
                 },
                 "nodeType": "DOM",
                 "props": {
                  "attributes": {
                   "data-bind": "numericValue: index, valueUpdate: 'input', event: {change: function (){this.changes(this.changes()+1)}}",
                   "orient": "horizontal",
                   "type": "range"
                  },
                  "className": "slider slider is-fullwidth",
                  "max": 31,
                  "min": 1,
                  "step": 1,
                  "style": {}
                 },
                 "type": "node"
                }
               ],
               "instanceArgs": {
                "namespace": "html",
                "tag": "div"
               },
               "nodeType": "DOM",
               "props": {
                "className": "interact-flex-row-center"
               },
               "type": "node"
              },
              {
               "children": [
                {
                 "children": [],
                 "instanceArgs": {
                  "namespace": "html",
                  "tag": "p"
                 },
                 "nodeType": "DOM",
                 "props": {
                  "attributes": {
                   "data-bind": "text: formatted_val"
                  }
                 },
                 "type": "node"
                }
               ],
               "instanceArgs": {
                "namespace": "html",
                "tag": "div"
               },
               "nodeType": "DOM",
               "props": {
                "className": "interact-flex-row-right"
               },
               "type": "node"
              }
             ],
             "instanceArgs": {
              "namespace": "html",
              "tag": "div"
             },
             "nodeType": "DOM",
             "props": {
              "className": "interact-flex-row interact-widget",
              "style": {
               "font-family": "monospace",
               "width": "80%"
              }
             },
             "type": "node"
            }
           ],
           "instanceArgs": {
            "handlers": {
             "changes": [
              "(function (val){return (val!=this.model[\"changes\"]()) ? (this.valueFromJulia[\"changes\"]=true, this.model[\"changes\"](val)) : undefined})"
             ],
             "index": [
              "(function (val){return (val!=this.model[\"index\"]()) ? (this.valueFromJulia[\"index\"]=true, this.model[\"index\"](val)) : undefined})"
             ]
            },
            "id": "5462020698869107123",
            "imports": {
             "data": [
              {
               "name": "knockout",
               "type": "js",
               "url": "/assetserver/c0689c4f2514def856941022372b529b3413f129-knockout.js"
              },
              {
               "name": "knockout_punches",
               "type": "js",
               "url": "/assetserver/69274bc4b68b761587a57ff3f5e787f3dd4781dc-knockout_punches.js"
              },
              {
               "name": null,
               "type": "js",
               "url": "/assetserver/096b68745a0180096d3bd812a95825d387626124-all.js"
              },
              {
               "name": null,
               "type": "css",
               "url": "/assetserver/d8822751ac3a06d244eead91a737222f90bb9e0b-style.css"
              },
              {
               "name": null,
               "type": "css",
               "url": "/assetserver/792d9982ee796e4da6422248c42eb77a0d83e61e-bulma_confined.min.css"
              }
             ],
             "type": "async_block"
            },
            "mount_callbacks": [
             "function () {\n    var handler = (function (ko, koPunches) {\n    ko.punches.enableAll();\n    ko.bindingHandlers.numericValue = {\n        init: function(element, valueAccessor, allBindings, data, context) {\n            var stringified = ko.observable(ko.unwrap(valueAccessor()));\n            stringified.subscribe(function(value) {\n                var val = parseFloat(value);\n                if (!isNaN(val)) {\n                    valueAccessor()(val);\n                }\n            });\n            valueAccessor().subscribe(function(value) {\n                var str = JSON.stringify(value);\n                if ((str == \"0\") && ([\"-0\", \"-0.\"].indexOf(stringified()) >= 0))\n                     return;\n                 if ([\"null\", \"\"].indexOf(str) >= 0)\n                     return;\n                stringified(str);\n            });\n            ko.applyBindingsToNode(\n                element,\n                {\n                    value: stringified,\n                    valueUpdate: allBindings.get('valueUpdate'),\n                },\n                context,\n            );\n        }\n    };\n    var json_data = {\"formatted_vals\":[\"-3.0\",\"-2.9\",\"-2.8\",\"-2.7\",\"-2.6\",\"-2.5\",\"-2.4\",\"-2.3\",\"-2.2\",\"-2.1\",\"-2.0\",\"-1.9\",\"-1.8\",\"-1.7\",\"-1.6\",\"-1.5\",\"-1.4\",\"-1.3\",\"-1.2\",\"-1.1\",\"-1.0\",\"-0.9\",\"-0.8\",\"-0.7\",\"-0.6\",\"-0.5\",\"-0.4\",\"-0.3\",\"-0.2\",\"-0.1\",\"0.0\"],\"changes\":WebIO.getval({\"name\":\"changes\",\"scope\":\"5462020698869107123\",\"id\":\"15606221249128820993\",\"type\":\"observable\"}),\"index\":WebIO.getval({\"name\":\"index\",\"scope\":\"5462020698869107123\",\"id\":\"10854453699750999768\",\"type\":\"observable\"})};\n    var self = this;\n    function AppViewModel() {\n        for (var key in json_data) {\n            var el = json_data[key];\n            this[key] = Array.isArray(el) ? ko.observableArray(el) : ko.observable(el);\n        }\n        \n        [this[\"formatted_val\"]=ko.computed(    function(){\n        return this.formatted_vals()[parseInt(this.index())-(1)];\n    }\n,this)]\n        [this[\"changes\"].subscribe((function (val){!(this.valueFromJulia[\"changes\"]) ? (WebIO.setval({\"name\":\"changes\",\"scope\":\"5462020698869107123\",\"id\":\"15606221249128820993\",\"type\":\"observable\"},val)) : undefined; return this.valueFromJulia[\"changes\"]=false}),self),this[\"index\"].subscribe((function (val){!(this.valueFromJulia[\"index\"]) ? (WebIO.setval({\"name\":\"index\",\"scope\":\"5462020698869107123\",\"id\":\"10854453699750999768\",\"type\":\"observable\"},val)) : undefined; return this.valueFromJulia[\"index\"]=false}),self)]\n        \n    }\n    self.model = new AppViewModel();\n    self.valueFromJulia = {};\n    for (var key in json_data) {\n        self.valueFromJulia[key] = false;\n    }\n    ko.applyBindings(self.model, self.dom);\n}\n);\n    (WebIO.importBlock({\"data\":[{\"name\":\"knockout\",\"type\":\"js\",\"url\":\"/assetserver/c0689c4f2514def856941022372b529b3413f129-knockout.js\"},{\"name\":\"knockout_punches\",\"type\":\"js\",\"url\":\"/assetserver/69274bc4b68b761587a57ff3f5e787f3dd4781dc-knockout_punches.js\"}],\"type\":\"async_block\"})).then((imports) => handler.apply(this, imports));\n}\n"
            ],
            "observables": {
             "changes": {
              "id": "15606221249128820993",
              "sync": true,
              "value": 0
             },
             "index": {
              "id": "10854453699750999768",
              "sync": true,
              "value": 26
             }
            },
            "systemjs_options": null
           },
           "nodeType": "Scope",
           "props": {},
           "type": "node"
          }
         ],
         "instanceArgs": {
          "namespace": "html",
          "tag": "div"
         },
         "nodeType": "DOM",
         "props": {
          "className": "field interact-widget"
         },
         "type": "node"
        },
        {
         "children": [
          "Weather"
         ],
         "instanceArgs": {
          "namespace": "html",
          "tag": "div"
         },
         "nodeType": "DOM",
         "props": {
          "style": {
           "color": "rebeccapurple",
           "font-family": "monospace"
          }
         },
         "type": "node"
        },
        {
         "children": [
          {
           "children": [
            {
             "children": [
              {
               "children": [
                {
                 "children": [
                  "RH (%)"
                 ],
                 "instanceArgs": {
                  "namespace": "html",
                  "tag": "label"
                 },
                 "nodeType": "DOM",
                 "props": {
                  "className": "interact ",
                  "style": {
                   "color": "royalblue",
                   "padding": "5px 10px 0px 10px",
                   "white-space": "nowrap"
                  }
                 },
                 "type": "node"
                }
               ],
               "instanceArgs": {
                "namespace": "html",
                "tag": "div"
               },
               "nodeType": "DOM",
               "props": {
                "className": "interact-flex-row-left"
               },
               "type": "node"
              },
              {
               "children": [
                {
                 "children": [],
                 "instanceArgs": {
                  "namespace": "html",
                  "tag": "input"
                 },
                 "nodeType": "DOM",
                 "props": {
                  "attributes": {
                   "data-bind": "numericValue: index, valueUpdate: 'input', event: {change: function (){this.changes(this.changes()+1)}}",
                   "orient": "horizontal",
                   "type": "range"
                  },
                  "className": "slider slider is-fullwidth",
                  "max": 21,
                  "min": 1,
                  "step": 1,
                  "style": {}
                 },
                 "type": "node"
                }
               ],
               "instanceArgs": {
                "namespace": "html",
                "tag": "div"
               },
               "nodeType": "DOM",
               "props": {
                "className": "interact-flex-row-center"
               },
               "type": "node"
              },
              {
               "children": [
                {
                 "children": [],
                 "instanceArgs": {
                  "namespace": "html",
                  "tag": "p"
                 },
                 "nodeType": "DOM",
                 "props": {
                  "attributes": {
                   "data-bind": "text: formatted_val"
                  }
                 },
                 "type": "node"
                }
               ],
               "instanceArgs": {
                "namespace": "html",
                "tag": "div"
               },
               "nodeType": "DOM",
               "props": {
                "className": "interact-flex-row-right"
               },
               "type": "node"
              }
             ],
             "instanceArgs": {
              "namespace": "html",
              "tag": "div"
             },
             "nodeType": "DOM",
             "props": {
              "className": "interact-flex-row interact-widget",
              "style": {
               "font-family": "monospace",
               "width": "80%"
              }
             },
             "type": "node"
            }
           ],
           "instanceArgs": {
            "handlers": {
             "changes": [
              "(function (val){return (val!=this.model[\"changes\"]()) ? (this.valueFromJulia[\"changes\"]=true, this.model[\"changes\"](val)) : undefined})"
             ],
             "index": [
              "(function (val){return (val!=this.model[\"index\"]()) ? (this.valueFromJulia[\"index\"]=true, this.model[\"index\"](val)) : undefined})"
             ]
            },
            "id": "3284227691132917580",
            "imports": {
             "data": [
              {
               "name": "knockout",
               "type": "js",
               "url": "/assetserver/c0689c4f2514def856941022372b529b3413f129-knockout.js"
              },
              {
               "name": "knockout_punches",
               "type": "js",
               "url": "/assetserver/69274bc4b68b761587a57ff3f5e787f3dd4781dc-knockout_punches.js"
              },
              {
               "name": null,
               "type": "js",
               "url": "/assetserver/096b68745a0180096d3bd812a95825d387626124-all.js"
              },
              {
               "name": null,
               "type": "css",
               "url": "/assetserver/d8822751ac3a06d244eead91a737222f90bb9e0b-style.css"
              },
              {
               "name": null,
               "type": "css",
               "url": "/assetserver/792d9982ee796e4da6422248c42eb77a0d83e61e-bulma_confined.min.css"
              }
             ],
             "type": "async_block"
            },
            "mount_callbacks": [
             "function () {\n    var handler = (function (ko, koPunches) {\n    ko.punches.enableAll();\n    ko.bindingHandlers.numericValue = {\n        init: function(element, valueAccessor, allBindings, data, context) {\n            var stringified = ko.observable(ko.unwrap(valueAccessor()));\n            stringified.subscribe(function(value) {\n                var val = parseFloat(value);\n                if (!isNaN(val)) {\n                    valueAccessor()(val);\n                }\n            });\n            valueAccessor().subscribe(function(value) {\n                var str = JSON.stringify(value);\n                if ((str == \"0\") && ([\"-0\", \"-0.\"].indexOf(stringified()) >= 0))\n                     return;\n                 if ([\"null\", \"\"].indexOf(str) >= 0)\n                     return;\n                stringified(str);\n            });\n            ko.applyBindingsToNode(\n                element,\n                {\n                    value: stringified,\n                    valueUpdate: allBindings.get('valueUpdate'),\n                },\n                context,\n            );\n        }\n    };\n    var json_data = {\"formatted_vals\":[\"0\",\"5\",\"10\",\"15\",\"20\",\"25\",\"30\",\"35\",\"40\",\"45\",\"50\",\"55\",\"60\",\"65\",\"70\",\"75\",\"80\",\"85\",\"90\",\"95\",\"100\"],\"changes\":WebIO.getval({\"name\":\"changes\",\"scope\":\"3284227691132917580\",\"id\":\"15259483919923263306\",\"type\":\"observable\"}),\"index\":WebIO.getval({\"name\":\"index\",\"scope\":\"3284227691132917580\",\"id\":\"700634924007857000\",\"type\":\"observable\"})};\n    var self = this;\n    function AppViewModel() {\n        for (var key in json_data) {\n            var el = json_data[key];\n            this[key] = Array.isArray(el) ? ko.observableArray(el) : ko.observable(el);\n        }\n        \n        [this[\"formatted_val\"]=ko.computed(    function(){\n        return this.formatted_vals()[parseInt(this.index())-(1)];\n    }\n,this)]\n        [this[\"changes\"].subscribe((function (val){!(this.valueFromJulia[\"changes\"]) ? (WebIO.setval({\"name\":\"changes\",\"scope\":\"3284227691132917580\",\"id\":\"15259483919923263306\",\"type\":\"observable\"},val)) : undefined; return this.valueFromJulia[\"changes\"]=false}),self),this[\"index\"].subscribe((function (val){!(this.valueFromJulia[\"index\"]) ? (WebIO.setval({\"name\":\"index\",\"scope\":\"3284227691132917580\",\"id\":\"700634924007857000\",\"type\":\"observable\"},val)) : undefined; return this.valueFromJulia[\"index\"]=false}),self)]\n        \n    }\n    self.model = new AppViewModel();\n    self.valueFromJulia = {};\n    for (var key in json_data) {\n        self.valueFromJulia[key] = false;\n    }\n    ko.applyBindings(self.model, self.dom);\n}\n);\n    (WebIO.importBlock({\"data\":[{\"name\":\"knockout\",\"type\":\"js\",\"url\":\"/assetserver/c0689c4f2514def856941022372b529b3413f129-knockout.js\"},{\"name\":\"knockout_punches\",\"type\":\"js\",\"url\":\"/assetserver/69274bc4b68b761587a57ff3f5e787f3dd4781dc-knockout_punches.js\"}],\"type\":\"async_block\"})).then((imports) => handler.apply(this, imports));\n}\n"
            ],
            "observables": {
             "changes": {
              "id": "15259483919923263306",
              "sync": true,
              "value": 0
             },
             "index": {
              "id": "700634924007857000",
              "sync": true,
              "value": 13
             }
            },
            "systemjs_options": null
           },
           "nodeType": "Scope",
           "props": {},
           "type": "node"
          }
         ],
         "instanceArgs": {
          "namespace": "html",
          "tag": "div"
         },
         "nodeType": "DOM",
         "props": {
          "className": "field interact-widget"
         },
         "type": "node"
        },
        {
         "children": [
          {
           "children": [
            {
             "children": [
              {
               "children": [
                {
                 "children": [
                  "T_air (°C)"
                 ],
                 "instanceArgs": {
                  "namespace": "html",
                  "tag": "label"
                 },
                 "nodeType": "DOM",
                 "props": {
                  "className": "interact ",
                  "style": {
                   "color": "royalblue",
                   "padding": "5px 10px 0px 10px",
                   "white-space": "nowrap"
                  }
                 },
                 "type": "node"
                }
               ],
               "instanceArgs": {
                "namespace": "html",
                "tag": "div"
               },
               "nodeType": "DOM",
               "props": {
                "className": "interact-flex-row-left"
               },
               "type": "node"
              },
              {
               "children": [
                {
                 "children": [],
                 "instanceArgs": {
                  "namespace": "html",
                  "tag": "input"
                 },
                 "nodeType": "DOM",
                 "props": {
                  "attributes": {
                   "data-bind": "numericValue: index, valueUpdate: 'input', event: {change: function (){this.changes(this.changes()+1)}}",
                   "orient": "horizontal",
                   "type": "range"
                  },
                  "className": "slider slider is-fullwidth",
                  "max": 51,
                  "min": 1,
                  "step": 1,
                  "style": {}
                 },
                 "type": "node"
                }
               ],
               "instanceArgs": {
                "namespace": "html",
                "tag": "div"
               },
               "nodeType": "DOM",
               "props": {
                "className": "interact-flex-row-center"
               },
               "type": "node"
              },
              {
               "children": [
                {
                 "children": [],
                 "instanceArgs": {
                  "namespace": "html",
                  "tag": "p"
                 },
                 "nodeType": "DOM",
                 "props": {
                  "attributes": {
                   "data-bind": "text: formatted_val"
                  }
                 },
                 "type": "node"
                }
               ],
               "instanceArgs": {
                "namespace": "html",
                "tag": "div"
               },
               "nodeType": "DOM",
               "props": {
                "className": "interact-flex-row-right"
               },
               "type": "node"
              }
             ],
             "instanceArgs": {
              "namespace": "html",
              "tag": "div"
             },
             "nodeType": "DOM",
             "props": {
              "className": "interact-flex-row interact-widget",
              "style": {
               "font-family": "monospace",
               "width": "80%"
              }
             },
             "type": "node"
            }
           ],
           "instanceArgs": {
            "handlers": {
             "changes": [
              "(function (val){return (val!=this.model[\"changes\"]()) ? (this.valueFromJulia[\"changes\"]=true, this.model[\"changes\"](val)) : undefined})"
             ],
             "index": [
              "(function (val){return (val!=this.model[\"index\"]()) ? (this.valueFromJulia[\"index\"]=true, this.model[\"index\"](val)) : undefined})"
             ]
            },
            "id": "1827506555396872965",
            "imports": {
             "data": [
              {
               "name": "knockout",
               "type": "js",
               "url": "/assetserver/c0689c4f2514def856941022372b529b3413f129-knockout.js"
              },
              {
               "name": "knockout_punches",
               "type": "js",
               "url": "/assetserver/69274bc4b68b761587a57ff3f5e787f3dd4781dc-knockout_punches.js"
              },
              {
               "name": null,
               "type": "js",
               "url": "/assetserver/096b68745a0180096d3bd812a95825d387626124-all.js"
              },
              {
               "name": null,
               "type": "css",
               "url": "/assetserver/d8822751ac3a06d244eead91a737222f90bb9e0b-style.css"
              },
              {
               "name": null,
               "type": "css",
               "url": "/assetserver/792d9982ee796e4da6422248c42eb77a0d83e61e-bulma_confined.min.css"
              }
             ],
             "type": "async_block"
            },
            "mount_callbacks": [
             "function () {\n    var handler = (function (ko, koPunches) {\n    ko.punches.enableAll();\n    ko.bindingHandlers.numericValue = {\n        init: function(element, valueAccessor, allBindings, data, context) {\n            var stringified = ko.observable(ko.unwrap(valueAccessor()));\n            stringified.subscribe(function(value) {\n                var val = parseFloat(value);\n                if (!isNaN(val)) {\n                    valueAccessor()(val);\n                }\n            });\n            valueAccessor().subscribe(function(value) {\n                var str = JSON.stringify(value);\n                if ((str == \"0\") && ([\"-0\", \"-0.\"].indexOf(stringified()) >= 0))\n                     return;\n                 if ([\"null\", \"\"].indexOf(str) >= 0)\n                     return;\n                stringified(str);\n            });\n            ko.applyBindingsToNode(\n                element,\n                {\n                    value: stringified,\n                    valueUpdate: allBindings.get('valueUpdate'),\n                },\n                context,\n            );\n        }\n    };\n    var json_data = {\"formatted_vals\":[\"0\",\"1\",\"2\",\"3\",\"4\",\"5\",\"6\",\"7\",\"8\",\"9\",\"10\",\"11\",\"12\",\"13\",\"14\",\"15\",\"16\",\"17\",\"18\",\"19\",\"20\",\"21\",\"22\",\"23\",\"24\",\"25\",\"26\",\"27\",\"28\",\"29\",\"30\",\"31\",\"32\",\"33\",\"34\",\"35\",\"36\",\"37\",\"38\",\"39\",\"40\",\"41\",\"42\",\"43\",\"44\",\"45\",\"46\",\"47\",\"48\",\"49\",\"50\"],\"changes\":WebIO.getval({\"name\":\"changes\",\"scope\":\"1827506555396872965\",\"id\":\"16898209549802289940\",\"type\":\"observable\"}),\"index\":WebIO.getval({\"name\":\"index\",\"scope\":\"1827506555396872965\",\"id\":\"7668518611029807786\",\"type\":\"observable\"})};\n    var self = this;\n    function AppViewModel() {\n        for (var key in json_data) {\n            var el = json_data[key];\n            this[key] = Array.isArray(el) ? ko.observableArray(el) : ko.observable(el);\n        }\n        \n        [this[\"formatted_val\"]=ko.computed(    function(){\n        return this.formatted_vals()[parseInt(this.index())-(1)];\n    }\n,this)]\n        [this[\"changes\"].subscribe((function (val){!(this.valueFromJulia[\"changes\"]) ? (WebIO.setval({\"name\":\"changes\",\"scope\":\"1827506555396872965\",\"id\":\"16898209549802289940\",\"type\":\"observable\"},val)) : undefined; return this.valueFromJulia[\"changes\"]=false}),self),this[\"index\"].subscribe((function (val){!(this.valueFromJulia[\"index\"]) ? (WebIO.setval({\"name\":\"index\",\"scope\":\"1827506555396872965\",\"id\":\"7668518611029807786\",\"type\":\"observable\"},val)) : undefined; return this.valueFromJulia[\"index\"]=false}),self)]\n        \n    }\n    self.model = new AppViewModel();\n    self.valueFromJulia = {};\n    for (var key in json_data) {\n        self.valueFromJulia[key] = false;\n    }\n    ko.applyBindings(self.model, self.dom);\n}\n);\n    (WebIO.importBlock({\"data\":[{\"name\":\"knockout\",\"type\":\"js\",\"url\":\"/assetserver/c0689c4f2514def856941022372b529b3413f129-knockout.js\"},{\"name\":\"knockout_punches\",\"type\":\"js\",\"url\":\"/assetserver/69274bc4b68b761587a57ff3f5e787f3dd4781dc-knockout_punches.js\"}],\"type\":\"async_block\"})).then((imports) => handler.apply(this, imports));\n}\n"
            ],
            "observables": {
             "changes": {
              "id": "16898209549802289940",
              "sync": true,
              "value": 0
             },
             "index": {
              "id": "7668518611029807786",
              "sync": true,
              "value": 26
             }
            },
            "systemjs_options": null
           },
           "nodeType": "Scope",
           "props": {},
           "type": "node"
          }
         ],
         "instanceArgs": {
          "namespace": "html",
          "tag": "div"
         },
         "nodeType": "DOM",
         "props": {
          "className": "field interact-widget"
         },
         "type": "node"
        },
        {
         "children": [
          "Nitrogen"
         ],
         "instanceArgs": {
          "namespace": "html",
          "tag": "div"
         },
         "nodeType": "DOM",
         "props": {
          "style": {
           "color": "rebeccapurple",
           "font-family": "monospace"
          }
         },
         "type": "node"
        },
        {
         "children": [
          {
           "children": [
            {
             "children": [
              {
               "children": [
                {
                 "children": [
                  "N"
                 ],
                 "instanceArgs": {
                  "namespace": "html",
                  "tag": "label"
                 },
                 "nodeType": "DOM",
                 "props": {
                  "className": "interact ",
                  "style": {
                   "color": "royalblue",
                   "padding": "5px 10px 0px 10px",
                   "white-space": "nowrap"
                  }
                 },
                 "type": "node"
                }
               ],
               "instanceArgs": {
                "namespace": "html",
                "tag": "div"
               },
               "nodeType": "DOM",
               "props": {
                "className": "interact-flex-row-left"
               },
               "type": "node"
              },
              {
               "children": [
                {
                 "children": [],
                 "instanceArgs": {
                  "namespace": "html",
                  "tag": "input"
                 },
                 "nodeType": "DOM",
                 "props": {
                  "attributes": {
                   "data-bind": "numericValue: index, valueUpdate: 'input', event: {change: function (){this.changes(this.changes()+1)}}",
                   "orient": "horizontal",
                   "type": "range"
                  },
                  "className": "slider slider is-fullwidth",
                  "max": 41,
                  "min": 1,
                  "step": 1,
                  "style": {}
                 },
                 "type": "node"
                }
               ],
               "instanceArgs": {
                "namespace": "html",
                "tag": "div"
               },
               "nodeType": "DOM",
               "props": {
                "className": "interact-flex-row-center"
               },
               "type": "node"
              },
              {
               "children": [
                {
                 "children": [],
                 "instanceArgs": {
                  "namespace": "html",
                  "tag": "p"
                 },
                 "nodeType": "DOM",
                 "props": {
                  "attributes": {
                   "data-bind": "text: formatted_val"
                  }
                 },
                 "type": "node"
                }
               ],
               "instanceArgs": {
                "namespace": "html",
                "tag": "div"
               },
               "nodeType": "DOM",
               "props": {
                "className": "interact-flex-row-right"
               },
               "type": "node"
              }
             ],
             "instanceArgs": {
              "namespace": "html",
              "tag": "div"
             },
             "nodeType": "DOM",
             "props": {
              "className": "interact-flex-row interact-widget",
              "style": {
               "font-family": "monospace",
               "width": "80%"
              }
             },
             "type": "node"
            }
           ],
           "instanceArgs": {
            "handlers": {
             "changes": [
              "(function (val){return (val!=this.model[\"changes\"]()) ? (this.valueFromJulia[\"changes\"]=true, this.model[\"changes\"](val)) : undefined})"
             ],
             "index": [
              "(function (val){return (val!=this.model[\"index\"]()) ? (this.valueFromJulia[\"index\"]=true, this.model[\"index\"](val)) : undefined})"
             ]
            },
            "id": "14530181366423938947",
            "imports": {
             "data": [
              {
               "name": "knockout",
               "type": "js",
               "url": "/assetserver/c0689c4f2514def856941022372b529b3413f129-knockout.js"
              },
              {
               "name": "knockout_punches",
               "type": "js",
               "url": "/assetserver/69274bc4b68b761587a57ff3f5e787f3dd4781dc-knockout_punches.js"
              },
              {
               "name": null,
               "type": "js",
               "url": "/assetserver/096b68745a0180096d3bd812a95825d387626124-all.js"
              },
              {
               "name": null,
               "type": "css",
               "url": "/assetserver/d8822751ac3a06d244eead91a737222f90bb9e0b-style.css"
              },
              {
               "name": null,
               "type": "css",
               "url": "/assetserver/792d9982ee796e4da6422248c42eb77a0d83e61e-bulma_confined.min.css"
              }
             ],
             "type": "async_block"
            },
            "mount_callbacks": [
             "function () {\n    var handler = (function (ko, koPunches) {\n    ko.punches.enableAll();\n    ko.bindingHandlers.numericValue = {\n        init: function(element, valueAccessor, allBindings, data, context) {\n            var stringified = ko.observable(ko.unwrap(valueAccessor()));\n            stringified.subscribe(function(value) {\n                var val = parseFloat(value);\n                if (!isNaN(val)) {\n                    valueAccessor()(val);\n                }\n            });\n            valueAccessor().subscribe(function(value) {\n                var str = JSON.stringify(value);\n                if ((str == \"0\") && ([\"-0\", \"-0.\"].indexOf(stringified()) >= 0))\n                     return;\n                 if ([\"null\", \"\"].indexOf(str) >= 0)\n                     return;\n                stringified(str);\n            });\n            ko.applyBindingsToNode(\n                element,\n                {\n                    value: stringified,\n                    valueUpdate: allBindings.get('valueUpdate'),\n                },\n                context,\n            );\n        }\n    };\n    var json_data = {\"formatted_vals\":[\"0.0\",\"0.1\",\"0.2\",\"0.3\",\"0.4\",\"0.5\",\"0.6\",\"0.7\",\"0.8\",\"0.9\",\"1.0\",\"1.1\",\"1.2\",\"1.3\",\"1.4\",\"1.5\",\"1.6\",\"1.7\",\"1.8\",\"1.9\",\"2.0\",\"2.1\",\"2.2\",\"2.3\",\"2.4\",\"2.5\",\"2.6\",\"2.7\",\"2.8\",\"2.9\",\"3.0\",\"3.1\",\"3.2\",\"3.3\",\"3.4\",\"3.5\",\"3.6\",\"3.7\",\"3.8\",\"3.9\",\"4.0\"],\"changes\":WebIO.getval({\"name\":\"changes\",\"scope\":\"14530181366423938947\",\"id\":\"12802435140649671645\",\"type\":\"observable\"}),\"index\":WebIO.getval({\"name\":\"index\",\"scope\":\"14530181366423938947\",\"id\":\"6421767805037540529\",\"type\":\"observable\"})};\n    var self = this;\n    function AppViewModel() {\n        for (var key in json_data) {\n            var el = json_data[key];\n            this[key] = Array.isArray(el) ? ko.observableArray(el) : ko.observable(el);\n        }\n        \n        [this[\"formatted_val\"]=ko.computed(    function(){\n        return this.formatted_vals()[parseInt(this.index())-(1)];\n    }\n,this)]\n        [this[\"changes\"].subscribe((function (val){!(this.valueFromJulia[\"changes\"]) ? (WebIO.setval({\"name\":\"changes\",\"scope\":\"14530181366423938947\",\"id\":\"12802435140649671645\",\"type\":\"observable\"},val)) : undefined; return this.valueFromJulia[\"changes\"]=false}),self),this[\"index\"].subscribe((function (val){!(this.valueFromJulia[\"index\"]) ? (WebIO.setval({\"name\":\"index\",\"scope\":\"14530181366423938947\",\"id\":\"6421767805037540529\",\"type\":\"observable\"},val)) : undefined; return this.valueFromJulia[\"index\"]=false}),self)]\n        \n    }\n    self.model = new AppViewModel();\n    self.valueFromJulia = {};\n    for (var key in json_data) {\n        self.valueFromJulia[key] = false;\n    }\n    ko.applyBindings(self.model, self.dom);\n}\n);\n    (WebIO.importBlock({\"data\":[{\"name\":\"knockout\",\"type\":\"js\",\"url\":\"/assetserver/c0689c4f2514def856941022372b529b3413f129-knockout.js\"},{\"name\":\"knockout_punches\",\"type\":\"js\",\"url\":\"/assetserver/69274bc4b68b761587a57ff3f5e787f3dd4781dc-knockout_punches.js\"}],\"type\":\"async_block\"})).then((imports) => handler.apply(this, imports));\n}\n"
            ],
            "observables": {
             "changes": {
              "id": "12802435140649671645",
              "sync": true,
              "value": 0
             },
             "index": {
              "id": "6421767805037540529",
              "sync": true,
              "value": 21
             }
            },
            "systemjs_options": null
           },
           "nodeType": "Scope",
           "props": {},
           "type": "node"
          }
         ],
         "instanceArgs": {
          "namespace": "html",
          "tag": "div"
         },
         "nodeType": "DOM",
         "props": {
          "className": "field interact-widget"
         },
         "type": "node"
        },
        {
         "children": [
          {
           "children": [],
           "instanceArgs": {
            "namespace": "html",
            "tag": "div"
           },
           "nodeType": "DOM",
           "props": {
            "className": "webio-observable",
            "setInnerHtml": "<?xml version=\"1.0\" encoding=\"UTF-8\"?>\n<svg xmlns=\"http://www.w3.org/2000/svg\"\n     xmlns:xlink=\"http://www.w3.org/1999/xlink\"\n     xmlns:gadfly=\"http://www.gadflyjl.org/ns\"\n     version=\"1.2\"\n     width=\"141.42mm\" height=\"100mm\" viewBox=\"0 0 141.42 100\"\n     stroke=\"none\"\n     fill=\"#000000\"\n     stroke-width=\"0.3\"\n     font-size=\"3.88\"\n>\n<defs>\n  <marker id=\"arrow\" markerWidth=\"15\" markerHeight=\"7\" refX=\"5\" refY=\"3.5\" orient=\"auto\" markerUnits=\"strokeWidth\">\n    <path d=\"M0,0 L15,3.5 L0,7 z\" stroke=\"context-stroke\" fill=\"context-stroke\"/>\n  </marker>\n</defs>\n<g stroke=\"#000000\" stroke-opacity=\"0.000\" fill=\"#FFFFFF\" id=\"img-48d0d4b1-1\">\n  <g transform=\"translate(70.71,50)\">\n    <path d=\"M-70.71,-50 L70.71,-50 70.71,50 -70.71,50  z\" class=\"primitive\"/>\n  </g>\n</g>\n<g class=\"plotroot xscalable yscalable\" id=\"img-48d0d4b1-2\">\n  <g font-size=\"3.53\" font-family=\"'PT Sans','Helvetica Neue','Helvetica',sans-serif\" fill=\"#564A55\" stroke=\"#000000\" stroke-opacity=\"0.000\" id=\"img-48d0d4b1-3\">\n    <g transform=\"translate(63.47,93.72)\">\n      <g class=\"primitive\">\n        <text text-anchor=\"middle\" dy=\"0.6em\">PFD (μmol m⁻² s⁻¹)</text>\n      </g>\n    </g>\n  </g>\n  <g class=\"guide xlabels\" font-size=\"2.82\" font-family=\"'PT Sans Caption','Helvetica Neue','Helvetica',sans-serif\" fill=\"#6C606B\" id=\"img-48d0d4b1-4\">\n    <g transform=\"translate(20.3,87.04)\">\n      <g class=\"primitive\">\n        <text text-anchor=\"middle\" dy=\"0.6em\">0</text>\n      </g>\n    </g>\n    <g transform=\"translate(41.89,87.04)\">\n      <g class=\"primitive\">\n        <text text-anchor=\"middle\" dy=\"0.6em\">500</text>\n      </g>\n    </g>\n    <g transform=\"translate(63.47,87.04)\">\n      <g class=\"primitive\">\n        <text text-anchor=\"middle\" dy=\"0.6em\">1000</text>\n      </g>\n    </g>\n    <g transform=\"translate(85.06,87.04)\">\n      <g class=\"primitive\">\n        <text text-anchor=\"middle\" dy=\"0.6em\">1500</text>\n      </g>\n    </g>\n    <g transform=\"translate(106.64,87.04)\">\n      <g class=\"primitive\">\n        <text text-anchor=\"middle\" dy=\"0.6em\">2000</text>\n      </g>\n    </g>\n  </g>\n  <g class=\"guide colorkey\" id=\"img-48d0d4b1-5\">\n    <g fill=\"#4C404B\" font-size=\"2.82\" font-family=\"'PT Sans','Helvetica Neue','Helvetica',sans-serif\" id=\"img-48d0d4b1-6\">\n      <g transform=\"translate(113.27,44.12)\" id=\"img-48d0d4b1-7\">\n        <g class=\"primitive\">\n          <text dy=\"0.35em\">1000 μmol mol⁻¹</text>\n        </g>\n      </g>\n      <g transform=\"translate(113.27,47.75)\" id=\"img-48d0d4b1-8\">\n        <g class=\"primitive\">\n          <text dy=\"0.35em\">400 μmol mol⁻¹</text>\n        </g>\n      </g>\n      <g transform=\"translate(113.27,51.38)\" id=\"img-48d0d4b1-9\">\n        <g class=\"primitive\">\n          <text dy=\"0.35em\">250 μmol mol⁻¹</text>\n        </g>\n      </g>\n    </g>\n    <g stroke-width=\"0.3\" id=\"img-48d0d4b1-10\">\n      <g stroke=\"#FFFFFF\" stroke-opacity=\"0.000\" fill-opacity=\"1\" fill=\"#FF6DAE\" id=\"img-48d0d4b1-11\">\n        <g transform=\"translate(110.45,51.38)\" id=\"img-48d0d4b1-12\">\n          <circle cx=\"0\" cy=\"0\" r=\"0.7\" class=\"primitive\"/>\n        </g>\n      </g>\n      <g stroke=\"#FFFFFF\" stroke-opacity=\"0.000\" fill-opacity=\"1\" fill=\"#D4CA3A\" id=\"img-48d0d4b1-13\">\n        <g transform=\"translate(110.45,47.75)\" id=\"img-48d0d4b1-14\">\n          <circle cx=\"0\" cy=\"0\" r=\"0.7\" class=\"primitive\"/>\n        </g>\n      </g>\n      <g stroke=\"#FFFFFF\" stroke-opacity=\"0.000\" fill-opacity=\"1\" fill=\"#00BFFF\" id=\"img-48d0d4b1-15\">\n        <g transform=\"translate(110.45,44.12)\" id=\"img-48d0d4b1-16\">\n          <circle cx=\"0\" cy=\"0\" r=\"0.7\" class=\"primitive\"/>\n        </g>\n      </g>\n    </g>\n    <g fill=\"#362A35\" font-size=\"3.18\" font-family=\"'PT Sans','Helvetica Neue','Helvetica',sans-serif\" stroke=\"#000000\" stroke-opacity=\"0.000\" id=\"img-48d0d4b1-17\">\n      <g transform=\"translate(109.64,40.81)\" id=\"img-48d0d4b1-18\">\n        <g class=\"primitive\">\n          <text dy=\"-0em\">CO2 (μmol mol⁻¹)</text>\n        </g>\n      </g>\n    </g>\n  </g>\n  <g clip-path=\"url(#img-48d0d4b1-19)\">\n    <g id=\"img-48d0d4b1-20\">\n      <g pointer-events=\"visible\" stroke-width=\"0.3\" fill=\"#000000\" fill-opacity=\"0.000\" stroke=\"#000000\" stroke-opacity=\"0.000\" class=\"guide background\" id=\"img-48d0d4b1-21\">\n        <g transform=\"translate(63.47,45.52)\" id=\"img-48d0d4b1-22\">\n          <path d=\"M-45.17,-40.52 L45.17,-40.52 45.17,40.52 -45.17,40.52  z\" class=\"primitive\"/>\n        </g>\n      </g>\n      <g class=\"guide ygridlines xfixed\" stroke-dasharray=\"0.5,0.5\" stroke-width=\"0.2\" stroke=\"#D0D0E0\" id=\"img-48d0d4b1-23\">\n        <g transform=\"translate(63.47,84.04)\" id=\"img-48d0d4b1-24\">\n          <path fill=\"none\" d=\"M-45.17,0 L45.17,0 \" class=\"primitive\"/>\n        </g>\n        <g transform=\"translate(63.47,64.78)\" id=\"img-48d0d4b1-25\">\n          <path fill=\"none\" d=\"M-45.17,0 L45.17,0 \" class=\"primitive\"/>\n        </g>\n        <g transform=\"translate(63.47,45.52)\" id=\"img-48d0d4b1-26\">\n          <path fill=\"none\" d=\"M-45.17,0 L45.17,0 \" class=\"primitive\"/>\n        </g>\n        <g transform=\"translate(63.47,26.26)\" id=\"img-48d0d4b1-27\">\n          <path fill=\"none\" d=\"M-45.17,0 L45.17,0 \" class=\"primitive\"/>\n        </g>\n        <g transform=\"translate(63.47,7)\" id=\"img-48d0d4b1-28\">\n          <path fill=\"none\" d=\"M-45.17,0 L45.17,0 \" class=\"primitive\"/>\n        </g>\n      </g>\n      <g class=\"guide xgridlines yfixed\" stroke-dasharray=\"0.5,0.5\" stroke-width=\"0.2\" stroke=\"#D0D0E0\" id=\"img-48d0d4b1-29\">\n        <g transform=\"translate(20.3,45.52)\" id=\"img-48d0d4b1-30\">\n          <path fill=\"none\" d=\"M0,-40.52 L0,40.52 \" class=\"primitive\"/>\n        </g>\n        <g transform=\"translate(41.89,45.52)\" id=\"img-48d0d4b1-31\">\n          <path fill=\"none\" d=\"M0,-40.52 L0,40.52 \" class=\"primitive\"/>\n        </g>\n        <g transform=\"translate(63.47,45.52)\" id=\"img-48d0d4b1-32\">\n          <path fill=\"none\" d=\"M0,-40.52 L0,40.52 \" class=\"primitive\"/>\n        </g>\n        <g transform=\"translate(85.06,45.52)\" id=\"img-48d0d4b1-33\">\n          <path fill=\"none\" d=\"M0,-40.52 L0,40.52 \" class=\"primitive\"/>\n        </g>\n        <g transform=\"translate(106.64,45.52)\" id=\"img-48d0d4b1-34\">\n          <path fill=\"none\" d=\"M0,-40.52 L0,40.52 \" class=\"primitive\"/>\n        </g>\n      </g>\n      <g class=\"plotpanel\" id=\"img-48d0d4b1-35\">\n        <metadata>\n          <boundingbox value=\"18.303333333333327mm 5.0mm 90.33802290397618mm 81.04333333333334mm\"/>\n          <unitbox value=\"-46.329529742055115 0.8207675334227491 2092.6590594841105 -0.8415350668454983\"/>\n        </metadata>\n        <g stroke-width=\"0.3\" fill=\"#000000\" fill-opacity=\"0.000\" class=\"geometry\" id=\"img-48d0d4b1-36\">\n          <g class=\"color_LCHab{Float32}(70.0f0,60.0f0,240.0f0)\" stroke-dasharray=\"none\" stroke=\"#00BFFF\" id=\"img-48d0d4b1-37\">\n            <g transform=\"translate(63.47,68.06)\" id=\"img-48d0d4b1-38\">\n              <path fill=\"none\" d=\"M-43.17,15.02 L-38.85,11.51 -34.54,8.02 -30.22,5.23 -25.9,3.11 -21.58,1.52 -17.27,0.33 -12.95,-0.58 -8.63,-1.3 -4.32,-1.87 0,-2.34 4.32,-2.73 8.63,-3.07 12.95,-3.36 17.27,-3.62 21.58,-3.85 25.9,-4.06 30.22,-4.24 34.54,-4.42 38.85,-4.58 43.17,-4.73 \" class=\"primitive\"/>\n            </g>\n          </g>\n        </g>\n        <g stroke-width=\"0.3\" fill=\"#000000\" fill-opacity=\"0.000\" class=\"geometry\" id=\"img-48d0d4b1-39\">\n          <g class=\"color_LCHab{Float32}(80.0f0,70.000015f0,100.43479f0)\" stroke-dasharray=\"none\" stroke=\"#D4CA3A\" id=\"img-48d0d4b1-40\">\n            <g transform=\"translate(63.47,52.59)\" id=\"img-48d0d4b1-41\">\n              <path fill=\"none\" d=\"M-43.17,30.49 L-38.85,23.77 -34.54,16.59 -30.22,10.74 -25.9,6.27 -21.58,2.94 -17.27,0.46 -12.95,-1.42 -8.63,-2.87 -4.32,-4.02 0,-4.95 4.32,-5.72 8.63,-6.36 12.95,-6.91 17.27,-7.39 21.58,-7.8 25.9,-8.17 30.22,-8.5 34.54,-8.79 38.85,-9.06 43.17,-9.3 \" class=\"primitive\"/>\n            </g>\n          </g>\n        </g>\n        <g stroke-width=\"0.3\" fill=\"#000000\" fill-opacity=\"0.000\" class=\"geometry\" id=\"img-48d0d4b1-42\">\n          <g class=\"color_LCHab{Float32}(65.89944f0,62.21457f0,353.99814f0)\" stroke-dasharray=\"none\" stroke=\"#FF6DAE\" id=\"img-48d0d4b1-43\">\n            <g transform=\"translate(63.47,48.21)\" id=\"img-48d0d4b1-44\">\n              <path fill=\"none\" d=\"M-43.17,34.87 L-38.85,26.72 -34.54,17.32 -30.22,9.56 -25.9,3.6 -21.58,-0.82 -17.27,-4.1 -12.95,-6.56 -8.63,-6.75 -4.32,-6.66 0,-6.58 4.32,-6.49 8.63,-6.4 12.95,-6.31 17.27,-6.21 21.58,-6.12 25.9,-6.02 30.22,-5.92 34.54,-5.82 38.85,-5.72 43.17,-5.61 \" class=\"primitive\"/>\n            </g>\n          </g>\n        </g>\n      </g>\n    </g>\n  </g>\n  <g class=\"guide ylabels\" font-size=\"2.82\" font-family=\"'PT Sans Caption','Helvetica Neue','Helvetica',sans-serif\" fill=\"#6C606B\" id=\"img-48d0d4b1-45\">\n    <g transform=\"translate(17.3,84.04)\" id=\"img-48d0d4b1-46\">\n      <g class=\"primitive\">\n        <text text-anchor=\"end\" dy=\"0.35em\">0.0</text>\n      </g>\n    </g>\n    <g transform=\"translate(17.3,64.78)\" id=\"img-48d0d4b1-47\">\n      <g class=\"primitive\">\n        <text text-anchor=\"end\" dy=\"0.35em\">0.2</text>\n      </g>\n    </g>\n    <g transform=\"translate(17.3,45.52)\" id=\"img-48d0d4b1-48\">\n      <g class=\"primitive\">\n        <text text-anchor=\"end\" dy=\"0.35em\">0.4</text>\n      </g>\n    </g>\n    <g transform=\"translate(17.3,26.26)\" id=\"img-48d0d4b1-49\">\n      <g class=\"primitive\">\n        <text text-anchor=\"end\" dy=\"0.35em\">0.6</text>\n      </g>\n    </g>\n    <g transform=\"translate(17.3,7)\" id=\"img-48d0d4b1-50\">\n      <g class=\"primitive\">\n        <text text-anchor=\"end\" dy=\"0.35em\">0.8</text>\n      </g>\n    </g>\n  </g>\n  <g font-size=\"3.53\" font-family=\"'PT Sans','Helvetica Neue','Helvetica',sans-serif\" fill=\"#564A55\" stroke=\"#000000\" stroke-opacity=\"0.000\" id=\"img-48d0d4b1-51\">\n    <g transform=\"translate(8.64,43.52)\" id=\"img-48d0d4b1-52\">\n      <g class=\"primitive\">\n        <text text-anchor=\"middle\" dy=\"0.35em\" transform=\"rotate(-90,0, 2)\">gs (mol bar⁻¹ m⁻² s⁻¹)</text>\n      </g>\n    </g>\n  </g>\n</g>\n<defs>\n  <clipPath id=\"img-48d0d4b1-19\">\n    <path d=\"M18.3,5 L108.64,5 108.64,86.04 18.3,86.04 \" />\n  </clipPath>\n</defs>\n</svg>\n"
           },
           "type": "node"
          }
         ],
         "instanceArgs": {
          "handlers": {
           "obs-output": [
            "function (value, scope) {\n    scope.setInnerHTML(value);\n}\n"
           ]
          },
          "id": "5621800677850055367",
          "imports": {
           "data": [],
           "type": "async_block"
          },
          "mount_callbacks": [],
          "observables": {
           "obs-output": {
            "id": "3237218031090516310",
            "sync": false,
            "value": "<?xml version=\"1.0\" encoding=\"UTF-8\"?>\n<svg xmlns=\"http://www.w3.org/2000/svg\"\n     xmlns:xlink=\"http://www.w3.org/1999/xlink\"\n     xmlns:gadfly=\"http://www.gadflyjl.org/ns\"\n     version=\"1.2\"\n     width=\"141.42mm\" height=\"100mm\" viewBox=\"0 0 141.42 100\"\n     stroke=\"none\"\n     fill=\"#000000\"\n     stroke-width=\"0.3\"\n     font-size=\"3.88\"\n>\n<defs>\n  <marker id=\"arrow\" markerWidth=\"15\" markerHeight=\"7\" refX=\"5\" refY=\"3.5\" orient=\"auto\" markerUnits=\"strokeWidth\">\n    <path d=\"M0,0 L15,3.5 L0,7 z\" stroke=\"context-stroke\" fill=\"context-stroke\"/>\n  </marker>\n</defs>\n<g stroke=\"#000000\" stroke-opacity=\"0.000\" fill=\"#FFFFFF\" id=\"img-48d0d4b1-1\">\n  <g transform=\"translate(70.71,50)\">\n    <path d=\"M-70.71,-50 L70.71,-50 70.71,50 -70.71,50  z\" class=\"primitive\"/>\n  </g>\n</g>\n<g class=\"plotroot xscalable yscalable\" id=\"img-48d0d4b1-2\">\n  <g font-size=\"3.53\" font-family=\"'PT Sans','Helvetica Neue','Helvetica',sans-serif\" fill=\"#564A55\" stroke=\"#000000\" stroke-opacity=\"0.000\" id=\"img-48d0d4b1-3\">\n    <g transform=\"translate(63.47,93.72)\">\n      <g class=\"primitive\">\n        <text text-anchor=\"middle\" dy=\"0.6em\">PFD (μmol m⁻² s⁻¹)</text>\n      </g>\n    </g>\n  </g>\n  <g class=\"guide xlabels\" font-size=\"2.82\" font-family=\"'PT Sans Caption','Helvetica Neue','Helvetica',sans-serif\" fill=\"#6C606B\" id=\"img-48d0d4b1-4\">\n    <g transform=\"translate(20.3,87.04)\">\n      <g class=\"primitive\">\n        <text text-anchor=\"middle\" dy=\"0.6em\">0</text>\n      </g>\n    </g>\n    <g transform=\"translate(41.89,87.04)\">\n      <g class=\"primitive\">\n        <text text-anchor=\"middle\" dy=\"0.6em\">500</text>\n      </g>\n    </g>\n    <g transform=\"translate(63.47,87.04)\">\n      <g class=\"primitive\">\n        <text text-anchor=\"middle\" dy=\"0.6em\">1000</text>\n      </g>\n    </g>\n    <g transform=\"translate(85.06,87.04)\">\n      <g class=\"primitive\">\n        <text text-anchor=\"middle\" dy=\"0.6em\">1500</text>\n      </g>\n    </g>\n    <g transform=\"translate(106.64,87.04)\">\n      <g class=\"primitive\">\n        <text text-anchor=\"middle\" dy=\"0.6em\">2000</text>\n      </g>\n    </g>\n  </g>\n  <g class=\"guide colorkey\" id=\"img-48d0d4b1-5\">\n    <g fill=\"#4C404B\" font-size=\"2.82\" font-family=\"'PT Sans','Helvetica Neue','Helvetica',sans-serif\" id=\"img-48d0d4b1-6\">\n      <g transform=\"translate(113.27,44.12)\" id=\"img-48d0d4b1-7\">\n        <g class=\"primitive\">\n          <text dy=\"0.35em\">1000 μmol mol⁻¹</text>\n        </g>\n      </g>\n      <g transform=\"translate(113.27,47.75)\" id=\"img-48d0d4b1-8\">\n        <g class=\"primitive\">\n          <text dy=\"0.35em\">400 μmol mol⁻¹</text>\n        </g>\n      </g>\n      <g transform=\"translate(113.27,51.38)\" id=\"img-48d0d4b1-9\">\n        <g class=\"primitive\">\n          <text dy=\"0.35em\">250 μmol mol⁻¹</text>\n        </g>\n      </g>\n    </g>\n    <g stroke-width=\"0.3\" id=\"img-48d0d4b1-10\">\n      <g stroke=\"#FFFFFF\" stroke-opacity=\"0.000\" fill-opacity=\"1\" fill=\"#FF6DAE\" id=\"img-48d0d4b1-11\">\n        <g transform=\"translate(110.45,51.38)\" id=\"img-48d0d4b1-12\">\n          <circle cx=\"0\" cy=\"0\" r=\"0.7\" class=\"primitive\"/>\n        </g>\n      </g>\n      <g stroke=\"#FFFFFF\" stroke-opacity=\"0.000\" fill-opacity=\"1\" fill=\"#D4CA3A\" id=\"img-48d0d4b1-13\">\n        <g transform=\"translate(110.45,47.75)\" id=\"img-48d0d4b1-14\">\n          <circle cx=\"0\" cy=\"0\" r=\"0.7\" class=\"primitive\"/>\n        </g>\n      </g>\n      <g stroke=\"#FFFFFF\" stroke-opacity=\"0.000\" fill-opacity=\"1\" fill=\"#00BFFF\" id=\"img-48d0d4b1-15\">\n        <g transform=\"translate(110.45,44.12)\" id=\"img-48d0d4b1-16\">\n          <circle cx=\"0\" cy=\"0\" r=\"0.7\" class=\"primitive\"/>\n        </g>\n      </g>\n    </g>\n    <g fill=\"#362A35\" font-size=\"3.18\" font-family=\"'PT Sans','Helvetica Neue','Helvetica',sans-serif\" stroke=\"#000000\" stroke-opacity=\"0.000\" id=\"img-48d0d4b1-17\">\n      <g transform=\"translate(109.64,40.81)\" id=\"img-48d0d4b1-18\">\n        <g class=\"primitive\">\n          <text dy=\"-0em\">CO2 (μmol mol⁻¹)</text>\n        </g>\n      </g>\n    </g>\n  </g>\n  <g clip-path=\"url(#img-48d0d4b1-19)\">\n    <g id=\"img-48d0d4b1-20\">\n      <g pointer-events=\"visible\" stroke-width=\"0.3\" fill=\"#000000\" fill-opacity=\"0.000\" stroke=\"#000000\" stroke-opacity=\"0.000\" class=\"guide background\" id=\"img-48d0d4b1-21\">\n        <g transform=\"translate(63.47,45.52)\" id=\"img-48d0d4b1-22\">\n          <path d=\"M-45.17,-40.52 L45.17,-40.52 45.17,40.52 -45.17,40.52  z\" class=\"primitive\"/>\n        </g>\n      </g>\n      <g class=\"guide ygridlines xfixed\" stroke-dasharray=\"0.5,0.5\" stroke-width=\"0.2\" stroke=\"#D0D0E0\" id=\"img-48d0d4b1-23\">\n        <g transform=\"translate(63.47,84.04)\" id=\"img-48d0d4b1-24\">\n          <path fill=\"none\" d=\"M-45.17,0 L45.17,0 \" class=\"primitive\"/>\n        </g>\n        <g transform=\"translate(63.47,64.78)\" id=\"img-48d0d4b1-25\">\n          <path fill=\"none\" d=\"M-45.17,0 L45.17,0 \" class=\"primitive\"/>\n        </g>\n        <g transform=\"translate(63.47,45.52)\" id=\"img-48d0d4b1-26\">\n          <path fill=\"none\" d=\"M-45.17,0 L45.17,0 \" class=\"primitive\"/>\n        </g>\n        <g transform=\"translate(63.47,26.26)\" id=\"img-48d0d4b1-27\">\n          <path fill=\"none\" d=\"M-45.17,0 L45.17,0 \" class=\"primitive\"/>\n        </g>\n        <g transform=\"translate(63.47,7)\" id=\"img-48d0d4b1-28\">\n          <path fill=\"none\" d=\"M-45.17,0 L45.17,0 \" class=\"primitive\"/>\n        </g>\n      </g>\n      <g class=\"guide xgridlines yfixed\" stroke-dasharray=\"0.5,0.5\" stroke-width=\"0.2\" stroke=\"#D0D0E0\" id=\"img-48d0d4b1-29\">\n        <g transform=\"translate(20.3,45.52)\" id=\"img-48d0d4b1-30\">\n          <path fill=\"none\" d=\"M0,-40.52 L0,40.52 \" class=\"primitive\"/>\n        </g>\n        <g transform=\"translate(41.89,45.52)\" id=\"img-48d0d4b1-31\">\n          <path fill=\"none\" d=\"M0,-40.52 L0,40.52 \" class=\"primitive\"/>\n        </g>\n        <g transform=\"translate(63.47,45.52)\" id=\"img-48d0d4b1-32\">\n          <path fill=\"none\" d=\"M0,-40.52 L0,40.52 \" class=\"primitive\"/>\n        </g>\n        <g transform=\"translate(85.06,45.52)\" id=\"img-48d0d4b1-33\">\n          <path fill=\"none\" d=\"M0,-40.52 L0,40.52 \" class=\"primitive\"/>\n        </g>\n        <g transform=\"translate(106.64,45.52)\" id=\"img-48d0d4b1-34\">\n          <path fill=\"none\" d=\"M0,-40.52 L0,40.52 \" class=\"primitive\"/>\n        </g>\n      </g>\n      <g class=\"plotpanel\" id=\"img-48d0d4b1-35\">\n        <metadata>\n          <boundingbox value=\"18.303333333333327mm 5.0mm 90.33802290397618mm 81.04333333333334mm\"/>\n          <unitbox value=\"-46.329529742055115 0.8207675334227491 2092.6590594841105 -0.8415350668454983\"/>\n        </metadata>\n        <g stroke-width=\"0.3\" fill=\"#000000\" fill-opacity=\"0.000\" class=\"geometry\" id=\"img-48d0d4b1-36\">\n          <g class=\"color_LCHab{Float32}(70.0f0,60.0f0,240.0f0)\" stroke-dasharray=\"none\" stroke=\"#00BFFF\" id=\"img-48d0d4b1-37\">\n            <g transform=\"translate(63.47,68.06)\" id=\"img-48d0d4b1-38\">\n              <path fill=\"none\" d=\"M-43.17,15.02 L-38.85,11.51 -34.54,8.02 -30.22,5.23 -25.9,3.11 -21.58,1.52 -17.27,0.33 -12.95,-0.58 -8.63,-1.3 -4.32,-1.87 0,-2.34 4.32,-2.73 8.63,-3.07 12.95,-3.36 17.27,-3.62 21.58,-3.85 25.9,-4.06 30.22,-4.24 34.54,-4.42 38.85,-4.58 43.17,-4.73 \" class=\"primitive\"/>\n            </g>\n          </g>\n        </g>\n        <g stroke-width=\"0.3\" fill=\"#000000\" fill-opacity=\"0.000\" class=\"geometry\" id=\"img-48d0d4b1-39\">\n          <g class=\"color_LCHab{Float32}(80.0f0,70.000015f0,100.43479f0)\" stroke-dasharray=\"none\" stroke=\"#D4CA3A\" id=\"img-48d0d4b1-40\">\n            <g transform=\"translate(63.47,52.59)\" id=\"img-48d0d4b1-41\">\n              <path fill=\"none\" d=\"M-43.17,30.49 L-38.85,23.77 -34.54,16.59 -30.22,10.74 -25.9,6.27 -21.58,2.94 -17.27,0.46 -12.95,-1.42 -8.63,-2.87 -4.32,-4.02 0,-4.95 4.32,-5.72 8.63,-6.36 12.95,-6.91 17.27,-7.39 21.58,-7.8 25.9,-8.17 30.22,-8.5 34.54,-8.79 38.85,-9.06 43.17,-9.3 \" class=\"primitive\"/>\n            </g>\n          </g>\n        </g>\n        <g stroke-width=\"0.3\" fill=\"#000000\" fill-opacity=\"0.000\" class=\"geometry\" id=\"img-48d0d4b1-42\">\n          <g class=\"color_LCHab{Float32}(65.89944f0,62.21457f0,353.99814f0)\" stroke-dasharray=\"none\" stroke=\"#FF6DAE\" id=\"img-48d0d4b1-43\">\n            <g transform=\"translate(63.47,48.21)\" id=\"img-48d0d4b1-44\">\n              <path fill=\"none\" d=\"M-43.17,34.87 L-38.85,26.72 -34.54,17.32 -30.22,9.56 -25.9,3.6 -21.58,-0.82 -17.27,-4.1 -12.95,-6.56 -8.63,-6.75 -4.32,-6.66 0,-6.58 4.32,-6.49 8.63,-6.4 12.95,-6.31 17.27,-6.21 21.58,-6.12 25.9,-6.02 30.22,-5.92 34.54,-5.82 38.85,-5.72 43.17,-5.61 \" class=\"primitive\"/>\n            </g>\n          </g>\n        </g>\n      </g>\n    </g>\n  </g>\n  <g class=\"guide ylabels\" font-size=\"2.82\" font-family=\"'PT Sans Caption','Helvetica Neue','Helvetica',sans-serif\" fill=\"#6C606B\" id=\"img-48d0d4b1-45\">\n    <g transform=\"translate(17.3,84.04)\" id=\"img-48d0d4b1-46\">\n      <g class=\"primitive\">\n        <text text-anchor=\"end\" dy=\"0.35em\">0.0</text>\n      </g>\n    </g>\n    <g transform=\"translate(17.3,64.78)\" id=\"img-48d0d4b1-47\">\n      <g class=\"primitive\">\n        <text text-anchor=\"end\" dy=\"0.35em\">0.2</text>\n      </g>\n    </g>\n    <g transform=\"translate(17.3,45.52)\" id=\"img-48d0d4b1-48\">\n      <g class=\"primitive\">\n        <text text-anchor=\"end\" dy=\"0.35em\">0.4</text>\n      </g>\n    </g>\n    <g transform=\"translate(17.3,26.26)\" id=\"img-48d0d4b1-49\">\n      <g class=\"primitive\">\n        <text text-anchor=\"end\" dy=\"0.35em\">0.6</text>\n      </g>\n    </g>\n    <g transform=\"translate(17.3,7)\" id=\"img-48d0d4b1-50\">\n      <g class=\"primitive\">\n        <text text-anchor=\"end\" dy=\"0.35em\">0.8</text>\n      </g>\n    </g>\n  </g>\n  <g font-size=\"3.53\" font-family=\"'PT Sans','Helvetica Neue','Helvetica',sans-serif\" fill=\"#564A55\" stroke=\"#000000\" stroke-opacity=\"0.000\" id=\"img-48d0d4b1-51\">\n    <g transform=\"translate(8.64,43.52)\" id=\"img-48d0d4b1-52\">\n      <g class=\"primitive\">\n        <text text-anchor=\"middle\" dy=\"0.35em\" transform=\"rotate(-90,0, 2)\">gs (mol bar⁻¹ m⁻² s⁻¹)</text>\n      </g>\n    </g>\n  </g>\n</g>\n<defs>\n  <clipPath id=\"img-48d0d4b1-19\">\n    <path d=\"M18.3,5 L108.64,5 108.64,86.04 18.3,86.04 \" />\n  </clipPath>\n</defs>\n</svg>\n"
           }
          },
          "systemjs_options": null
         },
         "nodeType": "Scope",
         "props": {},
         "type": "node"
        }
       ],
       "instanceArgs": {
        "namespace": "html",
        "tag": "div"
       },
       "nodeType": "DOM",
       "props": {
        "style": {
         "display": "flex",
         "flex-direction": "column"
        }
       },
       "type": "node"
      },
      "text/html": [
       "<div\n",
       "    class=\"webio-mountpoint\"\n",
       "    data-webio-mountpoint=\"13178421744048788312\"\n",
       ">\n",
       "    <script>\n",
       "    (function(){\n",
       "    // Some integrations (namely, IJulia/Jupyter) use an alternate render pathway than\n",
       "    // just putting the html on the page. If WebIO isn't defined, then it's pretty likely\n",
       "    // that we're in one of those situations and the integration just isn't installed\n",
       "    // correctly.\n",
       "    if (typeof window.WebIO === \"undefined\") {\n",
       "        document\n",
       "            .querySelector('[data-webio-mountpoint=\"13178421744048788312\"]')\n",
       "            .innerHTML = (\n",
       "                '<div style=\"padding: 1em; background-color: #f8d6da; border: 1px solid #f5c6cb; font-weight: bold;\">' +\n",
       "                '<p><strong>WebIO not detected.</strong></p>' +\n",
       "                '<p>Please read ' +\n",
       "                '<a href=\"https://juliagizmos.github.io/WebIO.jl/latest/troubleshooting/not-detected/\" target=\"_blank\">the troubleshooting guide</a> ' +\n",
       "                'for more information on how to resolve this issue.</p>' +\n",
       "                '<p><a href=\"https://juliagizmos.github.io/WebIO.jl/latest/troubleshooting/not-detected/\" target=\"_blank\">https://juliagizmos.github.io/WebIO.jl/latest/troubleshooting/not-detected/</a></p>' +\n",
       "                '</div>'\n",
       "            );\n",
       "        return;\n",
       "    }\n",
       "    WebIO.mount(\n",
       "        document.querySelector('[data-webio-mountpoint=\"13178421744048788312\"]'),\n",
       "        {\"props\":{\"style\":{\"display\":\"flex\",\"flex-direction\":\"column\"}},\"nodeType\":\"DOM\",\"type\":\"node\",\"instanceArgs\":{\"namespace\":\"html\",\"tag\":\"div\"},\"children\":[{\"props\":{\"style\":{\"color\":\"rebeccapurple\",\"font-family\":\"monospace\"}},\"nodeType\":\"DOM\",\"type\":\"node\",\"instanceArgs\":{\"namespace\":\"html\",\"tag\":\"div\"},\"children\":[\"StomataTuzet\"]},{\"props\":{\"className\":\"field interact-widget\"},\"nodeType\":\"DOM\",\"type\":\"node\",\"instanceArgs\":{\"namespace\":\"html\",\"tag\":\"div\"},\"children\":[{\"props\":{},\"nodeType\":\"Scope\",\"type\":\"node\",\"instanceArgs\":{\"imports\":{\"data\":[{\"name\":\"knockout\",\"type\":\"js\",\"url\":\"\\/assetserver\\/c0689c4f2514def856941022372b529b3413f129-knockout.js\"},{\"name\":\"knockout_punches\",\"type\":\"js\",\"url\":\"\\/assetserver\\/69274bc4b68b761587a57ff3f5e787f3dd4781dc-knockout_punches.js\"},{\"name\":null,\"type\":\"js\",\"url\":\"\\/assetserver\\/096b68745a0180096d3bd812a95825d387626124-all.js\"},{\"name\":null,\"type\":\"css\",\"url\":\"\\/assetserver\\/d8822751ac3a06d244eead91a737222f90bb9e0b-style.css\"},{\"name\":null,\"type\":\"css\",\"url\":\"\\/assetserver\\/792d9982ee796e4da6422248c42eb77a0d83e61e-bulma_confined.min.css\"}],\"type\":\"async_block\"},\"id\":\"5462020698869107123\",\"handlers\":{\"changes\":[\"(function (val){return (val!=this.model[\\\"changes\\\"]()) ? (this.valueFromJulia[\\\"changes\\\"]=true, this.model[\\\"changes\\\"](val)) : undefined})\"],\"index\":[\"(function (val){return (val!=this.model[\\\"index\\\"]()) ? (this.valueFromJulia[\\\"index\\\"]=true, this.model[\\\"index\\\"](val)) : undefined})\"]},\"systemjs_options\":null,\"mount_callbacks\":[\"function () {\\n    var handler = (function (ko, koPunches) {\\n    ko.punches.enableAll();\\n    ko.bindingHandlers.numericValue = {\\n        init: function(element, valueAccessor, allBindings, data, context) {\\n            var stringified = ko.observable(ko.unwrap(valueAccessor()));\\n            stringified.subscribe(function(value) {\\n                var val = parseFloat(value);\\n                if (!isNaN(val)) {\\n                    valueAccessor()(val);\\n                }\\n            });\\n            valueAccessor().subscribe(function(value) {\\n                var str = JSON.stringify(value);\\n                if ((str == \\\"0\\\") && ([\\\"-0\\\", \\\"-0.\\\"].indexOf(stringified()) >= 0))\\n                     return;\\n                 if ([\\\"null\\\", \\\"\\\"].indexOf(str) >= 0)\\n                     return;\\n                stringified(str);\\n            });\\n            ko.applyBindingsToNode(\\n                element,\\n                {\\n                    value: stringified,\\n                    valueUpdate: allBindings.get('valueUpdate'),\\n                },\\n                context,\\n            );\\n        }\\n    };\\n    var json_data = {\\\"formatted_vals\\\":[\\\"-3.0\\\",\\\"-2.9\\\",\\\"-2.8\\\",\\\"-2.7\\\",\\\"-2.6\\\",\\\"-2.5\\\",\\\"-2.4\\\",\\\"-2.3\\\",\\\"-2.2\\\",\\\"-2.1\\\",\\\"-2.0\\\",\\\"-1.9\\\",\\\"-1.8\\\",\\\"-1.7\\\",\\\"-1.6\\\",\\\"-1.5\\\",\\\"-1.4\\\",\\\"-1.3\\\",\\\"-1.2\\\",\\\"-1.1\\\",\\\"-1.0\\\",\\\"-0.9\\\",\\\"-0.8\\\",\\\"-0.7\\\",\\\"-0.6\\\",\\\"-0.5\\\",\\\"-0.4\\\",\\\"-0.3\\\",\\\"-0.2\\\",\\\"-0.1\\\",\\\"0.0\\\"],\\\"changes\\\":WebIO.getval({\\\"name\\\":\\\"changes\\\",\\\"scope\\\":\\\"5462020698869107123\\\",\\\"id\\\":\\\"15606221249128820993\\\",\\\"type\\\":\\\"observable\\\"}),\\\"index\\\":WebIO.getval({\\\"name\\\":\\\"index\\\",\\\"scope\\\":\\\"5462020698869107123\\\",\\\"id\\\":\\\"10854453699750999768\\\",\\\"type\\\":\\\"observable\\\"})};\\n    var self = this;\\n    function AppViewModel() {\\n        for (var key in json_data) {\\n            var el = json_data[key];\\n            this[key] = Array.isArray(el) ? ko.observableArray(el) : ko.observable(el);\\n        }\\n        \\n        [this[\\\"formatted_val\\\"]=ko.computed(    function(){\\n        return this.formatted_vals()[parseInt(this.index())-(1)];\\n    }\\n,this)]\\n        [this[\\\"changes\\\"].subscribe((function (val){!(this.valueFromJulia[\\\"changes\\\"]) ? (WebIO.setval({\\\"name\\\":\\\"changes\\\",\\\"scope\\\":\\\"5462020698869107123\\\",\\\"id\\\":\\\"15606221249128820993\\\",\\\"type\\\":\\\"observable\\\"},val)) : undefined; return this.valueFromJulia[\\\"changes\\\"]=false}),self),this[\\\"index\\\"].subscribe((function (val){!(this.valueFromJulia[\\\"index\\\"]) ? (WebIO.setval({\\\"name\\\":\\\"index\\\",\\\"scope\\\":\\\"5462020698869107123\\\",\\\"id\\\":\\\"10854453699750999768\\\",\\\"type\\\":\\\"observable\\\"},val)) : undefined; return this.valueFromJulia[\\\"index\\\"]=false}),self)]\\n        \\n    }\\n    self.model = new AppViewModel();\\n    self.valueFromJulia = {};\\n    for (var key in json_data) {\\n        self.valueFromJulia[key] = false;\\n    }\\n    ko.applyBindings(self.model, self.dom);\\n}\\n);\\n    (WebIO.importBlock({\\\"data\\\":[{\\\"name\\\":\\\"knockout\\\",\\\"type\\\":\\\"js\\\",\\\"url\\\":\\\"\\/assetserver\\/c0689c4f2514def856941022372b529b3413f129-knockout.js\\\"},{\\\"name\\\":\\\"knockout_punches\\\",\\\"type\\\":\\\"js\\\",\\\"url\\\":\\\"\\/assetserver\\/69274bc4b68b761587a57ff3f5e787f3dd4781dc-knockout_punches.js\\\"}],\\\"type\\\":\\\"async_block\\\"})).then((imports) => handler.apply(this, imports));\\n}\\n\"],\"observables\":{\"changes\":{\"sync\":true,\"id\":\"15606221249128820993\",\"value\":0},\"index\":{\"sync\":true,\"id\":\"10854453699750999768\",\"value\":26}}},\"children\":[{\"props\":{\"className\":\"interact-flex-row interact-widget\",\"style\":{\"font-family\":\"monospace\",\"width\":\"80%\"}},\"nodeType\":\"DOM\",\"type\":\"node\",\"instanceArgs\":{\"namespace\":\"html\",\"tag\":\"div\"},\"children\":[{\"props\":{\"className\":\"interact-flex-row-left\"},\"nodeType\":\"DOM\",\"type\":\"node\",\"instanceArgs\":{\"namespace\":\"html\",\"tag\":\"div\"},\"children\":[{\"props\":{\"className\":\"interact \",\"style\":{\"padding\":\"5px 10px 0px 10px\",\"white-space\":\"nowrap\",\"color\":\"royalblue\"}},\"nodeType\":\"DOM\",\"type\":\"node\",\"instanceArgs\":{\"namespace\":\"html\",\"tag\":\"label\"},\"children\":[\"WP_leaf\"]}]},{\"props\":{\"className\":\"interact-flex-row-center\"},\"nodeType\":\"DOM\",\"type\":\"node\",\"instanceArgs\":{\"namespace\":\"html\",\"tag\":\"div\"},\"children\":[{\"props\":{\"max\":31,\"min\":1,\"attributes\":{\"type\":\"range\",\"data-bind\":\"numericValue: index, valueUpdate: 'input', event: {change: function (){this.changes(this.changes()+1)}}\",\"orient\":\"horizontal\"},\"step\":1,\"className\":\"slider slider is-fullwidth\",\"style\":{}},\"nodeType\":\"DOM\",\"type\":\"node\",\"instanceArgs\":{\"namespace\":\"html\",\"tag\":\"input\"},\"children\":[]}]},{\"props\":{\"className\":\"interact-flex-row-right\"},\"nodeType\":\"DOM\",\"type\":\"node\",\"instanceArgs\":{\"namespace\":\"html\",\"tag\":\"div\"},\"children\":[{\"props\":{\"attributes\":{\"data-bind\":\"text: formatted_val\"}},\"nodeType\":\"DOM\",\"type\":\"node\",\"instanceArgs\":{\"namespace\":\"html\",\"tag\":\"p\"},\"children\":[]}]}]}]}]},{\"props\":{\"style\":{\"color\":\"rebeccapurple\",\"font-family\":\"monospace\"}},\"nodeType\":\"DOM\",\"type\":\"node\",\"instanceArgs\":{\"namespace\":\"html\",\"tag\":\"div\"},\"children\":[\"Weather\"]},{\"props\":{\"className\":\"field interact-widget\"},\"nodeType\":\"DOM\",\"type\":\"node\",\"instanceArgs\":{\"namespace\":\"html\",\"tag\":\"div\"},\"children\":[{\"props\":{},\"nodeType\":\"Scope\",\"type\":\"node\",\"instanceArgs\":{\"imports\":{\"data\":[{\"name\":\"knockout\",\"type\":\"js\",\"url\":\"\\/assetserver\\/c0689c4f2514def856941022372b529b3413f129-knockout.js\"},{\"name\":\"knockout_punches\",\"type\":\"js\",\"url\":\"\\/assetserver\\/69274bc4b68b761587a57ff3f5e787f3dd4781dc-knockout_punches.js\"},{\"name\":null,\"type\":\"js\",\"url\":\"\\/assetserver\\/096b68745a0180096d3bd812a95825d387626124-all.js\"},{\"name\":null,\"type\":\"css\",\"url\":\"\\/assetserver\\/d8822751ac3a06d244eead91a737222f90bb9e0b-style.css\"},{\"name\":null,\"type\":\"css\",\"url\":\"\\/assetserver\\/792d9982ee796e4da6422248c42eb77a0d83e61e-bulma_confined.min.css\"}],\"type\":\"async_block\"},\"id\":\"3284227691132917580\",\"handlers\":{\"changes\":[\"(function (val){return (val!=this.model[\\\"changes\\\"]()) ? (this.valueFromJulia[\\\"changes\\\"]=true, this.model[\\\"changes\\\"](val)) : undefined})\"],\"index\":[\"(function (val){return (val!=this.model[\\\"index\\\"]()) ? (this.valueFromJulia[\\\"index\\\"]=true, this.model[\\\"index\\\"](val)) : undefined})\"]},\"systemjs_options\":null,\"mount_callbacks\":[\"function () {\\n    var handler = (function (ko, koPunches) {\\n    ko.punches.enableAll();\\n    ko.bindingHandlers.numericValue = {\\n        init: function(element, valueAccessor, allBindings, data, context) {\\n            var stringified = ko.observable(ko.unwrap(valueAccessor()));\\n            stringified.subscribe(function(value) {\\n                var val = parseFloat(value);\\n                if (!isNaN(val)) {\\n                    valueAccessor()(val);\\n                }\\n            });\\n            valueAccessor().subscribe(function(value) {\\n                var str = JSON.stringify(value);\\n                if ((str == \\\"0\\\") && ([\\\"-0\\\", \\\"-0.\\\"].indexOf(stringified()) >= 0))\\n                     return;\\n                 if ([\\\"null\\\", \\\"\\\"].indexOf(str) >= 0)\\n                     return;\\n                stringified(str);\\n            });\\n            ko.applyBindingsToNode(\\n                element,\\n                {\\n                    value: stringified,\\n                    valueUpdate: allBindings.get('valueUpdate'),\\n                },\\n                context,\\n            );\\n        }\\n    };\\n    var json_data = {\\\"formatted_vals\\\":[\\\"0\\\",\\\"5\\\",\\\"10\\\",\\\"15\\\",\\\"20\\\",\\\"25\\\",\\\"30\\\",\\\"35\\\",\\\"40\\\",\\\"45\\\",\\\"50\\\",\\\"55\\\",\\\"60\\\",\\\"65\\\",\\\"70\\\",\\\"75\\\",\\\"80\\\",\\\"85\\\",\\\"90\\\",\\\"95\\\",\\\"100\\\"],\\\"changes\\\":WebIO.getval({\\\"name\\\":\\\"changes\\\",\\\"scope\\\":\\\"3284227691132917580\\\",\\\"id\\\":\\\"15259483919923263306\\\",\\\"type\\\":\\\"observable\\\"}),\\\"index\\\":WebIO.getval({\\\"name\\\":\\\"index\\\",\\\"scope\\\":\\\"3284227691132917580\\\",\\\"id\\\":\\\"700634924007857000\\\",\\\"type\\\":\\\"observable\\\"})};\\n    var self = this;\\n    function AppViewModel() {\\n        for (var key in json_data) {\\n            var el = json_data[key];\\n            this[key] = Array.isArray(el) ? ko.observableArray(el) : ko.observable(el);\\n        }\\n        \\n        [this[\\\"formatted_val\\\"]=ko.computed(    function(){\\n        return this.formatted_vals()[parseInt(this.index())-(1)];\\n    }\\n,this)]\\n        [this[\\\"changes\\\"].subscribe((function (val){!(this.valueFromJulia[\\\"changes\\\"]) ? (WebIO.setval({\\\"name\\\":\\\"changes\\\",\\\"scope\\\":\\\"3284227691132917580\\\",\\\"id\\\":\\\"15259483919923263306\\\",\\\"type\\\":\\\"observable\\\"},val)) : undefined; return this.valueFromJulia[\\\"changes\\\"]=false}),self),this[\\\"index\\\"].subscribe((function (val){!(this.valueFromJulia[\\\"index\\\"]) ? (WebIO.setval({\\\"name\\\":\\\"index\\\",\\\"scope\\\":\\\"3284227691132917580\\\",\\\"id\\\":\\\"700634924007857000\\\",\\\"type\\\":\\\"observable\\\"},val)) : undefined; return this.valueFromJulia[\\\"index\\\"]=false}),self)]\\n        \\n    }\\n    self.model = new AppViewModel();\\n    self.valueFromJulia = {};\\n    for (var key in json_data) {\\n        self.valueFromJulia[key] = false;\\n    }\\n    ko.applyBindings(self.model, self.dom);\\n}\\n);\\n    (WebIO.importBlock({\\\"data\\\":[{\\\"name\\\":\\\"knockout\\\",\\\"type\\\":\\\"js\\\",\\\"url\\\":\\\"\\/assetserver\\/c0689c4f2514def856941022372b529b3413f129-knockout.js\\\"},{\\\"name\\\":\\\"knockout_punches\\\",\\\"type\\\":\\\"js\\\",\\\"url\\\":\\\"\\/assetserver\\/69274bc4b68b761587a57ff3f5e787f3dd4781dc-knockout_punches.js\\\"}],\\\"type\\\":\\\"async_block\\\"})).then((imports) => handler.apply(this, imports));\\n}\\n\"],\"observables\":{\"changes\":{\"sync\":true,\"id\":\"15259483919923263306\",\"value\":0},\"index\":{\"sync\":true,\"id\":\"700634924007857000\",\"value\":13}}},\"children\":[{\"props\":{\"className\":\"interact-flex-row interact-widget\",\"style\":{\"font-family\":\"monospace\",\"width\":\"80%\"}},\"nodeType\":\"DOM\",\"type\":\"node\",\"instanceArgs\":{\"namespace\":\"html\",\"tag\":\"div\"},\"children\":[{\"props\":{\"className\":\"interact-flex-row-left\"},\"nodeType\":\"DOM\",\"type\":\"node\",\"instanceArgs\":{\"namespace\":\"html\",\"tag\":\"div\"},\"children\":[{\"props\":{\"className\":\"interact \",\"style\":{\"padding\":\"5px 10px 0px 10px\",\"white-space\":\"nowrap\",\"color\":\"royalblue\"}},\"nodeType\":\"DOM\",\"type\":\"node\",\"instanceArgs\":{\"namespace\":\"html\",\"tag\":\"label\"},\"children\":[\"RH (%)\"]}]},{\"props\":{\"className\":\"interact-flex-row-center\"},\"nodeType\":\"DOM\",\"type\":\"node\",\"instanceArgs\":{\"namespace\":\"html\",\"tag\":\"div\"},\"children\":[{\"props\":{\"max\":21,\"min\":1,\"attributes\":{\"type\":\"range\",\"data-bind\":\"numericValue: index, valueUpdate: 'input', event: {change: function (){this.changes(this.changes()+1)}}\",\"orient\":\"horizontal\"},\"step\":1,\"className\":\"slider slider is-fullwidth\",\"style\":{}},\"nodeType\":\"DOM\",\"type\":\"node\",\"instanceArgs\":{\"namespace\":\"html\",\"tag\":\"input\"},\"children\":[]}]},{\"props\":{\"className\":\"interact-flex-row-right\"},\"nodeType\":\"DOM\",\"type\":\"node\",\"instanceArgs\":{\"namespace\":\"html\",\"tag\":\"div\"},\"children\":[{\"props\":{\"attributes\":{\"data-bind\":\"text: formatted_val\"}},\"nodeType\":\"DOM\",\"type\":\"node\",\"instanceArgs\":{\"namespace\":\"html\",\"tag\":\"p\"},\"children\":[]}]}]}]}]},{\"props\":{\"className\":\"field interact-widget\"},\"nodeType\":\"DOM\",\"type\":\"node\",\"instanceArgs\":{\"namespace\":\"html\",\"tag\":\"div\"},\"children\":[{\"props\":{},\"nodeType\":\"Scope\",\"type\":\"node\",\"instanceArgs\":{\"imports\":{\"data\":[{\"name\":\"knockout\",\"type\":\"js\",\"url\":\"\\/assetserver\\/c0689c4f2514def856941022372b529b3413f129-knockout.js\"},{\"name\":\"knockout_punches\",\"type\":\"js\",\"url\":\"\\/assetserver\\/69274bc4b68b761587a57ff3f5e787f3dd4781dc-knockout_punches.js\"},{\"name\":null,\"type\":\"js\",\"url\":\"\\/assetserver\\/096b68745a0180096d3bd812a95825d387626124-all.js\"},{\"name\":null,\"type\":\"css\",\"url\":\"\\/assetserver\\/d8822751ac3a06d244eead91a737222f90bb9e0b-style.css\"},{\"name\":null,\"type\":\"css\",\"url\":\"\\/assetserver\\/792d9982ee796e4da6422248c42eb77a0d83e61e-bulma_confined.min.css\"}],\"type\":\"async_block\"},\"id\":\"1827506555396872965\",\"handlers\":{\"changes\":[\"(function (val){return (val!=this.model[\\\"changes\\\"]()) ? (this.valueFromJulia[\\\"changes\\\"]=true, this.model[\\\"changes\\\"](val)) : undefined})\"],\"index\":[\"(function (val){return (val!=this.model[\\\"index\\\"]()) ? (this.valueFromJulia[\\\"index\\\"]=true, this.model[\\\"index\\\"](val)) : undefined})\"]},\"systemjs_options\":null,\"mount_callbacks\":[\"function () {\\n    var handler = (function (ko, koPunches) {\\n    ko.punches.enableAll();\\n    ko.bindingHandlers.numericValue = {\\n        init: function(element, valueAccessor, allBindings, data, context) {\\n            var stringified = ko.observable(ko.unwrap(valueAccessor()));\\n            stringified.subscribe(function(value) {\\n                var val = parseFloat(value);\\n                if (!isNaN(val)) {\\n                    valueAccessor()(val);\\n                }\\n            });\\n            valueAccessor().subscribe(function(value) {\\n                var str = JSON.stringify(value);\\n                if ((str == \\\"0\\\") && ([\\\"-0\\\", \\\"-0.\\\"].indexOf(stringified()) >= 0))\\n                     return;\\n                 if ([\\\"null\\\", \\\"\\\"].indexOf(str) >= 0)\\n                     return;\\n                stringified(str);\\n            });\\n            ko.applyBindingsToNode(\\n                element,\\n                {\\n                    value: stringified,\\n                    valueUpdate: allBindings.get('valueUpdate'),\\n                },\\n                context,\\n            );\\n        }\\n    };\\n    var json_data = {\\\"formatted_vals\\\":[\\\"0\\\",\\\"1\\\",\\\"2\\\",\\\"3\\\",\\\"4\\\",\\\"5\\\",\\\"6\\\",\\\"7\\\",\\\"8\\\",\\\"9\\\",\\\"10\\\",\\\"11\\\",\\\"12\\\",\\\"13\\\",\\\"14\\\",\\\"15\\\",\\\"16\\\",\\\"17\\\",\\\"18\\\",\\\"19\\\",\\\"20\\\",\\\"21\\\",\\\"22\\\",\\\"23\\\",\\\"24\\\",\\\"25\\\",\\\"26\\\",\\\"27\\\",\\\"28\\\",\\\"29\\\",\\\"30\\\",\\\"31\\\",\\\"32\\\",\\\"33\\\",\\\"34\\\",\\\"35\\\",\\\"36\\\",\\\"37\\\",\\\"38\\\",\\\"39\\\",\\\"40\\\",\\\"41\\\",\\\"42\\\",\\\"43\\\",\\\"44\\\",\\\"45\\\",\\\"46\\\",\\\"47\\\",\\\"48\\\",\\\"49\\\",\\\"50\\\"],\\\"changes\\\":WebIO.getval({\\\"name\\\":\\\"changes\\\",\\\"scope\\\":\\\"1827506555396872965\\\",\\\"id\\\":\\\"16898209549802289940\\\",\\\"type\\\":\\\"observable\\\"}),\\\"index\\\":WebIO.getval({\\\"name\\\":\\\"index\\\",\\\"scope\\\":\\\"1827506555396872965\\\",\\\"id\\\":\\\"7668518611029807786\\\",\\\"type\\\":\\\"observable\\\"})};\\n    var self = this;\\n    function AppViewModel() {\\n        for (var key in json_data) {\\n            var el = json_data[key];\\n            this[key] = Array.isArray(el) ? ko.observableArray(el) : ko.observable(el);\\n        }\\n        \\n        [this[\\\"formatted_val\\\"]=ko.computed(    function(){\\n        return this.formatted_vals()[parseInt(this.index())-(1)];\\n    }\\n,this)]\\n        [this[\\\"changes\\\"].subscribe((function (val){!(this.valueFromJulia[\\\"changes\\\"]) ? (WebIO.setval({\\\"name\\\":\\\"changes\\\",\\\"scope\\\":\\\"1827506555396872965\\\",\\\"id\\\":\\\"16898209549802289940\\\",\\\"type\\\":\\\"observable\\\"},val)) : undefined; return this.valueFromJulia[\\\"changes\\\"]=false}),self),this[\\\"index\\\"].subscribe((function (val){!(this.valueFromJulia[\\\"index\\\"]) ? (WebIO.setval({\\\"name\\\":\\\"index\\\",\\\"scope\\\":\\\"1827506555396872965\\\",\\\"id\\\":\\\"7668518611029807786\\\",\\\"type\\\":\\\"observable\\\"},val)) : undefined; return this.valueFromJulia[\\\"index\\\"]=false}),self)]\\n        \\n    }\\n    self.model = new AppViewModel();\\n    self.valueFromJulia = {};\\n    for (var key in json_data) {\\n        self.valueFromJulia[key] = false;\\n    }\\n    ko.applyBindings(self.model, self.dom);\\n}\\n);\\n    (WebIO.importBlock({\\\"data\\\":[{\\\"name\\\":\\\"knockout\\\",\\\"type\\\":\\\"js\\\",\\\"url\\\":\\\"\\/assetserver\\/c0689c4f2514def856941022372b529b3413f129-knockout.js\\\"},{\\\"name\\\":\\\"knockout_punches\\\",\\\"type\\\":\\\"js\\\",\\\"url\\\":\\\"\\/assetserver\\/69274bc4b68b761587a57ff3f5e787f3dd4781dc-knockout_punches.js\\\"}],\\\"type\\\":\\\"async_block\\\"})).then((imports) => handler.apply(this, imports));\\n}\\n\"],\"observables\":{\"changes\":{\"sync\":true,\"id\":\"16898209549802289940\",\"value\":0},\"index\":{\"sync\":true,\"id\":\"7668518611029807786\",\"value\":26}}},\"children\":[{\"props\":{\"className\":\"interact-flex-row interact-widget\",\"style\":{\"font-family\":\"monospace\",\"width\":\"80%\"}},\"nodeType\":\"DOM\",\"type\":\"node\",\"instanceArgs\":{\"namespace\":\"html\",\"tag\":\"div\"},\"children\":[{\"props\":{\"className\":\"interact-flex-row-left\"},\"nodeType\":\"DOM\",\"type\":\"node\",\"instanceArgs\":{\"namespace\":\"html\",\"tag\":\"div\"},\"children\":[{\"props\":{\"className\":\"interact \",\"style\":{\"padding\":\"5px 10px 0px 10px\",\"white-space\":\"nowrap\",\"color\":\"royalblue\"}},\"nodeType\":\"DOM\",\"type\":\"node\",\"instanceArgs\":{\"namespace\":\"html\",\"tag\":\"label\"},\"children\":[\"T_air (°C)\"]}]},{\"props\":{\"className\":\"interact-flex-row-center\"},\"nodeType\":\"DOM\",\"type\":\"node\",\"instanceArgs\":{\"namespace\":\"html\",\"tag\":\"div\"},\"children\":[{\"props\":{\"max\":51,\"min\":1,\"attributes\":{\"type\":\"range\",\"data-bind\":\"numericValue: index, valueUpdate: 'input', event: {change: function (){this.changes(this.changes()+1)}}\",\"orient\":\"horizontal\"},\"step\":1,\"className\":\"slider slider is-fullwidth\",\"style\":{}},\"nodeType\":\"DOM\",\"type\":\"node\",\"instanceArgs\":{\"namespace\":\"html\",\"tag\":\"input\"},\"children\":[]}]},{\"props\":{\"className\":\"interact-flex-row-right\"},\"nodeType\":\"DOM\",\"type\":\"node\",\"instanceArgs\":{\"namespace\":\"html\",\"tag\":\"div\"},\"children\":[{\"props\":{\"attributes\":{\"data-bind\":\"text: formatted_val\"}},\"nodeType\":\"DOM\",\"type\":\"node\",\"instanceArgs\":{\"namespace\":\"html\",\"tag\":\"p\"},\"children\":[]}]}]}]}]},{\"props\":{\"style\":{\"color\":\"rebeccapurple\",\"font-family\":\"monospace\"}},\"nodeType\":\"DOM\",\"type\":\"node\",\"instanceArgs\":{\"namespace\":\"html\",\"tag\":\"div\"},\"children\":[\"Nitrogen\"]},{\"props\":{\"className\":\"field interact-widget\"},\"nodeType\":\"DOM\",\"type\":\"node\",\"instanceArgs\":{\"namespace\":\"html\",\"tag\":\"div\"},\"children\":[{\"props\":{},\"nodeType\":\"Scope\",\"type\":\"node\",\"instanceArgs\":{\"imports\":{\"data\":[{\"name\":\"knockout\",\"type\":\"js\",\"url\":\"\\/assetserver\\/c0689c4f2514def856941022372b529b3413f129-knockout.js\"},{\"name\":\"knockout_punches\",\"type\":\"js\",\"url\":\"\\/assetserver\\/69274bc4b68b761587a57ff3f5e787f3dd4781dc-knockout_punches.js\"},{\"name\":null,\"type\":\"js\",\"url\":\"\\/assetserver\\/096b68745a0180096d3bd812a95825d387626124-all.js\"},{\"name\":null,\"type\":\"css\",\"url\":\"\\/assetserver\\/d8822751ac3a06d244eead91a737222f90bb9e0b-style.css\"},{\"name\":null,\"type\":\"css\",\"url\":\"\\/assetserver\\/792d9982ee796e4da6422248c42eb77a0d83e61e-bulma_confined.min.css\"}],\"type\":\"async_block\"},\"id\":\"14530181366423938947\",\"handlers\":{\"changes\":[\"(function (val){return (val!=this.model[\\\"changes\\\"]()) ? (this.valueFromJulia[\\\"changes\\\"]=true, this.model[\\\"changes\\\"](val)) : undefined})\"],\"index\":[\"(function (val){return (val!=this.model[\\\"index\\\"]()) ? (this.valueFromJulia[\\\"index\\\"]=true, this.model[\\\"index\\\"](val)) : undefined})\"]},\"systemjs_options\":null,\"mount_callbacks\":[\"function () {\\n    var handler = (function (ko, koPunches) {\\n    ko.punches.enableAll();\\n    ko.bindingHandlers.numericValue = {\\n        init: function(element, valueAccessor, allBindings, data, context) {\\n            var stringified = ko.observable(ko.unwrap(valueAccessor()));\\n            stringified.subscribe(function(value) {\\n                var val = parseFloat(value);\\n                if (!isNaN(val)) {\\n                    valueAccessor()(val);\\n                }\\n            });\\n            valueAccessor().subscribe(function(value) {\\n                var str = JSON.stringify(value);\\n                if ((str == \\\"0\\\") && ([\\\"-0\\\", \\\"-0.\\\"].indexOf(stringified()) >= 0))\\n                     return;\\n                 if ([\\\"null\\\", \\\"\\\"].indexOf(str) >= 0)\\n                     return;\\n                stringified(str);\\n            });\\n            ko.applyBindingsToNode(\\n                element,\\n                {\\n                    value: stringified,\\n                    valueUpdate: allBindings.get('valueUpdate'),\\n                },\\n                context,\\n            );\\n        }\\n    };\\n    var json_data = {\\\"formatted_vals\\\":[\\\"0.0\\\",\\\"0.1\\\",\\\"0.2\\\",\\\"0.3\\\",\\\"0.4\\\",\\\"0.5\\\",\\\"0.6\\\",\\\"0.7\\\",\\\"0.8\\\",\\\"0.9\\\",\\\"1.0\\\",\\\"1.1\\\",\\\"1.2\\\",\\\"1.3\\\",\\\"1.4\\\",\\\"1.5\\\",\\\"1.6\\\",\\\"1.7\\\",\\\"1.8\\\",\\\"1.9\\\",\\\"2.0\\\",\\\"2.1\\\",\\\"2.2\\\",\\\"2.3\\\",\\\"2.4\\\",\\\"2.5\\\",\\\"2.6\\\",\\\"2.7\\\",\\\"2.8\\\",\\\"2.9\\\",\\\"3.0\\\",\\\"3.1\\\",\\\"3.2\\\",\\\"3.3\\\",\\\"3.4\\\",\\\"3.5\\\",\\\"3.6\\\",\\\"3.7\\\",\\\"3.8\\\",\\\"3.9\\\",\\\"4.0\\\"],\\\"changes\\\":WebIO.getval({\\\"name\\\":\\\"changes\\\",\\\"scope\\\":\\\"14530181366423938947\\\",\\\"id\\\":\\\"12802435140649671645\\\",\\\"type\\\":\\\"observable\\\"}),\\\"index\\\":WebIO.getval({\\\"name\\\":\\\"index\\\",\\\"scope\\\":\\\"14530181366423938947\\\",\\\"id\\\":\\\"6421767805037540529\\\",\\\"type\\\":\\\"observable\\\"})};\\n    var self = this;\\n    function AppViewModel() {\\n        for (var key in json_data) {\\n            var el = json_data[key];\\n            this[key] = Array.isArray(el) ? ko.observableArray(el) : ko.observable(el);\\n        }\\n        \\n        [this[\\\"formatted_val\\\"]=ko.computed(    function(){\\n        return this.formatted_vals()[parseInt(this.index())-(1)];\\n    }\\n,this)]\\n        [this[\\\"changes\\\"].subscribe((function (val){!(this.valueFromJulia[\\\"changes\\\"]) ? (WebIO.setval({\\\"name\\\":\\\"changes\\\",\\\"scope\\\":\\\"14530181366423938947\\\",\\\"id\\\":\\\"12802435140649671645\\\",\\\"type\\\":\\\"observable\\\"},val)) : undefined; return this.valueFromJulia[\\\"changes\\\"]=false}),self),this[\\\"index\\\"].subscribe((function (val){!(this.valueFromJulia[\\\"index\\\"]) ? (WebIO.setval({\\\"name\\\":\\\"index\\\",\\\"scope\\\":\\\"14530181366423938947\\\",\\\"id\\\":\\\"6421767805037540529\\\",\\\"type\\\":\\\"observable\\\"},val)) : undefined; return this.valueFromJulia[\\\"index\\\"]=false}),self)]\\n        \\n    }\\n    self.model = new AppViewModel();\\n    self.valueFromJulia = {};\\n    for (var key in json_data) {\\n        self.valueFromJulia[key] = false;\\n    }\\n    ko.applyBindings(self.model, self.dom);\\n}\\n);\\n    (WebIO.importBlock({\\\"data\\\":[{\\\"name\\\":\\\"knockout\\\",\\\"type\\\":\\\"js\\\",\\\"url\\\":\\\"\\/assetserver\\/c0689c4f2514def856941022372b529b3413f129-knockout.js\\\"},{\\\"name\\\":\\\"knockout_punches\\\",\\\"type\\\":\\\"js\\\",\\\"url\\\":\\\"\\/assetserver\\/69274bc4b68b761587a57ff3f5e787f3dd4781dc-knockout_punches.js\\\"}],\\\"type\\\":\\\"async_block\\\"})).then((imports) => handler.apply(this, imports));\\n}\\n\"],\"observables\":{\"changes\":{\"sync\":true,\"id\":\"12802435140649671645\",\"value\":0},\"index\":{\"sync\":true,\"id\":\"6421767805037540529\",\"value\":21}}},\"children\":[{\"props\":{\"className\":\"interact-flex-row interact-widget\",\"style\":{\"font-family\":\"monospace\",\"width\":\"80%\"}},\"nodeType\":\"DOM\",\"type\":\"node\",\"instanceArgs\":{\"namespace\":\"html\",\"tag\":\"div\"},\"children\":[{\"props\":{\"className\":\"interact-flex-row-left\"},\"nodeType\":\"DOM\",\"type\":\"node\",\"instanceArgs\":{\"namespace\":\"html\",\"tag\":\"div\"},\"children\":[{\"props\":{\"className\":\"interact \",\"style\":{\"padding\":\"5px 10px 0px 10px\",\"white-space\":\"nowrap\",\"color\":\"royalblue\"}},\"nodeType\":\"DOM\",\"type\":\"node\",\"instanceArgs\":{\"namespace\":\"html\",\"tag\":\"label\"},\"children\":[\"N\"]}]},{\"props\":{\"className\":\"interact-flex-row-center\"},\"nodeType\":\"DOM\",\"type\":\"node\",\"instanceArgs\":{\"namespace\":\"html\",\"tag\":\"div\"},\"children\":[{\"props\":{\"max\":41,\"min\":1,\"attributes\":{\"type\":\"range\",\"data-bind\":\"numericValue: index, valueUpdate: 'input', event: {change: function (){this.changes(this.changes()+1)}}\",\"orient\":\"horizontal\"},\"step\":1,\"className\":\"slider slider is-fullwidth\",\"style\":{}},\"nodeType\":\"DOM\",\"type\":\"node\",\"instanceArgs\":{\"namespace\":\"html\",\"tag\":\"input\"},\"children\":[]}]},{\"props\":{\"className\":\"interact-flex-row-right\"},\"nodeType\":\"DOM\",\"type\":\"node\",\"instanceArgs\":{\"namespace\":\"html\",\"tag\":\"div\"},\"children\":[{\"props\":{\"attributes\":{\"data-bind\":\"text: formatted_val\"}},\"nodeType\":\"DOM\",\"type\":\"node\",\"instanceArgs\":{\"namespace\":\"html\",\"tag\":\"p\"},\"children\":[]}]}]}]}]},{\"props\":{},\"nodeType\":\"Scope\",\"type\":\"node\",\"instanceArgs\":{\"imports\":{\"data\":[],\"type\":\"async_block\"},\"id\":\"12431423545421678720\",\"handlers\":{\"obs-output\":[\"function (value, scope) {\\n    scope.setInnerHTML(value);\\n}\\n\"]},\"systemjs_options\":null,\"mount_callbacks\":[],\"observables\":{\"obs-output\":{\"sync\":false,\"id\":\"3170677466599548157\",\"value\":\"<?xml version=\\\"1.0\\\" encoding=\\\"UTF-8\\\"?>\\n<svg xmlns=\\\"http:\\/\\/www.w3.org\\/2000\\/svg\\\"\\n     xmlns:xlink=\\\"http:\\/\\/www.w3.org\\/1999\\/xlink\\\"\\n     xmlns:gadfly=\\\"http:\\/\\/www.gadflyjl.org\\/ns\\\"\\n     version=\\\"1.2\\\"\\n     width=\\\"141.42mm\\\" height=\\\"100mm\\\" viewBox=\\\"0 0 141.42 100\\\"\\n     stroke=\\\"none\\\"\\n     fill=\\\"#000000\\\"\\n     stroke-width=\\\"0.3\\\"\\n     font-size=\\\"3.88\\\"\\n>\\n<defs>\\n  <marker id=\\\"arrow\\\" markerWidth=\\\"15\\\" markerHeight=\\\"7\\\" refX=\\\"5\\\" refY=\\\"3.5\\\" orient=\\\"auto\\\" markerUnits=\\\"strokeWidth\\\">\\n    <path d=\\\"M0,0 L15,3.5 L0,7 z\\\" stroke=\\\"context-stroke\\\" fill=\\\"context-stroke\\\"\\/>\\n  <\\/marker>\\n<\\/defs>\\n<g stroke=\\\"#000000\\\" stroke-opacity=\\\"0.000\\\" fill=\\\"#FFFFFF\\\" id=\\\"img-62117a9a-1\\\">\\n  <g transform=\\\"translate(70.71,50)\\\">\\n    <path d=\\\"M-70.71,-50 L70.71,-50 70.71,50 -70.71,50  z\\\" class=\\\"primitive\\\"\\/>\\n  <\\/g>\\n<\\/g>\\n<g class=\\\"plotroot xscalable yscalable\\\" id=\\\"img-62117a9a-2\\\">\\n  <g font-size=\\\"3.53\\\" font-family=\\\"'PT Sans','Helvetica Neue','Helvetica',sans-serif\\\" fill=\\\"#564A55\\\" stroke=\\\"#000000\\\" stroke-opacity=\\\"0.000\\\" id=\\\"img-62117a9a-3\\\">\\n    <g transform=\\\"translate(63.47,93.72)\\\">\\n      <g class=\\\"primitive\\\">\\n        <text text-anchor=\\\"middle\\\" dy=\\\"0.6em\\\">PFD (μmol m⁻² s⁻¹)<\\/text>\\n      <\\/g>\\n    <\\/g>\\n  <\\/g>\\n  <g class=\\\"guide xlabels\\\" font-size=\\\"2.82\\\" font-family=\\\"'PT Sans Caption','Helvetica Neue','Helvetica',sans-serif\\\" fill=\\\"#6C606B\\\" id=\\\"img-62117a9a-4\\\">\\n    <g transform=\\\"translate(20.3,87.04)\\\">\\n      <g class=\\\"primitive\\\">\\n        <text text-anchor=\\\"middle\\\" dy=\\\"0.6em\\\">0<\\/text>\\n      <\\/g>\\n    <\\/g>\\n    <g transform=\\\"translate(41.89,87.04)\\\">\\n      <g class=\\\"primitive\\\">\\n        <text text-anchor=\\\"middle\\\" dy=\\\"0.6em\\\">500<\\/text>\\n      <\\/g>\\n    <\\/g>\\n    <g transform=\\\"translate(63.47,87.04)\\\">\\n      <g class=\\\"primitive\\\">\\n        <text text-anchor=\\\"middle\\\" dy=\\\"0.6em\\\">1000<\\/text>\\n      <\\/g>\\n    <\\/g>\\n    <g transform=\\\"translate(85.06,87.04)\\\">\\n      <g class=\\\"primitive\\\">\\n        <text text-anchor=\\\"middle\\\" dy=\\\"0.6em\\\">1500<\\/text>\\n      <\\/g>\\n    <\\/g>\\n    <g transform=\\\"translate(106.64,87.04)\\\">\\n      <g class=\\\"primitive\\\">\\n        <text text-anchor=\\\"middle\\\" dy=\\\"0.6em\\\">2000<\\/text>\\n      <\\/g>\\n    <\\/g>\\n  <\\/g>\\n  <g class=\\\"guide colorkey\\\" id=\\\"img-62117a9a-5\\\">\\n    <g fill=\\\"#4C404B\\\" font-size=\\\"2.82\\\" font-family=\\\"'PT Sans','Helvetica Neue','Helvetica',sans-serif\\\" id=\\\"img-62117a9a-6\\\">\\n      <g transform=\\\"translate(113.27,44.12)\\\" id=\\\"img-62117a9a-7\\\">\\n        <g class=\\\"primitive\\\">\\n          <text dy=\\\"0.35em\\\">1000 μmol mol⁻¹<\\/text>\\n        <\\/g>\\n      <\\/g>\\n      <g transform=\\\"translate(113.27,47.75)\\\" id=\\\"img-62117a9a-8\\\">\\n        <g class=\\\"primitive\\\">\\n          <text dy=\\\"0.35em\\\">400 μmol mol⁻¹<\\/text>\\n        <\\/g>\\n      <\\/g>\\n      <g transform=\\\"translate(113.27,51.38)\\\" id=\\\"img-62117a9a-9\\\">\\n        <g class=\\\"primitive\\\">\\n          <text dy=\\\"0.35em\\\">250 μmol mol⁻¹<\\/text>\\n        <\\/g>\\n      <\\/g>\\n    <\\/g>\\n    <g stroke-width=\\\"0.3\\\" id=\\\"img-62117a9a-10\\\">\\n      <g stroke=\\\"#FFFFFF\\\" stroke-opacity=\\\"0.000\\\" fill-opacity=\\\"1\\\" fill=\\\"#FF6DAE\\\" id=\\\"img-62117a9a-11\\\">\\n        <g transform=\\\"translate(110.45,51.38)\\\" id=\\\"img-62117a9a-12\\\">\\n          <circle cx=\\\"0\\\" cy=\\\"0\\\" r=\\\"0.7\\\" class=\\\"primitive\\\"\\/>\\n        <\\/g>\\n      <\\/g>\\n      <g stroke=\\\"#FFFFFF\\\" stroke-opacity=\\\"0.000\\\" fill-opacity=\\\"1\\\" fill=\\\"#D4CA3A\\\" id=\\\"img-62117a9a-13\\\">\\n        <g transform=\\\"translate(110.45,47.75)\\\" id=\\\"img-62117a9a-14\\\">\\n          <circle cx=\\\"0\\\" cy=\\\"0\\\" r=\\\"0.7\\\" class=\\\"primitive\\\"\\/>\\n        <\\/g>\\n      <\\/g>\\n      <g stroke=\\\"#FFFFFF\\\" stroke-opacity=\\\"0.000\\\" fill-opacity=\\\"1\\\" fill=\\\"#00BFFF\\\" id=\\\"img-62117a9a-15\\\">\\n        <g transform=\\\"translate(110.45,44.12)\\\" id=\\\"img-62117a9a-16\\\">\\n          <circle cx=\\\"0\\\" cy=\\\"0\\\" r=\\\"0.7\\\" class=\\\"primitive\\\"\\/>\\n        <\\/g>\\n      <\\/g>\\n    <\\/g>\\n    <g fill=\\\"#362A35\\\" font-size=\\\"3.18\\\" font-family=\\\"'PT Sans','Helvetica Neue','Helvetica',sans-serif\\\" stroke=\\\"#000000\\\" stroke-opacity=\\\"0.000\\\" id=\\\"img-62117a9a-17\\\">\\n      <g transform=\\\"translate(109.64,40.81)\\\" id=\\\"img-62117a9a-18\\\">\\n        <g class=\\\"primitive\\\">\\n          <text dy=\\\"-0em\\\">CO2 (μmol mol⁻¹)<\\/text>\\n        <\\/g>\\n      <\\/g>\\n    <\\/g>\\n  <\\/g>\\n  <g clip-path=\\\"url(#img-62117a9a-19)\\\">\\n    <g id=\\\"img-62117a9a-20\\\">\\n      <g pointer-events=\\\"visible\\\" stroke-width=\\\"0.3\\\" fill=\\\"#000000\\\" fill-opacity=\\\"0.000\\\" stroke=\\\"#000000\\\" stroke-opacity=\\\"0.000\\\" class=\\\"guide background\\\" id=\\\"img-62117a9a-21\\\">\\n        <g transform=\\\"translate(63.47,45.52)\\\" id=\\\"img-62117a9a-22\\\">\\n          <path d=\\\"M-45.17,-40.52 L45.17,-40.52 45.17,40.52 -45.17,40.52  z\\\" class=\\\"primitive\\\"\\/>\\n        <\\/g>\\n      <\\/g>\\n      <g class=\\\"guide ygridlines xfixed\\\" stroke-dasharray=\\\"0.5,0.5\\\" stroke-width=\\\"0.2\\\" stroke=\\\"#D0D0E0\\\" id=\\\"img-62117a9a-23\\\">\\n        <g transform=\\\"translate(63.47,84.04)\\\" id=\\\"img-62117a9a-24\\\">\\n          <path fill=\\\"none\\\" d=\\\"M-45.17,0 L45.17,0 \\\" class=\\\"primitive\\\"\\/>\\n        <\\/g>\\n        <g transform=\\\"translate(63.47,64.78)\\\" id=\\\"img-62117a9a-25\\\">\\n          <path fill=\\\"none\\\" d=\\\"M-45.17,0 L45.17,0 \\\" class=\\\"primitive\\\"\\/>\\n        <\\/g>\\n        <g transform=\\\"translate(63.47,45.52)\\\" id=\\\"img-62117a9a-26\\\">\\n          <path fill=\\\"none\\\" d=\\\"M-45.17,0 L45.17,0 \\\" class=\\\"primitive\\\"\\/>\\n        <\\/g>\\n        <g transform=\\\"translate(63.47,26.26)\\\" id=\\\"img-62117a9a-27\\\">\\n          <path fill=\\\"none\\\" d=\\\"M-45.17,0 L45.17,0 \\\" class=\\\"primitive\\\"\\/>\\n        <\\/g>\\n        <g transform=\\\"translate(63.47,7)\\\" id=\\\"img-62117a9a-28\\\">\\n          <path fill=\\\"none\\\" d=\\\"M-45.17,0 L45.17,0 \\\" class=\\\"primitive\\\"\\/>\\n        <\\/g>\\n      <\\/g>\\n      <g class=\\\"guide xgridlines yfixed\\\" stroke-dasharray=\\\"0.5,0.5\\\" stroke-width=\\\"0.2\\\" stroke=\\\"#D0D0E0\\\" id=\\\"img-62117a9a-29\\\">\\n        <g transform=\\\"translate(20.3,45.52)\\\" id=\\\"img-62117a9a-30\\\">\\n          <path fill=\\\"none\\\" d=\\\"M0,-40.52 L0,40.52 \\\" class=\\\"primitive\\\"\\/>\\n        <\\/g>\\n        <g transform=\\\"translate(41.89,45.52)\\\" id=\\\"img-62117a9a-31\\\">\\n          <path fill=\\\"none\\\" d=\\\"M0,-40.52 L0,40.52 \\\" class=\\\"primitive\\\"\\/>\\n        <\\/g>\\n        <g transform=\\\"translate(63.47,45.52)\\\" id=\\\"img-62117a9a-32\\\">\\n          <path fill=\\\"none\\\" d=\\\"M0,-40.52 L0,40.52 \\\" class=\\\"primitive\\\"\\/>\\n        <\\/g>\\n        <g transform=\\\"translate(85.06,45.52)\\\" id=\\\"img-62117a9a-33\\\">\\n          <path fill=\\\"none\\\" d=\\\"M0,-40.52 L0,40.52 \\\" class=\\\"primitive\\\"\\/>\\n        <\\/g>\\n        <g transform=\\\"translate(106.64,45.52)\\\" id=\\\"img-62117a9a-34\\\">\\n          <path fill=\\\"none\\\" d=\\\"M0,-40.52 L0,40.52 \\\" class=\\\"primitive\\\"\\/>\\n        <\\/g>\\n      <\\/g>\\n      <g class=\\\"plotpanel\\\" id=\\\"img-62117a9a-35\\\">\\n        <metadata>\\n          <boundingbox value=\\\"18.303333333333327mm 5.0mm 90.33802290397618mm 81.04333333333334mm\\\"\\/>\\n          <unitbox value=\\\"-46.329529742055115 0.8207675334227491 2092.6590594841105 -0.8415350668454983\\\"\\/>\\n        <\\/metadata>\\n        <g stroke-width=\\\"0.3\\\" fill=\\\"#000000\\\" fill-opacity=\\\"0.000\\\" class=\\\"geometry\\\" id=\\\"img-62117a9a-36\\\">\\n          <g class=\\\"color_LCHab{Float32}(70.0f0,60.0f0,240.0f0)\\\" stroke-dasharray=\\\"none\\\" stroke=\\\"#00BFFF\\\" id=\\\"img-62117a9a-37\\\">\\n            <g transform=\\\"translate(63.47,68.06)\\\" id=\\\"img-62117a9a-38\\\">\\n              <path fill=\\\"none\\\" d=\\\"M-43.17,15.02 L-38.85,11.51 -34.54,8.02 -30.22,5.23 -25.9,3.11 -21.58,1.52 -17.27,0.33 -12.95,-0.58 -8.63,-1.3 -4.32,-1.87 0,-2.34 4.32,-2.73 8.63,-3.07 12.95,-3.36 17.27,-3.62 21.58,-3.85 25.9,-4.06 30.22,-4.24 34.54,-4.42 38.85,-4.58 43.17,-4.73 \\\" class=\\\"primitive\\\"\\/>\\n            <\\/g>\\n          <\\/g>\\n        <\\/g>\\n        <g stroke-width=\\\"0.3\\\" fill=\\\"#000000\\\" fill-opacity=\\\"0.000\\\" class=\\\"geometry\\\" id=\\\"img-62117a9a-39\\\">\\n          <g class=\\\"color_LCHab{Float32}(80.0f0,70.000015f0,100.43479f0)\\\" stroke-dasharray=\\\"none\\\" stroke=\\\"#D4CA3A\\\" id=\\\"img-62117a9a-40\\\">\\n            <g transform=\\\"translate(63.47,52.59)\\\" id=\\\"img-62117a9a-41\\\">\\n              <path fill=\\\"none\\\" d=\\\"M-43.17,30.49 L-38.85,23.77 -34.54,16.59 -30.22,10.74 -25.9,6.27 -21.58,2.94 -17.27,0.46 -12.95,-1.42 -8.63,-2.87 -4.32,-4.02 0,-4.95 4.32,-5.72 8.63,-6.36 12.95,-6.91 17.27,-7.39 21.58,-7.8 25.9,-8.17 30.22,-8.5 34.54,-8.79 38.85,-9.06 43.17,-9.3 \\\" class=\\\"primitive\\\"\\/>\\n            <\\/g>\\n          <\\/g>\\n        <\\/g>\\n        <g stroke-width=\\\"0.3\\\" fill=\\\"#000000\\\" fill-opacity=\\\"0.000\\\" class=\\\"geometry\\\" id=\\\"img-62117a9a-42\\\">\\n          <g class=\\\"color_LCHab{Float32}(65.89944f0,62.21457f0,353.99814f0)\\\" stroke-dasharray=\\\"none\\\" stroke=\\\"#FF6DAE\\\" id=\\\"img-62117a9a-43\\\">\\n            <g transform=\\\"translate(63.47,48.21)\\\" id=\\\"img-62117a9a-44\\\">\\n              <path fill=\\\"none\\\" d=\\\"M-43.17,34.87 L-38.85,26.72 -34.54,17.32 -30.22,9.56 -25.9,3.6 -21.58,-0.82 -17.27,-4.1 -12.95,-6.56 -8.63,-6.75 -4.32,-6.66 0,-6.58 4.32,-6.49 8.63,-6.4 12.95,-6.31 17.27,-6.21 21.58,-6.12 25.9,-6.02 30.22,-5.92 34.54,-5.82 38.85,-5.72 43.17,-5.61 \\\" class=\\\"primitive\\\"\\/>\\n            <\\/g>\\n          <\\/g>\\n        <\\/g>\\n      <\\/g>\\n    <\\/g>\\n  <\\/g>\\n  <g class=\\\"guide ylabels\\\" font-size=\\\"2.82\\\" font-family=\\\"'PT Sans Caption','Helvetica Neue','Helvetica',sans-serif\\\" fill=\\\"#6C606B\\\" id=\\\"img-62117a9a-45\\\">\\n    <g transform=\\\"translate(17.3,84.04)\\\" id=\\\"img-62117a9a-46\\\">\\n      <g class=\\\"primitive\\\">\\n        <text text-anchor=\\\"end\\\" dy=\\\"0.35em\\\">0.0<\\/text>\\n      <\\/g>\\n    <\\/g>\\n    <g transform=\\\"translate(17.3,64.78)\\\" id=\\\"img-62117a9a-47\\\">\\n      <g class=\\\"primitive\\\">\\n        <text text-anchor=\\\"end\\\" dy=\\\"0.35em\\\">0.2<\\/text>\\n      <\\/g>\\n    <\\/g>\\n    <g transform=\\\"translate(17.3,45.52)\\\" id=\\\"img-62117a9a-48\\\">\\n      <g class=\\\"primitive\\\">\\n        <text text-anchor=\\\"end\\\" dy=\\\"0.35em\\\">0.4<\\/text>\\n      <\\/g>\\n    <\\/g>\\n    <g transform=\\\"translate(17.3,26.26)\\\" id=\\\"img-62117a9a-49\\\">\\n      <g class=\\\"primitive\\\">\\n        <text text-anchor=\\\"end\\\" dy=\\\"0.35em\\\">0.6<\\/text>\\n      <\\/g>\\n    <\\/g>\\n    <g transform=\\\"translate(17.3,7)\\\" id=\\\"img-62117a9a-50\\\">\\n      <g class=\\\"primitive\\\">\\n        <text text-anchor=\\\"end\\\" dy=\\\"0.35em\\\">0.8<\\/text>\\n      <\\/g>\\n    <\\/g>\\n  <\\/g>\\n  <g font-size=\\\"3.53\\\" font-family=\\\"'PT Sans','Helvetica Neue','Helvetica',sans-serif\\\" fill=\\\"#564A55\\\" stroke=\\\"#000000\\\" stroke-opacity=\\\"0.000\\\" id=\\\"img-62117a9a-51\\\">\\n    <g transform=\\\"translate(8.64,43.52)\\\" id=\\\"img-62117a9a-52\\\">\\n      <g class=\\\"primitive\\\">\\n        <text text-anchor=\\\"middle\\\" dy=\\\"0.35em\\\" transform=\\\"rotate(-90,0, 2)\\\">gs (mol bar⁻¹ m⁻² s⁻¹)<\\/text>\\n      <\\/g>\\n    <\\/g>\\n  <\\/g>\\n<\\/g>\\n<defs>\\n  <clipPath id=\\\"img-62117a9a-19\\\">\\n    <path d=\\\"M18.3,5 L108.64,5 108.64,86.04 18.3,86.04 \\\" \\/>\\n  <\\/clipPath>\\n<\\/defs>\\n<\\/svg>\\n\"}}},\"children\":[{\"props\":{\"className\":\"webio-observable\",\"setInnerHtml\":\"<?xml version=\\\"1.0\\\" encoding=\\\"UTF-8\\\"?>\\n<svg xmlns=\\\"http:\\/\\/www.w3.org\\/2000\\/svg\\\"\\n     xmlns:xlink=\\\"http:\\/\\/www.w3.org\\/1999\\/xlink\\\"\\n     xmlns:gadfly=\\\"http:\\/\\/www.gadflyjl.org\\/ns\\\"\\n     version=\\\"1.2\\\"\\n     width=\\\"141.42mm\\\" height=\\\"100mm\\\" viewBox=\\\"0 0 141.42 100\\\"\\n     stroke=\\\"none\\\"\\n     fill=\\\"#000000\\\"\\n     stroke-width=\\\"0.3\\\"\\n     font-size=\\\"3.88\\\"\\n>\\n<defs>\\n  <marker id=\\\"arrow\\\" markerWidth=\\\"15\\\" markerHeight=\\\"7\\\" refX=\\\"5\\\" refY=\\\"3.5\\\" orient=\\\"auto\\\" markerUnits=\\\"strokeWidth\\\">\\n    <path d=\\\"M0,0 L15,3.5 L0,7 z\\\" stroke=\\\"context-stroke\\\" fill=\\\"context-stroke\\\"\\/>\\n  <\\/marker>\\n<\\/defs>\\n<g stroke=\\\"#000000\\\" stroke-opacity=\\\"0.000\\\" fill=\\\"#FFFFFF\\\" id=\\\"img-62117a9a-1\\\">\\n  <g transform=\\\"translate(70.71,50)\\\">\\n    <path d=\\\"M-70.71,-50 L70.71,-50 70.71,50 -70.71,50  z\\\" class=\\\"primitive\\\"\\/>\\n  <\\/g>\\n<\\/g>\\n<g class=\\\"plotroot xscalable yscalable\\\" id=\\\"img-62117a9a-2\\\">\\n  <g font-size=\\\"3.53\\\" font-family=\\\"'PT Sans','Helvetica Neue','Helvetica',sans-serif\\\" fill=\\\"#564A55\\\" stroke=\\\"#000000\\\" stroke-opacity=\\\"0.000\\\" id=\\\"img-62117a9a-3\\\">\\n    <g transform=\\\"translate(63.47,93.72)\\\">\\n      <g class=\\\"primitive\\\">\\n        <text text-anchor=\\\"middle\\\" dy=\\\"0.6em\\\">PFD (μmol m⁻² s⁻¹)<\\/text>\\n      <\\/g>\\n    <\\/g>\\n  <\\/g>\\n  <g class=\\\"guide xlabels\\\" font-size=\\\"2.82\\\" font-family=\\\"'PT Sans Caption','Helvetica Neue','Helvetica',sans-serif\\\" fill=\\\"#6C606B\\\" id=\\\"img-62117a9a-4\\\">\\n    <g transform=\\\"translate(20.3,87.04)\\\">\\n      <g class=\\\"primitive\\\">\\n        <text text-anchor=\\\"middle\\\" dy=\\\"0.6em\\\">0<\\/text>\\n      <\\/g>\\n    <\\/g>\\n    <g transform=\\\"translate(41.89,87.04)\\\">\\n      <g class=\\\"primitive\\\">\\n        <text text-anchor=\\\"middle\\\" dy=\\\"0.6em\\\">500<\\/text>\\n      <\\/g>\\n    <\\/g>\\n    <g transform=\\\"translate(63.47,87.04)\\\">\\n      <g class=\\\"primitive\\\">\\n        <text text-anchor=\\\"middle\\\" dy=\\\"0.6em\\\">1000<\\/text>\\n      <\\/g>\\n    <\\/g>\\n    <g transform=\\\"translate(85.06,87.04)\\\">\\n      <g class=\\\"primitive\\\">\\n        <text text-anchor=\\\"middle\\\" dy=\\\"0.6em\\\">1500<\\/text>\\n      <\\/g>\\n    <\\/g>\\n    <g transform=\\\"translate(106.64,87.04)\\\">\\n      <g class=\\\"primitive\\\">\\n        <text text-anchor=\\\"middle\\\" dy=\\\"0.6em\\\">2000<\\/text>\\n      <\\/g>\\n    <\\/g>\\n  <\\/g>\\n  <g class=\\\"guide colorkey\\\" id=\\\"img-62117a9a-5\\\">\\n    <g fill=\\\"#4C404B\\\" font-size=\\\"2.82\\\" font-family=\\\"'PT Sans','Helvetica Neue','Helvetica',sans-serif\\\" id=\\\"img-62117a9a-6\\\">\\n      <g transform=\\\"translate(113.27,44.12)\\\" id=\\\"img-62117a9a-7\\\">\\n        <g class=\\\"primitive\\\">\\n          <text dy=\\\"0.35em\\\">1000 μmol mol⁻¹<\\/text>\\n        <\\/g>\\n      <\\/g>\\n      <g transform=\\\"translate(113.27,47.75)\\\" id=\\\"img-62117a9a-8\\\">\\n        <g class=\\\"primitive\\\">\\n          <text dy=\\\"0.35em\\\">400 μmol mol⁻¹<\\/text>\\n        <\\/g>\\n      <\\/g>\\n      <g transform=\\\"translate(113.27,51.38)\\\" id=\\\"img-62117a9a-9\\\">\\n        <g class=\\\"primitive\\\">\\n          <text dy=\\\"0.35em\\\">250 μmol mol⁻¹<\\/text>\\n        <\\/g>\\n      <\\/g>\\n    <\\/g>\\n    <g stroke-width=\\\"0.3\\\" id=\\\"img-62117a9a-10\\\">\\n      <g stroke=\\\"#FFFFFF\\\" stroke-opacity=\\\"0.000\\\" fill-opacity=\\\"1\\\" fill=\\\"#FF6DAE\\\" id=\\\"img-62117a9a-11\\\">\\n        <g transform=\\\"translate(110.45,51.38)\\\" id=\\\"img-62117a9a-12\\\">\\n          <circle cx=\\\"0\\\" cy=\\\"0\\\" r=\\\"0.7\\\" class=\\\"primitive\\\"\\/>\\n        <\\/g>\\n      <\\/g>\\n      <g stroke=\\\"#FFFFFF\\\" stroke-opacity=\\\"0.000\\\" fill-opacity=\\\"1\\\" fill=\\\"#D4CA3A\\\" id=\\\"img-62117a9a-13\\\">\\n        <g transform=\\\"translate(110.45,47.75)\\\" id=\\\"img-62117a9a-14\\\">\\n          <circle cx=\\\"0\\\" cy=\\\"0\\\" r=\\\"0.7\\\" class=\\\"primitive\\\"\\/>\\n        <\\/g>\\n      <\\/g>\\n      <g stroke=\\\"#FFFFFF\\\" stroke-opacity=\\\"0.000\\\" fill-opacity=\\\"1\\\" fill=\\\"#00BFFF\\\" id=\\\"img-62117a9a-15\\\">\\n        <g transform=\\\"translate(110.45,44.12)\\\" id=\\\"img-62117a9a-16\\\">\\n          <circle cx=\\\"0\\\" cy=\\\"0\\\" r=\\\"0.7\\\" class=\\\"primitive\\\"\\/>\\n        <\\/g>\\n      <\\/g>\\n    <\\/g>\\n    <g fill=\\\"#362A35\\\" font-size=\\\"3.18\\\" font-family=\\\"'PT Sans','Helvetica Neue','Helvetica',sans-serif\\\" stroke=\\\"#000000\\\" stroke-opacity=\\\"0.000\\\" id=\\\"img-62117a9a-17\\\">\\n      <g transform=\\\"translate(109.64,40.81)\\\" id=\\\"img-62117a9a-18\\\">\\n        <g class=\\\"primitive\\\">\\n          <text dy=\\\"-0em\\\">CO2 (μmol mol⁻¹)<\\/text>\\n        <\\/g>\\n      <\\/g>\\n    <\\/g>\\n  <\\/g>\\n  <g clip-path=\\\"url(#img-62117a9a-19)\\\">\\n    <g id=\\\"img-62117a9a-20\\\">\\n      <g pointer-events=\\\"visible\\\" stroke-width=\\\"0.3\\\" fill=\\\"#000000\\\" fill-opacity=\\\"0.000\\\" stroke=\\\"#000000\\\" stroke-opacity=\\\"0.000\\\" class=\\\"guide background\\\" id=\\\"img-62117a9a-21\\\">\\n        <g transform=\\\"translate(63.47,45.52)\\\" id=\\\"img-62117a9a-22\\\">\\n          <path d=\\\"M-45.17,-40.52 L45.17,-40.52 45.17,40.52 -45.17,40.52  z\\\" class=\\\"primitive\\\"\\/>\\n        <\\/g>\\n      <\\/g>\\n      <g class=\\\"guide ygridlines xfixed\\\" stroke-dasharray=\\\"0.5,0.5\\\" stroke-width=\\\"0.2\\\" stroke=\\\"#D0D0E0\\\" id=\\\"img-62117a9a-23\\\">\\n        <g transform=\\\"translate(63.47,84.04)\\\" id=\\\"img-62117a9a-24\\\">\\n          <path fill=\\\"none\\\" d=\\\"M-45.17,0 L45.17,0 \\\" class=\\\"primitive\\\"\\/>\\n        <\\/g>\\n        <g transform=\\\"translate(63.47,64.78)\\\" id=\\\"img-62117a9a-25\\\">\\n          <path fill=\\\"none\\\" d=\\\"M-45.17,0 L45.17,0 \\\" class=\\\"primitive\\\"\\/>\\n        <\\/g>\\n        <g transform=\\\"translate(63.47,45.52)\\\" id=\\\"img-62117a9a-26\\\">\\n          <path fill=\\\"none\\\" d=\\\"M-45.17,0 L45.17,0 \\\" class=\\\"primitive\\\"\\/>\\n        <\\/g>\\n        <g transform=\\\"translate(63.47,26.26)\\\" id=\\\"img-62117a9a-27\\\">\\n          <path fill=\\\"none\\\" d=\\\"M-45.17,0 L45.17,0 \\\" class=\\\"primitive\\\"\\/>\\n        <\\/g>\\n        <g transform=\\\"translate(63.47,7)\\\" id=\\\"img-62117a9a-28\\\">\\n          <path fill=\\\"none\\\" d=\\\"M-45.17,0 L45.17,0 \\\" class=\\\"primitive\\\"\\/>\\n        <\\/g>\\n      <\\/g>\\n      <g class=\\\"guide xgridlines yfixed\\\" stroke-dasharray=\\\"0.5,0.5\\\" stroke-width=\\\"0.2\\\" stroke=\\\"#D0D0E0\\\" id=\\\"img-62117a9a-29\\\">\\n        <g transform=\\\"translate(20.3,45.52)\\\" id=\\\"img-62117a9a-30\\\">\\n          <path fill=\\\"none\\\" d=\\\"M0,-40.52 L0,40.52 \\\" class=\\\"primitive\\\"\\/>\\n        <\\/g>\\n        <g transform=\\\"translate(41.89,45.52)\\\" id=\\\"img-62117a9a-31\\\">\\n          <path fill=\\\"none\\\" d=\\\"M0,-40.52 L0,40.52 \\\" class=\\\"primitive\\\"\\/>\\n        <\\/g>\\n        <g transform=\\\"translate(63.47,45.52)\\\" id=\\\"img-62117a9a-32\\\">\\n          <path fill=\\\"none\\\" d=\\\"M0,-40.52 L0,40.52 \\\" class=\\\"primitive\\\"\\/>\\n        <\\/g>\\n        <g transform=\\\"translate(85.06,45.52)\\\" id=\\\"img-62117a9a-33\\\">\\n          <path fill=\\\"none\\\" d=\\\"M0,-40.52 L0,40.52 \\\" class=\\\"primitive\\\"\\/>\\n        <\\/g>\\n        <g transform=\\\"translate(106.64,45.52)\\\" id=\\\"img-62117a9a-34\\\">\\n          <path fill=\\\"none\\\" d=\\\"M0,-40.52 L0,40.52 \\\" class=\\\"primitive\\\"\\/>\\n        <\\/g>\\n      <\\/g>\\n      <g class=\\\"plotpanel\\\" id=\\\"img-62117a9a-35\\\">\\n        <metadata>\\n          <boundingbox value=\\\"18.303333333333327mm 5.0mm 90.33802290397618mm 81.04333333333334mm\\\"\\/>\\n          <unitbox value=\\\"-46.329529742055115 0.8207675334227491 2092.6590594841105 -0.8415350668454983\\\"\\/>\\n        <\\/metadata>\\n        <g stroke-width=\\\"0.3\\\" fill=\\\"#000000\\\" fill-opacity=\\\"0.000\\\" class=\\\"geometry\\\" id=\\\"img-62117a9a-36\\\">\\n          <g class=\\\"color_LCHab{Float32}(70.0f0,60.0f0,240.0f0)\\\" stroke-dasharray=\\\"none\\\" stroke=\\\"#00BFFF\\\" id=\\\"img-62117a9a-37\\\">\\n            <g transform=\\\"translate(63.47,68.06)\\\" id=\\\"img-62117a9a-38\\\">\\n              <path fill=\\\"none\\\" d=\\\"M-43.17,15.02 L-38.85,11.51 -34.54,8.02 -30.22,5.23 -25.9,3.11 -21.58,1.52 -17.27,0.33 -12.95,-0.58 -8.63,-1.3 -4.32,-1.87 0,-2.34 4.32,-2.73 8.63,-3.07 12.95,-3.36 17.27,-3.62 21.58,-3.85 25.9,-4.06 30.22,-4.24 34.54,-4.42 38.85,-4.58 43.17,-4.73 \\\" class=\\\"primitive\\\"\\/>\\n            <\\/g>\\n          <\\/g>\\n        <\\/g>\\n        <g stroke-width=\\\"0.3\\\" fill=\\\"#000000\\\" fill-opacity=\\\"0.000\\\" class=\\\"geometry\\\" id=\\\"img-62117a9a-39\\\">\\n          <g class=\\\"color_LCHab{Float32}(80.0f0,70.000015f0,100.43479f0)\\\" stroke-dasharray=\\\"none\\\" stroke=\\\"#D4CA3A\\\" id=\\\"img-62117a9a-40\\\">\\n            <g transform=\\\"translate(63.47,52.59)\\\" id=\\\"img-62117a9a-41\\\">\\n              <path fill=\\\"none\\\" d=\\\"M-43.17,30.49 L-38.85,23.77 -34.54,16.59 -30.22,10.74 -25.9,6.27 -21.58,2.94 -17.27,0.46 -12.95,-1.42 -8.63,-2.87 -4.32,-4.02 0,-4.95 4.32,-5.72 8.63,-6.36 12.95,-6.91 17.27,-7.39 21.58,-7.8 25.9,-8.17 30.22,-8.5 34.54,-8.79 38.85,-9.06 43.17,-9.3 \\\" class=\\\"primitive\\\"\\/>\\n            <\\/g>\\n          <\\/g>\\n        <\\/g>\\n        <g stroke-width=\\\"0.3\\\" fill=\\\"#000000\\\" fill-opacity=\\\"0.000\\\" class=\\\"geometry\\\" id=\\\"img-62117a9a-42\\\">\\n          <g class=\\\"color_LCHab{Float32}(65.89944f0,62.21457f0,353.99814f0)\\\" stroke-dasharray=\\\"none\\\" stroke=\\\"#FF6DAE\\\" id=\\\"img-62117a9a-43\\\">\\n            <g transform=\\\"translate(63.47,48.21)\\\" id=\\\"img-62117a9a-44\\\">\\n              <path fill=\\\"none\\\" d=\\\"M-43.17,34.87 L-38.85,26.72 -34.54,17.32 -30.22,9.56 -25.9,3.6 -21.58,-0.82 -17.27,-4.1 -12.95,-6.56 -8.63,-6.75 -4.32,-6.66 0,-6.58 4.32,-6.49 8.63,-6.4 12.95,-6.31 17.27,-6.21 21.58,-6.12 25.9,-6.02 30.22,-5.92 34.54,-5.82 38.85,-5.72 43.17,-5.61 \\\" class=\\\"primitive\\\"\\/>\\n            <\\/g>\\n          <\\/g>\\n        <\\/g>\\n      <\\/g>\\n    <\\/g>\\n  <\\/g>\\n  <g class=\\\"guide ylabels\\\" font-size=\\\"2.82\\\" font-family=\\\"'PT Sans Caption','Helvetica Neue','Helvetica',sans-serif\\\" fill=\\\"#6C606B\\\" id=\\\"img-62117a9a-45\\\">\\n    <g transform=\\\"translate(17.3,84.04)\\\" id=\\\"img-62117a9a-46\\\">\\n      <g class=\\\"primitive\\\">\\n        <text text-anchor=\\\"end\\\" dy=\\\"0.35em\\\">0.0<\\/text>\\n      <\\/g>\\n    <\\/g>\\n    <g transform=\\\"translate(17.3,64.78)\\\" id=\\\"img-62117a9a-47\\\">\\n      <g class=\\\"primitive\\\">\\n        <text text-anchor=\\\"end\\\" dy=\\\"0.35em\\\">0.2<\\/text>\\n      <\\/g>\\n    <\\/g>\\n    <g transform=\\\"translate(17.3,45.52)\\\" id=\\\"img-62117a9a-48\\\">\\n      <g class=\\\"primitive\\\">\\n        <text text-anchor=\\\"end\\\" dy=\\\"0.35em\\\">0.4<\\/text>\\n      <\\/g>\\n    <\\/g>\\n    <g transform=\\\"translate(17.3,26.26)\\\" id=\\\"img-62117a9a-49\\\">\\n      <g class=\\\"primitive\\\">\\n        <text text-anchor=\\\"end\\\" dy=\\\"0.35em\\\">0.6<\\/text>\\n      <\\/g>\\n    <\\/g>\\n    <g transform=\\\"translate(17.3,7)\\\" id=\\\"img-62117a9a-50\\\">\\n      <g class=\\\"primitive\\\">\\n        <text text-anchor=\\\"end\\\" dy=\\\"0.35em\\\">0.8<\\/text>\\n      <\\/g>\\n    <\\/g>\\n  <\\/g>\\n  <g font-size=\\\"3.53\\\" font-family=\\\"'PT Sans','Helvetica Neue','Helvetica',sans-serif\\\" fill=\\\"#564A55\\\" stroke=\\\"#000000\\\" stroke-opacity=\\\"0.000\\\" id=\\\"img-62117a9a-51\\\">\\n    <g transform=\\\"translate(8.64,43.52)\\\" id=\\\"img-62117a9a-52\\\">\\n      <g class=\\\"primitive\\\">\\n        <text text-anchor=\\\"middle\\\" dy=\\\"0.35em\\\" transform=\\\"rotate(-90,0, 2)\\\">gs (mol bar⁻¹ m⁻² s⁻¹)<\\/text>\\n      <\\/g>\\n    <\\/g>\\n  <\\/g>\\n<\\/g>\\n<defs>\\n  <clipPath id=\\\"img-62117a9a-19\\\">\\n    <path d=\\\"M18.3,5 L108.64,5 108.64,86.04 18.3,86.04 \\\" \\/>\\n  <\\/clipPath>\\n<\\/defs>\\n<\\/svg>\\n\"},\"nodeType\":\"DOM\",\"type\":\"node\",\"instanceArgs\":{\"namespace\":\"html\",\"tag\":\"div\"},\"children\":[]}]}]},\n",
       "        window,\n",
       "    );\n",
       "    })()\n",
       "    </script>\n",
       "</div>\n"
      ],
      "text/plain": [
       "WebIO.Node{WebIO.DOM}(WebIO.DOM(:html, :div), Any[WebIO.Node{WebIO.DOM}(WebIO.DOM(:html, :div), Any[\"StomataTuzet\"], Dict{Symbol, Any}(:style => Dict{String, Any}(\"color\" => :rebeccapurple, \"font-family\" => \"monospace\"))), WebIO.Node{WebIO.DOM}(WebIO.DOM(:html, :div), Any[WebIO.Scope(WebIO.Node{WebIO.DOM}(WebIO.DOM(:html, :div), Any[WebIO.Node{WebIO.DOM}(WebIO.DOM(:html, :div), Any[WebIO.Node{WebIO.DOM}(WebIO.DOM(:html, :label), Any[\"WP_leaf\"], Dict{Symbol, Any}(:className => \"interact \", :style => Dict{Any, Any}(:padding => \"5px 10px 0px 10px\", \"white-space\" => :nowrap, \"color\" => :royalblue)))], Dict{Symbol, Any}(:className => \"interact-flex-row-left\")), WebIO.Node{WebIO.DOM}(WebIO.DOM(:html, :div), Any[WebIO.Node{WebIO.DOM}(WebIO.DOM(:html, :input), Any[], Dict{Symbol, Any}(:max => 31, :min => 1, :attributes => Dict{Any, Any}(:type => \"range\", Symbol(\"data-bind\") => \"numericValue: index, valueUpdate: 'input', event: {change: function (){this.changes(this.changes()+1)}}\", \"orient\" => \"horizontal\"), :step => 1, :className => \"slider slider is-fullwidth\", :style => Dict{Any, Any}()))], Dict{Symbol, Any}(:className => \"interact-flex-row-center\")), WebIO.Node{WebIO.DOM}(WebIO.DOM(:html, :div), Any[WebIO.Node{WebIO.DOM}(WebIO.DOM(:html, :p), Any[], Dict{Symbol, Any}(:attributes => Dict(\"data-bind\" => \"text: formatted_val\")))], Dict{Symbol, Any}(:className => \"interact-flex-row-right\"))], Dict{Symbol, Any}(:className => \"interact-flex-row interact-widget\", :style => Dict(\"font-family\" => \"monospace\", \"width\" => \"80%\"))), Dict{String, Tuple{Observables.AbstractObservable, Union{Nothing, Bool}}}(\"changes\" => (Observable(0), nothing), \"index\" => (Observable{Any}(26), nothing)), Set{String}(), nothing, WebIO.Asset[WebIO.Asset(\"js\", \"knockout\", \"/Users/soohkim/.julia/packages/Knockout/HReiN/src/../assets/knockout.js\"), WebIO.Asset(\"js\", \"knockout_punches\", \"/Users/soohkim/.julia/packages/Knockout/HReiN/src/../assets/knockout_punches.js\"), WebIO.Asset(\"js\", nothing, \"/Users/soohkim/.julia/packages/InteractBase/Qhvxg/src/../assets/all.js\"), WebIO.Asset(\"css\", nothing, \"/Users/soohkim/.julia/packages/InteractBase/Qhvxg/src/../assets/style.css\"), WebIO.Asset(\"css\", nothing, \"/Users/soohkim/.julia/packages/Interact/PENUy/src/../assets/bulma_confined.min.css\")], Dict{Any, Any}(\"changes\" => Any[WebIO.JSString(\"(function (val){return (val!=this.model[\\\"changes\\\"]()) ? (this.valueFromJulia[\\\"changes\\\"]=true, this.model[\\\"changes\\\"](val)) : undefined})\")], \"index\" => Any[WebIO.JSString(\"(function (val){return (val!=this.model[\\\"index\\\"]()) ? (this.valueFromJulia[\\\"index\\\"]=true, this.model[\\\"index\\\"](val)) : undefined})\")]), WebIO.ConnectionPool(Channel{Any}(32), Set{WebIO.AbstractConnection}(), Condition(Base.InvasiveLinkedList{Task}(Task (runnable) @0x0000000169930940, Task (runnable) @0x0000000169930940), Base.AlwaysLockedST(1))), WebIO.JSString[WebIO.JSString(\"function () {\\n    var handler = (function (ko, koPunches) {\\n    ko.punches.enableAll();\\n    ko.bindingHandlers.numericValue = {\\n        init: function(element, valueAccessor, allBindings, data, context) {\\n            var stringified = ko.observable(ko.unwrap(valueAccessor()));\\n            stringified.subscribe(function(value) {\\n                var val = parseFloat(value);\\n                if (!isNaN(val)) {\\n                    valueAccessor()(val);\\n                }\\n            });\\n            valueAccessor().subscribe(function(value) {\\n                var str = JSON.stringify(value);\\n                if ((str == \\\"0\\\") && ([\\\"-0\\\", \\\"-0.\\\"].indexOf(stringified()) >= 0))\\n                     return;\\n                 if ([\\\"null\\\", \\\"\\\"].indexOf(str) >= 0)\\n                     return;\\n                stringified(str);\\n            });\\n            ko.applyBindingsToNode(\\n                element,\\n                {\\n                    value: stringified,\\n                    valueUpdate: allBindings.get('valueUpdate'),\\n                },\\n                context,\\n            );\\n        }\\n    };\\n    var json_data = {\\\"formatted_vals\\\":[\\\"-3.0\\\",\\\"-2.9\\\",\\\"-2.8\\\",\\\"-2.7\\\",\\\"-2.6\\\",\\\"-2.5\\\",\\\"-2.4\\\",\\\"-2.3\\\",\\\"-2.2\\\",\\\"-2.1\\\",\\\"-2.0\\\",\\\"-1.9\\\",\\\"-1.8\\\",\\\"-1.7\\\",\\\"-1.6\\\",\\\"-1.5\\\",\\\"-1.4\\\",\\\"-1.3\\\",\\\"-1.2\\\",\\\"-1.1\\\",\\\"-1.0\\\",\\\"-0.9\\\",\\\"-0.8\\\",\\\"-0.7\\\",\\\"-0.6\\\",\\\"-0.5\\\",\\\"-0.4\\\",\\\"-0.3\\\",\\\"-0.2\\\",\\\"-0.1\\\",\\\"0.0\\\"],\\\"changes\\\":WebIO.getval({\\\"name\\\":\\\"changes\\\",\\\"scope\\\":\\\"5462020698869107123\\\",\\\"id\\\":\\\"15606221249128820993\\\",\\\"type\\\":\\\"observable\\\"}),\\\"index\\\":WebIO.getval({\\\"name\\\":\\\"index\\\",\\\"scope\\\":\\\"5462020698869107123\\\",\\\"id\\\":\\\"10854453699750999768\\\",\\\"type\\\":\\\"observable\\\"})};\\n    var self = this;\\n    function AppViewModel() {\\n        for (var key in json_data) {\\n            var el = json_data[key];\\n            this[key] = Array.isArray(el) ? ko.observableArray(el) : ko.observable(el);\\n        }\\n        \\n        [this[\\\"formatted_val\\\"]=ko.computed(    function(){\\n        return this.formatted_vals()[parseInt(this.index())-(1)];\\n    }\\n,this)]\\n        [this[\\\"changes\\\"].subscribe((function (val){!(this.valueFromJulia[\\\"changes\\\"]) ? (WebIO.setval({\\\"name\\\":\\\"changes\\\",\\\"scope\\\":\\\"5462020698869107123\\\",\\\"id\\\":\\\"15606221249128820993\\\",\\\"type\\\":\\\"observable\\\"},val)) : undefined; return this.valueFromJulia[\\\"changes\\\"]=false}),self),this[\\\"index\\\"].subscribe((function (val){!(this.valueFromJulia[\\\"index\\\"]) ? (WebIO.setval({\\\"name\\\":\\\"index\\\",\\\"scope\\\":\\\"5462020698869107123\\\",\\\"id\\\":\\\"10854453699750999768\\\",\\\"type\\\":\\\"observable\\\"},val)) : undefined; return this.valueFromJulia[\\\"index\\\"]=false}),self)]\\n        \\n    }\\n    self.model = new AppViewModel();\\n    self.valueFromJulia = {};\\n    for (var key in json_data) {\\n        self.valueFromJulia[key] = false;\\n    }\\n    ko.applyBindings(self.model, self.dom);\\n}\\n);\\n    (WebIO.importBlock({\\\"data\\\":[{\\\"name\\\":\\\"knockout\\\",\\\"type\\\":\\\"js\\\",\\\"url\\\":\\\"/assetserver/c0689c4f2514def856941022372b529b3413f129-knockout.js\\\"},{\\\"name\\\":\\\"knockout_punches\\\",\\\"type\\\":\\\"js\\\",\\\"url\\\":\\\"/assetserver/69274bc4b68b761587a57ff3f5e787f3dd4781dc-knockout_punches.js\\\"}],\\\"type\\\":\\\"async_block\\\"})).then((imports) => handler.apply(this, imports));\\n}\\n\")])], Dict{Symbol, Any}(:className => \"field interact-widget\")), WebIO.Node{WebIO.DOM}(WebIO.DOM(:html, :div), Any[\"Weather\"], Dict{Symbol, Any}(:style => Dict{String, Any}(\"color\" => :rebeccapurple, \"font-family\" => \"monospace\"))), WebIO.Node{WebIO.DOM}(WebIO.DOM(:html, :div), Any[WebIO.Scope(WebIO.Node{WebIO.DOM}(WebIO.DOM(:html, :div), Any[WebIO.Node{WebIO.DOM}(WebIO.DOM(:html, :div), Any[WebIO.Node{WebIO.DOM}(WebIO.DOM(:html, :label), Any[\"RH (%)\"], Dict{Symbol, Any}(:className => \"interact \", :style => Dict{Any, Any}(:padding => \"5px 10px 0px 10px\", \"white-space\" => :nowrap, \"color\" => :royalblue)))], Dict{Symbol, Any}(:className => \"interact-flex-row-left\")), WebIO.Node{WebIO.DOM}(WebIO.DOM(:html, :div), Any[WebIO.Node{WebIO.DOM}(WebIO.DOM(:html, :input), Any[], Dict{Symbol, Any}(:max => 21, :min => 1, :attributes => Dict{Any, Any}(:type => \"range\", Symbol(\"data-bind\") => \"numericValue: index, valueUpdate: 'input', event: {change: function (){this.changes(this.changes()+1)}}\", \"orient\" => \"horizontal\"), :step => 1, :className => \"slider slider is-fullwidth\", :style => Dict{Any, Any}()))], Dict{Symbol, Any}(:className => \"interact-flex-row-center\")), WebIO.Node{WebIO.DOM}(WebIO.DOM(:html, :div), Any[WebIO.Node{WebIO.DOM}(WebIO.DOM(:html, :p), Any[], Dict{Symbol, Any}(:attributes => Dict(\"data-bind\" => \"text: formatted_val\")))], Dict{Symbol, Any}(:className => \"interact-flex-row-right\"))], Dict{Symbol, Any}(:className => \"interact-flex-row interact-widget\", :style => Dict(\"font-family\" => \"monospace\", \"width\" => \"80%\"))), Dict{String, Tuple{Observables.AbstractObservable, Union{Nothing, Bool}}}(\"changes\" => (Observable(0), nothing), \"index\" => (Observable{Any}(13), nothing)), Set{String}(), nothing, WebIO.Asset[WebIO.Asset(\"js\", \"knockout\", \"/Users/soohkim/.julia/packages/Knockout/HReiN/src/../assets/knockout.js\"), WebIO.Asset(\"js\", \"knockout_punches\", \"/Users/soohkim/.julia/packages/Knockout/HReiN/src/../assets/knockout_punches.js\"), WebIO.Asset(\"js\", nothing, \"/Users/soohkim/.julia/packages/InteractBase/Qhvxg/src/../assets/all.js\"), WebIO.Asset(\"css\", nothing, \"/Users/soohkim/.julia/packages/InteractBase/Qhvxg/src/../assets/style.css\"), WebIO.Asset(\"css\", nothing, \"/Users/soohkim/.julia/packages/Interact/PENUy/src/../assets/bulma_confined.min.css\")], Dict{Any, Any}(\"changes\" => Any[WebIO.JSString(\"(function (val){return (val!=this.model[\\\"changes\\\"]()) ? (this.valueFromJulia[\\\"changes\\\"]=true, this.model[\\\"changes\\\"](val)) : undefined})\")], \"index\" => Any[WebIO.JSString(\"(function (val){return (val!=this.model[\\\"index\\\"]()) ? (this.valueFromJulia[\\\"index\\\"]=true, this.model[\\\"index\\\"](val)) : undefined})\")]), WebIO.ConnectionPool(Channel{Any}(32), Set{WebIO.AbstractConnection}(), Condition(Base.InvasiveLinkedList{Task}(Task (runnable) @0x0000000169930a90, Task (runnable) @0x0000000169930a90), Base.AlwaysLockedST(1))), WebIO.JSString[WebIO.JSString(\"function () {\\n    var handler = (function (ko, koPunches) {\\n    ko.punches.enableAll();\\n    ko.bindingHandlers.numericValue = {\\n        init: function(element, valueAccessor, allBindings, data, context) {\\n            var stringified = ko.observable(ko.unwrap(valueAccessor()));\\n            stringified.subscribe(function(value) {\\n                var val = parseFloat(value);\\n                if (!isNaN(val)) {\\n                    valueAccessor()(val);\\n                }\\n            });\\n            valueAccessor().subscribe(function(value) {\\n                var str = JSON.stringify(value);\\n                if ((str == \\\"0\\\") && ([\\\"-0\\\", \\\"-0.\\\"].indexOf(stringified()) >= 0))\\n                     return;\\n                 if ([\\\"null\\\", \\\"\\\"].indexOf(str) >= 0)\\n                     return;\\n                stringified(str);\\n            });\\n            ko.applyBindingsToNode(\\n                element,\\n                {\\n                    value: stringified,\\n                    valueUpdate: allBindings.get('valueUpdate'),\\n                },\\n                context,\\n            );\\n        }\\n    };\\n    var json_data = {\\\"formatted_vals\\\":[\\\"0\\\",\\\"5\\\",\\\"10\\\",\\\"15\\\",\\\"20\\\",\\\"25\\\",\\\"30\\\",\\\"35\\\",\\\"40\\\",\\\"45\\\",\\\"50\\\",\\\"55\\\",\\\"60\\\",\\\"65\\\",\\\"70\\\",\\\"75\\\",\\\"80\\\",\\\"85\\\",\\\"90\\\",\\\"95\\\",\\\"100\\\"],\\\"changes\\\":WebIO.getval({\\\"name\\\":\\\"changes\\\",\\\"scope\\\":\\\"3284227691132917580\\\",\\\"id\\\":\\\"15259483919923263306\\\",\\\"type\\\":\\\"observable\\\"}),\\\"index\\\":WebIO.getval({\\\"name\\\":\\\"index\\\",\\\"scope\\\":\\\"3284227691132917580\\\",\\\"id\\\":\\\"700634924007857000\\\",\\\"type\\\":\\\"observable\\\"})};\\n    var self = this;\\n    function AppViewModel() {\\n        for (var key in json_data) {\\n            var el = json_data[key];\\n            this[key] = Array.isArray(el) ? ko.observableArray(el) : ko.observable(el);\\n        }\\n        \\n        [this[\\\"formatted_val\\\"]=ko.computed(    function(){\\n        return this.formatted_vals()[parseInt(this.index())-(1)];\\n    }\\n,this)]\\n        [this[\\\"changes\\\"].subscribe((function (val){!(this.valueFromJulia[\\\"changes\\\"]) ? (WebIO.setval({\\\"name\\\":\\\"changes\\\",\\\"scope\\\":\\\"3284227691132917580\\\",\\\"id\\\":\\\"15259483919923263306\\\",\\\"type\\\":\\\"observable\\\"},val)) : undefined; return this.valueFromJulia[\\\"changes\\\"]=false}),self),this[\\\"index\\\"].subscribe((function (val){!(this.valueFromJulia[\\\"index\\\"]) ? (WebIO.setval({\\\"name\\\":\\\"index\\\",\\\"scope\\\":\\\"3284227691132917580\\\",\\\"id\\\":\\\"700634924007857000\\\",\\\"type\\\":\\\"observable\\\"},val)) : undefined; return this.valueFromJulia[\\\"index\\\"]=false}),self)]\\n        \\n    }\\n    self.model = new AppViewModel();\\n    self.valueFromJulia = {};\\n    for (var key in json_data) {\\n        self.valueFromJulia[key] = false;\\n    }\\n    ko.applyBindings(self.model, self.dom);\\n}\\n);\\n    (WebIO.importBlock({\\\"data\\\":[{\\\"name\\\":\\\"knockout\\\",\\\"type\\\":\\\"js\\\",\\\"url\\\":\\\"/assetserver/c0689c4f2514def856941022372b529b3413f129-knockout.js\\\"},{\\\"name\\\":\\\"knockout_punches\\\",\\\"type\\\":\\\"js\\\",\\\"url\\\":\\\"/assetserver/69274bc4b68b761587a57ff3f5e787f3dd4781dc-knockout_punches.js\\\"}],\\\"type\\\":\\\"async_block\\\"})).then((imports) => handler.apply(this, imports));\\n}\\n\")])], Dict{Symbol, Any}(:className => \"field interact-widget\")), WebIO.Node{WebIO.DOM}(WebIO.DOM(:html, :div), Any[WebIO.Scope(WebIO.Node{WebIO.DOM}(WebIO.DOM(:html, :div), Any[WebIO.Node{WebIO.DOM}(WebIO.DOM(:html, :div), Any[WebIO.Node{WebIO.DOM}(WebIO.DOM(:html, :label), Any[\"T_air (°C)\"], Dict{Symbol, Any}(:className => \"interact \", :style => Dict{Any, Any}(:padding => \"5px 10px 0px 10px\", \"white-space\" => :nowrap, \"color\" => :royalblue)))], Dict{Symbol, Any}(:className => \"interact-flex-row-left\")), WebIO.Node{WebIO.DOM}(WebIO.DOM(:html, :div), Any[WebIO.Node{WebIO.DOM}(WebIO.DOM(:html, :input), Any[], Dict{Symbol, Any}(:max => 51, :min => 1, :attributes => Dict{Any, Any}(:type => \"range\", Symbol(\"data-bind\") => \"numericValue: index, valueUpdate: 'input', event: {change: function (){this.changes(this.changes()+1)}}\", \"orient\" => \"horizontal\"), :step => 1, :className => \"slider slider is-fullwidth\", :style => Dict{Any, Any}()))], Dict{Symbol, Any}(:className => \"interact-flex-row-center\")), WebIO.Node{WebIO.DOM}(WebIO.DOM(:html, :div), Any[WebIO.Node{WebIO.DOM}(WebIO.DOM(:html, :p), Any[], Dict{Symbol, Any}(:attributes => Dict(\"data-bind\" => \"text: formatted_val\")))], Dict{Symbol, Any}(:className => \"interact-flex-row-right\"))], Dict{Symbol, Any}(:className => \"interact-flex-row interact-widget\", :style => Dict(\"font-family\" => \"monospace\", \"width\" => \"80%\"))), Dict{String, Tuple{Observables.AbstractObservable, Union{Nothing, Bool}}}(\"changes\" => (Observable(0), nothing), \"index\" => (Observable{Any}(26), nothing)), Set{String}(), nothing, WebIO.Asset[WebIO.Asset(\"js\", \"knockout\", \"/Users/soohkim/.julia/packages/Knockout/HReiN/src/../assets/knockout.js\"), WebIO.Asset(\"js\", \"knockout_punches\", \"/Users/soohkim/.julia/packages/Knockout/HReiN/src/../assets/knockout_punches.js\"), WebIO.Asset(\"js\", nothing, \"/Users/soohkim/.julia/packages/InteractBase/Qhvxg/src/../assets/all.js\"), WebIO.Asset(\"css\", nothing, \"/Users/soohkim/.julia/packages/InteractBase/Qhvxg/src/../assets/style.css\"), WebIO.Asset(\"css\", nothing, \"/Users/soohkim/.julia/packages/Interact/PENUy/src/../assets/bulma_confined.min.css\")], Dict{Any, Any}(\"changes\" => Any[WebIO.JSString(\"(function (val){return (val!=this.model[\\\"changes\\\"]()) ? (this.valueFromJulia[\\\"changes\\\"]=true, this.model[\\\"changes\\\"](val)) : undefined})\")], \"index\" => Any[WebIO.JSString(\"(function (val){return (val!=this.model[\\\"index\\\"]()) ? (this.valueFromJulia[\\\"index\\\"]=true, this.model[\\\"index\\\"](val)) : undefined})\")]), WebIO.ConnectionPool(Channel{Any}(32), Set{WebIO.AbstractConnection}(), Condition(Base.InvasiveLinkedList{Task}(Task (runnable) @0x0000000169930be0, Task (runnable) @0x0000000169930be0), Base.AlwaysLockedST(1))), WebIO.JSString[WebIO.JSString(\"function () {\\n    var handler = (function (ko, koPunches) {\\n    ko.punches.enableAll();\\n    ko.bindingHandlers.numericValue = {\\n        init: function(element, valueAccessor, allBindings, data, context) {\\n            var stringified = ko.observable(ko.unwrap(valueAccessor()));\\n            stringified.subscribe(function(value) {\\n                var val = parseFloat(value);\\n                if (!isNaN(val)) {\\n                    valueAccessor()(val);\\n                }\\n            });\\n            valueAccessor().subscribe(function(value) {\\n                var str = JSON.stringify(value);\\n                if ((str == \\\"0\\\") && ([\\\"-0\\\", \\\"-0.\\\"].indexOf(stringified()) >= 0))\\n                     return;\\n                 if ([\\\"null\\\", \\\"\\\"].indexOf(str) >= 0)\\n                     return;\\n                stringified(str);\\n            });\\n            ko.applyBindingsToNode(\\n                element,\\n                {\\n                    value: stringified,\\n                    valueUpdate: allBindings.get('valueUpdate'),\\n                },\\n                context,\\n            );\\n        }\\n    };\\n    var json_data = {\\\"formatted_vals\\\":[\\\"0\\\",\\\"1\\\",\\\"2\\\",\\\"3\\\",\\\"4\\\",\\\"5\\\",\\\"6\\\",\\\"7\\\",\\\"8\\\",\\\"9\\\",\\\"10\\\",\\\"11\\\",\\\"12\\\",\\\"13\\\",\\\"14\\\",\\\"15\\\",\\\"16\\\",\\\"17\\\",\\\"18\\\",\\\"19\\\",\\\"20\\\",\\\"21\\\",\\\"22\\\",\\\"23\\\",\\\"24\\\",\\\"25\\\",\\\"26\\\",\\\"27\\\",\\\"28\\\",\\\"29\\\",\\\"30\\\",\\\"31\\\",\\\"32\\\",\\\"33\\\",\\\"34\\\",\\\"35\\\",\\\"36\\\",\\\"37\\\",\\\"38\\\",\\\"39\\\",\\\"40\\\",\\\"41\\\",\\\"42\\\",\\\"43\\\",\\\"44\\\",\\\"45\\\",\\\"46\\\",\\\"47\\\",\\\"48\\\",\\\"49\\\",\\\"50\\\"],\\\"changes\\\":WebIO.getval({\\\"name\\\":\\\"changes\\\",\\\"scope\\\":\\\"1827506555396872965\\\",\\\"id\\\":\\\"16898209549802289940\\\",\\\"type\\\":\\\"observable\\\"}),\\\"index\\\":WebIO.getval({\\\"name\\\":\\\"index\\\",\\\"scope\\\":\\\"1827506555396872965\\\",\\\"id\\\":\\\"7668518611029807786\\\",\\\"type\\\":\\\"observable\\\"})};\\n    var self = this;\\n    function AppViewModel() {\\n        for (var key in json_data) {\\n            var el = json_data[key];\\n            this[key] = Array.isArray(el) ? ko.observableArray(el) : ko.observable(el);\\n        }\\n        \\n        [this[\\\"formatted_val\\\"]=ko.computed(    function(){\\n        return this.formatted_vals()[parseInt(this.index())-(1)];\\n    }\\n,this)]\\n        [this[\\\"changes\\\"].subscribe((function (val){!(this.valueFromJulia[\\\"changes\\\"]) ? (WebIO.setval({\\\"name\\\":\\\"changes\\\",\\\"scope\\\":\\\"1827506555396872965\\\",\\\"id\\\":\\\"16898209549802289940\\\",\\\"type\\\":\\\"observable\\\"},val)) : undefined; return this.valueFromJulia[\\\"changes\\\"]=false}),self),this[\\\"index\\\"].subscribe((function (val){!(this.valueFromJulia[\\\"index\\\"]) ? (WebIO.setval({\\\"name\\\":\\\"index\\\",\\\"scope\\\":\\\"1827506555396872965\\\",\\\"id\\\":\\\"7668518611029807786\\\",\\\"type\\\":\\\"observable\\\"},val)) : undefined; return this.valueFromJulia[\\\"index\\\"]=false}),self)]\\n        \\n    }\\n    self.model = new AppViewModel();\\n    self.valueFromJulia = {};\\n    for (var key in json_data) {\\n        self.valueFromJulia[key] = false;\\n    }\\n    ko.applyBindings(self.model, self.dom);\\n}\\n);\\n    (WebIO.importBlock({\\\"data\\\":[{\\\"name\\\":\\\"knockout\\\",\\\"type\\\":\\\"js\\\",\\\"url\\\":\\\"/assetserver/c0689c4f2514def856941022372b529b3413f129-knockout.js\\\"},{\\\"name\\\":\\\"knockout_punches\\\",\\\"type\\\":\\\"js\\\",\\\"url\\\":\\\"/assetserver/69274bc4b68b761587a57ff3f5e787f3dd4781dc-knockout_punches.js\\\"}],\\\"type\\\":\\\"async_block\\\"})).then((imports) => handler.apply(this, imports));\\n}\\n\")])], Dict{Symbol, Any}(:className => \"field interact-widget\")), WebIO.Node{WebIO.DOM}(WebIO.DOM(:html, :div), Any[\"Nitrogen\"], Dict{Symbol, Any}(:style => Dict{String, Any}(\"color\" => :rebeccapurple, \"font-family\" => \"monospace\"))), WebIO.Node{WebIO.DOM}(WebIO.DOM(:html, :div), Any[WebIO.Scope(WebIO.Node{WebIO.DOM}(WebIO.DOM(:html, :div), Any[WebIO.Node{WebIO.DOM}(WebIO.DOM(:html, :div), Any[WebIO.Node{WebIO.DOM}(WebIO.DOM(:html, :label), Any[\"N\"], Dict{Symbol, Any}(:className => \"interact \", :style => Dict{Any, Any}(:padding => \"5px 10px 0px 10px\", \"white-space\" => :nowrap, \"color\" => :royalblue)))], Dict{Symbol, Any}(:className => \"interact-flex-row-left\")), WebIO.Node{WebIO.DOM}(WebIO.DOM(:html, :div), Any[WebIO.Node{WebIO.DOM}(WebIO.DOM(:html, :input), Any[], Dict{Symbol, Any}(:max => 41, :min => 1, :attributes => Dict{Any, Any}(:type => \"range\", Symbol(\"data-bind\") => \"numericValue: index, valueUpdate: 'input', event: {change: function (){this.changes(this.changes()+1)}}\", \"orient\" => \"horizontal\"), :step => 1, :className => \"slider slider is-fullwidth\", :style => Dict{Any, Any}()))], Dict{Symbol, Any}(:className => \"interact-flex-row-center\")), WebIO.Node{WebIO.DOM}(WebIO.DOM(:html, :div), Any[WebIO.Node{WebIO.DOM}(WebIO.DOM(:html, :p), Any[], Dict{Symbol, Any}(:attributes => Dict(\"data-bind\" => \"text: formatted_val\")))], Dict{Symbol, Any}(:className => \"interact-flex-row-right\"))], Dict{Symbol, Any}(:className => \"interact-flex-row interact-widget\", :style => Dict(\"font-family\" => \"monospace\", \"width\" => \"80%\"))), Dict{String, Tuple{Observables.AbstractObservable, Union{Nothing, Bool}}}(\"changes\" => (Observable(0), nothing), \"index\" => (Observable{Any}(21), nothing)), Set{String}(), nothing, WebIO.Asset[WebIO.Asset(\"js\", \"knockout\", \"/Users/soohkim/.julia/packages/Knockout/HReiN/src/../assets/knockout.js\"), WebIO.Asset(\"js\", \"knockout_punches\", \"/Users/soohkim/.julia/packages/Knockout/HReiN/src/../assets/knockout_punches.js\"), WebIO.Asset(\"js\", nothing, \"/Users/soohkim/.julia/packages/InteractBase/Qhvxg/src/../assets/all.js\"), WebIO.Asset(\"css\", nothing, \"/Users/soohkim/.julia/packages/InteractBase/Qhvxg/src/../assets/style.css\"), WebIO.Asset(\"css\", nothing, \"/Users/soohkim/.julia/packages/Interact/PENUy/src/../assets/bulma_confined.min.css\")], Dict{Any, Any}(\"changes\" => Any[WebIO.JSString(\"(function (val){return (val!=this.model[\\\"changes\\\"]()) ? (this.valueFromJulia[\\\"changes\\\"]=true, this.model[\\\"changes\\\"](val)) : undefined})\")], \"index\" => Any[WebIO.JSString(\"(function (val){return (val!=this.model[\\\"index\\\"]()) ? (this.valueFromJulia[\\\"index\\\"]=true, this.model[\\\"index\\\"](val)) : undefined})\")]), WebIO.ConnectionPool(Channel{Any}(32), Set{WebIO.AbstractConnection}(), Condition(Base.InvasiveLinkedList{Task}(Task (runnable) @0x0000000169930d30, Task (runnable) @0x0000000169930d30), Base.AlwaysLockedST(1))), WebIO.JSString[WebIO.JSString(\"function () {\\n    var handler = (function (ko, koPunches) {\\n    ko.punches.enableAll();\\n    ko.bindingHandlers.numericValue = {\\n        init: function(element, valueAccessor, allBindings, data, context) {\\n            var stringified = ko.observable(ko.unwrap(valueAccessor()));\\n            stringified.subscribe(function(value) {\\n                var val = parseFloat(value);\\n                if (!isNaN(val)) {\\n                    valueAccessor()(val);\\n                }\\n            });\\n            valueAccessor().subscribe(function(value) {\\n                var str = JSON.stringify(value);\\n                if ((str == \\\"0\\\") && ([\\\"-0\\\", \\\"-0.\\\"].indexOf(stringified()) >= 0))\\n                     return;\\n                 if ([\\\"null\\\", \\\"\\\"].indexOf(str) >= 0)\\n                     return;\\n                stringified(str);\\n            });\\n            ko.applyBindingsToNode(\\n                element,\\n                {\\n                    value: stringified,\\n                    valueUpdate: allBindings.get('valueUpdate'),\\n                },\\n                context,\\n            );\\n        }\\n    };\\n    var json_data = {\\\"formatted_vals\\\":[\\\"0.0\\\",\\\"0.1\\\",\\\"0.2\\\",\\\"0.3\\\",\\\"0.4\\\",\\\"0.5\\\",\\\"0.6\\\",\\\"0.7\\\",\\\"0.8\\\",\\\"0.9\\\",\\\"1.0\\\",\\\"1.1\\\",\\\"1.2\\\",\\\"1.3\\\",\\\"1.4\\\",\\\"1.5\\\",\\\"1.6\\\",\\\"1.7\\\",\\\"1.8\\\",\\\"1.9\\\",\\\"2.0\\\",\\\"2.1\\\",\\\"2.2\\\",\\\"2.3\\\",\\\"2.4\\\",\\\"2.5\\\",\\\"2.6\\\",\\\"2.7\\\",\\\"2.8\\\",\\\"2.9\\\",\\\"3.0\\\",\\\"3.1\\\",\\\"3.2\\\",\\\"3.3\\\",\\\"3.4\\\",\\\"3.5\\\",\\\"3.6\\\",\\\"3.7\\\",\\\"3.8\\\",\\\"3.9\\\",\\\"4.0\\\"],\\\"changes\\\":WebIO.getval({\\\"name\\\":\\\"changes\\\",\\\"scope\\\":\\\"14530181366423938947\\\",\\\"id\\\":\\\"12802435140649671645\\\",\\\"type\\\":\\\"observable\\\"}),\\\"index\\\":WebIO.getval({\\\"name\\\":\\\"index\\\",\\\"scope\\\":\\\"14530181366423938947\\\",\\\"id\\\":\\\"6421767805037540529\\\",\\\"type\\\":\\\"observable\\\"})};\\n    var self = this;\\n    function AppViewModel() {\\n        for (var key in json_data) {\\n            var el = json_data[key];\\n            this[key] = Array.isArray(el) ? ko.observableArray(el) : ko.observable(el);\\n        }\\n        \\n        [this[\\\"formatted_val\\\"]=ko.computed(    function(){\\n        return this.formatted_vals()[parseInt(this.index())-(1)];\\n    }\\n,this)]\\n        [this[\\\"changes\\\"].subscribe((function (val){!(this.valueFromJulia[\\\"changes\\\"]) ? (WebIO.setval({\\\"name\\\":\\\"changes\\\",\\\"scope\\\":\\\"14530181366423938947\\\",\\\"id\\\":\\\"12802435140649671645\\\",\\\"type\\\":\\\"observable\\\"},val)) : undefined; return this.valueFromJulia[\\\"changes\\\"]=false}),self),this[\\\"index\\\"].subscribe((function (val){!(this.valueFromJulia[\\\"index\\\"]) ? (WebIO.setval({\\\"name\\\":\\\"index\\\",\\\"scope\\\":\\\"14530181366423938947\\\",\\\"id\\\":\\\"6421767805037540529\\\",\\\"type\\\":\\\"observable\\\"},val)) : undefined; return this.valueFromJulia[\\\"index\\\"]=false}),self)]\\n        \\n    }\\n    self.model = new AppViewModel();\\n    self.valueFromJulia = {};\\n    for (var key in json_data) {\\n        self.valueFromJulia[key] = false;\\n    }\\n    ko.applyBindings(self.model, self.dom);\\n}\\n);\\n    (WebIO.importBlock({\\\"data\\\":[{\\\"name\\\":\\\"knockout\\\",\\\"type\\\":\\\"js\\\",\\\"url\\\":\\\"/assetserver/c0689c4f2514def856941022372b529b3413f129-knockout.js\\\"},{\\\"name\\\":\\\"knockout_punches\\\",\\\"type\\\":\\\"js\\\",\\\"url\\\":\\\"/assetserver/69274bc4b68b761587a57ff3f5e787f3dd4781dc-knockout_punches.js\\\"}],\\\"type\\\":\\\"async_block\\\"})).then((imports) => handler.apply(this, imports));\\n}\\n\")])], Dict{Symbol, Any}(:className => \"field interact-widget\")), Observable(Gadfly.Plot(Gadfly.Layer[Gadfly.Layer(nothing, Dict{Symbol, Any}(:y => [0.01, 0.046447573435024196, 0.08263270104453657, 0.11158960995874642, 0.13366802620623397, 0.1501631364437247, 0.16253800687462758, 0.17199327928172878, 0.1793938793255559, 0.1853308610988888  …  0.19429543761621204, 0.19778961198434497, 0.20082502105575104, 0.20349986350073157, 0.20588749129524797, 0.20804199237927198, 0.210004467906028, 0.21180911649452344, 0.21348094837171963, 0.21503930882360298], :x => [0.0, 100.0, 200.0, 300.0, 400.0, 500.0, 600.0, 700.0, 800.0, 900.0  …  1100.0, 1200.0, 1300.0, 1400.0, 1500.0, 1600.0, 1700.0, 1800.0, 1900.0, 2000.0]), Gadfly.StatisticElement[], Gadfly.Geom.LineGeometry(Gadfly.Stat.Identity(), false, 2, Symbol(\"\")), Gadfly.Theme(LCHab{Float32}(70.0f0,60.0f0,240.0f0), 0.7mm, 0.45mm, 1.8mm, Gadfly.Scale.default_discrete_sizes, Gadfly.Scale.default_continuous_sizes, Gadfly.Scale.default_discrete_colors, Function[Compose.circle, Gadfly.Shape.square, Gadfly.Shape.diamond, Gadfly.Shape.cross, Gadfly.Shape.xcross, Gadfly.Shape.utriangle, Gadfly.Shape.dtriangle, Gadfly.Shape.star1, Gadfly.Shape.star2, Gadfly.Shape.hexagon, Gadfly.Shape.octagon, Gadfly.Shape.hline, Gadfly.Shape.vline, Gadfly.Shape.ltriangle, Gadfly.Shape.rtriangle], 0.3mm, [:solid, :dash, :dot, :dashdot, :dashdotdot, :ldash, :ldashdash, :ldashdot, :ldashdashdot], [1.0, 0.9, 0.8, 0.7, 0.6, 0.5, 0.4, 0.3, 0.2, 0.1, 0.0], nothing, nothing, 0.3mm, 0.0, RGB{N0f8}(1.0,1.0,1.0), Measures.AbsoluteLength[5.0mm, 5.0mm, 5.0mm, 0.0mm], RGB{N0f8}(0.816,0.816,0.878), Measures.AbsoluteLength[0.5mm, 0.5mm], RGB{N0f8}(0.627,0.627,0.627), 0.2mm, 0, \"'PT Sans Caption','Helvetica Neue','Helvetica',sans-serif\", 2.822222222222222mm, RGB{N0f8}(0.424,0.376,0.42), \"'PT Sans','Helvetica Neue','Helvetica',sans-serif\", 3.5277777777777777mm, RGB{N0f8}(0.337,0.29,0.333), \"'PT Sans Caption','Helvetica Neue','Helvetica',sans-serif\", 2.822222222222222mm, RGB{N0f8}(0.298,0.251,0.294), \"'PT Sans','Helvetica Neue','Helvetica',sans-serif\", 3.175mm, RGB{N0f8}(0.212,0.165,0.208), \"'PT Sans','Helvetica Neue','Helvetica',sans-serif\", 2.822222222222222mm, RGB{N0f8}(0.298,0.251,0.294), 40, -0.05mm, 1.0mm, 3.0mm, Gadfly.default_stroke_color, 0.3mm, Cropbox.var\"#603#612\"(), Gadfly.default_continuous_highlight_color, Gadfly.default_lowlight_color, Gadfly.default_middle_color, 0.6mm, :left, :square, nothing, nothing, nothing, :right, nothing, 2.0mm, 1000, 10.0, 0.5, 0.2, 1.0mm, 4, Gadfly.Scale.DiscreteColorScale(Gadfly.Scale.default_discrete_colors, nothing, nothing, true), Gadfly.Scale.ContinuousColorScale(Gadfly.Scale.var\"#73#77\"{Int64, Int64, Int64, Int64, Float64, Int64}(100, 40, 260, 10, 1.5, 70), Gadfly.Scale.ContinuousScaleTransform(identity, identity, Gadfly.Scale.identity_formatter), nothing, nothing)), 1), Gadfly.Layer(nothing, Dict{Symbol, Any}(:y => [0.01, 0.07980387309063125, 0.1543134239673832, 0.2150229685299555, 0.2615045675461506, 0.2961011617371192, 0.3218572408396681, 0.34133897926132195, 0.35640883716600685, 0.3683384128014326  …  0.3859566106097917, 0.3926441728973151, 0.39834950473826153, 0.4032815585860026, 0.40759355197403474, 0.41140351395145275, 0.4148018292403314, 0.4178581210453035, 0.4206235936263861, 0.42314614585837945], :x => [0.0, 100.0, 200.0, 300.0, 400.0, 500.0, 600.0, 700.0, 800.0, 900.0  …  1100.0, 1200.0, 1300.0, 1400.0, 1500.0, 1600.0, 1700.0, 1800.0, 1900.0, 2000.0]), Gadfly.StatisticElement[], Gadfly.Geom.LineGeometry(Gadfly.Stat.Identity(), false, 2, Symbol(\"\")), Gadfly.Theme(LCHab{Float32}(80.0f0,70.000015f0,100.43479f0), 0.7mm, 0.45mm, 1.8mm, Gadfly.Scale.default_discrete_sizes, Gadfly.Scale.default_continuous_sizes, Gadfly.Scale.default_discrete_colors, Function[Compose.circle, Gadfly.Shape.square, Gadfly.Shape.diamond, Gadfly.Shape.cross, Gadfly.Shape.xcross, Gadfly.Shape.utriangle, Gadfly.Shape.dtriangle, Gadfly.Shape.star1, Gadfly.Shape.star2, Gadfly.Shape.hexagon, Gadfly.Shape.octagon, Gadfly.Shape.hline, Gadfly.Shape.vline, Gadfly.Shape.ltriangle, Gadfly.Shape.rtriangle], 0.3mm, [:solid, :dash, :dot, :dashdot, :dashdotdot, :ldash, :ldashdash, :ldashdot, :ldashdashdot], [1.0, 0.9, 0.8, 0.7, 0.6, 0.5, 0.4, 0.3, 0.2, 0.1, 0.0], nothing, nothing, 0.3mm, 0.0, RGB{N0f8}(1.0,1.0,1.0), Measures.AbsoluteLength[5.0mm, 5.0mm, 5.0mm, 0.0mm], RGB{N0f8}(0.816,0.816,0.878), Measures.AbsoluteLength[0.5mm, 0.5mm], RGB{N0f8}(0.627,0.627,0.627), 0.2mm, 0, \"'PT Sans Caption','Helvetica Neue','Helvetica',sans-serif\", 2.822222222222222mm, RGB{N0f8}(0.424,0.376,0.42), \"'PT Sans','Helvetica Neue','Helvetica',sans-serif\", 3.5277777777777777mm, RGB{N0f8}(0.337,0.29,0.333), \"'PT Sans Caption','Helvetica Neue','Helvetica',sans-serif\", 2.822222222222222mm, RGB{N0f8}(0.298,0.251,0.294), \"'PT Sans','Helvetica Neue','Helvetica',sans-serif\", 3.175mm, RGB{N0f8}(0.212,0.165,0.208), \"'PT Sans','Helvetica Neue','Helvetica',sans-serif\", 2.822222222222222mm, RGB{N0f8}(0.298,0.251,0.294), 40, -0.05mm, 1.0mm, 3.0mm, Gadfly.default_stroke_color, 0.3mm, Cropbox.var\"#603#612\"(), Gadfly.default_continuous_highlight_color, Gadfly.default_lowlight_color, Gadfly.default_middle_color, 0.6mm, :left, :square, nothing, nothing, nothing, :right, nothing, 2.0mm, 1000, 10.0, 0.5, 0.2, 1.0mm, 4, Gadfly.Scale.DiscreteColorScale(Gadfly.Scale.default_discrete_colors, nothing, nothing, true), Gadfly.Scale.ContinuousColorScale(Gadfly.Scale.var\"#73#77\"{Int64, Int64, Int64, Int64, Float64, Int64}(100, 40, 260, 10, 1.5, 70), Gadfly.Scale.ContinuousScaleTransform(identity, identity, Gadfly.Scale.identity_formatter), nothing, nothing)), 2), Gadfly.Layer(nothing, Dict{Symbol, Any}(:y => [0.01, 0.09462666025903417, 0.19220269665299003, 0.2727815523167062, 0.33467712205594996, 0.38063130457840966, 0.4146435088604662, 0.44017112950278814, 0.44219709129692863, 0.4413007805621571  …  0.4394766237547135, 0.43853786903392217, 0.43758084718678913, 0.43660565485046765, 0.43561307239764235, 0.43460254106589047, 0.43357486770800024, 0.4325287542806092, 0.4314657280624487, 0.43038444652057606], :x => [0.0, 100.0, 200.0, 300.0, 400.0, 500.0, 600.0, 700.0, 800.0, 900.0  …  1100.0, 1200.0, 1300.0, 1400.0, 1500.0, 1600.0, 1700.0, 1800.0, 1900.0, 2000.0]), Gadfly.StatisticElement[], Gadfly.Geom.LineGeometry(Gadfly.Stat.Identity(), false, 2, Symbol(\"\")), Gadfly.Theme(LCHab{Float32}(65.89944f0,62.21457f0,353.99814f0), 0.7mm, 0.45mm, 1.8mm, Gadfly.Scale.default_discrete_sizes, Gadfly.Scale.default_continuous_sizes, Gadfly.Scale.default_discrete_colors, Function[Compose.circle, Gadfly.Shape.square, Gadfly.Shape.diamond, Gadfly.Shape.cross, Gadfly.Shape.xcross, Gadfly.Shape.utriangle, Gadfly.Shape.dtriangle, Gadfly.Shape.star1, Gadfly.Shape.star2, Gadfly.Shape.hexagon, Gadfly.Shape.octagon, Gadfly.Shape.hline, Gadfly.Shape.vline, Gadfly.Shape.ltriangle, Gadfly.Shape.rtriangle], 0.3mm, [:solid, :dash, :dot, :dashdot, :dashdotdot, :ldash, :ldashdash, :ldashdot, :ldashdashdot], [1.0, 0.9, 0.8, 0.7, 0.6, 0.5, 0.4, 0.3, 0.2, 0.1, 0.0], nothing, nothing, 0.3mm, 0.0, RGB{N0f8}(1.0,1.0,1.0), Measures.AbsoluteLength[5.0mm, 5.0mm, 5.0mm, 0.0mm], RGB{N0f8}(0.816,0.816,0.878), Measures.AbsoluteLength[0.5mm, 0.5mm], RGB{N0f8}(0.627,0.627,0.627), 0.2mm, 0, \"'PT Sans Caption','Helvetica Neue','Helvetica',sans-serif\", 2.822222222222222mm, RGB{N0f8}(0.424,0.376,0.42), \"'PT Sans','Helvetica Neue','Helvetica',sans-serif\", 3.5277777777777777mm, RGB{N0f8}(0.337,0.29,0.333), \"'PT Sans Caption','Helvetica Neue','Helvetica',sans-serif\", 2.822222222222222mm, RGB{N0f8}(0.298,0.251,0.294), \"'PT Sans','Helvetica Neue','Helvetica',sans-serif\", 3.175mm, RGB{N0f8}(0.212,0.165,0.208), \"'PT Sans','Helvetica Neue','Helvetica',sans-serif\", 2.822222222222222mm, RGB{N0f8}(0.298,0.251,0.294), 40, -0.05mm, 1.0mm, 3.0mm, Gadfly.default_stroke_color, 0.3mm, Cropbox.var\"#603#612\"(), Gadfly.default_continuous_highlight_color, Gadfly.default_lowlight_color, Gadfly.default_middle_color, 0.6mm, :left, :square, nothing, nothing, nothing, :right, nothing, 2.0mm, 1000, 10.0, 0.5, 0.2, 1.0mm, 4, Gadfly.Scale.DiscreteColorScale(Gadfly.Scale.default_discrete_colors, nothing, nothing, true), Gadfly.Scale.ContinuousColorScale(Gadfly.Scale.var\"#73#77\"{Int64, Int64, Int64, Int64, Float64, Int64}(100, 40, 260, 10, 1.5, 70), Gadfly.Scale.ContinuousScaleTransform(identity, identity, Gadfly.Scale.identity_formatter), nothing, nothing)), 3)], nothing, Data(\n",
       "  titles=Dict{Symbol, AbstractString}()\n",
       ")\n",
       ", Gadfly.ScaleElement[], Gadfly.StatisticElement[], Gadfly.Coord.Cartesian([:x, :xmin, :xmax, :xintercept], [:y, :ymin, :ymax, :yintercept, :middle, :lower_hinge, :upper_hinge, :lower_fence, :upper_fence, :outliers], 0, 2000, 0.0, 0.8, false, false, false, nothing, false), Gadfly.GuideElement[Gadfly.Guide.Title(\"\"), Gadfly.Guide.XLabel(\"PFD (μmol m⁻² s⁻¹)\", :auto), Gadfly.Guide.YLabel(\"gs (mol bar⁻¹ m⁻² s⁻¹)\", :auto), Gadfly.Guide.ManualDiscreteKey(\"CO2 (μmol mol⁻¹)\", [\"1000 μmol mol⁻¹\", \"400 μmol mol⁻¹\", \"250 μmol mol⁻¹\"], Any[], ColorTypes.Colorant[LCHab{Float32}(70.0f0,60.0f0,240.0f0), LCHab{Float32}(80.0f0,70.000015f0,100.43479f0), LCHab{Float32}(65.89944f0,62.21457f0,353.99814f0)], Function[], Measures.Measure[], true)], Gadfly.Theme(LCHab{Float32}(70.0f0,60.0f0,240.0f0), 0.7mm, 0.45mm, 1.8mm, Gadfly.Scale.default_discrete_sizes, Gadfly.Scale.default_continuous_sizes, Gadfly.Scale.default_discrete_colors, Function[Compose.circle, Gadfly.Shape.square, Gadfly.Shape.diamond, Gadfly.Shape.cross, Gadfly.Shape.xcross, Gadfly.Shape.utriangle, Gadfly.Shape.dtriangle, Gadfly.Shape.star1, Gadfly.Shape.star2, Gadfly.Shape.hexagon, Gadfly.Shape.octagon, Gadfly.Shape.hline, Gadfly.Shape.vline, Gadfly.Shape.ltriangle, Gadfly.Shape.rtriangle], 0.3mm, [:solid, :dash, :dot, :dashdot, :dashdotdot, :ldash, :ldashdash, :ldashdot, :ldashdashdot], [1.0, 0.9, 0.8, 0.7, 0.6, 0.5, 0.4, 0.3, 0.2, 0.1, 0.0], nothing, nothing, 0.3mm, 0.0, RGB{N0f8}(1.0,1.0,1.0), Measures.AbsoluteLength[5.0mm, 5.0mm, 5.0mm, 0.0mm], RGB{N0f8}(0.816,0.816,0.878), Measures.AbsoluteLength[0.5mm, 0.5mm], RGB{N0f8}(0.627,0.627,0.627), 0.2mm, 0, \"'PT Sans Caption','Helvetica Neue','Helvetica',sans-serif\", 2.822222222222222mm, RGB{N0f8}(0.424,0.376,0.42), \"'PT Sans','Helvetica Neue','Helvetica',sans-serif\", 3.5277777777777777mm, RGB{N0f8}(0.337,0.29,0.333), \"'PT Sans Caption','Helvetica Neue','Helvetica',sans-serif\", 2.822222222222222mm, RGB{N0f8}(0.298,0.251,0.294), \"'PT Sans','Helvetica Neue','Helvetica',sans-serif\", 3.175mm, RGB{N0f8}(0.212,0.165,0.208), \"'PT Sans','Helvetica Neue','Helvetica',sans-serif\", 2.822222222222222mm, RGB{N0f8}(0.298,0.251,0.294), 40, -0.05mm, 1.0mm, 3.0mm, Gadfly.default_stroke_color, 0.3mm, Cropbox.var\"#603#612\"(), Gadfly.default_continuous_highlight_color, Gadfly.default_lowlight_color, Gadfly.default_middle_color, 0.6mm, :left, :square, nothing, nothing, nothing, :right, nothing, 2.0mm, 1000, 10.0, 0.5, 0.2, 1.0mm, 4, Gadfly.Scale.DiscreteColorScale(Gadfly.Scale.default_discrete_colors, nothing, nothing, true), Gadfly.Scale.ContinuousColorScale(Gadfly.Scale.var\"#73#77\"{Int64, Int64, Int64, Int64, Float64, Int64}(100, 40, 260, 10, 1.5, 70), Gadfly.Scale.ContinuousScaleTransform(identity, identity, Gadfly.Scale.identity_formatter), nothing, nothing)), Dict{Symbol, Any}()))], Dict{Symbol, Any}(:style => Dict(\"display\" => \"flex\", \"flex-direction\" => \"column\")))"
      ]
     },
     "execution_count": 11,
     "metadata": {
      "@webio": {
       "kernelId": "8436a56f-e476-4e97-9154-247f9c1a8fbe"
      }
     },
     "output_type": "execute_result"
    }
   ],
   "source": [
    "manipulate(ModelC3BB, :PFD, :gs;\n",
    "    config = ge_C3base,\n",
    "    parameters = (\n",
    "    :StomataTuzet => :WP_leaf => -3:0.1:0,\n",
    "    :Weather      => :RH     => 0:5:100,\n",
    "    :Weather      => :T_air   => 0:1:50,\n",
    "    :Nitrogen     => :N     => 0:0.1:4,        \n",
    "        ),\n",
    "    xstep = :Weather      => :PFD     => 0:100:2000,\n",
    "    group = CO2_group,    \n",
    "    xlim = (0,2000),\n",
    "    ylim = (0,0.8),\n",
    "    kind = :line,\n",
    ")"
   ]
  },
  {
   "cell_type": "markdown",
   "metadata": {},
   "source": [
    "## Stomatal conductance ($g_s$) response to relative humidity"
   ]
  },
  {
   "cell_type": "code",
   "execution_count": 12,
   "metadata": {
    "jupyter": {
     "source_hidden": true
    },
    "tags": []
   },
   "outputs": [
    {
     "data": {
      "application/vnd.webio.node+json": {
       "children": [
        {
         "children": [
          "Weather"
         ],
         "instanceArgs": {
          "namespace": "html",
          "tag": "div"
         },
         "nodeType": "DOM",
         "props": {
          "style": {
           "color": "rebeccapurple",
           "font-family": "monospace"
          }
         },
         "type": "node"
        },
        {
         "children": [
          {
           "children": [
            {
             "children": [
              {
               "children": [
                {
                 "children": [
                  "PFD (μmol m⁻² s⁻¹)"
                 ],
                 "instanceArgs": {
                  "namespace": "html",
                  "tag": "label"
                 },
                 "nodeType": "DOM",
                 "props": {
                  "className": "interact ",
                  "style": {
                   "color": "royalblue",
                   "padding": "5px 10px 0px 10px",
                   "white-space": "nowrap"
                  }
                 },
                 "type": "node"
                }
               ],
               "instanceArgs": {
                "namespace": "html",
                "tag": "div"
               },
               "nodeType": "DOM",
               "props": {
                "className": "interact-flex-row-left"
               },
               "type": "node"
              },
              {
               "children": [
                {
                 "children": [],
                 "instanceArgs": {
                  "namespace": "html",
                  "tag": "input"
                 },
                 "nodeType": "DOM",
                 "props": {
                  "attributes": {
                   "data-bind": "numericValue: index, valueUpdate: 'input', event: {change: function (){this.changes(this.changes()+1)}}",
                   "orient": "horizontal",
                   "type": "range"
                  },
                  "className": "slider slider is-fullwidth",
                  "max": 21,
                  "min": 1,
                  "step": 1,
                  "style": {}
                 },
                 "type": "node"
                }
               ],
               "instanceArgs": {
                "namespace": "html",
                "tag": "div"
               },
               "nodeType": "DOM",
               "props": {
                "className": "interact-flex-row-center"
               },
               "type": "node"
              },
              {
               "children": [
                {
                 "children": [],
                 "instanceArgs": {
                  "namespace": "html",
                  "tag": "p"
                 },
                 "nodeType": "DOM",
                 "props": {
                  "attributes": {
                   "data-bind": "text: formatted_val"
                  }
                 },
                 "type": "node"
                }
               ],
               "instanceArgs": {
                "namespace": "html",
                "tag": "div"
               },
               "nodeType": "DOM",
               "props": {
                "className": "interact-flex-row-right"
               },
               "type": "node"
              }
             ],
             "instanceArgs": {
              "namespace": "html",
              "tag": "div"
             },
             "nodeType": "DOM",
             "props": {
              "className": "interact-flex-row interact-widget",
              "style": {
               "font-family": "monospace",
               "width": "80%"
              }
             },
             "type": "node"
            }
           ],
           "instanceArgs": {
            "handlers": {
             "changes": [
              "(function (val){return (val!=this.model[\"changes\"]()) ? (this.valueFromJulia[\"changes\"]=true, this.model[\"changes\"](val)) : undefined})"
             ],
             "index": [
              "(function (val){return (val!=this.model[\"index\"]()) ? (this.valueFromJulia[\"index\"]=true, this.model[\"index\"](val)) : undefined})"
             ]
            },
            "id": "12334790062983693839",
            "imports": {
             "data": [
              {
               "name": "knockout",
               "type": "js",
               "url": "/assetserver/c0689c4f2514def856941022372b529b3413f129-knockout.js"
              },
              {
               "name": "knockout_punches",
               "type": "js",
               "url": "/assetserver/69274bc4b68b761587a57ff3f5e787f3dd4781dc-knockout_punches.js"
              },
              {
               "name": null,
               "type": "js",
               "url": "/assetserver/096b68745a0180096d3bd812a95825d387626124-all.js"
              },
              {
               "name": null,
               "type": "css",
               "url": "/assetserver/d8822751ac3a06d244eead91a737222f90bb9e0b-style.css"
              },
              {
               "name": null,
               "type": "css",
               "url": "/assetserver/792d9982ee796e4da6422248c42eb77a0d83e61e-bulma_confined.min.css"
              }
             ],
             "type": "async_block"
            },
            "mount_callbacks": [
             "function () {\n    var handler = (function (ko, koPunches) {\n    ko.punches.enableAll();\n    ko.bindingHandlers.numericValue = {\n        init: function(element, valueAccessor, allBindings, data, context) {\n            var stringified = ko.observable(ko.unwrap(valueAccessor()));\n            stringified.subscribe(function(value) {\n                var val = parseFloat(value);\n                if (!isNaN(val)) {\n                    valueAccessor()(val);\n                }\n            });\n            valueAccessor().subscribe(function(value) {\n                var str = JSON.stringify(value);\n                if ((str == \"0\") && ([\"-0\", \"-0.\"].indexOf(stringified()) >= 0))\n                     return;\n                 if ([\"null\", \"\"].indexOf(str) >= 0)\n                     return;\n                stringified(str);\n            });\n            ko.applyBindingsToNode(\n                element,\n                {\n                    value: stringified,\n                    valueUpdate: allBindings.get('valueUpdate'),\n                },\n                context,\n            );\n        }\n    };\n    var json_data = {\"formatted_vals\":[\"0\",\"100\",\"200\",\"300\",\"400\",\"500\",\"600\",\"700\",\"800\",\"900\",\"1000\",\"1100\",\"1200\",\"1300\",\"1400\",\"1500\",\"1600\",\"1700\",\"1800\",\"1900\",\"2000\"],\"changes\":WebIO.getval({\"name\":\"changes\",\"scope\":\"12334790062983693839\",\"id\":\"4467545433470096476\",\"type\":\"observable\"}),\"index\":WebIO.getval({\"name\":\"index\",\"scope\":\"12334790062983693839\",\"id\":\"3302733622746996665\",\"type\":\"observable\"})};\n    var self = this;\n    function AppViewModel() {\n        for (var key in json_data) {\n            var el = json_data[key];\n            this[key] = Array.isArray(el) ? ko.observableArray(el) : ko.observable(el);\n        }\n        \n        [this[\"formatted_val\"]=ko.computed(    function(){\n        return this.formatted_vals()[parseInt(this.index())-(1)];\n    }\n,this)]\n        [this[\"changes\"].subscribe((function (val){!(this.valueFromJulia[\"changes\"]) ? (WebIO.setval({\"name\":\"changes\",\"scope\":\"12334790062983693839\",\"id\":\"4467545433470096476\",\"type\":\"observable\"},val)) : undefined; return this.valueFromJulia[\"changes\"]=false}),self),this[\"index\"].subscribe((function (val){!(this.valueFromJulia[\"index\"]) ? (WebIO.setval({\"name\":\"index\",\"scope\":\"12334790062983693839\",\"id\":\"3302733622746996665\",\"type\":\"observable\"},val)) : undefined; return this.valueFromJulia[\"index\"]=false}),self)]\n        \n    }\n    self.model = new AppViewModel();\n    self.valueFromJulia = {};\n    for (var key in json_data) {\n        self.valueFromJulia[key] = false;\n    }\n    ko.applyBindings(self.model, self.dom);\n}\n);\n    (WebIO.importBlock({\"data\":[{\"name\":\"knockout\",\"type\":\"js\",\"url\":\"/assetserver/c0689c4f2514def856941022372b529b3413f129-knockout.js\"},{\"name\":\"knockout_punches\",\"type\":\"js\",\"url\":\"/assetserver/69274bc4b68b761587a57ff3f5e787f3dd4781dc-knockout_punches.js\"}],\"type\":\"async_block\"})).then((imports) => handler.apply(this, imports));\n}\n"
            ],
            "observables": {
             "changes": {
              "id": "4467545433470096476",
              "sync": true,
              "value": 0
             },
             "index": {
              "id": "3302733622746996665",
              "sync": true,
              "value": 16
             }
            },
            "systemjs_options": null
           },
           "nodeType": "Scope",
           "props": {},
           "type": "node"
          }
         ],
         "instanceArgs": {
          "namespace": "html",
          "tag": "div"
         },
         "nodeType": "DOM",
         "props": {
          "className": "field interact-widget"
         },
         "type": "node"
        },
        {
         "children": [
          {
           "children": [
            {
             "children": [
              {
               "children": [
                {
                 "children": [
                  "T_air (°C)"
                 ],
                 "instanceArgs": {
                  "namespace": "html",
                  "tag": "label"
                 },
                 "nodeType": "DOM",
                 "props": {
                  "className": "interact ",
                  "style": {
                   "color": "royalblue",
                   "padding": "5px 10px 0px 10px",
                   "white-space": "nowrap"
                  }
                 },
                 "type": "node"
                }
               ],
               "instanceArgs": {
                "namespace": "html",
                "tag": "div"
               },
               "nodeType": "DOM",
               "props": {
                "className": "interact-flex-row-left"
               },
               "type": "node"
              },
              {
               "children": [
                {
                 "children": [],
                 "instanceArgs": {
                  "namespace": "html",
                  "tag": "input"
                 },
                 "nodeType": "DOM",
                 "props": {
                  "attributes": {
                   "data-bind": "numericValue: index, valueUpdate: 'input', event: {change: function (){this.changes(this.changes()+1)}}",
                   "orient": "horizontal",
                   "type": "range"
                  },
                  "className": "slider slider is-fullwidth",
                  "max": 51,
                  "min": 1,
                  "step": 1,
                  "style": {}
                 },
                 "type": "node"
                }
               ],
               "instanceArgs": {
                "namespace": "html",
                "tag": "div"
               },
               "nodeType": "DOM",
               "props": {
                "className": "interact-flex-row-center"
               },
               "type": "node"
              },
              {
               "children": [
                {
                 "children": [],
                 "instanceArgs": {
                  "namespace": "html",
                  "tag": "p"
                 },
                 "nodeType": "DOM",
                 "props": {
                  "attributes": {
                   "data-bind": "text: formatted_val"
                  }
                 },
                 "type": "node"
                }
               ],
               "instanceArgs": {
                "namespace": "html",
                "tag": "div"
               },
               "nodeType": "DOM",
               "props": {
                "className": "interact-flex-row-right"
               },
               "type": "node"
              }
             ],
             "instanceArgs": {
              "namespace": "html",
              "tag": "div"
             },
             "nodeType": "DOM",
             "props": {
              "className": "interact-flex-row interact-widget",
              "style": {
               "font-family": "monospace",
               "width": "80%"
              }
             },
             "type": "node"
            }
           ],
           "instanceArgs": {
            "handlers": {
             "changes": [
              "(function (val){return (val!=this.model[\"changes\"]()) ? (this.valueFromJulia[\"changes\"]=true, this.model[\"changes\"](val)) : undefined})"
             ],
             "index": [
              "(function (val){return (val!=this.model[\"index\"]()) ? (this.valueFromJulia[\"index\"]=true, this.model[\"index\"](val)) : undefined})"
             ]
            },
            "id": "6603168800941817629",
            "imports": {
             "data": [
              {
               "name": "knockout",
               "type": "js",
               "url": "/assetserver/c0689c4f2514def856941022372b529b3413f129-knockout.js"
              },
              {
               "name": "knockout_punches",
               "type": "js",
               "url": "/assetserver/69274bc4b68b761587a57ff3f5e787f3dd4781dc-knockout_punches.js"
              },
              {
               "name": null,
               "type": "js",
               "url": "/assetserver/096b68745a0180096d3bd812a95825d387626124-all.js"
              },
              {
               "name": null,
               "type": "css",
               "url": "/assetserver/d8822751ac3a06d244eead91a737222f90bb9e0b-style.css"
              },
              {
               "name": null,
               "type": "css",
               "url": "/assetserver/792d9982ee796e4da6422248c42eb77a0d83e61e-bulma_confined.min.css"
              }
             ],
             "type": "async_block"
            },
            "mount_callbacks": [
             "function () {\n    var handler = (function (ko, koPunches) {\n    ko.punches.enableAll();\n    ko.bindingHandlers.numericValue = {\n        init: function(element, valueAccessor, allBindings, data, context) {\n            var stringified = ko.observable(ko.unwrap(valueAccessor()));\n            stringified.subscribe(function(value) {\n                var val = parseFloat(value);\n                if (!isNaN(val)) {\n                    valueAccessor()(val);\n                }\n            });\n            valueAccessor().subscribe(function(value) {\n                var str = JSON.stringify(value);\n                if ((str == \"0\") && ([\"-0\", \"-0.\"].indexOf(stringified()) >= 0))\n                     return;\n                 if ([\"null\", \"\"].indexOf(str) >= 0)\n                     return;\n                stringified(str);\n            });\n            ko.applyBindingsToNode(\n                element,\n                {\n                    value: stringified,\n                    valueUpdate: allBindings.get('valueUpdate'),\n                },\n                context,\n            );\n        }\n    };\n    var json_data = {\"formatted_vals\":[\"0\",\"1\",\"2\",\"3\",\"4\",\"5\",\"6\",\"7\",\"8\",\"9\",\"10\",\"11\",\"12\",\"13\",\"14\",\"15\",\"16\",\"17\",\"18\",\"19\",\"20\",\"21\",\"22\",\"23\",\"24\",\"25\",\"26\",\"27\",\"28\",\"29\",\"30\",\"31\",\"32\",\"33\",\"34\",\"35\",\"36\",\"37\",\"38\",\"39\",\"40\",\"41\",\"42\",\"43\",\"44\",\"45\",\"46\",\"47\",\"48\",\"49\",\"50\"],\"changes\":WebIO.getval({\"name\":\"changes\",\"scope\":\"6603168800941817629\",\"id\":\"13673046285344300387\",\"type\":\"observable\"}),\"index\":WebIO.getval({\"name\":\"index\",\"scope\":\"6603168800941817629\",\"id\":\"16341340583035095736\",\"type\":\"observable\"})};\n    var self = this;\n    function AppViewModel() {\n        for (var key in json_data) {\n            var el = json_data[key];\n            this[key] = Array.isArray(el) ? ko.observableArray(el) : ko.observable(el);\n        }\n        \n        [this[\"formatted_val\"]=ko.computed(    function(){\n        return this.formatted_vals()[parseInt(this.index())-(1)];\n    }\n,this)]\n        [this[\"changes\"].subscribe((function (val){!(this.valueFromJulia[\"changes\"]) ? (WebIO.setval({\"name\":\"changes\",\"scope\":\"6603168800941817629\",\"id\":\"13673046285344300387\",\"type\":\"observable\"},val)) : undefined; return this.valueFromJulia[\"changes\"]=false}),self),this[\"index\"].subscribe((function (val){!(this.valueFromJulia[\"index\"]) ? (WebIO.setval({\"name\":\"index\",\"scope\":\"6603168800941817629\",\"id\":\"16341340583035095736\",\"type\":\"observable\"},val)) : undefined; return this.valueFromJulia[\"index\"]=false}),self)]\n        \n    }\n    self.model = new AppViewModel();\n    self.valueFromJulia = {};\n    for (var key in json_data) {\n        self.valueFromJulia[key] = false;\n    }\n    ko.applyBindings(self.model, self.dom);\n}\n);\n    (WebIO.importBlock({\"data\":[{\"name\":\"knockout\",\"type\":\"js\",\"url\":\"/assetserver/c0689c4f2514def856941022372b529b3413f129-knockout.js\"},{\"name\":\"knockout_punches\",\"type\":\"js\",\"url\":\"/assetserver/69274bc4b68b761587a57ff3f5e787f3dd4781dc-knockout_punches.js\"}],\"type\":\"async_block\"})).then((imports) => handler.apply(this, imports));\n}\n"
            ],
            "observables": {
             "changes": {
              "id": "13673046285344300387",
              "sync": true,
              "value": 0
             },
             "index": {
              "id": "16341340583035095736",
              "sync": true,
              "value": 26
             }
            },
            "systemjs_options": null
           },
           "nodeType": "Scope",
           "props": {},
           "type": "node"
          }
         ],
         "instanceArgs": {
          "namespace": "html",
          "tag": "div"
         },
         "nodeType": "DOM",
         "props": {
          "className": "field interact-widget"
         },
         "type": "node"
        },
        {
         "children": [
          "Nitrogen"
         ],
         "instanceArgs": {
          "namespace": "html",
          "tag": "div"
         },
         "nodeType": "DOM",
         "props": {
          "style": {
           "color": "rebeccapurple",
           "font-family": "monospace"
          }
         },
         "type": "node"
        },
        {
         "children": [
          {
           "children": [
            {
             "children": [
              {
               "children": [
                {
                 "children": [
                  "N"
                 ],
                 "instanceArgs": {
                  "namespace": "html",
                  "tag": "label"
                 },
                 "nodeType": "DOM",
                 "props": {
                  "className": "interact ",
                  "style": {
                   "color": "royalblue",
                   "padding": "5px 10px 0px 10px",
                   "white-space": "nowrap"
                  }
                 },
                 "type": "node"
                }
               ],
               "instanceArgs": {
                "namespace": "html",
                "tag": "div"
               },
               "nodeType": "DOM",
               "props": {
                "className": "interact-flex-row-left"
               },
               "type": "node"
              },
              {
               "children": [
                {
                 "children": [],
                 "instanceArgs": {
                  "namespace": "html",
                  "tag": "input"
                 },
                 "nodeType": "DOM",
                 "props": {
                  "attributes": {
                   "data-bind": "numericValue: index, valueUpdate: 'input', event: {change: function (){this.changes(this.changes()+1)}}",
                   "orient": "horizontal",
                   "type": "range"
                  },
                  "className": "slider slider is-fullwidth",
                  "max": 41,
                  "min": 1,
                  "step": 1,
                  "style": {}
                 },
                 "type": "node"
                }
               ],
               "instanceArgs": {
                "namespace": "html",
                "tag": "div"
               },
               "nodeType": "DOM",
               "props": {
                "className": "interact-flex-row-center"
               },
               "type": "node"
              },
              {
               "children": [
                {
                 "children": [],
                 "instanceArgs": {
                  "namespace": "html",
                  "tag": "p"
                 },
                 "nodeType": "DOM",
                 "props": {
                  "attributes": {
                   "data-bind": "text: formatted_val"
                  }
                 },
                 "type": "node"
                }
               ],
               "instanceArgs": {
                "namespace": "html",
                "tag": "div"
               },
               "nodeType": "DOM",
               "props": {
                "className": "interact-flex-row-right"
               },
               "type": "node"
              }
             ],
             "instanceArgs": {
              "namespace": "html",
              "tag": "div"
             },
             "nodeType": "DOM",
             "props": {
              "className": "interact-flex-row interact-widget",
              "style": {
               "font-family": "monospace",
               "width": "80%"
              }
             },
             "type": "node"
            }
           ],
           "instanceArgs": {
            "handlers": {
             "changes": [
              "(function (val){return (val!=this.model[\"changes\"]()) ? (this.valueFromJulia[\"changes\"]=true, this.model[\"changes\"](val)) : undefined})"
             ],
             "index": [
              "(function (val){return (val!=this.model[\"index\"]()) ? (this.valueFromJulia[\"index\"]=true, this.model[\"index\"](val)) : undefined})"
             ]
            },
            "id": "12582209625644555491",
            "imports": {
             "data": [
              {
               "name": "knockout",
               "type": "js",
               "url": "/assetserver/c0689c4f2514def856941022372b529b3413f129-knockout.js"
              },
              {
               "name": "knockout_punches",
               "type": "js",
               "url": "/assetserver/69274bc4b68b761587a57ff3f5e787f3dd4781dc-knockout_punches.js"
              },
              {
               "name": null,
               "type": "js",
               "url": "/assetserver/096b68745a0180096d3bd812a95825d387626124-all.js"
              },
              {
               "name": null,
               "type": "css",
               "url": "/assetserver/d8822751ac3a06d244eead91a737222f90bb9e0b-style.css"
              },
              {
               "name": null,
               "type": "css",
               "url": "/assetserver/792d9982ee796e4da6422248c42eb77a0d83e61e-bulma_confined.min.css"
              }
             ],
             "type": "async_block"
            },
            "mount_callbacks": [
             "function () {\n    var handler = (function (ko, koPunches) {\n    ko.punches.enableAll();\n    ko.bindingHandlers.numericValue = {\n        init: function(element, valueAccessor, allBindings, data, context) {\n            var stringified = ko.observable(ko.unwrap(valueAccessor()));\n            stringified.subscribe(function(value) {\n                var val = parseFloat(value);\n                if (!isNaN(val)) {\n                    valueAccessor()(val);\n                }\n            });\n            valueAccessor().subscribe(function(value) {\n                var str = JSON.stringify(value);\n                if ((str == \"0\") && ([\"-0\", \"-0.\"].indexOf(stringified()) >= 0))\n                     return;\n                 if ([\"null\", \"\"].indexOf(str) >= 0)\n                     return;\n                stringified(str);\n            });\n            ko.applyBindingsToNode(\n                element,\n                {\n                    value: stringified,\n                    valueUpdate: allBindings.get('valueUpdate'),\n                },\n                context,\n            );\n        }\n    };\n    var json_data = {\"formatted_vals\":[\"0.0\",\"0.1\",\"0.2\",\"0.3\",\"0.4\",\"0.5\",\"0.6\",\"0.7\",\"0.8\",\"0.9\",\"1.0\",\"1.1\",\"1.2\",\"1.3\",\"1.4\",\"1.5\",\"1.6\",\"1.7\",\"1.8\",\"1.9\",\"2.0\",\"2.1\",\"2.2\",\"2.3\",\"2.4\",\"2.5\",\"2.6\",\"2.7\",\"2.8\",\"2.9\",\"3.0\",\"3.1\",\"3.2\",\"3.3\",\"3.4\",\"3.5\",\"3.6\",\"3.7\",\"3.8\",\"3.9\",\"4.0\"],\"changes\":WebIO.getval({\"name\":\"changes\",\"scope\":\"12582209625644555491\",\"id\":\"12146886626593665820\",\"type\":\"observable\"}),\"index\":WebIO.getval({\"name\":\"index\",\"scope\":\"12582209625644555491\",\"id\":\"1745976172436541731\",\"type\":\"observable\"})};\n    var self = this;\n    function AppViewModel() {\n        for (var key in json_data) {\n            var el = json_data[key];\n            this[key] = Array.isArray(el) ? ko.observableArray(el) : ko.observable(el);\n        }\n        \n        [this[\"formatted_val\"]=ko.computed(    function(){\n        return this.formatted_vals()[parseInt(this.index())-(1)];\n    }\n,this)]\n        [this[\"changes\"].subscribe((function (val){!(this.valueFromJulia[\"changes\"]) ? (WebIO.setval({\"name\":\"changes\",\"scope\":\"12582209625644555491\",\"id\":\"12146886626593665820\",\"type\":\"observable\"},val)) : undefined; return this.valueFromJulia[\"changes\"]=false}),self),this[\"index\"].subscribe((function (val){!(this.valueFromJulia[\"index\"]) ? (WebIO.setval({\"name\":\"index\",\"scope\":\"12582209625644555491\",\"id\":\"1745976172436541731\",\"type\":\"observable\"},val)) : undefined; return this.valueFromJulia[\"index\"]=false}),self)]\n        \n    }\n    self.model = new AppViewModel();\n    self.valueFromJulia = {};\n    for (var key in json_data) {\n        self.valueFromJulia[key] = false;\n    }\n    ko.applyBindings(self.model, self.dom);\n}\n);\n    (WebIO.importBlock({\"data\":[{\"name\":\"knockout\",\"type\":\"js\",\"url\":\"/assetserver/c0689c4f2514def856941022372b529b3413f129-knockout.js\"},{\"name\":\"knockout_punches\",\"type\":\"js\",\"url\":\"/assetserver/69274bc4b68b761587a57ff3f5e787f3dd4781dc-knockout_punches.js\"}],\"type\":\"async_block\"})).then((imports) => handler.apply(this, imports));\n}\n"
            ],
            "observables": {
             "changes": {
              "id": "12146886626593665820",
              "sync": true,
              "value": 0
             },
             "index": {
              "id": "1745976172436541731",
              "sync": true,
              "value": 21
             }
            },
            "systemjs_options": null
           },
           "nodeType": "Scope",
           "props": {},
           "type": "node"
          }
         ],
         "instanceArgs": {
          "namespace": "html",
          "tag": "div"
         },
         "nodeType": "DOM",
         "props": {
          "className": "field interact-widget"
         },
         "type": "node"
        },
        {
         "children": [
          "StomataTuzet"
         ],
         "instanceArgs": {
          "namespace": "html",
          "tag": "div"
         },
         "nodeType": "DOM",
         "props": {
          "style": {
           "color": "rebeccapurple",
           "font-family": "monospace"
          }
         },
         "type": "node"
        },
        {
         "children": [
          {
           "children": [
            {
             "children": [
              {
               "children": [
                {
                 "children": [
                  "WP_leaf"
                 ],
                 "instanceArgs": {
                  "namespace": "html",
                  "tag": "label"
                 },
                 "nodeType": "DOM",
                 "props": {
                  "className": "interact ",
                  "style": {
                   "color": "royalblue",
                   "padding": "5px 10px 0px 10px",
                   "white-space": "nowrap"
                  }
                 },
                 "type": "node"
                }
               ],
               "instanceArgs": {
                "namespace": "html",
                "tag": "div"
               },
               "nodeType": "DOM",
               "props": {
                "className": "interact-flex-row-left"
               },
               "type": "node"
              },
              {
               "children": [
                {
                 "children": [],
                 "instanceArgs": {
                  "namespace": "html",
                  "tag": "input"
                 },
                 "nodeType": "DOM",
                 "props": {
                  "attributes": {
                   "data-bind": "numericValue: index, valueUpdate: 'input', event: {change: function (){this.changes(this.changes()+1)}}",
                   "orient": "horizontal",
                   "type": "range"
                  },
                  "className": "slider slider is-fullwidth",
                  "max": 31,
                  "min": 1,
                  "step": 1,
                  "style": {}
                 },
                 "type": "node"
                }
               ],
               "instanceArgs": {
                "namespace": "html",
                "tag": "div"
               },
               "nodeType": "DOM",
               "props": {
                "className": "interact-flex-row-center"
               },
               "type": "node"
              },
              {
               "children": [
                {
                 "children": [],
                 "instanceArgs": {
                  "namespace": "html",
                  "tag": "p"
                 },
                 "nodeType": "DOM",
                 "props": {
                  "attributes": {
                   "data-bind": "text: formatted_val"
                  }
                 },
                 "type": "node"
                }
               ],
               "instanceArgs": {
                "namespace": "html",
                "tag": "div"
               },
               "nodeType": "DOM",
               "props": {
                "className": "interact-flex-row-right"
               },
               "type": "node"
              }
             ],
             "instanceArgs": {
              "namespace": "html",
              "tag": "div"
             },
             "nodeType": "DOM",
             "props": {
              "className": "interact-flex-row interact-widget",
              "style": {
               "font-family": "monospace",
               "width": "80%"
              }
             },
             "type": "node"
            }
           ],
           "instanceArgs": {
            "handlers": {
             "changes": [
              "(function (val){return (val!=this.model[\"changes\"]()) ? (this.valueFromJulia[\"changes\"]=true, this.model[\"changes\"](val)) : undefined})"
             ],
             "index": [
              "(function (val){return (val!=this.model[\"index\"]()) ? (this.valueFromJulia[\"index\"]=true, this.model[\"index\"](val)) : undefined})"
             ]
            },
            "id": "16422589016364457545",
            "imports": {
             "data": [
              {
               "name": "knockout",
               "type": "js",
               "url": "/assetserver/c0689c4f2514def856941022372b529b3413f129-knockout.js"
              },
              {
               "name": "knockout_punches",
               "type": "js",
               "url": "/assetserver/69274bc4b68b761587a57ff3f5e787f3dd4781dc-knockout_punches.js"
              },
              {
               "name": null,
               "type": "js",
               "url": "/assetserver/096b68745a0180096d3bd812a95825d387626124-all.js"
              },
              {
               "name": null,
               "type": "css",
               "url": "/assetserver/d8822751ac3a06d244eead91a737222f90bb9e0b-style.css"
              },
              {
               "name": null,
               "type": "css",
               "url": "/assetserver/792d9982ee796e4da6422248c42eb77a0d83e61e-bulma_confined.min.css"
              }
             ],
             "type": "async_block"
            },
            "mount_callbacks": [
             "function () {\n    var handler = (function (ko, koPunches) {\n    ko.punches.enableAll();\n    ko.bindingHandlers.numericValue = {\n        init: function(element, valueAccessor, allBindings, data, context) {\n            var stringified = ko.observable(ko.unwrap(valueAccessor()));\n            stringified.subscribe(function(value) {\n                var val = parseFloat(value);\n                if (!isNaN(val)) {\n                    valueAccessor()(val);\n                }\n            });\n            valueAccessor().subscribe(function(value) {\n                var str = JSON.stringify(value);\n                if ((str == \"0\") && ([\"-0\", \"-0.\"].indexOf(stringified()) >= 0))\n                     return;\n                 if ([\"null\", \"\"].indexOf(str) >= 0)\n                     return;\n                stringified(str);\n            });\n            ko.applyBindingsToNode(\n                element,\n                {\n                    value: stringified,\n                    valueUpdate: allBindings.get('valueUpdate'),\n                },\n                context,\n            );\n        }\n    };\n    var json_data = {\"formatted_vals\":[\"-3.0\",\"-2.9\",\"-2.8\",\"-2.7\",\"-2.6\",\"-2.5\",\"-2.4\",\"-2.3\",\"-2.2\",\"-2.1\",\"-2.0\",\"-1.9\",\"-1.8\",\"-1.7\",\"-1.6\",\"-1.5\",\"-1.4\",\"-1.3\",\"-1.2\",\"-1.1\",\"-1.0\",\"-0.9\",\"-0.8\",\"-0.7\",\"-0.6\",\"-0.5\",\"-0.4\",\"-0.3\",\"-0.2\",\"-0.1\",\"0.0\"],\"changes\":WebIO.getval({\"name\":\"changes\",\"scope\":\"16422589016364457545\",\"id\":\"12851574697294259950\",\"type\":\"observable\"}),\"index\":WebIO.getval({\"name\":\"index\",\"scope\":\"16422589016364457545\",\"id\":\"14614652068679314364\",\"type\":\"observable\"})};\n    var self = this;\n    function AppViewModel() {\n        for (var key in json_data) {\n            var el = json_data[key];\n            this[key] = Array.isArray(el) ? ko.observableArray(el) : ko.observable(el);\n        }\n        \n        [this[\"formatted_val\"]=ko.computed(    function(){\n        return this.formatted_vals()[parseInt(this.index())-(1)];\n    }\n,this)]\n        [this[\"changes\"].subscribe((function (val){!(this.valueFromJulia[\"changes\"]) ? (WebIO.setval({\"name\":\"changes\",\"scope\":\"16422589016364457545\",\"id\":\"12851574697294259950\",\"type\":\"observable\"},val)) : undefined; return this.valueFromJulia[\"changes\"]=false}),self),this[\"index\"].subscribe((function (val){!(this.valueFromJulia[\"index\"]) ? (WebIO.setval({\"name\":\"index\",\"scope\":\"16422589016364457545\",\"id\":\"14614652068679314364\",\"type\":\"observable\"},val)) : undefined; return this.valueFromJulia[\"index\"]=false}),self)]\n        \n    }\n    self.model = new AppViewModel();\n    self.valueFromJulia = {};\n    for (var key in json_data) {\n        self.valueFromJulia[key] = false;\n    }\n    ko.applyBindings(self.model, self.dom);\n}\n);\n    (WebIO.importBlock({\"data\":[{\"name\":\"knockout\",\"type\":\"js\",\"url\":\"/assetserver/c0689c4f2514def856941022372b529b3413f129-knockout.js\"},{\"name\":\"knockout_punches\",\"type\":\"js\",\"url\":\"/assetserver/69274bc4b68b761587a57ff3f5e787f3dd4781dc-knockout_punches.js\"}],\"type\":\"async_block\"})).then((imports) => handler.apply(this, imports));\n}\n"
            ],
            "observables": {
             "changes": {
              "id": "12851574697294259950",
              "sync": true,
              "value": 0
             },
             "index": {
              "id": "14614652068679314364",
              "sync": true,
              "value": 26
             }
            },
            "systemjs_options": null
           },
           "nodeType": "Scope",
           "props": {},
           "type": "node"
          }
         ],
         "instanceArgs": {
          "namespace": "html",
          "tag": "div"
         },
         "nodeType": "DOM",
         "props": {
          "className": "field interact-widget"
         },
         "type": "node"
        },
        {
         "children": [
          {
           "children": [],
           "instanceArgs": {
            "namespace": "html",
            "tag": "div"
           },
           "nodeType": "DOM",
           "props": {
            "className": "webio-observable",
            "setInnerHtml": "<?xml version=\"1.0\" encoding=\"UTF-8\"?>\n<svg xmlns=\"http://www.w3.org/2000/svg\"\n     xmlns:xlink=\"http://www.w3.org/1999/xlink\"\n     xmlns:gadfly=\"http://www.gadflyjl.org/ns\"\n     version=\"1.2\"\n     width=\"141.42mm\" height=\"100mm\" viewBox=\"0 0 141.42 100\"\n     stroke=\"none\"\n     fill=\"#000000\"\n     stroke-width=\"0.3\"\n     font-size=\"3.88\"\n>\n<defs>\n  <marker id=\"arrow\" markerWidth=\"15\" markerHeight=\"7\" refX=\"5\" refY=\"3.5\" orient=\"auto\" markerUnits=\"strokeWidth\">\n    <path d=\"M0,0 L15,3.5 L0,7 z\" stroke=\"context-stroke\" fill=\"context-stroke\"/>\n  </marker>\n</defs>\n<g stroke=\"#000000\" stroke-opacity=\"0.000\" fill=\"#FFFFFF\" id=\"img-405d439c-1\">\n  <g transform=\"translate(70.71,50)\">\n    <path d=\"M-70.71,-50 L70.71,-50 70.71,50 -70.71,50  z\" class=\"primitive\"/>\n  </g>\n</g>\n<g class=\"plotroot xscalable yscalable\" id=\"img-405d439c-2\">\n  <g font-size=\"3.53\" font-family=\"'PT Sans','Helvetica Neue','Helvetica',sans-serif\" fill=\"#564A55\" stroke=\"#000000\" stroke-opacity=\"0.000\" id=\"img-405d439c-3\">\n    <g transform=\"translate(63.47,93.72)\">\n      <g class=\"primitive\">\n        <text text-anchor=\"middle\" dy=\"0.6em\">RH (%)</text>\n      </g>\n    </g>\n  </g>\n  <g class=\"guide xlabels\" font-size=\"2.82\" font-family=\"'PT Sans Caption','Helvetica Neue','Helvetica',sans-serif\" fill=\"#6C606B\" id=\"img-405d439c-4\">\n    <g transform=\"translate(20.3,87.04)\">\n      <g class=\"primitive\">\n        <text text-anchor=\"middle\" dy=\"0.6em\">0</text>\n      </g>\n    </g>\n    <g transform=\"translate(63.47,87.04)\">\n      <g class=\"primitive\">\n        <text text-anchor=\"middle\" dy=\"0.6em\">50</text>\n      </g>\n    </g>\n    <g transform=\"translate(106.64,87.04)\">\n      <g class=\"primitive\">\n        <text text-anchor=\"middle\" dy=\"0.6em\">100</text>\n      </g>\n    </g>\n  </g>\n  <g class=\"guide colorkey\" id=\"img-405d439c-5\">\n    <g fill=\"#4C404B\" font-size=\"2.82\" font-family=\"'PT Sans','Helvetica Neue','Helvetica',sans-serif\" id=\"img-405d439c-6\">\n      <g transform=\"translate(113.27,44.12)\" id=\"img-405d439c-7\">\n        <g class=\"primitive\">\n          <text dy=\"0.35em\">1000 μmol mol⁻¹</text>\n        </g>\n      </g>\n      <g transform=\"translate(113.27,47.75)\" id=\"img-405d439c-8\">\n        <g class=\"primitive\">\n          <text dy=\"0.35em\">400 μmol mol⁻¹</text>\n        </g>\n      </g>\n      <g transform=\"translate(113.27,51.38)\" id=\"img-405d439c-9\">\n        <g class=\"primitive\">\n          <text dy=\"0.35em\">250 μmol mol⁻¹</text>\n        </g>\n      </g>\n    </g>\n    <g stroke-width=\"0.3\" id=\"img-405d439c-10\">\n      <g stroke=\"#FFFFFF\" stroke-opacity=\"0.000\" fill-opacity=\"1\" fill=\"#FF6DAE\" id=\"img-405d439c-11\">\n        <g transform=\"translate(110.45,51.38)\" id=\"img-405d439c-12\">\n          <circle cx=\"0\" cy=\"0\" r=\"0.7\" class=\"primitive\"/>\n        </g>\n      </g>\n      <g stroke=\"#FFFFFF\" stroke-opacity=\"0.000\" fill-opacity=\"1\" fill=\"#D4CA3A\" id=\"img-405d439c-13\">\n        <g transform=\"translate(110.45,47.75)\" id=\"img-405d439c-14\">\n          <circle cx=\"0\" cy=\"0\" r=\"0.7\" class=\"primitive\"/>\n        </g>\n      </g>\n      <g stroke=\"#FFFFFF\" stroke-opacity=\"0.000\" fill-opacity=\"1\" fill=\"#00BFFF\" id=\"img-405d439c-15\">\n        <g transform=\"translate(110.45,44.12)\" id=\"img-405d439c-16\">\n          <circle cx=\"0\" cy=\"0\" r=\"0.7\" class=\"primitive\"/>\n        </g>\n      </g>\n    </g>\n    <g fill=\"#362A35\" font-size=\"3.18\" font-family=\"'PT Sans','Helvetica Neue','Helvetica',sans-serif\" stroke=\"#000000\" stroke-opacity=\"0.000\" id=\"img-405d439c-17\">\n      <g transform=\"translate(109.64,40.81)\" id=\"img-405d439c-18\">\n        <g class=\"primitive\">\n          <text dy=\"-0em\">CO2 (μmol mol⁻¹)</text>\n        </g>\n      </g>\n    </g>\n  </g>\n  <g clip-path=\"url(#img-405d439c-19)\">\n    <g id=\"img-405d439c-20\">\n      <g pointer-events=\"visible\" stroke-width=\"0.3\" fill=\"#000000\" fill-opacity=\"0.000\" stroke=\"#000000\" stroke-opacity=\"0.000\" class=\"guide background\" id=\"img-405d439c-21\">\n        <g transform=\"translate(63.47,45.52)\" id=\"img-405d439c-22\">\n          <path d=\"M-45.17,-40.52 L45.17,-40.52 45.17,40.52 -45.17,40.52  z\" class=\"primitive\"/>\n        </g>\n      </g>\n      <g class=\"guide ygridlines xfixed\" stroke-dasharray=\"0.5,0.5\" stroke-width=\"0.2\" stroke=\"#D0D0E0\" id=\"img-405d439c-23\">\n        <g transform=\"translate(63.47,84.04)\" id=\"img-405d439c-24\">\n          <path fill=\"none\" d=\"M-45.17,0 L45.17,0 \" class=\"primitive\"/>\n        </g>\n        <g transform=\"translate(63.47,45.52)\" id=\"img-405d439c-25\">\n          <path fill=\"none\" d=\"M-45.17,0 L45.17,0 \" class=\"primitive\"/>\n        </g>\n        <g transform=\"translate(63.47,7)\" id=\"img-405d439c-26\">\n          <path fill=\"none\" d=\"M-45.17,0 L45.17,0 \" class=\"primitive\"/>\n        </g>\n      </g>\n      <g class=\"guide xgridlines yfixed\" stroke-dasharray=\"0.5,0.5\" stroke-width=\"0.2\" stroke=\"#D0D0E0\" id=\"img-405d439c-27\">\n        <g transform=\"translate(20.3,45.52)\" id=\"img-405d439c-28\">\n          <path fill=\"none\" d=\"M0,-40.52 L0,40.52 \" class=\"primitive\"/>\n        </g>\n        <g transform=\"translate(63.47,45.52)\" id=\"img-405d439c-29\">\n          <path fill=\"none\" d=\"M0,-40.52 L0,40.52 \" class=\"primitive\"/>\n        </g>\n        <g transform=\"translate(106.64,45.52)\" id=\"img-405d439c-30\">\n          <path fill=\"none\" d=\"M0,-40.52 L0,40.52 \" class=\"primitive\"/>\n        </g>\n      </g>\n      <g class=\"plotpanel\" id=\"img-405d439c-31\">\n        <metadata>\n          <boundingbox value=\"18.303333333333327mm 5.0mm 90.33802290397617mm 81.04333333333334mm\"/>\n          <unitbox value=\"-2.316476487102756 1.0259594167784363 104.63295297420552 -1.0519188335568728\"/>\n        </metadata>\n        <g stroke-width=\"0.3\" fill=\"#000000\" fill-opacity=\"0.000\" class=\"geometry\" id=\"img-405d439c-32\">\n          <g class=\"color_LCHab{Float32}(70.0f0,60.0f0,240.0f0)\" stroke-dasharray=\"none\" stroke=\"#00BFFF\" id=\"img-405d439c-33\">\n            <g transform=\"translate(63.47,71.01)\" id=\"img-405d439c-34\">\n              <path fill=\"none\" d=\"M-43.17,12.24 L-38.85,11.94 -34.54,11.31 -30.22,9.78 -25.9,7.83 -21.58,6.28 -17.27,4.85 -12.95,3.5 -8.63,2.18 -4.32,0.9 -0,-0.36 4.32,-1.6 8.63,-2.83 12.95,-4.05 17.27,-5.26 21.58,-6.47 25.9,-7.66 30.22,-8.86 34.54,-10.05 38.85,-11.24 43.17,-12.42 \" class=\"primitive\"/>\n            </g>\n          </g>\n        </g>\n        <g stroke-width=\"0.3\" fill=\"#000000\" fill-opacity=\"0.000\" class=\"geometry\" id=\"img-405d439c-35\">\n          <g class=\"color_LCHab{Float32}(80.0f0,70.000015f0,100.43479f0)\" stroke-dasharray=\"none\" stroke=\"#D4CA3A\" id=\"img-405d439c-36\">\n            <g transform=\"translate(63.47,59.39)\" id=\"img-405d439c-37\">\n              <path fill=\"none\" d=\"M-43.17,23.86 L-38.85,23.6 -34.54,23.09 -30.22,21.92 -25.9,19.17 -21.58,15.14 -17.27,11.01 -12.95,7.12 -8.63,3.64 -4.32,0.89 -0,-1.74 4.32,-4.28 8.63,-6.75 12.95,-9.16 17.27,-11.51 21.58,-13.82 25.9,-16.08 30.22,-18.29 34.54,-20.47 38.85,-22.62 43.17,-24.72 \" class=\"primitive\"/>\n            </g>\n          </g>\n        </g>\n        <g stroke-width=\"0.3\" fill=\"#000000\" fill-opacity=\"0.000\" class=\"geometry\" id=\"img-405d439c-38\">\n          <g class=\"color_LCHab{Float32}(65.89944f0,62.21457f0,353.99814f0)\" stroke-dasharray=\"none\" stroke=\"#FF6DAE\" id=\"img-405d439c-39\">\n            <g transform=\"translate(63.47,58.07)\" id=\"img-405d439c-40\">\n              <path fill=\"none\" d=\"M-43.17,25.19 L-38.85,24.96 -34.54,24.55 -30.22,23.73 -25.9,21.84 -21.58,18.36 -17.27,14.17 -12.95,10.02 -8.63,6.08 -4.32,2.37 -0,-1.13 4.32,-4.44 8.63,-7.59 12.95,-10.58 17.27,-13.44 21.58,-16.17 25.9,-18.79 30.22,-21.29 34.54,-23.68 38.85,-25.98 43.17,-28.17 \" class=\"primitive\"/>\n            </g>\n          </g>\n        </g>\n      </g>\n    </g>\n  </g>\n  <g class=\"guide ylabels\" font-size=\"2.82\" font-family=\"'PT Sans Caption','Helvetica Neue','Helvetica',sans-serif\" fill=\"#6C606B\" id=\"img-405d439c-41\">\n    <g transform=\"translate(17.3,84.04)\" id=\"img-405d439c-42\">\n      <g class=\"primitive\">\n        <text text-anchor=\"end\" dy=\"0.35em\">0.0</text>\n      </g>\n    </g>\n    <g transform=\"translate(17.3,45.52)\" id=\"img-405d439c-43\">\n      <g class=\"primitive\">\n        <text text-anchor=\"end\" dy=\"0.35em\">0.5</text>\n      </g>\n    </g>\n    <g transform=\"translate(17.3,7)\" id=\"img-405d439c-44\">\n      <g class=\"primitive\">\n        <text text-anchor=\"end\" dy=\"0.35em\">1.0</text>\n      </g>\n    </g>\n  </g>\n  <g font-size=\"3.53\" font-family=\"'PT Sans','Helvetica Neue','Helvetica',sans-serif\" fill=\"#564A55\" stroke=\"#000000\" stroke-opacity=\"0.000\" id=\"img-405d439c-45\">\n    <g transform=\"translate(8.64,43.52)\" id=\"img-405d439c-46\">\n      <g class=\"primitive\">\n        <text text-anchor=\"middle\" dy=\"0.35em\" transform=\"rotate(-90,0, 2)\">gs (mol bar⁻¹ m⁻² s⁻¹)</text>\n      </g>\n    </g>\n  </g>\n</g>\n<defs>\n  <clipPath id=\"img-405d439c-19\">\n    <path d=\"M18.3,5 L108.64,5 108.64,86.04 18.3,86.04 \" />\n  </clipPath>\n</defs>\n</svg>\n"
           },
           "type": "node"
          }
         ],
         "instanceArgs": {
          "handlers": {
           "obs-output": [
            "function (value, scope) {\n    scope.setInnerHTML(value);\n}\n"
           ]
          },
          "id": "4894014762889102173",
          "imports": {
           "data": [],
           "type": "async_block"
          },
          "mount_callbacks": [],
          "observables": {
           "obs-output": {
            "id": "2763019776770468957",
            "sync": false,
            "value": "<?xml version=\"1.0\" encoding=\"UTF-8\"?>\n<svg xmlns=\"http://www.w3.org/2000/svg\"\n     xmlns:xlink=\"http://www.w3.org/1999/xlink\"\n     xmlns:gadfly=\"http://www.gadflyjl.org/ns\"\n     version=\"1.2\"\n     width=\"141.42mm\" height=\"100mm\" viewBox=\"0 0 141.42 100\"\n     stroke=\"none\"\n     fill=\"#000000\"\n     stroke-width=\"0.3\"\n     font-size=\"3.88\"\n>\n<defs>\n  <marker id=\"arrow\" markerWidth=\"15\" markerHeight=\"7\" refX=\"5\" refY=\"3.5\" orient=\"auto\" markerUnits=\"strokeWidth\">\n    <path d=\"M0,0 L15,3.5 L0,7 z\" stroke=\"context-stroke\" fill=\"context-stroke\"/>\n  </marker>\n</defs>\n<g stroke=\"#000000\" stroke-opacity=\"0.000\" fill=\"#FFFFFF\" id=\"img-405d439c-1\">\n  <g transform=\"translate(70.71,50)\">\n    <path d=\"M-70.71,-50 L70.71,-50 70.71,50 -70.71,50  z\" class=\"primitive\"/>\n  </g>\n</g>\n<g class=\"plotroot xscalable yscalable\" id=\"img-405d439c-2\">\n  <g font-size=\"3.53\" font-family=\"'PT Sans','Helvetica Neue','Helvetica',sans-serif\" fill=\"#564A55\" stroke=\"#000000\" stroke-opacity=\"0.000\" id=\"img-405d439c-3\">\n    <g transform=\"translate(63.47,93.72)\">\n      <g class=\"primitive\">\n        <text text-anchor=\"middle\" dy=\"0.6em\">RH (%)</text>\n      </g>\n    </g>\n  </g>\n  <g class=\"guide xlabels\" font-size=\"2.82\" font-family=\"'PT Sans Caption','Helvetica Neue','Helvetica',sans-serif\" fill=\"#6C606B\" id=\"img-405d439c-4\">\n    <g transform=\"translate(20.3,87.04)\">\n      <g class=\"primitive\">\n        <text text-anchor=\"middle\" dy=\"0.6em\">0</text>\n      </g>\n    </g>\n    <g transform=\"translate(63.47,87.04)\">\n      <g class=\"primitive\">\n        <text text-anchor=\"middle\" dy=\"0.6em\">50</text>\n      </g>\n    </g>\n    <g transform=\"translate(106.64,87.04)\">\n      <g class=\"primitive\">\n        <text text-anchor=\"middle\" dy=\"0.6em\">100</text>\n      </g>\n    </g>\n  </g>\n  <g class=\"guide colorkey\" id=\"img-405d439c-5\">\n    <g fill=\"#4C404B\" font-size=\"2.82\" font-family=\"'PT Sans','Helvetica Neue','Helvetica',sans-serif\" id=\"img-405d439c-6\">\n      <g transform=\"translate(113.27,44.12)\" id=\"img-405d439c-7\">\n        <g class=\"primitive\">\n          <text dy=\"0.35em\">1000 μmol mol⁻¹</text>\n        </g>\n      </g>\n      <g transform=\"translate(113.27,47.75)\" id=\"img-405d439c-8\">\n        <g class=\"primitive\">\n          <text dy=\"0.35em\">400 μmol mol⁻¹</text>\n        </g>\n      </g>\n      <g transform=\"translate(113.27,51.38)\" id=\"img-405d439c-9\">\n        <g class=\"primitive\">\n          <text dy=\"0.35em\">250 μmol mol⁻¹</text>\n        </g>\n      </g>\n    </g>\n    <g stroke-width=\"0.3\" id=\"img-405d439c-10\">\n      <g stroke=\"#FFFFFF\" stroke-opacity=\"0.000\" fill-opacity=\"1\" fill=\"#FF6DAE\" id=\"img-405d439c-11\">\n        <g transform=\"translate(110.45,51.38)\" id=\"img-405d439c-12\">\n          <circle cx=\"0\" cy=\"0\" r=\"0.7\" class=\"primitive\"/>\n        </g>\n      </g>\n      <g stroke=\"#FFFFFF\" stroke-opacity=\"0.000\" fill-opacity=\"1\" fill=\"#D4CA3A\" id=\"img-405d439c-13\">\n        <g transform=\"translate(110.45,47.75)\" id=\"img-405d439c-14\">\n          <circle cx=\"0\" cy=\"0\" r=\"0.7\" class=\"primitive\"/>\n        </g>\n      </g>\n      <g stroke=\"#FFFFFF\" stroke-opacity=\"0.000\" fill-opacity=\"1\" fill=\"#00BFFF\" id=\"img-405d439c-15\">\n        <g transform=\"translate(110.45,44.12)\" id=\"img-405d439c-16\">\n          <circle cx=\"0\" cy=\"0\" r=\"0.7\" class=\"primitive\"/>\n        </g>\n      </g>\n    </g>\n    <g fill=\"#362A35\" font-size=\"3.18\" font-family=\"'PT Sans','Helvetica Neue','Helvetica',sans-serif\" stroke=\"#000000\" stroke-opacity=\"0.000\" id=\"img-405d439c-17\">\n      <g transform=\"translate(109.64,40.81)\" id=\"img-405d439c-18\">\n        <g class=\"primitive\">\n          <text dy=\"-0em\">CO2 (μmol mol⁻¹)</text>\n        </g>\n      </g>\n    </g>\n  </g>\n  <g clip-path=\"url(#img-405d439c-19)\">\n    <g id=\"img-405d439c-20\">\n      <g pointer-events=\"visible\" stroke-width=\"0.3\" fill=\"#000000\" fill-opacity=\"0.000\" stroke=\"#000000\" stroke-opacity=\"0.000\" class=\"guide background\" id=\"img-405d439c-21\">\n        <g transform=\"translate(63.47,45.52)\" id=\"img-405d439c-22\">\n          <path d=\"M-45.17,-40.52 L45.17,-40.52 45.17,40.52 -45.17,40.52  z\" class=\"primitive\"/>\n        </g>\n      </g>\n      <g class=\"guide ygridlines xfixed\" stroke-dasharray=\"0.5,0.5\" stroke-width=\"0.2\" stroke=\"#D0D0E0\" id=\"img-405d439c-23\">\n        <g transform=\"translate(63.47,84.04)\" id=\"img-405d439c-24\">\n          <path fill=\"none\" d=\"M-45.17,0 L45.17,0 \" class=\"primitive\"/>\n        </g>\n        <g transform=\"translate(63.47,45.52)\" id=\"img-405d439c-25\">\n          <path fill=\"none\" d=\"M-45.17,0 L45.17,0 \" class=\"primitive\"/>\n        </g>\n        <g transform=\"translate(63.47,7)\" id=\"img-405d439c-26\">\n          <path fill=\"none\" d=\"M-45.17,0 L45.17,0 \" class=\"primitive\"/>\n        </g>\n      </g>\n      <g class=\"guide xgridlines yfixed\" stroke-dasharray=\"0.5,0.5\" stroke-width=\"0.2\" stroke=\"#D0D0E0\" id=\"img-405d439c-27\">\n        <g transform=\"translate(20.3,45.52)\" id=\"img-405d439c-28\">\n          <path fill=\"none\" d=\"M0,-40.52 L0,40.52 \" class=\"primitive\"/>\n        </g>\n        <g transform=\"translate(63.47,45.52)\" id=\"img-405d439c-29\">\n          <path fill=\"none\" d=\"M0,-40.52 L0,40.52 \" class=\"primitive\"/>\n        </g>\n        <g transform=\"translate(106.64,45.52)\" id=\"img-405d439c-30\">\n          <path fill=\"none\" d=\"M0,-40.52 L0,40.52 \" class=\"primitive\"/>\n        </g>\n      </g>\n      <g class=\"plotpanel\" id=\"img-405d439c-31\">\n        <metadata>\n          <boundingbox value=\"18.303333333333327mm 5.0mm 90.33802290397617mm 81.04333333333334mm\"/>\n          <unitbox value=\"-2.316476487102756 1.0259594167784363 104.63295297420552 -1.0519188335568728\"/>\n        </metadata>\n        <g stroke-width=\"0.3\" fill=\"#000000\" fill-opacity=\"0.000\" class=\"geometry\" id=\"img-405d439c-32\">\n          <g class=\"color_LCHab{Float32}(70.0f0,60.0f0,240.0f0)\" stroke-dasharray=\"none\" stroke=\"#00BFFF\" id=\"img-405d439c-33\">\n            <g transform=\"translate(63.47,71.01)\" id=\"img-405d439c-34\">\n              <path fill=\"none\" d=\"M-43.17,12.24 L-38.85,11.94 -34.54,11.31 -30.22,9.78 -25.9,7.83 -21.58,6.28 -17.27,4.85 -12.95,3.5 -8.63,2.18 -4.32,0.9 -0,-0.36 4.32,-1.6 8.63,-2.83 12.95,-4.05 17.27,-5.26 21.58,-6.47 25.9,-7.66 30.22,-8.86 34.54,-10.05 38.85,-11.24 43.17,-12.42 \" class=\"primitive\"/>\n            </g>\n          </g>\n        </g>\n        <g stroke-width=\"0.3\" fill=\"#000000\" fill-opacity=\"0.000\" class=\"geometry\" id=\"img-405d439c-35\">\n          <g class=\"color_LCHab{Float32}(80.0f0,70.000015f0,100.43479f0)\" stroke-dasharray=\"none\" stroke=\"#D4CA3A\" id=\"img-405d439c-36\">\n            <g transform=\"translate(63.47,59.39)\" id=\"img-405d439c-37\">\n              <path fill=\"none\" d=\"M-43.17,23.86 L-38.85,23.6 -34.54,23.09 -30.22,21.92 -25.9,19.17 -21.58,15.14 -17.27,11.01 -12.95,7.12 -8.63,3.64 -4.32,0.89 -0,-1.74 4.32,-4.28 8.63,-6.75 12.95,-9.16 17.27,-11.51 21.58,-13.82 25.9,-16.08 30.22,-18.29 34.54,-20.47 38.85,-22.62 43.17,-24.72 \" class=\"primitive\"/>\n            </g>\n          </g>\n        </g>\n        <g stroke-width=\"0.3\" fill=\"#000000\" fill-opacity=\"0.000\" class=\"geometry\" id=\"img-405d439c-38\">\n          <g class=\"color_LCHab{Float32}(65.89944f0,62.21457f0,353.99814f0)\" stroke-dasharray=\"none\" stroke=\"#FF6DAE\" id=\"img-405d439c-39\">\n            <g transform=\"translate(63.47,58.07)\" id=\"img-405d439c-40\">\n              <path fill=\"none\" d=\"M-43.17,25.19 L-38.85,24.96 -34.54,24.55 -30.22,23.73 -25.9,21.84 -21.58,18.36 -17.27,14.17 -12.95,10.02 -8.63,6.08 -4.32,2.37 -0,-1.13 4.32,-4.44 8.63,-7.59 12.95,-10.58 17.27,-13.44 21.58,-16.17 25.9,-18.79 30.22,-21.29 34.54,-23.68 38.85,-25.98 43.17,-28.17 \" class=\"primitive\"/>\n            </g>\n          </g>\n        </g>\n      </g>\n    </g>\n  </g>\n  <g class=\"guide ylabels\" font-size=\"2.82\" font-family=\"'PT Sans Caption','Helvetica Neue','Helvetica',sans-serif\" fill=\"#6C606B\" id=\"img-405d439c-41\">\n    <g transform=\"translate(17.3,84.04)\" id=\"img-405d439c-42\">\n      <g class=\"primitive\">\n        <text text-anchor=\"end\" dy=\"0.35em\">0.0</text>\n      </g>\n    </g>\n    <g transform=\"translate(17.3,45.52)\" id=\"img-405d439c-43\">\n      <g class=\"primitive\">\n        <text text-anchor=\"end\" dy=\"0.35em\">0.5</text>\n      </g>\n    </g>\n    <g transform=\"translate(17.3,7)\" id=\"img-405d439c-44\">\n      <g class=\"primitive\">\n        <text text-anchor=\"end\" dy=\"0.35em\">1.0</text>\n      </g>\n    </g>\n  </g>\n  <g font-size=\"3.53\" font-family=\"'PT Sans','Helvetica Neue','Helvetica',sans-serif\" fill=\"#564A55\" stroke=\"#000000\" stroke-opacity=\"0.000\" id=\"img-405d439c-45\">\n    <g transform=\"translate(8.64,43.52)\" id=\"img-405d439c-46\">\n      <g class=\"primitive\">\n        <text text-anchor=\"middle\" dy=\"0.35em\" transform=\"rotate(-90,0, 2)\">gs (mol bar⁻¹ m⁻² s⁻¹)</text>\n      </g>\n    </g>\n  </g>\n</g>\n<defs>\n  <clipPath id=\"img-405d439c-19\">\n    <path d=\"M18.3,5 L108.64,5 108.64,86.04 18.3,86.04 \" />\n  </clipPath>\n</defs>\n</svg>\n"
           }
          },
          "systemjs_options": null
         },
         "nodeType": "Scope",
         "props": {},
         "type": "node"
        }
       ],
       "instanceArgs": {
        "namespace": "html",
        "tag": "div"
       },
       "nodeType": "DOM",
       "props": {
        "style": {
         "display": "flex",
         "flex-direction": "column"
        }
       },
       "type": "node"
      },
      "text/html": [
       "<div\n",
       "    class=\"webio-mountpoint\"\n",
       "    data-webio-mountpoint=\"16686675485218145253\"\n",
       ">\n",
       "    <script>\n",
       "    (function(){\n",
       "    // Some integrations (namely, IJulia/Jupyter) use an alternate render pathway than\n",
       "    // just putting the html on the page. If WebIO isn't defined, then it's pretty likely\n",
       "    // that we're in one of those situations and the integration just isn't installed\n",
       "    // correctly.\n",
       "    if (typeof window.WebIO === \"undefined\") {\n",
       "        document\n",
       "            .querySelector('[data-webio-mountpoint=\"16686675485218145253\"]')\n",
       "            .innerHTML = (\n",
       "                '<div style=\"padding: 1em; background-color: #f8d6da; border: 1px solid #f5c6cb; font-weight: bold;\">' +\n",
       "                '<p><strong>WebIO not detected.</strong></p>' +\n",
       "                '<p>Please read ' +\n",
       "                '<a href=\"https://juliagizmos.github.io/WebIO.jl/latest/troubleshooting/not-detected/\" target=\"_blank\">the troubleshooting guide</a> ' +\n",
       "                'for more information on how to resolve this issue.</p>' +\n",
       "                '<p><a href=\"https://juliagizmos.github.io/WebIO.jl/latest/troubleshooting/not-detected/\" target=\"_blank\">https://juliagizmos.github.io/WebIO.jl/latest/troubleshooting/not-detected/</a></p>' +\n",
       "                '</div>'\n",
       "            );\n",
       "        return;\n",
       "    }\n",
       "    WebIO.mount(\n",
       "        document.querySelector('[data-webio-mountpoint=\"16686675485218145253\"]'),\n",
       "        {\"props\":{\"style\":{\"display\":\"flex\",\"flex-direction\":\"column\"}},\"nodeType\":\"DOM\",\"type\":\"node\",\"instanceArgs\":{\"namespace\":\"html\",\"tag\":\"div\"},\"children\":[{\"props\":{\"style\":{\"color\":\"rebeccapurple\",\"font-family\":\"monospace\"}},\"nodeType\":\"DOM\",\"type\":\"node\",\"instanceArgs\":{\"namespace\":\"html\",\"tag\":\"div\"},\"children\":[\"Weather\"]},{\"props\":{\"className\":\"field interact-widget\"},\"nodeType\":\"DOM\",\"type\":\"node\",\"instanceArgs\":{\"namespace\":\"html\",\"tag\":\"div\"},\"children\":[{\"props\":{},\"nodeType\":\"Scope\",\"type\":\"node\",\"instanceArgs\":{\"imports\":{\"data\":[{\"name\":\"knockout\",\"type\":\"js\",\"url\":\"\\/assetserver\\/c0689c4f2514def856941022372b529b3413f129-knockout.js\"},{\"name\":\"knockout_punches\",\"type\":\"js\",\"url\":\"\\/assetserver\\/69274bc4b68b761587a57ff3f5e787f3dd4781dc-knockout_punches.js\"},{\"name\":null,\"type\":\"js\",\"url\":\"\\/assetserver\\/096b68745a0180096d3bd812a95825d387626124-all.js\"},{\"name\":null,\"type\":\"css\",\"url\":\"\\/assetserver\\/d8822751ac3a06d244eead91a737222f90bb9e0b-style.css\"},{\"name\":null,\"type\":\"css\",\"url\":\"\\/assetserver\\/792d9982ee796e4da6422248c42eb77a0d83e61e-bulma_confined.min.css\"}],\"type\":\"async_block\"},\"id\":\"12334790062983693839\",\"handlers\":{\"changes\":[\"(function (val){return (val!=this.model[\\\"changes\\\"]()) ? (this.valueFromJulia[\\\"changes\\\"]=true, this.model[\\\"changes\\\"](val)) : undefined})\"],\"index\":[\"(function (val){return (val!=this.model[\\\"index\\\"]()) ? (this.valueFromJulia[\\\"index\\\"]=true, this.model[\\\"index\\\"](val)) : undefined})\"]},\"systemjs_options\":null,\"mount_callbacks\":[\"function () {\\n    var handler = (function (ko, koPunches) {\\n    ko.punches.enableAll();\\n    ko.bindingHandlers.numericValue = {\\n        init: function(element, valueAccessor, allBindings, data, context) {\\n            var stringified = ko.observable(ko.unwrap(valueAccessor()));\\n            stringified.subscribe(function(value) {\\n                var val = parseFloat(value);\\n                if (!isNaN(val)) {\\n                    valueAccessor()(val);\\n                }\\n            });\\n            valueAccessor().subscribe(function(value) {\\n                var str = JSON.stringify(value);\\n                if ((str == \\\"0\\\") && ([\\\"-0\\\", \\\"-0.\\\"].indexOf(stringified()) >= 0))\\n                     return;\\n                 if ([\\\"null\\\", \\\"\\\"].indexOf(str) >= 0)\\n                     return;\\n                stringified(str);\\n            });\\n            ko.applyBindingsToNode(\\n                element,\\n                {\\n                    value: stringified,\\n                    valueUpdate: allBindings.get('valueUpdate'),\\n                },\\n                context,\\n            );\\n        }\\n    };\\n    var json_data = {\\\"formatted_vals\\\":[\\\"0\\\",\\\"100\\\",\\\"200\\\",\\\"300\\\",\\\"400\\\",\\\"500\\\",\\\"600\\\",\\\"700\\\",\\\"800\\\",\\\"900\\\",\\\"1000\\\",\\\"1100\\\",\\\"1200\\\",\\\"1300\\\",\\\"1400\\\",\\\"1500\\\",\\\"1600\\\",\\\"1700\\\",\\\"1800\\\",\\\"1900\\\",\\\"2000\\\"],\\\"changes\\\":WebIO.getval({\\\"name\\\":\\\"changes\\\",\\\"scope\\\":\\\"12334790062983693839\\\",\\\"id\\\":\\\"4467545433470096476\\\",\\\"type\\\":\\\"observable\\\"}),\\\"index\\\":WebIO.getval({\\\"name\\\":\\\"index\\\",\\\"scope\\\":\\\"12334790062983693839\\\",\\\"id\\\":\\\"3302733622746996665\\\",\\\"type\\\":\\\"observable\\\"})};\\n    var self = this;\\n    function AppViewModel() {\\n        for (var key in json_data) {\\n            var el = json_data[key];\\n            this[key] = Array.isArray(el) ? ko.observableArray(el) : ko.observable(el);\\n        }\\n        \\n        [this[\\\"formatted_val\\\"]=ko.computed(    function(){\\n        return this.formatted_vals()[parseInt(this.index())-(1)];\\n    }\\n,this)]\\n        [this[\\\"changes\\\"].subscribe((function (val){!(this.valueFromJulia[\\\"changes\\\"]) ? (WebIO.setval({\\\"name\\\":\\\"changes\\\",\\\"scope\\\":\\\"12334790062983693839\\\",\\\"id\\\":\\\"4467545433470096476\\\",\\\"type\\\":\\\"observable\\\"},val)) : undefined; return this.valueFromJulia[\\\"changes\\\"]=false}),self),this[\\\"index\\\"].subscribe((function (val){!(this.valueFromJulia[\\\"index\\\"]) ? (WebIO.setval({\\\"name\\\":\\\"index\\\",\\\"scope\\\":\\\"12334790062983693839\\\",\\\"id\\\":\\\"3302733622746996665\\\",\\\"type\\\":\\\"observable\\\"},val)) : undefined; return this.valueFromJulia[\\\"index\\\"]=false}),self)]\\n        \\n    }\\n    self.model = new AppViewModel();\\n    self.valueFromJulia = {};\\n    for (var key in json_data) {\\n        self.valueFromJulia[key] = false;\\n    }\\n    ko.applyBindings(self.model, self.dom);\\n}\\n);\\n    (WebIO.importBlock({\\\"data\\\":[{\\\"name\\\":\\\"knockout\\\",\\\"type\\\":\\\"js\\\",\\\"url\\\":\\\"\\/assetserver\\/c0689c4f2514def856941022372b529b3413f129-knockout.js\\\"},{\\\"name\\\":\\\"knockout_punches\\\",\\\"type\\\":\\\"js\\\",\\\"url\\\":\\\"\\/assetserver\\/69274bc4b68b761587a57ff3f5e787f3dd4781dc-knockout_punches.js\\\"}],\\\"type\\\":\\\"async_block\\\"})).then((imports) => handler.apply(this, imports));\\n}\\n\"],\"observables\":{\"changes\":{\"sync\":true,\"id\":\"4467545433470096476\",\"value\":0},\"index\":{\"sync\":true,\"id\":\"3302733622746996665\",\"value\":16}}},\"children\":[{\"props\":{\"className\":\"interact-flex-row interact-widget\",\"style\":{\"font-family\":\"monospace\",\"width\":\"80%\"}},\"nodeType\":\"DOM\",\"type\":\"node\",\"instanceArgs\":{\"namespace\":\"html\",\"tag\":\"div\"},\"children\":[{\"props\":{\"className\":\"interact-flex-row-left\"},\"nodeType\":\"DOM\",\"type\":\"node\",\"instanceArgs\":{\"namespace\":\"html\",\"tag\":\"div\"},\"children\":[{\"props\":{\"className\":\"interact \",\"style\":{\"padding\":\"5px 10px 0px 10px\",\"white-space\":\"nowrap\",\"color\":\"royalblue\"}},\"nodeType\":\"DOM\",\"type\":\"node\",\"instanceArgs\":{\"namespace\":\"html\",\"tag\":\"label\"},\"children\":[\"PFD (μmol m⁻² s⁻¹)\"]}]},{\"props\":{\"className\":\"interact-flex-row-center\"},\"nodeType\":\"DOM\",\"type\":\"node\",\"instanceArgs\":{\"namespace\":\"html\",\"tag\":\"div\"},\"children\":[{\"props\":{\"max\":21,\"min\":1,\"attributes\":{\"type\":\"range\",\"data-bind\":\"numericValue: index, valueUpdate: 'input', event: {change: function (){this.changes(this.changes()+1)}}\",\"orient\":\"horizontal\"},\"step\":1,\"className\":\"slider slider is-fullwidth\",\"style\":{}},\"nodeType\":\"DOM\",\"type\":\"node\",\"instanceArgs\":{\"namespace\":\"html\",\"tag\":\"input\"},\"children\":[]}]},{\"props\":{\"className\":\"interact-flex-row-right\"},\"nodeType\":\"DOM\",\"type\":\"node\",\"instanceArgs\":{\"namespace\":\"html\",\"tag\":\"div\"},\"children\":[{\"props\":{\"attributes\":{\"data-bind\":\"text: formatted_val\"}},\"nodeType\":\"DOM\",\"type\":\"node\",\"instanceArgs\":{\"namespace\":\"html\",\"tag\":\"p\"},\"children\":[]}]}]}]}]},{\"props\":{\"className\":\"field interact-widget\"},\"nodeType\":\"DOM\",\"type\":\"node\",\"instanceArgs\":{\"namespace\":\"html\",\"tag\":\"div\"},\"children\":[{\"props\":{},\"nodeType\":\"Scope\",\"type\":\"node\",\"instanceArgs\":{\"imports\":{\"data\":[{\"name\":\"knockout\",\"type\":\"js\",\"url\":\"\\/assetserver\\/c0689c4f2514def856941022372b529b3413f129-knockout.js\"},{\"name\":\"knockout_punches\",\"type\":\"js\",\"url\":\"\\/assetserver\\/69274bc4b68b761587a57ff3f5e787f3dd4781dc-knockout_punches.js\"},{\"name\":null,\"type\":\"js\",\"url\":\"\\/assetserver\\/096b68745a0180096d3bd812a95825d387626124-all.js\"},{\"name\":null,\"type\":\"css\",\"url\":\"\\/assetserver\\/d8822751ac3a06d244eead91a737222f90bb9e0b-style.css\"},{\"name\":null,\"type\":\"css\",\"url\":\"\\/assetserver\\/792d9982ee796e4da6422248c42eb77a0d83e61e-bulma_confined.min.css\"}],\"type\":\"async_block\"},\"id\":\"6603168800941817629\",\"handlers\":{\"changes\":[\"(function (val){return (val!=this.model[\\\"changes\\\"]()) ? (this.valueFromJulia[\\\"changes\\\"]=true, this.model[\\\"changes\\\"](val)) : undefined})\"],\"index\":[\"(function (val){return (val!=this.model[\\\"index\\\"]()) ? (this.valueFromJulia[\\\"index\\\"]=true, this.model[\\\"index\\\"](val)) : undefined})\"]},\"systemjs_options\":null,\"mount_callbacks\":[\"function () {\\n    var handler = (function (ko, koPunches) {\\n    ko.punches.enableAll();\\n    ko.bindingHandlers.numericValue = {\\n        init: function(element, valueAccessor, allBindings, data, context) {\\n            var stringified = ko.observable(ko.unwrap(valueAccessor()));\\n            stringified.subscribe(function(value) {\\n                var val = parseFloat(value);\\n                if (!isNaN(val)) {\\n                    valueAccessor()(val);\\n                }\\n            });\\n            valueAccessor().subscribe(function(value) {\\n                var str = JSON.stringify(value);\\n                if ((str == \\\"0\\\") && ([\\\"-0\\\", \\\"-0.\\\"].indexOf(stringified()) >= 0))\\n                     return;\\n                 if ([\\\"null\\\", \\\"\\\"].indexOf(str) >= 0)\\n                     return;\\n                stringified(str);\\n            });\\n            ko.applyBindingsToNode(\\n                element,\\n                {\\n                    value: stringified,\\n                    valueUpdate: allBindings.get('valueUpdate'),\\n                },\\n                context,\\n            );\\n        }\\n    };\\n    var json_data = {\\\"formatted_vals\\\":[\\\"0\\\",\\\"1\\\",\\\"2\\\",\\\"3\\\",\\\"4\\\",\\\"5\\\",\\\"6\\\",\\\"7\\\",\\\"8\\\",\\\"9\\\",\\\"10\\\",\\\"11\\\",\\\"12\\\",\\\"13\\\",\\\"14\\\",\\\"15\\\",\\\"16\\\",\\\"17\\\",\\\"18\\\",\\\"19\\\",\\\"20\\\",\\\"21\\\",\\\"22\\\",\\\"23\\\",\\\"24\\\",\\\"25\\\",\\\"26\\\",\\\"27\\\",\\\"28\\\",\\\"29\\\",\\\"30\\\",\\\"31\\\",\\\"32\\\",\\\"33\\\",\\\"34\\\",\\\"35\\\",\\\"36\\\",\\\"37\\\",\\\"38\\\",\\\"39\\\",\\\"40\\\",\\\"41\\\",\\\"42\\\",\\\"43\\\",\\\"44\\\",\\\"45\\\",\\\"46\\\",\\\"47\\\",\\\"48\\\",\\\"49\\\",\\\"50\\\"],\\\"changes\\\":WebIO.getval({\\\"name\\\":\\\"changes\\\",\\\"scope\\\":\\\"6603168800941817629\\\",\\\"id\\\":\\\"13673046285344300387\\\",\\\"type\\\":\\\"observable\\\"}),\\\"index\\\":WebIO.getval({\\\"name\\\":\\\"index\\\",\\\"scope\\\":\\\"6603168800941817629\\\",\\\"id\\\":\\\"16341340583035095736\\\",\\\"type\\\":\\\"observable\\\"})};\\n    var self = this;\\n    function AppViewModel() {\\n        for (var key in json_data) {\\n            var el = json_data[key];\\n            this[key] = Array.isArray(el) ? ko.observableArray(el) : ko.observable(el);\\n        }\\n        \\n        [this[\\\"formatted_val\\\"]=ko.computed(    function(){\\n        return this.formatted_vals()[parseInt(this.index())-(1)];\\n    }\\n,this)]\\n        [this[\\\"changes\\\"].subscribe((function (val){!(this.valueFromJulia[\\\"changes\\\"]) ? (WebIO.setval({\\\"name\\\":\\\"changes\\\",\\\"scope\\\":\\\"6603168800941817629\\\",\\\"id\\\":\\\"13673046285344300387\\\",\\\"type\\\":\\\"observable\\\"},val)) : undefined; return this.valueFromJulia[\\\"changes\\\"]=false}),self),this[\\\"index\\\"].subscribe((function (val){!(this.valueFromJulia[\\\"index\\\"]) ? (WebIO.setval({\\\"name\\\":\\\"index\\\",\\\"scope\\\":\\\"6603168800941817629\\\",\\\"id\\\":\\\"16341340583035095736\\\",\\\"type\\\":\\\"observable\\\"},val)) : undefined; return this.valueFromJulia[\\\"index\\\"]=false}),self)]\\n        \\n    }\\n    self.model = new AppViewModel();\\n    self.valueFromJulia = {};\\n    for (var key in json_data) {\\n        self.valueFromJulia[key] = false;\\n    }\\n    ko.applyBindings(self.model, self.dom);\\n}\\n);\\n    (WebIO.importBlock({\\\"data\\\":[{\\\"name\\\":\\\"knockout\\\",\\\"type\\\":\\\"js\\\",\\\"url\\\":\\\"\\/assetserver\\/c0689c4f2514def856941022372b529b3413f129-knockout.js\\\"},{\\\"name\\\":\\\"knockout_punches\\\",\\\"type\\\":\\\"js\\\",\\\"url\\\":\\\"\\/assetserver\\/69274bc4b68b761587a57ff3f5e787f3dd4781dc-knockout_punches.js\\\"}],\\\"type\\\":\\\"async_block\\\"})).then((imports) => handler.apply(this, imports));\\n}\\n\"],\"observables\":{\"changes\":{\"sync\":true,\"id\":\"13673046285344300387\",\"value\":0},\"index\":{\"sync\":true,\"id\":\"16341340583035095736\",\"value\":26}}},\"children\":[{\"props\":{\"className\":\"interact-flex-row interact-widget\",\"style\":{\"font-family\":\"monospace\",\"width\":\"80%\"}},\"nodeType\":\"DOM\",\"type\":\"node\",\"instanceArgs\":{\"namespace\":\"html\",\"tag\":\"div\"},\"children\":[{\"props\":{\"className\":\"interact-flex-row-left\"},\"nodeType\":\"DOM\",\"type\":\"node\",\"instanceArgs\":{\"namespace\":\"html\",\"tag\":\"div\"},\"children\":[{\"props\":{\"className\":\"interact \",\"style\":{\"padding\":\"5px 10px 0px 10px\",\"white-space\":\"nowrap\",\"color\":\"royalblue\"}},\"nodeType\":\"DOM\",\"type\":\"node\",\"instanceArgs\":{\"namespace\":\"html\",\"tag\":\"label\"},\"children\":[\"T_air (°C)\"]}]},{\"props\":{\"className\":\"interact-flex-row-center\"},\"nodeType\":\"DOM\",\"type\":\"node\",\"instanceArgs\":{\"namespace\":\"html\",\"tag\":\"div\"},\"children\":[{\"props\":{\"max\":51,\"min\":1,\"attributes\":{\"type\":\"range\",\"data-bind\":\"numericValue: index, valueUpdate: 'input', event: {change: function (){this.changes(this.changes()+1)}}\",\"orient\":\"horizontal\"},\"step\":1,\"className\":\"slider slider is-fullwidth\",\"style\":{}},\"nodeType\":\"DOM\",\"type\":\"node\",\"instanceArgs\":{\"namespace\":\"html\",\"tag\":\"input\"},\"children\":[]}]},{\"props\":{\"className\":\"interact-flex-row-right\"},\"nodeType\":\"DOM\",\"type\":\"node\",\"instanceArgs\":{\"namespace\":\"html\",\"tag\":\"div\"},\"children\":[{\"props\":{\"attributes\":{\"data-bind\":\"text: formatted_val\"}},\"nodeType\":\"DOM\",\"type\":\"node\",\"instanceArgs\":{\"namespace\":\"html\",\"tag\":\"p\"},\"children\":[]}]}]}]}]},{\"props\":{\"style\":{\"color\":\"rebeccapurple\",\"font-family\":\"monospace\"}},\"nodeType\":\"DOM\",\"type\":\"node\",\"instanceArgs\":{\"namespace\":\"html\",\"tag\":\"div\"},\"children\":[\"Nitrogen\"]},{\"props\":{\"className\":\"field interact-widget\"},\"nodeType\":\"DOM\",\"type\":\"node\",\"instanceArgs\":{\"namespace\":\"html\",\"tag\":\"div\"},\"children\":[{\"props\":{},\"nodeType\":\"Scope\",\"type\":\"node\",\"instanceArgs\":{\"imports\":{\"data\":[{\"name\":\"knockout\",\"type\":\"js\",\"url\":\"\\/assetserver\\/c0689c4f2514def856941022372b529b3413f129-knockout.js\"},{\"name\":\"knockout_punches\",\"type\":\"js\",\"url\":\"\\/assetserver\\/69274bc4b68b761587a57ff3f5e787f3dd4781dc-knockout_punches.js\"},{\"name\":null,\"type\":\"js\",\"url\":\"\\/assetserver\\/096b68745a0180096d3bd812a95825d387626124-all.js\"},{\"name\":null,\"type\":\"css\",\"url\":\"\\/assetserver\\/d8822751ac3a06d244eead91a737222f90bb9e0b-style.css\"},{\"name\":null,\"type\":\"css\",\"url\":\"\\/assetserver\\/792d9982ee796e4da6422248c42eb77a0d83e61e-bulma_confined.min.css\"}],\"type\":\"async_block\"},\"id\":\"12582209625644555491\",\"handlers\":{\"changes\":[\"(function (val){return (val!=this.model[\\\"changes\\\"]()) ? (this.valueFromJulia[\\\"changes\\\"]=true, this.model[\\\"changes\\\"](val)) : undefined})\"],\"index\":[\"(function (val){return (val!=this.model[\\\"index\\\"]()) ? (this.valueFromJulia[\\\"index\\\"]=true, this.model[\\\"index\\\"](val)) : undefined})\"]},\"systemjs_options\":null,\"mount_callbacks\":[\"function () {\\n    var handler = (function (ko, koPunches) {\\n    ko.punches.enableAll();\\n    ko.bindingHandlers.numericValue = {\\n        init: function(element, valueAccessor, allBindings, data, context) {\\n            var stringified = ko.observable(ko.unwrap(valueAccessor()));\\n            stringified.subscribe(function(value) {\\n                var val = parseFloat(value);\\n                if (!isNaN(val)) {\\n                    valueAccessor()(val);\\n                }\\n            });\\n            valueAccessor().subscribe(function(value) {\\n                var str = JSON.stringify(value);\\n                if ((str == \\\"0\\\") && ([\\\"-0\\\", \\\"-0.\\\"].indexOf(stringified()) >= 0))\\n                     return;\\n                 if ([\\\"null\\\", \\\"\\\"].indexOf(str) >= 0)\\n                     return;\\n                stringified(str);\\n            });\\n            ko.applyBindingsToNode(\\n                element,\\n                {\\n                    value: stringified,\\n                    valueUpdate: allBindings.get('valueUpdate'),\\n                },\\n                context,\\n            );\\n        }\\n    };\\n    var json_data = {\\\"formatted_vals\\\":[\\\"0.0\\\",\\\"0.1\\\",\\\"0.2\\\",\\\"0.3\\\",\\\"0.4\\\",\\\"0.5\\\",\\\"0.6\\\",\\\"0.7\\\",\\\"0.8\\\",\\\"0.9\\\",\\\"1.0\\\",\\\"1.1\\\",\\\"1.2\\\",\\\"1.3\\\",\\\"1.4\\\",\\\"1.5\\\",\\\"1.6\\\",\\\"1.7\\\",\\\"1.8\\\",\\\"1.9\\\",\\\"2.0\\\",\\\"2.1\\\",\\\"2.2\\\",\\\"2.3\\\",\\\"2.4\\\",\\\"2.5\\\",\\\"2.6\\\",\\\"2.7\\\",\\\"2.8\\\",\\\"2.9\\\",\\\"3.0\\\",\\\"3.1\\\",\\\"3.2\\\",\\\"3.3\\\",\\\"3.4\\\",\\\"3.5\\\",\\\"3.6\\\",\\\"3.7\\\",\\\"3.8\\\",\\\"3.9\\\",\\\"4.0\\\"],\\\"changes\\\":WebIO.getval({\\\"name\\\":\\\"changes\\\",\\\"scope\\\":\\\"12582209625644555491\\\",\\\"id\\\":\\\"12146886626593665820\\\",\\\"type\\\":\\\"observable\\\"}),\\\"index\\\":WebIO.getval({\\\"name\\\":\\\"index\\\",\\\"scope\\\":\\\"12582209625644555491\\\",\\\"id\\\":\\\"1745976172436541731\\\",\\\"type\\\":\\\"observable\\\"})};\\n    var self = this;\\n    function AppViewModel() {\\n        for (var key in json_data) {\\n            var el = json_data[key];\\n            this[key] = Array.isArray(el) ? ko.observableArray(el) : ko.observable(el);\\n        }\\n        \\n        [this[\\\"formatted_val\\\"]=ko.computed(    function(){\\n        return this.formatted_vals()[parseInt(this.index())-(1)];\\n    }\\n,this)]\\n        [this[\\\"changes\\\"].subscribe((function (val){!(this.valueFromJulia[\\\"changes\\\"]) ? (WebIO.setval({\\\"name\\\":\\\"changes\\\",\\\"scope\\\":\\\"12582209625644555491\\\",\\\"id\\\":\\\"12146886626593665820\\\",\\\"type\\\":\\\"observable\\\"},val)) : undefined; return this.valueFromJulia[\\\"changes\\\"]=false}),self),this[\\\"index\\\"].subscribe((function (val){!(this.valueFromJulia[\\\"index\\\"]) ? (WebIO.setval({\\\"name\\\":\\\"index\\\",\\\"scope\\\":\\\"12582209625644555491\\\",\\\"id\\\":\\\"1745976172436541731\\\",\\\"type\\\":\\\"observable\\\"},val)) : undefined; return this.valueFromJulia[\\\"index\\\"]=false}),self)]\\n        \\n    }\\n    self.model = new AppViewModel();\\n    self.valueFromJulia = {};\\n    for (var key in json_data) {\\n        self.valueFromJulia[key] = false;\\n    }\\n    ko.applyBindings(self.model, self.dom);\\n}\\n);\\n    (WebIO.importBlock({\\\"data\\\":[{\\\"name\\\":\\\"knockout\\\",\\\"type\\\":\\\"js\\\",\\\"url\\\":\\\"\\/assetserver\\/c0689c4f2514def856941022372b529b3413f129-knockout.js\\\"},{\\\"name\\\":\\\"knockout_punches\\\",\\\"type\\\":\\\"js\\\",\\\"url\\\":\\\"\\/assetserver\\/69274bc4b68b761587a57ff3f5e787f3dd4781dc-knockout_punches.js\\\"}],\\\"type\\\":\\\"async_block\\\"})).then((imports) => handler.apply(this, imports));\\n}\\n\"],\"observables\":{\"changes\":{\"sync\":true,\"id\":\"12146886626593665820\",\"value\":0},\"index\":{\"sync\":true,\"id\":\"1745976172436541731\",\"value\":21}}},\"children\":[{\"props\":{\"className\":\"interact-flex-row interact-widget\",\"style\":{\"font-family\":\"monospace\",\"width\":\"80%\"}},\"nodeType\":\"DOM\",\"type\":\"node\",\"instanceArgs\":{\"namespace\":\"html\",\"tag\":\"div\"},\"children\":[{\"props\":{\"className\":\"interact-flex-row-left\"},\"nodeType\":\"DOM\",\"type\":\"node\",\"instanceArgs\":{\"namespace\":\"html\",\"tag\":\"div\"},\"children\":[{\"props\":{\"className\":\"interact \",\"style\":{\"padding\":\"5px 10px 0px 10px\",\"white-space\":\"nowrap\",\"color\":\"royalblue\"}},\"nodeType\":\"DOM\",\"type\":\"node\",\"instanceArgs\":{\"namespace\":\"html\",\"tag\":\"label\"},\"children\":[\"N\"]}]},{\"props\":{\"className\":\"interact-flex-row-center\"},\"nodeType\":\"DOM\",\"type\":\"node\",\"instanceArgs\":{\"namespace\":\"html\",\"tag\":\"div\"},\"children\":[{\"props\":{\"max\":41,\"min\":1,\"attributes\":{\"type\":\"range\",\"data-bind\":\"numericValue: index, valueUpdate: 'input', event: {change: function (){this.changes(this.changes()+1)}}\",\"orient\":\"horizontal\"},\"step\":1,\"className\":\"slider slider is-fullwidth\",\"style\":{}},\"nodeType\":\"DOM\",\"type\":\"node\",\"instanceArgs\":{\"namespace\":\"html\",\"tag\":\"input\"},\"children\":[]}]},{\"props\":{\"className\":\"interact-flex-row-right\"},\"nodeType\":\"DOM\",\"type\":\"node\",\"instanceArgs\":{\"namespace\":\"html\",\"tag\":\"div\"},\"children\":[{\"props\":{\"attributes\":{\"data-bind\":\"text: formatted_val\"}},\"nodeType\":\"DOM\",\"type\":\"node\",\"instanceArgs\":{\"namespace\":\"html\",\"tag\":\"p\"},\"children\":[]}]}]}]}]},{\"props\":{\"style\":{\"color\":\"rebeccapurple\",\"font-family\":\"monospace\"}},\"nodeType\":\"DOM\",\"type\":\"node\",\"instanceArgs\":{\"namespace\":\"html\",\"tag\":\"div\"},\"children\":[\"StomataTuzet\"]},{\"props\":{\"className\":\"field interact-widget\"},\"nodeType\":\"DOM\",\"type\":\"node\",\"instanceArgs\":{\"namespace\":\"html\",\"tag\":\"div\"},\"children\":[{\"props\":{},\"nodeType\":\"Scope\",\"type\":\"node\",\"instanceArgs\":{\"imports\":{\"data\":[{\"name\":\"knockout\",\"type\":\"js\",\"url\":\"\\/assetserver\\/c0689c4f2514def856941022372b529b3413f129-knockout.js\"},{\"name\":\"knockout_punches\",\"type\":\"js\",\"url\":\"\\/assetserver\\/69274bc4b68b761587a57ff3f5e787f3dd4781dc-knockout_punches.js\"},{\"name\":null,\"type\":\"js\",\"url\":\"\\/assetserver\\/096b68745a0180096d3bd812a95825d387626124-all.js\"},{\"name\":null,\"type\":\"css\",\"url\":\"\\/assetserver\\/d8822751ac3a06d244eead91a737222f90bb9e0b-style.css\"},{\"name\":null,\"type\":\"css\",\"url\":\"\\/assetserver\\/792d9982ee796e4da6422248c42eb77a0d83e61e-bulma_confined.min.css\"}],\"type\":\"async_block\"},\"id\":\"16422589016364457545\",\"handlers\":{\"changes\":[\"(function (val){return (val!=this.model[\\\"changes\\\"]()) ? (this.valueFromJulia[\\\"changes\\\"]=true, this.model[\\\"changes\\\"](val)) : undefined})\"],\"index\":[\"(function (val){return (val!=this.model[\\\"index\\\"]()) ? (this.valueFromJulia[\\\"index\\\"]=true, this.model[\\\"index\\\"](val)) : undefined})\"]},\"systemjs_options\":null,\"mount_callbacks\":[\"function () {\\n    var handler = (function (ko, koPunches) {\\n    ko.punches.enableAll();\\n    ko.bindingHandlers.numericValue = {\\n        init: function(element, valueAccessor, allBindings, data, context) {\\n            var stringified = ko.observable(ko.unwrap(valueAccessor()));\\n            stringified.subscribe(function(value) {\\n                var val = parseFloat(value);\\n                if (!isNaN(val)) {\\n                    valueAccessor()(val);\\n                }\\n            });\\n            valueAccessor().subscribe(function(value) {\\n                var str = JSON.stringify(value);\\n                if ((str == \\\"0\\\") && ([\\\"-0\\\", \\\"-0.\\\"].indexOf(stringified()) >= 0))\\n                     return;\\n                 if ([\\\"null\\\", \\\"\\\"].indexOf(str) >= 0)\\n                     return;\\n                stringified(str);\\n            });\\n            ko.applyBindingsToNode(\\n                element,\\n                {\\n                    value: stringified,\\n                    valueUpdate: allBindings.get('valueUpdate'),\\n                },\\n                context,\\n            );\\n        }\\n    };\\n    var json_data = {\\\"formatted_vals\\\":[\\\"-3.0\\\",\\\"-2.9\\\",\\\"-2.8\\\",\\\"-2.7\\\",\\\"-2.6\\\",\\\"-2.5\\\",\\\"-2.4\\\",\\\"-2.3\\\",\\\"-2.2\\\",\\\"-2.1\\\",\\\"-2.0\\\",\\\"-1.9\\\",\\\"-1.8\\\",\\\"-1.7\\\",\\\"-1.6\\\",\\\"-1.5\\\",\\\"-1.4\\\",\\\"-1.3\\\",\\\"-1.2\\\",\\\"-1.1\\\",\\\"-1.0\\\",\\\"-0.9\\\",\\\"-0.8\\\",\\\"-0.7\\\",\\\"-0.6\\\",\\\"-0.5\\\",\\\"-0.4\\\",\\\"-0.3\\\",\\\"-0.2\\\",\\\"-0.1\\\",\\\"0.0\\\"],\\\"changes\\\":WebIO.getval({\\\"name\\\":\\\"changes\\\",\\\"scope\\\":\\\"16422589016364457545\\\",\\\"id\\\":\\\"12851574697294259950\\\",\\\"type\\\":\\\"observable\\\"}),\\\"index\\\":WebIO.getval({\\\"name\\\":\\\"index\\\",\\\"scope\\\":\\\"16422589016364457545\\\",\\\"id\\\":\\\"14614652068679314364\\\",\\\"type\\\":\\\"observable\\\"})};\\n    var self = this;\\n    function AppViewModel() {\\n        for (var key in json_data) {\\n            var el = json_data[key];\\n            this[key] = Array.isArray(el) ? ko.observableArray(el) : ko.observable(el);\\n        }\\n        \\n        [this[\\\"formatted_val\\\"]=ko.computed(    function(){\\n        return this.formatted_vals()[parseInt(this.index())-(1)];\\n    }\\n,this)]\\n        [this[\\\"changes\\\"].subscribe((function (val){!(this.valueFromJulia[\\\"changes\\\"]) ? (WebIO.setval({\\\"name\\\":\\\"changes\\\",\\\"scope\\\":\\\"16422589016364457545\\\",\\\"id\\\":\\\"12851574697294259950\\\",\\\"type\\\":\\\"observable\\\"},val)) : undefined; return this.valueFromJulia[\\\"changes\\\"]=false}),self),this[\\\"index\\\"].subscribe((function (val){!(this.valueFromJulia[\\\"index\\\"]) ? (WebIO.setval({\\\"name\\\":\\\"index\\\",\\\"scope\\\":\\\"16422589016364457545\\\",\\\"id\\\":\\\"14614652068679314364\\\",\\\"type\\\":\\\"observable\\\"},val)) : undefined; return this.valueFromJulia[\\\"index\\\"]=false}),self)]\\n        \\n    }\\n    self.model = new AppViewModel();\\n    self.valueFromJulia = {};\\n    for (var key in json_data) {\\n        self.valueFromJulia[key] = false;\\n    }\\n    ko.applyBindings(self.model, self.dom);\\n}\\n);\\n    (WebIO.importBlock({\\\"data\\\":[{\\\"name\\\":\\\"knockout\\\",\\\"type\\\":\\\"js\\\",\\\"url\\\":\\\"\\/assetserver\\/c0689c4f2514def856941022372b529b3413f129-knockout.js\\\"},{\\\"name\\\":\\\"knockout_punches\\\",\\\"type\\\":\\\"js\\\",\\\"url\\\":\\\"\\/assetserver\\/69274bc4b68b761587a57ff3f5e787f3dd4781dc-knockout_punches.js\\\"}],\\\"type\\\":\\\"async_block\\\"})).then((imports) => handler.apply(this, imports));\\n}\\n\"],\"observables\":{\"changes\":{\"sync\":true,\"id\":\"12851574697294259950\",\"value\":0},\"index\":{\"sync\":true,\"id\":\"14614652068679314364\",\"value\":26}}},\"children\":[{\"props\":{\"className\":\"interact-flex-row interact-widget\",\"style\":{\"font-family\":\"monospace\",\"width\":\"80%\"}},\"nodeType\":\"DOM\",\"type\":\"node\",\"instanceArgs\":{\"namespace\":\"html\",\"tag\":\"div\"},\"children\":[{\"props\":{\"className\":\"interact-flex-row-left\"},\"nodeType\":\"DOM\",\"type\":\"node\",\"instanceArgs\":{\"namespace\":\"html\",\"tag\":\"div\"},\"children\":[{\"props\":{\"className\":\"interact \",\"style\":{\"padding\":\"5px 10px 0px 10px\",\"white-space\":\"nowrap\",\"color\":\"royalblue\"}},\"nodeType\":\"DOM\",\"type\":\"node\",\"instanceArgs\":{\"namespace\":\"html\",\"tag\":\"label\"},\"children\":[\"WP_leaf\"]}]},{\"props\":{\"className\":\"interact-flex-row-center\"},\"nodeType\":\"DOM\",\"type\":\"node\",\"instanceArgs\":{\"namespace\":\"html\",\"tag\":\"div\"},\"children\":[{\"props\":{\"max\":31,\"min\":1,\"attributes\":{\"type\":\"range\",\"data-bind\":\"numericValue: index, valueUpdate: 'input', event: {change: function (){this.changes(this.changes()+1)}}\",\"orient\":\"horizontal\"},\"step\":1,\"className\":\"slider slider is-fullwidth\",\"style\":{}},\"nodeType\":\"DOM\",\"type\":\"node\",\"instanceArgs\":{\"namespace\":\"html\",\"tag\":\"input\"},\"children\":[]}]},{\"props\":{\"className\":\"interact-flex-row-right\"},\"nodeType\":\"DOM\",\"type\":\"node\",\"instanceArgs\":{\"namespace\":\"html\",\"tag\":\"div\"},\"children\":[{\"props\":{\"attributes\":{\"data-bind\":\"text: formatted_val\"}},\"nodeType\":\"DOM\",\"type\":\"node\",\"instanceArgs\":{\"namespace\":\"html\",\"tag\":\"p\"},\"children\":[]}]}]}]}]},{\"props\":{},\"nodeType\":\"Scope\",\"type\":\"node\",\"instanceArgs\":{\"imports\":{\"data\":[],\"type\":\"async_block\"},\"id\":\"14612470562103136261\",\"handlers\":{\"obs-output\":[\"function (value, scope) {\\n    scope.setInnerHTML(value);\\n}\\n\"]},\"systemjs_options\":null,\"mount_callbacks\":[],\"observables\":{\"obs-output\":{\"sync\":false,\"id\":\"15289507648143021902\",\"value\":\"<?xml version=\\\"1.0\\\" encoding=\\\"UTF-8\\\"?>\\n<svg xmlns=\\\"http:\\/\\/www.w3.org\\/2000\\/svg\\\"\\n     xmlns:xlink=\\\"http:\\/\\/www.w3.org\\/1999\\/xlink\\\"\\n     xmlns:gadfly=\\\"http:\\/\\/www.gadflyjl.org\\/ns\\\"\\n     version=\\\"1.2\\\"\\n     width=\\\"141.42mm\\\" height=\\\"100mm\\\" viewBox=\\\"0 0 141.42 100\\\"\\n     stroke=\\\"none\\\"\\n     fill=\\\"#000000\\\"\\n     stroke-width=\\\"0.3\\\"\\n     font-size=\\\"3.88\\\"\\n>\\n<defs>\\n  <marker id=\\\"arrow\\\" markerWidth=\\\"15\\\" markerHeight=\\\"7\\\" refX=\\\"5\\\" refY=\\\"3.5\\\" orient=\\\"auto\\\" markerUnits=\\\"strokeWidth\\\">\\n    <path d=\\\"M0,0 L15,3.5 L0,7 z\\\" stroke=\\\"context-stroke\\\" fill=\\\"context-stroke\\\"\\/>\\n  <\\/marker>\\n<\\/defs>\\n<g stroke=\\\"#000000\\\" stroke-opacity=\\\"0.000\\\" fill=\\\"#FFFFFF\\\" id=\\\"img-b2585116-1\\\">\\n  <g transform=\\\"translate(70.71,50)\\\">\\n    <path d=\\\"M-70.71,-50 L70.71,-50 70.71,50 -70.71,50  z\\\" class=\\\"primitive\\\"\\/>\\n  <\\/g>\\n<\\/g>\\n<g class=\\\"plotroot xscalable yscalable\\\" id=\\\"img-b2585116-2\\\">\\n  <g font-size=\\\"3.53\\\" font-family=\\\"'PT Sans','Helvetica Neue','Helvetica',sans-serif\\\" fill=\\\"#564A55\\\" stroke=\\\"#000000\\\" stroke-opacity=\\\"0.000\\\" id=\\\"img-b2585116-3\\\">\\n    <g transform=\\\"translate(63.47,93.72)\\\">\\n      <g class=\\\"primitive\\\">\\n        <text text-anchor=\\\"middle\\\" dy=\\\"0.6em\\\">RH (%)<\\/text>\\n      <\\/g>\\n    <\\/g>\\n  <\\/g>\\n  <g class=\\\"guide xlabels\\\" font-size=\\\"2.82\\\" font-family=\\\"'PT Sans Caption','Helvetica Neue','Helvetica',sans-serif\\\" fill=\\\"#6C606B\\\" id=\\\"img-b2585116-4\\\">\\n    <g transform=\\\"translate(20.3,87.04)\\\">\\n      <g class=\\\"primitive\\\">\\n        <text text-anchor=\\\"middle\\\" dy=\\\"0.6em\\\">0<\\/text>\\n      <\\/g>\\n    <\\/g>\\n    <g transform=\\\"translate(63.47,87.04)\\\">\\n      <g class=\\\"primitive\\\">\\n        <text text-anchor=\\\"middle\\\" dy=\\\"0.6em\\\">50<\\/text>\\n      <\\/g>\\n    <\\/g>\\n    <g transform=\\\"translate(106.64,87.04)\\\">\\n      <g class=\\\"primitive\\\">\\n        <text text-anchor=\\\"middle\\\" dy=\\\"0.6em\\\">100<\\/text>\\n      <\\/g>\\n    <\\/g>\\n  <\\/g>\\n  <g class=\\\"guide colorkey\\\" id=\\\"img-b2585116-5\\\">\\n    <g fill=\\\"#4C404B\\\" font-size=\\\"2.82\\\" font-family=\\\"'PT Sans','Helvetica Neue','Helvetica',sans-serif\\\" id=\\\"img-b2585116-6\\\">\\n      <g transform=\\\"translate(113.27,44.12)\\\" id=\\\"img-b2585116-7\\\">\\n        <g class=\\\"primitive\\\">\\n          <text dy=\\\"0.35em\\\">1000 μmol mol⁻¹<\\/text>\\n        <\\/g>\\n      <\\/g>\\n      <g transform=\\\"translate(113.27,47.75)\\\" id=\\\"img-b2585116-8\\\">\\n        <g class=\\\"primitive\\\">\\n          <text dy=\\\"0.35em\\\">400 μmol mol⁻¹<\\/text>\\n        <\\/g>\\n      <\\/g>\\n      <g transform=\\\"translate(113.27,51.38)\\\" id=\\\"img-b2585116-9\\\">\\n        <g class=\\\"primitive\\\">\\n          <text dy=\\\"0.35em\\\">250 μmol mol⁻¹<\\/text>\\n        <\\/g>\\n      <\\/g>\\n    <\\/g>\\n    <g stroke-width=\\\"0.3\\\" id=\\\"img-b2585116-10\\\">\\n      <g stroke=\\\"#FFFFFF\\\" stroke-opacity=\\\"0.000\\\" fill-opacity=\\\"1\\\" fill=\\\"#FF6DAE\\\" id=\\\"img-b2585116-11\\\">\\n        <g transform=\\\"translate(110.45,51.38)\\\" id=\\\"img-b2585116-12\\\">\\n          <circle cx=\\\"0\\\" cy=\\\"0\\\" r=\\\"0.7\\\" class=\\\"primitive\\\"\\/>\\n        <\\/g>\\n      <\\/g>\\n      <g stroke=\\\"#FFFFFF\\\" stroke-opacity=\\\"0.000\\\" fill-opacity=\\\"1\\\" fill=\\\"#D4CA3A\\\" id=\\\"img-b2585116-13\\\">\\n        <g transform=\\\"translate(110.45,47.75)\\\" id=\\\"img-b2585116-14\\\">\\n          <circle cx=\\\"0\\\" cy=\\\"0\\\" r=\\\"0.7\\\" class=\\\"primitive\\\"\\/>\\n        <\\/g>\\n      <\\/g>\\n      <g stroke=\\\"#FFFFFF\\\" stroke-opacity=\\\"0.000\\\" fill-opacity=\\\"1\\\" fill=\\\"#00BFFF\\\" id=\\\"img-b2585116-15\\\">\\n        <g transform=\\\"translate(110.45,44.12)\\\" id=\\\"img-b2585116-16\\\">\\n          <circle cx=\\\"0\\\" cy=\\\"0\\\" r=\\\"0.7\\\" class=\\\"primitive\\\"\\/>\\n        <\\/g>\\n      <\\/g>\\n    <\\/g>\\n    <g fill=\\\"#362A35\\\" font-size=\\\"3.18\\\" font-family=\\\"'PT Sans','Helvetica Neue','Helvetica',sans-serif\\\" stroke=\\\"#000000\\\" stroke-opacity=\\\"0.000\\\" id=\\\"img-b2585116-17\\\">\\n      <g transform=\\\"translate(109.64,40.81)\\\" id=\\\"img-b2585116-18\\\">\\n        <g class=\\\"primitive\\\">\\n          <text dy=\\\"-0em\\\">CO2 (μmol mol⁻¹)<\\/text>\\n        <\\/g>\\n      <\\/g>\\n    <\\/g>\\n  <\\/g>\\n  <g clip-path=\\\"url(#img-b2585116-19)\\\">\\n    <g id=\\\"img-b2585116-20\\\">\\n      <g pointer-events=\\\"visible\\\" stroke-width=\\\"0.3\\\" fill=\\\"#000000\\\" fill-opacity=\\\"0.000\\\" stroke=\\\"#000000\\\" stroke-opacity=\\\"0.000\\\" class=\\\"guide background\\\" id=\\\"img-b2585116-21\\\">\\n        <g transform=\\\"translate(63.47,45.52)\\\" id=\\\"img-b2585116-22\\\">\\n          <path d=\\\"M-45.17,-40.52 L45.17,-40.52 45.17,40.52 -45.17,40.52  z\\\" class=\\\"primitive\\\"\\/>\\n        <\\/g>\\n      <\\/g>\\n      <g class=\\\"guide ygridlines xfixed\\\" stroke-dasharray=\\\"0.5,0.5\\\" stroke-width=\\\"0.2\\\" stroke=\\\"#D0D0E0\\\" id=\\\"img-b2585116-23\\\">\\n        <g transform=\\\"translate(63.47,84.04)\\\" id=\\\"img-b2585116-24\\\">\\n          <path fill=\\\"none\\\" d=\\\"M-45.17,0 L45.17,0 \\\" class=\\\"primitive\\\"\\/>\\n        <\\/g>\\n        <g transform=\\\"translate(63.47,45.52)\\\" id=\\\"img-b2585116-25\\\">\\n          <path fill=\\\"none\\\" d=\\\"M-45.17,0 L45.17,0 \\\" class=\\\"primitive\\\"\\/>\\n        <\\/g>\\n        <g transform=\\\"translate(63.47,7)\\\" id=\\\"img-b2585116-26\\\">\\n          <path fill=\\\"none\\\" d=\\\"M-45.17,0 L45.17,0 \\\" class=\\\"primitive\\\"\\/>\\n        <\\/g>\\n      <\\/g>\\n      <g class=\\\"guide xgridlines yfixed\\\" stroke-dasharray=\\\"0.5,0.5\\\" stroke-width=\\\"0.2\\\" stroke=\\\"#D0D0E0\\\" id=\\\"img-b2585116-27\\\">\\n        <g transform=\\\"translate(20.3,45.52)\\\" id=\\\"img-b2585116-28\\\">\\n          <path fill=\\\"none\\\" d=\\\"M0,-40.52 L0,40.52 \\\" class=\\\"primitive\\\"\\/>\\n        <\\/g>\\n        <g transform=\\\"translate(63.47,45.52)\\\" id=\\\"img-b2585116-29\\\">\\n          <path fill=\\\"none\\\" d=\\\"M0,-40.52 L0,40.52 \\\" class=\\\"primitive\\\"\\/>\\n        <\\/g>\\n        <g transform=\\\"translate(106.64,45.52)\\\" id=\\\"img-b2585116-30\\\">\\n          <path fill=\\\"none\\\" d=\\\"M0,-40.52 L0,40.52 \\\" class=\\\"primitive\\\"\\/>\\n        <\\/g>\\n      <\\/g>\\n      <g class=\\\"plotpanel\\\" id=\\\"img-b2585116-31\\\">\\n        <metadata>\\n          <boundingbox value=\\\"18.303333333333327mm 5.0mm 90.33802290397617mm 81.04333333333334mm\\\"\\/>\\n          <unitbox value=\\\"-2.316476487102756 1.0259594167784363 104.63295297420552 -1.0519188335568728\\\"\\/>\\n        <\\/metadata>\\n        <g stroke-width=\\\"0.3\\\" fill=\\\"#000000\\\" fill-opacity=\\\"0.000\\\" class=\\\"geometry\\\" id=\\\"img-b2585116-32\\\">\\n          <g class=\\\"color_LCHab{Float32}(70.0f0,60.0f0,240.0f0)\\\" stroke-dasharray=\\\"none\\\" stroke=\\\"#00BFFF\\\" id=\\\"img-b2585116-33\\\">\\n            <g transform=\\\"translate(63.47,71.01)\\\" id=\\\"img-b2585116-34\\\">\\n              <path fill=\\\"none\\\" d=\\\"M-43.17,12.24 L-38.85,11.94 -34.54,11.31 -30.22,9.78 -25.9,7.83 -21.58,6.28 -17.27,4.85 -12.95,3.5 -8.63,2.18 -4.32,0.9 -0,-0.36 4.32,-1.6 8.63,-2.83 12.95,-4.05 17.27,-5.26 21.58,-6.47 25.9,-7.66 30.22,-8.86 34.54,-10.05 38.85,-11.24 43.17,-12.42 \\\" class=\\\"primitive\\\"\\/>\\n            <\\/g>\\n          <\\/g>\\n        <\\/g>\\n        <g stroke-width=\\\"0.3\\\" fill=\\\"#000000\\\" fill-opacity=\\\"0.000\\\" class=\\\"geometry\\\" id=\\\"img-b2585116-35\\\">\\n          <g class=\\\"color_LCHab{Float32}(80.0f0,70.000015f0,100.43479f0)\\\" stroke-dasharray=\\\"none\\\" stroke=\\\"#D4CA3A\\\" id=\\\"img-b2585116-36\\\">\\n            <g transform=\\\"translate(63.47,59.39)\\\" id=\\\"img-b2585116-37\\\">\\n              <path fill=\\\"none\\\" d=\\\"M-43.17,23.86 L-38.85,23.6 -34.54,23.09 -30.22,21.92 -25.9,19.17 -21.58,15.14 -17.27,11.01 -12.95,7.12 -8.63,3.64 -4.32,0.89 -0,-1.74 4.32,-4.28 8.63,-6.75 12.95,-9.16 17.27,-11.51 21.58,-13.82 25.9,-16.08 30.22,-18.29 34.54,-20.47 38.85,-22.62 43.17,-24.72 \\\" class=\\\"primitive\\\"\\/>\\n            <\\/g>\\n          <\\/g>\\n        <\\/g>\\n        <g stroke-width=\\\"0.3\\\" fill=\\\"#000000\\\" fill-opacity=\\\"0.000\\\" class=\\\"geometry\\\" id=\\\"img-b2585116-38\\\">\\n          <g class=\\\"color_LCHab{Float32}(65.89944f0,62.21457f0,353.99814f0)\\\" stroke-dasharray=\\\"none\\\" stroke=\\\"#FF6DAE\\\" id=\\\"img-b2585116-39\\\">\\n            <g transform=\\\"translate(63.47,58.07)\\\" id=\\\"img-b2585116-40\\\">\\n              <path fill=\\\"none\\\" d=\\\"M-43.17,25.19 L-38.85,24.96 -34.54,24.55 -30.22,23.73 -25.9,21.84 -21.58,18.36 -17.27,14.17 -12.95,10.02 -8.63,6.08 -4.32,2.37 -0,-1.13 4.32,-4.44 8.63,-7.59 12.95,-10.58 17.27,-13.44 21.58,-16.17 25.9,-18.79 30.22,-21.29 34.54,-23.68 38.85,-25.98 43.17,-28.17 \\\" class=\\\"primitive\\\"\\/>\\n            <\\/g>\\n          <\\/g>\\n        <\\/g>\\n      <\\/g>\\n    <\\/g>\\n  <\\/g>\\n  <g class=\\\"guide ylabels\\\" font-size=\\\"2.82\\\" font-family=\\\"'PT Sans Caption','Helvetica Neue','Helvetica',sans-serif\\\" fill=\\\"#6C606B\\\" id=\\\"img-b2585116-41\\\">\\n    <g transform=\\\"translate(17.3,84.04)\\\" id=\\\"img-b2585116-42\\\">\\n      <g class=\\\"primitive\\\">\\n        <text text-anchor=\\\"end\\\" dy=\\\"0.35em\\\">0.0<\\/text>\\n      <\\/g>\\n    <\\/g>\\n    <g transform=\\\"translate(17.3,45.52)\\\" id=\\\"img-b2585116-43\\\">\\n      <g class=\\\"primitive\\\">\\n        <text text-anchor=\\\"end\\\" dy=\\\"0.35em\\\">0.5<\\/text>\\n      <\\/g>\\n    <\\/g>\\n    <g transform=\\\"translate(17.3,7)\\\" id=\\\"img-b2585116-44\\\">\\n      <g class=\\\"primitive\\\">\\n        <text text-anchor=\\\"end\\\" dy=\\\"0.35em\\\">1.0<\\/text>\\n      <\\/g>\\n    <\\/g>\\n  <\\/g>\\n  <g font-size=\\\"3.53\\\" font-family=\\\"'PT Sans','Helvetica Neue','Helvetica',sans-serif\\\" fill=\\\"#564A55\\\" stroke=\\\"#000000\\\" stroke-opacity=\\\"0.000\\\" id=\\\"img-b2585116-45\\\">\\n    <g transform=\\\"translate(8.64,43.52)\\\" id=\\\"img-b2585116-46\\\">\\n      <g class=\\\"primitive\\\">\\n        <text text-anchor=\\\"middle\\\" dy=\\\"0.35em\\\" transform=\\\"rotate(-90,0, 2)\\\">gs (mol bar⁻¹ m⁻² s⁻¹)<\\/text>\\n      <\\/g>\\n    <\\/g>\\n  <\\/g>\\n<\\/g>\\n<defs>\\n  <clipPath id=\\\"img-b2585116-19\\\">\\n    <path d=\\\"M18.3,5 L108.64,5 108.64,86.04 18.3,86.04 \\\" \\/>\\n  <\\/clipPath>\\n<\\/defs>\\n<\\/svg>\\n\"}}},\"children\":[{\"props\":{\"className\":\"webio-observable\",\"setInnerHtml\":\"<?xml version=\\\"1.0\\\" encoding=\\\"UTF-8\\\"?>\\n<svg xmlns=\\\"http:\\/\\/www.w3.org\\/2000\\/svg\\\"\\n     xmlns:xlink=\\\"http:\\/\\/www.w3.org\\/1999\\/xlink\\\"\\n     xmlns:gadfly=\\\"http:\\/\\/www.gadflyjl.org\\/ns\\\"\\n     version=\\\"1.2\\\"\\n     width=\\\"141.42mm\\\" height=\\\"100mm\\\" viewBox=\\\"0 0 141.42 100\\\"\\n     stroke=\\\"none\\\"\\n     fill=\\\"#000000\\\"\\n     stroke-width=\\\"0.3\\\"\\n     font-size=\\\"3.88\\\"\\n>\\n<defs>\\n  <marker id=\\\"arrow\\\" markerWidth=\\\"15\\\" markerHeight=\\\"7\\\" refX=\\\"5\\\" refY=\\\"3.5\\\" orient=\\\"auto\\\" markerUnits=\\\"strokeWidth\\\">\\n    <path d=\\\"M0,0 L15,3.5 L0,7 z\\\" stroke=\\\"context-stroke\\\" fill=\\\"context-stroke\\\"\\/>\\n  <\\/marker>\\n<\\/defs>\\n<g stroke=\\\"#000000\\\" stroke-opacity=\\\"0.000\\\" fill=\\\"#FFFFFF\\\" id=\\\"img-b2585116-1\\\">\\n  <g transform=\\\"translate(70.71,50)\\\">\\n    <path d=\\\"M-70.71,-50 L70.71,-50 70.71,50 -70.71,50  z\\\" class=\\\"primitive\\\"\\/>\\n  <\\/g>\\n<\\/g>\\n<g class=\\\"plotroot xscalable yscalable\\\" id=\\\"img-b2585116-2\\\">\\n  <g font-size=\\\"3.53\\\" font-family=\\\"'PT Sans','Helvetica Neue','Helvetica',sans-serif\\\" fill=\\\"#564A55\\\" stroke=\\\"#000000\\\" stroke-opacity=\\\"0.000\\\" id=\\\"img-b2585116-3\\\">\\n    <g transform=\\\"translate(63.47,93.72)\\\">\\n      <g class=\\\"primitive\\\">\\n        <text text-anchor=\\\"middle\\\" dy=\\\"0.6em\\\">RH (%)<\\/text>\\n      <\\/g>\\n    <\\/g>\\n  <\\/g>\\n  <g class=\\\"guide xlabels\\\" font-size=\\\"2.82\\\" font-family=\\\"'PT Sans Caption','Helvetica Neue','Helvetica',sans-serif\\\" fill=\\\"#6C606B\\\" id=\\\"img-b2585116-4\\\">\\n    <g transform=\\\"translate(20.3,87.04)\\\">\\n      <g class=\\\"primitive\\\">\\n        <text text-anchor=\\\"middle\\\" dy=\\\"0.6em\\\">0<\\/text>\\n      <\\/g>\\n    <\\/g>\\n    <g transform=\\\"translate(63.47,87.04)\\\">\\n      <g class=\\\"primitive\\\">\\n        <text text-anchor=\\\"middle\\\" dy=\\\"0.6em\\\">50<\\/text>\\n      <\\/g>\\n    <\\/g>\\n    <g transform=\\\"translate(106.64,87.04)\\\">\\n      <g class=\\\"primitive\\\">\\n        <text text-anchor=\\\"middle\\\" dy=\\\"0.6em\\\">100<\\/text>\\n      <\\/g>\\n    <\\/g>\\n  <\\/g>\\n  <g class=\\\"guide colorkey\\\" id=\\\"img-b2585116-5\\\">\\n    <g fill=\\\"#4C404B\\\" font-size=\\\"2.82\\\" font-family=\\\"'PT Sans','Helvetica Neue','Helvetica',sans-serif\\\" id=\\\"img-b2585116-6\\\">\\n      <g transform=\\\"translate(113.27,44.12)\\\" id=\\\"img-b2585116-7\\\">\\n        <g class=\\\"primitive\\\">\\n          <text dy=\\\"0.35em\\\">1000 μmol mol⁻¹<\\/text>\\n        <\\/g>\\n      <\\/g>\\n      <g transform=\\\"translate(113.27,47.75)\\\" id=\\\"img-b2585116-8\\\">\\n        <g class=\\\"primitive\\\">\\n          <text dy=\\\"0.35em\\\">400 μmol mol⁻¹<\\/text>\\n        <\\/g>\\n      <\\/g>\\n      <g transform=\\\"translate(113.27,51.38)\\\" id=\\\"img-b2585116-9\\\">\\n        <g class=\\\"primitive\\\">\\n          <text dy=\\\"0.35em\\\">250 μmol mol⁻¹<\\/text>\\n        <\\/g>\\n      <\\/g>\\n    <\\/g>\\n    <g stroke-width=\\\"0.3\\\" id=\\\"img-b2585116-10\\\">\\n      <g stroke=\\\"#FFFFFF\\\" stroke-opacity=\\\"0.000\\\" fill-opacity=\\\"1\\\" fill=\\\"#FF6DAE\\\" id=\\\"img-b2585116-11\\\">\\n        <g transform=\\\"translate(110.45,51.38)\\\" id=\\\"img-b2585116-12\\\">\\n          <circle cx=\\\"0\\\" cy=\\\"0\\\" r=\\\"0.7\\\" class=\\\"primitive\\\"\\/>\\n        <\\/g>\\n      <\\/g>\\n      <g stroke=\\\"#FFFFFF\\\" stroke-opacity=\\\"0.000\\\" fill-opacity=\\\"1\\\" fill=\\\"#D4CA3A\\\" id=\\\"img-b2585116-13\\\">\\n        <g transform=\\\"translate(110.45,47.75)\\\" id=\\\"img-b2585116-14\\\">\\n          <circle cx=\\\"0\\\" cy=\\\"0\\\" r=\\\"0.7\\\" class=\\\"primitive\\\"\\/>\\n        <\\/g>\\n      <\\/g>\\n      <g stroke=\\\"#FFFFFF\\\" stroke-opacity=\\\"0.000\\\" fill-opacity=\\\"1\\\" fill=\\\"#00BFFF\\\" id=\\\"img-b2585116-15\\\">\\n        <g transform=\\\"translate(110.45,44.12)\\\" id=\\\"img-b2585116-16\\\">\\n          <circle cx=\\\"0\\\" cy=\\\"0\\\" r=\\\"0.7\\\" class=\\\"primitive\\\"\\/>\\n        <\\/g>\\n      <\\/g>\\n    <\\/g>\\n    <g fill=\\\"#362A35\\\" font-size=\\\"3.18\\\" font-family=\\\"'PT Sans','Helvetica Neue','Helvetica',sans-serif\\\" stroke=\\\"#000000\\\" stroke-opacity=\\\"0.000\\\" id=\\\"img-b2585116-17\\\">\\n      <g transform=\\\"translate(109.64,40.81)\\\" id=\\\"img-b2585116-18\\\">\\n        <g class=\\\"primitive\\\">\\n          <text dy=\\\"-0em\\\">CO2 (μmol mol⁻¹)<\\/text>\\n        <\\/g>\\n      <\\/g>\\n    <\\/g>\\n  <\\/g>\\n  <g clip-path=\\\"url(#img-b2585116-19)\\\">\\n    <g id=\\\"img-b2585116-20\\\">\\n      <g pointer-events=\\\"visible\\\" stroke-width=\\\"0.3\\\" fill=\\\"#000000\\\" fill-opacity=\\\"0.000\\\" stroke=\\\"#000000\\\" stroke-opacity=\\\"0.000\\\" class=\\\"guide background\\\" id=\\\"img-b2585116-21\\\">\\n        <g transform=\\\"translate(63.47,45.52)\\\" id=\\\"img-b2585116-22\\\">\\n          <path d=\\\"M-45.17,-40.52 L45.17,-40.52 45.17,40.52 -45.17,40.52  z\\\" class=\\\"primitive\\\"\\/>\\n        <\\/g>\\n      <\\/g>\\n      <g class=\\\"guide ygridlines xfixed\\\" stroke-dasharray=\\\"0.5,0.5\\\" stroke-width=\\\"0.2\\\" stroke=\\\"#D0D0E0\\\" id=\\\"img-b2585116-23\\\">\\n        <g transform=\\\"translate(63.47,84.04)\\\" id=\\\"img-b2585116-24\\\">\\n          <path fill=\\\"none\\\" d=\\\"M-45.17,0 L45.17,0 \\\" class=\\\"primitive\\\"\\/>\\n        <\\/g>\\n        <g transform=\\\"translate(63.47,45.52)\\\" id=\\\"img-b2585116-25\\\">\\n          <path fill=\\\"none\\\" d=\\\"M-45.17,0 L45.17,0 \\\" class=\\\"primitive\\\"\\/>\\n        <\\/g>\\n        <g transform=\\\"translate(63.47,7)\\\" id=\\\"img-b2585116-26\\\">\\n          <path fill=\\\"none\\\" d=\\\"M-45.17,0 L45.17,0 \\\" class=\\\"primitive\\\"\\/>\\n        <\\/g>\\n      <\\/g>\\n      <g class=\\\"guide xgridlines yfixed\\\" stroke-dasharray=\\\"0.5,0.5\\\" stroke-width=\\\"0.2\\\" stroke=\\\"#D0D0E0\\\" id=\\\"img-b2585116-27\\\">\\n        <g transform=\\\"translate(20.3,45.52)\\\" id=\\\"img-b2585116-28\\\">\\n          <path fill=\\\"none\\\" d=\\\"M0,-40.52 L0,40.52 \\\" class=\\\"primitive\\\"\\/>\\n        <\\/g>\\n        <g transform=\\\"translate(63.47,45.52)\\\" id=\\\"img-b2585116-29\\\">\\n          <path fill=\\\"none\\\" d=\\\"M0,-40.52 L0,40.52 \\\" class=\\\"primitive\\\"\\/>\\n        <\\/g>\\n        <g transform=\\\"translate(106.64,45.52)\\\" id=\\\"img-b2585116-30\\\">\\n          <path fill=\\\"none\\\" d=\\\"M0,-40.52 L0,40.52 \\\" class=\\\"primitive\\\"\\/>\\n        <\\/g>\\n      <\\/g>\\n      <g class=\\\"plotpanel\\\" id=\\\"img-b2585116-31\\\">\\n        <metadata>\\n          <boundingbox value=\\\"18.303333333333327mm 5.0mm 90.33802290397617mm 81.04333333333334mm\\\"\\/>\\n          <unitbox value=\\\"-2.316476487102756 1.0259594167784363 104.63295297420552 -1.0519188335568728\\\"\\/>\\n        <\\/metadata>\\n        <g stroke-width=\\\"0.3\\\" fill=\\\"#000000\\\" fill-opacity=\\\"0.000\\\" class=\\\"geometry\\\" id=\\\"img-b2585116-32\\\">\\n          <g class=\\\"color_LCHab{Float32}(70.0f0,60.0f0,240.0f0)\\\" stroke-dasharray=\\\"none\\\" stroke=\\\"#00BFFF\\\" id=\\\"img-b2585116-33\\\">\\n            <g transform=\\\"translate(63.47,71.01)\\\" id=\\\"img-b2585116-34\\\">\\n              <path fill=\\\"none\\\" d=\\\"M-43.17,12.24 L-38.85,11.94 -34.54,11.31 -30.22,9.78 -25.9,7.83 -21.58,6.28 -17.27,4.85 -12.95,3.5 -8.63,2.18 -4.32,0.9 -0,-0.36 4.32,-1.6 8.63,-2.83 12.95,-4.05 17.27,-5.26 21.58,-6.47 25.9,-7.66 30.22,-8.86 34.54,-10.05 38.85,-11.24 43.17,-12.42 \\\" class=\\\"primitive\\\"\\/>\\n            <\\/g>\\n          <\\/g>\\n        <\\/g>\\n        <g stroke-width=\\\"0.3\\\" fill=\\\"#000000\\\" fill-opacity=\\\"0.000\\\" class=\\\"geometry\\\" id=\\\"img-b2585116-35\\\">\\n          <g class=\\\"color_LCHab{Float32}(80.0f0,70.000015f0,100.43479f0)\\\" stroke-dasharray=\\\"none\\\" stroke=\\\"#D4CA3A\\\" id=\\\"img-b2585116-36\\\">\\n            <g transform=\\\"translate(63.47,59.39)\\\" id=\\\"img-b2585116-37\\\">\\n              <path fill=\\\"none\\\" d=\\\"M-43.17,23.86 L-38.85,23.6 -34.54,23.09 -30.22,21.92 -25.9,19.17 -21.58,15.14 -17.27,11.01 -12.95,7.12 -8.63,3.64 -4.32,0.89 -0,-1.74 4.32,-4.28 8.63,-6.75 12.95,-9.16 17.27,-11.51 21.58,-13.82 25.9,-16.08 30.22,-18.29 34.54,-20.47 38.85,-22.62 43.17,-24.72 \\\" class=\\\"primitive\\\"\\/>\\n            <\\/g>\\n          <\\/g>\\n        <\\/g>\\n        <g stroke-width=\\\"0.3\\\" fill=\\\"#000000\\\" fill-opacity=\\\"0.000\\\" class=\\\"geometry\\\" id=\\\"img-b2585116-38\\\">\\n          <g class=\\\"color_LCHab{Float32}(65.89944f0,62.21457f0,353.99814f0)\\\" stroke-dasharray=\\\"none\\\" stroke=\\\"#FF6DAE\\\" id=\\\"img-b2585116-39\\\">\\n            <g transform=\\\"translate(63.47,58.07)\\\" id=\\\"img-b2585116-40\\\">\\n              <path fill=\\\"none\\\" d=\\\"M-43.17,25.19 L-38.85,24.96 -34.54,24.55 -30.22,23.73 -25.9,21.84 -21.58,18.36 -17.27,14.17 -12.95,10.02 -8.63,6.08 -4.32,2.37 -0,-1.13 4.32,-4.44 8.63,-7.59 12.95,-10.58 17.27,-13.44 21.58,-16.17 25.9,-18.79 30.22,-21.29 34.54,-23.68 38.85,-25.98 43.17,-28.17 \\\" class=\\\"primitive\\\"\\/>\\n            <\\/g>\\n          <\\/g>\\n        <\\/g>\\n      <\\/g>\\n    <\\/g>\\n  <\\/g>\\n  <g class=\\\"guide ylabels\\\" font-size=\\\"2.82\\\" font-family=\\\"'PT Sans Caption','Helvetica Neue','Helvetica',sans-serif\\\" fill=\\\"#6C606B\\\" id=\\\"img-b2585116-41\\\">\\n    <g transform=\\\"translate(17.3,84.04)\\\" id=\\\"img-b2585116-42\\\">\\n      <g class=\\\"primitive\\\">\\n        <text text-anchor=\\\"end\\\" dy=\\\"0.35em\\\">0.0<\\/text>\\n      <\\/g>\\n    <\\/g>\\n    <g transform=\\\"translate(17.3,45.52)\\\" id=\\\"img-b2585116-43\\\">\\n      <g class=\\\"primitive\\\">\\n        <text text-anchor=\\\"end\\\" dy=\\\"0.35em\\\">0.5<\\/text>\\n      <\\/g>\\n    <\\/g>\\n    <g transform=\\\"translate(17.3,7)\\\" id=\\\"img-b2585116-44\\\">\\n      <g class=\\\"primitive\\\">\\n        <text text-anchor=\\\"end\\\" dy=\\\"0.35em\\\">1.0<\\/text>\\n      <\\/g>\\n    <\\/g>\\n  <\\/g>\\n  <g font-size=\\\"3.53\\\" font-family=\\\"'PT Sans','Helvetica Neue','Helvetica',sans-serif\\\" fill=\\\"#564A55\\\" stroke=\\\"#000000\\\" stroke-opacity=\\\"0.000\\\" id=\\\"img-b2585116-45\\\">\\n    <g transform=\\\"translate(8.64,43.52)\\\" id=\\\"img-b2585116-46\\\">\\n      <g class=\\\"primitive\\\">\\n        <text text-anchor=\\\"middle\\\" dy=\\\"0.35em\\\" transform=\\\"rotate(-90,0, 2)\\\">gs (mol bar⁻¹ m⁻² s⁻¹)<\\/text>\\n      <\\/g>\\n    <\\/g>\\n  <\\/g>\\n<\\/g>\\n<defs>\\n  <clipPath id=\\\"img-b2585116-19\\\">\\n    <path d=\\\"M18.3,5 L108.64,5 108.64,86.04 18.3,86.04 \\\" \\/>\\n  <\\/clipPath>\\n<\\/defs>\\n<\\/svg>\\n\"},\"nodeType\":\"DOM\",\"type\":\"node\",\"instanceArgs\":{\"namespace\":\"html\",\"tag\":\"div\"},\"children\":[]}]}]},\n",
       "        window,\n",
       "    );\n",
       "    })()\n",
       "    </script>\n",
       "</div>\n"
      ],
      "text/plain": [
       "WebIO.Node{WebIO.DOM}(WebIO.DOM(:html, :div), Any[WebIO.Node{WebIO.DOM}(WebIO.DOM(:html, :div), Any[\"Weather\"], Dict{Symbol, Any}(:style => Dict{String, Any}(\"color\" => :rebeccapurple, \"font-family\" => \"monospace\"))), WebIO.Node{WebIO.DOM}(WebIO.DOM(:html, :div), Any[WebIO.Scope(WebIO.Node{WebIO.DOM}(WebIO.DOM(:html, :div), Any[WebIO.Node{WebIO.DOM}(WebIO.DOM(:html, :div), Any[WebIO.Node{WebIO.DOM}(WebIO.DOM(:html, :label), Any[\"PFD (μmol m⁻² s⁻¹)\"], Dict{Symbol, Any}(:className => \"interact \", :style => Dict{Any, Any}(:padding => \"5px 10px 0px 10px\", \"white-space\" => :nowrap, \"color\" => :royalblue)))], Dict{Symbol, Any}(:className => \"interact-flex-row-left\")), WebIO.Node{WebIO.DOM}(WebIO.DOM(:html, :div), Any[WebIO.Node{WebIO.DOM}(WebIO.DOM(:html, :input), Any[], Dict{Symbol, Any}(:max => 21, :min => 1, :attributes => Dict{Any, Any}(:type => \"range\", Symbol(\"data-bind\") => \"numericValue: index, valueUpdate: 'input', event: {change: function (){this.changes(this.changes()+1)}}\", \"orient\" => \"horizontal\"), :step => 1, :className => \"slider slider is-fullwidth\", :style => Dict{Any, Any}()))], Dict{Symbol, Any}(:className => \"interact-flex-row-center\")), WebIO.Node{WebIO.DOM}(WebIO.DOM(:html, :div), Any[WebIO.Node{WebIO.DOM}(WebIO.DOM(:html, :p), Any[], Dict{Symbol, Any}(:attributes => Dict(\"data-bind\" => \"text: formatted_val\")))], Dict{Symbol, Any}(:className => \"interact-flex-row-right\"))], Dict{Symbol, Any}(:className => \"interact-flex-row interact-widget\", :style => Dict(\"font-family\" => \"monospace\", \"width\" => \"80%\"))), Dict{String, Tuple{Observables.AbstractObservable, Union{Nothing, Bool}}}(\"changes\" => (Observable(0), nothing), \"index\" => (Observable{Any}(16), nothing)), Set{String}(), nothing, WebIO.Asset[WebIO.Asset(\"js\", \"knockout\", \"/Users/soohkim/.julia/packages/Knockout/HReiN/src/../assets/knockout.js\"), WebIO.Asset(\"js\", \"knockout_punches\", \"/Users/soohkim/.julia/packages/Knockout/HReiN/src/../assets/knockout_punches.js\"), WebIO.Asset(\"js\", nothing, \"/Users/soohkim/.julia/packages/InteractBase/Qhvxg/src/../assets/all.js\"), WebIO.Asset(\"css\", nothing, \"/Users/soohkim/.julia/packages/InteractBase/Qhvxg/src/../assets/style.css\"), WebIO.Asset(\"css\", nothing, \"/Users/soohkim/.julia/packages/Interact/PENUy/src/../assets/bulma_confined.min.css\")], Dict{Any, Any}(\"changes\" => Any[WebIO.JSString(\"(function (val){return (val!=this.model[\\\"changes\\\"]()) ? (this.valueFromJulia[\\\"changes\\\"]=true, this.model[\\\"changes\\\"](val)) : undefined})\")], \"index\" => Any[WebIO.JSString(\"(function (val){return (val!=this.model[\\\"index\\\"]()) ? (this.valueFromJulia[\\\"index\\\"]=true, this.model[\\\"index\\\"](val)) : undefined})\")]), WebIO.ConnectionPool(Channel{Any}(32), Set{WebIO.AbstractConnection}(), Condition(Base.InvasiveLinkedList{Task}(Task (runnable) @0x000000015fe15f90, Task (runnable) @0x000000015fe15f90), Base.AlwaysLockedST(1))), WebIO.JSString[WebIO.JSString(\"function () {\\n    var handler = (function (ko, koPunches) {\\n    ko.punches.enableAll();\\n    ko.bindingHandlers.numericValue = {\\n        init: function(element, valueAccessor, allBindings, data, context) {\\n            var stringified = ko.observable(ko.unwrap(valueAccessor()));\\n            stringified.subscribe(function(value) {\\n                var val = parseFloat(value);\\n                if (!isNaN(val)) {\\n                    valueAccessor()(val);\\n                }\\n            });\\n            valueAccessor().subscribe(function(value) {\\n                var str = JSON.stringify(value);\\n                if ((str == \\\"0\\\") && ([\\\"-0\\\", \\\"-0.\\\"].indexOf(stringified()) >= 0))\\n                     return;\\n                 if ([\\\"null\\\", \\\"\\\"].indexOf(str) >= 0)\\n                     return;\\n                stringified(str);\\n            });\\n            ko.applyBindingsToNode(\\n                element,\\n                {\\n                    value: stringified,\\n                    valueUpdate: allBindings.get('valueUpdate'),\\n                },\\n                context,\\n            );\\n        }\\n    };\\n    var json_data = {\\\"formatted_vals\\\":[\\\"0\\\",\\\"100\\\",\\\"200\\\",\\\"300\\\",\\\"400\\\",\\\"500\\\",\\\"600\\\",\\\"700\\\",\\\"800\\\",\\\"900\\\",\\\"1000\\\",\\\"1100\\\",\\\"1200\\\",\\\"1300\\\",\\\"1400\\\",\\\"1500\\\",\\\"1600\\\",\\\"1700\\\",\\\"1800\\\",\\\"1900\\\",\\\"2000\\\"],\\\"changes\\\":WebIO.getval({\\\"name\\\":\\\"changes\\\",\\\"scope\\\":\\\"12334790062983693839\\\",\\\"id\\\":\\\"4467545433470096476\\\",\\\"type\\\":\\\"observable\\\"}),\\\"index\\\":WebIO.getval({\\\"name\\\":\\\"index\\\",\\\"scope\\\":\\\"12334790062983693839\\\",\\\"id\\\":\\\"3302733622746996665\\\",\\\"type\\\":\\\"observable\\\"})};\\n    var self = this;\\n    function AppViewModel() {\\n        for (var key in json_data) {\\n            var el = json_data[key];\\n            this[key] = Array.isArray(el) ? ko.observableArray(el) : ko.observable(el);\\n        }\\n        \\n        [this[\\\"formatted_val\\\"]=ko.computed(    function(){\\n        return this.formatted_vals()[parseInt(this.index())-(1)];\\n    }\\n,this)]\\n        [this[\\\"changes\\\"].subscribe((function (val){!(this.valueFromJulia[\\\"changes\\\"]) ? (WebIO.setval({\\\"name\\\":\\\"changes\\\",\\\"scope\\\":\\\"12334790062983693839\\\",\\\"id\\\":\\\"4467545433470096476\\\",\\\"type\\\":\\\"observable\\\"},val)) : undefined; return this.valueFromJulia[\\\"changes\\\"]=false}),self),this[\\\"index\\\"].subscribe((function (val){!(this.valueFromJulia[\\\"index\\\"]) ? (WebIO.setval({\\\"name\\\":\\\"index\\\",\\\"scope\\\":\\\"12334790062983693839\\\",\\\"id\\\":\\\"3302733622746996665\\\",\\\"type\\\":\\\"observable\\\"},val)) : undefined; return this.valueFromJulia[\\\"index\\\"]=false}),self)]\\n        \\n    }\\n    self.model = new AppViewModel();\\n    self.valueFromJulia = {};\\n    for (var key in json_data) {\\n        self.valueFromJulia[key] = false;\\n    }\\n    ko.applyBindings(self.model, self.dom);\\n}\\n);\\n    (WebIO.importBlock({\\\"data\\\":[{\\\"name\\\":\\\"knockout\\\",\\\"type\\\":\\\"js\\\",\\\"url\\\":\\\"/assetserver/c0689c4f2514def856941022372b529b3413f129-knockout.js\\\"},{\\\"name\\\":\\\"knockout_punches\\\",\\\"type\\\":\\\"js\\\",\\\"url\\\":\\\"/assetserver/69274bc4b68b761587a57ff3f5e787f3dd4781dc-knockout_punches.js\\\"}],\\\"type\\\":\\\"async_block\\\"})).then((imports) => handler.apply(this, imports));\\n}\\n\")])], Dict{Symbol, Any}(:className => \"field interact-widget\")), WebIO.Node{WebIO.DOM}(WebIO.DOM(:html, :div), Any[WebIO.Scope(WebIO.Node{WebIO.DOM}(WebIO.DOM(:html, :div), Any[WebIO.Node{WebIO.DOM}(WebIO.DOM(:html, :div), Any[WebIO.Node{WebIO.DOM}(WebIO.DOM(:html, :label), Any[\"T_air (°C)\"], Dict{Symbol, Any}(:className => \"interact \", :style => Dict{Any, Any}(:padding => \"5px 10px 0px 10px\", \"white-space\" => :nowrap, \"color\" => :royalblue)))], Dict{Symbol, Any}(:className => \"interact-flex-row-left\")), WebIO.Node{WebIO.DOM}(WebIO.DOM(:html, :div), Any[WebIO.Node{WebIO.DOM}(WebIO.DOM(:html, :input), Any[], Dict{Symbol, Any}(:max => 51, :min => 1, :attributes => Dict{Any, Any}(:type => \"range\", Symbol(\"data-bind\") => \"numericValue: index, valueUpdate: 'input', event: {change: function (){this.changes(this.changes()+1)}}\", \"orient\" => \"horizontal\"), :step => 1, :className => \"slider slider is-fullwidth\", :style => Dict{Any, Any}()))], Dict{Symbol, Any}(:className => \"interact-flex-row-center\")), WebIO.Node{WebIO.DOM}(WebIO.DOM(:html, :div), Any[WebIO.Node{WebIO.DOM}(WebIO.DOM(:html, :p), Any[], Dict{Symbol, Any}(:attributes => Dict(\"data-bind\" => \"text: formatted_val\")))], Dict{Symbol, Any}(:className => \"interact-flex-row-right\"))], Dict{Symbol, Any}(:className => \"interact-flex-row interact-widget\", :style => Dict(\"font-family\" => \"monospace\", \"width\" => \"80%\"))), Dict{String, Tuple{Observables.AbstractObservable, Union{Nothing, Bool}}}(\"changes\" => (Observable(0), nothing), \"index\" => (Observable{Any}(26), nothing)), Set{String}(), nothing, WebIO.Asset[WebIO.Asset(\"js\", \"knockout\", \"/Users/soohkim/.julia/packages/Knockout/HReiN/src/../assets/knockout.js\"), WebIO.Asset(\"js\", \"knockout_punches\", \"/Users/soohkim/.julia/packages/Knockout/HReiN/src/../assets/knockout_punches.js\"), WebIO.Asset(\"js\", nothing, \"/Users/soohkim/.julia/packages/InteractBase/Qhvxg/src/../assets/all.js\"), WebIO.Asset(\"css\", nothing, \"/Users/soohkim/.julia/packages/InteractBase/Qhvxg/src/../assets/style.css\"), WebIO.Asset(\"css\", nothing, \"/Users/soohkim/.julia/packages/Interact/PENUy/src/../assets/bulma_confined.min.css\")], Dict{Any, Any}(\"changes\" => Any[WebIO.JSString(\"(function (val){return (val!=this.model[\\\"changes\\\"]()) ? (this.valueFromJulia[\\\"changes\\\"]=true, this.model[\\\"changes\\\"](val)) : undefined})\")], \"index\" => Any[WebIO.JSString(\"(function (val){return (val!=this.model[\\\"index\\\"]()) ? (this.valueFromJulia[\\\"index\\\"]=true, this.model[\\\"index\\\"](val)) : undefined})\")]), WebIO.ConnectionPool(Channel{Any}(32), Set{WebIO.AbstractConnection}(), Condition(Base.InvasiveLinkedList{Task}(Task (runnable) @0x000000015fe164d0, Task (runnable) @0x000000015fe164d0), Base.AlwaysLockedST(1))), WebIO.JSString[WebIO.JSString(\"function () {\\n    var handler = (function (ko, koPunches) {\\n    ko.punches.enableAll();\\n    ko.bindingHandlers.numericValue = {\\n        init: function(element, valueAccessor, allBindings, data, context) {\\n            var stringified = ko.observable(ko.unwrap(valueAccessor()));\\n            stringified.subscribe(function(value) {\\n                var val = parseFloat(value);\\n                if (!isNaN(val)) {\\n                    valueAccessor()(val);\\n                }\\n            });\\n            valueAccessor().subscribe(function(value) {\\n                var str = JSON.stringify(value);\\n                if ((str == \\\"0\\\") && ([\\\"-0\\\", \\\"-0.\\\"].indexOf(stringified()) >= 0))\\n                     return;\\n                 if ([\\\"null\\\", \\\"\\\"].indexOf(str) >= 0)\\n                     return;\\n                stringified(str);\\n            });\\n            ko.applyBindingsToNode(\\n                element,\\n                {\\n                    value: stringified,\\n                    valueUpdate: allBindings.get('valueUpdate'),\\n                },\\n                context,\\n            );\\n        }\\n    };\\n    var json_data = {\\\"formatted_vals\\\":[\\\"0\\\",\\\"1\\\",\\\"2\\\",\\\"3\\\",\\\"4\\\",\\\"5\\\",\\\"6\\\",\\\"7\\\",\\\"8\\\",\\\"9\\\",\\\"10\\\",\\\"11\\\",\\\"12\\\",\\\"13\\\",\\\"14\\\",\\\"15\\\",\\\"16\\\",\\\"17\\\",\\\"18\\\",\\\"19\\\",\\\"20\\\",\\\"21\\\",\\\"22\\\",\\\"23\\\",\\\"24\\\",\\\"25\\\",\\\"26\\\",\\\"27\\\",\\\"28\\\",\\\"29\\\",\\\"30\\\",\\\"31\\\",\\\"32\\\",\\\"33\\\",\\\"34\\\",\\\"35\\\",\\\"36\\\",\\\"37\\\",\\\"38\\\",\\\"39\\\",\\\"40\\\",\\\"41\\\",\\\"42\\\",\\\"43\\\",\\\"44\\\",\\\"45\\\",\\\"46\\\",\\\"47\\\",\\\"48\\\",\\\"49\\\",\\\"50\\\"],\\\"changes\\\":WebIO.getval({\\\"name\\\":\\\"changes\\\",\\\"scope\\\":\\\"6603168800941817629\\\",\\\"id\\\":\\\"13673046285344300387\\\",\\\"type\\\":\\\"observable\\\"}),\\\"index\\\":WebIO.getval({\\\"name\\\":\\\"index\\\",\\\"scope\\\":\\\"6603168800941817629\\\",\\\"id\\\":\\\"16341340583035095736\\\",\\\"type\\\":\\\"observable\\\"})};\\n    var self = this;\\n    function AppViewModel() {\\n        for (var key in json_data) {\\n            var el = json_data[key];\\n            this[key] = Array.isArray(el) ? ko.observableArray(el) : ko.observable(el);\\n        }\\n        \\n        [this[\\\"formatted_val\\\"]=ko.computed(    function(){\\n        return this.formatted_vals()[parseInt(this.index())-(1)];\\n    }\\n,this)]\\n        [this[\\\"changes\\\"].subscribe((function (val){!(this.valueFromJulia[\\\"changes\\\"]) ? (WebIO.setval({\\\"name\\\":\\\"changes\\\",\\\"scope\\\":\\\"6603168800941817629\\\",\\\"id\\\":\\\"13673046285344300387\\\",\\\"type\\\":\\\"observable\\\"},val)) : undefined; return this.valueFromJulia[\\\"changes\\\"]=false}),self),this[\\\"index\\\"].subscribe((function (val){!(this.valueFromJulia[\\\"index\\\"]) ? (WebIO.setval({\\\"name\\\":\\\"index\\\",\\\"scope\\\":\\\"6603168800941817629\\\",\\\"id\\\":\\\"16341340583035095736\\\",\\\"type\\\":\\\"observable\\\"},val)) : undefined; return this.valueFromJulia[\\\"index\\\"]=false}),self)]\\n        \\n    }\\n    self.model = new AppViewModel();\\n    self.valueFromJulia = {};\\n    for (var key in json_data) {\\n        self.valueFromJulia[key] = false;\\n    }\\n    ko.applyBindings(self.model, self.dom);\\n}\\n);\\n    (WebIO.importBlock({\\\"data\\\":[{\\\"name\\\":\\\"knockout\\\",\\\"type\\\":\\\"js\\\",\\\"url\\\":\\\"/assetserver/c0689c4f2514def856941022372b529b3413f129-knockout.js\\\"},{\\\"name\\\":\\\"knockout_punches\\\",\\\"type\\\":\\\"js\\\",\\\"url\\\":\\\"/assetserver/69274bc4b68b761587a57ff3f5e787f3dd4781dc-knockout_punches.js\\\"}],\\\"type\\\":\\\"async_block\\\"})).then((imports) => handler.apply(this, imports));\\n}\\n\")])], Dict{Symbol, Any}(:className => \"field interact-widget\")), WebIO.Node{WebIO.DOM}(WebIO.DOM(:html, :div), Any[\"Nitrogen\"], Dict{Symbol, Any}(:style => Dict{String, Any}(\"color\" => :rebeccapurple, \"font-family\" => \"monospace\"))), WebIO.Node{WebIO.DOM}(WebIO.DOM(:html, :div), Any[WebIO.Scope(WebIO.Node{WebIO.DOM}(WebIO.DOM(:html, :div), Any[WebIO.Node{WebIO.DOM}(WebIO.DOM(:html, :div), Any[WebIO.Node{WebIO.DOM}(WebIO.DOM(:html, :label), Any[\"N\"], Dict{Symbol, Any}(:className => \"interact \", :style => Dict{Any, Any}(:padding => \"5px 10px 0px 10px\", \"white-space\" => :nowrap, \"color\" => :royalblue)))], Dict{Symbol, Any}(:className => \"interact-flex-row-left\")), WebIO.Node{WebIO.DOM}(WebIO.DOM(:html, :div), Any[WebIO.Node{WebIO.DOM}(WebIO.DOM(:html, :input), Any[], Dict{Symbol, Any}(:max => 41, :min => 1, :attributes => Dict{Any, Any}(:type => \"range\", Symbol(\"data-bind\") => \"numericValue: index, valueUpdate: 'input', event: {change: function (){this.changes(this.changes()+1)}}\", \"orient\" => \"horizontal\"), :step => 1, :className => \"slider slider is-fullwidth\", :style => Dict{Any, Any}()))], Dict{Symbol, Any}(:className => \"interact-flex-row-center\")), WebIO.Node{WebIO.DOM}(WebIO.DOM(:html, :div), Any[WebIO.Node{WebIO.DOM}(WebIO.DOM(:html, :p), Any[], Dict{Symbol, Any}(:attributes => Dict(\"data-bind\" => \"text: formatted_val\")))], Dict{Symbol, Any}(:className => \"interact-flex-row-right\"))], Dict{Symbol, Any}(:className => \"interact-flex-row interact-widget\", :style => Dict(\"font-family\" => \"monospace\", \"width\" => \"80%\"))), Dict{String, Tuple{Observables.AbstractObservable, Union{Nothing, Bool}}}(\"changes\" => (Observable(0), nothing), \"index\" => (Observable{Any}(21), nothing)), Set{String}(), nothing, WebIO.Asset[WebIO.Asset(\"js\", \"knockout\", \"/Users/soohkim/.julia/packages/Knockout/HReiN/src/../assets/knockout.js\"), WebIO.Asset(\"js\", \"knockout_punches\", \"/Users/soohkim/.julia/packages/Knockout/HReiN/src/../assets/knockout_punches.js\"), WebIO.Asset(\"js\", nothing, \"/Users/soohkim/.julia/packages/InteractBase/Qhvxg/src/../assets/all.js\"), WebIO.Asset(\"css\", nothing, \"/Users/soohkim/.julia/packages/InteractBase/Qhvxg/src/../assets/style.css\"), WebIO.Asset(\"css\", nothing, \"/Users/soohkim/.julia/packages/Interact/PENUy/src/../assets/bulma_confined.min.css\")], Dict{Any, Any}(\"changes\" => Any[WebIO.JSString(\"(function (val){return (val!=this.model[\\\"changes\\\"]()) ? (this.valueFromJulia[\\\"changes\\\"]=true, this.model[\\\"changes\\\"](val)) : undefined})\")], \"index\" => Any[WebIO.JSString(\"(function (val){return (val!=this.model[\\\"index\\\"]()) ? (this.valueFromJulia[\\\"index\\\"]=true, this.model[\\\"index\\\"](val)) : undefined})\")]), WebIO.ConnectionPool(Channel{Any}(32), Set{WebIO.AbstractConnection}(), Condition(Base.InvasiveLinkedList{Task}(Task (runnable) @0x000000015fe16620, Task (runnable) @0x000000015fe16620), Base.AlwaysLockedST(1))), WebIO.JSString[WebIO.JSString(\"function () {\\n    var handler = (function (ko, koPunches) {\\n    ko.punches.enableAll();\\n    ko.bindingHandlers.numericValue = {\\n        init: function(element, valueAccessor, allBindings, data, context) {\\n            var stringified = ko.observable(ko.unwrap(valueAccessor()));\\n            stringified.subscribe(function(value) {\\n                var val = parseFloat(value);\\n                if (!isNaN(val)) {\\n                    valueAccessor()(val);\\n                }\\n            });\\n            valueAccessor().subscribe(function(value) {\\n                var str = JSON.stringify(value);\\n                if ((str == \\\"0\\\") && ([\\\"-0\\\", \\\"-0.\\\"].indexOf(stringified()) >= 0))\\n                     return;\\n                 if ([\\\"null\\\", \\\"\\\"].indexOf(str) >= 0)\\n                     return;\\n                stringified(str);\\n            });\\n            ko.applyBindingsToNode(\\n                element,\\n                {\\n                    value: stringified,\\n                    valueUpdate: allBindings.get('valueUpdate'),\\n                },\\n                context,\\n            );\\n        }\\n    };\\n    var json_data = {\\\"formatted_vals\\\":[\\\"0.0\\\",\\\"0.1\\\",\\\"0.2\\\",\\\"0.3\\\",\\\"0.4\\\",\\\"0.5\\\",\\\"0.6\\\",\\\"0.7\\\",\\\"0.8\\\",\\\"0.9\\\",\\\"1.0\\\",\\\"1.1\\\",\\\"1.2\\\",\\\"1.3\\\",\\\"1.4\\\",\\\"1.5\\\",\\\"1.6\\\",\\\"1.7\\\",\\\"1.8\\\",\\\"1.9\\\",\\\"2.0\\\",\\\"2.1\\\",\\\"2.2\\\",\\\"2.3\\\",\\\"2.4\\\",\\\"2.5\\\",\\\"2.6\\\",\\\"2.7\\\",\\\"2.8\\\",\\\"2.9\\\",\\\"3.0\\\",\\\"3.1\\\",\\\"3.2\\\",\\\"3.3\\\",\\\"3.4\\\",\\\"3.5\\\",\\\"3.6\\\",\\\"3.7\\\",\\\"3.8\\\",\\\"3.9\\\",\\\"4.0\\\"],\\\"changes\\\":WebIO.getval({\\\"name\\\":\\\"changes\\\",\\\"scope\\\":\\\"12582209625644555491\\\",\\\"id\\\":\\\"12146886626593665820\\\",\\\"type\\\":\\\"observable\\\"}),\\\"index\\\":WebIO.getval({\\\"name\\\":\\\"index\\\",\\\"scope\\\":\\\"12582209625644555491\\\",\\\"id\\\":\\\"1745976172436541731\\\",\\\"type\\\":\\\"observable\\\"})};\\n    var self = this;\\n    function AppViewModel() {\\n        for (var key in json_data) {\\n            var el = json_data[key];\\n            this[key] = Array.isArray(el) ? ko.observableArray(el) : ko.observable(el);\\n        }\\n        \\n        [this[\\\"formatted_val\\\"]=ko.computed(    function(){\\n        return this.formatted_vals()[parseInt(this.index())-(1)];\\n    }\\n,this)]\\n        [this[\\\"changes\\\"].subscribe((function (val){!(this.valueFromJulia[\\\"changes\\\"]) ? (WebIO.setval({\\\"name\\\":\\\"changes\\\",\\\"scope\\\":\\\"12582209625644555491\\\",\\\"id\\\":\\\"12146886626593665820\\\",\\\"type\\\":\\\"observable\\\"},val)) : undefined; return this.valueFromJulia[\\\"changes\\\"]=false}),self),this[\\\"index\\\"].subscribe((function (val){!(this.valueFromJulia[\\\"index\\\"]) ? (WebIO.setval({\\\"name\\\":\\\"index\\\",\\\"scope\\\":\\\"12582209625644555491\\\",\\\"id\\\":\\\"1745976172436541731\\\",\\\"type\\\":\\\"observable\\\"},val)) : undefined; return this.valueFromJulia[\\\"index\\\"]=false}),self)]\\n        \\n    }\\n    self.model = new AppViewModel();\\n    self.valueFromJulia = {};\\n    for (var key in json_data) {\\n        self.valueFromJulia[key] = false;\\n    }\\n    ko.applyBindings(self.model, self.dom);\\n}\\n);\\n    (WebIO.importBlock({\\\"data\\\":[{\\\"name\\\":\\\"knockout\\\",\\\"type\\\":\\\"js\\\",\\\"url\\\":\\\"/assetserver/c0689c4f2514def856941022372b529b3413f129-knockout.js\\\"},{\\\"name\\\":\\\"knockout_punches\\\",\\\"type\\\":\\\"js\\\",\\\"url\\\":\\\"/assetserver/69274bc4b68b761587a57ff3f5e787f3dd4781dc-knockout_punches.js\\\"}],\\\"type\\\":\\\"async_block\\\"})).then((imports) => handler.apply(this, imports));\\n}\\n\")])], Dict{Symbol, Any}(:className => \"field interact-widget\")), WebIO.Node{WebIO.DOM}(WebIO.DOM(:html, :div), Any[\"StomataTuzet\"], Dict{Symbol, Any}(:style => Dict{String, Any}(\"color\" => :rebeccapurple, \"font-family\" => \"monospace\"))), WebIO.Node{WebIO.DOM}(WebIO.DOM(:html, :div), Any[WebIO.Scope(WebIO.Node{WebIO.DOM}(WebIO.DOM(:html, :div), Any[WebIO.Node{WebIO.DOM}(WebIO.DOM(:html, :div), Any[WebIO.Node{WebIO.DOM}(WebIO.DOM(:html, :label), Any[\"WP_leaf\"], Dict{Symbol, Any}(:className => \"interact \", :style => Dict{Any, Any}(:padding => \"5px 10px 0px 10px\", \"white-space\" => :nowrap, \"color\" => :royalblue)))], Dict{Symbol, Any}(:className => \"interact-flex-row-left\")), WebIO.Node{WebIO.DOM}(WebIO.DOM(:html, :div), Any[WebIO.Node{WebIO.DOM}(WebIO.DOM(:html, :input), Any[], Dict{Symbol, Any}(:max => 31, :min => 1, :attributes => Dict{Any, Any}(:type => \"range\", Symbol(\"data-bind\") => \"numericValue: index, valueUpdate: 'input', event: {change: function (){this.changes(this.changes()+1)}}\", \"orient\" => \"horizontal\"), :step => 1, :className => \"slider slider is-fullwidth\", :style => Dict{Any, Any}()))], Dict{Symbol, Any}(:className => \"interact-flex-row-center\")), WebIO.Node{WebIO.DOM}(WebIO.DOM(:html, :div), Any[WebIO.Node{WebIO.DOM}(WebIO.DOM(:html, :p), Any[], Dict{Symbol, Any}(:attributes => Dict(\"data-bind\" => \"text: formatted_val\")))], Dict{Symbol, Any}(:className => \"interact-flex-row-right\"))], Dict{Symbol, Any}(:className => \"interact-flex-row interact-widget\", :style => Dict(\"font-family\" => \"monospace\", \"width\" => \"80%\"))), Dict{String, Tuple{Observables.AbstractObservable, Union{Nothing, Bool}}}(\"changes\" => (Observable(0), nothing), \"index\" => (Observable{Any}(26), nothing)), Set{String}(), nothing, WebIO.Asset[WebIO.Asset(\"js\", \"knockout\", \"/Users/soohkim/.julia/packages/Knockout/HReiN/src/../assets/knockout.js\"), WebIO.Asset(\"js\", \"knockout_punches\", \"/Users/soohkim/.julia/packages/Knockout/HReiN/src/../assets/knockout_punches.js\"), WebIO.Asset(\"js\", nothing, \"/Users/soohkim/.julia/packages/InteractBase/Qhvxg/src/../assets/all.js\"), WebIO.Asset(\"css\", nothing, \"/Users/soohkim/.julia/packages/InteractBase/Qhvxg/src/../assets/style.css\"), WebIO.Asset(\"css\", nothing, \"/Users/soohkim/.julia/packages/Interact/PENUy/src/../assets/bulma_confined.min.css\")], Dict{Any, Any}(\"changes\" => Any[WebIO.JSString(\"(function (val){return (val!=this.model[\\\"changes\\\"]()) ? (this.valueFromJulia[\\\"changes\\\"]=true, this.model[\\\"changes\\\"](val)) : undefined})\")], \"index\" => Any[WebIO.JSString(\"(function (val){return (val!=this.model[\\\"index\\\"]()) ? (this.valueFromJulia[\\\"index\\\"]=true, this.model[\\\"index\\\"](val)) : undefined})\")]), WebIO.ConnectionPool(Channel{Any}(32), Set{WebIO.AbstractConnection}(), Condition(Base.InvasiveLinkedList{Task}(Task (runnable) @0x000000015fe16770, Task (runnable) @0x000000015fe16770), Base.AlwaysLockedST(1))), WebIO.JSString[WebIO.JSString(\"function () {\\n    var handler = (function (ko, koPunches) {\\n    ko.punches.enableAll();\\n    ko.bindingHandlers.numericValue = {\\n        init: function(element, valueAccessor, allBindings, data, context) {\\n            var stringified = ko.observable(ko.unwrap(valueAccessor()));\\n            stringified.subscribe(function(value) {\\n                var val = parseFloat(value);\\n                if (!isNaN(val)) {\\n                    valueAccessor()(val);\\n                }\\n            });\\n            valueAccessor().subscribe(function(value) {\\n                var str = JSON.stringify(value);\\n                if ((str == \\\"0\\\") && ([\\\"-0\\\", \\\"-0.\\\"].indexOf(stringified()) >= 0))\\n                     return;\\n                 if ([\\\"null\\\", \\\"\\\"].indexOf(str) >= 0)\\n                     return;\\n                stringified(str);\\n            });\\n            ko.applyBindingsToNode(\\n                element,\\n                {\\n                    value: stringified,\\n                    valueUpdate: allBindings.get('valueUpdate'),\\n                },\\n                context,\\n            );\\n        }\\n    };\\n    var json_data = {\\\"formatted_vals\\\":[\\\"-3.0\\\",\\\"-2.9\\\",\\\"-2.8\\\",\\\"-2.7\\\",\\\"-2.6\\\",\\\"-2.5\\\",\\\"-2.4\\\",\\\"-2.3\\\",\\\"-2.2\\\",\\\"-2.1\\\",\\\"-2.0\\\",\\\"-1.9\\\",\\\"-1.8\\\",\\\"-1.7\\\",\\\"-1.6\\\",\\\"-1.5\\\",\\\"-1.4\\\",\\\"-1.3\\\",\\\"-1.2\\\",\\\"-1.1\\\",\\\"-1.0\\\",\\\"-0.9\\\",\\\"-0.8\\\",\\\"-0.7\\\",\\\"-0.6\\\",\\\"-0.5\\\",\\\"-0.4\\\",\\\"-0.3\\\",\\\"-0.2\\\",\\\"-0.1\\\",\\\"0.0\\\"],\\\"changes\\\":WebIO.getval({\\\"name\\\":\\\"changes\\\",\\\"scope\\\":\\\"16422589016364457545\\\",\\\"id\\\":\\\"12851574697294259950\\\",\\\"type\\\":\\\"observable\\\"}),\\\"index\\\":WebIO.getval({\\\"name\\\":\\\"index\\\",\\\"scope\\\":\\\"16422589016364457545\\\",\\\"id\\\":\\\"14614652068679314364\\\",\\\"type\\\":\\\"observable\\\"})};\\n    var self = this;\\n    function AppViewModel() {\\n        for (var key in json_data) {\\n            var el = json_data[key];\\n            this[key] = Array.isArray(el) ? ko.observableArray(el) : ko.observable(el);\\n        }\\n        \\n        [this[\\\"formatted_val\\\"]=ko.computed(    function(){\\n        return this.formatted_vals()[parseInt(this.index())-(1)];\\n    }\\n,this)]\\n        [this[\\\"changes\\\"].subscribe((function (val){!(this.valueFromJulia[\\\"changes\\\"]) ? (WebIO.setval({\\\"name\\\":\\\"changes\\\",\\\"scope\\\":\\\"16422589016364457545\\\",\\\"id\\\":\\\"12851574697294259950\\\",\\\"type\\\":\\\"observable\\\"},val)) : undefined; return this.valueFromJulia[\\\"changes\\\"]=false}),self),this[\\\"index\\\"].subscribe((function (val){!(this.valueFromJulia[\\\"index\\\"]) ? (WebIO.setval({\\\"name\\\":\\\"index\\\",\\\"scope\\\":\\\"16422589016364457545\\\",\\\"id\\\":\\\"14614652068679314364\\\",\\\"type\\\":\\\"observable\\\"},val)) : undefined; return this.valueFromJulia[\\\"index\\\"]=false}),self)]\\n        \\n    }\\n    self.model = new AppViewModel();\\n    self.valueFromJulia = {};\\n    for (var key in json_data) {\\n        self.valueFromJulia[key] = false;\\n    }\\n    ko.applyBindings(self.model, self.dom);\\n}\\n);\\n    (WebIO.importBlock({\\\"data\\\":[{\\\"name\\\":\\\"knockout\\\",\\\"type\\\":\\\"js\\\",\\\"url\\\":\\\"/assetserver/c0689c4f2514def856941022372b529b3413f129-knockout.js\\\"},{\\\"name\\\":\\\"knockout_punches\\\",\\\"type\\\":\\\"js\\\",\\\"url\\\":\\\"/assetserver/69274bc4b68b761587a57ff3f5e787f3dd4781dc-knockout_punches.js\\\"}],\\\"type\\\":\\\"async_block\\\"})).then((imports) => handler.apply(this, imports));\\n}\\n\")])], Dict{Symbol, Any}(:className => \"field interact-widget\")), Observable(Gadfly.Plot(Gadfly.Layer[Gadfly.Layer(nothing, Dict{Symbol, Any}(:y => [0.01026221010194089, 0.014194019936955628, 0.022333097006602326, 0.042169347730336725, 0.06750223548193778, 0.08767793817081641, 0.10616557776582854, 0.1237584264232159, 0.1407917867528799, 0.15743682911325063  …  0.18992702730799027, 0.20588749129524797, 0.22170950253924654, 0.23742152279008508, 0.2530464515718341, 0.26860232305691933, 0.2841036782934426, 0.29956353919388856, 0.3149911373742437, 0.33039422397283086], :x => [0.0, 5.0, 10.0, 15.0, 20.0, 25.0, 30.0, 35.0, 40.0, 45.0  …  55.0, 60.0, 65.0, 70.0, 75.0, 80.0, 85.0, 90.0, 95.0, 100.0]), Gadfly.StatisticElement[], Gadfly.Geom.LineGeometry(Gadfly.Stat.Identity(), false, 2, Symbol(\"\")), Gadfly.Theme(LCHab{Float32}(70.0f0,60.0f0,240.0f0), 0.7mm, 0.45mm, 1.8mm, Gadfly.Scale.default_discrete_sizes, Gadfly.Scale.default_continuous_sizes, Gadfly.Scale.default_discrete_colors, Function[Compose.circle, Gadfly.Shape.square, Gadfly.Shape.diamond, Gadfly.Shape.cross, Gadfly.Shape.xcross, Gadfly.Shape.utriangle, Gadfly.Shape.dtriangle, Gadfly.Shape.star1, Gadfly.Shape.star2, Gadfly.Shape.hexagon, Gadfly.Shape.octagon, Gadfly.Shape.hline, Gadfly.Shape.vline, Gadfly.Shape.ltriangle, Gadfly.Shape.rtriangle], 0.3mm, [:solid, :dash, :dot, :dashdot, :dashdotdot, :ldash, :ldashdash, :ldashdot, :ldashdashdot], [1.0, 0.9, 0.8, 0.7, 0.6, 0.5, 0.4, 0.3, 0.2, 0.1, 0.0], nothing, nothing, 0.3mm, 0.0, RGB{N0f8}(1.0,1.0,1.0), Measures.AbsoluteLength[5.0mm, 5.0mm, 5.0mm, 0.0mm], RGB{N0f8}(0.816,0.816,0.878), Measures.AbsoluteLength[0.5mm, 0.5mm], RGB{N0f8}(0.627,0.627,0.627), 0.2mm, 0, \"'PT Sans Caption','Helvetica Neue','Helvetica',sans-serif\", 2.822222222222222mm, RGB{N0f8}(0.424,0.376,0.42), \"'PT Sans','Helvetica Neue','Helvetica',sans-serif\", 3.5277777777777777mm, RGB{N0f8}(0.337,0.29,0.333), \"'PT Sans Caption','Helvetica Neue','Helvetica',sans-serif\", 2.822222222222222mm, RGB{N0f8}(0.298,0.251,0.294), \"'PT Sans','Helvetica Neue','Helvetica',sans-serif\", 3.175mm, RGB{N0f8}(0.212,0.165,0.208), \"'PT Sans','Helvetica Neue','Helvetica',sans-serif\", 2.822222222222222mm, RGB{N0f8}(0.298,0.251,0.294), 40, -0.05mm, 1.0mm, 3.0mm, Gadfly.default_stroke_color, 0.3mm, Cropbox.var\"#603#612\"(), Gadfly.default_continuous_highlight_color, Gadfly.default_lowlight_color, Gadfly.default_middle_color, 0.6mm, :left, :square, nothing, nothing, nothing, :right, nothing, 2.0mm, 1000, 10.0, 0.5, 0.2, 1.0mm, 4, Gadfly.Scale.DiscreteColorScale(Gadfly.Scale.default_discrete_colors, nothing, nothing, true), Gadfly.Scale.ContinuousColorScale(Gadfly.Scale.var\"#73#77\"{Int64, Int64, Int64, Int64, Float64, Int64}(100, 40, 260, 10, 1.5, 70), Gadfly.Scale.ContinuousScaleTransform(identity, identity, Gadfly.Scale.identity_formatter), nothing, nothing)), 1), Gadfly.Layer(nothing, Dict{Symbol, Any}(:y => [0.010237701895165752, 0.013680546126410155, 0.02025201830066346, 0.03546205573535044, 0.0711380357654444, 0.12349761910533859, 0.1770101725859696, 0.2274781819938806, 0.27270189784530446, 0.30833782268870863  …  0.3755291768111025, 0.40759355197403474, 0.43884173094825457, 0.4693799673711563, 0.49928284013743573, 0.5286086555809564, 0.5573999317965534, 0.5856894286780927, 0.6135004069626597, 0.6408579524528133], :x => [0.0, 5.0, 10.0, 15.0, 20.0, 25.0, 30.0, 35.0, 40.0, 45.0  …  55.0, 60.0, 65.0, 70.0, 75.0, 80.0, 85.0, 90.0, 95.0, 100.0]), Gadfly.StatisticElement[], Gadfly.Geom.LineGeometry(Gadfly.Stat.Identity(), false, 2, Symbol(\"\")), Gadfly.Theme(LCHab{Float32}(80.0f0,70.000015f0,100.43479f0), 0.7mm, 0.45mm, 1.8mm, Gadfly.Scale.default_discrete_sizes, Gadfly.Scale.default_continuous_sizes, Gadfly.Scale.default_discrete_colors, Function[Compose.circle, Gadfly.Shape.square, Gadfly.Shape.diamond, Gadfly.Shape.cross, Gadfly.Shape.xcross, Gadfly.Shape.utriangle, Gadfly.Shape.dtriangle, Gadfly.Shape.star1, Gadfly.Shape.star2, Gadfly.Shape.hexagon, Gadfly.Shape.octagon, Gadfly.Shape.hline, Gadfly.Shape.vline, Gadfly.Shape.ltriangle, Gadfly.Shape.rtriangle], 0.3mm, [:solid, :dash, :dot, :dashdot, :dashdotdot, :ldash, :ldashdash, :ldashdot, :ldashdashdot], [1.0, 0.9, 0.8, 0.7, 0.6, 0.5, 0.4, 0.3, 0.2, 0.1, 0.0], nothing, nothing, 0.3mm, 0.0, RGB{N0f8}(1.0,1.0,1.0), Measures.AbsoluteLength[5.0mm, 5.0mm, 5.0mm, 0.0mm], RGB{N0f8}(0.816,0.816,0.878), Measures.AbsoluteLength[0.5mm, 0.5mm], RGB{N0f8}(0.627,0.627,0.627), 0.2mm, 0, \"'PT Sans Caption','Helvetica Neue','Helvetica',sans-serif\", 2.822222222222222mm, RGB{N0f8}(0.424,0.376,0.42), \"'PT Sans','Helvetica Neue','Helvetica',sans-serif\", 3.5277777777777777mm, RGB{N0f8}(0.337,0.29,0.333), \"'PT Sans Caption','Helvetica Neue','Helvetica',sans-serif\", 2.822222222222222mm, RGB{N0f8}(0.298,0.251,0.294), \"'PT Sans','Helvetica Neue','Helvetica',sans-serif\", 3.175mm, RGB{N0f8}(0.212,0.165,0.208), \"'PT Sans','Helvetica Neue','Helvetica',sans-serif\", 2.822222222222222mm, RGB{N0f8}(0.298,0.251,0.294), 40, -0.05mm, 1.0mm, 3.0mm, Gadfly.default_stroke_color, 0.3mm, Cropbox.var\"#603#612\"(), Gadfly.default_continuous_highlight_color, Gadfly.default_lowlight_color, Gadfly.default_middle_color, 0.6mm, :left, :square, nothing, nothing, nothing, :right, nothing, 2.0mm, 1000, 10.0, 0.5, 0.2, 1.0mm, 4, Gadfly.Scale.DiscreteColorScale(Gadfly.Scale.default_discrete_colors, nothing, nothing, true), Gadfly.Scale.ContinuousColorScale(Gadfly.Scale.var\"#73#77\"{Int64, Int64, Int64, Int64, Float64, Int64}(100, 40, 260, 10, 1.5, 70), Gadfly.Scale.ContinuousScaleTransform(identity, identity, Gadfly.Scale.identity_formatter), nothing, nothing)), 2), Gadfly.Layer(nothing, Dict{Symbol, Any}(:y => [0.010213104666236983, 0.013193056367301614, 0.01841475329189948, 0.02910742562369508, 0.05369187492833371, 0.09883624824467119, 0.1531810764029648, 0.2070902300136377, 0.25820345220734037, 0.3063572197901399  …  0.3947782459421595, 0.43561307239764235, 0.47448475432976017, 0.5115864781756237, 0.5470405786664123, 0.5809623963438324, 0.613433159341031, 0.6445290091935433, 0.6743049786592554, 0.7028277493202368], :x => [0.0, 5.0, 10.0, 15.0, 20.0, 25.0, 30.0, 35.0, 40.0, 45.0  …  55.0, 60.0, 65.0, 70.0, 75.0, 80.0, 85.0, 90.0, 95.0, 100.0]), Gadfly.StatisticElement[], Gadfly.Geom.LineGeometry(Gadfly.Stat.Identity(), false, 2, Symbol(\"\")), Gadfly.Theme(LCHab{Float32}(65.89944f0,62.21457f0,353.99814f0), 0.7mm, 0.45mm, 1.8mm, Gadfly.Scale.default_discrete_sizes, Gadfly.Scale.default_continuous_sizes, Gadfly.Scale.default_discrete_colors, Function[Compose.circle, Gadfly.Shape.square, Gadfly.Shape.diamond, Gadfly.Shape.cross, Gadfly.Shape.xcross, Gadfly.Shape.utriangle, Gadfly.Shape.dtriangle, Gadfly.Shape.star1, Gadfly.Shape.star2, Gadfly.Shape.hexagon, Gadfly.Shape.octagon, Gadfly.Shape.hline, Gadfly.Shape.vline, Gadfly.Shape.ltriangle, Gadfly.Shape.rtriangle], 0.3mm, [:solid, :dash, :dot, :dashdot, :dashdotdot, :ldash, :ldashdash, :ldashdot, :ldashdashdot], [1.0, 0.9, 0.8, 0.7, 0.6, 0.5, 0.4, 0.3, 0.2, 0.1, 0.0], nothing, nothing, 0.3mm, 0.0, RGB{N0f8}(1.0,1.0,1.0), Measures.AbsoluteLength[5.0mm, 5.0mm, 5.0mm, 0.0mm], RGB{N0f8}(0.816,0.816,0.878), Measures.AbsoluteLength[0.5mm, 0.5mm], RGB{N0f8}(0.627,0.627,0.627), 0.2mm, 0, \"'PT Sans Caption','Helvetica Neue','Helvetica',sans-serif\", 2.822222222222222mm, RGB{N0f8}(0.424,0.376,0.42), \"'PT Sans','Helvetica Neue','Helvetica',sans-serif\", 3.5277777777777777mm, RGB{N0f8}(0.337,0.29,0.333), \"'PT Sans Caption','Helvetica Neue','Helvetica',sans-serif\", 2.822222222222222mm, RGB{N0f8}(0.298,0.251,0.294), \"'PT Sans','Helvetica Neue','Helvetica',sans-serif\", 3.175mm, RGB{N0f8}(0.212,0.165,0.208), \"'PT Sans','Helvetica Neue','Helvetica',sans-serif\", 2.822222222222222mm, RGB{N0f8}(0.298,0.251,0.294), 40, -0.05mm, 1.0mm, 3.0mm, Gadfly.default_stroke_color, 0.3mm, Cropbox.var\"#603#612\"(), Gadfly.default_continuous_highlight_color, Gadfly.default_lowlight_color, Gadfly.default_middle_color, 0.6mm, :left, :square, nothing, nothing, nothing, :right, nothing, 2.0mm, 1000, 10.0, 0.5, 0.2, 1.0mm, 4, Gadfly.Scale.DiscreteColorScale(Gadfly.Scale.default_discrete_colors, nothing, nothing, true), Gadfly.Scale.ContinuousColorScale(Gadfly.Scale.var\"#73#77\"{Int64, Int64, Int64, Int64, Float64, Int64}(100, 40, 260, 10, 1.5, 70), Gadfly.Scale.ContinuousScaleTransform(identity, identity, Gadfly.Scale.identity_formatter), nothing, nothing)), 3)], nothing, Data(\n",
       "  titles=Dict{Symbol, AbstractString}()\n",
       ")\n",
       ", Gadfly.ScaleElement[], Gadfly.StatisticElement[], Gadfly.Coord.Cartesian([:x, :xmin, :xmax, :xintercept], [:y, :ymin, :ymax, :yintercept, :middle, :lower_hinge, :upper_hinge, :lower_fence, :upper_fence, :outliers], 0, 100, 0, 1, false, false, false, nothing, false), Gadfly.GuideElement[Gadfly.Guide.Title(\"\"), Gadfly.Guide.XLabel(\"RH (%)\", :auto), Gadfly.Guide.YLabel(\"gs (mol bar⁻¹ m⁻² s⁻¹)\", :auto), Gadfly.Guide.ManualDiscreteKey(\"CO2 (μmol mol⁻¹)\", [\"1000 μmol mol⁻¹\", \"400 μmol mol⁻¹\", \"250 μmol mol⁻¹\"], Any[], ColorTypes.Colorant[LCHab{Float32}(70.0f0,60.0f0,240.0f0), LCHab{Float32}(80.0f0,70.000015f0,100.43479f0), LCHab{Float32}(65.89944f0,62.21457f0,353.99814f0)], Function[], Measures.Measure[], true)], Gadfly.Theme(LCHab{Float32}(70.0f0,60.0f0,240.0f0), 0.7mm, 0.45mm, 1.8mm, Gadfly.Scale.default_discrete_sizes, Gadfly.Scale.default_continuous_sizes, Gadfly.Scale.default_discrete_colors, Function[Compose.circle, Gadfly.Shape.square, Gadfly.Shape.diamond, Gadfly.Shape.cross, Gadfly.Shape.xcross, Gadfly.Shape.utriangle, Gadfly.Shape.dtriangle, Gadfly.Shape.star1, Gadfly.Shape.star2, Gadfly.Shape.hexagon, Gadfly.Shape.octagon, Gadfly.Shape.hline, Gadfly.Shape.vline, Gadfly.Shape.ltriangle, Gadfly.Shape.rtriangle], 0.3mm, [:solid, :dash, :dot, :dashdot, :dashdotdot, :ldash, :ldashdash, :ldashdot, :ldashdashdot], [1.0, 0.9, 0.8, 0.7, 0.6, 0.5, 0.4, 0.3, 0.2, 0.1, 0.0], nothing, nothing, 0.3mm, 0.0, RGB{N0f8}(1.0,1.0,1.0), Measures.AbsoluteLength[5.0mm, 5.0mm, 5.0mm, 0.0mm], RGB{N0f8}(0.816,0.816,0.878), Measures.AbsoluteLength[0.5mm, 0.5mm], RGB{N0f8}(0.627,0.627,0.627), 0.2mm, 0, \"'PT Sans Caption','Helvetica Neue','Helvetica',sans-serif\", 2.822222222222222mm, RGB{N0f8}(0.424,0.376,0.42), \"'PT Sans','Helvetica Neue','Helvetica',sans-serif\", 3.5277777777777777mm, RGB{N0f8}(0.337,0.29,0.333), \"'PT Sans Caption','Helvetica Neue','Helvetica',sans-serif\", 2.822222222222222mm, RGB{N0f8}(0.298,0.251,0.294), \"'PT Sans','Helvetica Neue','Helvetica',sans-serif\", 3.175mm, RGB{N0f8}(0.212,0.165,0.208), \"'PT Sans','Helvetica Neue','Helvetica',sans-serif\", 2.822222222222222mm, RGB{N0f8}(0.298,0.251,0.294), 40, -0.05mm, 1.0mm, 3.0mm, Gadfly.default_stroke_color, 0.3mm, Cropbox.var\"#603#612\"(), Gadfly.default_continuous_highlight_color, Gadfly.default_lowlight_color, Gadfly.default_middle_color, 0.6mm, :left, :square, nothing, nothing, nothing, :right, nothing, 2.0mm, 1000, 10.0, 0.5, 0.2, 1.0mm, 4, Gadfly.Scale.DiscreteColorScale(Gadfly.Scale.default_discrete_colors, nothing, nothing, true), Gadfly.Scale.ContinuousColorScale(Gadfly.Scale.var\"#73#77\"{Int64, Int64, Int64, Int64, Float64, Int64}(100, 40, 260, 10, 1.5, 70), Gadfly.Scale.ContinuousScaleTransform(identity, identity, Gadfly.Scale.identity_formatter), nothing, nothing)), Dict{Symbol, Any}()))], Dict{Symbol, Any}(:style => Dict(\"display\" => \"flex\", \"flex-direction\" => \"column\")))"
      ]
     },
     "execution_count": 12,
     "metadata": {
      "@webio": {
       "kernelId": "8436a56f-e476-4e97-9154-247f9c1a8fbe"
      }
     },
     "output_type": "execute_result"
    }
   ],
   "source": [
    "manipulate(ModelC3BB, :RH, :gs;\n",
    "        parameters = (\n",
    "    :Weather      => :PFD   => 0:100:2000,\n",
    "    :Weather      => :T_air   => 0:1:50,        \n",
    "    :Nitrogen     => :N       => 0:0.1:4,  \n",
    "    :StomataTuzet => :WP_leaf => -3:0.1:0,        \n",
    "        ),\n",
    "    config = ge_C3base,\n",
    "    xstep = Weather => :RH => 0:5:100,\n",
    "    group = CO2_group,\n",
    "    xlim = (0, 100),\n",
    "    ylim = (0,1),\n",
    "    kind = :line,\n",
    ")"
   ]
  },
  {
   "cell_type": "markdown",
   "metadata": {},
   "source": [
    "## Stomatal conductance ($g_s$) response to soil water potential"
   ]
  },
  {
   "cell_type": "code",
   "execution_count": 13,
   "metadata": {
    "jupyter": {
     "source_hidden": true
    },
    "tags": []
   },
   "outputs": [
    {
     "data": {
      "application/vnd.webio.node+json": {
       "children": [
        {
         "children": [
          "Weather"
         ],
         "instanceArgs": {
          "namespace": "html",
          "tag": "div"
         },
         "nodeType": "DOM",
         "props": {
          "style": {
           "color": "rebeccapurple",
           "font-family": "monospace"
          }
         },
         "type": "node"
        },
        {
         "children": [
          {
           "children": [
            {
             "children": [
              {
               "children": [
                {
                 "children": [
                  "RH (%)"
                 ],
                 "instanceArgs": {
                  "namespace": "html",
                  "tag": "label"
                 },
                 "nodeType": "DOM",
                 "props": {
                  "className": "interact ",
                  "style": {
                   "color": "royalblue",
                   "padding": "5px 10px 0px 10px",
                   "white-space": "nowrap"
                  }
                 },
                 "type": "node"
                }
               ],
               "instanceArgs": {
                "namespace": "html",
                "tag": "div"
               },
               "nodeType": "DOM",
               "props": {
                "className": "interact-flex-row-left"
               },
               "type": "node"
              },
              {
               "children": [
                {
                 "children": [],
                 "instanceArgs": {
                  "namespace": "html",
                  "tag": "input"
                 },
                 "nodeType": "DOM",
                 "props": {
                  "attributes": {
                   "data-bind": "numericValue: index, valueUpdate: 'input', event: {change: function (){this.changes(this.changes()+1)}}",
                   "orient": "horizontal",
                   "type": "range"
                  },
                  "className": "slider slider is-fullwidth",
                  "max": 21,
                  "min": 1,
                  "step": 1,
                  "style": {}
                 },
                 "type": "node"
                }
               ],
               "instanceArgs": {
                "namespace": "html",
                "tag": "div"
               },
               "nodeType": "DOM",
               "props": {
                "className": "interact-flex-row-center"
               },
               "type": "node"
              },
              {
               "children": [
                {
                 "children": [],
                 "instanceArgs": {
                  "namespace": "html",
                  "tag": "p"
                 },
                 "nodeType": "DOM",
                 "props": {
                  "attributes": {
                   "data-bind": "text: formatted_val"
                  }
                 },
                 "type": "node"
                }
               ],
               "instanceArgs": {
                "namespace": "html",
                "tag": "div"
               },
               "nodeType": "DOM",
               "props": {
                "className": "interact-flex-row-right"
               },
               "type": "node"
              }
             ],
             "instanceArgs": {
              "namespace": "html",
              "tag": "div"
             },
             "nodeType": "DOM",
             "props": {
              "className": "interact-flex-row interact-widget",
              "style": {
               "font-family": "monospace",
               "width": "80%"
              }
             },
             "type": "node"
            }
           ],
           "instanceArgs": {
            "handlers": {
             "changes": [
              "(function (val){return (val!=this.model[\"changes\"]()) ? (this.valueFromJulia[\"changes\"]=true, this.model[\"changes\"](val)) : undefined})"
             ],
             "index": [
              "(function (val){return (val!=this.model[\"index\"]()) ? (this.valueFromJulia[\"index\"]=true, this.model[\"index\"](val)) : undefined})"
             ]
            },
            "id": "17474763117178411739",
            "imports": {
             "data": [
              {
               "name": "knockout",
               "type": "js",
               "url": "/assetserver/c0689c4f2514def856941022372b529b3413f129-knockout.js"
              },
              {
               "name": "knockout_punches",
               "type": "js",
               "url": "/assetserver/69274bc4b68b761587a57ff3f5e787f3dd4781dc-knockout_punches.js"
              },
              {
               "name": null,
               "type": "js",
               "url": "/assetserver/096b68745a0180096d3bd812a95825d387626124-all.js"
              },
              {
               "name": null,
               "type": "css",
               "url": "/assetserver/d8822751ac3a06d244eead91a737222f90bb9e0b-style.css"
              },
              {
               "name": null,
               "type": "css",
               "url": "/assetserver/792d9982ee796e4da6422248c42eb77a0d83e61e-bulma_confined.min.css"
              }
             ],
             "type": "async_block"
            },
            "mount_callbacks": [
             "function () {\n    var handler = (function (ko, koPunches) {\n    ko.punches.enableAll();\n    ko.bindingHandlers.numericValue = {\n        init: function(element, valueAccessor, allBindings, data, context) {\n            var stringified = ko.observable(ko.unwrap(valueAccessor()));\n            stringified.subscribe(function(value) {\n                var val = parseFloat(value);\n                if (!isNaN(val)) {\n                    valueAccessor()(val);\n                }\n            });\n            valueAccessor().subscribe(function(value) {\n                var str = JSON.stringify(value);\n                if ((str == \"0\") && ([\"-0\", \"-0.\"].indexOf(stringified()) >= 0))\n                     return;\n                 if ([\"null\", \"\"].indexOf(str) >= 0)\n                     return;\n                stringified(str);\n            });\n            ko.applyBindingsToNode(\n                element,\n                {\n                    value: stringified,\n                    valueUpdate: allBindings.get('valueUpdate'),\n                },\n                context,\n            );\n        }\n    };\n    var json_data = {\"formatted_vals\":[\"0\",\"5\",\"10\",\"15\",\"20\",\"25\",\"30\",\"35\",\"40\",\"45\",\"50\",\"55\",\"60\",\"65\",\"70\",\"75\",\"80\",\"85\",\"90\",\"95\",\"100\"],\"changes\":WebIO.getval({\"name\":\"changes\",\"scope\":\"17474763117178411739\",\"id\":\"5599820653279307988\",\"type\":\"observable\"}),\"index\":WebIO.getval({\"name\":\"index\",\"scope\":\"17474763117178411739\",\"id\":\"12572838546360384483\",\"type\":\"observable\"})};\n    var self = this;\n    function AppViewModel() {\n        for (var key in json_data) {\n            var el = json_data[key];\n            this[key] = Array.isArray(el) ? ko.observableArray(el) : ko.observable(el);\n        }\n        \n        [this[\"formatted_val\"]=ko.computed(    function(){\n        return this.formatted_vals()[parseInt(this.index())-(1)];\n    }\n,this)]\n        [this[\"changes\"].subscribe((function (val){!(this.valueFromJulia[\"changes\"]) ? (WebIO.setval({\"name\":\"changes\",\"scope\":\"17474763117178411739\",\"id\":\"5599820653279307988\",\"type\":\"observable\"},val)) : undefined; return this.valueFromJulia[\"changes\"]=false}),self),this[\"index\"].subscribe((function (val){!(this.valueFromJulia[\"index\"]) ? (WebIO.setval({\"name\":\"index\",\"scope\":\"17474763117178411739\",\"id\":\"12572838546360384483\",\"type\":\"observable\"},val)) : undefined; return this.valueFromJulia[\"index\"]=false}),self)]\n        \n    }\n    self.model = new AppViewModel();\n    self.valueFromJulia = {};\n    for (var key in json_data) {\n        self.valueFromJulia[key] = false;\n    }\n    ko.applyBindings(self.model, self.dom);\n}\n);\n    (WebIO.importBlock({\"data\":[{\"name\":\"knockout\",\"type\":\"js\",\"url\":\"/assetserver/c0689c4f2514def856941022372b529b3413f129-knockout.js\"},{\"name\":\"knockout_punches\",\"type\":\"js\",\"url\":\"/assetserver/69274bc4b68b761587a57ff3f5e787f3dd4781dc-knockout_punches.js\"}],\"type\":\"async_block\"})).then((imports) => handler.apply(this, imports));\n}\n"
            ],
            "observables": {
             "changes": {
              "id": "5599820653279307988",
              "sync": true,
              "value": 0
             },
             "index": {
              "id": "12572838546360384483",
              "sync": true,
              "value": 13
             }
            },
            "systemjs_options": null
           },
           "nodeType": "Scope",
           "props": {},
           "type": "node"
          }
         ],
         "instanceArgs": {
          "namespace": "html",
          "tag": "div"
         },
         "nodeType": "DOM",
         "props": {
          "className": "field interact-widget"
         },
         "type": "node"
        },
        {
         "children": [
          {
           "children": [
            {
             "children": [
              {
               "children": [
                {
                 "children": [
                  "PFD (μmol m⁻² s⁻¹)"
                 ],
                 "instanceArgs": {
                  "namespace": "html",
                  "tag": "label"
                 },
                 "nodeType": "DOM",
                 "props": {
                  "className": "interact ",
                  "style": {
                   "color": "royalblue",
                   "padding": "5px 10px 0px 10px",
                   "white-space": "nowrap"
                  }
                 },
                 "type": "node"
                }
               ],
               "instanceArgs": {
                "namespace": "html",
                "tag": "div"
               },
               "nodeType": "DOM",
               "props": {
                "className": "interact-flex-row-left"
               },
               "type": "node"
              },
              {
               "children": [
                {
                 "children": [],
                 "instanceArgs": {
                  "namespace": "html",
                  "tag": "input"
                 },
                 "nodeType": "DOM",
                 "props": {
                  "attributes": {
                   "data-bind": "numericValue: index, valueUpdate: 'input', event: {change: function (){this.changes(this.changes()+1)}}",
                   "orient": "horizontal",
                   "type": "range"
                  },
                  "className": "slider slider is-fullwidth",
                  "max": 21,
                  "min": 1,
                  "step": 1,
                  "style": {}
                 },
                 "type": "node"
                }
               ],
               "instanceArgs": {
                "namespace": "html",
                "tag": "div"
               },
               "nodeType": "DOM",
               "props": {
                "className": "interact-flex-row-center"
               },
               "type": "node"
              },
              {
               "children": [
                {
                 "children": [],
                 "instanceArgs": {
                  "namespace": "html",
                  "tag": "p"
                 },
                 "nodeType": "DOM",
                 "props": {
                  "attributes": {
                   "data-bind": "text: formatted_val"
                  }
                 },
                 "type": "node"
                }
               ],
               "instanceArgs": {
                "namespace": "html",
                "tag": "div"
               },
               "nodeType": "DOM",
               "props": {
                "className": "interact-flex-row-right"
               },
               "type": "node"
              }
             ],
             "instanceArgs": {
              "namespace": "html",
              "tag": "div"
             },
             "nodeType": "DOM",
             "props": {
              "className": "interact-flex-row interact-widget",
              "style": {
               "font-family": "monospace",
               "width": "80%"
              }
             },
             "type": "node"
            }
           ],
           "instanceArgs": {
            "handlers": {
             "changes": [
              "(function (val){return (val!=this.model[\"changes\"]()) ? (this.valueFromJulia[\"changes\"]=true, this.model[\"changes\"](val)) : undefined})"
             ],
             "index": [
              "(function (val){return (val!=this.model[\"index\"]()) ? (this.valueFromJulia[\"index\"]=true, this.model[\"index\"](val)) : undefined})"
             ]
            },
            "id": "4517034604475182614",
            "imports": {
             "data": [
              {
               "name": "knockout",
               "type": "js",
               "url": "/assetserver/c0689c4f2514def856941022372b529b3413f129-knockout.js"
              },
              {
               "name": "knockout_punches",
               "type": "js",
               "url": "/assetserver/69274bc4b68b761587a57ff3f5e787f3dd4781dc-knockout_punches.js"
              },
              {
               "name": null,
               "type": "js",
               "url": "/assetserver/096b68745a0180096d3bd812a95825d387626124-all.js"
              },
              {
               "name": null,
               "type": "css",
               "url": "/assetserver/d8822751ac3a06d244eead91a737222f90bb9e0b-style.css"
              },
              {
               "name": null,
               "type": "css",
               "url": "/assetserver/792d9982ee796e4da6422248c42eb77a0d83e61e-bulma_confined.min.css"
              }
             ],
             "type": "async_block"
            },
            "mount_callbacks": [
             "function () {\n    var handler = (function (ko, koPunches) {\n    ko.punches.enableAll();\n    ko.bindingHandlers.numericValue = {\n        init: function(element, valueAccessor, allBindings, data, context) {\n            var stringified = ko.observable(ko.unwrap(valueAccessor()));\n            stringified.subscribe(function(value) {\n                var val = parseFloat(value);\n                if (!isNaN(val)) {\n                    valueAccessor()(val);\n                }\n            });\n            valueAccessor().subscribe(function(value) {\n                var str = JSON.stringify(value);\n                if ((str == \"0\") && ([\"-0\", \"-0.\"].indexOf(stringified()) >= 0))\n                     return;\n                 if ([\"null\", \"\"].indexOf(str) >= 0)\n                     return;\n                stringified(str);\n            });\n            ko.applyBindingsToNode(\n                element,\n                {\n                    value: stringified,\n                    valueUpdate: allBindings.get('valueUpdate'),\n                },\n                context,\n            );\n        }\n    };\n    var json_data = {\"formatted_vals\":[\"0\",\"100\",\"200\",\"300\",\"400\",\"500\",\"600\",\"700\",\"800\",\"900\",\"1000\",\"1100\",\"1200\",\"1300\",\"1400\",\"1500\",\"1600\",\"1700\",\"1800\",\"1900\",\"2000\"],\"changes\":WebIO.getval({\"name\":\"changes\",\"scope\":\"4517034604475182614\",\"id\":\"7465882054751437838\",\"type\":\"observable\"}),\"index\":WebIO.getval({\"name\":\"index\",\"scope\":\"4517034604475182614\",\"id\":\"11955001154729238872\",\"type\":\"observable\"})};\n    var self = this;\n    function AppViewModel() {\n        for (var key in json_data) {\n            var el = json_data[key];\n            this[key] = Array.isArray(el) ? ko.observableArray(el) : ko.observable(el);\n        }\n        \n        [this[\"formatted_val\"]=ko.computed(    function(){\n        return this.formatted_vals()[parseInt(this.index())-(1)];\n    }\n,this)]\n        [this[\"changes\"].subscribe((function (val){!(this.valueFromJulia[\"changes\"]) ? (WebIO.setval({\"name\":\"changes\",\"scope\":\"4517034604475182614\",\"id\":\"7465882054751437838\",\"type\":\"observable\"},val)) : undefined; return this.valueFromJulia[\"changes\"]=false}),self),this[\"index\"].subscribe((function (val){!(this.valueFromJulia[\"index\"]) ? (WebIO.setval({\"name\":\"index\",\"scope\":\"4517034604475182614\",\"id\":\"11955001154729238872\",\"type\":\"observable\"},val)) : undefined; return this.valueFromJulia[\"index\"]=false}),self)]\n        \n    }\n    self.model = new AppViewModel();\n    self.valueFromJulia = {};\n    for (var key in json_data) {\n        self.valueFromJulia[key] = false;\n    }\n    ko.applyBindings(self.model, self.dom);\n}\n);\n    (WebIO.importBlock({\"data\":[{\"name\":\"knockout\",\"type\":\"js\",\"url\":\"/assetserver/c0689c4f2514def856941022372b529b3413f129-knockout.js\"},{\"name\":\"knockout_punches\",\"type\":\"js\",\"url\":\"/assetserver/69274bc4b68b761587a57ff3f5e787f3dd4781dc-knockout_punches.js\"}],\"type\":\"async_block\"})).then((imports) => handler.apply(this, imports));\n}\n"
            ],
            "observables": {
             "changes": {
              "id": "7465882054751437838",
              "sync": true,
              "value": 0
             },
             "index": {
              "id": "11955001154729238872",
              "sync": true,
              "value": 16
             }
            },
            "systemjs_options": null
           },
           "nodeType": "Scope",
           "props": {},
           "type": "node"
          }
         ],
         "instanceArgs": {
          "namespace": "html",
          "tag": "div"
         },
         "nodeType": "DOM",
         "props": {
          "className": "field interact-widget"
         },
         "type": "node"
        },
        {
         "children": [
          {
           "children": [
            {
             "children": [
              {
               "children": [
                {
                 "children": [
                  "T_air (°C)"
                 ],
                 "instanceArgs": {
                  "namespace": "html",
                  "tag": "label"
                 },
                 "nodeType": "DOM",
                 "props": {
                  "className": "interact ",
                  "style": {
                   "color": "royalblue",
                   "padding": "5px 10px 0px 10px",
                   "white-space": "nowrap"
                  }
                 },
                 "type": "node"
                }
               ],
               "instanceArgs": {
                "namespace": "html",
                "tag": "div"
               },
               "nodeType": "DOM",
               "props": {
                "className": "interact-flex-row-left"
               },
               "type": "node"
              },
              {
               "children": [
                {
                 "children": [],
                 "instanceArgs": {
                  "namespace": "html",
                  "tag": "input"
                 },
                 "nodeType": "DOM",
                 "props": {
                  "attributes": {
                   "data-bind": "numericValue: index, valueUpdate: 'input', event: {change: function (){this.changes(this.changes()+1)}}",
                   "orient": "horizontal",
                   "type": "range"
                  },
                  "className": "slider slider is-fullwidth",
                  "max": 51,
                  "min": 1,
                  "step": 1,
                  "style": {}
                 },
                 "type": "node"
                }
               ],
               "instanceArgs": {
                "namespace": "html",
                "tag": "div"
               },
               "nodeType": "DOM",
               "props": {
                "className": "interact-flex-row-center"
               },
               "type": "node"
              },
              {
               "children": [
                {
                 "children": [],
                 "instanceArgs": {
                  "namespace": "html",
                  "tag": "p"
                 },
                 "nodeType": "DOM",
                 "props": {
                  "attributes": {
                   "data-bind": "text: formatted_val"
                  }
                 },
                 "type": "node"
                }
               ],
               "instanceArgs": {
                "namespace": "html",
                "tag": "div"
               },
               "nodeType": "DOM",
               "props": {
                "className": "interact-flex-row-right"
               },
               "type": "node"
              }
             ],
             "instanceArgs": {
              "namespace": "html",
              "tag": "div"
             },
             "nodeType": "DOM",
             "props": {
              "className": "interact-flex-row interact-widget",
              "style": {
               "font-family": "monospace",
               "width": "80%"
              }
             },
             "type": "node"
            }
           ],
           "instanceArgs": {
            "handlers": {
             "changes": [
              "(function (val){return (val!=this.model[\"changes\"]()) ? (this.valueFromJulia[\"changes\"]=true, this.model[\"changes\"](val)) : undefined})"
             ],
             "index": [
              "(function (val){return (val!=this.model[\"index\"]()) ? (this.valueFromJulia[\"index\"]=true, this.model[\"index\"](val)) : undefined})"
             ]
            },
            "id": "9442539662729636859",
            "imports": {
             "data": [
              {
               "name": "knockout",
               "type": "js",
               "url": "/assetserver/c0689c4f2514def856941022372b529b3413f129-knockout.js"
              },
              {
               "name": "knockout_punches",
               "type": "js",
               "url": "/assetserver/69274bc4b68b761587a57ff3f5e787f3dd4781dc-knockout_punches.js"
              },
              {
               "name": null,
               "type": "js",
               "url": "/assetserver/096b68745a0180096d3bd812a95825d387626124-all.js"
              },
              {
               "name": null,
               "type": "css",
               "url": "/assetserver/d8822751ac3a06d244eead91a737222f90bb9e0b-style.css"
              },
              {
               "name": null,
               "type": "css",
               "url": "/assetserver/792d9982ee796e4da6422248c42eb77a0d83e61e-bulma_confined.min.css"
              }
             ],
             "type": "async_block"
            },
            "mount_callbacks": [
             "function () {\n    var handler = (function (ko, koPunches) {\n    ko.punches.enableAll();\n    ko.bindingHandlers.numericValue = {\n        init: function(element, valueAccessor, allBindings, data, context) {\n            var stringified = ko.observable(ko.unwrap(valueAccessor()));\n            stringified.subscribe(function(value) {\n                var val = parseFloat(value);\n                if (!isNaN(val)) {\n                    valueAccessor()(val);\n                }\n            });\n            valueAccessor().subscribe(function(value) {\n                var str = JSON.stringify(value);\n                if ((str == \"0\") && ([\"-0\", \"-0.\"].indexOf(stringified()) >= 0))\n                     return;\n                 if ([\"null\", \"\"].indexOf(str) >= 0)\n                     return;\n                stringified(str);\n            });\n            ko.applyBindingsToNode(\n                element,\n                {\n                    value: stringified,\n                    valueUpdate: allBindings.get('valueUpdate'),\n                },\n                context,\n            );\n        }\n    };\n    var json_data = {\"formatted_vals\":[\"0\",\"1\",\"2\",\"3\",\"4\",\"5\",\"6\",\"7\",\"8\",\"9\",\"10\",\"11\",\"12\",\"13\",\"14\",\"15\",\"16\",\"17\",\"18\",\"19\",\"20\",\"21\",\"22\",\"23\",\"24\",\"25\",\"26\",\"27\",\"28\",\"29\",\"30\",\"31\",\"32\",\"33\",\"34\",\"35\",\"36\",\"37\",\"38\",\"39\",\"40\",\"41\",\"42\",\"43\",\"44\",\"45\",\"46\",\"47\",\"48\",\"49\",\"50\"],\"changes\":WebIO.getval({\"name\":\"changes\",\"scope\":\"9442539662729636859\",\"id\":\"14655695854634784498\",\"type\":\"observable\"}),\"index\":WebIO.getval({\"name\":\"index\",\"scope\":\"9442539662729636859\",\"id\":\"2597535847221651949\",\"type\":\"observable\"})};\n    var self = this;\n    function AppViewModel() {\n        for (var key in json_data) {\n            var el = json_data[key];\n            this[key] = Array.isArray(el) ? ko.observableArray(el) : ko.observable(el);\n        }\n        \n        [this[\"formatted_val\"]=ko.computed(    function(){\n        return this.formatted_vals()[parseInt(this.index())-(1)];\n    }\n,this)]\n        [this[\"changes\"].subscribe((function (val){!(this.valueFromJulia[\"changes\"]) ? (WebIO.setval({\"name\":\"changes\",\"scope\":\"9442539662729636859\",\"id\":\"14655695854634784498\",\"type\":\"observable\"},val)) : undefined; return this.valueFromJulia[\"changes\"]=false}),self),this[\"index\"].subscribe((function (val){!(this.valueFromJulia[\"index\"]) ? (WebIO.setval({\"name\":\"index\",\"scope\":\"9442539662729636859\",\"id\":\"2597535847221651949\",\"type\":\"observable\"},val)) : undefined; return this.valueFromJulia[\"index\"]=false}),self)]\n        \n    }\n    self.model = new AppViewModel();\n    self.valueFromJulia = {};\n    for (var key in json_data) {\n        self.valueFromJulia[key] = false;\n    }\n    ko.applyBindings(self.model, self.dom);\n}\n);\n    (WebIO.importBlock({\"data\":[{\"name\":\"knockout\",\"type\":\"js\",\"url\":\"/assetserver/c0689c4f2514def856941022372b529b3413f129-knockout.js\"},{\"name\":\"knockout_punches\",\"type\":\"js\",\"url\":\"/assetserver/69274bc4b68b761587a57ff3f5e787f3dd4781dc-knockout_punches.js\"}],\"type\":\"async_block\"})).then((imports) => handler.apply(this, imports));\n}\n"
            ],
            "observables": {
             "changes": {
              "id": "14655695854634784498",
              "sync": true,
              "value": 0
             },
             "index": {
              "id": "2597535847221651949",
              "sync": true,
              "value": 26
             }
            },
            "systemjs_options": null
           },
           "nodeType": "Scope",
           "props": {},
           "type": "node"
          }
         ],
         "instanceArgs": {
          "namespace": "html",
          "tag": "div"
         },
         "nodeType": "DOM",
         "props": {
          "className": "field interact-widget"
         },
         "type": "node"
        },
        {
         "children": [
          "Nitrogen"
         ],
         "instanceArgs": {
          "namespace": "html",
          "tag": "div"
         },
         "nodeType": "DOM",
         "props": {
          "style": {
           "color": "rebeccapurple",
           "font-family": "monospace"
          }
         },
         "type": "node"
        },
        {
         "children": [
          {
           "children": [
            {
             "children": [
              {
               "children": [
                {
                 "children": [
                  "N"
                 ],
                 "instanceArgs": {
                  "namespace": "html",
                  "tag": "label"
                 },
                 "nodeType": "DOM",
                 "props": {
                  "className": "interact ",
                  "style": {
                   "color": "royalblue",
                   "padding": "5px 10px 0px 10px",
                   "white-space": "nowrap"
                  }
                 },
                 "type": "node"
                }
               ],
               "instanceArgs": {
                "namespace": "html",
                "tag": "div"
               },
               "nodeType": "DOM",
               "props": {
                "className": "interact-flex-row-left"
               },
               "type": "node"
              },
              {
               "children": [
                {
                 "children": [],
                 "instanceArgs": {
                  "namespace": "html",
                  "tag": "input"
                 },
                 "nodeType": "DOM",
                 "props": {
                  "attributes": {
                   "data-bind": "numericValue: index, valueUpdate: 'input', event: {change: function (){this.changes(this.changes()+1)}}",
                   "orient": "horizontal",
                   "type": "range"
                  },
                  "className": "slider slider is-fullwidth",
                  "max": 41,
                  "min": 1,
                  "step": 1,
                  "style": {}
                 },
                 "type": "node"
                }
               ],
               "instanceArgs": {
                "namespace": "html",
                "tag": "div"
               },
               "nodeType": "DOM",
               "props": {
                "className": "interact-flex-row-center"
               },
               "type": "node"
              },
              {
               "children": [
                {
                 "children": [],
                 "instanceArgs": {
                  "namespace": "html",
                  "tag": "p"
                 },
                 "nodeType": "DOM",
                 "props": {
                  "attributes": {
                   "data-bind": "text: formatted_val"
                  }
                 },
                 "type": "node"
                }
               ],
               "instanceArgs": {
                "namespace": "html",
                "tag": "div"
               },
               "nodeType": "DOM",
               "props": {
                "className": "interact-flex-row-right"
               },
               "type": "node"
              }
             ],
             "instanceArgs": {
              "namespace": "html",
              "tag": "div"
             },
             "nodeType": "DOM",
             "props": {
              "className": "interact-flex-row interact-widget",
              "style": {
               "font-family": "monospace",
               "width": "80%"
              }
             },
             "type": "node"
            }
           ],
           "instanceArgs": {
            "handlers": {
             "changes": [
              "(function (val){return (val!=this.model[\"changes\"]()) ? (this.valueFromJulia[\"changes\"]=true, this.model[\"changes\"](val)) : undefined})"
             ],
             "index": [
              "(function (val){return (val!=this.model[\"index\"]()) ? (this.valueFromJulia[\"index\"]=true, this.model[\"index\"](val)) : undefined})"
             ]
            },
            "id": "14594871242597144354",
            "imports": {
             "data": [
              {
               "name": "knockout",
               "type": "js",
               "url": "/assetserver/c0689c4f2514def856941022372b529b3413f129-knockout.js"
              },
              {
               "name": "knockout_punches",
               "type": "js",
               "url": "/assetserver/69274bc4b68b761587a57ff3f5e787f3dd4781dc-knockout_punches.js"
              },
              {
               "name": null,
               "type": "js",
               "url": "/assetserver/096b68745a0180096d3bd812a95825d387626124-all.js"
              },
              {
               "name": null,
               "type": "css",
               "url": "/assetserver/d8822751ac3a06d244eead91a737222f90bb9e0b-style.css"
              },
              {
               "name": null,
               "type": "css",
               "url": "/assetserver/792d9982ee796e4da6422248c42eb77a0d83e61e-bulma_confined.min.css"
              }
             ],
             "type": "async_block"
            },
            "mount_callbacks": [
             "function () {\n    var handler = (function (ko, koPunches) {\n    ko.punches.enableAll();\n    ko.bindingHandlers.numericValue = {\n        init: function(element, valueAccessor, allBindings, data, context) {\n            var stringified = ko.observable(ko.unwrap(valueAccessor()));\n            stringified.subscribe(function(value) {\n                var val = parseFloat(value);\n                if (!isNaN(val)) {\n                    valueAccessor()(val);\n                }\n            });\n            valueAccessor().subscribe(function(value) {\n                var str = JSON.stringify(value);\n                if ((str == \"0\") && ([\"-0\", \"-0.\"].indexOf(stringified()) >= 0))\n                     return;\n                 if ([\"null\", \"\"].indexOf(str) >= 0)\n                     return;\n                stringified(str);\n            });\n            ko.applyBindingsToNode(\n                element,\n                {\n                    value: stringified,\n                    valueUpdate: allBindings.get('valueUpdate'),\n                },\n                context,\n            );\n        }\n    };\n    var json_data = {\"formatted_vals\":[\"0.0\",\"0.1\",\"0.2\",\"0.3\",\"0.4\",\"0.5\",\"0.6\",\"0.7\",\"0.8\",\"0.9\",\"1.0\",\"1.1\",\"1.2\",\"1.3\",\"1.4\",\"1.5\",\"1.6\",\"1.7\",\"1.8\",\"1.9\",\"2.0\",\"2.1\",\"2.2\",\"2.3\",\"2.4\",\"2.5\",\"2.6\",\"2.7\",\"2.8\",\"2.9\",\"3.0\",\"3.1\",\"3.2\",\"3.3\",\"3.4\",\"3.5\",\"3.6\",\"3.7\",\"3.8\",\"3.9\",\"4.0\"],\"changes\":WebIO.getval({\"name\":\"changes\",\"scope\":\"14594871242597144354\",\"id\":\"4370177567468346306\",\"type\":\"observable\"}),\"index\":WebIO.getval({\"name\":\"index\",\"scope\":\"14594871242597144354\",\"id\":\"16440233798925792654\",\"type\":\"observable\"})};\n    var self = this;\n    function AppViewModel() {\n        for (var key in json_data) {\n            var el = json_data[key];\n            this[key] = Array.isArray(el) ? ko.observableArray(el) : ko.observable(el);\n        }\n        \n        [this[\"formatted_val\"]=ko.computed(    function(){\n        return this.formatted_vals()[parseInt(this.index())-(1)];\n    }\n,this)]\n        [this[\"changes\"].subscribe((function (val){!(this.valueFromJulia[\"changes\"]) ? (WebIO.setval({\"name\":\"changes\",\"scope\":\"14594871242597144354\",\"id\":\"4370177567468346306\",\"type\":\"observable\"},val)) : undefined; return this.valueFromJulia[\"changes\"]=false}),self),this[\"index\"].subscribe((function (val){!(this.valueFromJulia[\"index\"]) ? (WebIO.setval({\"name\":\"index\",\"scope\":\"14594871242597144354\",\"id\":\"16440233798925792654\",\"type\":\"observable\"},val)) : undefined; return this.valueFromJulia[\"index\"]=false}),self)]\n        \n    }\n    self.model = new AppViewModel();\n    self.valueFromJulia = {};\n    for (var key in json_data) {\n        self.valueFromJulia[key] = false;\n    }\n    ko.applyBindings(self.model, self.dom);\n}\n);\n    (WebIO.importBlock({\"data\":[{\"name\":\"knockout\",\"type\":\"js\",\"url\":\"/assetserver/c0689c4f2514def856941022372b529b3413f129-knockout.js\"},{\"name\":\"knockout_punches\",\"type\":\"js\",\"url\":\"/assetserver/69274bc4b68b761587a57ff3f5e787f3dd4781dc-knockout_punches.js\"}],\"type\":\"async_block\"})).then((imports) => handler.apply(this, imports));\n}\n"
            ],
            "observables": {
             "changes": {
              "id": "4370177567468346306",
              "sync": true,
              "value": 0
             },
             "index": {
              "id": "16440233798925792654",
              "sync": true,
              "value": 21
             }
            },
            "systemjs_options": null
           },
           "nodeType": "Scope",
           "props": {},
           "type": "node"
          }
         ],
         "instanceArgs": {
          "namespace": "html",
          "tag": "div"
         },
         "nodeType": "DOM",
         "props": {
          "className": "field interact-widget"
         },
         "type": "node"
        },
        {
         "children": [
          {
           "children": [],
           "instanceArgs": {
            "namespace": "html",
            "tag": "div"
           },
           "nodeType": "DOM",
           "props": {
            "className": "webio-observable",
            "setInnerHtml": "<?xml version=\"1.0\" encoding=\"UTF-8\"?>\n<svg xmlns=\"http://www.w3.org/2000/svg\"\n     xmlns:xlink=\"http://www.w3.org/1999/xlink\"\n     xmlns:gadfly=\"http://www.gadflyjl.org/ns\"\n     version=\"1.2\"\n     width=\"141.42mm\" height=\"100mm\" viewBox=\"0 0 141.42 100\"\n     stroke=\"none\"\n     fill=\"#000000\"\n     stroke-width=\"0.3\"\n     font-size=\"3.88\"\n>\n<defs>\n  <marker id=\"arrow\" markerWidth=\"15\" markerHeight=\"7\" refX=\"5\" refY=\"3.5\" orient=\"auto\" markerUnits=\"strokeWidth\">\n    <path d=\"M0,0 L15,3.5 L0,7 z\" stroke=\"context-stroke\" fill=\"context-stroke\"/>\n  </marker>\n</defs>\n<g stroke=\"#000000\" stroke-opacity=\"0.000\" fill=\"#FFFFFF\" id=\"img-6abe81b4-1\">\n  <g transform=\"translate(70.71,50)\">\n    <path d=\"M-70.71,-50 L70.71,-50 70.71,50 -70.71,50  z\" class=\"primitive\"/>\n  </g>\n</g>\n<g class=\"plotroot xscalable yscalable\" id=\"img-6abe81b4-2\">\n  <g font-size=\"3.53\" font-family=\"'PT Sans','Helvetica Neue','Helvetica',sans-serif\" fill=\"#564A55\" stroke=\"#000000\" stroke-opacity=\"0.000\" id=\"img-6abe81b4-3\">\n    <g transform=\"translate(63.47,93.72)\">\n      <g class=\"primitive\">\n        <text text-anchor=\"middle\" dy=\"0.6em\">WP_leaf (MPa)</text>\n      </g>\n    </g>\n  </g>\n  <g class=\"guide xlabels\" font-size=\"2.82\" font-family=\"'PT Sans Caption','Helvetica Neue','Helvetica',sans-serif\" fill=\"#6C606B\" id=\"img-6abe81b4-4\">\n    <g transform=\"translate(20.3,87.04)\">\n      <g class=\"primitive\">\n        <text text-anchor=\"middle\" dy=\"0.6em\">-5</text>\n      </g>\n    </g>\n    <g transform=\"translate(37.57,87.04)\">\n      <g class=\"primitive\">\n        <text text-anchor=\"middle\" dy=\"0.6em\">-4</text>\n      </g>\n    </g>\n    <g transform=\"translate(54.84,87.04)\">\n      <g class=\"primitive\">\n        <text text-anchor=\"middle\" dy=\"0.6em\">-3</text>\n      </g>\n    </g>\n    <g transform=\"translate(72.11,87.04)\">\n      <g class=\"primitive\">\n        <text text-anchor=\"middle\" dy=\"0.6em\">-2</text>\n      </g>\n    </g>\n    <g transform=\"translate(89.37,87.04)\">\n      <g class=\"primitive\">\n        <text text-anchor=\"middle\" dy=\"0.6em\">-1</text>\n      </g>\n    </g>\n    <g transform=\"translate(106.64,87.04)\">\n      <g class=\"primitive\">\n        <text text-anchor=\"middle\" dy=\"0.6em\">0</text>\n      </g>\n    </g>\n  </g>\n  <g class=\"guide colorkey\" id=\"img-6abe81b4-5\">\n    <g fill=\"#4C404B\" font-size=\"2.82\" font-family=\"'PT Sans','Helvetica Neue','Helvetica',sans-serif\" id=\"img-6abe81b4-6\">\n      <g transform=\"translate(113.27,44.12)\" id=\"img-6abe81b4-7\">\n        <g class=\"primitive\">\n          <text dy=\"0.35em\">1000 μmol mol⁻¹</text>\n        </g>\n      </g>\n      <g transform=\"translate(113.27,47.75)\" id=\"img-6abe81b4-8\">\n        <g class=\"primitive\">\n          <text dy=\"0.35em\">400 μmol mol⁻¹</text>\n        </g>\n      </g>\n      <g transform=\"translate(113.27,51.38)\" id=\"img-6abe81b4-9\">\n        <g class=\"primitive\">\n          <text dy=\"0.35em\">250 μmol mol⁻¹</text>\n        </g>\n      </g>\n    </g>\n    <g stroke-width=\"0.3\" id=\"img-6abe81b4-10\">\n      <g stroke=\"#FFFFFF\" stroke-opacity=\"0.000\" fill-opacity=\"1\" fill=\"#FF6DAE\" id=\"img-6abe81b4-11\">\n        <g transform=\"translate(110.45,51.38)\" id=\"img-6abe81b4-12\">\n          <circle cx=\"0\" cy=\"0\" r=\"0.7\" class=\"primitive\"/>\n        </g>\n      </g>\n      <g stroke=\"#FFFFFF\" stroke-opacity=\"0.000\" fill-opacity=\"1\" fill=\"#D4CA3A\" id=\"img-6abe81b4-13\">\n        <g transform=\"translate(110.45,47.75)\" id=\"img-6abe81b4-14\">\n          <circle cx=\"0\" cy=\"0\" r=\"0.7\" class=\"primitive\"/>\n        </g>\n      </g>\n      <g stroke=\"#FFFFFF\" stroke-opacity=\"0.000\" fill-opacity=\"1\" fill=\"#00BFFF\" id=\"img-6abe81b4-15\">\n        <g transform=\"translate(110.45,44.12)\" id=\"img-6abe81b4-16\">\n          <circle cx=\"0\" cy=\"0\" r=\"0.7\" class=\"primitive\"/>\n        </g>\n      </g>\n    </g>\n    <g fill=\"#362A35\" font-size=\"3.18\" font-family=\"'PT Sans','Helvetica Neue','Helvetica',sans-serif\" stroke=\"#000000\" stroke-opacity=\"0.000\" id=\"img-6abe81b4-17\">\n      <g transform=\"translate(109.64,40.81)\" id=\"img-6abe81b4-18\">\n        <g class=\"primitive\">\n          <text dy=\"-0em\">CO2 (μmol mol⁻¹)</text>\n        </g>\n      </g>\n    </g>\n  </g>\n  <g clip-path=\"url(#img-6abe81b4-19)\">\n    <g id=\"img-6abe81b4-20\">\n      <g pointer-events=\"visible\" stroke-width=\"0.3\" fill=\"#000000\" fill-opacity=\"0.000\" stroke=\"#000000\" stroke-opacity=\"0.000\" class=\"guide background\" id=\"img-6abe81b4-21\">\n        <g transform=\"translate(63.47,45.52)\" id=\"img-6abe81b4-22\">\n          <path d=\"M-45.17,-40.52 L45.17,-40.52 45.17,40.52 -45.17,40.52  z\" class=\"primitive\"/>\n        </g>\n      </g>\n      <g class=\"guide ygridlines xfixed\" stroke-dasharray=\"0.5,0.5\" stroke-width=\"0.2\" stroke=\"#D0D0E0\" id=\"img-6abe81b4-23\">\n        <g transform=\"translate(63.47,84.04)\" id=\"img-6abe81b4-24\">\n          <path fill=\"none\" d=\"M-45.17,0 L45.17,0 \" class=\"primitive\"/>\n        </g>\n        <g transform=\"translate(63.47,45.52)\" id=\"img-6abe81b4-25\">\n          <path fill=\"none\" d=\"M-45.17,0 L45.17,0 \" class=\"primitive\"/>\n        </g>\n        <g transform=\"translate(63.47,7)\" id=\"img-6abe81b4-26\">\n          <path fill=\"none\" d=\"M-45.17,0 L45.17,0 \" class=\"primitive\"/>\n        </g>\n      </g>\n      <g class=\"guide xgridlines yfixed\" stroke-dasharray=\"0.5,0.5\" stroke-width=\"0.2\" stroke=\"#D0D0E0\" id=\"img-6abe81b4-27\">\n        <g transform=\"translate(20.3,45.52)\" id=\"img-6abe81b4-28\">\n          <path fill=\"none\" d=\"M0,-40.52 L0,40.52 \" class=\"primitive\"/>\n        </g>\n        <g transform=\"translate(37.57,45.52)\" id=\"img-6abe81b4-29\">\n          <path fill=\"none\" d=\"M0,-40.52 L0,40.52 \" class=\"primitive\"/>\n        </g>\n        <g transform=\"translate(54.84,45.52)\" id=\"img-6abe81b4-30\">\n          <path fill=\"none\" d=\"M0,-40.52 L0,40.52 \" class=\"primitive\"/>\n        </g>\n        <g transform=\"translate(72.11,45.52)\" id=\"img-6abe81b4-31\">\n          <path fill=\"none\" d=\"M0,-40.52 L0,40.52 \" class=\"primitive\"/>\n        </g>\n        <g transform=\"translate(89.37,45.52)\" id=\"img-6abe81b4-32\">\n          <path fill=\"none\" d=\"M0,-40.52 L0,40.52 \" class=\"primitive\"/>\n        </g>\n        <g transform=\"translate(106.64,45.52)\" id=\"img-6abe81b4-33\">\n          <path fill=\"none\" d=\"M0,-40.52 L0,40.52 \" class=\"primitive\"/>\n        </g>\n      </g>\n      <g class=\"plotpanel\" id=\"img-6abe81b4-34\">\n        <metadata>\n          <boundingbox value=\"18.303333333333327mm 5.0mm 90.33802290397618mm 81.04333333333334mm\"/>\n          <unitbox value=\"-5.115823824355138 1.0259594167784363 5.231647648710275 -1.0519188335568728\"/>\n        </metadata>\n        <g stroke-width=\"0.3\" fill=\"#000000\" fill-opacity=\"0.000\" class=\"geometry\" id=\"img-6abe81b4-35\">\n          <g class=\"color_LCHab{Float32}(70.0f0,60.0f0,240.0f0)\" stroke-dasharray=\"none\" stroke=\"#00BFFF\" id=\"img-6abe81b4-36\">\n            <g transform=\"translate(63.47,77.44)\" id=\"img-6abe81b4-37\">\n              <path fill=\"none\" d=\"M-43.17,5.83 L-41.44,5.83 -39.72,5.83 -37.99,5.83 -36.26,5.83 -34.54,5.83 -32.81,5.83 -31.08,5.82 -29.35,5.82 -27.63,5.82 -25.9,5.81 -24.17,5.8 -22.45,5.79 -20.72,5.78 -18.99,5.77 -17.27,5.75 -15.54,5.72 -13.81,5.69 -12.09,5.65 -10.36,5.59 -8.63,5.51 -6.91,5.4 -5.18,5.23 -3.45,4.98 -1.73,4.57 0,3.91 1.73,2.87 3.45,1.81 5.18,0.79 6.91,-0.23 8.63,-1.25 10.36,-2.25 12.09,-3.2 13.81,-4.11 15.54,-4.94 17.27,-5.7 18.99,-6.37 20.72,-6.95 22.45,-7.45 24.17,-7.88 25.9,-8.23 27.63,-8.53 29.35,-8.77 31.08,-8.97 32.81,-9.13 34.54,-9.26 36.26,-9.36 37.99,-9.44 39.72,-9.51 41.44,-9.57 43.17,-9.61 \" class=\"primitive\"/>\n            </g>\n          </g>\n        </g>\n        <g stroke-width=\"0.3\" fill=\"#000000\" fill-opacity=\"0.000\" class=\"geometry\" id=\"img-6abe81b4-38\">\n          <g class=\"color_LCHab{Float32}(80.0f0,70.000015f0,100.43479f0)\" stroke-dasharray=\"none\" stroke=\"#D4CA3A\" id=\"img-6abe81b4-39\">\n            <g transform=\"translate(63.47,72.21)\" id=\"img-6abe81b4-40\">\n              <path fill=\"none\" d=\"M-43.17,11.06 L-41.44,11.06 -39.72,11.06 -37.99,11.06 -36.26,11.06 -34.54,11.06 -32.81,11.06 -31.08,11.06 -29.35,11.05 -27.63,11.05 -25.9,11.04 -24.17,11.04 -22.45,11.03 -20.72,11.02 -18.99,11.01 -17.27,10.99 -15.54,10.97 -13.81,10.94 -12.09,10.9 -10.36,10.85 -8.63,10.78 -6.91,10.68 -5.18,10.55 -3.45,10.34 -1.73,10.02 0,9.5 1.73,8.62 3.45,7.23 5.18,5.28 6.91,2.93 8.63,0.36 10.36,-2.29 12.09,-4.92 13.81,-7.44 15.54,-9.68 17.27,-11.41 18.99,-12.94 20.72,-14.28 22.45,-15.42 24.17,-16.4 25.9,-17.21 27.63,-17.89 29.35,-18.44 31.08,-18.9 32.81,-19.27 34.54,-19.56 36.26,-19.81 37.99,-20 39.72,-20.15 41.44,-20.28 43.17,-20.38 \" class=\"primitive\"/>\n            </g>\n          </g>\n        </g>\n        <g stroke-width=\"0.3\" fill=\"#000000\" fill-opacity=\"0.000\" class=\"geometry\" id=\"img-6abe81b4-41\">\n          <g class=\"color_LCHab{Float32}(65.89944f0,62.21457f0,353.99814f0)\" stroke-dasharray=\"none\" stroke=\"#FF6DAE\" id=\"img-6abe81b4-42\">\n            <g transform=\"translate(63.47,72)\" id=\"img-6abe81b4-43\">\n              <path fill=\"none\" d=\"M-43.17,11.27 L-41.44,11.27 -39.72,11.27 -37.99,11.27 -36.26,11.27 -34.54,11.26 -32.81,11.26 -31.08,11.26 -29.35,11.26 -27.63,11.25 -25.9,11.25 -24.17,11.24 -22.45,11.24 -20.72,11.23 -18.99,11.22 -17.27,11.2 -15.54,11.18 -13.81,11.16 -12.09,11.12 -10.36,11.08 -8.63,11.02 -6.91,10.94 -5.18,10.83 -3.45,10.67 -1.73,10.42 0,10.04 1.73,9.41 3.45,8.37 5.18,6.79 6.91,4.68 8.63,2.22 10.36,-0.43 12.09,-3.11 13.81,-5.73 15.54,-8.2 17.27,-10.47 18.99,-12.51 20.72,-14.31 22.45,-15.86 24.17,-17.18 25.9,-18.29 27.63,-19.21 29.35,-19.98 31.08,-20.6 32.81,-21.11 34.54,-21.52 36.26,-21.85 37.99,-22.12 39.72,-22.33 41.44,-22.51 43.17,-22.64 \" class=\"primitive\"/>\n            </g>\n          </g>\n        </g>\n      </g>\n    </g>\n  </g>\n  <g class=\"guide ylabels\" font-size=\"2.82\" font-family=\"'PT Sans Caption','Helvetica Neue','Helvetica',sans-serif\" fill=\"#6C606B\" id=\"img-6abe81b4-44\">\n    <g transform=\"translate(17.3,84.04)\" id=\"img-6abe81b4-45\">\n      <g class=\"primitive\">\n        <text text-anchor=\"end\" dy=\"0.35em\">0.0</text>\n      </g>\n    </g>\n    <g transform=\"translate(17.3,45.52)\" id=\"img-6abe81b4-46\">\n      <g class=\"primitive\">\n        <text text-anchor=\"end\" dy=\"0.35em\">0.5</text>\n      </g>\n    </g>\n    <g transform=\"translate(17.3,7)\" id=\"img-6abe81b4-47\">\n      <g class=\"primitive\">\n        <text text-anchor=\"end\" dy=\"0.35em\">1.0</text>\n      </g>\n    </g>\n  </g>\n  <g font-size=\"3.53\" font-family=\"'PT Sans','Helvetica Neue','Helvetica',sans-serif\" fill=\"#564A55\" stroke=\"#000000\" stroke-opacity=\"0.000\" id=\"img-6abe81b4-48\">\n    <g transform=\"translate(8.64,43.52)\" id=\"img-6abe81b4-49\">\n      <g class=\"primitive\">\n        <text text-anchor=\"middle\" dy=\"0.35em\" transform=\"rotate(-90,0, 2)\">gs (mol bar⁻¹ m⁻² s⁻¹)</text>\n      </g>\n    </g>\n  </g>\n</g>\n<defs>\n  <clipPath id=\"img-6abe81b4-19\">\n    <path d=\"M18.3,5 L108.64,5 108.64,86.04 18.3,86.04 \" />\n  </clipPath>\n</defs>\n</svg>\n"
           },
           "type": "node"
          }
         ],
         "instanceArgs": {
          "handlers": {
           "obs-output": [
            "function (value, scope) {\n    scope.setInnerHTML(value);\n}\n"
           ]
          },
          "id": "9610718703917596177",
          "imports": {
           "data": [],
           "type": "async_block"
          },
          "mount_callbacks": [],
          "observables": {
           "obs-output": {
            "id": "12193432427907727678",
            "sync": false,
            "value": "<?xml version=\"1.0\" encoding=\"UTF-8\"?>\n<svg xmlns=\"http://www.w3.org/2000/svg\"\n     xmlns:xlink=\"http://www.w3.org/1999/xlink\"\n     xmlns:gadfly=\"http://www.gadflyjl.org/ns\"\n     version=\"1.2\"\n     width=\"141.42mm\" height=\"100mm\" viewBox=\"0 0 141.42 100\"\n     stroke=\"none\"\n     fill=\"#000000\"\n     stroke-width=\"0.3\"\n     font-size=\"3.88\"\n>\n<defs>\n  <marker id=\"arrow\" markerWidth=\"15\" markerHeight=\"7\" refX=\"5\" refY=\"3.5\" orient=\"auto\" markerUnits=\"strokeWidth\">\n    <path d=\"M0,0 L15,3.5 L0,7 z\" stroke=\"context-stroke\" fill=\"context-stroke\"/>\n  </marker>\n</defs>\n<g stroke=\"#000000\" stroke-opacity=\"0.000\" fill=\"#FFFFFF\" id=\"img-6abe81b4-1\">\n  <g transform=\"translate(70.71,50)\">\n    <path d=\"M-70.71,-50 L70.71,-50 70.71,50 -70.71,50  z\" class=\"primitive\"/>\n  </g>\n</g>\n<g class=\"plotroot xscalable yscalable\" id=\"img-6abe81b4-2\">\n  <g font-size=\"3.53\" font-family=\"'PT Sans','Helvetica Neue','Helvetica',sans-serif\" fill=\"#564A55\" stroke=\"#000000\" stroke-opacity=\"0.000\" id=\"img-6abe81b4-3\">\n    <g transform=\"translate(63.47,93.72)\">\n      <g class=\"primitive\">\n        <text text-anchor=\"middle\" dy=\"0.6em\">WP_leaf (MPa)</text>\n      </g>\n    </g>\n  </g>\n  <g class=\"guide xlabels\" font-size=\"2.82\" font-family=\"'PT Sans Caption','Helvetica Neue','Helvetica',sans-serif\" fill=\"#6C606B\" id=\"img-6abe81b4-4\">\n    <g transform=\"translate(20.3,87.04)\">\n      <g class=\"primitive\">\n        <text text-anchor=\"middle\" dy=\"0.6em\">-5</text>\n      </g>\n    </g>\n    <g transform=\"translate(37.57,87.04)\">\n      <g class=\"primitive\">\n        <text text-anchor=\"middle\" dy=\"0.6em\">-4</text>\n      </g>\n    </g>\n    <g transform=\"translate(54.84,87.04)\">\n      <g class=\"primitive\">\n        <text text-anchor=\"middle\" dy=\"0.6em\">-3</text>\n      </g>\n    </g>\n    <g transform=\"translate(72.11,87.04)\">\n      <g class=\"primitive\">\n        <text text-anchor=\"middle\" dy=\"0.6em\">-2</text>\n      </g>\n    </g>\n    <g transform=\"translate(89.37,87.04)\">\n      <g class=\"primitive\">\n        <text text-anchor=\"middle\" dy=\"0.6em\">-1</text>\n      </g>\n    </g>\n    <g transform=\"translate(106.64,87.04)\">\n      <g class=\"primitive\">\n        <text text-anchor=\"middle\" dy=\"0.6em\">0</text>\n      </g>\n    </g>\n  </g>\n  <g class=\"guide colorkey\" id=\"img-6abe81b4-5\">\n    <g fill=\"#4C404B\" font-size=\"2.82\" font-family=\"'PT Sans','Helvetica Neue','Helvetica',sans-serif\" id=\"img-6abe81b4-6\">\n      <g transform=\"translate(113.27,44.12)\" id=\"img-6abe81b4-7\">\n        <g class=\"primitive\">\n          <text dy=\"0.35em\">1000 μmol mol⁻¹</text>\n        </g>\n      </g>\n      <g transform=\"translate(113.27,47.75)\" id=\"img-6abe81b4-8\">\n        <g class=\"primitive\">\n          <text dy=\"0.35em\">400 μmol mol⁻¹</text>\n        </g>\n      </g>\n      <g transform=\"translate(113.27,51.38)\" id=\"img-6abe81b4-9\">\n        <g class=\"primitive\">\n          <text dy=\"0.35em\">250 μmol mol⁻¹</text>\n        </g>\n      </g>\n    </g>\n    <g stroke-width=\"0.3\" id=\"img-6abe81b4-10\">\n      <g stroke=\"#FFFFFF\" stroke-opacity=\"0.000\" fill-opacity=\"1\" fill=\"#FF6DAE\" id=\"img-6abe81b4-11\">\n        <g transform=\"translate(110.45,51.38)\" id=\"img-6abe81b4-12\">\n          <circle cx=\"0\" cy=\"0\" r=\"0.7\" class=\"primitive\"/>\n        </g>\n      </g>\n      <g stroke=\"#FFFFFF\" stroke-opacity=\"0.000\" fill-opacity=\"1\" fill=\"#D4CA3A\" id=\"img-6abe81b4-13\">\n        <g transform=\"translate(110.45,47.75)\" id=\"img-6abe81b4-14\">\n          <circle cx=\"0\" cy=\"0\" r=\"0.7\" class=\"primitive\"/>\n        </g>\n      </g>\n      <g stroke=\"#FFFFFF\" stroke-opacity=\"0.000\" fill-opacity=\"1\" fill=\"#00BFFF\" id=\"img-6abe81b4-15\">\n        <g transform=\"translate(110.45,44.12)\" id=\"img-6abe81b4-16\">\n          <circle cx=\"0\" cy=\"0\" r=\"0.7\" class=\"primitive\"/>\n        </g>\n      </g>\n    </g>\n    <g fill=\"#362A35\" font-size=\"3.18\" font-family=\"'PT Sans','Helvetica Neue','Helvetica',sans-serif\" stroke=\"#000000\" stroke-opacity=\"0.000\" id=\"img-6abe81b4-17\">\n      <g transform=\"translate(109.64,40.81)\" id=\"img-6abe81b4-18\">\n        <g class=\"primitive\">\n          <text dy=\"-0em\">CO2 (μmol mol⁻¹)</text>\n        </g>\n      </g>\n    </g>\n  </g>\n  <g clip-path=\"url(#img-6abe81b4-19)\">\n    <g id=\"img-6abe81b4-20\">\n      <g pointer-events=\"visible\" stroke-width=\"0.3\" fill=\"#000000\" fill-opacity=\"0.000\" stroke=\"#000000\" stroke-opacity=\"0.000\" class=\"guide background\" id=\"img-6abe81b4-21\">\n        <g transform=\"translate(63.47,45.52)\" id=\"img-6abe81b4-22\">\n          <path d=\"M-45.17,-40.52 L45.17,-40.52 45.17,40.52 -45.17,40.52  z\" class=\"primitive\"/>\n        </g>\n      </g>\n      <g class=\"guide ygridlines xfixed\" stroke-dasharray=\"0.5,0.5\" stroke-width=\"0.2\" stroke=\"#D0D0E0\" id=\"img-6abe81b4-23\">\n        <g transform=\"translate(63.47,84.04)\" id=\"img-6abe81b4-24\">\n          <path fill=\"none\" d=\"M-45.17,0 L45.17,0 \" class=\"primitive\"/>\n        </g>\n        <g transform=\"translate(63.47,45.52)\" id=\"img-6abe81b4-25\">\n          <path fill=\"none\" d=\"M-45.17,0 L45.17,0 \" class=\"primitive\"/>\n        </g>\n        <g transform=\"translate(63.47,7)\" id=\"img-6abe81b4-26\">\n          <path fill=\"none\" d=\"M-45.17,0 L45.17,0 \" class=\"primitive\"/>\n        </g>\n      </g>\n      <g class=\"guide xgridlines yfixed\" stroke-dasharray=\"0.5,0.5\" stroke-width=\"0.2\" stroke=\"#D0D0E0\" id=\"img-6abe81b4-27\">\n        <g transform=\"translate(20.3,45.52)\" id=\"img-6abe81b4-28\">\n          <path fill=\"none\" d=\"M0,-40.52 L0,40.52 \" class=\"primitive\"/>\n        </g>\n        <g transform=\"translate(37.57,45.52)\" id=\"img-6abe81b4-29\">\n          <path fill=\"none\" d=\"M0,-40.52 L0,40.52 \" class=\"primitive\"/>\n        </g>\n        <g transform=\"translate(54.84,45.52)\" id=\"img-6abe81b4-30\">\n          <path fill=\"none\" d=\"M0,-40.52 L0,40.52 \" class=\"primitive\"/>\n        </g>\n        <g transform=\"translate(72.11,45.52)\" id=\"img-6abe81b4-31\">\n          <path fill=\"none\" d=\"M0,-40.52 L0,40.52 \" class=\"primitive\"/>\n        </g>\n        <g transform=\"translate(89.37,45.52)\" id=\"img-6abe81b4-32\">\n          <path fill=\"none\" d=\"M0,-40.52 L0,40.52 \" class=\"primitive\"/>\n        </g>\n        <g transform=\"translate(106.64,45.52)\" id=\"img-6abe81b4-33\">\n          <path fill=\"none\" d=\"M0,-40.52 L0,40.52 \" class=\"primitive\"/>\n        </g>\n      </g>\n      <g class=\"plotpanel\" id=\"img-6abe81b4-34\">\n        <metadata>\n          <boundingbox value=\"18.303333333333327mm 5.0mm 90.33802290397618mm 81.04333333333334mm\"/>\n          <unitbox value=\"-5.115823824355138 1.0259594167784363 5.231647648710275 -1.0519188335568728\"/>\n        </metadata>\n        <g stroke-width=\"0.3\" fill=\"#000000\" fill-opacity=\"0.000\" class=\"geometry\" id=\"img-6abe81b4-35\">\n          <g class=\"color_LCHab{Float32}(70.0f0,60.0f0,240.0f0)\" stroke-dasharray=\"none\" stroke=\"#00BFFF\" id=\"img-6abe81b4-36\">\n            <g transform=\"translate(63.47,77.44)\" id=\"img-6abe81b4-37\">\n              <path fill=\"none\" d=\"M-43.17,5.83 L-41.44,5.83 -39.72,5.83 -37.99,5.83 -36.26,5.83 -34.54,5.83 -32.81,5.83 -31.08,5.82 -29.35,5.82 -27.63,5.82 -25.9,5.81 -24.17,5.8 -22.45,5.79 -20.72,5.78 -18.99,5.77 -17.27,5.75 -15.54,5.72 -13.81,5.69 -12.09,5.65 -10.36,5.59 -8.63,5.51 -6.91,5.4 -5.18,5.23 -3.45,4.98 -1.73,4.57 0,3.91 1.73,2.87 3.45,1.81 5.18,0.79 6.91,-0.23 8.63,-1.25 10.36,-2.25 12.09,-3.2 13.81,-4.11 15.54,-4.94 17.27,-5.7 18.99,-6.37 20.72,-6.95 22.45,-7.45 24.17,-7.88 25.9,-8.23 27.63,-8.53 29.35,-8.77 31.08,-8.97 32.81,-9.13 34.54,-9.26 36.26,-9.36 37.99,-9.44 39.72,-9.51 41.44,-9.57 43.17,-9.61 \" class=\"primitive\"/>\n            </g>\n          </g>\n        </g>\n        <g stroke-width=\"0.3\" fill=\"#000000\" fill-opacity=\"0.000\" class=\"geometry\" id=\"img-6abe81b4-38\">\n          <g class=\"color_LCHab{Float32}(80.0f0,70.000015f0,100.43479f0)\" stroke-dasharray=\"none\" stroke=\"#D4CA3A\" id=\"img-6abe81b4-39\">\n            <g transform=\"translate(63.47,72.21)\" id=\"img-6abe81b4-40\">\n              <path fill=\"none\" d=\"M-43.17,11.06 L-41.44,11.06 -39.72,11.06 -37.99,11.06 -36.26,11.06 -34.54,11.06 -32.81,11.06 -31.08,11.06 -29.35,11.05 -27.63,11.05 -25.9,11.04 -24.17,11.04 -22.45,11.03 -20.72,11.02 -18.99,11.01 -17.27,10.99 -15.54,10.97 -13.81,10.94 -12.09,10.9 -10.36,10.85 -8.63,10.78 -6.91,10.68 -5.18,10.55 -3.45,10.34 -1.73,10.02 0,9.5 1.73,8.62 3.45,7.23 5.18,5.28 6.91,2.93 8.63,0.36 10.36,-2.29 12.09,-4.92 13.81,-7.44 15.54,-9.68 17.27,-11.41 18.99,-12.94 20.72,-14.28 22.45,-15.42 24.17,-16.4 25.9,-17.21 27.63,-17.89 29.35,-18.44 31.08,-18.9 32.81,-19.27 34.54,-19.56 36.26,-19.81 37.99,-20 39.72,-20.15 41.44,-20.28 43.17,-20.38 \" class=\"primitive\"/>\n            </g>\n          </g>\n        </g>\n        <g stroke-width=\"0.3\" fill=\"#000000\" fill-opacity=\"0.000\" class=\"geometry\" id=\"img-6abe81b4-41\">\n          <g class=\"color_LCHab{Float32}(65.89944f0,62.21457f0,353.99814f0)\" stroke-dasharray=\"none\" stroke=\"#FF6DAE\" id=\"img-6abe81b4-42\">\n            <g transform=\"translate(63.47,72)\" id=\"img-6abe81b4-43\">\n              <path fill=\"none\" d=\"M-43.17,11.27 L-41.44,11.27 -39.72,11.27 -37.99,11.27 -36.26,11.27 -34.54,11.26 -32.81,11.26 -31.08,11.26 -29.35,11.26 -27.63,11.25 -25.9,11.25 -24.17,11.24 -22.45,11.24 -20.72,11.23 -18.99,11.22 -17.27,11.2 -15.54,11.18 -13.81,11.16 -12.09,11.12 -10.36,11.08 -8.63,11.02 -6.91,10.94 -5.18,10.83 -3.45,10.67 -1.73,10.42 0,10.04 1.73,9.41 3.45,8.37 5.18,6.79 6.91,4.68 8.63,2.22 10.36,-0.43 12.09,-3.11 13.81,-5.73 15.54,-8.2 17.27,-10.47 18.99,-12.51 20.72,-14.31 22.45,-15.86 24.17,-17.18 25.9,-18.29 27.63,-19.21 29.35,-19.98 31.08,-20.6 32.81,-21.11 34.54,-21.52 36.26,-21.85 37.99,-22.12 39.72,-22.33 41.44,-22.51 43.17,-22.64 \" class=\"primitive\"/>\n            </g>\n          </g>\n        </g>\n      </g>\n    </g>\n  </g>\n  <g class=\"guide ylabels\" font-size=\"2.82\" font-family=\"'PT Sans Caption','Helvetica Neue','Helvetica',sans-serif\" fill=\"#6C606B\" id=\"img-6abe81b4-44\">\n    <g transform=\"translate(17.3,84.04)\" id=\"img-6abe81b4-45\">\n      <g class=\"primitive\">\n        <text text-anchor=\"end\" dy=\"0.35em\">0.0</text>\n      </g>\n    </g>\n    <g transform=\"translate(17.3,45.52)\" id=\"img-6abe81b4-46\">\n      <g class=\"primitive\">\n        <text text-anchor=\"end\" dy=\"0.35em\">0.5</text>\n      </g>\n    </g>\n    <g transform=\"translate(17.3,7)\" id=\"img-6abe81b4-47\">\n      <g class=\"primitive\">\n        <text text-anchor=\"end\" dy=\"0.35em\">1.0</text>\n      </g>\n    </g>\n  </g>\n  <g font-size=\"3.53\" font-family=\"'PT Sans','Helvetica Neue','Helvetica',sans-serif\" fill=\"#564A55\" stroke=\"#000000\" stroke-opacity=\"0.000\" id=\"img-6abe81b4-48\">\n    <g transform=\"translate(8.64,43.52)\" id=\"img-6abe81b4-49\">\n      <g class=\"primitive\">\n        <text text-anchor=\"middle\" dy=\"0.35em\" transform=\"rotate(-90,0, 2)\">gs (mol bar⁻¹ m⁻² s⁻¹)</text>\n      </g>\n    </g>\n  </g>\n</g>\n<defs>\n  <clipPath id=\"img-6abe81b4-19\">\n    <path d=\"M18.3,5 L108.64,5 108.64,86.04 18.3,86.04 \" />\n  </clipPath>\n</defs>\n</svg>\n"
           }
          },
          "systemjs_options": null
         },
         "nodeType": "Scope",
         "props": {},
         "type": "node"
        }
       ],
       "instanceArgs": {
        "namespace": "html",
        "tag": "div"
       },
       "nodeType": "DOM",
       "props": {
        "style": {
         "display": "flex",
         "flex-direction": "column"
        }
       },
       "type": "node"
      },
      "text/html": [
       "<div\n",
       "    class=\"webio-mountpoint\"\n",
       "    data-webio-mountpoint=\"10896032207960172098\"\n",
       ">\n",
       "    <script>\n",
       "    (function(){\n",
       "    // Some integrations (namely, IJulia/Jupyter) use an alternate render pathway than\n",
       "    // just putting the html on the page. If WebIO isn't defined, then it's pretty likely\n",
       "    // that we're in one of those situations and the integration just isn't installed\n",
       "    // correctly.\n",
       "    if (typeof window.WebIO === \"undefined\") {\n",
       "        document\n",
       "            .querySelector('[data-webio-mountpoint=\"10896032207960172098\"]')\n",
       "            .innerHTML = (\n",
       "                '<div style=\"padding: 1em; background-color: #f8d6da; border: 1px solid #f5c6cb; font-weight: bold;\">' +\n",
       "                '<p><strong>WebIO not detected.</strong></p>' +\n",
       "                '<p>Please read ' +\n",
       "                '<a href=\"https://juliagizmos.github.io/WebIO.jl/latest/troubleshooting/not-detected/\" target=\"_blank\">the troubleshooting guide</a> ' +\n",
       "                'for more information on how to resolve this issue.</p>' +\n",
       "                '<p><a href=\"https://juliagizmos.github.io/WebIO.jl/latest/troubleshooting/not-detected/\" target=\"_blank\">https://juliagizmos.github.io/WebIO.jl/latest/troubleshooting/not-detected/</a></p>' +\n",
       "                '</div>'\n",
       "            );\n",
       "        return;\n",
       "    }\n",
       "    WebIO.mount(\n",
       "        document.querySelector('[data-webio-mountpoint=\"10896032207960172098\"]'),\n",
       "        {\"props\":{\"style\":{\"display\":\"flex\",\"flex-direction\":\"column\"}},\"nodeType\":\"DOM\",\"type\":\"node\",\"instanceArgs\":{\"namespace\":\"html\",\"tag\":\"div\"},\"children\":[{\"props\":{\"style\":{\"color\":\"rebeccapurple\",\"font-family\":\"monospace\"}},\"nodeType\":\"DOM\",\"type\":\"node\",\"instanceArgs\":{\"namespace\":\"html\",\"tag\":\"div\"},\"children\":[\"Weather\"]},{\"props\":{\"className\":\"field interact-widget\"},\"nodeType\":\"DOM\",\"type\":\"node\",\"instanceArgs\":{\"namespace\":\"html\",\"tag\":\"div\"},\"children\":[{\"props\":{},\"nodeType\":\"Scope\",\"type\":\"node\",\"instanceArgs\":{\"imports\":{\"data\":[{\"name\":\"knockout\",\"type\":\"js\",\"url\":\"\\/assetserver\\/c0689c4f2514def856941022372b529b3413f129-knockout.js\"},{\"name\":\"knockout_punches\",\"type\":\"js\",\"url\":\"\\/assetserver\\/69274bc4b68b761587a57ff3f5e787f3dd4781dc-knockout_punches.js\"},{\"name\":null,\"type\":\"js\",\"url\":\"\\/assetserver\\/096b68745a0180096d3bd812a95825d387626124-all.js\"},{\"name\":null,\"type\":\"css\",\"url\":\"\\/assetserver\\/d8822751ac3a06d244eead91a737222f90bb9e0b-style.css\"},{\"name\":null,\"type\":\"css\",\"url\":\"\\/assetserver\\/792d9982ee796e4da6422248c42eb77a0d83e61e-bulma_confined.min.css\"}],\"type\":\"async_block\"},\"id\":\"17474763117178411739\",\"handlers\":{\"changes\":[\"(function (val){return (val!=this.model[\\\"changes\\\"]()) ? (this.valueFromJulia[\\\"changes\\\"]=true, this.model[\\\"changes\\\"](val)) : undefined})\"],\"index\":[\"(function (val){return (val!=this.model[\\\"index\\\"]()) ? (this.valueFromJulia[\\\"index\\\"]=true, this.model[\\\"index\\\"](val)) : undefined})\"]},\"systemjs_options\":null,\"mount_callbacks\":[\"function () {\\n    var handler = (function (ko, koPunches) {\\n    ko.punches.enableAll();\\n    ko.bindingHandlers.numericValue = {\\n        init: function(element, valueAccessor, allBindings, data, context) {\\n            var stringified = ko.observable(ko.unwrap(valueAccessor()));\\n            stringified.subscribe(function(value) {\\n                var val = parseFloat(value);\\n                if (!isNaN(val)) {\\n                    valueAccessor()(val);\\n                }\\n            });\\n            valueAccessor().subscribe(function(value) {\\n                var str = JSON.stringify(value);\\n                if ((str == \\\"0\\\") && ([\\\"-0\\\", \\\"-0.\\\"].indexOf(stringified()) >= 0))\\n                     return;\\n                 if ([\\\"null\\\", \\\"\\\"].indexOf(str) >= 0)\\n                     return;\\n                stringified(str);\\n            });\\n            ko.applyBindingsToNode(\\n                element,\\n                {\\n                    value: stringified,\\n                    valueUpdate: allBindings.get('valueUpdate'),\\n                },\\n                context,\\n            );\\n        }\\n    };\\n    var json_data = {\\\"formatted_vals\\\":[\\\"0\\\",\\\"5\\\",\\\"10\\\",\\\"15\\\",\\\"20\\\",\\\"25\\\",\\\"30\\\",\\\"35\\\",\\\"40\\\",\\\"45\\\",\\\"50\\\",\\\"55\\\",\\\"60\\\",\\\"65\\\",\\\"70\\\",\\\"75\\\",\\\"80\\\",\\\"85\\\",\\\"90\\\",\\\"95\\\",\\\"100\\\"],\\\"changes\\\":WebIO.getval({\\\"name\\\":\\\"changes\\\",\\\"scope\\\":\\\"17474763117178411739\\\",\\\"id\\\":\\\"5599820653279307988\\\",\\\"type\\\":\\\"observable\\\"}),\\\"index\\\":WebIO.getval({\\\"name\\\":\\\"index\\\",\\\"scope\\\":\\\"17474763117178411739\\\",\\\"id\\\":\\\"12572838546360384483\\\",\\\"type\\\":\\\"observable\\\"})};\\n    var self = this;\\n    function AppViewModel() {\\n        for (var key in json_data) {\\n            var el = json_data[key];\\n            this[key] = Array.isArray(el) ? ko.observableArray(el) : ko.observable(el);\\n        }\\n        \\n        [this[\\\"formatted_val\\\"]=ko.computed(    function(){\\n        return this.formatted_vals()[parseInt(this.index())-(1)];\\n    }\\n,this)]\\n        [this[\\\"changes\\\"].subscribe((function (val){!(this.valueFromJulia[\\\"changes\\\"]) ? (WebIO.setval({\\\"name\\\":\\\"changes\\\",\\\"scope\\\":\\\"17474763117178411739\\\",\\\"id\\\":\\\"5599820653279307988\\\",\\\"type\\\":\\\"observable\\\"},val)) : undefined; return this.valueFromJulia[\\\"changes\\\"]=false}),self),this[\\\"index\\\"].subscribe((function (val){!(this.valueFromJulia[\\\"index\\\"]) ? (WebIO.setval({\\\"name\\\":\\\"index\\\",\\\"scope\\\":\\\"17474763117178411739\\\",\\\"id\\\":\\\"12572838546360384483\\\",\\\"type\\\":\\\"observable\\\"},val)) : undefined; return this.valueFromJulia[\\\"index\\\"]=false}),self)]\\n        \\n    }\\n    self.model = new AppViewModel();\\n    self.valueFromJulia = {};\\n    for (var key in json_data) {\\n        self.valueFromJulia[key] = false;\\n    }\\n    ko.applyBindings(self.model, self.dom);\\n}\\n);\\n    (WebIO.importBlock({\\\"data\\\":[{\\\"name\\\":\\\"knockout\\\",\\\"type\\\":\\\"js\\\",\\\"url\\\":\\\"\\/assetserver\\/c0689c4f2514def856941022372b529b3413f129-knockout.js\\\"},{\\\"name\\\":\\\"knockout_punches\\\",\\\"type\\\":\\\"js\\\",\\\"url\\\":\\\"\\/assetserver\\/69274bc4b68b761587a57ff3f5e787f3dd4781dc-knockout_punches.js\\\"}],\\\"type\\\":\\\"async_block\\\"})).then((imports) => handler.apply(this, imports));\\n}\\n\"],\"observables\":{\"changes\":{\"sync\":true,\"id\":\"5599820653279307988\",\"value\":0},\"index\":{\"sync\":true,\"id\":\"12572838546360384483\",\"value\":13}}},\"children\":[{\"props\":{\"className\":\"interact-flex-row interact-widget\",\"style\":{\"font-family\":\"monospace\",\"width\":\"80%\"}},\"nodeType\":\"DOM\",\"type\":\"node\",\"instanceArgs\":{\"namespace\":\"html\",\"tag\":\"div\"},\"children\":[{\"props\":{\"className\":\"interact-flex-row-left\"},\"nodeType\":\"DOM\",\"type\":\"node\",\"instanceArgs\":{\"namespace\":\"html\",\"tag\":\"div\"},\"children\":[{\"props\":{\"className\":\"interact \",\"style\":{\"padding\":\"5px 10px 0px 10px\",\"white-space\":\"nowrap\",\"color\":\"royalblue\"}},\"nodeType\":\"DOM\",\"type\":\"node\",\"instanceArgs\":{\"namespace\":\"html\",\"tag\":\"label\"},\"children\":[\"RH (%)\"]}]},{\"props\":{\"className\":\"interact-flex-row-center\"},\"nodeType\":\"DOM\",\"type\":\"node\",\"instanceArgs\":{\"namespace\":\"html\",\"tag\":\"div\"},\"children\":[{\"props\":{\"max\":21,\"min\":1,\"attributes\":{\"type\":\"range\",\"data-bind\":\"numericValue: index, valueUpdate: 'input', event: {change: function (){this.changes(this.changes()+1)}}\",\"orient\":\"horizontal\"},\"step\":1,\"className\":\"slider slider is-fullwidth\",\"style\":{}},\"nodeType\":\"DOM\",\"type\":\"node\",\"instanceArgs\":{\"namespace\":\"html\",\"tag\":\"input\"},\"children\":[]}]},{\"props\":{\"className\":\"interact-flex-row-right\"},\"nodeType\":\"DOM\",\"type\":\"node\",\"instanceArgs\":{\"namespace\":\"html\",\"tag\":\"div\"},\"children\":[{\"props\":{\"attributes\":{\"data-bind\":\"text: formatted_val\"}},\"nodeType\":\"DOM\",\"type\":\"node\",\"instanceArgs\":{\"namespace\":\"html\",\"tag\":\"p\"},\"children\":[]}]}]}]}]},{\"props\":{\"className\":\"field interact-widget\"},\"nodeType\":\"DOM\",\"type\":\"node\",\"instanceArgs\":{\"namespace\":\"html\",\"tag\":\"div\"},\"children\":[{\"props\":{},\"nodeType\":\"Scope\",\"type\":\"node\",\"instanceArgs\":{\"imports\":{\"data\":[{\"name\":\"knockout\",\"type\":\"js\",\"url\":\"\\/assetserver\\/c0689c4f2514def856941022372b529b3413f129-knockout.js\"},{\"name\":\"knockout_punches\",\"type\":\"js\",\"url\":\"\\/assetserver\\/69274bc4b68b761587a57ff3f5e787f3dd4781dc-knockout_punches.js\"},{\"name\":null,\"type\":\"js\",\"url\":\"\\/assetserver\\/096b68745a0180096d3bd812a95825d387626124-all.js\"},{\"name\":null,\"type\":\"css\",\"url\":\"\\/assetserver\\/d8822751ac3a06d244eead91a737222f90bb9e0b-style.css\"},{\"name\":null,\"type\":\"css\",\"url\":\"\\/assetserver\\/792d9982ee796e4da6422248c42eb77a0d83e61e-bulma_confined.min.css\"}],\"type\":\"async_block\"},\"id\":\"4517034604475182614\",\"handlers\":{\"changes\":[\"(function (val){return (val!=this.model[\\\"changes\\\"]()) ? (this.valueFromJulia[\\\"changes\\\"]=true, this.model[\\\"changes\\\"](val)) : undefined})\"],\"index\":[\"(function (val){return (val!=this.model[\\\"index\\\"]()) ? (this.valueFromJulia[\\\"index\\\"]=true, this.model[\\\"index\\\"](val)) : undefined})\"]},\"systemjs_options\":null,\"mount_callbacks\":[\"function () {\\n    var handler = (function (ko, koPunches) {\\n    ko.punches.enableAll();\\n    ko.bindingHandlers.numericValue = {\\n        init: function(element, valueAccessor, allBindings, data, context) {\\n            var stringified = ko.observable(ko.unwrap(valueAccessor()));\\n            stringified.subscribe(function(value) {\\n                var val = parseFloat(value);\\n                if (!isNaN(val)) {\\n                    valueAccessor()(val);\\n                }\\n            });\\n            valueAccessor().subscribe(function(value) {\\n                var str = JSON.stringify(value);\\n                if ((str == \\\"0\\\") && ([\\\"-0\\\", \\\"-0.\\\"].indexOf(stringified()) >= 0))\\n                     return;\\n                 if ([\\\"null\\\", \\\"\\\"].indexOf(str) >= 0)\\n                     return;\\n                stringified(str);\\n            });\\n            ko.applyBindingsToNode(\\n                element,\\n                {\\n                    value: stringified,\\n                    valueUpdate: allBindings.get('valueUpdate'),\\n                },\\n                context,\\n            );\\n        }\\n    };\\n    var json_data = {\\\"formatted_vals\\\":[\\\"0\\\",\\\"100\\\",\\\"200\\\",\\\"300\\\",\\\"400\\\",\\\"500\\\",\\\"600\\\",\\\"700\\\",\\\"800\\\",\\\"900\\\",\\\"1000\\\",\\\"1100\\\",\\\"1200\\\",\\\"1300\\\",\\\"1400\\\",\\\"1500\\\",\\\"1600\\\",\\\"1700\\\",\\\"1800\\\",\\\"1900\\\",\\\"2000\\\"],\\\"changes\\\":WebIO.getval({\\\"name\\\":\\\"changes\\\",\\\"scope\\\":\\\"4517034604475182614\\\",\\\"id\\\":\\\"7465882054751437838\\\",\\\"type\\\":\\\"observable\\\"}),\\\"index\\\":WebIO.getval({\\\"name\\\":\\\"index\\\",\\\"scope\\\":\\\"4517034604475182614\\\",\\\"id\\\":\\\"11955001154729238872\\\",\\\"type\\\":\\\"observable\\\"})};\\n    var self = this;\\n    function AppViewModel() {\\n        for (var key in json_data) {\\n            var el = json_data[key];\\n            this[key] = Array.isArray(el) ? ko.observableArray(el) : ko.observable(el);\\n        }\\n        \\n        [this[\\\"formatted_val\\\"]=ko.computed(    function(){\\n        return this.formatted_vals()[parseInt(this.index())-(1)];\\n    }\\n,this)]\\n        [this[\\\"changes\\\"].subscribe((function (val){!(this.valueFromJulia[\\\"changes\\\"]) ? (WebIO.setval({\\\"name\\\":\\\"changes\\\",\\\"scope\\\":\\\"4517034604475182614\\\",\\\"id\\\":\\\"7465882054751437838\\\",\\\"type\\\":\\\"observable\\\"},val)) : undefined; return this.valueFromJulia[\\\"changes\\\"]=false}),self),this[\\\"index\\\"].subscribe((function (val){!(this.valueFromJulia[\\\"index\\\"]) ? (WebIO.setval({\\\"name\\\":\\\"index\\\",\\\"scope\\\":\\\"4517034604475182614\\\",\\\"id\\\":\\\"11955001154729238872\\\",\\\"type\\\":\\\"observable\\\"},val)) : undefined; return this.valueFromJulia[\\\"index\\\"]=false}),self)]\\n        \\n    }\\n    self.model = new AppViewModel();\\n    self.valueFromJulia = {};\\n    for (var key in json_data) {\\n        self.valueFromJulia[key] = false;\\n    }\\n    ko.applyBindings(self.model, self.dom);\\n}\\n);\\n    (WebIO.importBlock({\\\"data\\\":[{\\\"name\\\":\\\"knockout\\\",\\\"type\\\":\\\"js\\\",\\\"url\\\":\\\"\\/assetserver\\/c0689c4f2514def856941022372b529b3413f129-knockout.js\\\"},{\\\"name\\\":\\\"knockout_punches\\\",\\\"type\\\":\\\"js\\\",\\\"url\\\":\\\"\\/assetserver\\/69274bc4b68b761587a57ff3f5e787f3dd4781dc-knockout_punches.js\\\"}],\\\"type\\\":\\\"async_block\\\"})).then((imports) => handler.apply(this, imports));\\n}\\n\"],\"observables\":{\"changes\":{\"sync\":true,\"id\":\"7465882054751437838\",\"value\":0},\"index\":{\"sync\":true,\"id\":\"11955001154729238872\",\"value\":16}}},\"children\":[{\"props\":{\"className\":\"interact-flex-row interact-widget\",\"style\":{\"font-family\":\"monospace\",\"width\":\"80%\"}},\"nodeType\":\"DOM\",\"type\":\"node\",\"instanceArgs\":{\"namespace\":\"html\",\"tag\":\"div\"},\"children\":[{\"props\":{\"className\":\"interact-flex-row-left\"},\"nodeType\":\"DOM\",\"type\":\"node\",\"instanceArgs\":{\"namespace\":\"html\",\"tag\":\"div\"},\"children\":[{\"props\":{\"className\":\"interact \",\"style\":{\"padding\":\"5px 10px 0px 10px\",\"white-space\":\"nowrap\",\"color\":\"royalblue\"}},\"nodeType\":\"DOM\",\"type\":\"node\",\"instanceArgs\":{\"namespace\":\"html\",\"tag\":\"label\"},\"children\":[\"PFD (μmol m⁻² s⁻¹)\"]}]},{\"props\":{\"className\":\"interact-flex-row-center\"},\"nodeType\":\"DOM\",\"type\":\"node\",\"instanceArgs\":{\"namespace\":\"html\",\"tag\":\"div\"},\"children\":[{\"props\":{\"max\":21,\"min\":1,\"attributes\":{\"type\":\"range\",\"data-bind\":\"numericValue: index, valueUpdate: 'input', event: {change: function (){this.changes(this.changes()+1)}}\",\"orient\":\"horizontal\"},\"step\":1,\"className\":\"slider slider is-fullwidth\",\"style\":{}},\"nodeType\":\"DOM\",\"type\":\"node\",\"instanceArgs\":{\"namespace\":\"html\",\"tag\":\"input\"},\"children\":[]}]},{\"props\":{\"className\":\"interact-flex-row-right\"},\"nodeType\":\"DOM\",\"type\":\"node\",\"instanceArgs\":{\"namespace\":\"html\",\"tag\":\"div\"},\"children\":[{\"props\":{\"attributes\":{\"data-bind\":\"text: formatted_val\"}},\"nodeType\":\"DOM\",\"type\":\"node\",\"instanceArgs\":{\"namespace\":\"html\",\"tag\":\"p\"},\"children\":[]}]}]}]}]},{\"props\":{\"className\":\"field interact-widget\"},\"nodeType\":\"DOM\",\"type\":\"node\",\"instanceArgs\":{\"namespace\":\"html\",\"tag\":\"div\"},\"children\":[{\"props\":{},\"nodeType\":\"Scope\",\"type\":\"node\",\"instanceArgs\":{\"imports\":{\"data\":[{\"name\":\"knockout\",\"type\":\"js\",\"url\":\"\\/assetserver\\/c0689c4f2514def856941022372b529b3413f129-knockout.js\"},{\"name\":\"knockout_punches\",\"type\":\"js\",\"url\":\"\\/assetserver\\/69274bc4b68b761587a57ff3f5e787f3dd4781dc-knockout_punches.js\"},{\"name\":null,\"type\":\"js\",\"url\":\"\\/assetserver\\/096b68745a0180096d3bd812a95825d387626124-all.js\"},{\"name\":null,\"type\":\"css\",\"url\":\"\\/assetserver\\/d8822751ac3a06d244eead91a737222f90bb9e0b-style.css\"},{\"name\":null,\"type\":\"css\",\"url\":\"\\/assetserver\\/792d9982ee796e4da6422248c42eb77a0d83e61e-bulma_confined.min.css\"}],\"type\":\"async_block\"},\"id\":\"9442539662729636859\",\"handlers\":{\"changes\":[\"(function (val){return (val!=this.model[\\\"changes\\\"]()) ? (this.valueFromJulia[\\\"changes\\\"]=true, this.model[\\\"changes\\\"](val)) : undefined})\"],\"index\":[\"(function (val){return (val!=this.model[\\\"index\\\"]()) ? (this.valueFromJulia[\\\"index\\\"]=true, this.model[\\\"index\\\"](val)) : undefined})\"]},\"systemjs_options\":null,\"mount_callbacks\":[\"function () {\\n    var handler = (function (ko, koPunches) {\\n    ko.punches.enableAll();\\n    ko.bindingHandlers.numericValue = {\\n        init: function(element, valueAccessor, allBindings, data, context) {\\n            var stringified = ko.observable(ko.unwrap(valueAccessor()));\\n            stringified.subscribe(function(value) {\\n                var val = parseFloat(value);\\n                if (!isNaN(val)) {\\n                    valueAccessor()(val);\\n                }\\n            });\\n            valueAccessor().subscribe(function(value) {\\n                var str = JSON.stringify(value);\\n                if ((str == \\\"0\\\") && ([\\\"-0\\\", \\\"-0.\\\"].indexOf(stringified()) >= 0))\\n                     return;\\n                 if ([\\\"null\\\", \\\"\\\"].indexOf(str) >= 0)\\n                     return;\\n                stringified(str);\\n            });\\n            ko.applyBindingsToNode(\\n                element,\\n                {\\n                    value: stringified,\\n                    valueUpdate: allBindings.get('valueUpdate'),\\n                },\\n                context,\\n            );\\n        }\\n    };\\n    var json_data = {\\\"formatted_vals\\\":[\\\"0\\\",\\\"1\\\",\\\"2\\\",\\\"3\\\",\\\"4\\\",\\\"5\\\",\\\"6\\\",\\\"7\\\",\\\"8\\\",\\\"9\\\",\\\"10\\\",\\\"11\\\",\\\"12\\\",\\\"13\\\",\\\"14\\\",\\\"15\\\",\\\"16\\\",\\\"17\\\",\\\"18\\\",\\\"19\\\",\\\"20\\\",\\\"21\\\",\\\"22\\\",\\\"23\\\",\\\"24\\\",\\\"25\\\",\\\"26\\\",\\\"27\\\",\\\"28\\\",\\\"29\\\",\\\"30\\\",\\\"31\\\",\\\"32\\\",\\\"33\\\",\\\"34\\\",\\\"35\\\",\\\"36\\\",\\\"37\\\",\\\"38\\\",\\\"39\\\",\\\"40\\\",\\\"41\\\",\\\"42\\\",\\\"43\\\",\\\"44\\\",\\\"45\\\",\\\"46\\\",\\\"47\\\",\\\"48\\\",\\\"49\\\",\\\"50\\\"],\\\"changes\\\":WebIO.getval({\\\"name\\\":\\\"changes\\\",\\\"scope\\\":\\\"9442539662729636859\\\",\\\"id\\\":\\\"14655695854634784498\\\",\\\"type\\\":\\\"observable\\\"}),\\\"index\\\":WebIO.getval({\\\"name\\\":\\\"index\\\",\\\"scope\\\":\\\"9442539662729636859\\\",\\\"id\\\":\\\"2597535847221651949\\\",\\\"type\\\":\\\"observable\\\"})};\\n    var self = this;\\n    function AppViewModel() {\\n        for (var key in json_data) {\\n            var el = json_data[key];\\n            this[key] = Array.isArray(el) ? ko.observableArray(el) : ko.observable(el);\\n        }\\n        \\n        [this[\\\"formatted_val\\\"]=ko.computed(    function(){\\n        return this.formatted_vals()[parseInt(this.index())-(1)];\\n    }\\n,this)]\\n        [this[\\\"changes\\\"].subscribe((function (val){!(this.valueFromJulia[\\\"changes\\\"]) ? (WebIO.setval({\\\"name\\\":\\\"changes\\\",\\\"scope\\\":\\\"9442539662729636859\\\",\\\"id\\\":\\\"14655695854634784498\\\",\\\"type\\\":\\\"observable\\\"},val)) : undefined; return this.valueFromJulia[\\\"changes\\\"]=false}),self),this[\\\"index\\\"].subscribe((function (val){!(this.valueFromJulia[\\\"index\\\"]) ? (WebIO.setval({\\\"name\\\":\\\"index\\\",\\\"scope\\\":\\\"9442539662729636859\\\",\\\"id\\\":\\\"2597535847221651949\\\",\\\"type\\\":\\\"observable\\\"},val)) : undefined; return this.valueFromJulia[\\\"index\\\"]=false}),self)]\\n        \\n    }\\n    self.model = new AppViewModel();\\n    self.valueFromJulia = {};\\n    for (var key in json_data) {\\n        self.valueFromJulia[key] = false;\\n    }\\n    ko.applyBindings(self.model, self.dom);\\n}\\n);\\n    (WebIO.importBlock({\\\"data\\\":[{\\\"name\\\":\\\"knockout\\\",\\\"type\\\":\\\"js\\\",\\\"url\\\":\\\"\\/assetserver\\/c0689c4f2514def856941022372b529b3413f129-knockout.js\\\"},{\\\"name\\\":\\\"knockout_punches\\\",\\\"type\\\":\\\"js\\\",\\\"url\\\":\\\"\\/assetserver\\/69274bc4b68b761587a57ff3f5e787f3dd4781dc-knockout_punches.js\\\"}],\\\"type\\\":\\\"async_block\\\"})).then((imports) => handler.apply(this, imports));\\n}\\n\"],\"observables\":{\"changes\":{\"sync\":true,\"id\":\"14655695854634784498\",\"value\":0},\"index\":{\"sync\":true,\"id\":\"2597535847221651949\",\"value\":26}}},\"children\":[{\"props\":{\"className\":\"interact-flex-row interact-widget\",\"style\":{\"font-family\":\"monospace\",\"width\":\"80%\"}},\"nodeType\":\"DOM\",\"type\":\"node\",\"instanceArgs\":{\"namespace\":\"html\",\"tag\":\"div\"},\"children\":[{\"props\":{\"className\":\"interact-flex-row-left\"},\"nodeType\":\"DOM\",\"type\":\"node\",\"instanceArgs\":{\"namespace\":\"html\",\"tag\":\"div\"},\"children\":[{\"props\":{\"className\":\"interact \",\"style\":{\"padding\":\"5px 10px 0px 10px\",\"white-space\":\"nowrap\",\"color\":\"royalblue\"}},\"nodeType\":\"DOM\",\"type\":\"node\",\"instanceArgs\":{\"namespace\":\"html\",\"tag\":\"label\"},\"children\":[\"T_air (°C)\"]}]},{\"props\":{\"className\":\"interact-flex-row-center\"},\"nodeType\":\"DOM\",\"type\":\"node\",\"instanceArgs\":{\"namespace\":\"html\",\"tag\":\"div\"},\"children\":[{\"props\":{\"max\":51,\"min\":1,\"attributes\":{\"type\":\"range\",\"data-bind\":\"numericValue: index, valueUpdate: 'input', event: {change: function (){this.changes(this.changes()+1)}}\",\"orient\":\"horizontal\"},\"step\":1,\"className\":\"slider slider is-fullwidth\",\"style\":{}},\"nodeType\":\"DOM\",\"type\":\"node\",\"instanceArgs\":{\"namespace\":\"html\",\"tag\":\"input\"},\"children\":[]}]},{\"props\":{\"className\":\"interact-flex-row-right\"},\"nodeType\":\"DOM\",\"type\":\"node\",\"instanceArgs\":{\"namespace\":\"html\",\"tag\":\"div\"},\"children\":[{\"props\":{\"attributes\":{\"data-bind\":\"text: formatted_val\"}},\"nodeType\":\"DOM\",\"type\":\"node\",\"instanceArgs\":{\"namespace\":\"html\",\"tag\":\"p\"},\"children\":[]}]}]}]}]},{\"props\":{\"style\":{\"color\":\"rebeccapurple\",\"font-family\":\"monospace\"}},\"nodeType\":\"DOM\",\"type\":\"node\",\"instanceArgs\":{\"namespace\":\"html\",\"tag\":\"div\"},\"children\":[\"Nitrogen\"]},{\"props\":{\"className\":\"field interact-widget\"},\"nodeType\":\"DOM\",\"type\":\"node\",\"instanceArgs\":{\"namespace\":\"html\",\"tag\":\"div\"},\"children\":[{\"props\":{},\"nodeType\":\"Scope\",\"type\":\"node\",\"instanceArgs\":{\"imports\":{\"data\":[{\"name\":\"knockout\",\"type\":\"js\",\"url\":\"\\/assetserver\\/c0689c4f2514def856941022372b529b3413f129-knockout.js\"},{\"name\":\"knockout_punches\",\"type\":\"js\",\"url\":\"\\/assetserver\\/69274bc4b68b761587a57ff3f5e787f3dd4781dc-knockout_punches.js\"},{\"name\":null,\"type\":\"js\",\"url\":\"\\/assetserver\\/096b68745a0180096d3bd812a95825d387626124-all.js\"},{\"name\":null,\"type\":\"css\",\"url\":\"\\/assetserver\\/d8822751ac3a06d244eead91a737222f90bb9e0b-style.css\"},{\"name\":null,\"type\":\"css\",\"url\":\"\\/assetserver\\/792d9982ee796e4da6422248c42eb77a0d83e61e-bulma_confined.min.css\"}],\"type\":\"async_block\"},\"id\":\"14594871242597144354\",\"handlers\":{\"changes\":[\"(function (val){return (val!=this.model[\\\"changes\\\"]()) ? (this.valueFromJulia[\\\"changes\\\"]=true, this.model[\\\"changes\\\"](val)) : undefined})\"],\"index\":[\"(function (val){return (val!=this.model[\\\"index\\\"]()) ? (this.valueFromJulia[\\\"index\\\"]=true, this.model[\\\"index\\\"](val)) : undefined})\"]},\"systemjs_options\":null,\"mount_callbacks\":[\"function () {\\n    var handler = (function (ko, koPunches) {\\n    ko.punches.enableAll();\\n    ko.bindingHandlers.numericValue = {\\n        init: function(element, valueAccessor, allBindings, data, context) {\\n            var stringified = ko.observable(ko.unwrap(valueAccessor()));\\n            stringified.subscribe(function(value) {\\n                var val = parseFloat(value);\\n                if (!isNaN(val)) {\\n                    valueAccessor()(val);\\n                }\\n            });\\n            valueAccessor().subscribe(function(value) {\\n                var str = JSON.stringify(value);\\n                if ((str == \\\"0\\\") && ([\\\"-0\\\", \\\"-0.\\\"].indexOf(stringified()) >= 0))\\n                     return;\\n                 if ([\\\"null\\\", \\\"\\\"].indexOf(str) >= 0)\\n                     return;\\n                stringified(str);\\n            });\\n            ko.applyBindingsToNode(\\n                element,\\n                {\\n                    value: stringified,\\n                    valueUpdate: allBindings.get('valueUpdate'),\\n                },\\n                context,\\n            );\\n        }\\n    };\\n    var json_data = {\\\"formatted_vals\\\":[\\\"0.0\\\",\\\"0.1\\\",\\\"0.2\\\",\\\"0.3\\\",\\\"0.4\\\",\\\"0.5\\\",\\\"0.6\\\",\\\"0.7\\\",\\\"0.8\\\",\\\"0.9\\\",\\\"1.0\\\",\\\"1.1\\\",\\\"1.2\\\",\\\"1.3\\\",\\\"1.4\\\",\\\"1.5\\\",\\\"1.6\\\",\\\"1.7\\\",\\\"1.8\\\",\\\"1.9\\\",\\\"2.0\\\",\\\"2.1\\\",\\\"2.2\\\",\\\"2.3\\\",\\\"2.4\\\",\\\"2.5\\\",\\\"2.6\\\",\\\"2.7\\\",\\\"2.8\\\",\\\"2.9\\\",\\\"3.0\\\",\\\"3.1\\\",\\\"3.2\\\",\\\"3.3\\\",\\\"3.4\\\",\\\"3.5\\\",\\\"3.6\\\",\\\"3.7\\\",\\\"3.8\\\",\\\"3.9\\\",\\\"4.0\\\"],\\\"changes\\\":WebIO.getval({\\\"name\\\":\\\"changes\\\",\\\"scope\\\":\\\"14594871242597144354\\\",\\\"id\\\":\\\"4370177567468346306\\\",\\\"type\\\":\\\"observable\\\"}),\\\"index\\\":WebIO.getval({\\\"name\\\":\\\"index\\\",\\\"scope\\\":\\\"14594871242597144354\\\",\\\"id\\\":\\\"16440233798925792654\\\",\\\"type\\\":\\\"observable\\\"})};\\n    var self = this;\\n    function AppViewModel() {\\n        for (var key in json_data) {\\n            var el = json_data[key];\\n            this[key] = Array.isArray(el) ? ko.observableArray(el) : ko.observable(el);\\n        }\\n        \\n        [this[\\\"formatted_val\\\"]=ko.computed(    function(){\\n        return this.formatted_vals()[parseInt(this.index())-(1)];\\n    }\\n,this)]\\n        [this[\\\"changes\\\"].subscribe((function (val){!(this.valueFromJulia[\\\"changes\\\"]) ? (WebIO.setval({\\\"name\\\":\\\"changes\\\",\\\"scope\\\":\\\"14594871242597144354\\\",\\\"id\\\":\\\"4370177567468346306\\\",\\\"type\\\":\\\"observable\\\"},val)) : undefined; return this.valueFromJulia[\\\"changes\\\"]=false}),self),this[\\\"index\\\"].subscribe((function (val){!(this.valueFromJulia[\\\"index\\\"]) ? (WebIO.setval({\\\"name\\\":\\\"index\\\",\\\"scope\\\":\\\"14594871242597144354\\\",\\\"id\\\":\\\"16440233798925792654\\\",\\\"type\\\":\\\"observable\\\"},val)) : undefined; return this.valueFromJulia[\\\"index\\\"]=false}),self)]\\n        \\n    }\\n    self.model = new AppViewModel();\\n    self.valueFromJulia = {};\\n    for (var key in json_data) {\\n        self.valueFromJulia[key] = false;\\n    }\\n    ko.applyBindings(self.model, self.dom);\\n}\\n);\\n    (WebIO.importBlock({\\\"data\\\":[{\\\"name\\\":\\\"knockout\\\",\\\"type\\\":\\\"js\\\",\\\"url\\\":\\\"\\/assetserver\\/c0689c4f2514def856941022372b529b3413f129-knockout.js\\\"},{\\\"name\\\":\\\"knockout_punches\\\",\\\"type\\\":\\\"js\\\",\\\"url\\\":\\\"\\/assetserver\\/69274bc4b68b761587a57ff3f5e787f3dd4781dc-knockout_punches.js\\\"}],\\\"type\\\":\\\"async_block\\\"})).then((imports) => handler.apply(this, imports));\\n}\\n\"],\"observables\":{\"changes\":{\"sync\":true,\"id\":\"4370177567468346306\",\"value\":0},\"index\":{\"sync\":true,\"id\":\"16440233798925792654\",\"value\":21}}},\"children\":[{\"props\":{\"className\":\"interact-flex-row interact-widget\",\"style\":{\"font-family\":\"monospace\",\"width\":\"80%\"}},\"nodeType\":\"DOM\",\"type\":\"node\",\"instanceArgs\":{\"namespace\":\"html\",\"tag\":\"div\"},\"children\":[{\"props\":{\"className\":\"interact-flex-row-left\"},\"nodeType\":\"DOM\",\"type\":\"node\",\"instanceArgs\":{\"namespace\":\"html\",\"tag\":\"div\"},\"children\":[{\"props\":{\"className\":\"interact \",\"style\":{\"padding\":\"5px 10px 0px 10px\",\"white-space\":\"nowrap\",\"color\":\"royalblue\"}},\"nodeType\":\"DOM\",\"type\":\"node\",\"instanceArgs\":{\"namespace\":\"html\",\"tag\":\"label\"},\"children\":[\"N\"]}]},{\"props\":{\"className\":\"interact-flex-row-center\"},\"nodeType\":\"DOM\",\"type\":\"node\",\"instanceArgs\":{\"namespace\":\"html\",\"tag\":\"div\"},\"children\":[{\"props\":{\"max\":41,\"min\":1,\"attributes\":{\"type\":\"range\",\"data-bind\":\"numericValue: index, valueUpdate: 'input', event: {change: function (){this.changes(this.changes()+1)}}\",\"orient\":\"horizontal\"},\"step\":1,\"className\":\"slider slider is-fullwidth\",\"style\":{}},\"nodeType\":\"DOM\",\"type\":\"node\",\"instanceArgs\":{\"namespace\":\"html\",\"tag\":\"input\"},\"children\":[]}]},{\"props\":{\"className\":\"interact-flex-row-right\"},\"nodeType\":\"DOM\",\"type\":\"node\",\"instanceArgs\":{\"namespace\":\"html\",\"tag\":\"div\"},\"children\":[{\"props\":{\"attributes\":{\"data-bind\":\"text: formatted_val\"}},\"nodeType\":\"DOM\",\"type\":\"node\",\"instanceArgs\":{\"namespace\":\"html\",\"tag\":\"p\"},\"children\":[]}]}]}]}]},{\"props\":{},\"nodeType\":\"Scope\",\"type\":\"node\",\"instanceArgs\":{\"imports\":{\"data\":[],\"type\":\"async_block\"},\"id\":\"17688640191969323090\",\"handlers\":{\"obs-output\":[\"function (value, scope) {\\n    scope.setInnerHTML(value);\\n}\\n\"]},\"systemjs_options\":null,\"mount_callbacks\":[],\"observables\":{\"obs-output\":{\"sync\":false,\"id\":\"2742203083736391797\",\"value\":\"<?xml version=\\\"1.0\\\" encoding=\\\"UTF-8\\\"?>\\n<svg xmlns=\\\"http:\\/\\/www.w3.org\\/2000\\/svg\\\"\\n     xmlns:xlink=\\\"http:\\/\\/www.w3.org\\/1999\\/xlink\\\"\\n     xmlns:gadfly=\\\"http:\\/\\/www.gadflyjl.org\\/ns\\\"\\n     version=\\\"1.2\\\"\\n     width=\\\"141.42mm\\\" height=\\\"100mm\\\" viewBox=\\\"0 0 141.42 100\\\"\\n     stroke=\\\"none\\\"\\n     fill=\\\"#000000\\\"\\n     stroke-width=\\\"0.3\\\"\\n     font-size=\\\"3.88\\\"\\n>\\n<defs>\\n  <marker id=\\\"arrow\\\" markerWidth=\\\"15\\\" markerHeight=\\\"7\\\" refX=\\\"5\\\" refY=\\\"3.5\\\" orient=\\\"auto\\\" markerUnits=\\\"strokeWidth\\\">\\n    <path d=\\\"M0,0 L15,3.5 L0,7 z\\\" stroke=\\\"context-stroke\\\" fill=\\\"context-stroke\\\"\\/>\\n  <\\/marker>\\n<\\/defs>\\n<g stroke=\\\"#000000\\\" stroke-opacity=\\\"0.000\\\" fill=\\\"#FFFFFF\\\" id=\\\"img-ea7c9ad0-1\\\">\\n  <g transform=\\\"translate(70.71,50)\\\">\\n    <path d=\\\"M-70.71,-50 L70.71,-50 70.71,50 -70.71,50  z\\\" class=\\\"primitive\\\"\\/>\\n  <\\/g>\\n<\\/g>\\n<g class=\\\"plotroot xscalable yscalable\\\" id=\\\"img-ea7c9ad0-2\\\">\\n  <g font-size=\\\"3.53\\\" font-family=\\\"'PT Sans','Helvetica Neue','Helvetica',sans-serif\\\" fill=\\\"#564A55\\\" stroke=\\\"#000000\\\" stroke-opacity=\\\"0.000\\\" id=\\\"img-ea7c9ad0-3\\\">\\n    <g transform=\\\"translate(63.47,93.72)\\\">\\n      <g class=\\\"primitive\\\">\\n        <text text-anchor=\\\"middle\\\" dy=\\\"0.6em\\\">WP_leaf (MPa)<\\/text>\\n      <\\/g>\\n    <\\/g>\\n  <\\/g>\\n  <g class=\\\"guide xlabels\\\" font-size=\\\"2.82\\\" font-family=\\\"'PT Sans Caption','Helvetica Neue','Helvetica',sans-serif\\\" fill=\\\"#6C606B\\\" id=\\\"img-ea7c9ad0-4\\\">\\n    <g transform=\\\"translate(20.3,87.04)\\\">\\n      <g class=\\\"primitive\\\">\\n        <text text-anchor=\\\"middle\\\" dy=\\\"0.6em\\\">-5<\\/text>\\n      <\\/g>\\n    <\\/g>\\n    <g transform=\\\"translate(37.57,87.04)\\\">\\n      <g class=\\\"primitive\\\">\\n        <text text-anchor=\\\"middle\\\" dy=\\\"0.6em\\\">-4<\\/text>\\n      <\\/g>\\n    <\\/g>\\n    <g transform=\\\"translate(54.84,87.04)\\\">\\n      <g class=\\\"primitive\\\">\\n        <text text-anchor=\\\"middle\\\" dy=\\\"0.6em\\\">-3<\\/text>\\n      <\\/g>\\n    <\\/g>\\n    <g transform=\\\"translate(72.11,87.04)\\\">\\n      <g class=\\\"primitive\\\">\\n        <text text-anchor=\\\"middle\\\" dy=\\\"0.6em\\\">-2<\\/text>\\n      <\\/g>\\n    <\\/g>\\n    <g transform=\\\"translate(89.37,87.04)\\\">\\n      <g class=\\\"primitive\\\">\\n        <text text-anchor=\\\"middle\\\" dy=\\\"0.6em\\\">-1<\\/text>\\n      <\\/g>\\n    <\\/g>\\n    <g transform=\\\"translate(106.64,87.04)\\\">\\n      <g class=\\\"primitive\\\">\\n        <text text-anchor=\\\"middle\\\" dy=\\\"0.6em\\\">0<\\/text>\\n      <\\/g>\\n    <\\/g>\\n  <\\/g>\\n  <g class=\\\"guide colorkey\\\" id=\\\"img-ea7c9ad0-5\\\">\\n    <g fill=\\\"#4C404B\\\" font-size=\\\"2.82\\\" font-family=\\\"'PT Sans','Helvetica Neue','Helvetica',sans-serif\\\" id=\\\"img-ea7c9ad0-6\\\">\\n      <g transform=\\\"translate(113.27,44.12)\\\" id=\\\"img-ea7c9ad0-7\\\">\\n        <g class=\\\"primitive\\\">\\n          <text dy=\\\"0.35em\\\">1000 μmol mol⁻¹<\\/text>\\n        <\\/g>\\n      <\\/g>\\n      <g transform=\\\"translate(113.27,47.75)\\\" id=\\\"img-ea7c9ad0-8\\\">\\n        <g class=\\\"primitive\\\">\\n          <text dy=\\\"0.35em\\\">400 μmol mol⁻¹<\\/text>\\n        <\\/g>\\n      <\\/g>\\n      <g transform=\\\"translate(113.27,51.38)\\\" id=\\\"img-ea7c9ad0-9\\\">\\n        <g class=\\\"primitive\\\">\\n          <text dy=\\\"0.35em\\\">250 μmol mol⁻¹<\\/text>\\n        <\\/g>\\n      <\\/g>\\n    <\\/g>\\n    <g stroke-width=\\\"0.3\\\" id=\\\"img-ea7c9ad0-10\\\">\\n      <g stroke=\\\"#FFFFFF\\\" stroke-opacity=\\\"0.000\\\" fill-opacity=\\\"1\\\" fill=\\\"#FF6DAE\\\" id=\\\"img-ea7c9ad0-11\\\">\\n        <g transform=\\\"translate(110.45,51.38)\\\" id=\\\"img-ea7c9ad0-12\\\">\\n          <circle cx=\\\"0\\\" cy=\\\"0\\\" r=\\\"0.7\\\" class=\\\"primitive\\\"\\/>\\n        <\\/g>\\n      <\\/g>\\n      <g stroke=\\\"#FFFFFF\\\" stroke-opacity=\\\"0.000\\\" fill-opacity=\\\"1\\\" fill=\\\"#D4CA3A\\\" id=\\\"img-ea7c9ad0-13\\\">\\n        <g transform=\\\"translate(110.45,47.75)\\\" id=\\\"img-ea7c9ad0-14\\\">\\n          <circle cx=\\\"0\\\" cy=\\\"0\\\" r=\\\"0.7\\\" class=\\\"primitive\\\"\\/>\\n        <\\/g>\\n      <\\/g>\\n      <g stroke=\\\"#FFFFFF\\\" stroke-opacity=\\\"0.000\\\" fill-opacity=\\\"1\\\" fill=\\\"#00BFFF\\\" id=\\\"img-ea7c9ad0-15\\\">\\n        <g transform=\\\"translate(110.45,44.12)\\\" id=\\\"img-ea7c9ad0-16\\\">\\n          <circle cx=\\\"0\\\" cy=\\\"0\\\" r=\\\"0.7\\\" class=\\\"primitive\\\"\\/>\\n        <\\/g>\\n      <\\/g>\\n    <\\/g>\\n    <g fill=\\\"#362A35\\\" font-size=\\\"3.18\\\" font-family=\\\"'PT Sans','Helvetica Neue','Helvetica',sans-serif\\\" stroke=\\\"#000000\\\" stroke-opacity=\\\"0.000\\\" id=\\\"img-ea7c9ad0-17\\\">\\n      <g transform=\\\"translate(109.64,40.81)\\\" id=\\\"img-ea7c9ad0-18\\\">\\n        <g class=\\\"primitive\\\">\\n          <text dy=\\\"-0em\\\">CO2 (μmol mol⁻¹)<\\/text>\\n        <\\/g>\\n      <\\/g>\\n    <\\/g>\\n  <\\/g>\\n  <g clip-path=\\\"url(#img-ea7c9ad0-19)\\\">\\n    <g id=\\\"img-ea7c9ad0-20\\\">\\n      <g pointer-events=\\\"visible\\\" stroke-width=\\\"0.3\\\" fill=\\\"#000000\\\" fill-opacity=\\\"0.000\\\" stroke=\\\"#000000\\\" stroke-opacity=\\\"0.000\\\" class=\\\"guide background\\\" id=\\\"img-ea7c9ad0-21\\\">\\n        <g transform=\\\"translate(63.47,45.52)\\\" id=\\\"img-ea7c9ad0-22\\\">\\n          <path d=\\\"M-45.17,-40.52 L45.17,-40.52 45.17,40.52 -45.17,40.52  z\\\" class=\\\"primitive\\\"\\/>\\n        <\\/g>\\n      <\\/g>\\n      <g class=\\\"guide ygridlines xfixed\\\" stroke-dasharray=\\\"0.5,0.5\\\" stroke-width=\\\"0.2\\\" stroke=\\\"#D0D0E0\\\" id=\\\"img-ea7c9ad0-23\\\">\\n        <g transform=\\\"translate(63.47,84.04)\\\" id=\\\"img-ea7c9ad0-24\\\">\\n          <path fill=\\\"none\\\" d=\\\"M-45.17,0 L45.17,0 \\\" class=\\\"primitive\\\"\\/>\\n        <\\/g>\\n        <g transform=\\\"translate(63.47,45.52)\\\" id=\\\"img-ea7c9ad0-25\\\">\\n          <path fill=\\\"none\\\" d=\\\"M-45.17,0 L45.17,0 \\\" class=\\\"primitive\\\"\\/>\\n        <\\/g>\\n        <g transform=\\\"translate(63.47,7)\\\" id=\\\"img-ea7c9ad0-26\\\">\\n          <path fill=\\\"none\\\" d=\\\"M-45.17,0 L45.17,0 \\\" class=\\\"primitive\\\"\\/>\\n        <\\/g>\\n      <\\/g>\\n      <g class=\\\"guide xgridlines yfixed\\\" stroke-dasharray=\\\"0.5,0.5\\\" stroke-width=\\\"0.2\\\" stroke=\\\"#D0D0E0\\\" id=\\\"img-ea7c9ad0-27\\\">\\n        <g transform=\\\"translate(20.3,45.52)\\\" id=\\\"img-ea7c9ad0-28\\\">\\n          <path fill=\\\"none\\\" d=\\\"M0,-40.52 L0,40.52 \\\" class=\\\"primitive\\\"\\/>\\n        <\\/g>\\n        <g transform=\\\"translate(37.57,45.52)\\\" id=\\\"img-ea7c9ad0-29\\\">\\n          <path fill=\\\"none\\\" d=\\\"M0,-40.52 L0,40.52 \\\" class=\\\"primitive\\\"\\/>\\n        <\\/g>\\n        <g transform=\\\"translate(54.84,45.52)\\\" id=\\\"img-ea7c9ad0-30\\\">\\n          <path fill=\\\"none\\\" d=\\\"M0,-40.52 L0,40.52 \\\" class=\\\"primitive\\\"\\/>\\n        <\\/g>\\n        <g transform=\\\"translate(72.11,45.52)\\\" id=\\\"img-ea7c9ad0-31\\\">\\n          <path fill=\\\"none\\\" d=\\\"M0,-40.52 L0,40.52 \\\" class=\\\"primitive\\\"\\/>\\n        <\\/g>\\n        <g transform=\\\"translate(89.37,45.52)\\\" id=\\\"img-ea7c9ad0-32\\\">\\n          <path fill=\\\"none\\\" d=\\\"M0,-40.52 L0,40.52 \\\" class=\\\"primitive\\\"\\/>\\n        <\\/g>\\n        <g transform=\\\"translate(106.64,45.52)\\\" id=\\\"img-ea7c9ad0-33\\\">\\n          <path fill=\\\"none\\\" d=\\\"M0,-40.52 L0,40.52 \\\" class=\\\"primitive\\\"\\/>\\n        <\\/g>\\n      <\\/g>\\n      <g class=\\\"plotpanel\\\" id=\\\"img-ea7c9ad0-34\\\">\\n        <metadata>\\n          <boundingbox value=\\\"18.303333333333327mm 5.0mm 90.33802290397618mm 81.04333333333334mm\\\"\\/>\\n          <unitbox value=\\\"-5.115823824355138 1.0259594167784363 5.231647648710275 -1.0519188335568728\\\"\\/>\\n        <\\/metadata>\\n        <g stroke-width=\\\"0.3\\\" fill=\\\"#000000\\\" fill-opacity=\\\"0.000\\\" class=\\\"geometry\\\" id=\\\"img-ea7c9ad0-35\\\">\\n          <g class=\\\"color_LCHab{Float32}(70.0f0,60.0f0,240.0f0)\\\" stroke-dasharray=\\\"none\\\" stroke=\\\"#00BFFF\\\" id=\\\"img-ea7c9ad0-36\\\">\\n            <g transform=\\\"translate(63.47,77.44)\\\" id=\\\"img-ea7c9ad0-37\\\">\\n              <path fill=\\\"none\\\" d=\\\"M-43.17,5.83 L-41.44,5.83 -39.72,5.83 -37.99,5.83 -36.26,5.83 -34.54,5.83 -32.81,5.83 -31.08,5.82 -29.35,5.82 -27.63,5.82 -25.9,5.81 -24.17,5.8 -22.45,5.79 -20.72,5.78 -18.99,5.77 -17.27,5.75 -15.54,5.72 -13.81,5.69 -12.09,5.65 -10.36,5.59 -8.63,5.51 -6.91,5.4 -5.18,5.23 -3.45,4.98 -1.73,4.57 0,3.91 1.73,2.87 3.45,1.81 5.18,0.79 6.91,-0.23 8.63,-1.25 10.36,-2.25 12.09,-3.2 13.81,-4.11 15.54,-4.94 17.27,-5.7 18.99,-6.37 20.72,-6.95 22.45,-7.45 24.17,-7.88 25.9,-8.23 27.63,-8.53 29.35,-8.77 31.08,-8.97 32.81,-9.13 34.54,-9.26 36.26,-9.36 37.99,-9.44 39.72,-9.51 41.44,-9.57 43.17,-9.61 \\\" class=\\\"primitive\\\"\\/>\\n            <\\/g>\\n          <\\/g>\\n        <\\/g>\\n        <g stroke-width=\\\"0.3\\\" fill=\\\"#000000\\\" fill-opacity=\\\"0.000\\\" class=\\\"geometry\\\" id=\\\"img-ea7c9ad0-38\\\">\\n          <g class=\\\"color_LCHab{Float32}(80.0f0,70.000015f0,100.43479f0)\\\" stroke-dasharray=\\\"none\\\" stroke=\\\"#D4CA3A\\\" id=\\\"img-ea7c9ad0-39\\\">\\n            <g transform=\\\"translate(63.47,72.21)\\\" id=\\\"img-ea7c9ad0-40\\\">\\n              <path fill=\\\"none\\\" d=\\\"M-43.17,11.06 L-41.44,11.06 -39.72,11.06 -37.99,11.06 -36.26,11.06 -34.54,11.06 -32.81,11.06 -31.08,11.06 -29.35,11.05 -27.63,11.05 -25.9,11.04 -24.17,11.04 -22.45,11.03 -20.72,11.02 -18.99,11.01 -17.27,10.99 -15.54,10.97 -13.81,10.94 -12.09,10.9 -10.36,10.85 -8.63,10.78 -6.91,10.68 -5.18,10.55 -3.45,10.34 -1.73,10.02 0,9.5 1.73,8.62 3.45,7.23 5.18,5.28 6.91,2.93 8.63,0.36 10.36,-2.29 12.09,-4.92 13.81,-7.44 15.54,-9.68 17.27,-11.41 18.99,-12.94 20.72,-14.28 22.45,-15.42 24.17,-16.4 25.9,-17.21 27.63,-17.89 29.35,-18.44 31.08,-18.9 32.81,-19.27 34.54,-19.56 36.26,-19.81 37.99,-20 39.72,-20.15 41.44,-20.28 43.17,-20.38 \\\" class=\\\"primitive\\\"\\/>\\n            <\\/g>\\n          <\\/g>\\n        <\\/g>\\n        <g stroke-width=\\\"0.3\\\" fill=\\\"#000000\\\" fill-opacity=\\\"0.000\\\" class=\\\"geometry\\\" id=\\\"img-ea7c9ad0-41\\\">\\n          <g class=\\\"color_LCHab{Float32}(65.89944f0,62.21457f0,353.99814f0)\\\" stroke-dasharray=\\\"none\\\" stroke=\\\"#FF6DAE\\\" id=\\\"img-ea7c9ad0-42\\\">\\n            <g transform=\\\"translate(63.47,72)\\\" id=\\\"img-ea7c9ad0-43\\\">\\n              <path fill=\\\"none\\\" d=\\\"M-43.17,11.27 L-41.44,11.27 -39.72,11.27 -37.99,11.27 -36.26,11.27 -34.54,11.26 -32.81,11.26 -31.08,11.26 -29.35,11.26 -27.63,11.25 -25.9,11.25 -24.17,11.24 -22.45,11.24 -20.72,11.23 -18.99,11.22 -17.27,11.2 -15.54,11.18 -13.81,11.16 -12.09,11.12 -10.36,11.08 -8.63,11.02 -6.91,10.94 -5.18,10.83 -3.45,10.67 -1.73,10.42 0,10.04 1.73,9.41 3.45,8.37 5.18,6.79 6.91,4.68 8.63,2.22 10.36,-0.43 12.09,-3.11 13.81,-5.73 15.54,-8.2 17.27,-10.47 18.99,-12.51 20.72,-14.31 22.45,-15.86 24.17,-17.18 25.9,-18.29 27.63,-19.21 29.35,-19.98 31.08,-20.6 32.81,-21.11 34.54,-21.52 36.26,-21.85 37.99,-22.12 39.72,-22.33 41.44,-22.51 43.17,-22.64 \\\" class=\\\"primitive\\\"\\/>\\n            <\\/g>\\n          <\\/g>\\n        <\\/g>\\n      <\\/g>\\n    <\\/g>\\n  <\\/g>\\n  <g class=\\\"guide ylabels\\\" font-size=\\\"2.82\\\" font-family=\\\"'PT Sans Caption','Helvetica Neue','Helvetica',sans-serif\\\" fill=\\\"#6C606B\\\" id=\\\"img-ea7c9ad0-44\\\">\\n    <g transform=\\\"translate(17.3,84.04)\\\" id=\\\"img-ea7c9ad0-45\\\">\\n      <g class=\\\"primitive\\\">\\n        <text text-anchor=\\\"end\\\" dy=\\\"0.35em\\\">0.0<\\/text>\\n      <\\/g>\\n    <\\/g>\\n    <g transform=\\\"translate(17.3,45.52)\\\" id=\\\"img-ea7c9ad0-46\\\">\\n      <g class=\\\"primitive\\\">\\n        <text text-anchor=\\\"end\\\" dy=\\\"0.35em\\\">0.5<\\/text>\\n      <\\/g>\\n    <\\/g>\\n    <g transform=\\\"translate(17.3,7)\\\" id=\\\"img-ea7c9ad0-47\\\">\\n      <g class=\\\"primitive\\\">\\n        <text text-anchor=\\\"end\\\" dy=\\\"0.35em\\\">1.0<\\/text>\\n      <\\/g>\\n    <\\/g>\\n  <\\/g>\\n  <g font-size=\\\"3.53\\\" font-family=\\\"'PT Sans','Helvetica Neue','Helvetica',sans-serif\\\" fill=\\\"#564A55\\\" stroke=\\\"#000000\\\" stroke-opacity=\\\"0.000\\\" id=\\\"img-ea7c9ad0-48\\\">\\n    <g transform=\\\"translate(8.64,43.52)\\\" id=\\\"img-ea7c9ad0-49\\\">\\n      <g class=\\\"primitive\\\">\\n        <text text-anchor=\\\"middle\\\" dy=\\\"0.35em\\\" transform=\\\"rotate(-90,0, 2)\\\">gs (mol bar⁻¹ m⁻² s⁻¹)<\\/text>\\n      <\\/g>\\n    <\\/g>\\n  <\\/g>\\n<\\/g>\\n<defs>\\n  <clipPath id=\\\"img-ea7c9ad0-19\\\">\\n    <path d=\\\"M18.3,5 L108.64,5 108.64,86.04 18.3,86.04 \\\" \\/>\\n  <\\/clipPath>\\n<\\/defs>\\n<\\/svg>\\n\"}}},\"children\":[{\"props\":{\"className\":\"webio-observable\",\"setInnerHtml\":\"<?xml version=\\\"1.0\\\" encoding=\\\"UTF-8\\\"?>\\n<svg xmlns=\\\"http:\\/\\/www.w3.org\\/2000\\/svg\\\"\\n     xmlns:xlink=\\\"http:\\/\\/www.w3.org\\/1999\\/xlink\\\"\\n     xmlns:gadfly=\\\"http:\\/\\/www.gadflyjl.org\\/ns\\\"\\n     version=\\\"1.2\\\"\\n     width=\\\"141.42mm\\\" height=\\\"100mm\\\" viewBox=\\\"0 0 141.42 100\\\"\\n     stroke=\\\"none\\\"\\n     fill=\\\"#000000\\\"\\n     stroke-width=\\\"0.3\\\"\\n     font-size=\\\"3.88\\\"\\n>\\n<defs>\\n  <marker id=\\\"arrow\\\" markerWidth=\\\"15\\\" markerHeight=\\\"7\\\" refX=\\\"5\\\" refY=\\\"3.5\\\" orient=\\\"auto\\\" markerUnits=\\\"strokeWidth\\\">\\n    <path d=\\\"M0,0 L15,3.5 L0,7 z\\\" stroke=\\\"context-stroke\\\" fill=\\\"context-stroke\\\"\\/>\\n  <\\/marker>\\n<\\/defs>\\n<g stroke=\\\"#000000\\\" stroke-opacity=\\\"0.000\\\" fill=\\\"#FFFFFF\\\" id=\\\"img-ea7c9ad0-1\\\">\\n  <g transform=\\\"translate(70.71,50)\\\">\\n    <path d=\\\"M-70.71,-50 L70.71,-50 70.71,50 -70.71,50  z\\\" class=\\\"primitive\\\"\\/>\\n  <\\/g>\\n<\\/g>\\n<g class=\\\"plotroot xscalable yscalable\\\" id=\\\"img-ea7c9ad0-2\\\">\\n  <g font-size=\\\"3.53\\\" font-family=\\\"'PT Sans','Helvetica Neue','Helvetica',sans-serif\\\" fill=\\\"#564A55\\\" stroke=\\\"#000000\\\" stroke-opacity=\\\"0.000\\\" id=\\\"img-ea7c9ad0-3\\\">\\n    <g transform=\\\"translate(63.47,93.72)\\\">\\n      <g class=\\\"primitive\\\">\\n        <text text-anchor=\\\"middle\\\" dy=\\\"0.6em\\\">WP_leaf (MPa)<\\/text>\\n      <\\/g>\\n    <\\/g>\\n  <\\/g>\\n  <g class=\\\"guide xlabels\\\" font-size=\\\"2.82\\\" font-family=\\\"'PT Sans Caption','Helvetica Neue','Helvetica',sans-serif\\\" fill=\\\"#6C606B\\\" id=\\\"img-ea7c9ad0-4\\\">\\n    <g transform=\\\"translate(20.3,87.04)\\\">\\n      <g class=\\\"primitive\\\">\\n        <text text-anchor=\\\"middle\\\" dy=\\\"0.6em\\\">-5<\\/text>\\n      <\\/g>\\n    <\\/g>\\n    <g transform=\\\"translate(37.57,87.04)\\\">\\n      <g class=\\\"primitive\\\">\\n        <text text-anchor=\\\"middle\\\" dy=\\\"0.6em\\\">-4<\\/text>\\n      <\\/g>\\n    <\\/g>\\n    <g transform=\\\"translate(54.84,87.04)\\\">\\n      <g class=\\\"primitive\\\">\\n        <text text-anchor=\\\"middle\\\" dy=\\\"0.6em\\\">-3<\\/text>\\n      <\\/g>\\n    <\\/g>\\n    <g transform=\\\"translate(72.11,87.04)\\\">\\n      <g class=\\\"primitive\\\">\\n        <text text-anchor=\\\"middle\\\" dy=\\\"0.6em\\\">-2<\\/text>\\n      <\\/g>\\n    <\\/g>\\n    <g transform=\\\"translate(89.37,87.04)\\\">\\n      <g class=\\\"primitive\\\">\\n        <text text-anchor=\\\"middle\\\" dy=\\\"0.6em\\\">-1<\\/text>\\n      <\\/g>\\n    <\\/g>\\n    <g transform=\\\"translate(106.64,87.04)\\\">\\n      <g class=\\\"primitive\\\">\\n        <text text-anchor=\\\"middle\\\" dy=\\\"0.6em\\\">0<\\/text>\\n      <\\/g>\\n    <\\/g>\\n  <\\/g>\\n  <g class=\\\"guide colorkey\\\" id=\\\"img-ea7c9ad0-5\\\">\\n    <g fill=\\\"#4C404B\\\" font-size=\\\"2.82\\\" font-family=\\\"'PT Sans','Helvetica Neue','Helvetica',sans-serif\\\" id=\\\"img-ea7c9ad0-6\\\">\\n      <g transform=\\\"translate(113.27,44.12)\\\" id=\\\"img-ea7c9ad0-7\\\">\\n        <g class=\\\"primitive\\\">\\n          <text dy=\\\"0.35em\\\">1000 μmol mol⁻¹<\\/text>\\n        <\\/g>\\n      <\\/g>\\n      <g transform=\\\"translate(113.27,47.75)\\\" id=\\\"img-ea7c9ad0-8\\\">\\n        <g class=\\\"primitive\\\">\\n          <text dy=\\\"0.35em\\\">400 μmol mol⁻¹<\\/text>\\n        <\\/g>\\n      <\\/g>\\n      <g transform=\\\"translate(113.27,51.38)\\\" id=\\\"img-ea7c9ad0-9\\\">\\n        <g class=\\\"primitive\\\">\\n          <text dy=\\\"0.35em\\\">250 μmol mol⁻¹<\\/text>\\n        <\\/g>\\n      <\\/g>\\n    <\\/g>\\n    <g stroke-width=\\\"0.3\\\" id=\\\"img-ea7c9ad0-10\\\">\\n      <g stroke=\\\"#FFFFFF\\\" stroke-opacity=\\\"0.000\\\" fill-opacity=\\\"1\\\" fill=\\\"#FF6DAE\\\" id=\\\"img-ea7c9ad0-11\\\">\\n        <g transform=\\\"translate(110.45,51.38)\\\" id=\\\"img-ea7c9ad0-12\\\">\\n          <circle cx=\\\"0\\\" cy=\\\"0\\\" r=\\\"0.7\\\" class=\\\"primitive\\\"\\/>\\n        <\\/g>\\n      <\\/g>\\n      <g stroke=\\\"#FFFFFF\\\" stroke-opacity=\\\"0.000\\\" fill-opacity=\\\"1\\\" fill=\\\"#D4CA3A\\\" id=\\\"img-ea7c9ad0-13\\\">\\n        <g transform=\\\"translate(110.45,47.75)\\\" id=\\\"img-ea7c9ad0-14\\\">\\n          <circle cx=\\\"0\\\" cy=\\\"0\\\" r=\\\"0.7\\\" class=\\\"primitive\\\"\\/>\\n        <\\/g>\\n      <\\/g>\\n      <g stroke=\\\"#FFFFFF\\\" stroke-opacity=\\\"0.000\\\" fill-opacity=\\\"1\\\" fill=\\\"#00BFFF\\\" id=\\\"img-ea7c9ad0-15\\\">\\n        <g transform=\\\"translate(110.45,44.12)\\\" id=\\\"img-ea7c9ad0-16\\\">\\n          <circle cx=\\\"0\\\" cy=\\\"0\\\" r=\\\"0.7\\\" class=\\\"primitive\\\"\\/>\\n        <\\/g>\\n      <\\/g>\\n    <\\/g>\\n    <g fill=\\\"#362A35\\\" font-size=\\\"3.18\\\" font-family=\\\"'PT Sans','Helvetica Neue','Helvetica',sans-serif\\\" stroke=\\\"#000000\\\" stroke-opacity=\\\"0.000\\\" id=\\\"img-ea7c9ad0-17\\\">\\n      <g transform=\\\"translate(109.64,40.81)\\\" id=\\\"img-ea7c9ad0-18\\\">\\n        <g class=\\\"primitive\\\">\\n          <text dy=\\\"-0em\\\">CO2 (μmol mol⁻¹)<\\/text>\\n        <\\/g>\\n      <\\/g>\\n    <\\/g>\\n  <\\/g>\\n  <g clip-path=\\\"url(#img-ea7c9ad0-19)\\\">\\n    <g id=\\\"img-ea7c9ad0-20\\\">\\n      <g pointer-events=\\\"visible\\\" stroke-width=\\\"0.3\\\" fill=\\\"#000000\\\" fill-opacity=\\\"0.000\\\" stroke=\\\"#000000\\\" stroke-opacity=\\\"0.000\\\" class=\\\"guide background\\\" id=\\\"img-ea7c9ad0-21\\\">\\n        <g transform=\\\"translate(63.47,45.52)\\\" id=\\\"img-ea7c9ad0-22\\\">\\n          <path d=\\\"M-45.17,-40.52 L45.17,-40.52 45.17,40.52 -45.17,40.52  z\\\" class=\\\"primitive\\\"\\/>\\n        <\\/g>\\n      <\\/g>\\n      <g class=\\\"guide ygridlines xfixed\\\" stroke-dasharray=\\\"0.5,0.5\\\" stroke-width=\\\"0.2\\\" stroke=\\\"#D0D0E0\\\" id=\\\"img-ea7c9ad0-23\\\">\\n        <g transform=\\\"translate(63.47,84.04)\\\" id=\\\"img-ea7c9ad0-24\\\">\\n          <path fill=\\\"none\\\" d=\\\"M-45.17,0 L45.17,0 \\\" class=\\\"primitive\\\"\\/>\\n        <\\/g>\\n        <g transform=\\\"translate(63.47,45.52)\\\" id=\\\"img-ea7c9ad0-25\\\">\\n          <path fill=\\\"none\\\" d=\\\"M-45.17,0 L45.17,0 \\\" class=\\\"primitive\\\"\\/>\\n        <\\/g>\\n        <g transform=\\\"translate(63.47,7)\\\" id=\\\"img-ea7c9ad0-26\\\">\\n          <path fill=\\\"none\\\" d=\\\"M-45.17,0 L45.17,0 \\\" class=\\\"primitive\\\"\\/>\\n        <\\/g>\\n      <\\/g>\\n      <g class=\\\"guide xgridlines yfixed\\\" stroke-dasharray=\\\"0.5,0.5\\\" stroke-width=\\\"0.2\\\" stroke=\\\"#D0D0E0\\\" id=\\\"img-ea7c9ad0-27\\\">\\n        <g transform=\\\"translate(20.3,45.52)\\\" id=\\\"img-ea7c9ad0-28\\\">\\n          <path fill=\\\"none\\\" d=\\\"M0,-40.52 L0,40.52 \\\" class=\\\"primitive\\\"\\/>\\n        <\\/g>\\n        <g transform=\\\"translate(37.57,45.52)\\\" id=\\\"img-ea7c9ad0-29\\\">\\n          <path fill=\\\"none\\\" d=\\\"M0,-40.52 L0,40.52 \\\" class=\\\"primitive\\\"\\/>\\n        <\\/g>\\n        <g transform=\\\"translate(54.84,45.52)\\\" id=\\\"img-ea7c9ad0-30\\\">\\n          <path fill=\\\"none\\\" d=\\\"M0,-40.52 L0,40.52 \\\" class=\\\"primitive\\\"\\/>\\n        <\\/g>\\n        <g transform=\\\"translate(72.11,45.52)\\\" id=\\\"img-ea7c9ad0-31\\\">\\n          <path fill=\\\"none\\\" d=\\\"M0,-40.52 L0,40.52 \\\" class=\\\"primitive\\\"\\/>\\n        <\\/g>\\n        <g transform=\\\"translate(89.37,45.52)\\\" id=\\\"img-ea7c9ad0-32\\\">\\n          <path fill=\\\"none\\\" d=\\\"M0,-40.52 L0,40.52 \\\" class=\\\"primitive\\\"\\/>\\n        <\\/g>\\n        <g transform=\\\"translate(106.64,45.52)\\\" id=\\\"img-ea7c9ad0-33\\\">\\n          <path fill=\\\"none\\\" d=\\\"M0,-40.52 L0,40.52 \\\" class=\\\"primitive\\\"\\/>\\n        <\\/g>\\n      <\\/g>\\n      <g class=\\\"plotpanel\\\" id=\\\"img-ea7c9ad0-34\\\">\\n        <metadata>\\n          <boundingbox value=\\\"18.303333333333327mm 5.0mm 90.33802290397618mm 81.04333333333334mm\\\"\\/>\\n          <unitbox value=\\\"-5.115823824355138 1.0259594167784363 5.231647648710275 -1.0519188335568728\\\"\\/>\\n        <\\/metadata>\\n        <g stroke-width=\\\"0.3\\\" fill=\\\"#000000\\\" fill-opacity=\\\"0.000\\\" class=\\\"geometry\\\" id=\\\"img-ea7c9ad0-35\\\">\\n          <g class=\\\"color_LCHab{Float32}(70.0f0,60.0f0,240.0f0)\\\" stroke-dasharray=\\\"none\\\" stroke=\\\"#00BFFF\\\" id=\\\"img-ea7c9ad0-36\\\">\\n            <g transform=\\\"translate(63.47,77.44)\\\" id=\\\"img-ea7c9ad0-37\\\">\\n              <path fill=\\\"none\\\" d=\\\"M-43.17,5.83 L-41.44,5.83 -39.72,5.83 -37.99,5.83 -36.26,5.83 -34.54,5.83 -32.81,5.83 -31.08,5.82 -29.35,5.82 -27.63,5.82 -25.9,5.81 -24.17,5.8 -22.45,5.79 -20.72,5.78 -18.99,5.77 -17.27,5.75 -15.54,5.72 -13.81,5.69 -12.09,5.65 -10.36,5.59 -8.63,5.51 -6.91,5.4 -5.18,5.23 -3.45,4.98 -1.73,4.57 0,3.91 1.73,2.87 3.45,1.81 5.18,0.79 6.91,-0.23 8.63,-1.25 10.36,-2.25 12.09,-3.2 13.81,-4.11 15.54,-4.94 17.27,-5.7 18.99,-6.37 20.72,-6.95 22.45,-7.45 24.17,-7.88 25.9,-8.23 27.63,-8.53 29.35,-8.77 31.08,-8.97 32.81,-9.13 34.54,-9.26 36.26,-9.36 37.99,-9.44 39.72,-9.51 41.44,-9.57 43.17,-9.61 \\\" class=\\\"primitive\\\"\\/>\\n            <\\/g>\\n          <\\/g>\\n        <\\/g>\\n        <g stroke-width=\\\"0.3\\\" fill=\\\"#000000\\\" fill-opacity=\\\"0.000\\\" class=\\\"geometry\\\" id=\\\"img-ea7c9ad0-38\\\">\\n          <g class=\\\"color_LCHab{Float32}(80.0f0,70.000015f0,100.43479f0)\\\" stroke-dasharray=\\\"none\\\" stroke=\\\"#D4CA3A\\\" id=\\\"img-ea7c9ad0-39\\\">\\n            <g transform=\\\"translate(63.47,72.21)\\\" id=\\\"img-ea7c9ad0-40\\\">\\n              <path fill=\\\"none\\\" d=\\\"M-43.17,11.06 L-41.44,11.06 -39.72,11.06 -37.99,11.06 -36.26,11.06 -34.54,11.06 -32.81,11.06 -31.08,11.06 -29.35,11.05 -27.63,11.05 -25.9,11.04 -24.17,11.04 -22.45,11.03 -20.72,11.02 -18.99,11.01 -17.27,10.99 -15.54,10.97 -13.81,10.94 -12.09,10.9 -10.36,10.85 -8.63,10.78 -6.91,10.68 -5.18,10.55 -3.45,10.34 -1.73,10.02 0,9.5 1.73,8.62 3.45,7.23 5.18,5.28 6.91,2.93 8.63,0.36 10.36,-2.29 12.09,-4.92 13.81,-7.44 15.54,-9.68 17.27,-11.41 18.99,-12.94 20.72,-14.28 22.45,-15.42 24.17,-16.4 25.9,-17.21 27.63,-17.89 29.35,-18.44 31.08,-18.9 32.81,-19.27 34.54,-19.56 36.26,-19.81 37.99,-20 39.72,-20.15 41.44,-20.28 43.17,-20.38 \\\" class=\\\"primitive\\\"\\/>\\n            <\\/g>\\n          <\\/g>\\n        <\\/g>\\n        <g stroke-width=\\\"0.3\\\" fill=\\\"#000000\\\" fill-opacity=\\\"0.000\\\" class=\\\"geometry\\\" id=\\\"img-ea7c9ad0-41\\\">\\n          <g class=\\\"color_LCHab{Float32}(65.89944f0,62.21457f0,353.99814f0)\\\" stroke-dasharray=\\\"none\\\" stroke=\\\"#FF6DAE\\\" id=\\\"img-ea7c9ad0-42\\\">\\n            <g transform=\\\"translate(63.47,72)\\\" id=\\\"img-ea7c9ad0-43\\\">\\n              <path fill=\\\"none\\\" d=\\\"M-43.17,11.27 L-41.44,11.27 -39.72,11.27 -37.99,11.27 -36.26,11.27 -34.54,11.26 -32.81,11.26 -31.08,11.26 -29.35,11.26 -27.63,11.25 -25.9,11.25 -24.17,11.24 -22.45,11.24 -20.72,11.23 -18.99,11.22 -17.27,11.2 -15.54,11.18 -13.81,11.16 -12.09,11.12 -10.36,11.08 -8.63,11.02 -6.91,10.94 -5.18,10.83 -3.45,10.67 -1.73,10.42 0,10.04 1.73,9.41 3.45,8.37 5.18,6.79 6.91,4.68 8.63,2.22 10.36,-0.43 12.09,-3.11 13.81,-5.73 15.54,-8.2 17.27,-10.47 18.99,-12.51 20.72,-14.31 22.45,-15.86 24.17,-17.18 25.9,-18.29 27.63,-19.21 29.35,-19.98 31.08,-20.6 32.81,-21.11 34.54,-21.52 36.26,-21.85 37.99,-22.12 39.72,-22.33 41.44,-22.51 43.17,-22.64 \\\" class=\\\"primitive\\\"\\/>\\n            <\\/g>\\n          <\\/g>\\n        <\\/g>\\n      <\\/g>\\n    <\\/g>\\n  <\\/g>\\n  <g class=\\\"guide ylabels\\\" font-size=\\\"2.82\\\" font-family=\\\"'PT Sans Caption','Helvetica Neue','Helvetica',sans-serif\\\" fill=\\\"#6C606B\\\" id=\\\"img-ea7c9ad0-44\\\">\\n    <g transform=\\\"translate(17.3,84.04)\\\" id=\\\"img-ea7c9ad0-45\\\">\\n      <g class=\\\"primitive\\\">\\n        <text text-anchor=\\\"end\\\" dy=\\\"0.35em\\\">0.0<\\/text>\\n      <\\/g>\\n    <\\/g>\\n    <g transform=\\\"translate(17.3,45.52)\\\" id=\\\"img-ea7c9ad0-46\\\">\\n      <g class=\\\"primitive\\\">\\n        <text text-anchor=\\\"end\\\" dy=\\\"0.35em\\\">0.5<\\/text>\\n      <\\/g>\\n    <\\/g>\\n    <g transform=\\\"translate(17.3,7)\\\" id=\\\"img-ea7c9ad0-47\\\">\\n      <g class=\\\"primitive\\\">\\n        <text text-anchor=\\\"end\\\" dy=\\\"0.35em\\\">1.0<\\/text>\\n      <\\/g>\\n    <\\/g>\\n  <\\/g>\\n  <g font-size=\\\"3.53\\\" font-family=\\\"'PT Sans','Helvetica Neue','Helvetica',sans-serif\\\" fill=\\\"#564A55\\\" stroke=\\\"#000000\\\" stroke-opacity=\\\"0.000\\\" id=\\\"img-ea7c9ad0-48\\\">\\n    <g transform=\\\"translate(8.64,43.52)\\\" id=\\\"img-ea7c9ad0-49\\\">\\n      <g class=\\\"primitive\\\">\\n        <text text-anchor=\\\"middle\\\" dy=\\\"0.35em\\\" transform=\\\"rotate(-90,0, 2)\\\">gs (mol bar⁻¹ m⁻² s⁻¹)<\\/text>\\n      <\\/g>\\n    <\\/g>\\n  <\\/g>\\n<\\/g>\\n<defs>\\n  <clipPath id=\\\"img-ea7c9ad0-19\\\">\\n    <path d=\\\"M18.3,5 L108.64,5 108.64,86.04 18.3,86.04 \\\" \\/>\\n  <\\/clipPath>\\n<\\/defs>\\n<\\/svg>\\n\"},\"nodeType\":\"DOM\",\"type\":\"node\",\"instanceArgs\":{\"namespace\":\"html\",\"tag\":\"div\"},\"children\":[]}]}]},\n",
       "        window,\n",
       "    );\n",
       "    })()\n",
       "    </script>\n",
       "</div>\n"
      ],
      "text/plain": [
       "WebIO.Node{WebIO.DOM}(WebIO.DOM(:html, :div), Any[WebIO.Node{WebIO.DOM}(WebIO.DOM(:html, :div), Any[\"Weather\"], Dict{Symbol, Any}(:style => Dict{String, Any}(\"color\" => :rebeccapurple, \"font-family\" => \"monospace\"))), WebIO.Node{WebIO.DOM}(WebIO.DOM(:html, :div), Any[WebIO.Scope(WebIO.Node{WebIO.DOM}(WebIO.DOM(:html, :div), Any[WebIO.Node{WebIO.DOM}(WebIO.DOM(:html, :div), Any[WebIO.Node{WebIO.DOM}(WebIO.DOM(:html, :label), Any[\"RH (%)\"], Dict{Symbol, Any}(:className => \"interact \", :style => Dict{Any, Any}(:padding => \"5px 10px 0px 10px\", \"white-space\" => :nowrap, \"color\" => :royalblue)))], Dict{Symbol, Any}(:className => \"interact-flex-row-left\")), WebIO.Node{WebIO.DOM}(WebIO.DOM(:html, :div), Any[WebIO.Node{WebIO.DOM}(WebIO.DOM(:html, :input), Any[], Dict{Symbol, Any}(:max => 21, :min => 1, :attributes => Dict{Any, Any}(:type => \"range\", Symbol(\"data-bind\") => \"numericValue: index, valueUpdate: 'input', event: {change: function (){this.changes(this.changes()+1)}}\", \"orient\" => \"horizontal\"), :step => 1, :className => \"slider slider is-fullwidth\", :style => Dict{Any, Any}()))], Dict{Symbol, Any}(:className => \"interact-flex-row-center\")), WebIO.Node{WebIO.DOM}(WebIO.DOM(:html, :div), Any[WebIO.Node{WebIO.DOM}(WebIO.DOM(:html, :p), Any[], Dict{Symbol, Any}(:attributes => Dict(\"data-bind\" => \"text: formatted_val\")))], Dict{Symbol, Any}(:className => \"interact-flex-row-right\"))], Dict{Symbol, Any}(:className => \"interact-flex-row interact-widget\", :style => Dict(\"font-family\" => \"monospace\", \"width\" => \"80%\"))), Dict{String, Tuple{Observables.AbstractObservable, Union{Nothing, Bool}}}(\"changes\" => (Observable(0), nothing), \"index\" => (Observable{Any}(13), nothing)), Set{String}(), nothing, WebIO.Asset[WebIO.Asset(\"js\", \"knockout\", \"/Users/soohkim/.julia/packages/Knockout/HReiN/src/../assets/knockout.js\"), WebIO.Asset(\"js\", \"knockout_punches\", \"/Users/soohkim/.julia/packages/Knockout/HReiN/src/../assets/knockout_punches.js\"), WebIO.Asset(\"js\", nothing, \"/Users/soohkim/.julia/packages/InteractBase/Qhvxg/src/../assets/all.js\"), WebIO.Asset(\"css\", nothing, \"/Users/soohkim/.julia/packages/InteractBase/Qhvxg/src/../assets/style.css\"), WebIO.Asset(\"css\", nothing, \"/Users/soohkim/.julia/packages/Interact/PENUy/src/../assets/bulma_confined.min.css\")], Dict{Any, Any}(\"changes\" => Any[WebIO.JSString(\"(function (val){return (val!=this.model[\\\"changes\\\"]()) ? (this.valueFromJulia[\\\"changes\\\"]=true, this.model[\\\"changes\\\"](val)) : undefined})\")], \"index\" => Any[WebIO.JSString(\"(function (val){return (val!=this.model[\\\"index\\\"]()) ? (this.valueFromJulia[\\\"index\\\"]=true, this.model[\\\"index\\\"](val)) : undefined})\")]), WebIO.ConnectionPool(Channel{Any}(32), Set{WebIO.AbstractConnection}(), Condition(Base.InvasiveLinkedList{Task}(Task (runnable) @0x000000015eb1ea10, Task (runnable) @0x000000015eb1ea10), Base.AlwaysLockedST(1))), WebIO.JSString[WebIO.JSString(\"function () {\\n    var handler = (function (ko, koPunches) {\\n    ko.punches.enableAll();\\n    ko.bindingHandlers.numericValue = {\\n        init: function(element, valueAccessor, allBindings, data, context) {\\n            var stringified = ko.observable(ko.unwrap(valueAccessor()));\\n            stringified.subscribe(function(value) {\\n                var val = parseFloat(value);\\n                if (!isNaN(val)) {\\n                    valueAccessor()(val);\\n                }\\n            });\\n            valueAccessor().subscribe(function(value) {\\n                var str = JSON.stringify(value);\\n                if ((str == \\\"0\\\") && ([\\\"-0\\\", \\\"-0.\\\"].indexOf(stringified()) >= 0))\\n                     return;\\n                 if ([\\\"null\\\", \\\"\\\"].indexOf(str) >= 0)\\n                     return;\\n                stringified(str);\\n            });\\n            ko.applyBindingsToNode(\\n                element,\\n                {\\n                    value: stringified,\\n                    valueUpdate: allBindings.get('valueUpdate'),\\n                },\\n                context,\\n            );\\n        }\\n    };\\n    var json_data = {\\\"formatted_vals\\\":[\\\"0\\\",\\\"5\\\",\\\"10\\\",\\\"15\\\",\\\"20\\\",\\\"25\\\",\\\"30\\\",\\\"35\\\",\\\"40\\\",\\\"45\\\",\\\"50\\\",\\\"55\\\",\\\"60\\\",\\\"65\\\",\\\"70\\\",\\\"75\\\",\\\"80\\\",\\\"85\\\",\\\"90\\\",\\\"95\\\",\\\"100\\\"],\\\"changes\\\":WebIO.getval({\\\"name\\\":\\\"changes\\\",\\\"scope\\\":\\\"17474763117178411739\\\",\\\"id\\\":\\\"5599820653279307988\\\",\\\"type\\\":\\\"observable\\\"}),\\\"index\\\":WebIO.getval({\\\"name\\\":\\\"index\\\",\\\"scope\\\":\\\"17474763117178411739\\\",\\\"id\\\":\\\"12572838546360384483\\\",\\\"type\\\":\\\"observable\\\"})};\\n    var self = this;\\n    function AppViewModel() {\\n        for (var key in json_data) {\\n            var el = json_data[key];\\n            this[key] = Array.isArray(el) ? ko.observableArray(el) : ko.observable(el);\\n        }\\n        \\n        [this[\\\"formatted_val\\\"]=ko.computed(    function(){\\n        return this.formatted_vals()[parseInt(this.index())-(1)];\\n    }\\n,this)]\\n        [this[\\\"changes\\\"].subscribe((function (val){!(this.valueFromJulia[\\\"changes\\\"]) ? (WebIO.setval({\\\"name\\\":\\\"changes\\\",\\\"scope\\\":\\\"17474763117178411739\\\",\\\"id\\\":\\\"5599820653279307988\\\",\\\"type\\\":\\\"observable\\\"},val)) : undefined; return this.valueFromJulia[\\\"changes\\\"]=false}),self),this[\\\"index\\\"].subscribe((function (val){!(this.valueFromJulia[\\\"index\\\"]) ? (WebIO.setval({\\\"name\\\":\\\"index\\\",\\\"scope\\\":\\\"17474763117178411739\\\",\\\"id\\\":\\\"12572838546360384483\\\",\\\"type\\\":\\\"observable\\\"},val)) : undefined; return this.valueFromJulia[\\\"index\\\"]=false}),self)]\\n        \\n    }\\n    self.model = new AppViewModel();\\n    self.valueFromJulia = {};\\n    for (var key in json_data) {\\n        self.valueFromJulia[key] = false;\\n    }\\n    ko.applyBindings(self.model, self.dom);\\n}\\n);\\n    (WebIO.importBlock({\\\"data\\\":[{\\\"name\\\":\\\"knockout\\\",\\\"type\\\":\\\"js\\\",\\\"url\\\":\\\"/assetserver/c0689c4f2514def856941022372b529b3413f129-knockout.js\\\"},{\\\"name\\\":\\\"knockout_punches\\\",\\\"type\\\":\\\"js\\\",\\\"url\\\":\\\"/assetserver/69274bc4b68b761587a57ff3f5e787f3dd4781dc-knockout_punches.js\\\"}],\\\"type\\\":\\\"async_block\\\"})).then((imports) => handler.apply(this, imports));\\n}\\n\")])], Dict{Symbol, Any}(:className => \"field interact-widget\")), WebIO.Node{WebIO.DOM}(WebIO.DOM(:html, :div), Any[WebIO.Scope(WebIO.Node{WebIO.DOM}(WebIO.DOM(:html, :div), Any[WebIO.Node{WebIO.DOM}(WebIO.DOM(:html, :div), Any[WebIO.Node{WebIO.DOM}(WebIO.DOM(:html, :label), Any[\"PFD (μmol m⁻² s⁻¹)\"], Dict{Symbol, Any}(:className => \"interact \", :style => Dict{Any, Any}(:padding => \"5px 10px 0px 10px\", \"white-space\" => :nowrap, \"color\" => :royalblue)))], Dict{Symbol, Any}(:className => \"interact-flex-row-left\")), WebIO.Node{WebIO.DOM}(WebIO.DOM(:html, :div), Any[WebIO.Node{WebIO.DOM}(WebIO.DOM(:html, :input), Any[], Dict{Symbol, Any}(:max => 21, :min => 1, :attributes => Dict{Any, Any}(:type => \"range\", Symbol(\"data-bind\") => \"numericValue: index, valueUpdate: 'input', event: {change: function (){this.changes(this.changes()+1)}}\", \"orient\" => \"horizontal\"), :step => 1, :className => \"slider slider is-fullwidth\", :style => Dict{Any, Any}()))], Dict{Symbol, Any}(:className => \"interact-flex-row-center\")), WebIO.Node{WebIO.DOM}(WebIO.DOM(:html, :div), Any[WebIO.Node{WebIO.DOM}(WebIO.DOM(:html, :p), Any[], Dict{Symbol, Any}(:attributes => Dict(\"data-bind\" => \"text: formatted_val\")))], Dict{Symbol, Any}(:className => \"interact-flex-row-right\"))], Dict{Symbol, Any}(:className => \"interact-flex-row interact-widget\", :style => Dict(\"font-family\" => \"monospace\", \"width\" => \"80%\"))), Dict{String, Tuple{Observables.AbstractObservable, Union{Nothing, Bool}}}(\"changes\" => (Observable(0), nothing), \"index\" => (Observable{Any}(16), nothing)), Set{String}(), nothing, WebIO.Asset[WebIO.Asset(\"js\", \"knockout\", \"/Users/soohkim/.julia/packages/Knockout/HReiN/src/../assets/knockout.js\"), WebIO.Asset(\"js\", \"knockout_punches\", \"/Users/soohkim/.julia/packages/Knockout/HReiN/src/../assets/knockout_punches.js\"), WebIO.Asset(\"js\", nothing, \"/Users/soohkim/.julia/packages/InteractBase/Qhvxg/src/../assets/all.js\"), WebIO.Asset(\"css\", nothing, \"/Users/soohkim/.julia/packages/InteractBase/Qhvxg/src/../assets/style.css\"), WebIO.Asset(\"css\", nothing, \"/Users/soohkim/.julia/packages/Interact/PENUy/src/../assets/bulma_confined.min.css\")], Dict{Any, Any}(\"changes\" => Any[WebIO.JSString(\"(function (val){return (val!=this.model[\\\"changes\\\"]()) ? (this.valueFromJulia[\\\"changes\\\"]=true, this.model[\\\"changes\\\"](val)) : undefined})\")], \"index\" => Any[WebIO.JSString(\"(function (val){return (val!=this.model[\\\"index\\\"]()) ? (this.valueFromJulia[\\\"index\\\"]=true, this.model[\\\"index\\\"](val)) : undefined})\")]), WebIO.ConnectionPool(Channel{Any}(32), Set{WebIO.AbstractConnection}(), Condition(Base.InvasiveLinkedList{Task}(Task (runnable) @0x000000015eb1eb60, Task (runnable) @0x000000015eb1eb60), Base.AlwaysLockedST(1))), WebIO.JSString[WebIO.JSString(\"function () {\\n    var handler = (function (ko, koPunches) {\\n    ko.punches.enableAll();\\n    ko.bindingHandlers.numericValue = {\\n        init: function(element, valueAccessor, allBindings, data, context) {\\n            var stringified = ko.observable(ko.unwrap(valueAccessor()));\\n            stringified.subscribe(function(value) {\\n                var val = parseFloat(value);\\n                if (!isNaN(val)) {\\n                    valueAccessor()(val);\\n                }\\n            });\\n            valueAccessor().subscribe(function(value) {\\n                var str = JSON.stringify(value);\\n                if ((str == \\\"0\\\") && ([\\\"-0\\\", \\\"-0.\\\"].indexOf(stringified()) >= 0))\\n                     return;\\n                 if ([\\\"null\\\", \\\"\\\"].indexOf(str) >= 0)\\n                     return;\\n                stringified(str);\\n            });\\n            ko.applyBindingsToNode(\\n                element,\\n                {\\n                    value: stringified,\\n                    valueUpdate: allBindings.get('valueUpdate'),\\n                },\\n                context,\\n            );\\n        }\\n    };\\n    var json_data = {\\\"formatted_vals\\\":[\\\"0\\\",\\\"100\\\",\\\"200\\\",\\\"300\\\",\\\"400\\\",\\\"500\\\",\\\"600\\\",\\\"700\\\",\\\"800\\\",\\\"900\\\",\\\"1000\\\",\\\"1100\\\",\\\"1200\\\",\\\"1300\\\",\\\"1400\\\",\\\"1500\\\",\\\"1600\\\",\\\"1700\\\",\\\"1800\\\",\\\"1900\\\",\\\"2000\\\"],\\\"changes\\\":WebIO.getval({\\\"name\\\":\\\"changes\\\",\\\"scope\\\":\\\"4517034604475182614\\\",\\\"id\\\":\\\"7465882054751437838\\\",\\\"type\\\":\\\"observable\\\"}),\\\"index\\\":WebIO.getval({\\\"name\\\":\\\"index\\\",\\\"scope\\\":\\\"4517034604475182614\\\",\\\"id\\\":\\\"11955001154729238872\\\",\\\"type\\\":\\\"observable\\\"})};\\n    var self = this;\\n    function AppViewModel() {\\n        for (var key in json_data) {\\n            var el = json_data[key];\\n            this[key] = Array.isArray(el) ? ko.observableArray(el) : ko.observable(el);\\n        }\\n        \\n        [this[\\\"formatted_val\\\"]=ko.computed(    function(){\\n        return this.formatted_vals()[parseInt(this.index())-(1)];\\n    }\\n,this)]\\n        [this[\\\"changes\\\"].subscribe((function (val){!(this.valueFromJulia[\\\"changes\\\"]) ? (WebIO.setval({\\\"name\\\":\\\"changes\\\",\\\"scope\\\":\\\"4517034604475182614\\\",\\\"id\\\":\\\"7465882054751437838\\\",\\\"type\\\":\\\"observable\\\"},val)) : undefined; return this.valueFromJulia[\\\"changes\\\"]=false}),self),this[\\\"index\\\"].subscribe((function (val){!(this.valueFromJulia[\\\"index\\\"]) ? (WebIO.setval({\\\"name\\\":\\\"index\\\",\\\"scope\\\":\\\"4517034604475182614\\\",\\\"id\\\":\\\"11955001154729238872\\\",\\\"type\\\":\\\"observable\\\"},val)) : undefined; return this.valueFromJulia[\\\"index\\\"]=false}),self)]\\n        \\n    }\\n    self.model = new AppViewModel();\\n    self.valueFromJulia = {};\\n    for (var key in json_data) {\\n        self.valueFromJulia[key] = false;\\n    }\\n    ko.applyBindings(self.model, self.dom);\\n}\\n);\\n    (WebIO.importBlock({\\\"data\\\":[{\\\"name\\\":\\\"knockout\\\",\\\"type\\\":\\\"js\\\",\\\"url\\\":\\\"/assetserver/c0689c4f2514def856941022372b529b3413f129-knockout.js\\\"},{\\\"name\\\":\\\"knockout_punches\\\",\\\"type\\\":\\\"js\\\",\\\"url\\\":\\\"/assetserver/69274bc4b68b761587a57ff3f5e787f3dd4781dc-knockout_punches.js\\\"}],\\\"type\\\":\\\"async_block\\\"})).then((imports) => handler.apply(this, imports));\\n}\\n\")])], Dict{Symbol, Any}(:className => \"field interact-widget\")), WebIO.Node{WebIO.DOM}(WebIO.DOM(:html, :div), Any[WebIO.Scope(WebIO.Node{WebIO.DOM}(WebIO.DOM(:html, :div), Any[WebIO.Node{WebIO.DOM}(WebIO.DOM(:html, :div), Any[WebIO.Node{WebIO.DOM}(WebIO.DOM(:html, :label), Any[\"T_air (°C)\"], Dict{Symbol, Any}(:className => \"interact \", :style => Dict{Any, Any}(:padding => \"5px 10px 0px 10px\", \"white-space\" => :nowrap, \"color\" => :royalblue)))], Dict{Symbol, Any}(:className => \"interact-flex-row-left\")), WebIO.Node{WebIO.DOM}(WebIO.DOM(:html, :div), Any[WebIO.Node{WebIO.DOM}(WebIO.DOM(:html, :input), Any[], Dict{Symbol, Any}(:max => 51, :min => 1, :attributes => Dict{Any, Any}(:type => \"range\", Symbol(\"data-bind\") => \"numericValue: index, valueUpdate: 'input', event: {change: function (){this.changes(this.changes()+1)}}\", \"orient\" => \"horizontal\"), :step => 1, :className => \"slider slider is-fullwidth\", :style => Dict{Any, Any}()))], Dict{Symbol, Any}(:className => \"interact-flex-row-center\")), WebIO.Node{WebIO.DOM}(WebIO.DOM(:html, :div), Any[WebIO.Node{WebIO.DOM}(WebIO.DOM(:html, :p), Any[], Dict{Symbol, Any}(:attributes => Dict(\"data-bind\" => \"text: formatted_val\")))], Dict{Symbol, Any}(:className => \"interact-flex-row-right\"))], Dict{Symbol, Any}(:className => \"interact-flex-row interact-widget\", :style => Dict(\"font-family\" => \"monospace\", \"width\" => \"80%\"))), Dict{String, Tuple{Observables.AbstractObservable, Union{Nothing, Bool}}}(\"changes\" => (Observable(0), nothing), \"index\" => (Observable{Any}(26), nothing)), Set{String}(), nothing, WebIO.Asset[WebIO.Asset(\"js\", \"knockout\", \"/Users/soohkim/.julia/packages/Knockout/HReiN/src/../assets/knockout.js\"), WebIO.Asset(\"js\", \"knockout_punches\", \"/Users/soohkim/.julia/packages/Knockout/HReiN/src/../assets/knockout_punches.js\"), WebIO.Asset(\"js\", nothing, \"/Users/soohkim/.julia/packages/InteractBase/Qhvxg/src/../assets/all.js\"), WebIO.Asset(\"css\", nothing, \"/Users/soohkim/.julia/packages/InteractBase/Qhvxg/src/../assets/style.css\"), WebIO.Asset(\"css\", nothing, \"/Users/soohkim/.julia/packages/Interact/PENUy/src/../assets/bulma_confined.min.css\")], Dict{Any, Any}(\"changes\" => Any[WebIO.JSString(\"(function (val){return (val!=this.model[\\\"changes\\\"]()) ? (this.valueFromJulia[\\\"changes\\\"]=true, this.model[\\\"changes\\\"](val)) : undefined})\")], \"index\" => Any[WebIO.JSString(\"(function (val){return (val!=this.model[\\\"index\\\"]()) ? (this.valueFromJulia[\\\"index\\\"]=true, this.model[\\\"index\\\"](val)) : undefined})\")]), WebIO.ConnectionPool(Channel{Any}(32), Set{WebIO.AbstractConnection}(), Condition(Base.InvasiveLinkedList{Task}(Task (runnable) @0x000000015eb1f490, Task (runnable) @0x000000015eb1f490), Base.AlwaysLockedST(1))), WebIO.JSString[WebIO.JSString(\"function () {\\n    var handler = (function (ko, koPunches) {\\n    ko.punches.enableAll();\\n    ko.bindingHandlers.numericValue = {\\n        init: function(element, valueAccessor, allBindings, data, context) {\\n            var stringified = ko.observable(ko.unwrap(valueAccessor()));\\n            stringified.subscribe(function(value) {\\n                var val = parseFloat(value);\\n                if (!isNaN(val)) {\\n                    valueAccessor()(val);\\n                }\\n            });\\n            valueAccessor().subscribe(function(value) {\\n                var str = JSON.stringify(value);\\n                if ((str == \\\"0\\\") && ([\\\"-0\\\", \\\"-0.\\\"].indexOf(stringified()) >= 0))\\n                     return;\\n                 if ([\\\"null\\\", \\\"\\\"].indexOf(str) >= 0)\\n                     return;\\n                stringified(str);\\n            });\\n            ko.applyBindingsToNode(\\n                element,\\n                {\\n                    value: stringified,\\n                    valueUpdate: allBindings.get('valueUpdate'),\\n                },\\n                context,\\n            );\\n        }\\n    };\\n    var json_data = {\\\"formatted_vals\\\":[\\\"0\\\",\\\"1\\\",\\\"2\\\",\\\"3\\\",\\\"4\\\",\\\"5\\\",\\\"6\\\",\\\"7\\\",\\\"8\\\",\\\"9\\\",\\\"10\\\",\\\"11\\\",\\\"12\\\",\\\"13\\\",\\\"14\\\",\\\"15\\\",\\\"16\\\",\\\"17\\\",\\\"18\\\",\\\"19\\\",\\\"20\\\",\\\"21\\\",\\\"22\\\",\\\"23\\\",\\\"24\\\",\\\"25\\\",\\\"26\\\",\\\"27\\\",\\\"28\\\",\\\"29\\\",\\\"30\\\",\\\"31\\\",\\\"32\\\",\\\"33\\\",\\\"34\\\",\\\"35\\\",\\\"36\\\",\\\"37\\\",\\\"38\\\",\\\"39\\\",\\\"40\\\",\\\"41\\\",\\\"42\\\",\\\"43\\\",\\\"44\\\",\\\"45\\\",\\\"46\\\",\\\"47\\\",\\\"48\\\",\\\"49\\\",\\\"50\\\"],\\\"changes\\\":WebIO.getval({\\\"name\\\":\\\"changes\\\",\\\"scope\\\":\\\"9442539662729636859\\\",\\\"id\\\":\\\"14655695854634784498\\\",\\\"type\\\":\\\"observable\\\"}),\\\"index\\\":WebIO.getval({\\\"name\\\":\\\"index\\\",\\\"scope\\\":\\\"9442539662729636859\\\",\\\"id\\\":\\\"2597535847221651949\\\",\\\"type\\\":\\\"observable\\\"})};\\n    var self = this;\\n    function AppViewModel() {\\n        for (var key in json_data) {\\n            var el = json_data[key];\\n            this[key] = Array.isArray(el) ? ko.observableArray(el) : ko.observable(el);\\n        }\\n        \\n        [this[\\\"formatted_val\\\"]=ko.computed(    function(){\\n        return this.formatted_vals()[parseInt(this.index())-(1)];\\n    }\\n,this)]\\n        [this[\\\"changes\\\"].subscribe((function (val){!(this.valueFromJulia[\\\"changes\\\"]) ? (WebIO.setval({\\\"name\\\":\\\"changes\\\",\\\"scope\\\":\\\"9442539662729636859\\\",\\\"id\\\":\\\"14655695854634784498\\\",\\\"type\\\":\\\"observable\\\"},val)) : undefined; return this.valueFromJulia[\\\"changes\\\"]=false}),self),this[\\\"index\\\"].subscribe((function (val){!(this.valueFromJulia[\\\"index\\\"]) ? (WebIO.setval({\\\"name\\\":\\\"index\\\",\\\"scope\\\":\\\"9442539662729636859\\\",\\\"id\\\":\\\"2597535847221651949\\\",\\\"type\\\":\\\"observable\\\"},val)) : undefined; return this.valueFromJulia[\\\"index\\\"]=false}),self)]\\n        \\n    }\\n    self.model = new AppViewModel();\\n    self.valueFromJulia = {};\\n    for (var key in json_data) {\\n        self.valueFromJulia[key] = false;\\n    }\\n    ko.applyBindings(self.model, self.dom);\\n}\\n);\\n    (WebIO.importBlock({\\\"data\\\":[{\\\"name\\\":\\\"knockout\\\",\\\"type\\\":\\\"js\\\",\\\"url\\\":\\\"/assetserver/c0689c4f2514def856941022372b529b3413f129-knockout.js\\\"},{\\\"name\\\":\\\"knockout_punches\\\",\\\"type\\\":\\\"js\\\",\\\"url\\\":\\\"/assetserver/69274bc4b68b761587a57ff3f5e787f3dd4781dc-knockout_punches.js\\\"}],\\\"type\\\":\\\"async_block\\\"})).then((imports) => handler.apply(this, imports));\\n}\\n\")])], Dict{Symbol, Any}(:className => \"field interact-widget\")), WebIO.Node{WebIO.DOM}(WebIO.DOM(:html, :div), Any[\"Nitrogen\"], Dict{Symbol, Any}(:style => Dict{String, Any}(\"color\" => :rebeccapurple, \"font-family\" => \"monospace\"))), WebIO.Node{WebIO.DOM}(WebIO.DOM(:html, :div), Any[WebIO.Scope(WebIO.Node{WebIO.DOM}(WebIO.DOM(:html, :div), Any[WebIO.Node{WebIO.DOM}(WebIO.DOM(:html, :div), Any[WebIO.Node{WebIO.DOM}(WebIO.DOM(:html, :label), Any[\"N\"], Dict{Symbol, Any}(:className => \"interact \", :style => Dict{Any, Any}(:padding => \"5px 10px 0px 10px\", \"white-space\" => :nowrap, \"color\" => :royalblue)))], Dict{Symbol, Any}(:className => \"interact-flex-row-left\")), WebIO.Node{WebIO.DOM}(WebIO.DOM(:html, :div), Any[WebIO.Node{WebIO.DOM}(WebIO.DOM(:html, :input), Any[], Dict{Symbol, Any}(:max => 41, :min => 1, :attributes => Dict{Any, Any}(:type => \"range\", Symbol(\"data-bind\") => \"numericValue: index, valueUpdate: 'input', event: {change: function (){this.changes(this.changes()+1)}}\", \"orient\" => \"horizontal\"), :step => 1, :className => \"slider slider is-fullwidth\", :style => Dict{Any, Any}()))], Dict{Symbol, Any}(:className => \"interact-flex-row-center\")), WebIO.Node{WebIO.DOM}(WebIO.DOM(:html, :div), Any[WebIO.Node{WebIO.DOM}(WebIO.DOM(:html, :p), Any[], Dict{Symbol, Any}(:attributes => Dict(\"data-bind\" => \"text: formatted_val\")))], Dict{Symbol, Any}(:className => \"interact-flex-row-right\"))], Dict{Symbol, Any}(:className => \"interact-flex-row interact-widget\", :style => Dict(\"font-family\" => \"monospace\", \"width\" => \"80%\"))), Dict{String, Tuple{Observables.AbstractObservable, Union{Nothing, Bool}}}(\"changes\" => (Observable(0), nothing), \"index\" => (Observable{Any}(21), nothing)), Set{String}(), nothing, WebIO.Asset[WebIO.Asset(\"js\", \"knockout\", \"/Users/soohkim/.julia/packages/Knockout/HReiN/src/../assets/knockout.js\"), WebIO.Asset(\"js\", \"knockout_punches\", \"/Users/soohkim/.julia/packages/Knockout/HReiN/src/../assets/knockout_punches.js\"), WebIO.Asset(\"js\", nothing, \"/Users/soohkim/.julia/packages/InteractBase/Qhvxg/src/../assets/all.js\"), WebIO.Asset(\"css\", nothing, \"/Users/soohkim/.julia/packages/InteractBase/Qhvxg/src/../assets/style.css\"), WebIO.Asset(\"css\", nothing, \"/Users/soohkim/.julia/packages/Interact/PENUy/src/../assets/bulma_confined.min.css\")], Dict{Any, Any}(\"changes\" => Any[WebIO.JSString(\"(function (val){return (val!=this.model[\\\"changes\\\"]()) ? (this.valueFromJulia[\\\"changes\\\"]=true, this.model[\\\"changes\\\"](val)) : undefined})\")], \"index\" => Any[WebIO.JSString(\"(function (val){return (val!=this.model[\\\"index\\\"]()) ? (this.valueFromJulia[\\\"index\\\"]=true, this.model[\\\"index\\\"](val)) : undefined})\")]), WebIO.ConnectionPool(Channel{Any}(32), Set{WebIO.AbstractConnection}(), Condition(Base.InvasiveLinkedList{Task}(Task (runnable) @0x000000015eb1fb20, Task (runnable) @0x000000015eb1fb20), Base.AlwaysLockedST(1))), WebIO.JSString[WebIO.JSString(\"function () {\\n    var handler = (function (ko, koPunches) {\\n    ko.punches.enableAll();\\n    ko.bindingHandlers.numericValue = {\\n        init: function(element, valueAccessor, allBindings, data, context) {\\n            var stringified = ko.observable(ko.unwrap(valueAccessor()));\\n            stringified.subscribe(function(value) {\\n                var val = parseFloat(value);\\n                if (!isNaN(val)) {\\n                    valueAccessor()(val);\\n                }\\n            });\\n            valueAccessor().subscribe(function(value) {\\n                var str = JSON.stringify(value);\\n                if ((str == \\\"0\\\") && ([\\\"-0\\\", \\\"-0.\\\"].indexOf(stringified()) >= 0))\\n                     return;\\n                 if ([\\\"null\\\", \\\"\\\"].indexOf(str) >= 0)\\n                     return;\\n                stringified(str);\\n            });\\n            ko.applyBindingsToNode(\\n                element,\\n                {\\n                    value: stringified,\\n                    valueUpdate: allBindings.get('valueUpdate'),\\n                },\\n                context,\\n            );\\n        }\\n    };\\n    var json_data = {\\\"formatted_vals\\\":[\\\"0.0\\\",\\\"0.1\\\",\\\"0.2\\\",\\\"0.3\\\",\\\"0.4\\\",\\\"0.5\\\",\\\"0.6\\\",\\\"0.7\\\",\\\"0.8\\\",\\\"0.9\\\",\\\"1.0\\\",\\\"1.1\\\",\\\"1.2\\\",\\\"1.3\\\",\\\"1.4\\\",\\\"1.5\\\",\\\"1.6\\\",\\\"1.7\\\",\\\"1.8\\\",\\\"1.9\\\",\\\"2.0\\\",\\\"2.1\\\",\\\"2.2\\\",\\\"2.3\\\",\\\"2.4\\\",\\\"2.5\\\",\\\"2.6\\\",\\\"2.7\\\",\\\"2.8\\\",\\\"2.9\\\",\\\"3.0\\\",\\\"3.1\\\",\\\"3.2\\\",\\\"3.3\\\",\\\"3.4\\\",\\\"3.5\\\",\\\"3.6\\\",\\\"3.7\\\",\\\"3.8\\\",\\\"3.9\\\",\\\"4.0\\\"],\\\"changes\\\":WebIO.getval({\\\"name\\\":\\\"changes\\\",\\\"scope\\\":\\\"14594871242597144354\\\",\\\"id\\\":\\\"4370177567468346306\\\",\\\"type\\\":\\\"observable\\\"}),\\\"index\\\":WebIO.getval({\\\"name\\\":\\\"index\\\",\\\"scope\\\":\\\"14594871242597144354\\\",\\\"id\\\":\\\"16440233798925792654\\\",\\\"type\\\":\\\"observable\\\"})};\\n    var self = this;\\n    function AppViewModel() {\\n        for (var key in json_data) {\\n            var el = json_data[key];\\n            this[key] = Array.isArray(el) ? ko.observableArray(el) : ko.observable(el);\\n        }\\n        \\n        [this[\\\"formatted_val\\\"]=ko.computed(    function(){\\n        return this.formatted_vals()[parseInt(this.index())-(1)];\\n    }\\n,this)]\\n        [this[\\\"changes\\\"].subscribe((function (val){!(this.valueFromJulia[\\\"changes\\\"]) ? (WebIO.setval({\\\"name\\\":\\\"changes\\\",\\\"scope\\\":\\\"14594871242597144354\\\",\\\"id\\\":\\\"4370177567468346306\\\",\\\"type\\\":\\\"observable\\\"},val)) : undefined; return this.valueFromJulia[\\\"changes\\\"]=false}),self),this[\\\"index\\\"].subscribe((function (val){!(this.valueFromJulia[\\\"index\\\"]) ? (WebIO.setval({\\\"name\\\":\\\"index\\\",\\\"scope\\\":\\\"14594871242597144354\\\",\\\"id\\\":\\\"16440233798925792654\\\",\\\"type\\\":\\\"observable\\\"},val)) : undefined; return this.valueFromJulia[\\\"index\\\"]=false}),self)]\\n        \\n    }\\n    self.model = new AppViewModel();\\n    self.valueFromJulia = {};\\n    for (var key in json_data) {\\n        self.valueFromJulia[key] = false;\\n    }\\n    ko.applyBindings(self.model, self.dom);\\n}\\n);\\n    (WebIO.importBlock({\\\"data\\\":[{\\\"name\\\":\\\"knockout\\\",\\\"type\\\":\\\"js\\\",\\\"url\\\":\\\"/assetserver/c0689c4f2514def856941022372b529b3413f129-knockout.js\\\"},{\\\"name\\\":\\\"knockout_punches\\\",\\\"type\\\":\\\"js\\\",\\\"url\\\":\\\"/assetserver/69274bc4b68b761587a57ff3f5e787f3dd4781dc-knockout_punches.js\\\"}],\\\"type\\\":\\\"async_block\\\"})).then((imports) => handler.apply(this, imports));\\n}\\n\")])], Dict{Symbol, Any}(:className => \"field interact-widget\")), Observable(Gadfly.Plot(Gadfly.Layer[Gadfly.Layer(nothing, Dict{Symbol, Any}(:y => [0.010033576473944594, 0.01004227817518933, 0.010053249464025448, 0.010067085649013058, 0.010084536958988578, 0.010106550712560187, 0.010134320736881206, 0.010169466157574808, 0.01021389503900475, 0.0102701546298627  …  0.19640689298970898, 0.19954841943615992, 0.20211489482425987, 0.2042001185693219, 0.20588749129524797, 0.20724742447485037, 0.20834039733842422, 0.20921626077307448, 0.20991851204456224, 0.21047845326888678], :x => [-5.0, -4.9, -4.8, -4.7, -4.6, -4.5, -4.4, -4.3, -4.2, -4.1  …  -0.9, -0.8, -0.7, -0.6, -0.5, -0.4, -0.3, -0.2, -0.1, 0.0]), Gadfly.StatisticElement[], Gadfly.Geom.LineGeometry(Gadfly.Stat.Identity(), false, 2, Symbol(\"\")), Gadfly.Theme(LCHab{Float32}(70.0f0,60.0f0,240.0f0), 0.7mm, 0.45mm, 1.8mm, Gadfly.Scale.default_discrete_sizes, Gadfly.Scale.default_continuous_sizes, Gadfly.Scale.default_discrete_colors, Function[Compose.circle, Gadfly.Shape.square, Gadfly.Shape.diamond, Gadfly.Shape.cross, Gadfly.Shape.xcross, Gadfly.Shape.utriangle, Gadfly.Shape.dtriangle, Gadfly.Shape.star1, Gadfly.Shape.star2, Gadfly.Shape.hexagon, Gadfly.Shape.octagon, Gadfly.Shape.hline, Gadfly.Shape.vline, Gadfly.Shape.ltriangle, Gadfly.Shape.rtriangle], 0.3mm, [:solid, :dash, :dot, :dashdot, :dashdotdot, :ldash, :ldashdash, :ldashdot, :ldashdashdot], [1.0, 0.9, 0.8, 0.7, 0.6, 0.5, 0.4, 0.3, 0.2, 0.1, 0.0], nothing, nothing, 0.3mm, 0.0, RGB{N0f8}(1.0,1.0,1.0), Measures.AbsoluteLength[5.0mm, 5.0mm, 5.0mm, 0.0mm], RGB{N0f8}(0.816,0.816,0.878), Measures.AbsoluteLength[0.5mm, 0.5mm], RGB{N0f8}(0.627,0.627,0.627), 0.2mm, 0, \"'PT Sans Caption','Helvetica Neue','Helvetica',sans-serif\", 2.822222222222222mm, RGB{N0f8}(0.424,0.376,0.42), \"'PT Sans','Helvetica Neue','Helvetica',sans-serif\", 3.5277777777777777mm, RGB{N0f8}(0.337,0.29,0.333), \"'PT Sans Caption','Helvetica Neue','Helvetica',sans-serif\", 2.822222222222222mm, RGB{N0f8}(0.298,0.251,0.294), \"'PT Sans','Helvetica Neue','Helvetica',sans-serif\", 3.175mm, RGB{N0f8}(0.212,0.165,0.208), \"'PT Sans','Helvetica Neue','Helvetica',sans-serif\", 2.822222222222222mm, RGB{N0f8}(0.298,0.251,0.294), 40, -0.05mm, 1.0mm, 3.0mm, Gadfly.default_stroke_color, 0.3mm, Cropbox.var\"#603#612\"(), Gadfly.default_continuous_highlight_color, Gadfly.default_lowlight_color, Gadfly.default_middle_color, 0.6mm, :left, :square, nothing, nothing, nothing, :right, nothing, 2.0mm, 1000, 10.0, 0.5, 0.2, 1.0mm, 4, Gadfly.Scale.DiscreteColorScale(Gadfly.Scale.default_discrete_colors, nothing, nothing, true), Gadfly.Scale.ContinuousColorScale(Gadfly.Scale.var\"#73#77\"{Int64, Int64, Int64, Int64, Float64, Int64}(100, 40, 260, 10, 1.5, 70), Gadfly.Scale.ContinuousScaleTransform(identity, identity, Gadfly.Scale.identity_formatter), nothing, nothing)), 1), Gadfly.Layer(nothing, Dict{Symbol, Any}(:y => [0.010030545422957275, 0.010038466100187222, 0.010048437414685496, 0.010061013855963625, 0.010076878225155895, 0.010096856067028702, 0.010122104109638262, 0.010153961728893664, 0.010194315659571556, 0.010245262191869726  …  0.3858138921099909, 0.39302961477478854, 0.3989245426187243, 0.40371698379009424, 0.40759355197403474, 0.4107179759120524, 0.4132343246994671, 0.41524862786239847, 0.41686238519413743, 0.41815108599813944], :x => [-5.0, -4.9, -4.8, -4.7, -4.6, -4.5, -4.4, -4.3, -4.2, -4.1  …  -0.9, -0.8, -0.7, -0.6, -0.5, -0.4, -0.3, -0.2, -0.1, 0.0]), Gadfly.StatisticElement[], Gadfly.Geom.LineGeometry(Gadfly.Stat.Identity(), false, 2, Symbol(\"\")), Gadfly.Theme(LCHab{Float32}(80.0f0,70.000015f0,100.43479f0), 0.7mm, 0.45mm, 1.8mm, Gadfly.Scale.default_discrete_sizes, Gadfly.Scale.default_continuous_sizes, Gadfly.Scale.default_discrete_colors, Function[Compose.circle, Gadfly.Shape.square, Gadfly.Shape.diamond, Gadfly.Shape.cross, Gadfly.Shape.xcross, Gadfly.Shape.utriangle, Gadfly.Shape.dtriangle, Gadfly.Shape.star1, Gadfly.Shape.star2, Gadfly.Shape.hexagon, Gadfly.Shape.octagon, Gadfly.Shape.hline, Gadfly.Shape.vline, Gadfly.Shape.ltriangle, Gadfly.Shape.rtriangle], 0.3mm, [:solid, :dash, :dot, :dashdot, :dashdotdot, :ldash, :ldashdash, :ldashdot, :ldashdashdot], [1.0, 0.9, 0.8, 0.7, 0.6, 0.5, 0.4, 0.3, 0.2, 0.1, 0.0], nothing, nothing, 0.3mm, 0.0, RGB{N0f8}(1.0,1.0,1.0), Measures.AbsoluteLength[5.0mm, 5.0mm, 5.0mm, 0.0mm], RGB{N0f8}(0.816,0.816,0.878), Measures.AbsoluteLength[0.5mm, 0.5mm], RGB{N0f8}(0.627,0.627,0.627), 0.2mm, 0, \"'PT Sans Caption','Helvetica Neue','Helvetica',sans-serif\", 2.822222222222222mm, RGB{N0f8}(0.424,0.376,0.42), \"'PT Sans','Helvetica Neue','Helvetica',sans-serif\", 3.5277777777777777mm, RGB{N0f8}(0.337,0.29,0.333), \"'PT Sans Caption','Helvetica Neue','Helvetica',sans-serif\", 2.822222222222222mm, RGB{N0f8}(0.298,0.251,0.294), \"'PT Sans','Helvetica Neue','Helvetica',sans-serif\", 3.175mm, RGB{N0f8}(0.212,0.165,0.208), \"'PT Sans','Helvetica Neue','Helvetica',sans-serif\", 2.822222222222222mm, RGB{N0f8}(0.298,0.251,0.294), 40, -0.05mm, 1.0mm, 3.0mm, Gadfly.default_stroke_color, 0.3mm, Cropbox.var\"#603#612\"(), Gadfly.default_continuous_highlight_color, Gadfly.default_lowlight_color, Gadfly.default_middle_color, 0.6mm, :left, :square, nothing, nothing, nothing, :right, nothing, 2.0mm, 1000, 10.0, 0.5, 0.2, 1.0mm, 4, Gadfly.Scale.DiscreteColorScale(Gadfly.Scale.default_discrete_colors, nothing, nothing, true), Gadfly.Scale.ContinuousColorScale(Gadfly.Scale.var\"#73#77\"{Int64, Int64, Int64, Int64, Float64, Int64}(100, 40, 260, 10, 1.5, 70), Gadfly.Scale.ContinuousScaleTransform(identity, identity, Gadfly.Scale.identity_formatter), nothing, nothing)), 2), Gadfly.Layer(nothing, Dict{Symbol, Any}(:y => [0.010027485139039751, 0.010034600552511857, 0.010043576098710687, 0.010054873666403445, 0.01006912612576474, 0.01008711047751967, 0.010109755086656855, 0.010138384855374855, 0.01017451853581922, 0.010220214367945653  …  0.40568469167221527, 0.41557200599682376, 0.4236701508191573, 0.43026786917618537, 0.43561307239764235, 0.4399185754126601, 0.4433910662680563, 0.4461735216120801, 0.4484035229583408, 0.4501797629532657], :x => [-5.0, -4.9, -4.8, -4.7, -4.6, -4.5, -4.4, -4.3, -4.2, -4.1  …  -0.9, -0.8, -0.7, -0.6, -0.5, -0.4, -0.3, -0.2, -0.1, 0.0]), Gadfly.StatisticElement[], Gadfly.Geom.LineGeometry(Gadfly.Stat.Identity(), false, 2, Symbol(\"\")), Gadfly.Theme(LCHab{Float32}(65.89944f0,62.21457f0,353.99814f0), 0.7mm, 0.45mm, 1.8mm, Gadfly.Scale.default_discrete_sizes, Gadfly.Scale.default_continuous_sizes, Gadfly.Scale.default_discrete_colors, Function[Compose.circle, Gadfly.Shape.square, Gadfly.Shape.diamond, Gadfly.Shape.cross, Gadfly.Shape.xcross, Gadfly.Shape.utriangle, Gadfly.Shape.dtriangle, Gadfly.Shape.star1, Gadfly.Shape.star2, Gadfly.Shape.hexagon, Gadfly.Shape.octagon, Gadfly.Shape.hline, Gadfly.Shape.vline, Gadfly.Shape.ltriangle, Gadfly.Shape.rtriangle], 0.3mm, [:solid, :dash, :dot, :dashdot, :dashdotdot, :ldash, :ldashdash, :ldashdot, :ldashdashdot], [1.0, 0.9, 0.8, 0.7, 0.6, 0.5, 0.4, 0.3, 0.2, 0.1, 0.0], nothing, nothing, 0.3mm, 0.0, RGB{N0f8}(1.0,1.0,1.0), Measures.AbsoluteLength[5.0mm, 5.0mm, 5.0mm, 0.0mm], RGB{N0f8}(0.816,0.816,0.878), Measures.AbsoluteLength[0.5mm, 0.5mm], RGB{N0f8}(0.627,0.627,0.627), 0.2mm, 0, \"'PT Sans Caption','Helvetica Neue','Helvetica',sans-serif\", 2.822222222222222mm, RGB{N0f8}(0.424,0.376,0.42), \"'PT Sans','Helvetica Neue','Helvetica',sans-serif\", 3.5277777777777777mm, RGB{N0f8}(0.337,0.29,0.333), \"'PT Sans Caption','Helvetica Neue','Helvetica',sans-serif\", 2.822222222222222mm, RGB{N0f8}(0.298,0.251,0.294), \"'PT Sans','Helvetica Neue','Helvetica',sans-serif\", 3.175mm, RGB{N0f8}(0.212,0.165,0.208), \"'PT Sans','Helvetica Neue','Helvetica',sans-serif\", 2.822222222222222mm, RGB{N0f8}(0.298,0.251,0.294), 40, -0.05mm, 1.0mm, 3.0mm, Gadfly.default_stroke_color, 0.3mm, Cropbox.var\"#603#612\"(), Gadfly.default_continuous_highlight_color, Gadfly.default_lowlight_color, Gadfly.default_middle_color, 0.6mm, :left, :square, nothing, nothing, nothing, :right, nothing, 2.0mm, 1000, 10.0, 0.5, 0.2, 1.0mm, 4, Gadfly.Scale.DiscreteColorScale(Gadfly.Scale.default_discrete_colors, nothing, nothing, true), Gadfly.Scale.ContinuousColorScale(Gadfly.Scale.var\"#73#77\"{Int64, Int64, Int64, Int64, Float64, Int64}(100, 40, 260, 10, 1.5, 70), Gadfly.Scale.ContinuousScaleTransform(identity, identity, Gadfly.Scale.identity_formatter), nothing, nothing)), 3)], nothing, Data(\n",
       "  titles=Dict{Symbol, AbstractString}()\n",
       ")\n",
       ", Gadfly.ScaleElement[], Gadfly.StatisticElement[], Gadfly.Coord.Cartesian([:x, :xmin, :xmax, :xintercept], [:y, :ymin, :ymax, :yintercept, :middle, :lower_hinge, :upper_hinge, :lower_fence, :upper_fence, :outliers], -5, 0, 0, 1, false, false, false, nothing, false), Gadfly.GuideElement[Gadfly.Guide.Title(\"\"), Gadfly.Guide.XLabel(\"WP_leaf (MPa)\", :auto), Gadfly.Guide.YLabel(\"gs (mol bar⁻¹ m⁻² s⁻¹)\", :auto), Gadfly.Guide.ManualDiscreteKey(\"CO2 (μmol mol⁻¹)\", [\"1000 μmol mol⁻¹\", \"400 μmol mol⁻¹\", \"250 μmol mol⁻¹\"], Any[], ColorTypes.Colorant[LCHab{Float32}(70.0f0,60.0f0,240.0f0), LCHab{Float32}(80.0f0,70.000015f0,100.43479f0), LCHab{Float32}(65.89944f0,62.21457f0,353.99814f0)], Function[], Measures.Measure[], true)], Gadfly.Theme(LCHab{Float32}(70.0f0,60.0f0,240.0f0), 0.7mm, 0.45mm, 1.8mm, Gadfly.Scale.default_discrete_sizes, Gadfly.Scale.default_continuous_sizes, Gadfly.Scale.default_discrete_colors, Function[Compose.circle, Gadfly.Shape.square, Gadfly.Shape.diamond, Gadfly.Shape.cross, Gadfly.Shape.xcross, Gadfly.Shape.utriangle, Gadfly.Shape.dtriangle, Gadfly.Shape.star1, Gadfly.Shape.star2, Gadfly.Shape.hexagon, Gadfly.Shape.octagon, Gadfly.Shape.hline, Gadfly.Shape.vline, Gadfly.Shape.ltriangle, Gadfly.Shape.rtriangle], 0.3mm, [:solid, :dash, :dot, :dashdot, :dashdotdot, :ldash, :ldashdash, :ldashdot, :ldashdashdot], [1.0, 0.9, 0.8, 0.7, 0.6, 0.5, 0.4, 0.3, 0.2, 0.1, 0.0], nothing, nothing, 0.3mm, 0.0, RGB{N0f8}(1.0,1.0,1.0), Measures.AbsoluteLength[5.0mm, 5.0mm, 5.0mm, 0.0mm], RGB{N0f8}(0.816,0.816,0.878), Measures.AbsoluteLength[0.5mm, 0.5mm], RGB{N0f8}(0.627,0.627,0.627), 0.2mm, 0, \"'PT Sans Caption','Helvetica Neue','Helvetica',sans-serif\", 2.822222222222222mm, RGB{N0f8}(0.424,0.376,0.42), \"'PT Sans','Helvetica Neue','Helvetica',sans-serif\", 3.5277777777777777mm, RGB{N0f8}(0.337,0.29,0.333), \"'PT Sans Caption','Helvetica Neue','Helvetica',sans-serif\", 2.822222222222222mm, RGB{N0f8}(0.298,0.251,0.294), \"'PT Sans','Helvetica Neue','Helvetica',sans-serif\", 3.175mm, RGB{N0f8}(0.212,0.165,0.208), \"'PT Sans','Helvetica Neue','Helvetica',sans-serif\", 2.822222222222222mm, RGB{N0f8}(0.298,0.251,0.294), 40, -0.05mm, 1.0mm, 3.0mm, Gadfly.default_stroke_color, 0.3mm, Cropbox.var\"#603#612\"(), Gadfly.default_continuous_highlight_color, Gadfly.default_lowlight_color, Gadfly.default_middle_color, 0.6mm, :left, :square, nothing, nothing, nothing, :right, nothing, 2.0mm, 1000, 10.0, 0.5, 0.2, 1.0mm, 4, Gadfly.Scale.DiscreteColorScale(Gadfly.Scale.default_discrete_colors, nothing, nothing, true), Gadfly.Scale.ContinuousColorScale(Gadfly.Scale.var\"#73#77\"{Int64, Int64, Int64, Int64, Float64, Int64}(100, 40, 260, 10, 1.5, 70), Gadfly.Scale.ContinuousScaleTransform(identity, identity, Gadfly.Scale.identity_formatter), nothing, nothing)), Dict{Symbol, Any}()))], Dict{Symbol, Any}(:style => Dict(\"display\" => \"flex\", \"flex-direction\" => \"column\")))"
      ]
     },
     "execution_count": 13,
     "metadata": {
      "@webio": {
       "kernelId": "8436a56f-e476-4e97-9154-247f9c1a8fbe"
      }
     },
     "output_type": "execute_result"
    }
   ],
   "source": [
    "manipulate(ModelC3BB, :WP_leaf, :gs;\n",
    "        parameters = (\n",
    "    :Weather      => :RH     => 0:5:100,\n",
    "    :Weather      => :PFD   => 0:100:2000,\n",
    "    :Weather      => :T_air   => 0:1:50,        \n",
    "    :Nitrogen     => :N       => 0:0.1:4,        \n",
    "        ),\n",
    "    config = ge_C3base,\n",
    "    xstep = :StomataTuzet => :WP_leaf => -5:0.1:0,\n",
    "    group = CO2_group,\n",
    "    xlim = (-5,0),\n",
    "    ylim = (0,1),\n",
    "    kind = :line,\n",
    ")"
   ]
  }
 ],
 "metadata": {
  "@webio": {
   "lastCommId": "8ac59e5e-549a-4b84-b895-7fdea3499bf6",
   "lastKernelId": "8436a56f-e476-4e97-9154-247f9c1a8fbe"
  },
  "kernelspec": {
   "display_name": "Julia 1.8.5",
   "language": "julia",
   "name": "julia-1.8"
  },
  "language_info": {
   "file_extension": ".jl",
   "mimetype": "application/julia",
   "name": "julia",
   "version": "1.8.5"
  }
 },
 "nbformat": 4,
 "nbformat_minor": 4
}
