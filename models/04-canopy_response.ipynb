{
 "cells": [
  {
   "cell_type": "markdown",
   "metadata": {},
   "source": [
    "# Modelling Canopy Gas-Exchange Process"
   ]
  },
  {
   "cell_type": "markdown",
   "metadata": {},
   "source": [
    "<div class=\"alert alert-warning\">\n",
    "If figures/tables are not rendered correctly, make sure your notebook is `trusted` by choosing `Trust Notebook` command found in `View` - `Activate Command Palette` menu. Typing in the first letters (i.e. \"tr\") should give you the command.\n",
    "</div>"
   ]
  },
  {
   "cell_type": "code",
   "execution_count": null,
   "metadata": {},
   "outputs": [],
   "source": [
    "using Cropbox\n",
    "using LeafGasExchange"
   ]
  },
  {
   "cell_type": "markdown",
   "metadata": {},
   "source": [
    "We will use interactive plotting feature in this notebook. For this, we have to initialize [WebIO.jl](https://github.com/JuliaGizmos/WebIO.jl) manually when using [prebuilt system images](https://github.com/JuliaLang/PackageCompiler.jl) as we do with our JupyterHub environment."
   ]
  },
  {
   "cell_type": "code",
   "execution_count": null,
   "metadata": {},
   "outputs": [],
   "source": [
    "Cropbox.Interact.WebIO.setup(:ijulia)"
   ]
  },
  {
   "cell_type": "code",
   "execution_count": null,
   "metadata": {},
   "outputs": [],
   "source": [
    "using Logging\n",
    "# turn off warnings\n",
    "Logging.disable_logging(Logging.Warn)"
   ]
  },
  {
   "cell_type": "markdown",
   "metadata": {
    "tags": []
   },
   "source": [
    "## Canopy Gas-Exchange Responses"
   ]
  },
  {
   "cell_type": "markdown",
   "metadata": {},
   "source": [
    "For the following exercises, we're going to use gas-exchange model scaled to canopy level. Canopy-level models are named with suffix `C`. For example, `ModelC3BBC` is canopy-level C3 gas-exchange model coupled with Ball-Berry stomatal conductance model. We will be working with a rose canopy."
   ]
  },
  {
   "cell_type": "code",
   "execution_count": null,
   "metadata": {},
   "outputs": [],
   "source": [
    "using LeafGasExchange: C3, StomataBallBerry, Sun, Canopy, Radiation, LeafAngle, Weather"
   ]
  },
  {
   "cell_type": "code",
   "execution_count": null,
   "metadata": {
    "jupyter": {
     "source_hidden": true
    },
    "tags": []
   },
   "outputs": [],
   "source": [
    "# Create a gas-exchange configuration for a black cottownwood leaf (Populus trichocarpa)\n",
    "# Vcm25, Jm25, g1 were calibrated for POTR\n",
    "# other parameter estimates are from roses in Kim and Lieth (2003)\n",
    "ge_potr = @config (\n",
    "    :C3 => (\n",
    "        Vcm25 = 103.1, Jm25 = 167.8, \n",
    "        Rd25 = 1.26, Tp25 = 11.55, Kc25 = 404, Ko25 = 248, Eac = 59.4, Eao = 36.0, Ear = 66.4, EaVc = 45.5,\n",
    "        Eaj = 43.3, Hj = 219.4, Sj = 704.2, Γ25 = 36.9,\n",
    "    ),\n",
    "    :StomataBallBerry => (g0 = 0.01, g1 = 6.65), \n",
    "    :Weather => (\n",
    "        PFD = 1500,\n",
    "        CO2 = 400,\n",
    "        RH = 60,\n",
    "        T_air = 25,\n",
    "        wind = 2.0,\n",
    "    )\n",
    ");"
   ]
  },
  {
   "cell_type": "code",
   "execution_count": null,
   "metadata": {
    "jupyter": {
     "source_hidden": true
    },
    "tags": []
   },
   "outputs": [],
   "source": [
    "ge_canopy = @config(\n",
    "    ge_potr,\n",
    "    Sun => (;\n",
    "        day = 200,\n",
    "        hour = 12,\n",
    "    ),\n",
    "    Canopy => (;\n",
    "        LAI = 3,\n",
    "    ),\n",
    "    Radiation => (;\n",
    "        leaf_angle_factor = 3,\n",
    "        leaf_angle = LeafGasExchange.spherical,\n",
    "    )\n",
    ")"
   ]
  },
  {
   "cell_type": "code",
   "execution_count": null,
   "metadata": {
    "tags": []
   },
   "outputs": [],
   "source": [
    "co2_xstep = Weather => :CO2   => 10:10:1500;\n",
    "pfd_xstep = Weather => :PFD   => 0:20:2000;\n",
    "ta_xstep  = Weather => :T_air => 0:1:45;\n",
    "rh_xstep  = Weather => :RH    => 0:1:100;"
   ]
  },
  {
   "cell_type": "markdown",
   "metadata": {},
   "source": [
    "### Canopy photosynthetic response to light"
   ]
  },
  {
   "cell_type": "code",
   "execution_count": null,
   "metadata": {
    "tags": []
   },
   "outputs": [],
   "source": [
    "manipulate(ModelC3BBC, \"weather.PFD\", [:A_net, \"sunlit_gasexchange.A_net\", \"shaded_gasexchange.A_net\"];\n",
    "    config = ge_canopy,\n",
    "    parameters = (\n",
    "        Canopy => :LAI => 0:0.1:20,\n",
    "        Radiation => :leaf_angle => LeafAngle,\n",
    "        Sun => :τ => 0:0.01:1, \n",
    "    ),\n",
    "    xstep = pfd_xstep,\n",
    "    ylim = (-10,50),\n",
    "    kind = :line,\n",
    "    xlab = \"PFD\",\n",
    "    ylab = \"A_net\",\n",
    "    names = [\"Total\", \"Sunlit\", \"Shaded\"],\n",
    ")"
   ]
  },
  {
   "cell_type": "markdown",
   "metadata": {},
   "source": [
    "### Canopy photosynthesis with respect to LAI"
   ]
  },
  {
   "cell_type": "markdown",
   "metadata": {},
   "source": [
    "Here we test a hypothesis that a canopy with higher leaf area index (LAI) will have greater photosynthetic productivity. Discuss the modeling outcome and whether you accept or reject the hypothesis and why."
   ]
  },
  {
   "cell_type": "code",
   "execution_count": null,
   "metadata": {},
   "outputs": [],
   "source": [
    "manipulate(ModelC3BBC, :LAI, :A_net;\n",
    "    config = ge_canopy,\n",
    "    parameters = (\n",
    "        Sun => :τ => 0:0.01:1,    \n",
    "        Weather => :PFD  => 0:100:2500,\n",
    "        Weather => :CO2  => 50:10:1500,\n",
    "        Weather => :T_air  => 10:1:45,        \n",
    "        C3 => :Vcm25 => 0:5.0:200, \n",
    "        C3 => :Jm25 =>  0:5.0:320, \n",
    "        C3 => :Rd25 =>  0:0.1:4.0,         \n",
    "        Radiation => :leaf_angle => LeafAngle,        \n",
    "    ),\n",
    "    xstep = :0 => :LAI => 0:0.1:15,\n",
    "    ylim = (-10,80),\n",
    "    kind = :line,\n",
    ")"
   ]
  }
 ],
 "metadata": {
  "@webio": {
   "lastCommId": "32bc2e36-75a8-4c71-8fb6-aba95143fcd2",
   "lastKernelId": "f5a905a7-d3a0-45d5-a9d8-e5bd56575c96"
  },
  "kernelspec": {
   "display_name": "Julia 1.8.5",
   "language": "julia",
   "name": "julia-1.8"
  },
  "language_info": {
   "file_extension": ".jl",
   "mimetype": "application/julia",
   "name": "julia",
   "version": "1.8.5"
  }
 },
 "nbformat": 4,
 "nbformat_minor": 4
}
